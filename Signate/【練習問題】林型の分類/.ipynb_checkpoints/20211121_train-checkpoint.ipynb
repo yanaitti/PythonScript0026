{
 "cells": [
  {
   "cell_type": "code",
   "execution_count": 1,
   "id": "9ae07624",
   "metadata": {},
   "outputs": [],
   "source": []
  },
  {
   "cell_type": "code",
   "execution_count": 2,
   "id": "d04fb69d",
   "metadata": {},
   "outputs": [
    {
     "name": "stdout",
     "output_type": "stream",
     "text": [
      " ドライブ C のボリューム ラベルがありません。\n",
      " ボリューム シリアル番号は 5AD7-2869 です\n",
      "\n",
      " C:\\Users\\yanai\\OneDrive\\ドキュメント\\Python Scripts\\Signate\\【練習問題】林型の分類\\inputs のディレクトリ\n",
      "\n",
      "11/03/2021  19:26    <DIR>          .\n",
      "11/03/2021  19:26    <DIR>          ..\n",
      "11/03/2021  18:56         2,559,052 sample_submit.csv\n",
      "11/03/2021  18:56        38,982,818 test.tsv\n",
      "11/03/2021  18:56        39,562,946 train.tsv\n",
      "               3 個のファイル          81,104,816 バイト\n",
      "               2 個のディレクトリ  174,263,279,616 バイトの空き領域\n"
     ]
    }
   ],
   "source": [
    "!dir inputs"
   ]
  },
  {
   "cell_type": "code",
   "execution_count": 3,
   "id": "ddee56b5",
   "metadata": {},
   "outputs": [
    {
     "data": {
      "text/html": [
       "<div>\n",
       "<style scoped>\n",
       "    .dataframe tbody tr th:only-of-type {\n",
       "        vertical-align: middle;\n",
       "    }\n",
       "\n",
       "    .dataframe tbody tr th {\n",
       "        vertical-align: top;\n",
       "    }\n",
       "\n",
       "    .dataframe thead th {\n",
       "        text-align: right;\n",
       "    }\n",
       "</style>\n",
       "<table border=\"1\" class=\"dataframe\">\n",
       "  <thead>\n",
       "    <tr style=\"text-align: right;\">\n",
       "      <th></th>\n",
       "      <th>Elevation</th>\n",
       "      <th>Aspect</th>\n",
       "      <th>Slope</th>\n",
       "      <th>Horizontal_Distance_To_Hydrology</th>\n",
       "      <th>Vertical_Distance_To_Hydrology</th>\n",
       "      <th>Horizontal_Distance_To_Roadways</th>\n",
       "      <th>Hillshade_9am</th>\n",
       "      <th>Hillshade_Noon</th>\n",
       "      <th>Hillshade_3pm</th>\n",
       "      <th>Horizontal_Distance_To_Fire_Points</th>\n",
       "      <th>...</th>\n",
       "      <th>Soil_Type32</th>\n",
       "      <th>Soil_Type33</th>\n",
       "      <th>Soil_Type34</th>\n",
       "      <th>Soil_Type35</th>\n",
       "      <th>Soil_Type36</th>\n",
       "      <th>Soil_Type37</th>\n",
       "      <th>Soil_Type38</th>\n",
       "      <th>Soil_Type39</th>\n",
       "      <th>Soil_Type40</th>\n",
       "      <th>Cover_Type</th>\n",
       "    </tr>\n",
       "  </thead>\n",
       "  <tbody>\n",
       "    <tr>\n",
       "      <th>0</th>\n",
       "      <td>3189</td>\n",
       "      <td>202</td>\n",
       "      <td>28</td>\n",
       "      <td>518</td>\n",
       "      <td>-25</td>\n",
       "      <td>1723</td>\n",
       "      <td>194</td>\n",
       "      <td>251</td>\n",
       "      <td>175</td>\n",
       "      <td>3599</td>\n",
       "      <td>...</td>\n",
       "      <td>0</td>\n",
       "      <td>0</td>\n",
       "      <td>0</td>\n",
       "      <td>0</td>\n",
       "      <td>0</td>\n",
       "      <td>0</td>\n",
       "      <td>0</td>\n",
       "      <td>0</td>\n",
       "      <td>0</td>\n",
       "      <td>1</td>\n",
       "    </tr>\n",
       "    <tr>\n",
       "      <th>1</th>\n",
       "      <td>3220</td>\n",
       "      <td>14</td>\n",
       "      <td>4</td>\n",
       "      <td>90</td>\n",
       "      <td>5</td>\n",
       "      <td>5940</td>\n",
       "      <td>216</td>\n",
       "      <td>231</td>\n",
       "      <td>153</td>\n",
       "      <td>1153</td>\n",
       "      <td>...</td>\n",
       "      <td>0</td>\n",
       "      <td>0</td>\n",
       "      <td>0</td>\n",
       "      <td>0</td>\n",
       "      <td>0</td>\n",
       "      <td>0</td>\n",
       "      <td>0</td>\n",
       "      <td>0</td>\n",
       "      <td>0</td>\n",
       "      <td>1</td>\n",
       "    </tr>\n",
       "    <tr>\n",
       "      <th>3</th>\n",
       "      <td>3221</td>\n",
       "      <td>168</td>\n",
       "      <td>16</td>\n",
       "      <td>30</td>\n",
       "      <td>11</td>\n",
       "      <td>2577</td>\n",
       "      <td>231</td>\n",
       "      <td>244</td>\n",
       "      <td>139</td>\n",
       "      <td>2761</td>\n",
       "      <td>...</td>\n",
       "      <td>0</td>\n",
       "      <td>0</td>\n",
       "      <td>0</td>\n",
       "      <td>0</td>\n",
       "      <td>0</td>\n",
       "      <td>0</td>\n",
       "      <td>0</td>\n",
       "      <td>0</td>\n",
       "      <td>0</td>\n",
       "      <td>7</td>\n",
       "    </tr>\n",
       "    <tr>\n",
       "      <th>4</th>\n",
       "      <td>2967</td>\n",
       "      <td>308</td>\n",
       "      <td>14</td>\n",
       "      <td>201</td>\n",
       "      <td>42</td>\n",
       "      <td>1360</td>\n",
       "      <td>181</td>\n",
       "      <td>230</td>\n",
       "      <td>189</td>\n",
       "      <td>3164</td>\n",
       "      <td>...</td>\n",
       "      <td>0</td>\n",
       "      <td>0</td>\n",
       "      <td>0</td>\n",
       "      <td>0</td>\n",
       "      <td>0</td>\n",
       "      <td>0</td>\n",
       "      <td>0</td>\n",
       "      <td>0</td>\n",
       "      <td>0</td>\n",
       "      <td>1</td>\n",
       "    </tr>\n",
       "    <tr>\n",
       "      <th>6</th>\n",
       "      <td>3009</td>\n",
       "      <td>16</td>\n",
       "      <td>15</td>\n",
       "      <td>150</td>\n",
       "      <td>16</td>\n",
       "      <td>3650</td>\n",
       "      <td>206</td>\n",
       "      <td>208</td>\n",
       "      <td>137</td>\n",
       "      <td>5053</td>\n",
       "      <td>...</td>\n",
       "      <td>0</td>\n",
       "      <td>0</td>\n",
       "      <td>0</td>\n",
       "      <td>0</td>\n",
       "      <td>0</td>\n",
       "      <td>0</td>\n",
       "      <td>0</td>\n",
       "      <td>0</td>\n",
       "      <td>0</td>\n",
       "      <td>2</td>\n",
       "    </tr>\n",
       "    <tr>\n",
       "      <th>...</th>\n",
       "      <td>...</td>\n",
       "      <td>...</td>\n",
       "      <td>...</td>\n",
       "      <td>...</td>\n",
       "      <td>...</td>\n",
       "      <td>...</td>\n",
       "      <td>...</td>\n",
       "      <td>...</td>\n",
       "      <td>...</td>\n",
       "      <td>...</td>\n",
       "      <td>...</td>\n",
       "      <td>...</td>\n",
       "      <td>...</td>\n",
       "      <td>...</td>\n",
       "      <td>...</td>\n",
       "      <td>...</td>\n",
       "      <td>...</td>\n",
       "      <td>...</td>\n",
       "      <td>...</td>\n",
       "      <td>...</td>\n",
       "      <td>...</td>\n",
       "    </tr>\n",
       "    <tr>\n",
       "      <th>581005</th>\n",
       "      <td>3018</td>\n",
       "      <td>135</td>\n",
       "      <td>9</td>\n",
       "      <td>794</td>\n",
       "      <td>132</td>\n",
       "      <td>5891</td>\n",
       "      <td>235</td>\n",
       "      <td>236</td>\n",
       "      <td>133</td>\n",
       "      <td>5496</td>\n",
       "      <td>...</td>\n",
       "      <td>0</td>\n",
       "      <td>0</td>\n",
       "      <td>0</td>\n",
       "      <td>0</td>\n",
       "      <td>0</td>\n",
       "      <td>0</td>\n",
       "      <td>0</td>\n",
       "      <td>0</td>\n",
       "      <td>0</td>\n",
       "      <td>2</td>\n",
       "    </tr>\n",
       "    <tr>\n",
       "      <th>581007</th>\n",
       "      <td>3070</td>\n",
       "      <td>8</td>\n",
       "      <td>2</td>\n",
       "      <td>120</td>\n",
       "      <td>3</td>\n",
       "      <td>5334</td>\n",
       "      <td>217</td>\n",
       "      <td>235</td>\n",
       "      <td>155</td>\n",
       "      <td>2536</td>\n",
       "      <td>...</td>\n",
       "      <td>0</td>\n",
       "      <td>0</td>\n",
       "      <td>0</td>\n",
       "      <td>0</td>\n",
       "      <td>0</td>\n",
       "      <td>0</td>\n",
       "      <td>0</td>\n",
       "      <td>0</td>\n",
       "      <td>0</td>\n",
       "      <td>1</td>\n",
       "    </tr>\n",
       "    <tr>\n",
       "      <th>581009</th>\n",
       "      <td>2735</td>\n",
       "      <td>14</td>\n",
       "      <td>24</td>\n",
       "      <td>60</td>\n",
       "      <td>26</td>\n",
       "      <td>2227</td>\n",
       "      <td>190</td>\n",
       "      <td>184</td>\n",
       "      <td>123</td>\n",
       "      <td>360</td>\n",
       "      <td>...</td>\n",
       "      <td>0</td>\n",
       "      <td>0</td>\n",
       "      <td>0</td>\n",
       "      <td>0</td>\n",
       "      <td>0</td>\n",
       "      <td>0</td>\n",
       "      <td>0</td>\n",
       "      <td>0</td>\n",
       "      <td>0</td>\n",
       "      <td>2</td>\n",
       "    </tr>\n",
       "    <tr>\n",
       "      <th>581010</th>\n",
       "      <td>2813</td>\n",
       "      <td>44</td>\n",
       "      <td>17</td>\n",
       "      <td>150</td>\n",
       "      <td>32</td>\n",
       "      <td>1396</td>\n",
       "      <td>222</td>\n",
       "      <td>201</td>\n",
       "      <td>109</td>\n",
       "      <td>1254</td>\n",
       "      <td>...</td>\n",
       "      <td>0</td>\n",
       "      <td>0</td>\n",
       "      <td>0</td>\n",
       "      <td>0</td>\n",
       "      <td>0</td>\n",
       "      <td>0</td>\n",
       "      <td>0</td>\n",
       "      <td>0</td>\n",
       "      <td>0</td>\n",
       "      <td>2</td>\n",
       "    </tr>\n",
       "    <tr>\n",
       "      <th>581011</th>\n",
       "      <td>2900</td>\n",
       "      <td>90</td>\n",
       "      <td>15</td>\n",
       "      <td>532</td>\n",
       "      <td>89</td>\n",
       "      <td>1772</td>\n",
       "      <td>242</td>\n",
       "      <td>215</td>\n",
       "      <td>99</td>\n",
       "      <td>2794</td>\n",
       "      <td>...</td>\n",
       "      <td>0</td>\n",
       "      <td>0</td>\n",
       "      <td>0</td>\n",
       "      <td>0</td>\n",
       "      <td>0</td>\n",
       "      <td>0</td>\n",
       "      <td>0</td>\n",
       "      <td>0</td>\n",
       "      <td>0</td>\n",
       "      <td>2</td>\n",
       "    </tr>\n",
       "  </tbody>\n",
       "</table>\n",
       "<p>290506 rows × 55 columns</p>\n",
       "</div>"
      ],
      "text/plain": [
       "        Elevation  Aspect  Slope  Horizontal_Distance_To_Hydrology  \\\n",
       "0            3189     202     28                               518   \n",
       "1            3220      14      4                                90   \n",
       "3            3221     168     16                                30   \n",
       "4            2967     308     14                               201   \n",
       "6            3009      16     15                               150   \n",
       "...           ...     ...    ...                               ...   \n",
       "581005       3018     135      9                               794   \n",
       "581007       3070       8      2                               120   \n",
       "581009       2735      14     24                                60   \n",
       "581010       2813      44     17                               150   \n",
       "581011       2900      90     15                               532   \n",
       "\n",
       "        Vertical_Distance_To_Hydrology  Horizontal_Distance_To_Roadways  \\\n",
       "0                                  -25                             1723   \n",
       "1                                    5                             5940   \n",
       "3                                   11                             2577   \n",
       "4                                   42                             1360   \n",
       "6                                   16                             3650   \n",
       "...                                ...                              ...   \n",
       "581005                             132                             5891   \n",
       "581007                               3                             5334   \n",
       "581009                              26                             2227   \n",
       "581010                              32                             1396   \n",
       "581011                              89                             1772   \n",
       "\n",
       "        Hillshade_9am  Hillshade_Noon  Hillshade_3pm  \\\n",
       "0                 194             251            175   \n",
       "1                 216             231            153   \n",
       "3                 231             244            139   \n",
       "4                 181             230            189   \n",
       "6                 206             208            137   \n",
       "...               ...             ...            ...   \n",
       "581005            235             236            133   \n",
       "581007            217             235            155   \n",
       "581009            190             184            123   \n",
       "581010            222             201            109   \n",
       "581011            242             215             99   \n",
       "\n",
       "        Horizontal_Distance_To_Fire_Points  ...  Soil_Type32  Soil_Type33  \\\n",
       "0                                     3599  ...            0            0   \n",
       "1                                     1153  ...            0            0   \n",
       "3                                     2761  ...            0            0   \n",
       "4                                     3164  ...            0            0   \n",
       "6                                     5053  ...            0            0   \n",
       "...                                    ...  ...          ...          ...   \n",
       "581005                                5496  ...            0            0   \n",
       "581007                                2536  ...            0            0   \n",
       "581009                                 360  ...            0            0   \n",
       "581010                                1254  ...            0            0   \n",
       "581011                                2794  ...            0            0   \n",
       "\n",
       "        Soil_Type34  Soil_Type35  Soil_Type36  Soil_Type37  Soil_Type38  \\\n",
       "0                 0            0            0            0            0   \n",
       "1                 0            0            0            0            0   \n",
       "3                 0            0            0            0            0   \n",
       "4                 0            0            0            0            0   \n",
       "6                 0            0            0            0            0   \n",
       "...             ...          ...          ...          ...          ...   \n",
       "581005            0            0            0            0            0   \n",
       "581007            0            0            0            0            0   \n",
       "581009            0            0            0            0            0   \n",
       "581010            0            0            0            0            0   \n",
       "581011            0            0            0            0            0   \n",
       "\n",
       "        Soil_Type39  Soil_Type40  Cover_Type  \n",
       "0                 0            0           1  \n",
       "1                 0            0           1  \n",
       "3                 0            0           7  \n",
       "4                 0            0           1  \n",
       "6                 0            0           2  \n",
       "...             ...          ...         ...  \n",
       "581005            0            0           2  \n",
       "581007            0            0           1  \n",
       "581009            0            0           2  \n",
       "581010            0            0           2  \n",
       "581011            0            0           2  \n",
       "\n",
       "[290506 rows x 55 columns]"
      ]
     },
     "execution_count": 3,
     "metadata": {},
     "output_type": "execute_result"
    }
   ],
   "source": []
  },
  {
   "cell_type": "code",
   "execution_count": 4,
   "id": "0b0216e6",
   "metadata": {},
   "outputs": [
    {
     "data": {
      "text/plain": [
       "<AxesSubplot:>"
      ]
     },
     "execution_count": 4,
     "metadata": {},
     "output_type": "execute_result"
    },
    {
     "data": {
      "image/png": "[encoded data removed]",
      "text/plain": [
       "<Figure size 432x288 with 1 Axes>"
      ]
     },
     "metadata": {
      "needs_background": "light"
     },
     "output_type": "display_data"
    }
   ],
   "source": [
    "train['Cover_Type'].hist()"
   ]
  },
  {
   "cell_type": "code",
   "execution_count": 5,
   "id": "8e09a19e",
   "metadata": {},
   "outputs": [
    {
     "data": {
      "text/plain": [
       "2    141843\n",
       "1    105713\n",
       "3     17856\n",
       "7     10223\n",
       "6      8715\n",
       "5      4768\n",
       "4      1388\n",
       "Name: Cover_Type, dtype: int64"
      ]
     },
     "execution_count": 5,
     "metadata": {},
     "output_type": "execute_result"
    }
   ],
   "source": [
    "train['Cover_Type'].value_counts()"
   ]
  },
  {
   "cell_type": "code",
   "execution_count": 6,
   "id": "173acbb2",
   "metadata": {},
   "outputs": [],
   "source": [
    "from sklearn.preprocessing import StandardScaler\n",
    "\n",
    "scaler = StandardScaler()"
   ]
  },
  {
   "cell_type": "code",
   "execution_count": 7,
   "id": "1124d4a4",
   "metadata": {},
   "outputs": [],
   "source": [
    "X = train.drop('Cover_Type', axis=1)\n",
    "y = train['Cover_Type']"
   ]
  },
  {
   "cell_type": "code",
   "execution_count": 8,
   "id": "88b690fd",
   "metadata": {},
   "outputs": [],
   "source": [
    "X = scaler.fit_transform(X)"
   ]
  },
  {
   "cell_type": "code",
   "execution_count": 9,
   "id": "8fdae0a3",
   "metadata": {},
   "outputs": [],
   "source": [
    "y = y-1"
   ]
  },
  {
   "cell_type": "code",
   "execution_count": 10,
   "id": "c54db7db",
   "metadata": {},
   "outputs": [],
   "source": [
    "import numpy as np\n",
    "import lightgbm as lgb\n",
    "from sklearn.datasets import load_iris\n",
    "from sklearn.model_selection import train_test_split\n",
    "from sklearn.metrics import accuracy_score\n",
    "\n",
    "from sklearn.model_selection import StratifiedKFold\n",
    "from sklearn.model_selection import GridSearchCV\n"
   ]
  },
  {
   "cell_type": "code",
   "execution_count": 11,
   "id": "3265dc1f",
   "metadata": {},
   "outputs": [],
   "source": [
    "X_train, X_test, y_train, y_test = train_test_split(X, y, test_size=0.2, random_state=0)"
   ]
  },
  {
   "cell_type": "code",
   "execution_count": 12,
   "id": "b292fa24",
   "metadata": {},
   "outputs": [],
   "source": [
    "lgb_train = lgb.Dataset(X_train, y_train)\n",
    "lgb_eval = lgb.Dataset(X_test, y_test, reference=lgb_train)"
   ]
  },
  {
   "cell_type": "code",
   "execution_count": 13,
   "id": "fb3f9236",
   "metadata": {},
   "outputs": [],
   "source": [
    "skf = StratifiedKFold(n_splits=10,\n",
    "                      shuffle=True,\n",
    "                      random_state=0)"
   ]
  },
  {
   "cell_type": "code",
   "execution_count": 14,
   "id": "857c6c30",
   "metadata": {},
   "outputs": [],
   "source": [
    "# LightGBM parameters\n",
    "params = {\n",
    "        'task': 'train',\n",
    "#         'boosting_type': 'gbdt',\n",
    "        'objective': 'multiclass',\n",
    "        'metric': {'multi_logloss'},\n",
    "        'num_class': 7,\n",
    "#         'learning_rate': 0.1,\n",
    "#        'num_leaves': 23,\n",
    " #       'min_data_in_leaf': 1,\n",
    "#         'num_iteration': 100,\n",
    "        'verbose': 0\n",
    "}"
   ]
  },
  {
   "cell_type": "code",
   "execution_count": 15,
   "id": "2ebb756c",
   "metadata": {},
   "outputs": [],
   "source": [
    "# LightGBM parameters\n",
    "param_grid = {\n",
    "#     \"max_depth\": [10, 25, 50, 75],\n",
    "              \"learning_rate\" : [0.01, 0.1],\n",
    "#               \"num_leaves\": [100,300],\n",
    "              \"n_estimators\": [100, 300, 900]\n",
    "             }\n",
    "# param_grid = {\"max_depth\": [10, 25, 50, 75],\n",
    "#               \"learning_rate\" : [0.001,0.01,0.1],\n",
    "#               \"num_leaves\": [100,300],\n",
    "#               \"n_estimators\": [100,200]\n",
    "#              }\n",
    "# param_grid = {\"max_depth\": [10, 25, 50, 75],\n",
    "#               \"learning_rate\" : [0.001,0.01,0.05,0.1],\n",
    "#               \"num_leaves\": [100,300,900,1200],\n",
    "#               \"n_estimators\": [100,200,500]\n",
    "#              }"
   ]
  },
  {
   "cell_type": "code",
   "execution_count": 16,
   "id": "0b395f61",
   "metadata": {},
   "outputs": [],
   "source": [
    "model = lgb.LGBMClassifier()"
   ]
  },
  {
   "cell_type": "code",
   "execution_count": 17,
   "id": "8e8db981",
   "metadata": {},
   "outputs": [],
   "source": [
    "# パラメータチューニングをグリッドサーチ\n",
    "grid_result = GridSearchCV(estimator = model,\n",
    "                           param_grid = param_grid,\n",
    "                           scoring = 'balanced_accuracy', #accuracy, balanced_accuracy\n",
    "                           cv = skf,\n",
    "                           return_train_score = True,\n",
    "                           n_jobs = -1)"
   ]
  },
  {
   "cell_type": "code",
   "execution_count": 18,
   "id": "a3292cc8",
   "metadata": {},
   "outputs": [
    {
     "data": {
      "text/plain": [
       "GridSearchCV(cv=StratifiedKFold(n_splits=10, random_state=0, shuffle=True),\n",
       "             estimator=LGBMClassifier(), n_jobs=-1,\n",
       "             param_grid={'learning_rate': [0.01, 0.1],\n",
       "                         'n_estimators': [100, 200]},\n",
       "             return_train_score=True, scoring='balanced_accuracy')"
      ]
     },
     "execution_count": 18,
     "metadata": {},
     "output_type": "execute_result"
    }
   ],
   "source": [
    "grid_result.fit(X_train, y_train)"
   ]
  },
  {
   "cell_type": "code",
   "execution_count": 19,
   "id": "0295037f",
   "metadata": {},
   "outputs": [],
   "source": [
    "# # train\n",
    "# gbm = lgb.train(params,\n",
    "#             lgb_train,\n",
    "#             num_boost_round=50,\n",
    "#             valid_sets=lgb_eval,\n",
    "#             early_stopping_rounds=10)\n"
   ]
  },
  {
   "cell_type": "code",
   "execution_count": 20,
   "id": "abd414ff",
   "metadata": {},
   "outputs": [
    {
     "data": {
      "text/plain": [
       "{'learning_rate': 0.1, 'n_estimators': 200}"
      ]
     },
     "execution_count": 20,
     "metadata": {},
     "output_type": "execute_result"
    }
   ],
   "source": [
    "grid_result.best_params_"
   ]
  },
  {
   "cell_type": "code",
   "execution_count": 21,
   "id": "bdd2df0f",
   "metadata": {},
   "outputs": [
    {
     "data": {
      "text/plain": [
       "array([1, 1, 1, ..., 1, 1, 0], dtype=int64)"
      ]
     },
     "execution_count": 21,
     "metadata": {},
     "output_type": "execute_result"
    }
   ],
   "source": [
    "y_pred = grid_result.predict(X_test)\n",
    "# y_pred = np.argmax(y_pred, axis=1)\n",
    "y_pred"
   ]
  },
  {
   "cell_type": "code",
   "execution_count": 22,
   "id": "ae3ea7b0",
   "metadata": {},
   "outputs": [
    {
     "data": {
      "text/plain": [
       "array([0, 1, 2, 3, 4, 5, 6], dtype=int64)"
      ]
     },
     "execution_count": 22,
     "metadata": {},
     "output_type": "execute_result"
    }
   ],
   "source": [
    "np.unique(y_pred)"
   ]
  },
  {
   "cell_type": "code",
   "execution_count": 23,
   "id": "a54d9492",
   "metadata": {},
   "outputs": [
    {
     "data": {
      "text/plain": [
       "0.8746686861037486"
      ]
     },
     "execution_count": 23,
     "metadata": {},
     "output_type": "execute_result"
    }
   ],
   "source": [
    "accuracy_score(y_test, y_pred)"
   ]
  },
  {
   "cell_type": "markdown",
   "id": "f2a319b2",
   "metadata": {},
   "source": [
    "0.8746686861037486<br/>\n",
    "{'learning_rate': 0.1, 'n_estimators': 200}"
   ]
  },
  {
   "cell_type": "code",
   "execution_count": null,
   "id": "12aab94c",
   "metadata": {},
   "outputs": [],
   "source": []
  }
 ],
 "metadata": {
  "kernelspec": {
   "display_name": "Python 3",
   "language": "python",
   "name": "python3"
  },
  "language_info": {
   "codemirror_mode": {
    "name": "ipython",
    "version": 3
   },
   "file_extension": ".py",
   "mimetype": "text/x-python",
   "name": "python",
   "nbconvert_exporter": "python",
   "pygments_lexer": "ipython3",
   "version": "3.8.8"
  }
 },
 "nbformat": 4,
 "nbformat_minor": 5
}
