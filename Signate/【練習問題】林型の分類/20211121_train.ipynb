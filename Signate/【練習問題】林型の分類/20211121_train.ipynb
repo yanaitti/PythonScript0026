{
 "cells": [
  {
   "cell_type": "code",
   "execution_count": null,
   "id": "5ee418c6",
   "metadata": {},
   "outputs": [],
   "source": [
    "import pandas as pd\n"
   ]
  },
  {
   "cell_type": "code",
   "execution_count": 1,
   "id": "bf5ae3b4",
   "metadata": {},
   "outputs": [
    {
     "name": "stdout",
     "output_type": "stream",
     "text": [
      " ドライブ C のボリューム ラベルがありません。\n",
      " ボリューム シリアル番号は 5AD7-2869 です\n",
      "\n",
      " C:\\Users\\yanai\\OneDrive\\ドキュメント\\Python Scripts\\Signate\\【練習問題】林型の分類\\inputs のディレクトリ\n",
      "\n",
      "11/03/2021  19:26    <DIR>          .\n",
      "11/03/2021  19:26    <DIR>          ..\n",
      "11/03/2021  18:56         2,559,052 sample_submit.csv\n",
      "11/03/2021  18:56        38,982,818 test.tsv\n",
      "11/03/2021  18:56        39,562,946 train.tsv\n",
      "               3 個のファイル          81,104,816 バイト\n",
      "               2 個のディレクトリ  173,260,460,032 バイトの空き領域\n"
     ]
    }
   ],
   "source": [
    "!dir inputs"
   ]
  },
  {
   "cell_type": "code",
   "execution_count": null,
   "id": "77b9d512",
   "metadata": {},
   "outputs": [],
   "source": [
    "train = pd.read_csv('inputs/train.tsv', sep='\\t', index_col=0)\n",
    "train"
   ]
  },
  {
   "cell_type": "code",
   "execution_count": 2,
   "id": "51493417",
   "metadata": {},
   "outputs": [
    {
     "ename": "NameError",
     "evalue": "name 'train' is not defined",
     "output_type": "error",
     "traceback": [
      "\u001b[1;31m---------------------------------------------------------------------------\u001b[0m",
      "\u001b[1;31mNameError\u001b[0m                                 Traceback (most recent call last)",
      "\u001b[1;32m<ipython-input-2-bc56c02d7b92>\u001b[0m in \u001b[0;36m<module>\u001b[1;34m\u001b[0m\n\u001b[1;32m----> 1\u001b[1;33m \u001b[0mtrain\u001b[0m\u001b[1;33m[\u001b[0m\u001b[1;34m'Cover_Type'\u001b[0m\u001b[1;33m]\u001b[0m\u001b[1;33m.\u001b[0m\u001b[0mhist\u001b[0m\u001b[1;33m(\u001b[0m\u001b[1;33m)\u001b[0m\u001b[1;33m\u001b[0m\u001b[1;33m\u001b[0m\u001b[0m\n\u001b[0m",
      "\u001b[1;31mNameError\u001b[0m: name 'train' is not defined"
     ]
    }
   ],
   "source": [
    "train['Cover_Type'].hist()"
   ]
  },
  {
   "cell_type": "code",
   "execution_count": null,
   "id": "2e03c9ad",
   "metadata": {},
   "outputs": [],
   "source": [
    "train['Cover_Type'].value_counts()"
   ]
  },
  {
   "cell_type": "code",
   "execution_count": null,
   "id": "d6a818f2",
   "metadata": {},
   "outputs": [],
   "source": [
    "from sklearn.preprocessing import StandardScaler\n",
    "\n",
    "scaler = StandardScaler()"
   ]
  },
  {
   "cell_type": "code",
   "execution_count": null,
   "id": "1f37e890",
   "metadata": {},
   "outputs": [],
   "source": [
    "X = train.drop('Cover_Type', axis=1)\n",
    "y = train['Cover_Type']"
   ]
  },
  {
   "cell_type": "code",
   "execution_count": null,
   "id": "dbc166b4",
   "metadata": {},
   "outputs": [],
   "source": [
    "X = scaler.fit_transform(X)"
   ]
  },
  {
   "cell_type": "code",
   "execution_count": null,
   "id": "dcf2dc92",
   "metadata": {},
   "outputs": [],
   "source": [
    "y = y-1"
   ]
  },
  {
   "cell_type": "code",
   "execution_count": null,
   "id": "7b88d140",
   "metadata": {},
   "outputs": [],
   "source": [
    "import numpy as np\n",
    "import lightgbm as lgb\n",
    "from sklearn.datasets import load_iris\n",
    "from sklearn.model_selection import train_test_split\n",
    "from sklearn.metrics import accuracy_score\n",
    "\n",
    "from sklearn.model_selection import StratifiedKFold\n",
    "from sklearn.model_selection import GridSearchCV\n"
   ]
  },
  {
   "cell_type": "code",
   "execution_count": null,
   "id": "64e69e11",
   "metadata": {},
   "outputs": [],
   "source": [
    "X_train, X_test, y_train, y_test = train_test_split(X, y, test_size=0.2, random_state=0)"
   ]
  },
  {
   "cell_type": "code",
   "execution_count": null,
   "id": "2ca9c555",
   "metadata": {},
   "outputs": [],
   "source": [
    "lgb_train = lgb.Dataset(X_train, y_train)\n",
    "lgb_eval = lgb.Dataset(X_test, y_test, reference=lgb_train)"
   ]
  },
  {
   "cell_type": "code",
   "execution_count": null,
   "id": "f9713a23",
   "metadata": {},
   "outputs": [],
   "source": [
    "skf = StratifiedKFold(n_splits=10,\n",
    "                      shuffle=True,\n",
    "                      random_state=0)"
   ]
  },
  {
   "cell_type": "code",
   "execution_count": null,
   "id": "f8213ca3",
   "metadata": {},
   "outputs": [],
   "source": [
    "# LightGBM parameters\n",
    "params = {\n",
    "        'task': 'train',\n",
    "#         'boosting_type': 'gbdt',\n",
    "        'objective': 'multiclass',\n",
    "        'metric': {'multi_logloss'},\n",
    "        'num_class': 7,\n",
    "#         'learning_rate': 0.1,\n",
    "#        'num_leaves': 23,\n",
    " #       'min_data_in_leaf': 1,\n",
    "#         'num_iteration': 100,\n",
    "        'verbose': 0\n",
    "}"
   ]
  },
  {
   "cell_type": "code",
   "execution_count": null,
   "id": "372321bb",
   "metadata": {},
   "outputs": [],
   "source": [
    "# LightGBM parameters\n",
    "param_grid = {\n",
    "#     \"max_depth\": [10, 25, 50, 75],\n",
    "              \"learning_rate\" : [0.01, 0.1],\n",
    "#               \"num_leaves\": [100,300],\n",
    "              \"n_estimators\": [100, 300, 900]\n",
    "             }\n",
    "# param_grid = {\"max_depth\": [10, 25, 50, 75],\n",
    "#               \"learning_rate\" : [0.001,0.01,0.1],\n",
    "#               \"num_leaves\": [100,300],\n",
    "#               \"n_estimators\": [100,200]\n",
    "#              }\n",
    "# param_grid = {\"max_depth\": [10, 25, 50, 75],\n",
    "#               \"learning_rate\" : [0.001,0.01,0.05,0.1],\n",
    "#               \"num_leaves\": [100,300,900,1200],\n",
    "#               \"n_estimators\": [100,200,500]\n",
    "#              }"
   ]
  },
  {
   "cell_type": "code",
   "execution_count": null,
   "id": "7fff7c7a",
   "metadata": {},
   "outputs": [],
   "source": [
    "model = lgb.LGBMClassifier()"
   ]
  },
  {
   "cell_type": "code",
   "execution_count": null,
   "id": "1f78784b",
   "metadata": {},
   "outputs": [],
   "source": [
    "# パラメータチューニングをグリッドサーチ\n",
    "grid_result = GridSearchCV(estimator = model,\n",
    "                           param_grid = param_grid,\n",
    "                           scoring = 'balanced_accuracy', #accuracy, balanced_accuracy\n",
    "                           cv = skf,\n",
    "                           return_train_score = True,\n",
    "                           n_jobs = -1)"
   ]
  },
  {
   "cell_type": "code",
   "execution_count": null,
   "id": "f77cb3d4",
   "metadata": {},
   "outputs": [],
   "source": [
    "grid_result.fit(X_train, y_train)"
   ]
  },
  {
   "cell_type": "code",
   "execution_count": null,
   "id": "d3d9b327",
   "metadata": {},
   "outputs": [],
   "source": [
    "# # train\n",
    "# gbm = lgb.train(params,\n",
    "#             lgb_train,\n",
    "#             num_boost_round=50,\n",
    "#             valid_sets=lgb_eval,\n",
    "#             early_stopping_rounds=10)\n"
   ]
  },
  {
   "cell_type": "code",
   "execution_count": null,
   "id": "620e034e",
   "metadata": {},
   "outputs": [],
   "source": [
    "grid_result.best_params_"
   ]
  },
  {
   "cell_type": "code",
   "execution_count": null,
   "id": "ea9859d3",
   "metadata": {},
   "outputs": [],
   "source": [
    "y_pred = grid_result.predict(X_test)\n",
    "# y_pred = np.argmax(y_pred, axis=1)\n",
    "y_pred"
   ]
  },
  {
   "cell_type": "code",
   "execution_count": null,
   "id": "f3d43444",
   "metadata": {},
   "outputs": [],
   "source": [
    "np.unique(y_pred)"
   ]
  },
  {
   "cell_type": "code",
   "execution_count": null,
   "id": "856a5bee",
   "metadata": {},
   "outputs": [],
   "source": [
    "accuracy_score(y_test, y_pred)"
   ]
  },
  {
   "cell_type": "markdown",
   "id": "1a436f47",
   "metadata": {},
   "source": [
    "0.8746686861037486<br/>\n",
    "{'learning_rate': 0.1, 'n_estimators': 200}"
   ]
  },
  {
   "cell_type": "code",
   "execution_count": null,
   "id": "660aad8f",
   "metadata": {},
   "outputs": [],
   "source": []
  }
 ],
 "metadata": {
  "kernelspec": {
   "display_name": "Python 3",
   "language": "python",
   "name": "python3"
  },
  "language_info": {
   "codemirror_mode": {
    "name": "ipython",
    "version": 3
   },
   "file_extension": ".py",
   "mimetype": "text/x-python",
   "name": "python",
   "nbconvert_exporter": "python",
   "pygments_lexer": "ipython3",
   "version": "3.8.8"
  }
 },
 "nbformat": 4,
 "nbformat_minor": 5
}
