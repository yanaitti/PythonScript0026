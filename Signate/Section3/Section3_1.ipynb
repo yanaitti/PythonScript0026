{
 "cells": [
  {
   "cell_type": "markdown",
   "metadata": {},
   "source": [
    "# PART1 データを読み込んでみよう\n",
    "## おまじない\n",
    "- まずおまじないを書くために、このセルの下に新しいセルを作ろう"
   ]
  },
  {
   "cell_type": "markdown",
   "metadata": {},
   "source": [
    "## データの読み込み\n",
    "- データを読み込む前にcase1の中にあるtrain.csvをメモ帳で開いて確かめてみましょう（excelで開くと文字化けします）\n",
    "- 拡張子のcsvとはカンマで区切られたデータのことです\n",
    "- 通常、列の頭には列行の内容を示す名前がついています（ない場合もあります）"
   ]
  },
  {
   "cell_type": "code",
   "execution_count": 1,
   "metadata": {},
   "outputs": [],
   "source": [
    "import pandas as pd\n",
    "import numpy as np\n",
    "from matplotlib import pyplot as plt\n",
    "%matplotlib inline\n",
    "\n",
    "train = pd.read_csv('train.csv')"
   ]
  },
  {
   "cell_type": "markdown",
   "metadata": {},
   "source": [
    "## 早速trainのデータの中身を見てみましょう\n",
    "- head関数を使います\n",
    "- 関数は必ずカッコが必要になります"
   ]
  },
  {
   "cell_type": "code",
   "execution_count": 3,
   "metadata": {},
   "outputs": [
    {
     "data": {
      "text/html": [
       "<div>\n",
       "<style scoped>\n",
       "    .dataframe tbody tr th:only-of-type {\n",
       "        vertical-align: middle;\n",
       "    }\n",
       "\n",
       "    .dataframe tbody tr th {\n",
       "        vertical-align: top;\n",
       "    }\n",
       "\n",
       "    .dataframe thead th {\n",
       "        text-align: right;\n",
       "    }\n",
       "</style>\n",
       "<table border=\"1\" class=\"dataframe\">\n",
       "  <thead>\n",
       "    <tr style=\"text-align: right;\">\n",
       "      <th></th>\n",
       "      <th>datetime</th>\n",
       "      <th>y</th>\n",
       "      <th>week</th>\n",
       "      <th>soldout</th>\n",
       "      <th>name</th>\n",
       "      <th>kcal</th>\n",
       "      <th>remarks</th>\n",
       "      <th>event</th>\n",
       "      <th>payday</th>\n",
       "      <th>weather</th>\n",
       "      <th>precipitation</th>\n",
       "      <th>temperature</th>\n",
       "    </tr>\n",
       "  </thead>\n",
       "  <tbody>\n",
       "    <tr>\n",
       "      <th>0</th>\n",
       "      <td>2013-11-18</td>\n",
       "      <td>90</td>\n",
       "      <td>月</td>\n",
       "      <td>0</td>\n",
       "      <td>厚切りイカフライ</td>\n",
       "      <td>NaN</td>\n",
       "      <td>NaN</td>\n",
       "      <td>NaN</td>\n",
       "      <td>NaN</td>\n",
       "      <td>快晴</td>\n",
       "      <td>--</td>\n",
       "      <td>19.8</td>\n",
       "    </tr>\n",
       "    <tr>\n",
       "      <th>1</th>\n",
       "      <td>2013-11-19</td>\n",
       "      <td>101</td>\n",
       "      <td>火</td>\n",
       "      <td>1</td>\n",
       "      <td>手作りヒレカツ</td>\n",
       "      <td>NaN</td>\n",
       "      <td>NaN</td>\n",
       "      <td>NaN</td>\n",
       "      <td>NaN</td>\n",
       "      <td>快晴</td>\n",
       "      <td>--</td>\n",
       "      <td>17.0</td>\n",
       "    </tr>\n",
       "    <tr>\n",
       "      <th>2</th>\n",
       "      <td>2013-11-20</td>\n",
       "      <td>118</td>\n",
       "      <td>水</td>\n",
       "      <td>0</td>\n",
       "      <td>白身魚唐揚げ野菜あん</td>\n",
       "      <td>NaN</td>\n",
       "      <td>NaN</td>\n",
       "      <td>NaN</td>\n",
       "      <td>NaN</td>\n",
       "      <td>快晴</td>\n",
       "      <td>--</td>\n",
       "      <td>15.5</td>\n",
       "    </tr>\n",
       "    <tr>\n",
       "      <th>3</th>\n",
       "      <td>2013-11-21</td>\n",
       "      <td>120</td>\n",
       "      <td>木</td>\n",
       "      <td>1</td>\n",
       "      <td>若鶏ピリ辛焼</td>\n",
       "      <td>NaN</td>\n",
       "      <td>NaN</td>\n",
       "      <td>NaN</td>\n",
       "      <td>NaN</td>\n",
       "      <td>快晴</td>\n",
       "      <td>--</td>\n",
       "      <td>15.2</td>\n",
       "    </tr>\n",
       "    <tr>\n",
       "      <th>4</th>\n",
       "      <td>2013-11-22</td>\n",
       "      <td>130</td>\n",
       "      <td>金</td>\n",
       "      <td>1</td>\n",
       "      <td>ビッグメンチカツ</td>\n",
       "      <td>NaN</td>\n",
       "      <td>NaN</td>\n",
       "      <td>NaN</td>\n",
       "      <td>NaN</td>\n",
       "      <td>快晴</td>\n",
       "      <td>--</td>\n",
       "      <td>16.1</td>\n",
       "    </tr>\n",
       "    <tr>\n",
       "      <th>5</th>\n",
       "      <td>2013-11-25</td>\n",
       "      <td>135</td>\n",
       "      <td>月</td>\n",
       "      <td>1</td>\n",
       "      <td>鶏の唐揚</td>\n",
       "      <td>NaN</td>\n",
       "      <td>NaN</td>\n",
       "      <td>NaN</td>\n",
       "      <td>NaN</td>\n",
       "      <td>曇</td>\n",
       "      <td>--</td>\n",
       "      <td>14.6</td>\n",
       "    </tr>\n",
       "    <tr>\n",
       "      <th>6</th>\n",
       "      <td>2013-11-26</td>\n",
       "      <td>145</td>\n",
       "      <td>火</td>\n",
       "      <td>0</td>\n",
       "      <td>豚のスタミナ炒め</td>\n",
       "      <td>NaN</td>\n",
       "      <td>NaN</td>\n",
       "      <td>NaN</td>\n",
       "      <td>NaN</td>\n",
       "      <td>快晴</td>\n",
       "      <td>--</td>\n",
       "      <td>17.9</td>\n",
       "    </tr>\n",
       "    <tr>\n",
       "      <th>7</th>\n",
       "      <td>2013-11-27</td>\n",
       "      <td>140</td>\n",
       "      <td>水</td>\n",
       "      <td>1</td>\n",
       "      <td>ボローニャ風カツ</td>\n",
       "      <td>NaN</td>\n",
       "      <td>NaN</td>\n",
       "      <td>NaN</td>\n",
       "      <td>NaN</td>\n",
       "      <td>晴れ</td>\n",
       "      <td>--</td>\n",
       "      <td>14.7</td>\n",
       "    </tr>\n",
       "    <tr>\n",
       "      <th>8</th>\n",
       "      <td>2013-11-28</td>\n",
       "      <td>151</td>\n",
       "      <td>木</td>\n",
       "      <td>0</td>\n",
       "      <td>ハンバーグ</td>\n",
       "      <td>NaN</td>\n",
       "      <td>NaN</td>\n",
       "      <td>NaN</td>\n",
       "      <td>NaN</td>\n",
       "      <td>薄曇</td>\n",
       "      <td>--</td>\n",
       "      <td>17.7</td>\n",
       "    </tr>\n",
       "    <tr>\n",
       "      <th>9</th>\n",
       "      <td>2013-11-29</td>\n",
       "      <td>116</td>\n",
       "      <td>金</td>\n",
       "      <td>0</td>\n",
       "      <td>タルタルinソーセージカツ</td>\n",
       "      <td>NaN</td>\n",
       "      <td>NaN</td>\n",
       "      <td>NaN</td>\n",
       "      <td>NaN</td>\n",
       "      <td>快晴</td>\n",
       "      <td>--</td>\n",
       "      <td>12.1</td>\n",
       "    </tr>\n",
       "  </tbody>\n",
       "</table>\n",
       "</div>"
      ],
      "text/plain": [
       "     datetime    y week  soldout           name  kcal remarks event  payday  \\\n",
       "0  2013-11-18   90    月        0       厚切りイカフライ   NaN     NaN   NaN     NaN   \n",
       "1  2013-11-19  101    火        1        手作りヒレカツ   NaN     NaN   NaN     NaN   \n",
       "2  2013-11-20  118    水        0     白身魚唐揚げ野菜あん   NaN     NaN   NaN     NaN   \n",
       "3  2013-11-21  120    木        1         若鶏ピリ辛焼   NaN     NaN   NaN     NaN   \n",
       "4  2013-11-22  130    金        1       ビッグメンチカツ   NaN     NaN   NaN     NaN   \n",
       "5  2013-11-25  135    月        1           鶏の唐揚   NaN     NaN   NaN     NaN   \n",
       "6  2013-11-26  145    火        0       豚のスタミナ炒め   NaN     NaN   NaN     NaN   \n",
       "7  2013-11-27  140    水        1       ボローニャ風カツ   NaN     NaN   NaN     NaN   \n",
       "8  2013-11-28  151    木        0          ハンバーグ   NaN     NaN   NaN     NaN   \n",
       "9  2013-11-29  116    金        0  タルタルinソーセージカツ   NaN     NaN   NaN     NaN   \n",
       "\n",
       "  weather precipitation  temperature  \n",
       "0      快晴            --         19.8  \n",
       "1      快晴            --         17.0  \n",
       "2      快晴            --         15.5  \n",
       "3      快晴            --         15.2  \n",
       "4      快晴            --         16.1  \n",
       "5       曇            --         14.6  \n",
       "6      快晴            --         17.9  \n",
       "7      晴れ            --         14.7  \n",
       "8      薄曇            --         17.7  \n",
       "9      快晴            --         12.1  "
      ]
     },
     "execution_count": 3,
     "metadata": {},
     "output_type": "execute_result"
    }
   ],
   "source": [
    "train.head(10)"
   ]
  },
  {
   "cell_type": "markdown",
   "metadata": {},
   "source": [
    "## headは先頭行を表示するが、最終行が見たい場合は・・・"
   ]
  },
  {
   "cell_type": "code",
   "execution_count": 4,
   "metadata": {},
   "outputs": [
    {
     "data": {
      "text/html": [
       "<div>\n",
       "<style scoped>\n",
       "    .dataframe tbody tr th:only-of-type {\n",
       "        vertical-align: middle;\n",
       "    }\n",
       "\n",
       "    .dataframe tbody tr th {\n",
       "        vertical-align: top;\n",
       "    }\n",
       "\n",
       "    .dataframe thead th {\n",
       "        text-align: right;\n",
       "    }\n",
       "</style>\n",
       "<table border=\"1\" class=\"dataframe\">\n",
       "  <thead>\n",
       "    <tr style=\"text-align: right;\">\n",
       "      <th></th>\n",
       "      <th>datetime</th>\n",
       "      <th>y</th>\n",
       "      <th>week</th>\n",
       "      <th>soldout</th>\n",
       "      <th>name</th>\n",
       "      <th>kcal</th>\n",
       "      <th>remarks</th>\n",
       "      <th>event</th>\n",
       "      <th>payday</th>\n",
       "      <th>weather</th>\n",
       "      <th>precipitation</th>\n",
       "      <th>temperature</th>\n",
       "    </tr>\n",
       "  </thead>\n",
       "  <tbody>\n",
       "    <tr>\n",
       "      <th>202</th>\n",
       "      <td>2014-9-24</td>\n",
       "      <td>59</td>\n",
       "      <td>水</td>\n",
       "      <td>1</td>\n",
       "      <td>白身魚のマスタード焼き</td>\n",
       "      <td>408.0</td>\n",
       "      <td>NaN</td>\n",
       "      <td>NaN</td>\n",
       "      <td>NaN</td>\n",
       "      <td>曇</td>\n",
       "      <td>0</td>\n",
       "      <td>24.8</td>\n",
       "    </tr>\n",
       "    <tr>\n",
       "      <th>203</th>\n",
       "      <td>2014-9-25</td>\n",
       "      <td>50</td>\n",
       "      <td>木</td>\n",
       "      <td>0</td>\n",
       "      <td>牛カルビ焼き肉</td>\n",
       "      <td>394.0</td>\n",
       "      <td>NaN</td>\n",
       "      <td>NaN</td>\n",
       "      <td>NaN</td>\n",
       "      <td>曇</td>\n",
       "      <td>0</td>\n",
       "      <td>25.4</td>\n",
       "    </tr>\n",
       "    <tr>\n",
       "      <th>204</th>\n",
       "      <td>2014-9-26</td>\n",
       "      <td>45</td>\n",
       "      <td>金</td>\n",
       "      <td>0</td>\n",
       "      <td>ランチビュッフェ</td>\n",
       "      <td>NaN</td>\n",
       "      <td>スペシャルメニュー（800円）</td>\n",
       "      <td>キャリアアップ支援セミナー</td>\n",
       "      <td>NaN</td>\n",
       "      <td>晴れ</td>\n",
       "      <td>--</td>\n",
       "      <td>27.1</td>\n",
       "    </tr>\n",
       "    <tr>\n",
       "      <th>205</th>\n",
       "      <td>2014-9-29</td>\n",
       "      <td>56</td>\n",
       "      <td>月</td>\n",
       "      <td>1</td>\n",
       "      <td>豚肉と玉子の炒め</td>\n",
       "      <td>404.0</td>\n",
       "      <td>NaN</td>\n",
       "      <td>NaN</td>\n",
       "      <td>NaN</td>\n",
       "      <td>快晴</td>\n",
       "      <td>--</td>\n",
       "      <td>26.6</td>\n",
       "    </tr>\n",
       "    <tr>\n",
       "      <th>206</th>\n",
       "      <td>2014-9-30</td>\n",
       "      <td>40</td>\n",
       "      <td>火</td>\n",
       "      <td>0</td>\n",
       "      <td>鶏肉とカシューナッツ炒め</td>\n",
       "      <td>398.0</td>\n",
       "      <td>NaN</td>\n",
       "      <td>NaN</td>\n",
       "      <td>NaN</td>\n",
       "      <td>快晴</td>\n",
       "      <td>--</td>\n",
       "      <td>28.1</td>\n",
       "    </tr>\n",
       "  </tbody>\n",
       "</table>\n",
       "</div>"
      ],
      "text/plain": [
       "      datetime   y week  soldout          name   kcal          remarks  \\\n",
       "202  2014-9-24  59    水        1   白身魚のマスタード焼き  408.0              NaN   \n",
       "203  2014-9-25  50    木        0       牛カルビ焼き肉  394.0              NaN   \n",
       "204  2014-9-26  45    金        0      ランチビュッフェ    NaN  スペシャルメニュー（800円）   \n",
       "205  2014-9-29  56    月        1      豚肉と玉子の炒め  404.0              NaN   \n",
       "206  2014-9-30  40    火        0  鶏肉とカシューナッツ炒め  398.0              NaN   \n",
       "\n",
       "             event  payday weather precipitation  temperature  \n",
       "202            NaN     NaN       曇             0         24.8  \n",
       "203            NaN     NaN       曇             0         25.4  \n",
       "204  キャリアアップ支援セミナー     NaN      晴れ            --         27.1  \n",
       "205            NaN     NaN      快晴            --         26.6  \n",
       "206            NaN     NaN      快晴            --         28.1  "
      ]
     },
     "execution_count": 4,
     "metadata": {},
     "output_type": "execute_result"
    }
   ],
   "source": [
    "train.tail()"
   ]
  },
  {
   "cell_type": "code",
   "execution_count": 6,
   "metadata": {},
   "outputs": [
    {
     "data": {
      "text/plain": [
       "pandas.core.frame.DataFrame"
      ]
     },
     "execution_count": 6,
     "metadata": {},
     "output_type": "execute_result"
    }
   ],
   "source": [
    "type(train)"
   ]
  },
  {
   "cell_type": "markdown",
   "metadata": {},
   "source": [
    "## 行数と列数を確認したい場合はshapeを使います\n",
    "- shapeは関数ではないのでカッコはいりません"
   ]
  },
  {
   "cell_type": "code",
   "execution_count": 7,
   "metadata": {},
   "outputs": [
    {
     "data": {
      "text/plain": [
       "(207, 12)"
      ]
     },
     "execution_count": 7,
     "metadata": {},
     "output_type": "execute_result"
    }
   ],
   "source": [
    "train.shape"
   ]
  },
  {
   "cell_type": "markdown",
   "metadata": {},
   "source": [
    "# 実習"
   ]
  },
  {
   "cell_type": "markdown",
   "metadata": {},
   "source": [
    "1.test.csvの変数名をtestとして、sample.csvの変数名をsampleとして読み込んでみよう\n",
    "- ファイル名を書く時はダブルクォーテーションを忘れないようにしよう"
   ]
  },
  {
   "cell_type": "code",
   "execution_count": null,
   "metadata": {
    "collapsed": true
   },
   "outputs": [],
   "source": [
    "test = pd.read_csv('test.csv')\n",
    "sample = pd.read_csv('sample')"
   ]
  },
  {
   "cell_type": "markdown",
   "metadata": {},
   "source": [
    "2.testは何行何列ありますか？"
   ]
  },
  {
   "cell_type": "code",
   "execution_count": null,
   "metadata": {
    "collapsed": true
   },
   "outputs": [],
   "source": []
  },
  {
   "cell_type": "markdown",
   "metadata": {},
   "source": [
    "3.testの3行目のメニューはなんでしょう？"
   ]
  },
  {
   "cell_type": "code",
   "execution_count": null,
   "metadata": {
    "collapsed": true
   },
   "outputs": [],
   "source": []
  },
  {
   "cell_type": "markdown",
   "metadata": {},
   "source": [
    "4.testの10行目まで見たい。どうしたらいいか考えてみよう"
   ]
  },
  {
   "cell_type": "code",
   "execution_count": null,
   "metadata": {
    "collapsed": true
   },
   "outputs": [],
   "source": []
  },
  {
   "cell_type": "markdown",
   "metadata": {},
   "source": [
    "5.sampleはこのままではちょっとおかしい部分がある。どこがおかしいか？"
   ]
  },
  {
   "cell_type": "code",
   "execution_count": null,
   "metadata": {
    "collapsed": true
   },
   "outputs": [],
   "source": []
  },
  {
   "cell_type": "code",
   "execution_count": null,
   "metadata": {
    "collapsed": true
   },
   "outputs": [],
   "source": []
  },
  {
   "cell_type": "code",
   "execution_count": null,
   "metadata": {
    "collapsed": true
   },
   "outputs": [],
   "source": []
  }
 ],
 "metadata": {
  "kernelspec": {
   "display_name": "Python 3",
   "language": "python",
   "name": "python3"
  },
  "language_info": {
   "codemirror_mode": {
    "name": "ipython",
    "version": 3
   },
   "file_extension": ".py",
   "mimetype": "text/x-python",
   "name": "python",
   "nbconvert_exporter": "python",
   "pygments_lexer": "ipython3",
   "version": "3.7.6"
  }
 },
 "nbformat": 4,
 "nbformat_minor": 2
}
