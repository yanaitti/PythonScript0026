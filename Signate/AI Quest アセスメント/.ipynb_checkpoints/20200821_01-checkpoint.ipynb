{
 "cells": [
  {
   "cell_type": "code",
   "execution_count": 1,
   "metadata": {},
   "outputs": [],
   "source": [
    "import pandas as pd\n",
    "import numpy as np\n",
    "from matplotlib import pyplot as plt\n",
    "%matplotlib inline\n",
    "\n",
    "from sklearn import metrics\n",
    "from sklearn.model_selection import train_test_split, GridSearchCV\n",
    "from xgboost import XGBRegressor\n",
    "from lightgbm import LGBMRegressor\n",
    "\n",
    "import seaborn as sns\n",
    "sns.set()"
   ]
  },
  {
   "cell_type": "code",
   "execution_count": 2,
   "metadata": {},
   "outputs": [
    {
     "name": "stdout",
     "output_type": "stream",
     "text": [
      " Volume in drive D has no label.\n",
      " Volume Serial Number is 3417-05D0\n",
      "\n",
      " Directory of d:\\PythonTraining\\Signate\\AI Quest アセスメント\n",
      "\n",
      "2020/08/21  20:34    <DIR>          .\n",
      "2020/08/21  20:34    <DIR>          ..\n",
      "2020/08/21  20:32    <DIR>          .ipynb_checkpoints\n",
      "2020/08/18  22:53           247,083 20200818_01.ipynb\n",
      "2020/08/18  23:13           192,046 20200818_02.ipynb\n",
      "2020/08/21  20:34           227,914 20200821_01.ipynb\n",
      "2020/08/17  19:55           155,642 sample_submit.csv\n",
      "2020/08/18  21:41           459,512 submit_20200818.csv\n",
      "2020/08/18  22:01           297,657 submit_20200818_2.csv\n",
      "2020/08/18  22:52           459,605 submit_20200818_3.csv\n",
      "2020/08/18  23:09           297,668 submit_20200818_4.csv\n",
      "2020/08/17  19:55        24,919,869 test.csv\n",
      "2020/08/17  19:55        75,690,186 train.csv\n",
      "              10 File(s)    102,947,182 bytes\n",
      "               3 Dir(s)  957,328,261,120 bytes free\n"
     ]
    }
   ],
   "source": [
    "!dir"
   ]
  },
  {
   "cell_type": "code",
   "execution_count": 3,
   "metadata": {},
   "outputs": [
    {
     "data": {
      "text/plain": [
       "((55583, 28), (18528, 27), (18528, 2))"
      ]
     },
     "execution_count": 3,
     "metadata": {},
     "output_type": "execute_result"
    }
   ],
   "source": [
    "train = pd.read_csv('train.csv', index_col=0)\n",
    "test = pd.read_csv('test.csv', index_col=0)\n",
    "submit = pd.read_csv('sample_submit.csv', header=None)\n",
    "train.shape, test.shape, submit.shape"
   ]
  },
  {
   "cell_type": "code",
   "execution_count": 4,
   "metadata": {},
   "outputs": [
    {
     "data": {
      "text/html": [
       "<div>\n",
       "<style scoped>\n",
       "    .dataframe tbody tr th:only-of-type {\n",
       "        vertical-align: middle;\n",
       "    }\n",
       "\n",
       "    .dataframe tbody tr th {\n",
       "        vertical-align: top;\n",
       "    }\n",
       "\n",
       "    .dataframe thead th {\n",
       "        text-align: right;\n",
       "    }\n",
       "</style>\n",
       "<table border=\"1\" class=\"dataframe\">\n",
       "  <thead>\n",
       "    <tr style=\"text-align: right;\">\n",
       "      <th></th>\n",
       "      <th>accommodates</th>\n",
       "      <th>amenities</th>\n",
       "      <th>bathrooms</th>\n",
       "      <th>bed_type</th>\n",
       "      <th>bedrooms</th>\n",
       "      <th>beds</th>\n",
       "      <th>cancellation_policy</th>\n",
       "      <th>city</th>\n",
       "      <th>cleaning_fee</th>\n",
       "      <th>description</th>\n",
       "      <th>...</th>\n",
       "      <th>longitude</th>\n",
       "      <th>name</th>\n",
       "      <th>neighbourhood</th>\n",
       "      <th>number_of_reviews</th>\n",
       "      <th>property_type</th>\n",
       "      <th>review_scores_rating</th>\n",
       "      <th>room_type</th>\n",
       "      <th>thumbnail_url</th>\n",
       "      <th>zipcode</th>\n",
       "      <th>y</th>\n",
       "    </tr>\n",
       "    <tr>\n",
       "      <th>id</th>\n",
       "      <th></th>\n",
       "      <th></th>\n",
       "      <th></th>\n",
       "      <th></th>\n",
       "      <th></th>\n",
       "      <th></th>\n",
       "      <th></th>\n",
       "      <th></th>\n",
       "      <th></th>\n",
       "      <th></th>\n",
       "      <th></th>\n",
       "      <th></th>\n",
       "      <th></th>\n",
       "      <th></th>\n",
       "      <th></th>\n",
       "      <th></th>\n",
       "      <th></th>\n",
       "      <th></th>\n",
       "      <th></th>\n",
       "      <th></th>\n",
       "      <th></th>\n",
       "    </tr>\n",
       "  </thead>\n",
       "  <tbody>\n",
       "    <tr>\n",
       "      <th>0</th>\n",
       "      <td>6</td>\n",
       "      <td>{TV,\"Wireless Internet\",Kitchen,\"Free parking ...</td>\n",
       "      <td>2.0</td>\n",
       "      <td>Real Bed</td>\n",
       "      <td>1.0</td>\n",
       "      <td>4.0</td>\n",
       "      <td>flexible</td>\n",
       "      <td>LA</td>\n",
       "      <td>t</td>\n",
       "      <td>My place is meant for family and a few friends...</td>\n",
       "      <td>...</td>\n",
       "      <td>-118.154761</td>\n",
       "      <td>The Penthouse</td>\n",
       "      <td>NaN</td>\n",
       "      <td>1</td>\n",
       "      <td>Apartment</td>\n",
       "      <td>60.0</td>\n",
       "      <td>Private room</td>\n",
       "      <td>NaN</td>\n",
       "      <td>90804</td>\n",
       "      <td>138.0</td>\n",
       "    </tr>\n",
       "    <tr>\n",
       "      <th>1</th>\n",
       "      <td>2</td>\n",
       "      <td>{TV,\"Cable TV\",Internet,\"Wireless Internet\",\"A...</td>\n",
       "      <td>1.0</td>\n",
       "      <td>Real Bed</td>\n",
       "      <td>1.0</td>\n",
       "      <td>1.0</td>\n",
       "      <td>strict</td>\n",
       "      <td>DC</td>\n",
       "      <td>t</td>\n",
       "      <td>This is a new listing for a lovely guest bedro...</td>\n",
       "      <td>...</td>\n",
       "      <td>-76.978190</td>\n",
       "      <td>Guest Bedroom in Brookland</td>\n",
       "      <td>Brookland</td>\n",
       "      <td>9</td>\n",
       "      <td>House</td>\n",
       "      <td>100.0</td>\n",
       "      <td>Private room</td>\n",
       "      <td>https://a0.muscache.com/im/pictures/e4d8b51f-6...</td>\n",
       "      <td>20018</td>\n",
       "      <td>42.0</td>\n",
       "    </tr>\n",
       "    <tr>\n",
       "      <th>2</th>\n",
       "      <td>2</td>\n",
       "      <td>{TV,Internet,\"Wireless Internet\",Kitchen,\"Indo...</td>\n",
       "      <td>2.0</td>\n",
       "      <td>Real Bed</td>\n",
       "      <td>1.0</td>\n",
       "      <td>1.0</td>\n",
       "      <td>strict</td>\n",
       "      <td>NYC</td>\n",
       "      <td>t</td>\n",
       "      <td>We're looking forward to your stay at our apt....</td>\n",
       "      <td>...</td>\n",
       "      <td>-73.926240</td>\n",
       "      <td>Clean Modern Room in Lux Apt 1 Block From J Train</td>\n",
       "      <td>Bushwick</td>\n",
       "      <td>27</td>\n",
       "      <td>Apartment</td>\n",
       "      <td>83.0</td>\n",
       "      <td>Private room</td>\n",
       "      <td>https://a0.muscache.com/im/pictures/5ffecc9b-d...</td>\n",
       "      <td>NaN</td>\n",
       "      <td>65.0</td>\n",
       "    </tr>\n",
       "    <tr>\n",
       "      <th>3</th>\n",
       "      <td>2</td>\n",
       "      <td>{TV,\"Cable TV\",Internet,\"Wireless Internet\",\"A...</td>\n",
       "      <td>1.0</td>\n",
       "      <td>Real Bed</td>\n",
       "      <td>1.0</td>\n",
       "      <td>1.0</td>\n",
       "      <td>strict</td>\n",
       "      <td>SF</td>\n",
       "      <td>t</td>\n",
       "      <td>BEST CITY VIEWS - - ROOF DECK W/ BBQ &amp; WiFi - ...</td>\n",
       "      <td>...</td>\n",
       "      <td>-122.411906</td>\n",
       "      <td>BEST views + reviews! 5/5 stars*****</td>\n",
       "      <td>Nob Hill</td>\n",
       "      <td>38</td>\n",
       "      <td>Apartment</td>\n",
       "      <td>95.0</td>\n",
       "      <td>Private room</td>\n",
       "      <td>NaN</td>\n",
       "      <td>94133</td>\n",
       "      <td>166.0</td>\n",
       "    </tr>\n",
       "    <tr>\n",
       "      <th>4</th>\n",
       "      <td>2</td>\n",
       "      <td>{TV,Internet,\"Wireless Internet\",\"Air conditio...</td>\n",
       "      <td>1.0</td>\n",
       "      <td>Real Bed</td>\n",
       "      <td>1.0</td>\n",
       "      <td>1.0</td>\n",
       "      <td>strict</td>\n",
       "      <td>NYC</td>\n",
       "      <td>t</td>\n",
       "      <td>Charming Apartment on the upper west side of M...</td>\n",
       "      <td>...</td>\n",
       "      <td>-73.974691</td>\n",
       "      <td>Charming 1-bedroom - UWS Manhattan</td>\n",
       "      <td>Upper West Side</td>\n",
       "      <td>5</td>\n",
       "      <td>Apartment</td>\n",
       "      <td>100.0</td>\n",
       "      <td>Entire home/apt</td>\n",
       "      <td>https://a0.muscache.com/im/pictures/92879730/5...</td>\n",
       "      <td>10024</td>\n",
       "      <td>165.0</td>\n",
       "    </tr>\n",
       "  </tbody>\n",
       "</table>\n",
       "<p>5 rows × 28 columns</p>\n",
       "</div>"
      ],
      "text/plain": [
       "    accommodates                                          amenities  \\\n",
       "id                                                                    \n",
       "0              6  {TV,\"Wireless Internet\",Kitchen,\"Free parking ...   \n",
       "1              2  {TV,\"Cable TV\",Internet,\"Wireless Internet\",\"A...   \n",
       "2              2  {TV,Internet,\"Wireless Internet\",Kitchen,\"Indo...   \n",
       "3              2  {TV,\"Cable TV\",Internet,\"Wireless Internet\",\"A...   \n",
       "4              2  {TV,Internet,\"Wireless Internet\",\"Air conditio...   \n",
       "\n",
       "    bathrooms  bed_type  bedrooms  beds cancellation_policy city cleaning_fee  \\\n",
       "id                                                                              \n",
       "0         2.0  Real Bed       1.0   4.0            flexible   LA            t   \n",
       "1         1.0  Real Bed       1.0   1.0              strict   DC            t   \n",
       "2         2.0  Real Bed       1.0   1.0              strict  NYC            t   \n",
       "3         1.0  Real Bed       1.0   1.0              strict   SF            t   \n",
       "4         1.0  Real Bed       1.0   1.0              strict  NYC            t   \n",
       "\n",
       "                                          description  ...   longitude  \\\n",
       "id                                                     ...               \n",
       "0   My place is meant for family and a few friends...  ... -118.154761   \n",
       "1   This is a new listing for a lovely guest bedro...  ...  -76.978190   \n",
       "2   We're looking forward to your stay at our apt....  ...  -73.926240   \n",
       "3   BEST CITY VIEWS - - ROOF DECK W/ BBQ & WiFi - ...  ... -122.411906   \n",
       "4   Charming Apartment on the upper west side of M...  ...  -73.974691   \n",
       "\n",
       "                                                 name    neighbourhood  \\\n",
       "id                                                                       \n",
       "0                                       The Penthouse              NaN   \n",
       "1                          Guest Bedroom in Brookland        Brookland   \n",
       "2   Clean Modern Room in Lux Apt 1 Block From J Train         Bushwick   \n",
       "3                BEST views + reviews! 5/5 stars*****         Nob Hill   \n",
       "4                  Charming 1-bedroom - UWS Manhattan  Upper West Side   \n",
       "\n",
       "   number_of_reviews property_type review_scores_rating        room_type  \\\n",
       "id                                                                         \n",
       "0                  1     Apartment                 60.0     Private room   \n",
       "1                  9         House                100.0     Private room   \n",
       "2                 27     Apartment                 83.0     Private room   \n",
       "3                 38     Apartment                 95.0     Private room   \n",
       "4                  5     Apartment                100.0  Entire home/apt   \n",
       "\n",
       "                                        thumbnail_url  zipcode      y  \n",
       "id                                                                     \n",
       "0                                                 NaN    90804  138.0  \n",
       "1   https://a0.muscache.com/im/pictures/e4d8b51f-6...    20018   42.0  \n",
       "2   https://a0.muscache.com/im/pictures/5ffecc9b-d...      NaN   65.0  \n",
       "3                                                 NaN    94133  166.0  \n",
       "4   https://a0.muscache.com/im/pictures/92879730/5...    10024  165.0  \n",
       "\n",
       "[5 rows x 28 columns]"
      ]
     },
     "execution_count": 4,
     "metadata": {},
     "output_type": "execute_result"
    }
   ],
   "source": [
    "train.head()"
   ]
  },
  {
   "cell_type": "code",
   "execution_count": 5,
   "metadata": {},
   "outputs": [
    {
     "data": {
      "text/html": [
       "<div>\n",
       "<style scoped>\n",
       "    .dataframe tbody tr th:only-of-type {\n",
       "        vertical-align: middle;\n",
       "    }\n",
       "\n",
       "    .dataframe tbody tr th {\n",
       "        vertical-align: top;\n",
       "    }\n",
       "\n",
       "    .dataframe thead th {\n",
       "        text-align: right;\n",
       "    }\n",
       "</style>\n",
       "<table border=\"1\" class=\"dataframe\">\n",
       "  <thead>\n",
       "    <tr style=\"text-align: right;\">\n",
       "      <th></th>\n",
       "      <th>0</th>\n",
       "      <th>1</th>\n",
       "    </tr>\n",
       "  </thead>\n",
       "  <tbody>\n",
       "    <tr>\n",
       "      <th>0</th>\n",
       "      <td>0</td>\n",
       "      <td>10</td>\n",
       "    </tr>\n",
       "    <tr>\n",
       "      <th>1</th>\n",
       "      <td>1</td>\n",
       "      <td>10</td>\n",
       "    </tr>\n",
       "    <tr>\n",
       "      <th>2</th>\n",
       "      <td>2</td>\n",
       "      <td>10</td>\n",
       "    </tr>\n",
       "    <tr>\n",
       "      <th>3</th>\n",
       "      <td>3</td>\n",
       "      <td>10</td>\n",
       "    </tr>\n",
       "    <tr>\n",
       "      <th>4</th>\n",
       "      <td>4</td>\n",
       "      <td>10</td>\n",
       "    </tr>\n",
       "  </tbody>\n",
       "</table>\n",
       "</div>"
      ],
      "text/plain": [
       "   0   1\n",
       "0  0  10\n",
       "1  1  10\n",
       "2  2  10\n",
       "3  3  10\n",
       "4  4  10"
      ]
     },
     "execution_count": 5,
     "metadata": {},
     "output_type": "execute_result"
    }
   ],
   "source": [
    "submit.head()"
   ]
  },
  {
   "cell_type": "code",
   "execution_count": 6,
   "metadata": {},
   "outputs": [
    {
     "name": "stdout",
     "output_type": "stream",
     "text": [
      "<class 'pandas.core.frame.DataFrame'>\n",
      "Int64Index: 55583 entries, 0 to 55582\n",
      "Data columns (total 28 columns):\n",
      " #   Column                  Non-Null Count  Dtype  \n",
      "---  ------                  --------------  -----  \n",
      " 0   accommodates            55583 non-null  int64  \n",
      " 1   amenities               55583 non-null  object \n",
      " 2   bathrooms               55436 non-null  float64\n",
      " 3   bed_type                55583 non-null  object \n",
      " 4   bedrooms                55512 non-null  float64\n",
      " 5   beds                    55487 non-null  float64\n",
      " 6   cancellation_policy     55583 non-null  object \n",
      " 7   city                    55583 non-null  object \n",
      " 8   cleaning_fee            55583 non-null  object \n",
      " 9   description             55583 non-null  object \n",
      " 10  first_review            43675 non-null  object \n",
      " 11  host_has_profile_pic    55435 non-null  object \n",
      " 12  host_identity_verified  55435 non-null  object \n",
      " 13  host_response_rate      41879 non-null  object \n",
      " 14  host_since              55435 non-null  object \n",
      " 15  instant_bookable        55583 non-null  object \n",
      " 16  last_review             43703 non-null  object \n",
      " 17  latitude                55583 non-null  float64\n",
      " 18  longitude               55583 non-null  float64\n",
      " 19  name                    55583 non-null  object \n",
      " 20  neighbourhood           50423 non-null  object \n",
      " 21  number_of_reviews       55583 non-null  int64  \n",
      " 22  property_type           55583 non-null  object \n",
      " 23  review_scores_rating    43027 non-null  float64\n",
      " 24  room_type               55583 non-null  object \n",
      " 25  thumbnail_url           49438 non-null  object \n",
      " 26  zipcode                 54867 non-null  object \n",
      " 27  y                       55583 non-null  float64\n",
      "dtypes: float64(7), int64(2), object(19)\n",
      "memory usage: 12.3+ MB\n"
     ]
    }
   ],
   "source": [
    "train.info()"
   ]
  },
  {
   "cell_type": "code",
   "execution_count": 7,
   "metadata": {},
   "outputs": [
    {
     "data": {
      "text/plain": [
       "['amenities',\n",
       " 'bed_type',\n",
       " 'cancellation_policy',\n",
       " 'city',\n",
       " 'cleaning_fee',\n",
       " 'description',\n",
       " 'first_review',\n",
       " 'host_has_profile_pic',\n",
       " 'host_identity_verified',\n",
       " 'host_response_rate',\n",
       " 'host_since',\n",
       " 'instant_bookable',\n",
       " 'last_review',\n",
       " 'name',\n",
       " 'neighbourhood',\n",
       " 'property_type',\n",
       " 'room_type',\n",
       " 'thumbnail_url',\n",
       " 'zipcode']"
      ]
     },
     "execution_count": 7,
     "metadata": {},
     "output_type": "execute_result"
    }
   ],
   "source": [
    "cols_o = train.select_dtypes(include='object').columns.tolist()\n",
    "cols_o"
   ]
  },
  {
   "cell_type": "code",
   "execution_count": 8,
   "metadata": {},
   "outputs": [],
   "source": [
    "test['y'] = -999"
   ]
  },
  {
   "cell_type": "code",
   "execution_count": 9,
   "metadata": {},
   "outputs": [],
   "source": [
    "all_df = pd.concat([train, test])"
   ]
  },
  {
   "cell_type": "code",
   "execution_count": 10,
   "metadata": {
    "scrolled": false
   },
   "outputs": [
    {
     "name": "stdout",
     "output_type": "stream",
     "text": [
      "== amenities 67122\n",
      "{}                                                                                                                                                                                                                                                                                                                                                                                                                                                                                                                                                                                                                                                                                                                                                          586\n",
      "{\"translation missing: en.hosting_amenity_49\",\"translation missing: en.hosting_amenity_50\"}                                                                                                                                                                                                                                                                                                                                                                                                                                                                                                                                                                                                                                                                 135\n",
      "{\"Family/kid friendly\"}                                                                                                                                                                                                                                                                                                                                                                                                                                                                                                                                                                                                                                                                                                                                     103\n",
      "{\"Pets allowed\",\"Family/kid friendly\"}                                                                                                                                                                                                                                                                                                                                                                                                                                                                                                                                                                                                                                                                                                                       27\n",
      "{TV,\"Cable TV\",Internet,\"Wireless Internet\",\"Air conditioning\",Kitchen,\"Pets allowed\",Doorman,Gym,Elevator,Heating,\"Family/kid friendly\",Washer,Dryer,\"Smoke detector\",\"Carbon monoxide detector\",Essentials,Shampoo,\"24-hour check-in\",Hangers,\"Hair dryer\",Iron,\"Laptop friendly workspace\",\"Self Check-In\",Doorman}                                                                                                                                                                                                                                                                                                                                                                                                                                       26\n",
      "                                                                                                                                                                                                                                                                                                                                                                                                                                                                                                                                                                                                                                                                                                                                                           ... \n",
      "{TV,\"Cable TV\",Internet,\"Wireless Internet\",\"Air conditioning\",Pool,Kitchen,\"Free parking on premises\",Gym,Heating,\"Family/kid friendly\",Washer,Dryer,\"Smoke detector\",\"Carbon monoxide detector\",\"Fire extinguisher\",Essentials,Shampoo,\"Lock on bedroom door\",Hangers,\"Hair dryer\",Iron,\"Laptop friendly workspace\",\"Self Check-In\",Lockbox,\"Private entrance\",Bathtub}                                                                                                                                                                                                                                                                                                                                                                                     1\n",
      "{TV,\"Wireless Internet\",\"Air conditioning\",Pool,Kitchen,\"Pets allowed\",Gym,\"Pets live on this property\",Dog(s),Elevator,\"Hot tub\",Heating,\"Family/kid friendly\",Washer,Dryer,\"Smoke detector\",\"Carbon monoxide detector\",Essentials,Shampoo,\"Lock on bedroom door\",Hangers,\"Hair dryer\",Iron,\"Laptop friendly workspace\",\"Self Check-In\",Lockbox,\"Private entrance\",Bathtub,\"Children’s books and toys\",\"Room-darkening shades\",Microwave,\"Coffee maker\",Refrigerator,Dishwasher,\"Dishes and silverware\",\"Cooking basics\",Oven,Stove,\"Single level home\",\"BBQ grill\",\"Patio or balcony\",\"Garden or backyard\",\"Luggage dropoff allowed\",\"Long term stays allowed\",\"Step-free access\",\"Step-free access\",\"Step-free access\",\"Step-free access\",Waterfront}      1\n",
      "{TV,Internet,\"Wireless Internet\",\"Air conditioning\",\"Wheelchair accessible\",Kitchen,Elevator,\"Buzzer/wireless intercom\",Heating,\"Family/kid friendly\",Washer,Dryer,\"Smoke detector\",\"Fire extinguisher\",\"Hair dryer\",\"Laptop friendly workspace\"}                                                                                                                                                                                                                                                                                                                                                                                                                                                                                                             1\n",
      "{TV,\"Cable TV\",Internet,\"Wireless Internet\",\"Air conditioning\",\"Wheelchair accessible\",Kitchen,Doorman,Gym,Elevator,Heating,\"Suitable for events\",Washer,Dryer,\"Smoke detector\",\"Carbon monoxide detector\",\"First aid kit\",\"Safety card\",\"Fire extinguisher\",Essentials,Shampoo,\"Lock on bedroom door\",\"24-hour check-in\",Hangers,\"Hair dryer\",Iron,\"Self Check-In\",Doorman}                                                                                                                                                                                                                                                                                                                                                                                  1\n",
      "{Internet,\"Wireless Internet\",Kitchen,Heating,Essentials,Shampoo,\"Hair dryer\",\"Laptop friendly workspace\"}                                                                                                                                                                                                                                                                                                                                                                                                                                                                                                                                                                                                                                                    1\n",
      "Name: amenities, Length: 67122, dtype: int64\n",
      "== bed_type 5\n",
      "Real Bed         72028\n",
      "Futon              753\n",
      "Pull-out Sofa      585\n",
      "Airbed             477\n",
      "Couch              268\n",
      "Name: bed_type, dtype: int64\n",
      "== cancellation_policy 5\n",
      "strict             32374\n",
      "flexible           22545\n",
      "moderate           19063\n",
      "super_strict_30      112\n",
      "super_strict_60       17\n",
      "Name: cancellation_policy, dtype: int64\n",
      "== city 6\n",
      "NYC        32349\n",
      "LA         22453\n",
      "SF          6434\n",
      "DC          5688\n",
      "Chicago     3719\n",
      "Boston      3468\n",
      "Name: city, dtype: int64\n",
      "== cleaning_fee 2\n",
      "t    54403\n",
      "f    19708\n",
      "Name: cleaning_fee, dtype: int64\n"
     ]
    },
    {
     "name": "stdout",
     "output_type": "stream",
     "text": [
      "== description 73479\n",
      "Hello, I've been running guest house for Koreans visiting U.S. for 3years, and recently decided to run this place for other travelers also. There are 10 room in the house. They are mostly dormitory rooms and couple of couple room and family room. This places are our women's dormitory in third floor. There are three rooms, but no doors. It is basically open space. There are 2 beds in two rooms and 4 in one room. I do not have closet in this room but there are hangers and mini shelves. My travelers usually put their baggage on the floor. There is one full bathroom only for women in 2nd floor, which you will be sharing with other women guests. Right next that bathroom, there is unisex half bathroom. All bathrooms have hair dryers. You cannot use kitchen, but you can use refrigerator.  I offer breakfast every morning from 7-10 am. Bread, cereal, fruits, coffee, milk and juice will be served. You can eat take-out food in the kitchen, but please wash dishes that you used and put trash in the    8\n",
      "Private room in the heart of Little Italy with FREE PARKING :) You will have your own personal door code and may arrive at ANY time you would like and as late as you wish. You can store your luggage in the closet before check-in and after check-out times :) Price adapts to demand, my rates change constantly - every night is different! Put your dates in the calendar, with the number of guests, and what you see is what you'll pay :) The neighborhood is extremely safe even at night :) Restaurants and bars are right round the corner, both upscale and casual. This room is 6 minutes away by car or uber to Chicago's famous Willis (Sears) tower. Uber costs about $7. If you are arriving by car, I am providing free resident parking passes for anywhere in the area. (Yes, that means you can drive a few blocks and still park anywhere you want!) The room will be solely yours for the time you'll stay in the Windy City. Shall you have any concerns or need any tips from the local, I'll always be happy     7\n",
      "Welcome to RMH, a co-ed hostel vibe home for exploring travelers or working individuals needing temporary housing. (Guests access is from 3pm to 11am daily). NON-SMOKERS ONLY! Host & small dog live on property. NOTE: Guests' bedroom is dog free. GUARANTEED In Our Home: *You receive a clean home in a safe neighborhood, clean sheets, pillow, towel and covers. **You MUST Read House Rules BEFORE Booking :) ***IMPORTANT ***SMOKERS who book: reservation cancelled upon arrival + NO Refund. The bedroom is very large with enough space for everyone (6 guests) to have peace and quiet. The kitchen and bath are very spacious. Guests will have their own keys and have access to the bedroom in which they stay, kitchen, bathroom, living room and deck. OPTIONAL: (Normal Check IN is 3pm, Check OUT is 10am) If you would like an EARLY CHECK IN before 3pm ($25 fee) Guests trying to check in after 10pm will need to get pre-approval from host and pay the late check in fee of $25. There is no key box and no gu    6\n",
      "OutpostClub is a network of Coliving locations throughout NewYork. We built it to make it super easy to move to NewYork, and to provide cool convenient places for cheap. Coliving - is a shared housing model - where you share kitchen, living rooms, common spaces with others, having private or shared bedrooms of your choice. Everything is included in the flat fee - utilities, furniture, supplies, events. Book Now, grab your suitcase and move into the House, meet people who will become your friends Coliving Club is a beautifully curated living space in New York with a wide range of amenities such as free workspace with printer and scanner, hi-speed Wi-Fi, fully equipped kitchen, dinner and living space, private backyard, individual safe, coffee, tea, soda, shampoo, shower gel, hand soap, towels and much more! Everything is included in our flat fee. Here we thoroughly picked every detail so that you feel cozy. Expect a great night's sleep with our made in USA memory foam mattresses by Broo    5\n",
      "At the intersection of the charming Leather District, bustling Chinatown, and the Theater District’s entertainment hub, this apartment offers countless opportunities to fully immerse yourself in Boston city life.  Guests can live comfortably in a spacious living space with one bed, a fully-equipped kitchen, and soaring ceilings.  Guests can also take advantage of the many amenities the building offers. 2 bedrooms, 2 bathrooms, sleeps 5 Discover unsurpassed city living in these thoughtfully designed, sophisticated apartment residences. Nestled right where Boston’s Leather District, Chinatown, and the Theater District converge, you’re in the fast lane to every major Boston attraction. The 19th century brick and stone architecture that characterizes The Leather Districts’ famous South Street, provides the backdrop for quite a romantic date night. Looking for a night out with friends? The Theater District is the home to many classic theaters, musicals, concerts, ballets, and drama.  And wh    5\n",
      "                                                                                                                                                                                                                                                                                                                                                                                                                                                                                                                                                                                                                                                                                                                                                                                                                                                                                                                                                                                                                                           ..\n",
      "Great house centrally located . Enjoy large rooms, easy parking,  garden with pingpong, bikes and front yard. The Ballona bike path runs just behind to get to the beach or to the Baldwin Heights State Park. Perfect family vacation with kids, teens. Sunlight pours into the house. There is a living room, a TV room, a kitchen with a separate space to do laundry, kitchen, 4 bedrooms and a small office. Each bedroom has a real  bed and easy access to a bathroom. There is a front yard and a garden in the back, with a ping-pong table, dining table and a hammock. The kitchen comes fully equiped with utensiles. There are 3 bikes and a shop close by. The neighborhood is very quiet and there is space for yoga, meditating, reading, playing ball. Happy to interact and share experiences, but I respect privacy. Enjoy this very central location, Culver City is a quiet village-like neighborhood with many highly-rated and diverse restaurants, movie theater, grocery stores, live theater, hiking and more.    1\n",
      "Stunning apartment with original details, in a historic limestone townhouse, on a landmark street in beautiful Crown Heights Brooklyn. The apartment is a quick 5 minute walk to the subway, where the 3 train will get you to Manhattan in 15 minutes. Restaurants, cafes, a supermarket, a charming park and the Brooklyn Children's Museum are around the corner. The Brooklyn Museum, the Brooklyn Botanic Garden and Prospect Park are a short walk away. Lower level 'bonus room' has a king-size bed!                                                                                                                                                                                                                                                                                                                                                                                                                                                                                                                                1\n",
      "My place is close to Pantages Theatre, Hollywood Blvd, Musso & Frank Grill, Harvard & Stone, and Katsuya Hollywood. You’ll love my place because of the location, the high ceilings, the views, the coziness, and the kitchen. My place is good for couples, solo adventurers, and business travelers.                                                                                                                                                                                                                                                                                                                                                                                                                                                                                                                                                                                                                                                                                                                                      1\n",
      "A block from Tompkins Square Park. It is closed to all of the bars, cafes, and restaurants that the East Village has to offer. This one bedroom apt and the apartment has a balcony and shared-backyard. Exposed brick walls and high ceiling.                                                                                                                                                                                                                                                                                                                                                                                                                                                                                                                                                                                                                                                                                                                                                                                              1\n",
      "Charming 3 bedroom house with gorgeous sunny flowers & succulents, landscaped entertainer's backyard with swimming  pool. Tiki bar. Great location,  NoHo Arts District, boardwalk, restaurants, cafes, bars, studios, freeways.  ** NOT INCLUDED IN TOTAL ** 15.5% Tax on stays 30 days or less **Note: whole house can be rented email to discuss price** Landscaped backyard, washer/dryer, microwave, private bathroom, sunny, charming, hip, tastefully furnished, wifi,  hardwood floors, washer/dryer, microwave, Keurig coffee maker stocked with all the best flavors for your enjoyment,  a/c,  great neighborhood, Noho Arts District, Toluca Lake, close to  parks, hikes, studios, freeways, movie theaters, actors workshops, pilates, yoga studios, shopping, boutiques, wine bars, restaurants, lounges,  and cafes. Bike/Run path  2 blocks away.  Both Trader Joes’ and Whole Foods near by. Amazing hikes in Fryman Canyon, Tree People and Runyon Canyon are minutes away. Convenient to central LA, Silverlake, Hol    1\n",
      "Name: description, Length: 73479, dtype: int64\n",
      "== first_review 2554\n",
      "2017-01-01    293\n",
      "2017-01-22    249\n",
      "2016-01-02    221\n",
      "2017-01-02    211\n",
      "2017-09-04    193\n",
      "             ... \n",
      "2010-08-15      1\n",
      "2012-01-20      1\n",
      "2011-01-25      1\n",
      "2013-09-12      1\n",
      "2012-12-09      1\n",
      "Name: first_review, Length: 2554, dtype: int64\n",
      "== host_has_profile_pic 2\n",
      "t    73697\n",
      "f      226\n",
      "Name: host_has_profile_pic, dtype: int64\n",
      "== host_identity_verified 2\n",
      "t    49748\n",
      "f    24175\n",
      "Name: host_identity_verified, dtype: int64\n",
      "== host_response_rate 80\n",
      "100%    43254\n",
      "90%      2277\n",
      "80%      1113\n",
      "0%        883\n",
      "50%       611\n",
      "        ...  \n",
      "23%         1\n",
      "21%         1\n",
      "6%          1\n",
      "31%         1\n",
      "39%         1\n",
      "Name: host_response_rate, Length: 80, dtype: int64\n",
      "== host_since 3087\n",
      "2015-03-30    246\n",
      "2014-02-14    173\n",
      "2015-05-18     83\n",
      "2016-09-16     83\n",
      "2015-07-06     82\n",
      "             ... \n",
      "2009-04-21      1\n",
      "2010-08-21      1\n",
      "2008-09-10      1\n",
      "2010-01-05      1\n",
      "2009-09-19      1\n",
      "Name: host_since, Length: 3087, dtype: int64\n",
      "== instant_bookable 2\n",
      "f    54660\n",
      "t    19451\n",
      "Name: instant_bookable, dtype: int64\n",
      "== last_review 1371\n",
      "2017-04-30    1344\n",
      "2017-09-24    1278\n",
      "2017-09-17    1215\n",
      "2017-04-23    1025\n",
      "2017-09-18     832\n",
      "              ... \n",
      "2014-10-21       1\n",
      "2013-11-21       1\n",
      "2015-03-30       1\n",
      "2013-03-28       1\n",
      "2014-08-23       1\n",
      "Name: last_review, Length: 1371, dtype: int64\n",
      "== name 73359\n"
     ]
    },
    {
     "name": "stdout",
     "output_type": "stream",
     "text": [
      "Bunk bed in the Treat Street Clubhouse            8\n",
      "East Village Studio                               7\n",
      "Your home away from home                          7\n",
      "Cozy Private Room                                 6\n",
      "Spacious Private Room in Brooklyn                 6\n",
      "                                                 ..\n",
      "Master Suite Studio with pool acces               1\n",
      "Entire UWS Apartment for up to 6!                 1\n",
      "ONE WEEK AVAILABLE IN WILLIAMSBURG                1\n",
      "AUDREY HEPBURN'S HOLLYWOOD SUITE + VIP TICKETS    1\n",
      "MALIBU AT ITS BEST-                               1\n",
      "Name: name, Length: 73359, dtype: int64\n",
      "== neighbourhood 619\n",
      "Williamsburg          2862\n",
      "Bedford-Stuyvesant    2166\n",
      "Bushwick              1601\n",
      "Upper West Side       1396\n",
      "Mid-Wilshire          1392\n",
      "                      ... \n",
      "Mill Basin               1\n",
      "Rolling Hills            1\n",
      "Bethesda, MD             1\n",
      "Near Northeast           1\n",
      "Pullman                  1\n",
      "Name: neighbourhood, Length: 619, dtype: int64\n",
      "== property_type 35\n",
      "Apartment             49003\n",
      "House                 16511\n",
      "Condominium            2658\n",
      "Townhouse              1692\n",
      "Loft                   1244\n",
      "Other                   607\n",
      "Guesthouse              498\n",
      "Bed & Breakfast         462\n",
      "Bungalow                366\n",
      "Villa                   179\n",
      "Dorm                    142\n",
      "Guest suite             123\n",
      "Camper/RV                94\n",
      "Timeshare                77\n",
      "Cabin                    72\n",
      "In-law                   71\n",
      "Hostel                   70\n",
      "Boutique hotel           69\n",
      "Boat                     65\n",
      "Serviced apartment       21\n",
      "Tent                     18\n",
      "Castle                   13\n",
      "Vacation home            11\n",
      "Yurt                      9\n",
      "Hut                       8\n",
      "Treehouse                 7\n",
      "Chalet                    6\n",
      "Earth House               4\n",
      "Tipi                      3\n",
      "Train                     2\n",
      "Cave                      2\n",
      "Parking Space             1\n",
      "Lighthouse                1\n",
      "Island                    1\n",
      "Casa particular           1\n",
      "Name: property_type, dtype: int64\n",
      "== room_type 3\n",
      "Entire home/apt    41310\n",
      "Private room       30638\n",
      "Shared room         2163\n",
      "Name: room_type, dtype: int64\n",
      "== thumbnail_url 65883\n",
      "https://a0.muscache.com/im/pictures/70087089/bc66229a_original.jpg?aki_policy=small              3\n",
      "https://a0.muscache.com/im/pictures/28563531/1000de61_original.jpg?aki_policy=small              2\n",
      "https://a0.muscache.com/im/pictures/4491e5c5-33f6-4704-9887-76a059f86fda.jpg?aki_policy=small    2\n",
      "https://a0.muscache.com/im/pictures/39dc7b1a-15ca-4820-ac7d-44325007f1a2.jpg?aki_policy=small    2\n",
      "https://a0.muscache.com/im/pictures/95059281/d8bfc436_original.jpg?aki_policy=small              2\n",
      "                                                                                                ..\n",
      "https://a0.muscache.com/im/pictures/107729174/a9639fb9_original.jpg?aki_policy=small             1\n",
      "https://a0.muscache.com/im/pictures/2edfd9b6-8df0-4fcd-99df-d70fef279118.jpg?aki_policy=small    1\n",
      "https://a0.muscache.com/im/pictures/5e26e4b9-3c29-4870-82cf-77fe0a0ea868.jpg?aki_policy=small    1\n",
      "https://a0.muscache.com/im/pictures/c85d9257-af0c-4546-b507-5550518d1aeb.jpg?aki_policy=small    1\n",
      "https://a0.muscache.com/im/pictures/18786a1a-0cc6-414c-a05a-bfe22862bef0.jpg?aki_policy=small    1\n",
      "Name: thumbnail_url, Length: 65883, dtype: int64\n",
      "== zipcode 769\n",
      "11211.0       1368\n",
      "90291         1274\n",
      "11221         1188\n",
      "94110          988\n",
      "90046          967\n",
      "              ... \n",
      "11385-2308       1\n",
      "10030.0          1\n",
      "20229            1\n",
      "02143            1\n",
      "11004.0          1\n",
      "Name: zipcode, Length: 769, dtype: int64\n"
     ]
    }
   ],
   "source": [
    "for col in cols_o:\n",
    "    print('==', col, all_df[col].nunique())\n",
    "    print(all_df[col].value_counts())"
   ]
  },
  {
   "cell_type": "code",
   "execution_count": 11,
   "metadata": {},
   "outputs": [],
   "source": [
    "all_df['last_review'] = all_df['last_review'].fillna('9999-99-99')\n",
    "all_df['first_review'] = all_df['first_review'].fillna('9999-99-99')\n",
    "all_df['host_since'] = all_df['host_since'].fillna('9999-99-99')\n"
   ]
  },
  {
   "cell_type": "code",
   "execution_count": 12,
   "metadata": {},
   "outputs": [
    {
     "ename": "ValueError",
     "evalue": "time data 9999-99-99 doesn't match format specified",
     "output_type": "error",
     "traceback": [
      "\u001b[1;31m---------------------------------------------------------------------------\u001b[0m",
      "\u001b[1;31mTypeError\u001b[0m                                 Traceback (most recent call last)",
      "\u001b[1;32mD:\\anaconda3\\lib\\site-packages\\pandas\\core\\arrays\\datetimes.py\u001b[0m in \u001b[0;36mobjects_to_datetime64ns\u001b[1;34m(data, dayfirst, yearfirst, utc, errors, require_iso8601, allow_object)\u001b[0m\n\u001b[0;32m   1855\u001b[0m         \u001b[1;32mtry\u001b[0m\u001b[1;33m:\u001b[0m\u001b[1;33m\u001b[0m\u001b[1;33m\u001b[0m\u001b[0m\n\u001b[1;32m-> 1856\u001b[1;33m             \u001b[0mvalues\u001b[0m\u001b[1;33m,\u001b[0m \u001b[0mtz_parsed\u001b[0m \u001b[1;33m=\u001b[0m \u001b[0mconversion\u001b[0m\u001b[1;33m.\u001b[0m\u001b[0mdatetime_to_datetime64\u001b[0m\u001b[1;33m(\u001b[0m\u001b[0mdata\u001b[0m\u001b[1;33m)\u001b[0m\u001b[1;33m\u001b[0m\u001b[1;33m\u001b[0m\u001b[0m\n\u001b[0m\u001b[0;32m   1857\u001b[0m             \u001b[1;31m# If tzaware, these values represent unix timestamps, so we\u001b[0m\u001b[1;33m\u001b[0m\u001b[1;33m\u001b[0m\u001b[1;33m\u001b[0m\u001b[0m\n",
      "\u001b[1;32mpandas\\_libs\\tslibs\\conversion.pyx\u001b[0m in \u001b[0;36mpandas._libs.tslibs.conversion.datetime_to_datetime64\u001b[1;34m()\u001b[0m\n",
      "\u001b[1;31mTypeError\u001b[0m: Unrecognized value type: <class 'str'>",
      "\nDuring handling of the above exception, another exception occurred:\n",
      "\u001b[1;31mValueError\u001b[0m                                Traceback (most recent call last)",
      "\u001b[1;32m<ipython-input-12-3ef29751537f>\u001b[0m in \u001b[0;36m<module>\u001b[1;34m\u001b[0m\n\u001b[1;32m----> 1\u001b[1;33m \u001b[0mall_df\u001b[0m\u001b[1;33m[\u001b[0m\u001b[1;34m'last_review'\u001b[0m\u001b[1;33m]\u001b[0m \u001b[1;33m=\u001b[0m \u001b[0mpd\u001b[0m\u001b[1;33m.\u001b[0m\u001b[0mto_datetime\u001b[0m\u001b[1;33m(\u001b[0m\u001b[0mall_df\u001b[0m\u001b[1;33m[\u001b[0m\u001b[1;34m'last_review'\u001b[0m\u001b[1;33m]\u001b[0m\u001b[1;33m,\u001b[0m \u001b[0mformat\u001b[0m\u001b[1;33m=\u001b[0m\u001b[1;34m'%Y-%m-%d'\u001b[0m\u001b[1;33m)\u001b[0m\u001b[1;33m\u001b[0m\u001b[1;33m\u001b[0m\u001b[0m\n\u001b[0m\u001b[0;32m      2\u001b[0m \u001b[0mall_df\u001b[0m\u001b[1;33m[\u001b[0m\u001b[1;34m'first_review'\u001b[0m\u001b[1;33m]\u001b[0m \u001b[1;33m=\u001b[0m \u001b[0mpd\u001b[0m\u001b[1;33m.\u001b[0m\u001b[0mto_datetime\u001b[0m\u001b[1;33m(\u001b[0m\u001b[0mall_df\u001b[0m\u001b[1;33m[\u001b[0m\u001b[1;34m'first_review'\u001b[0m\u001b[1;33m]\u001b[0m\u001b[1;33m,\u001b[0m \u001b[0mformat\u001b[0m\u001b[1;33m=\u001b[0m\u001b[1;34m'%Y-%m-%d'\u001b[0m\u001b[1;33m)\u001b[0m\u001b[1;33m\u001b[0m\u001b[1;33m\u001b[0m\u001b[0m\n\u001b[0;32m      3\u001b[0m \u001b[0mall_df\u001b[0m\u001b[1;33m[\u001b[0m\u001b[1;34m'host_since'\u001b[0m\u001b[1;33m]\u001b[0m \u001b[1;33m=\u001b[0m \u001b[0mpd\u001b[0m\u001b[1;33m.\u001b[0m\u001b[0mto_datetime\u001b[0m\u001b[1;33m(\u001b[0m\u001b[0mall_df\u001b[0m\u001b[1;33m[\u001b[0m\u001b[1;34m'host_since'\u001b[0m\u001b[1;33m]\u001b[0m\u001b[1;33m,\u001b[0m \u001b[0mformat\u001b[0m\u001b[1;33m=\u001b[0m\u001b[1;34m'%Y-%m-%d'\u001b[0m\u001b[1;33m)\u001b[0m\u001b[1;33m\u001b[0m\u001b[1;33m\u001b[0m\u001b[0m\n",
      "\u001b[1;32mD:\\anaconda3\\lib\\site-packages\\pandas\\core\\tools\\datetimes.py\u001b[0m in \u001b[0;36mto_datetime\u001b[1;34m(arg, errors, dayfirst, yearfirst, utc, format, exact, unit, infer_datetime_format, origin, cache)\u001b[0m\n\u001b[0;32m    722\u001b[0m                 \u001b[0mresult\u001b[0m \u001b[1;33m=\u001b[0m \u001b[0mresult\u001b[0m\u001b[1;33m.\u001b[0m\u001b[0mtz_localize\u001b[0m\u001b[1;33m(\u001b[0m\u001b[0mtz\u001b[0m\u001b[1;33m)\u001b[0m\u001b[1;33m\u001b[0m\u001b[1;33m\u001b[0m\u001b[0m\n\u001b[0;32m    723\u001b[0m     \u001b[1;32melif\u001b[0m \u001b[0misinstance\u001b[0m\u001b[1;33m(\u001b[0m\u001b[0marg\u001b[0m\u001b[1;33m,\u001b[0m \u001b[0mABCSeries\u001b[0m\u001b[1;33m)\u001b[0m\u001b[1;33m:\u001b[0m\u001b[1;33m\u001b[0m\u001b[1;33m\u001b[0m\u001b[0m\n\u001b[1;32m--> 724\u001b[1;33m         \u001b[0mcache_array\u001b[0m \u001b[1;33m=\u001b[0m \u001b[0m_maybe_cache\u001b[0m\u001b[1;33m(\u001b[0m\u001b[0marg\u001b[0m\u001b[1;33m,\u001b[0m \u001b[0mformat\u001b[0m\u001b[1;33m,\u001b[0m \u001b[0mcache\u001b[0m\u001b[1;33m,\u001b[0m \u001b[0mconvert_listlike\u001b[0m\u001b[1;33m)\u001b[0m\u001b[1;33m\u001b[0m\u001b[1;33m\u001b[0m\u001b[0m\n\u001b[0m\u001b[0;32m    725\u001b[0m         \u001b[1;32mif\u001b[0m \u001b[1;32mnot\u001b[0m \u001b[0mcache_array\u001b[0m\u001b[1;33m.\u001b[0m\u001b[0mempty\u001b[0m\u001b[1;33m:\u001b[0m\u001b[1;33m\u001b[0m\u001b[1;33m\u001b[0m\u001b[0m\n\u001b[0;32m    726\u001b[0m             \u001b[0mresult\u001b[0m \u001b[1;33m=\u001b[0m \u001b[0marg\u001b[0m\u001b[1;33m.\u001b[0m\u001b[0mmap\u001b[0m\u001b[1;33m(\u001b[0m\u001b[0mcache_array\u001b[0m\u001b[1;33m)\u001b[0m\u001b[1;33m\u001b[0m\u001b[1;33m\u001b[0m\u001b[0m\n",
      "\u001b[1;32mD:\\anaconda3\\lib\\site-packages\\pandas\\core\\tools\\datetimes.py\u001b[0m in \u001b[0;36m_maybe_cache\u001b[1;34m(arg, format, cache, convert_listlike)\u001b[0m\n\u001b[0;32m    150\u001b[0m         \u001b[0munique_dates\u001b[0m \u001b[1;33m=\u001b[0m \u001b[0munique\u001b[0m\u001b[1;33m(\u001b[0m\u001b[0marg\u001b[0m\u001b[1;33m)\u001b[0m\u001b[1;33m\u001b[0m\u001b[1;33m\u001b[0m\u001b[0m\n\u001b[0;32m    151\u001b[0m         \u001b[1;32mif\u001b[0m \u001b[0mlen\u001b[0m\u001b[1;33m(\u001b[0m\u001b[0munique_dates\u001b[0m\u001b[1;33m)\u001b[0m \u001b[1;33m<\u001b[0m \u001b[0mlen\u001b[0m\u001b[1;33m(\u001b[0m\u001b[0marg\u001b[0m\u001b[1;33m)\u001b[0m\u001b[1;33m:\u001b[0m\u001b[1;33m\u001b[0m\u001b[1;33m\u001b[0m\u001b[0m\n\u001b[1;32m--> 152\u001b[1;33m             \u001b[0mcache_dates\u001b[0m \u001b[1;33m=\u001b[0m \u001b[0mconvert_listlike\u001b[0m\u001b[1;33m(\u001b[0m\u001b[0munique_dates\u001b[0m\u001b[1;33m,\u001b[0m \u001b[0mformat\u001b[0m\u001b[1;33m)\u001b[0m\u001b[1;33m\u001b[0m\u001b[1;33m\u001b[0m\u001b[0m\n\u001b[0m\u001b[0;32m    153\u001b[0m             \u001b[0mcache_array\u001b[0m \u001b[1;33m=\u001b[0m \u001b[0mSeries\u001b[0m\u001b[1;33m(\u001b[0m\u001b[0mcache_dates\u001b[0m\u001b[1;33m,\u001b[0m \u001b[0mindex\u001b[0m\u001b[1;33m=\u001b[0m\u001b[0munique_dates\u001b[0m\u001b[1;33m)\u001b[0m\u001b[1;33m\u001b[0m\u001b[1;33m\u001b[0m\u001b[0m\n\u001b[0;32m    154\u001b[0m     \u001b[1;32mreturn\u001b[0m \u001b[0mcache_array\u001b[0m\u001b[1;33m\u001b[0m\u001b[1;33m\u001b[0m\u001b[0m\n",
      "\u001b[1;32mD:\\anaconda3\\lib\\site-packages\\pandas\\core\\tools\\datetimes.py\u001b[0m in \u001b[0;36m_convert_listlike_datetimes\u001b[1;34m(arg, format, name, tz, unit, errors, infer_datetime_format, dayfirst, yearfirst, exact)\u001b[0m\n\u001b[0;32m    445\u001b[0m             \u001b[0merrors\u001b[0m\u001b[1;33m=\u001b[0m\u001b[0merrors\u001b[0m\u001b[1;33m,\u001b[0m\u001b[1;33m\u001b[0m\u001b[1;33m\u001b[0m\u001b[0m\n\u001b[0;32m    446\u001b[0m             \u001b[0mrequire_iso8601\u001b[0m\u001b[1;33m=\u001b[0m\u001b[0mrequire_iso8601\u001b[0m\u001b[1;33m,\u001b[0m\u001b[1;33m\u001b[0m\u001b[1;33m\u001b[0m\u001b[0m\n\u001b[1;32m--> 447\u001b[1;33m             \u001b[0mallow_object\u001b[0m\u001b[1;33m=\u001b[0m\u001b[1;32mTrue\u001b[0m\u001b[1;33m,\u001b[0m\u001b[1;33m\u001b[0m\u001b[1;33m\u001b[0m\u001b[0m\n\u001b[0m\u001b[0;32m    448\u001b[0m         )\n\u001b[0;32m    449\u001b[0m \u001b[1;33m\u001b[0m\u001b[0m\n",
      "\u001b[1;32mD:\\anaconda3\\lib\\site-packages\\pandas\\core\\arrays\\datetimes.py\u001b[0m in \u001b[0;36mobjects_to_datetime64ns\u001b[1;34m(data, dayfirst, yearfirst, utc, errors, require_iso8601, allow_object)\u001b[0m\n\u001b[0;32m   1859\u001b[0m             \u001b[1;32mreturn\u001b[0m \u001b[0mvalues\u001b[0m\u001b[1;33m.\u001b[0m\u001b[0mview\u001b[0m\u001b[1;33m(\u001b[0m\u001b[1;34m\"i8\"\u001b[0m\u001b[1;33m)\u001b[0m\u001b[1;33m,\u001b[0m \u001b[0mtz_parsed\u001b[0m\u001b[1;33m\u001b[0m\u001b[1;33m\u001b[0m\u001b[0m\n\u001b[0;32m   1860\u001b[0m         \u001b[1;32mexcept\u001b[0m \u001b[1;33m(\u001b[0m\u001b[0mValueError\u001b[0m\u001b[1;33m,\u001b[0m \u001b[0mTypeError\u001b[0m\u001b[1;33m)\u001b[0m\u001b[1;33m:\u001b[0m\u001b[1;33m\u001b[0m\u001b[1;33m\u001b[0m\u001b[0m\n\u001b[1;32m-> 1861\u001b[1;33m             \u001b[1;32mraise\u001b[0m \u001b[0me\u001b[0m\u001b[1;33m\u001b[0m\u001b[1;33m\u001b[0m\u001b[0m\n\u001b[0m\u001b[0;32m   1862\u001b[0m \u001b[1;33m\u001b[0m\u001b[0m\n\u001b[0;32m   1863\u001b[0m     \u001b[1;32mif\u001b[0m \u001b[0mtz_parsed\u001b[0m \u001b[1;32mis\u001b[0m \u001b[1;32mnot\u001b[0m \u001b[1;32mNone\u001b[0m\u001b[1;33m:\u001b[0m\u001b[1;33m\u001b[0m\u001b[1;33m\u001b[0m\u001b[0m\n",
      "\u001b[1;32mD:\\anaconda3\\lib\\site-packages\\pandas\\core\\arrays\\datetimes.py\u001b[0m in \u001b[0;36mobjects_to_datetime64ns\u001b[1;34m(data, dayfirst, yearfirst, utc, errors, require_iso8601, allow_object)\u001b[0m\n\u001b[0;32m   1850\u001b[0m             \u001b[0mdayfirst\u001b[0m\u001b[1;33m=\u001b[0m\u001b[0mdayfirst\u001b[0m\u001b[1;33m,\u001b[0m\u001b[1;33m\u001b[0m\u001b[1;33m\u001b[0m\u001b[0m\n\u001b[0;32m   1851\u001b[0m             \u001b[0myearfirst\u001b[0m\u001b[1;33m=\u001b[0m\u001b[0myearfirst\u001b[0m\u001b[1;33m,\u001b[0m\u001b[1;33m\u001b[0m\u001b[1;33m\u001b[0m\u001b[0m\n\u001b[1;32m-> 1852\u001b[1;33m             \u001b[0mrequire_iso8601\u001b[0m\u001b[1;33m=\u001b[0m\u001b[0mrequire_iso8601\u001b[0m\u001b[1;33m,\u001b[0m\u001b[1;33m\u001b[0m\u001b[1;33m\u001b[0m\u001b[0m\n\u001b[0m\u001b[0;32m   1853\u001b[0m         )\n\u001b[0;32m   1854\u001b[0m     \u001b[1;32mexcept\u001b[0m \u001b[0mValueError\u001b[0m \u001b[1;32mas\u001b[0m \u001b[0me\u001b[0m\u001b[1;33m:\u001b[0m\u001b[1;33m\u001b[0m\u001b[1;33m\u001b[0m\u001b[0m\n",
      "\u001b[1;32mpandas\\_libs\\tslib.pyx\u001b[0m in \u001b[0;36mpandas._libs.tslib.array_to_datetime\u001b[1;34m()\u001b[0m\n",
      "\u001b[1;32mpandas\\_libs\\tslib.pyx\u001b[0m in \u001b[0;36mpandas._libs.tslib.array_to_datetime\u001b[1;34m()\u001b[0m\n",
      "\u001b[1;31mValueError\u001b[0m: time data 9999-99-99 doesn't match format specified"
     ]
    }
   ],
   "source": [
    "all_df['last_review'] = pd.to_datetime(all_df['last_review'], format='%Y-%m-%d')\n",
    "all_df['first_review'] = pd.to_datetime(all_df['first_review'], format='%Y-%m-%d')\n",
    "all_df['host_since'] = pd.to_datetime(all_df['host_since'], format='%Y-%m-%d')"
   ]
  },
  {
   "cell_type": "code",
   "execution_count": null,
   "metadata": {},
   "outputs": [],
   "source": [
    "all_df['host_response_rate'].apply(lambda x: x)"
   ]
  },
  {
   "cell_type": "code",
   "execution_count": null,
   "metadata": {},
   "outputs": [],
   "source": [
    "all_df.isnull().sum()"
   ]
  },
  {
   "cell_type": "code",
   "execution_count": null,
   "metadata": {},
   "outputs": [],
   "source": [
    "all_df['bathrooms'].hist()"
   ]
  },
  {
   "cell_type": "code",
   "execution_count": null,
   "metadata": {},
   "outputs": [],
   "source": [
    "all_df['bedrooms'].hist()"
   ]
  },
  {
   "cell_type": "code",
   "execution_count": 13,
   "metadata": {},
   "outputs": [
    {
     "data": {
      "text/plain": [
       "<matplotlib.axes._subplots.AxesSubplot at 0x20b4732c508>"
      ]
     },
     "execution_count": 13,
     "metadata": {},
     "output_type": "execute_result"
    },
    {
     "data": {
      "image/png": "[encoded data removed]",
      "text/plain": [
       "<Figure size 432x288 with 1 Axes>"
      ]
     },
     "metadata": {},
     "output_type": "display_data"
    }
   ],
   "source": [
    "all_df['beds'].hist()"
   ]
  },
  {
   "cell_type": "code",
   "execution_count": 14,
   "metadata": {},
   "outputs": [
    {
     "data": {
      "text/plain": [
       "<matplotlib.axes._subplots.AxesSubplot at 0x20b49e29a08>"
      ]
     },
     "execution_count": 14,
     "metadata": {},
     "output_type": "execute_result"
    },
    {
     "data": {
      "image/png": "[encoded data removed]",
      "text/plain": [
       "<Figure size 432x288 with 1 Axes>"
      ]
     },
     "metadata": {},
     "output_type": "display_data"
    }
   ],
   "source": [
    "all_df['host_since'].hist()"
   ]
  },
  {
   "cell_type": "code",
   "execution_count": 15,
   "metadata": {},
   "outputs": [
    {
     "data": {
      "text/plain": [
       "<matplotlib.axes._subplots.AxesSubplot at 0x20b50790d88>"
      ]
     },
     "execution_count": 15,
     "metadata": {},
     "output_type": "execute_result"
    },
    {
     "data": {
      "image/png": "[encoded data removed]",
      "text/plain": [
       "<Figure size 432x288 with 1 Axes>"
      ]
     },
     "metadata": {},
     "output_type": "display_data"
    }
   ],
   "source": [
    "all_df['last_review'].hist()"
   ]
  },
  {
   "cell_type": "code",
   "execution_count": 16,
   "metadata": {},
   "outputs": [
    {
     "data": {
      "text/plain": [
       "<matplotlib.axes._subplots.AxesSubplot at 0x20b5823a048>"
      ]
     },
     "execution_count": 16,
     "metadata": {},
     "output_type": "execute_result"
    },
    {
     "data": {
      "image/png": "[encoded data removed]",
      "text/plain": [
       "<Figure size 432x288 with 1 Axes>"
      ]
     },
     "metadata": {},
     "output_type": "display_data"
    }
   ],
   "source": [
    "all_df['review_scores_rating'].hist()"
   ]
  },
  {
   "cell_type": "code",
   "execution_count": 17,
   "metadata": {},
   "outputs": [
    {
     "data": {
      "text/plain": [
       "(id\n",
       " 0        2016-07-27\n",
       " 1        2017-03-31\n",
       " 2        2017-08-13\n",
       " 3        2017-09-03\n",
       " 4        2017-09-10\n",
       "             ...    \n",
       " 18523    9999-99-99\n",
       " 18524    2017-04-11\n",
       " 18525    9999-99-99\n",
       " 18526    2017-05-08\n",
       " 18527    2017-01-24\n",
       " Name: last_review, Length: 74111, dtype: object,\n",
       " id\n",
       " 0        2016-07-13\n",
       " 1        2015-12-30\n",
       " 2        2016-05-21\n",
       " 3        2012-06-19\n",
       " 4        2015-03-25\n",
       "             ...    \n",
       " 18523    2009-11-16\n",
       " 18524    2017-01-08\n",
       " 18525    2014-09-02\n",
       " 18526    2014-03-17\n",
       " 18527    2015-08-19\n",
       " Name: host_since, Length: 74111, dtype: object)"
      ]
     },
     "execution_count": 17,
     "metadata": {},
     "output_type": "execute_result"
    }
   ],
   "source": [
    "all_df['last_review'], all_df['host_since']"
   ]
  },
  {
   "cell_type": "code",
   "execution_count": 18,
   "metadata": {},
   "outputs": [
    {
     "data": {
      "text/plain": [
       "id\n",
       "0          -1\n",
       "1        100%\n",
       "2        100%\n",
       "3        100%\n",
       "4        100%\n",
       "         ... \n",
       "18523    100%\n",
       "18524    100%\n",
       "18525    100%\n",
       "18526    100%\n",
       "18527    100%\n",
       "Name: host_response_rate, Length: 74111, dtype: object"
      ]
     },
     "execution_count": 18,
     "metadata": {},
     "output_type": "execute_result"
    }
   ],
   "source": [
    "all_df['host_response_rate'] = all_df['host_response_rate'].fillna(-1)\n",
    "all_df['host_response_rate'] = all_df['host_response_rate'].apply(lambda x: x if x != '' else -1)\n",
    "all_df['host_response_rate']"
   ]
  },
  {
   "cell_type": "code",
   "execution_count": 19,
   "metadata": {},
   "outputs": [
    {
     "data": {
      "text/plain": [
       "id\n",
       "0         -1\n",
       "1        100\n",
       "2        100\n",
       "3        100\n",
       "4        100\n",
       "        ... \n",
       "18523    100\n",
       "18524    100\n",
       "18525    100\n",
       "18526    100\n",
       "18527    100\n",
       "Name: host_response_rate, Length: 74111, dtype: object"
      ]
     },
     "execution_count": 19,
     "metadata": {},
     "output_type": "execute_result"
    }
   ],
   "source": [
    "all_df['host_response_rate'] =all_df['host_response_rate'].apply(lambda x: x if x == -1 else x[:-1])\n",
    "all_df['host_response_rate']"
   ]
  },
  {
   "cell_type": "code",
   "execution_count": 20,
   "metadata": {},
   "outputs": [
    {
     "data": {
      "text/plain": [
       "100    43254\n",
       "-1     18299\n",
       "90      2277\n",
       "80      1113\n",
       "0        883\n",
       "       ...  \n",
       "31         1\n",
       "21         1\n",
       "6          1\n",
       "23         1\n",
       "15         1\n",
       "Name: host_response_rate, Length: 81, dtype: int64"
      ]
     },
     "execution_count": 20,
     "metadata": {},
     "output_type": "execute_result"
    }
   ],
   "source": [
    "all_df['host_response_rate'].value_counts()"
   ]
  },
  {
   "cell_type": "code",
   "execution_count": 21,
   "metadata": {},
   "outputs": [
    {
     "data": {
      "text/plain": [
       "id\n",
       "0        90804\n",
       "1        20018\n",
       "2        99999\n",
       "3        94133\n",
       "4        10024\n",
       "         ...  \n",
       "18523    11222\n",
       "18524    60657\n",
       "18525    60618\n",
       "18526    10029\n",
       "18527    90027\n",
       "Name: zipcode, Length: 74111, dtype: object"
      ]
     },
     "execution_count": 21,
     "metadata": {},
     "output_type": "execute_result"
    }
   ],
   "source": [
    "all_df['zipcode'] = all_df['zipcode'].str[:5]\n",
    "all_df['zipcode'] = all_df['zipcode'].fillna(99999)\n",
    "all_df['zipcode']"
   ]
  },
  {
   "cell_type": "code",
   "execution_count": 22,
   "metadata": {},
   "outputs": [
    {
     "data": {
      "text/plain": [
       "accommodates                  0\n",
       "amenities                     0\n",
       "bathrooms                   200\n",
       "bed_type                      0\n",
       "bedrooms                     91\n",
       "beds                        131\n",
       "cancellation_policy           0\n",
       "city                          0\n",
       "cleaning_fee                  0\n",
       "description                   0\n",
       "first_review                  0\n",
       "host_has_profile_pic        188\n",
       "host_identity_verified      188\n",
       "host_response_rate            0\n",
       "host_since                    0\n",
       "instant_bookable              0\n",
       "last_review                   0\n",
       "latitude                      0\n",
       "longitude                     0\n",
       "name                          0\n",
       "neighbourhood              6872\n",
       "number_of_reviews             0\n",
       "property_type                 0\n",
       "review_scores_rating      16722\n",
       "room_type                     0\n",
       "thumbnail_url              8216\n",
       "zipcode                       0\n",
       "y                             0\n",
       "dtype: int64"
      ]
     },
     "execution_count": 22,
     "metadata": {},
     "output_type": "execute_result"
    }
   ],
   "source": [
    "all_df.isnull().sum()"
   ]
  },
  {
   "cell_type": "code",
   "execution_count": 23,
   "metadata": {},
   "outputs": [],
   "source": [
    "aa = pd.DataFrame(all_df.isnull().sum())"
   ]
  },
  {
   "cell_type": "code",
   "execution_count": 24,
   "metadata": {},
   "outputs": [],
   "source": [
    "ab  = aa[aa[0] == 0]"
   ]
  },
  {
   "cell_type": "code",
   "execution_count": 25,
   "metadata": {},
   "outputs": [],
   "source": [
    "ab = ab.index.tolist()"
   ]
  },
  {
   "cell_type": "code",
   "execution_count": 26,
   "metadata": {},
   "outputs": [
    {
     "data": {
      "text/plain": [
       "['accommodates',\n",
       " 'amenities',\n",
       " 'bed_type',\n",
       " 'cancellation_policy',\n",
       " 'city',\n",
       " 'cleaning_fee',\n",
       " 'description',\n",
       " 'first_review',\n",
       " 'host_response_rate',\n",
       " 'host_since',\n",
       " 'instant_bookable',\n",
       " 'last_review',\n",
       " 'latitude',\n",
       " 'longitude',\n",
       " 'name',\n",
       " 'number_of_reviews',\n",
       " 'property_type',\n",
       " 'room_type',\n",
       " 'zipcode',\n",
       " 'y']"
      ]
     },
     "execution_count": 26,
     "metadata": {},
     "output_type": "execute_result"
    }
   ],
   "source": [
    "ab"
   ]
  },
  {
   "cell_type": "code",
   "execution_count": 27,
   "metadata": {},
   "outputs": [
    {
     "data": {
      "text/html": [
       "<div>\n",
       "<style scoped>\n",
       "    .dataframe tbody tr th:only-of-type {\n",
       "        vertical-align: middle;\n",
       "    }\n",
       "\n",
       "    .dataframe tbody tr th {\n",
       "        vertical-align: top;\n",
       "    }\n",
       "\n",
       "    .dataframe thead th {\n",
       "        text-align: right;\n",
       "    }\n",
       "</style>\n",
       "<table border=\"1\" class=\"dataframe\">\n",
       "  <thead>\n",
       "    <tr style=\"text-align: right;\">\n",
       "      <th></th>\n",
       "      <th>accommodates</th>\n",
       "      <th>amenities</th>\n",
       "      <th>bed_type</th>\n",
       "      <th>cancellation_policy</th>\n",
       "      <th>city</th>\n",
       "      <th>cleaning_fee</th>\n",
       "      <th>description</th>\n",
       "      <th>first_review</th>\n",
       "      <th>host_response_rate</th>\n",
       "      <th>host_since</th>\n",
       "      <th>instant_bookable</th>\n",
       "      <th>last_review</th>\n",
       "      <th>latitude</th>\n",
       "      <th>longitude</th>\n",
       "      <th>name</th>\n",
       "      <th>number_of_reviews</th>\n",
       "      <th>property_type</th>\n",
       "      <th>room_type</th>\n",
       "      <th>zipcode</th>\n",
       "      <th>y</th>\n",
       "    </tr>\n",
       "    <tr>\n",
       "      <th>id</th>\n",
       "      <th></th>\n",
       "      <th></th>\n",
       "      <th></th>\n",
       "      <th></th>\n",
       "      <th></th>\n",
       "      <th></th>\n",
       "      <th></th>\n",
       "      <th></th>\n",
       "      <th></th>\n",
       "      <th></th>\n",
       "      <th></th>\n",
       "      <th></th>\n",
       "      <th></th>\n",
       "      <th></th>\n",
       "      <th></th>\n",
       "      <th></th>\n",
       "      <th></th>\n",
       "      <th></th>\n",
       "      <th></th>\n",
       "      <th></th>\n",
       "    </tr>\n",
       "  </thead>\n",
       "  <tbody>\n",
       "    <tr>\n",
       "      <th>0</th>\n",
       "      <td>6</td>\n",
       "      <td>{TV,\"Wireless Internet\",Kitchen,\"Free parking ...</td>\n",
       "      <td>Real Bed</td>\n",
       "      <td>flexible</td>\n",
       "      <td>LA</td>\n",
       "      <td>t</td>\n",
       "      <td>My place is meant for family and a few friends...</td>\n",
       "      <td>2016-07-27</td>\n",
       "      <td>-1</td>\n",
       "      <td>2016-07-13</td>\n",
       "      <td>f</td>\n",
       "      <td>2016-07-27</td>\n",
       "      <td>33.788931</td>\n",
       "      <td>-118.154761</td>\n",
       "      <td>The Penthouse</td>\n",
       "      <td>1</td>\n",
       "      <td>Apartment</td>\n",
       "      <td>Private room</td>\n",
       "      <td>90804</td>\n",
       "      <td>138.0</td>\n",
       "    </tr>\n",
       "    <tr>\n",
       "      <th>1</th>\n",
       "      <td>2</td>\n",
       "      <td>{TV,\"Cable TV\",Internet,\"Wireless Internet\",\"A...</td>\n",
       "      <td>Real Bed</td>\n",
       "      <td>strict</td>\n",
       "      <td>DC</td>\n",
       "      <td>t</td>\n",
       "      <td>This is a new listing for a lovely guest bedro...</td>\n",
       "      <td>2016-09-12</td>\n",
       "      <td>100</td>\n",
       "      <td>2015-12-30</td>\n",
       "      <td>f</td>\n",
       "      <td>2017-03-31</td>\n",
       "      <td>38.934810</td>\n",
       "      <td>-76.978190</td>\n",
       "      <td>Guest Bedroom in Brookland</td>\n",
       "      <td>9</td>\n",
       "      <td>House</td>\n",
       "      <td>Private room</td>\n",
       "      <td>20018</td>\n",
       "      <td>42.0</td>\n",
       "    </tr>\n",
       "    <tr>\n",
       "      <th>2</th>\n",
       "      <td>2</td>\n",
       "      <td>{TV,Internet,\"Wireless Internet\",Kitchen,\"Indo...</td>\n",
       "      <td>Real Bed</td>\n",
       "      <td>strict</td>\n",
       "      <td>NYC</td>\n",
       "      <td>t</td>\n",
       "      <td>We're looking forward to your stay at our apt....</td>\n",
       "      <td>2016-06-15</td>\n",
       "      <td>100</td>\n",
       "      <td>2016-05-21</td>\n",
       "      <td>t</td>\n",
       "      <td>2017-08-13</td>\n",
       "      <td>40.695118</td>\n",
       "      <td>-73.926240</td>\n",
       "      <td>Clean Modern Room in Lux Apt 1 Block From J Train</td>\n",
       "      <td>27</td>\n",
       "      <td>Apartment</td>\n",
       "      <td>Private room</td>\n",
       "      <td>99999</td>\n",
       "      <td>65.0</td>\n",
       "    </tr>\n",
       "    <tr>\n",
       "      <th>3</th>\n",
       "      <td>2</td>\n",
       "      <td>{TV,\"Cable TV\",Internet,\"Wireless Internet\",\"A...</td>\n",
       "      <td>Real Bed</td>\n",
       "      <td>strict</td>\n",
       "      <td>SF</td>\n",
       "      <td>t</td>\n",
       "      <td>BEST CITY VIEWS - - ROOF DECK W/ BBQ &amp; WiFi - ...</td>\n",
       "      <td>2014-03-15</td>\n",
       "      <td>100</td>\n",
       "      <td>2012-06-19</td>\n",
       "      <td>t</td>\n",
       "      <td>2017-09-03</td>\n",
       "      <td>37.796728</td>\n",
       "      <td>-122.411906</td>\n",
       "      <td>BEST views + reviews! 5/5 stars*****</td>\n",
       "      <td>38</td>\n",
       "      <td>Apartment</td>\n",
       "      <td>Private room</td>\n",
       "      <td>94133</td>\n",
       "      <td>166.0</td>\n",
       "    </tr>\n",
       "    <tr>\n",
       "      <th>4</th>\n",
       "      <td>2</td>\n",
       "      <td>{TV,Internet,\"Wireless Internet\",\"Air conditio...</td>\n",
       "      <td>Real Bed</td>\n",
       "      <td>strict</td>\n",
       "      <td>NYC</td>\n",
       "      <td>t</td>\n",
       "      <td>Charming Apartment on the upper west side of M...</td>\n",
       "      <td>2015-08-05</td>\n",
       "      <td>100</td>\n",
       "      <td>2015-03-25</td>\n",
       "      <td>f</td>\n",
       "      <td>2017-09-10</td>\n",
       "      <td>40.785050</td>\n",
       "      <td>-73.974691</td>\n",
       "      <td>Charming 1-bedroom - UWS Manhattan</td>\n",
       "      <td>5</td>\n",
       "      <td>Apartment</td>\n",
       "      <td>Entire home/apt</td>\n",
       "      <td>10024</td>\n",
       "      <td>165.0</td>\n",
       "    </tr>\n",
       "    <tr>\n",
       "      <th>...</th>\n",
       "      <td>...</td>\n",
       "      <td>...</td>\n",
       "      <td>...</td>\n",
       "      <td>...</td>\n",
       "      <td>...</td>\n",
       "      <td>...</td>\n",
       "      <td>...</td>\n",
       "      <td>...</td>\n",
       "      <td>...</td>\n",
       "      <td>...</td>\n",
       "      <td>...</td>\n",
       "      <td>...</td>\n",
       "      <td>...</td>\n",
       "      <td>...</td>\n",
       "      <td>...</td>\n",
       "      <td>...</td>\n",
       "      <td>...</td>\n",
       "      <td>...</td>\n",
       "      <td>...</td>\n",
       "      <td>...</td>\n",
       "    </tr>\n",
       "    <tr>\n",
       "      <th>18523</th>\n",
       "      <td>4</td>\n",
       "      <td>{TV,Internet,\"Wireless Internet\",\"Air conditio...</td>\n",
       "      <td>Real Bed</td>\n",
       "      <td>strict</td>\n",
       "      <td>NYC</td>\n",
       "      <td>t</td>\n",
       "      <td>The Greenhouse, located on Green Street, is a ...</td>\n",
       "      <td>9999-99-99</td>\n",
       "      <td>100</td>\n",
       "      <td>2009-11-16</td>\n",
       "      <td>f</td>\n",
       "      <td>9999-99-99</td>\n",
       "      <td>40.734555</td>\n",
       "      <td>-73.954892</td>\n",
       "      <td>Spacious 2BR Greenpoint Getaway</td>\n",
       "      <td>0</td>\n",
       "      <td>Apartment</td>\n",
       "      <td>Entire home/apt</td>\n",
       "      <td>11222</td>\n",
       "      <td>-999.0</td>\n",
       "    </tr>\n",
       "    <tr>\n",
       "      <th>18524</th>\n",
       "      <td>2</td>\n",
       "      <td>{TV,\"Wireless Internet\",\"Air conditioning\",Kit...</td>\n",
       "      <td>Real Bed</td>\n",
       "      <td>flexible</td>\n",
       "      <td>Chicago</td>\n",
       "      <td>f</td>\n",
       "      <td>Two bedroom, one bathroom with large dining/li...</td>\n",
       "      <td>2017-01-16</td>\n",
       "      <td>100</td>\n",
       "      <td>2017-01-08</td>\n",
       "      <td>f</td>\n",
       "      <td>2017-04-11</td>\n",
       "      <td>41.945939</td>\n",
       "      <td>-87.672018</td>\n",
       "      <td>Walk up Apartment in Lakeview/Wrigleyville</td>\n",
       "      <td>9</td>\n",
       "      <td>Apartment</td>\n",
       "      <td>Entire home/apt</td>\n",
       "      <td>60657</td>\n",
       "      <td>-999.0</td>\n",
       "    </tr>\n",
       "    <tr>\n",
       "      <th>18525</th>\n",
       "      <td>5</td>\n",
       "      <td>{TV,\"Wireless Internet\",\"Air conditioning\",Kit...</td>\n",
       "      <td>Real Bed</td>\n",
       "      <td>flexible</td>\n",
       "      <td>Chicago</td>\n",
       "      <td>t</td>\n",
       "      <td>Happy Holidays! If you're looking for a big op...</td>\n",
       "      <td>9999-99-99</td>\n",
       "      <td>100</td>\n",
       "      <td>2014-09-02</td>\n",
       "      <td>f</td>\n",
       "      <td>9999-99-99</td>\n",
       "      <td>41.933123</td>\n",
       "      <td>-87.708087</td>\n",
       "      <td>Beautiful Logan Square Home</td>\n",
       "      <td>0</td>\n",
       "      <td>House</td>\n",
       "      <td>Entire home/apt</td>\n",
       "      <td>60618</td>\n",
       "      <td>-999.0</td>\n",
       "    </tr>\n",
       "    <tr>\n",
       "      <th>18526</th>\n",
       "      <td>2</td>\n",
       "      <td>{Internet,\"Wireless Internet\",\"Air conditionin...</td>\n",
       "      <td>Real Bed</td>\n",
       "      <td>strict</td>\n",
       "      <td>NYC</td>\n",
       "      <td>t</td>\n",
       "      <td>This is a cozy one-bedroom apartment a few blo...</td>\n",
       "      <td>2016-04-15</td>\n",
       "      <td>100</td>\n",
       "      <td>2014-03-17</td>\n",
       "      <td>f</td>\n",
       "      <td>2017-05-08</td>\n",
       "      <td>40.788702</td>\n",
       "      <td>-73.947358</td>\n",
       "      <td>Charming 1 BR apartment east of Central Park</td>\n",
       "      <td>4</td>\n",
       "      <td>Apartment</td>\n",
       "      <td>Entire home/apt</td>\n",
       "      <td>10029</td>\n",
       "      <td>-999.0</td>\n",
       "    </tr>\n",
       "    <tr>\n",
       "      <th>18527</th>\n",
       "      <td>1</td>\n",
       "      <td>{TV,Internet,\"Wireless Internet\",Kitchen,\"Elev...</td>\n",
       "      <td>Real Bed</td>\n",
       "      <td>strict</td>\n",
       "      <td>LA</td>\n",
       "      <td>f</td>\n",
       "      <td>Charming clean living room for rent. Amenities...</td>\n",
       "      <td>2015-08-26</td>\n",
       "      <td>100</td>\n",
       "      <td>2015-08-19</td>\n",
       "      <td>t</td>\n",
       "      <td>2017-01-24</td>\n",
       "      <td>34.110704</td>\n",
       "      <td>-118.289092</td>\n",
       "      <td>Clean Spacious living room for rent</td>\n",
       "      <td>21</td>\n",
       "      <td>Apartment</td>\n",
       "      <td>Shared room</td>\n",
       "      <td>90027</td>\n",
       "      <td>-999.0</td>\n",
       "    </tr>\n",
       "  </tbody>\n",
       "</table>\n",
       "<p>74111 rows × 20 columns</p>\n",
       "</div>"
      ],
      "text/plain": [
       "       accommodates                                          amenities  \\\n",
       "id                                                                       \n",
       "0                 6  {TV,\"Wireless Internet\",Kitchen,\"Free parking ...   \n",
       "1                 2  {TV,\"Cable TV\",Internet,\"Wireless Internet\",\"A...   \n",
       "2                 2  {TV,Internet,\"Wireless Internet\",Kitchen,\"Indo...   \n",
       "3                 2  {TV,\"Cable TV\",Internet,\"Wireless Internet\",\"A...   \n",
       "4                 2  {TV,Internet,\"Wireless Internet\",\"Air conditio...   \n",
       "...             ...                                                ...   \n",
       "18523             4  {TV,Internet,\"Wireless Internet\",\"Air conditio...   \n",
       "18524             2  {TV,\"Wireless Internet\",\"Air conditioning\",Kit...   \n",
       "18525             5  {TV,\"Wireless Internet\",\"Air conditioning\",Kit...   \n",
       "18526             2  {Internet,\"Wireless Internet\",\"Air conditionin...   \n",
       "18527             1  {TV,Internet,\"Wireless Internet\",Kitchen,\"Elev...   \n",
       "\n",
       "       bed_type cancellation_policy     city cleaning_fee  \\\n",
       "id                                                          \n",
       "0      Real Bed            flexible       LA            t   \n",
       "1      Real Bed              strict       DC            t   \n",
       "2      Real Bed              strict      NYC            t   \n",
       "3      Real Bed              strict       SF            t   \n",
       "4      Real Bed              strict      NYC            t   \n",
       "...         ...                 ...      ...          ...   \n",
       "18523  Real Bed              strict      NYC            t   \n",
       "18524  Real Bed            flexible  Chicago            f   \n",
       "18525  Real Bed            flexible  Chicago            t   \n",
       "18526  Real Bed              strict      NYC            t   \n",
       "18527  Real Bed              strict       LA            f   \n",
       "\n",
       "                                             description first_review  \\\n",
       "id                                                                      \n",
       "0      My place is meant for family and a few friends...   2016-07-27   \n",
       "1      This is a new listing for a lovely guest bedro...   2016-09-12   \n",
       "2      We're looking forward to your stay at our apt....   2016-06-15   \n",
       "3      BEST CITY VIEWS - - ROOF DECK W/ BBQ & WiFi - ...   2014-03-15   \n",
       "4      Charming Apartment on the upper west side of M...   2015-08-05   \n",
       "...                                                  ...          ...   \n",
       "18523  The Greenhouse, located on Green Street, is a ...   9999-99-99   \n",
       "18524  Two bedroom, one bathroom with large dining/li...   2017-01-16   \n",
       "18525  Happy Holidays! If you're looking for a big op...   9999-99-99   \n",
       "18526  This is a cozy one-bedroom apartment a few blo...   2016-04-15   \n",
       "18527  Charming clean living room for rent. Amenities...   2015-08-26   \n",
       "\n",
       "      host_response_rate  host_since instant_bookable last_review   latitude  \\\n",
       "id                                                                             \n",
       "0                     -1  2016-07-13                f  2016-07-27  33.788931   \n",
       "1                    100  2015-12-30                f  2017-03-31  38.934810   \n",
       "2                    100  2016-05-21                t  2017-08-13  40.695118   \n",
       "3                    100  2012-06-19                t  2017-09-03  37.796728   \n",
       "4                    100  2015-03-25                f  2017-09-10  40.785050   \n",
       "...                  ...         ...              ...         ...        ...   \n",
       "18523                100  2009-11-16                f  9999-99-99  40.734555   \n",
       "18524                100  2017-01-08                f  2017-04-11  41.945939   \n",
       "18525                100  2014-09-02                f  9999-99-99  41.933123   \n",
       "18526                100  2014-03-17                f  2017-05-08  40.788702   \n",
       "18527                100  2015-08-19                t  2017-01-24  34.110704   \n",
       "\n",
       "        longitude                                               name  \\\n",
       "id                                                                     \n",
       "0     -118.154761                                      The Penthouse   \n",
       "1      -76.978190                         Guest Bedroom in Brookland   \n",
       "2      -73.926240  Clean Modern Room in Lux Apt 1 Block From J Train   \n",
       "3     -122.411906               BEST views + reviews! 5/5 stars*****   \n",
       "4      -73.974691                 Charming 1-bedroom - UWS Manhattan   \n",
       "...           ...                                                ...   \n",
       "18523  -73.954892                    Spacious 2BR Greenpoint Getaway   \n",
       "18524  -87.672018         Walk up Apartment in Lakeview/Wrigleyville   \n",
       "18525  -87.708087                        Beautiful Logan Square Home   \n",
       "18526  -73.947358       Charming 1 BR apartment east of Central Park   \n",
       "18527 -118.289092                Clean Spacious living room for rent   \n",
       "\n",
       "       number_of_reviews property_type        room_type zipcode      y  \n",
       "id                                                                      \n",
       "0                      1     Apartment     Private room   90804  138.0  \n",
       "1                      9         House     Private room   20018   42.0  \n",
       "2                     27     Apartment     Private room   99999   65.0  \n",
       "3                     38     Apartment     Private room   94133  166.0  \n",
       "4                      5     Apartment  Entire home/apt   10024  165.0  \n",
       "...                  ...           ...              ...     ...    ...  \n",
       "18523                  0     Apartment  Entire home/apt   11222 -999.0  \n",
       "18524                  9     Apartment  Entire home/apt   60657 -999.0  \n",
       "18525                  0         House  Entire home/apt   60618 -999.0  \n",
       "18526                  4     Apartment  Entire home/apt   10029 -999.0  \n",
       "18527                 21     Apartment      Shared room   90027 -999.0  \n",
       "\n",
       "[74111 rows x 20 columns]"
      ]
     },
     "execution_count": 27,
     "metadata": {},
     "output_type": "execute_result"
    }
   ],
   "source": [
    "all_df[ab]"
   ]
  },
  {
   "cell_type": "code",
   "execution_count": 28,
   "metadata": {},
   "outputs": [],
   "source": [
    "ab = [\n",
    " 'bed_type',\n",
    " 'cancellation_policy',\n",
    " 'city',\n",
    " 'cleaning_fee',\n",
    " 'instant_bookable',\n",
    " 'property_type',\n",
    " 'room_type',\n",
    "]"
   ]
  },
  {
   "cell_type": "code",
   "execution_count": 29,
   "metadata": {},
   "outputs": [
    {
     "data": {
      "text/html": [
       "<div>\n",
       "<style scoped>\n",
       "    .dataframe tbody tr th:only-of-type {\n",
       "        vertical-align: middle;\n",
       "    }\n",
       "\n",
       "    .dataframe tbody tr th {\n",
       "        vertical-align: top;\n",
       "    }\n",
       "\n",
       "    .dataframe thead th {\n",
       "        text-align: right;\n",
       "    }\n",
       "</style>\n",
       "<table border=\"1\" class=\"dataframe\">\n",
       "  <thead>\n",
       "    <tr style=\"text-align: right;\">\n",
       "      <th></th>\n",
       "      <th>bed_type</th>\n",
       "      <th>cancellation_policy</th>\n",
       "      <th>city</th>\n",
       "      <th>cleaning_fee</th>\n",
       "      <th>instant_bookable</th>\n",
       "      <th>property_type</th>\n",
       "      <th>room_type</th>\n",
       "    </tr>\n",
       "    <tr>\n",
       "      <th>id</th>\n",
       "      <th></th>\n",
       "      <th></th>\n",
       "      <th></th>\n",
       "      <th></th>\n",
       "      <th></th>\n",
       "      <th></th>\n",
       "      <th></th>\n",
       "    </tr>\n",
       "  </thead>\n",
       "  <tbody>\n",
       "    <tr>\n",
       "      <th>0</th>\n",
       "      <td>Real Bed</td>\n",
       "      <td>flexible</td>\n",
       "      <td>LA</td>\n",
       "      <td>t</td>\n",
       "      <td>f</td>\n",
       "      <td>Apartment</td>\n",
       "      <td>Private room</td>\n",
       "    </tr>\n",
       "    <tr>\n",
       "      <th>1</th>\n",
       "      <td>Real Bed</td>\n",
       "      <td>strict</td>\n",
       "      <td>DC</td>\n",
       "      <td>t</td>\n",
       "      <td>f</td>\n",
       "      <td>House</td>\n",
       "      <td>Private room</td>\n",
       "    </tr>\n",
       "    <tr>\n",
       "      <th>2</th>\n",
       "      <td>Real Bed</td>\n",
       "      <td>strict</td>\n",
       "      <td>NYC</td>\n",
       "      <td>t</td>\n",
       "      <td>t</td>\n",
       "      <td>Apartment</td>\n",
       "      <td>Private room</td>\n",
       "    </tr>\n",
       "    <tr>\n",
       "      <th>3</th>\n",
       "      <td>Real Bed</td>\n",
       "      <td>strict</td>\n",
       "      <td>SF</td>\n",
       "      <td>t</td>\n",
       "      <td>t</td>\n",
       "      <td>Apartment</td>\n",
       "      <td>Private room</td>\n",
       "    </tr>\n",
       "    <tr>\n",
       "      <th>4</th>\n",
       "      <td>Real Bed</td>\n",
       "      <td>strict</td>\n",
       "      <td>NYC</td>\n",
       "      <td>t</td>\n",
       "      <td>f</td>\n",
       "      <td>Apartment</td>\n",
       "      <td>Entire home/apt</td>\n",
       "    </tr>\n",
       "    <tr>\n",
       "      <th>...</th>\n",
       "      <td>...</td>\n",
       "      <td>...</td>\n",
       "      <td>...</td>\n",
       "      <td>...</td>\n",
       "      <td>...</td>\n",
       "      <td>...</td>\n",
       "      <td>...</td>\n",
       "    </tr>\n",
       "    <tr>\n",
       "      <th>18523</th>\n",
       "      <td>Real Bed</td>\n",
       "      <td>strict</td>\n",
       "      <td>NYC</td>\n",
       "      <td>t</td>\n",
       "      <td>f</td>\n",
       "      <td>Apartment</td>\n",
       "      <td>Entire home/apt</td>\n",
       "    </tr>\n",
       "    <tr>\n",
       "      <th>18524</th>\n",
       "      <td>Real Bed</td>\n",
       "      <td>flexible</td>\n",
       "      <td>Chicago</td>\n",
       "      <td>f</td>\n",
       "      <td>f</td>\n",
       "      <td>Apartment</td>\n",
       "      <td>Entire home/apt</td>\n",
       "    </tr>\n",
       "    <tr>\n",
       "      <th>18525</th>\n",
       "      <td>Real Bed</td>\n",
       "      <td>flexible</td>\n",
       "      <td>Chicago</td>\n",
       "      <td>t</td>\n",
       "      <td>f</td>\n",
       "      <td>House</td>\n",
       "      <td>Entire home/apt</td>\n",
       "    </tr>\n",
       "    <tr>\n",
       "      <th>18526</th>\n",
       "      <td>Real Bed</td>\n",
       "      <td>strict</td>\n",
       "      <td>NYC</td>\n",
       "      <td>t</td>\n",
       "      <td>f</td>\n",
       "      <td>Apartment</td>\n",
       "      <td>Entire home/apt</td>\n",
       "    </tr>\n",
       "    <tr>\n",
       "      <th>18527</th>\n",
       "      <td>Real Bed</td>\n",
       "      <td>strict</td>\n",
       "      <td>LA</td>\n",
       "      <td>f</td>\n",
       "      <td>t</td>\n",
       "      <td>Apartment</td>\n",
       "      <td>Shared room</td>\n",
       "    </tr>\n",
       "  </tbody>\n",
       "</table>\n",
       "<p>74111 rows × 7 columns</p>\n",
       "</div>"
      ],
      "text/plain": [
       "       bed_type cancellation_policy     city cleaning_fee instant_bookable  \\\n",
       "id                                                                           \n",
       "0      Real Bed            flexible       LA            t                f   \n",
       "1      Real Bed              strict       DC            t                f   \n",
       "2      Real Bed              strict      NYC            t                t   \n",
       "3      Real Bed              strict       SF            t                t   \n",
       "4      Real Bed              strict      NYC            t                f   \n",
       "...         ...                 ...      ...          ...              ...   \n",
       "18523  Real Bed              strict      NYC            t                f   \n",
       "18524  Real Bed            flexible  Chicago            f                f   \n",
       "18525  Real Bed            flexible  Chicago            t                f   \n",
       "18526  Real Bed              strict      NYC            t                f   \n",
       "18527  Real Bed              strict       LA            f                t   \n",
       "\n",
       "      property_type        room_type  \n",
       "id                                    \n",
       "0         Apartment     Private room  \n",
       "1             House     Private room  \n",
       "2         Apartment     Private room  \n",
       "3         Apartment     Private room  \n",
       "4         Apartment  Entire home/apt  \n",
       "...             ...              ...  \n",
       "18523     Apartment  Entire home/apt  \n",
       "18524     Apartment  Entire home/apt  \n",
       "18525         House  Entire home/apt  \n",
       "18526     Apartment  Entire home/apt  \n",
       "18527     Apartment      Shared room  \n",
       "\n",
       "[74111 rows x 7 columns]"
      ]
     },
     "execution_count": 29,
     "metadata": {},
     "output_type": "execute_result"
    }
   ],
   "source": [
    "all_df[ab]"
   ]
  },
  {
   "cell_type": "code",
   "execution_count": null,
   "metadata": {},
   "outputs": [],
   "source": [
    "from sklearn import preprocessing"
   ]
  },
  {
   "cell_type": "code",
   "execution_count": null,
   "metadata": {},
   "outputs": [],
   "source": [
    "for column in ab:\n",
    "    le = preprocessing.LabelEncoder()\n",
    "    le.fit(all_df[column])\n",
    "    all_df[column] = le.transform(all_df[column])"
   ]
  },
  {
   "cell_type": "code",
   "execution_count": null,
   "metadata": {},
   "outputs": [],
   "source": [
    "ac = ['accommodates',\n",
    " 'amenities',\n",
    " 'bed_type',\n",
    " 'cancellation_policy',\n",
    " 'city',\n",
    " 'cleaning_fee',\n",
    "#  'description',\n",
    " 'host_response_rate',\n",
    " 'instant_bookable',\n",
    " 'latitude',\n",
    " 'longitude',\n",
    "#  'name',\n",
    " 'number_of_reviews',\n",
    " 'property_type',\n",
    " 'room_type',\n",
    " 'zipcode',\n",
    " 'y']"
   ]
  },
  {
   "cell_type": "code",
   "execution_count": null,
   "metadata": {},
   "outputs": [],
   "source": [
    "all_df2 = all_df[ac]\n",
    "all_df2"
   ]
  },
  {
   "cell_type": "code",
   "execution_count": null,
   "metadata": {},
   "outputs": [],
   "source": [
    "all_df2[['amenities']].values"
   ]
  },
  {
   "cell_type": "code",
   "execution_count": null,
   "metadata": {},
   "outputs": [],
   "source": [
    "for amenity in all_df2[['amenities']].values:\n",
    "    for _amt in amenity[0][1:-1].split(','):\n",
    "        all_df2[_amt] = 1\n"
   ]
  },
  {
   "cell_type": "code",
   "execution_count": null,
   "metadata": {},
   "outputs": [],
   "source": [
    "all_df2"
   ]
  },
  {
   "cell_type": "code",
   "execution_count": null,
   "metadata": {},
   "outputs": [],
   "source": [
    "all_df2.columns"
   ]
  },
  {
   "cell_type": "code",
   "execution_count": null,
   "metadata": {},
   "outputs": [],
   "source": [
    "def int_value(x):\n",
    "    try:\n",
    "        return int(x)\n",
    "    except ValueError:\n",
    "        return 99999"
   ]
  },
  {
   "cell_type": "code",
   "execution_count": null,
   "metadata": {},
   "outputs": [],
   "source": [
    "all_df2['zipcode'] = all_df2['zipcode'].apply(int_value)"
   ]
  },
  {
   "cell_type": "code",
   "execution_count": null,
   "metadata": {},
   "outputs": [],
   "source": [
    "all_df2['host_response_rate'] = all_df2['host_response_rate'].astype('int')\n",
    "all_df2['zipcode'] = all_df2['zipcode'].astype('int')"
   ]
  },
  {
   "cell_type": "code",
   "execution_count": null,
   "metadata": {},
   "outputs": [],
   "source": [
    "# all_df3 = all_df2.copy()\n",
    "# all_df3"
   ]
  },
  {
   "cell_type": "code",
   "execution_count": null,
   "metadata": {},
   "outputs": [],
   "source": [
    "# len(all_df3.columns)"
   ]
  },
  {
   "cell_type": "code",
   "execution_count": null,
   "metadata": {},
   "outputs": [],
   "source": [
    "# all_df3.columns = list(range(len(all_df3.columns)))\n",
    "# all_df3"
   ]
  },
  {
   "cell_type": "markdown",
   "metadata": {},
   "source": [
    "## Training"
   ]
  },
  {
   "cell_type": "code",
   "execution_count": null,
   "metadata": {},
   "outputs": [],
   "source": [
    "X = all_df2[all_df2['y'] != -999].drop(['y', 'amenities'], axis=1)\n",
    "y = all_df2[all_df2['y'] != -999]['y']"
   ]
  },
  {
   "cell_type": "code",
   "execution_count": null,
   "metadata": {},
   "outputs": [],
   "source": [
    "X.columns = list(range(len(X.columns)))\n",
    "X"
   ]
  },
  {
   "cell_type": "code",
   "execution_count": null,
   "metadata": {},
   "outputs": [],
   "source": [
    "params = {'max_depth': list(range(2, 10)), 'random_state': [0], 'n_estimators': list(range(50, 200, 50))}"
   ]
  },
  {
   "cell_type": "code",
   "execution_count": null,
   "metadata": {
    "scrolled": false
   },
   "outputs": [],
   "source": [
    "# LightGBM\n",
    "lgb = LGBMRegressor()\n",
    "\n",
    "reg_cv = GridSearchCV(lgb, params, cv=5, return_train_score=True)\n",
    "reg_cv.fit(X, y)"
   ]
  },
  {
   "cell_type": "code",
   "execution_count": null,
   "metadata": {},
   "outputs": [],
   "source": [
    "reg_cv.best_params_\n",
    "# {'max_depth': 8, 'n_estimators': 150, 'random_state': 0}"
   ]
  },
  {
   "cell_type": "code",
   "execution_count": null,
   "metadata": {},
   "outputs": [],
   "source": [
    "y_pred = reg_cv.predict(X)\n",
    "y_pred"
   ]
  },
  {
   "cell_type": "code",
   "execution_count": null,
   "metadata": {},
   "outputs": [],
   "source": [
    "from sklearn.metrics import mean_squared_error"
   ]
  },
  {
   "cell_type": "code",
   "execution_count": null,
   "metadata": {},
   "outputs": [],
   "source": [
    "# RMSE を計算する\n",
    "mse = mean_squared_error(y, y_pred)\n",
    "rmse = np.sqrt(mse)\n",
    "print(rmse)\n",
    "# 102.5485062396882"
   ]
  },
  {
   "cell_type": "markdown",
   "metadata": {},
   "source": [
    "## predict"
   ]
  },
  {
   "cell_type": "code",
   "execution_count": null,
   "metadata": {},
   "outputs": [],
   "source": [
    "X_test = all_df2[all_df2['y'] == -999].drop(['y', 'amenities'], axis=1)"
   ]
  },
  {
   "cell_type": "code",
   "execution_count": null,
   "metadata": {},
   "outputs": [],
   "source": [
    "y_pred = reg_cv.predict(X_test)"
   ]
  },
  {
   "cell_type": "code",
   "execution_count": null,
   "metadata": {},
   "outputs": [],
   "source": [
    "submit"
   ]
  },
  {
   "cell_type": "code",
   "execution_count": null,
   "metadata": {},
   "outputs": [],
   "source": [
    "submit[1] = y_pred\n",
    "submit"
   ]
  },
  {
   "cell_type": "code",
   "execution_count": null,
   "metadata": {},
   "outputs": [],
   "source": [
    "submit.to_csv('submit_20200818.csv', index=None, header=None)"
   ]
  },
  {
   "cell_type": "code",
   "execution_count": null,
   "metadata": {},
   "outputs": [],
   "source": []
  }
 ],
 "metadata": {
  "kernelspec": {
   "display_name": "Python 3",
   "language": "python",
   "name": "python3"
  },
  "language_info": {
   "codemirror_mode": {
    "name": "ipython",
    "version": 3
   },
   "file_extension": ".py",
   "mimetype": "text/x-python",
   "name": "python",
   "nbconvert_exporter": "python",
   "pygments_lexer": "ipython3",
   "version": "3.7.6"
  }
 },
 "nbformat": 4,
 "nbformat_minor": 4
}
