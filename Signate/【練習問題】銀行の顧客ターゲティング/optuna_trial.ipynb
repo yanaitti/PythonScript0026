{
 "cells": [
  {
   "cell_type": "code",
   "execution_count": 2,
   "metadata": {},
   "outputs": [],
   "source": [
    "import optuna\n",
    "\n",
    "# 目的関数\n",
    "def objective(trial):\n",
    "    # パラメータ\n",
    "    x = trial.suggest_uniform('x', -10, 10)\n",
    "\n",
    "    # この戻り値が最小になるパラメータの組み合わせを探索\n",
    "    return (x - 2) ** 2"
   ]
  },
  {
   "cell_type": "code",
   "execution_count": 3,
   "metadata": {},
   "outputs": [
    {
     "name": "stderr",
     "output_type": "stream",
     "text": [
      "[I 2020-09-26 16:30:14,267] A new study created in memory with name: no-name-fb2c55bf-c37e-45fa-8472-9e0253b0c19f\n",
      "[I 2020-09-26 16:30:14,282] Trial 0 finished with value: 124.48718702060856 and parameters: {'x': -9.15738262410179}. Best is trial 0 with value: 124.48718702060856.\n",
      "[I 2020-09-26 16:30:14,286] Trial 1 finished with value: 42.30352918327373 and parameters: {'x': 8.504116326087175}. Best is trial 1 with value: 42.30352918327373.\n",
      "[I 2020-09-26 16:30:14,289] Trial 2 finished with value: 82.68624354461897 and parameters: {'x': -7.093197652345349}. Best is trial 1 with value: 42.30352918327373.\n",
      "[I 2020-09-26 16:30:14,292] Trial 3 finished with value: 116.6580257473679 and parameters: {'x': -8.80083449310135}. Best is trial 1 with value: 42.30352918327373.\n",
      "[I 2020-09-26 16:30:14,295] Trial 4 finished with value: 20.065788115236728 and parameters: {'x': 6.479485251146244}. Best is trial 4 with value: 20.065788115236728.\n",
      "[I 2020-09-26 16:30:14,297] Trial 5 finished with value: 61.09803742605134 and parameters: {'x': 9.816523359272416}. Best is trial 4 with value: 20.065788115236728.\n",
      "[I 2020-09-26 16:30:14,300] Trial 6 finished with value: 93.11103084993918 and parameters: {'x': -7.649405725221589}. Best is trial 4 with value: 20.065788115236728.\n",
      "[I 2020-09-26 16:30:14,304] Trial 7 finished with value: 10.953349349805746 and parameters: {'x': -1.3095844678457365}. Best is trial 7 with value: 10.953349349805746.\n",
      "[I 2020-09-26 16:30:14,306] Trial 8 finished with value: 84.56351927943535 and parameters: {'x': -7.195842499707972}. Best is trial 7 with value: 10.953349349805746.\n",
      "[I 2020-09-26 16:30:14,310] Trial 9 finished with value: 3.0221972042583913 and parameters: {'x': 3.738446779242434}. Best is trial 9 with value: 3.0221972042583913.\n",
      "[I 2020-09-26 16:30:14,315] Trial 10 finished with value: 0.4548001429238538 and parameters: {'x': 2.674388717968987}. Best is trial 10 with value: 0.4548001429238538.\n",
      "[I 2020-09-26 16:30:14,321] Trial 11 finished with value: 1.8813858921546411 and parameters: {'x': 3.3716362098437913}. Best is trial 10 with value: 0.4548001429238538.\n",
      "[I 2020-09-26 16:30:14,326] Trial 12 finished with value: 2.516055185324426 and parameters: {'x': 0.41379219982865223}. Best is trial 10 with value: 0.4548001429238538.\n",
      "[I 2020-09-26 16:30:14,331] Trial 13 finished with value: 0.041561521377556906 and parameters: {'x': 2.2038664302369493}. Best is trial 13 with value: 0.041561521377556906.\n",
      "[I 2020-09-26 16:30:14,336] Trial 14 finished with value: 24.81570604556679 and parameters: {'x': -2.981536514527099}. Best is trial 13 with value: 0.041561521377556906.\n",
      "[I 2020-09-26 16:30:14,343] Trial 15 finished with value: 0.5277933121255343 and parameters: {'x': 2.7264938486494805}. Best is trial 13 with value: 0.041561521377556906.\n",
      "[I 2020-09-26 16:30:14,348] Trial 16 finished with value: 13.70905617605452 and parameters: {'x': 5.702574263408436}. Best is trial 13 with value: 0.041561521377556906.\n",
      "[I 2020-09-26 16:30:14,354] Trial 17 finished with value: 1.5966628477616138 and parameters: {'x': 0.7364087497289269}. Best is trial 13 with value: 0.041561521377556906.\n",
      "[I 2020-09-26 16:30:14,360] Trial 18 finished with value: 33.83512654746312 and parameters: {'x': -3.816796931943139}. Best is trial 13 with value: 0.041561521377556906.\n",
      "[I 2020-09-26 16:30:14,365] Trial 19 finished with value: 16.29561470750788 and parameters: {'x': 6.036782717401059}. Best is trial 13 with value: 0.041561521377556906.\n",
      "[I 2020-09-26 16:30:14,370] Trial 20 finished with value: 0.0176386140135683 and parameters: {'x': 1.8671895560824816}. Best is trial 20 with value: 0.0176386140135683.\n",
      "[I 2020-09-26 16:30:14,375] Trial 21 finished with value: 0.04588754092420083 and parameters: {'x': 1.7857862261099888}. Best is trial 20 with value: 0.0176386140135683.\n",
      "[I 2020-09-26 16:30:14,381] Trial 22 finished with value: 13.482808730942503 and parameters: {'x': -1.6718944335237231}. Best is trial 20 with value: 0.0176386140135683.\n",
      "[I 2020-09-26 16:30:14,387] Trial 23 finished with value: 0.5867663137400951 and parameters: {'x': 1.2339932678232552}. Best is trial 20 with value: 0.0176386140135683.\n",
      "[I 2020-09-26 16:30:14,392] Trial 24 finished with value: 7.517021078815802 and parameters: {'x': 4.741718635968287}. Best is trial 20 with value: 0.0176386140135683.\n",
      "[I 2020-09-26 16:30:14,399] Trial 25 finished with value: 0.02247681186202504 and parameters: {'x': 1.8500773137179531}. Best is trial 20 with value: 0.0176386140135683.\n",
      "[I 2020-09-26 16:30:14,405] Trial 26 finished with value: 8.405905599819306 and parameters: {'x': -0.8992939829929814}. Best is trial 20 with value: 0.0176386140135683.\n",
      "[I 2020-09-26 16:30:14,411] Trial 27 finished with value: 31.81843100202314 and parameters: {'x': 7.640782835921193}. Best is trial 20 with value: 0.0176386140135683.\n",
      "[I 2020-09-26 16:30:14,417] Trial 28 finished with value: 26.619277438461193 and parameters: {'x': -3.1593873123134686}. Best is trial 20 with value: 0.0176386140135683.\n",
      "[I 2020-09-26 16:30:14,425] Trial 29 finished with value: 47.70126268333663 and parameters: {'x': -4.906610071759997}. Best is trial 20 with value: 0.0176386140135683.\n",
      "[I 2020-09-26 16:30:14,431] Trial 30 finished with value: 6.163834219171717 and parameters: {'x': 4.482707034503209}. Best is trial 20 with value: 0.0176386140135683.\n",
      "[I 2020-09-26 16:30:14,438] Trial 31 finished with value: 0.07352287570958264 and parameters: {'x': 1.7288489798846727}. Best is trial 20 with value: 0.0176386140135683.\n",
      "[I 2020-09-26 16:30:14,444] Trial 32 finished with value: 0.11413262629267112 and parameters: {'x': 1.6621647941781805}. Best is trial 20 with value: 0.0176386140135683.\n",
      "[I 2020-09-26 16:30:14,453] Trial 33 finished with value: 5.0713416298633 and parameters: {'x': -0.2519639495034771}. Best is trial 20 with value: 0.0176386140135683.\n",
      "[I 2020-09-26 16:30:14,459] Trial 34 finished with value: 0.21397505613346984 and parameters: {'x': 2.4625743790283567}. Best is trial 20 with value: 0.0176386140135683.\n",
      "[I 2020-09-26 16:30:14,465] Trial 35 finished with value: 4.139633988324596 and parameters: {'x': -0.034609050487242055}. Best is trial 20 with value: 0.0176386140135683.\n",
      "[I 2020-09-26 16:30:14,472] Trial 36 finished with value: 8.085265581545439 and parameters: {'x': 4.84346014242251}. Best is trial 20 with value: 0.0176386140135683.\n",
      "[I 2020-09-26 16:30:14,479] Trial 37 finished with value: 15.5348920156589 and parameters: {'x': -1.9414327364118367}. Best is trial 20 with value: 0.0176386140135683.\n",
      "[I 2020-09-26 16:30:14,486] Trial 38 finished with value: 2.4524046271479056 and parameters: {'x': 3.566015525832329}. Best is trial 20 with value: 0.0176386140135683.\n",
      "[I 2020-09-26 16:30:14,492] Trial 39 finished with value: 23.826102408641972 and parameters: {'x': 6.881198870015641}. Best is trial 20 with value: 0.0176386140135683.\n",
      "[I 2020-09-26 16:30:14,499] Trial 40 finished with value: 0.13392462392835514 and parameters: {'x': 1.6340428659960908}. Best is trial 20 with value: 0.0176386140135683.\n",
      "[I 2020-09-26 16:30:14,507] Trial 41 finished with value: 0.1825248253821361 and parameters: {'x': 1.5727707578101235}. Best is trial 20 with value: 0.0176386140135683.\n",
      "[I 2020-09-26 16:30:14,513] Trial 42 finished with value: 0.18163610168332828 and parameters: {'x': 2.4261878713470484}. Best is trial 20 with value: 0.0176386140135683.\n",
      "[I 2020-09-26 16:30:14,523] Trial 43 finished with value: 6.468730172161732 and parameters: {'x': -0.5433698457286411}. Best is trial 20 with value: 0.0176386140135683.\n",
      "[I 2020-09-26 16:30:14,532] Trial 44 finished with value: 2.8877042340509615 and parameters: {'x': 3.6993246405707656}. Best is trial 20 with value: 0.0176386140135683.\n",
      "[I 2020-09-26 16:30:14,541] Trial 45 finished with value: 2.0285680557617884 and parameters: {'x': 0.575721917685388}. Best is trial 20 with value: 0.0176386140135683.\n",
      "[I 2020-09-26 16:30:14,546] Trial 46 finished with value: 0.05892840401092139 and parameters: {'x': 2.2427517332809828}. Best is trial 20 with value: 0.0176386140135683.\n"
     ]
    },
    {
     "name": "stderr",
     "output_type": "stream",
     "text": [
      "[I 2020-09-26 16:30:14,554] Trial 47 finished with value: 1.2487284625004023 and parameters: {'x': 3.117465195207619}. Best is trial 20 with value: 0.0176386140135683.\n",
      "[I 2020-09-26 16:30:14,560] Trial 48 finished with value: 4.5363549102986935 and parameters: {'x': 4.1298720408274985}. Best is trial 20 with value: 0.0176386140135683.\n",
      "[I 2020-09-26 16:30:14,567] Trial 49 finished with value: 10.645055753263957 and parameters: {'x': 5.26267616432645}. Best is trial 20 with value: 0.0176386140135683.\n",
      "[I 2020-09-26 16:30:14,574] Trial 50 finished with value: 60.730441397530065 and parameters: {'x': 9.792973848123069}. Best is trial 20 with value: 0.0176386140135683.\n",
      "[I 2020-09-26 16:30:14,580] Trial 51 finished with value: 0.015421001960039897 and parameters: {'x': 1.8758186730621713}. Best is trial 51 with value: 0.015421001960039897.\n",
      "[I 2020-09-26 16:30:14,588] Trial 52 finished with value: 0.1683455613058836 and parameters: {'x': 2.4102993557219943}. Best is trial 51 with value: 0.015421001960039897.\n",
      "[I 2020-09-26 16:30:14,595] Trial 53 finished with value: 1.7738310126854406 and parameters: {'x': 0.6681475259303526}. Best is trial 51 with value: 0.015421001960039897.\n",
      "[I 2020-09-26 16:30:14,601] Trial 54 finished with value: 1.14676828501927 and parameters: {'x': 0.9291273254866992}. Best is trial 51 with value: 0.015421001960039897.\n",
      "[I 2020-09-26 16:30:14,608] Trial 55 finished with value: 1.0543412926415352 and parameters: {'x': 3.0268112254165978}. Best is trial 51 with value: 0.015421001960039897.\n",
      "[I 2020-09-26 16:30:14,613] Trial 56 finished with value: 0.017244537942987772 and parameters: {'x': 2.1313184600236683}. Best is trial 51 with value: 0.015421001960039897.\n",
      "[I 2020-09-26 16:30:14,621] Trial 57 finished with value: 3.694760353006908 and parameters: {'x': 0.07782405773901435}. Best is trial 51 with value: 0.015421001960039897.\n",
      "[I 2020-09-26 16:30:14,627] Trial 58 finished with value: 4.261680829163385 and parameters: {'x': 4.064383886093714}. Best is trial 51 with value: 0.015421001960039897.\n",
      "[I 2020-09-26 16:30:14,633] Trial 59 finished with value: 11.695234616251513 and parameters: {'x': -1.419829618014838}. Best is trial 51 with value: 0.015421001960039897.\n",
      "[I 2020-09-26 16:30:14,641] Trial 60 finished with value: 0.7054926978826108 and parameters: {'x': 1.1600638727363783}. Best is trial 51 with value: 0.015421001960039897.\n",
      "[I 2020-09-26 16:30:14,647] Trial 61 finished with value: 0.057360439166247515 and parameters: {'x': 2.2395003949187715}. Best is trial 51 with value: 0.015421001960039897.\n",
      "[I 2020-09-26 16:30:14,654] Trial 62 finished with value: 0.047113488092668014 and parameters: {'x': 2.2170564168428752}. Best is trial 51 with value: 0.015421001960039897.\n",
      "[I 2020-09-26 16:30:14,661] Trial 63 finished with value: 1.137955392820464 and parameters: {'x': 3.066749920468928}. Best is trial 51 with value: 0.015421001960039897.\n",
      "[I 2020-09-26 16:30:14,669] Trial 64 finished with value: 6.888104164542399 and parameters: {'x': -0.6245197969423661}. Best is trial 51 with value: 0.015421001960039897.\n",
      "[I 2020-09-26 16:30:14,680] Trial 65 finished with value: 0.0021014890313605424 and parameters: {'x': 2.0458420007347033}. Best is trial 65 with value: 0.0021014890313605424.\n",
      "[I 2020-09-26 16:30:14,688] Trial 66 finished with value: 3.1645229834117425 and parameters: {'x': 0.2210893829616558}. Best is trial 65 with value: 0.0021014890313605424.\n",
      "[I 2020-09-26 16:30:14,696] Trial 67 finished with value: 139.62726758066688 and parameters: {'x': -9.81639824907179}. Best is trial 65 with value: 0.0021014890313605424.\n",
      "[I 2020-09-26 16:30:14,703] Trial 68 finished with value: 0.5569462788396692 and parameters: {'x': 1.253711665078658}. Best is trial 65 with value: 0.0021014890313605424.\n",
      "[I 2020-09-26 16:30:14,712] Trial 69 finished with value: 1.8961851124441254 and parameters: {'x': 3.3770203747381973}. Best is trial 65 with value: 0.0021014890313605424.\n",
      "[I 2020-09-26 16:30:14,718] Trial 70 finished with value: 13.699268344898824 and parameters: {'x': 5.701252267125118}. Best is trial 65 with value: 0.0021014890313605424.\n",
      "[I 2020-09-26 16:30:14,726] Trial 71 finished with value: 0.0011274415279381499 and parameters: {'x': 1.966422603913672}. Best is trial 71 with value: 0.0011274415279381499.\n",
      "[I 2020-09-26 16:30:14,735] Trial 72 finished with value: 0.010761068494167027 and parameters: {'x': 1.8962644299472595}. Best is trial 71 with value: 0.0011274415279381499.\n",
      "[I 2020-09-26 16:30:14,743] Trial 73 finished with value: 0.003723220446042454 and parameters: {'x': 1.9389818023369876}. Best is trial 71 with value: 0.0011274415279381499.\n",
      "[I 2020-09-26 16:30:14,751] Trial 74 finished with value: 0.8531777185796374 and parameters: {'x': 1.0763238020931591}. Best is trial 71 with value: 0.0011274415279381499.\n",
      "[I 2020-09-26 16:30:14,758] Trial 75 finished with value: 0.5505954516612915 and parameters: {'x': 2.742021193539168}. Best is trial 71 with value: 0.0011274415279381499.\n",
      "[I 2020-09-26 16:30:14,764] Trial 76 finished with value: 0.011613238766696581 and parameters: {'x': 1.8922352619513387}. Best is trial 71 with value: 0.0011274415279381499.\n",
      "[I 2020-09-26 16:30:14,773] Trial 77 finished with value: 4.9720711354957245 and parameters: {'x': 4.229814148196151}. Best is trial 71 with value: 0.0011274415279381499.\n",
      "[I 2020-09-26 16:30:14,781] Trial 78 finished with value: 0.023791922165324622 and parameters: {'x': 1.8457536964289756}. Best is trial 71 with value: 0.0011274415279381499.\n",
      "[I 2020-09-26 16:30:14,789] Trial 79 finished with value: 8.423563583329818 and parameters: {'x': -0.9023376067111522}. Best is trial 71 with value: 0.0011274415279381499.\n",
      "[I 2020-09-26 16:30:14,796] Trial 80 finished with value: 2.46130563724419 and parameters: {'x': 0.431145119125357}. Best is trial 71 with value: 0.0011274415279381499.\n",
      "[I 2020-09-26 16:30:14,804] Trial 81 finished with value: 0.06869688673259201 and parameters: {'x': 1.7378990905536724}. Best is trial 71 with value: 0.0011274415279381499.\n",
      "[I 2020-09-26 16:30:14,812] Trial 82 finished with value: 0.8749859543580945 and parameters: {'x': 2.935406838951958}. Best is trial 71 with value: 0.0011274415279381499.\n",
      "[I 2020-09-26 16:30:14,818] Trial 83 finished with value: 2.9769833929123632 and parameters: {'x': 3.7253936921503925}. Best is trial 71 with value: 0.0011274415279381499.\n",
      "[I 2020-09-26 16:30:14,826] Trial 84 finished with value: 0.7362602096424214 and parameters: {'x': 1.1419439356065237}. Best is trial 71 with value: 0.0011274415279381499.\n",
      "[I 2020-09-26 16:30:14,832] Trial 85 finished with value: 0.03880518319376148 and parameters: {'x': 1.8030096875636736}. Best is trial 71 with value: 0.0011274415279381499.\n",
      "[I 2020-09-26 16:30:14,839] Trial 86 finished with value: 0.43575496998052293 and parameters: {'x': 2.6601173910605014}. Best is trial 71 with value: 0.0011274415279381499.\n",
      "[I 2020-09-26 16:30:14,847] Trial 87 finished with value: 16.173241371159328 and parameters: {'x': -2.0215968683048438}. Best is trial 71 with value: 0.0011274415279381499.\n",
      "[I 2020-09-26 16:30:14,853] Trial 88 finished with value: 5.021711055771175 and parameters: {'x': -0.24091745849131518}. Best is trial 71 with value: 0.0011274415279381499.\n",
      "[I 2020-09-26 16:30:14,860] Trial 89 finished with value: 7.067398491459404 and parameters: {'x': 4.658457916059497}. Best is trial 71 with value: 0.0011274415279381499.\n",
      "[I 2020-09-26 16:30:14,867] Trial 90 finished with value: 1.6768631653622255 and parameters: {'x': 0.7050624859236545}. Best is trial 71 with value: 0.0011274415279381499.\n",
      "[I 2020-09-26 16:30:14,874] Trial 91 finished with value: 0.018591830159745214 and parameters: {'x': 1.863648138407482}. Best is trial 71 with value: 0.0011274415279381499.\n",
      "[I 2020-09-26 16:30:14,880] Trial 92 finished with value: 0.00016727437940501822 and parameters: {'x': 2.0129334596842847}. Best is trial 92 with value: 0.00016727437940501822.\n",
      "[I 2020-09-26 16:30:14,887] Trial 93 finished with value: 0.01417400845503856 and parameters: {'x': 2.119054644827653}. Best is trial 92 with value: 0.00016727437940501822.\n"
     ]
    },
    {
     "name": "stderr",
     "output_type": "stream",
     "text": [
      "[I 2020-09-26 16:30:14,894] Trial 94 finished with value: 0.4282637264275043 and parameters: {'x': 1.3455813828843923}. Best is trial 92 with value: 0.00016727437940501822.\n",
      "[I 2020-09-26 16:30:14,903] Trial 95 finished with value: 1.7936526102399315 and parameters: {'x': 3.33927316490697}. Best is trial 92 with value: 0.00016727437940501822.\n",
      "[I 2020-09-26 16:30:14,910] Trial 96 finished with value: 0.39624629575712306 and parameters: {'x': 2.629480973308267}. Best is trial 92 with value: 0.00016727437940501822.\n",
      "[I 2020-09-26 16:30:14,917] Trial 97 finished with value: 0.06695251121669314 and parameters: {'x': 2.258751833262478}. Best is trial 92 with value: 0.00016727437940501822.\n",
      "[I 2020-09-26 16:30:14,924] Trial 98 finished with value: 1.3012752476785194 and parameters: {'x': 0.8592654788784029}. Best is trial 92 with value: 0.00016727437940501822.\n",
      "[I 2020-09-26 16:30:14,931] Trial 99 finished with value: 4.277733732353958 and parameters: {'x': 4.068268293126875}. Best is trial 92 with value: 0.00016727437940501822.\n"
     ]
    }
   ],
   "source": [
    "study = optuna.create_study()\n",
    "study.optimize(objective, n_trials=100)"
   ]
  },
  {
   "cell_type": "code",
   "execution_count": 6,
   "metadata": {},
   "outputs": [
    {
     "data": {
      "text/plain": [
       "{'x': 2.0129334596842847}"
      ]
     },
     "execution_count": 6,
     "metadata": {},
     "output_type": "execute_result"
    }
   ],
   "source": [
    "study.best_params"
   ]
  },
  {
   "cell_type": "code",
   "execution_count": 9,
   "metadata": {},
   "outputs": [
    {
     "data": {
      "text/plain": [
       "0.00016727437940501822"
      ]
     },
     "execution_count": 9,
     "metadata": {},
     "output_type": "execute_result"
    }
   ],
   "source": [
    "study.best_value"
   ]
  },
  {
   "cell_type": "code",
   "execution_count": 11,
   "metadata": {},
   "outputs": [
    {
     "name": "stdout",
     "output_type": "stream",
     "text": [
      "144\n",
      "121\n",
      "100\n",
      "81\n",
      "64\n",
      "49\n",
      "36\n",
      "25\n",
      "16\n",
      "9\n",
      "4\n",
      "1\n",
      "0\n",
      "1\n",
      "4\n",
      "9\n",
      "16\n",
      "25\n",
      "36\n",
      "49\n"
     ]
    }
   ],
   "source": [
    "for x in range(-10, 10, 1):\n",
    "    print((x-2)**2)"
   ]
  },
  {
   "cell_type": "code",
   "execution_count": 12,
   "metadata": {},
   "outputs": [
    {
     "name": "stdout",
     "output_type": "stream",
     "text": [
      "0.00016727437940501822\n"
     ]
    }
   ],
   "source": [
    "x = 2.0129334596842847\n",
    "print((x-2)**2)"
   ]
  },
  {
   "cell_type": "code",
   "execution_count": 13,
   "metadata": {},
   "outputs": [
    {
     "name": "stdout",
     "output_type": "stream",
     "text": [
      "124.48718702060856\n"
     ]
    }
   ],
   "source": [
    "x = -9.15738262410179\n",
    "print((x-2)**2)"
   ]
  },
  {
   "cell_type": "code",
   "execution_count": null,
   "metadata": {},
   "outputs": [],
   "source": []
  }
 ],
 "metadata": {
  "kernelspec": {
   "display_name": "Python 3",
   "language": "python",
   "name": "python3"
  },
  "language_info": {
   "codemirror_mode": {
    "name": "ipython",
    "version": 3
   },
   "file_extension": ".py",
   "mimetype": "text/x-python",
   "name": "python",
   "nbconvert_exporter": "python",
   "pygments_lexer": "ipython3",
   "version": "3.7.9"
  }
 },
 "nbformat": 4,
 "nbformat_minor": 4
}
