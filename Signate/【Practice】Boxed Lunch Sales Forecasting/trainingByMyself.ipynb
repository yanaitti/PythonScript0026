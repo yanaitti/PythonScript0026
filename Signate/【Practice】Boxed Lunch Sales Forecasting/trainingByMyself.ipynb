{
 "cells": [
  {
   "cell_type": "code",
   "execution_count": 377,
   "metadata": {},
   "outputs": [],
   "source": [
    "# 分析に使うImport群\n",
    "import pandas as pd\n",
    "from pandas import Series, DataFrame\n",
    "import numpy as np\n",
    "from matplotlib import pyplot as plt\n",
    "import seaborn as sns\n",
    "from sklearn import metrics\n",
    "from sklearn.linear_model import LinearRegression\n",
    "from sklearn.linear_model import LogisticRegression\n",
    "from sklearn.model_selection import train_test_split"
   ]
  },
  {
   "cell_type": "code",
   "execution_count": 378,
   "metadata": {},
   "outputs": [],
   "source": [
    "train = pd.read_csv('train.csv')\n",
    "\n",
    "test = pd.read_csv('test.csv')\n",
    "sample = pd.read_csv('sample.csv', header=None)\n"
   ]
  },
  {
   "cell_type": "code",
   "execution_count": 379,
   "metadata": {},
   "outputs": [],
   "source": [
    "train['year'] = train['datetime'].apply(lambda x : x.split('-')[0])\n",
    "train['month'] = train['datetime'].apply(lambda x : x.split('-')[1])\n",
    "train['day'] = train['datetime'].apply(lambda x : x.split('-')[2])\n",
    "\n",
    "test['year'] = test['datetime'].apply(lambda x : x.split('-')[0])\n",
    "test['month'] = test['datetime'].apply(lambda x : x.split('-')[1])\n",
    "test['day'] = test['datetime'].apply(lambda x : x.split('-')[2])\n"
   ]
  },
  {
   "cell_type": "code",
   "execution_count": 388,
   "metadata": {},
   "outputs": [],
   "source": [
    "train['fun'] = train['remarks'].apply(lambda x: 1 if x == 'お楽しみメニュー' else 0)\n",
    "test['fun'] = test['remarks'].apply(lambda x: 1 if x == 'お楽しみメニュー' else 0)\n",
    "\n",
    "#train['clear sky'] = train['weather'].apply(lambda x: 1 if x in['快晴', '晴れ', '薄曇'] else 0)\n",
    "#test['clear sky'] = test['weather'].apply(lambda x: 1 if x in['快晴', '晴れ', '薄曇'] else 0)\n",
    "train['clear sky'] = train['weather'].apply(lambda x: 1 if x in['快晴'] else 0)\n",
    "test['clear sky'] = test['weather'].apply(lambda x: 1 if x in['快晴'] else 0)\n",
    "\n",
    "train_dummy1 = pd.get_dummies(train[['weather', 'week']], drop_first=True, prefix='', prefix_sep='')\n",
    "test_dummy1 = pd.get_dummies(test[['weather', 'week']], drop_first=True, prefix='', prefix_sep='')\n",
    "\n",
    "train = pd.concat([train, train_dummy1], axis=1)\n",
    "test = pd.concat([test, test_dummy1], axis=1)\n",
    "\n"
   ]
  },
  {
   "cell_type": "code",
   "execution_count": 389,
   "metadata": {},
   "outputs": [],
   "source": [
    "#trainX = train[['year', 'month', 'fun', 'temperature']]\n",
    "#testX = test[['year', 'month', 'fun', 'temperature']]\n",
    "trainX = train[['year', 'month', 'day', 'fun', 'temperature', 'clear sky']]\n",
    "testX = test[['year', 'month', 'day', 'fun', 'temperature', 'clear sky']]\n",
    "\n",
    "Y = train['y']"
   ]
  },
  {
   "cell_type": "code",
   "execution_count": 390,
   "metadata": {},
   "outputs": [],
   "source": [
    "model_linear = LinearRegression()\n",
    "model_linear.fit(trainX, Y)\n",
    "pred = model_linear.predict(trainX)\n"
   ]
  },
  {
   "cell_type": "code",
   "execution_count": 391,
   "metadata": {},
   "outputs": [
    {
     "data": {
      "text/plain": [
       "array([128.86450053, 131.20115337, 132.19901779, 131.96107753,\n",
       "       130.48733259, 132.53342794, 126.44605983, 131.33666135,\n",
       "       127.70025821, 130.77844152, 138.61069201, 137.96081685,\n",
       "       139.96787411, 136.97001772, 135.29030532, 141.7647008 ,\n",
       "       143.27748384, 138.71422718, 134.68653355, 132.49190254,\n",
       "       133.52880506, 135.63884604, 138.18146633, 138.66441213,\n",
       "       136.46978112, 128.94770617, 132.00524507, 134.32125349,\n",
       "       113.67100293, 112.6915322 , 111.01181981, 114.29597056,\n",
       "       113.52953256, 115.96916912, 109.05793122, 107.68717   ,\n",
       "       109.52729791, 102.82202746, 105.36464774, 103.68493535,\n",
       "       101.49030433, 104.99881623,  96.72814551,  98.54987973,\n",
       "        94.9958159 ,  93.54271536, 103.96088735, 115.8750265 ,\n",
       "       114.00999107, 114.36930874, 112.4836289 , 108.47432896,\n",
       "       108.92530195, 108.2754268 , 113.08368901, 100.73270744,\n",
       "       105.12903475, 104.0672247 , 105.47702402,  99.59562336,\n",
       "       102.05365361,  95.34838316,  95.91366828,  98.45628856,\n",
       "        88.43489454, 107.11947413, 106.05766408, 107.77641457,\n",
       "       104.46960701, 103.6137644 , 103.49720156,  99.67547537,\n",
       "        92.84657679,  94.02976425,  97.2932706 ,  90.93598942,\n",
       "        87.48490932,  93.42599248,  98.13127097,  83.60630279,\n",
       "        81.5146555 ,  83.31574531,  89.25682848, 126.21541668,\n",
       "        81.81709284,  94.48251306,  91.77296343,  95.24243723,\n",
       "        91.09111547,  91.42777633,  84.3929103 ,  87.12085362,\n",
       "        84.20533654, 132.38915064,  87.06397328,  80.97660518,\n",
       "        80.71802051,  79.47088742,  90.02559375,  83.23573326,\n",
       "        80.21723246,  76.9104249 ,  77.99062864, 122.44638427,\n",
       "        72.91951865,  77.18088942,  81.16370403,  81.33769867,\n",
       "        83.13452536,  80.42497573,  77.40647492,  76.4866867 ,\n",
       "        80.16212794,  71.99444095,  78.34745901, 116.95378679,\n",
       "        72.55546295,  70.87575056,  77.02280118,  74.82817016,\n",
       "        73.45740894,  67.59440197,  67.25347799,  64.64691208,\n",
       "        61.64905569, 108.24682511,  68.63679198,  71.7973146 ,\n",
       "        70.73550455,  76.36763655,  77.4684847 ,  70.57564049,\n",
       "        69.51383044,  72.26241817,  72.74536398, 109.68330777,\n",
       "        63.55490503,  63.52293222,  68.84611305,  62.53213308,\n",
       "        63.01507889,  60.9624697 ,  63.71105743,  61.61941014,\n",
       "        61.07251871, 106.24916041,  58.57600181,  66.36921421,\n",
       "        63.16539036,  66.61421975,  71.11353079,  67.51616574,\n",
       "        61.09920205,  65.80448054,  60.9322727 , 101.06271193,\n",
       "        56.58204878,  56.65305969,  55.48826592,  55.76524427,\n",
       "        59.85262041,  52.92780339,  50.52720493,  49.46539488,\n",
       "        93.71518307,  50.98524321,  48.89359593,  48.14073705,\n",
       "        45.63715486,  56.65483551,  55.01416121,  50.67751641,\n",
       "        49.82167381,  53.99138926, 100.40383564,  51.49487236,\n",
       "        54.03749265,  47.87259979,  46.1928874 ,  43.50398218,\n",
       "        45.40805571,  90.68768113,  50.42935065,  49.67649177,\n",
       "        54.48475397,  53.3199602 ,  49.16863844,  61.04922697,\n",
       "        54.63226328,  56.55698122,  56.21605724,  51.85876802,\n",
       "        57.52993812,  53.17264891,  54.47946451,  57.12506851,\n",
       "        96.94655657,  47.28473441,  50.65122449,  51.03118657,\n",
       "        50.99921376,  47.71079988,  47.02895191,  45.86415814,\n",
       "        43.5665434 ,  40.29877394,  38.20712665])"
      ]
     },
     "execution_count": 391,
     "metadata": {},
     "output_type": "execute_result"
    }
   ],
   "source": [
    "pred"
   ]
  },
  {
   "cell_type": "code",
   "execution_count": 392,
   "metadata": {},
   "outputs": [],
   "source": [
    "train['pred'] = pred"
   ]
  },
  {
   "cell_type": "code",
   "execution_count": 393,
   "metadata": {},
   "outputs": [],
   "source": [
    "train['res'] = train['y'] - train['pred']"
   ]
  },
  {
   "cell_type": "code",
   "execution_count": 394,
   "metadata": {},
   "outputs": [
    {
     "data": {
      "text/html": [
       "<div>\n",
       "<style scoped>\n",
       "    .dataframe tbody tr th:only-of-type {\n",
       "        vertical-align: middle;\n",
       "    }\n",
       "\n",
       "    .dataframe tbody tr th {\n",
       "        vertical-align: top;\n",
       "    }\n",
       "\n",
       "    .dataframe thead th {\n",
       "        text-align: right;\n",
       "    }\n",
       "</style>\n",
       "<table border=\"1\" class=\"dataframe\">\n",
       "  <thead>\n",
       "    <tr style=\"text-align: right;\">\n",
       "      <th></th>\n",
       "      <th>datetime</th>\n",
       "      <th>y</th>\n",
       "      <th>week</th>\n",
       "      <th>soldout</th>\n",
       "      <th>name</th>\n",
       "      <th>kcal</th>\n",
       "      <th>remarks</th>\n",
       "      <th>event</th>\n",
       "      <th>payday</th>\n",
       "      <th>weather</th>\n",
       "      <th>precipitation</th>\n",
       "      <th>temperature</th>\n",
       "      <th>year</th>\n",
       "      <th>month</th>\n",
       "      <th>day</th>\n",
       "      <th>fun</th>\n",
       "      <th>clear sky</th>\n",
       "      <th>pred</th>\n",
       "      <th>res</th>\n",
       "    </tr>\n",
       "  </thead>\n",
       "  <tbody>\n",
       "    <tr>\n",
       "      <th>27</th>\n",
       "      <td>2013-12-26</td>\n",
       "      <td>80</td>\n",
       "      <td>木</td>\n",
       "      <td>0</td>\n",
       "      <td>酢豚</td>\n",
       "      <td>NaN</td>\n",
       "      <td>NaN</td>\n",
       "      <td>NaN</td>\n",
       "      <td>NaN</td>\n",
       "      <td>曇</td>\n",
       "      <td>--</td>\n",
       "      <td>7.3</td>\n",
       "      <td>2013</td>\n",
       "      <td>12</td>\n",
       "      <td>26</td>\n",
       "      <td>0</td>\n",
       "      <td>0</td>\n",
       "      <td>134.321253</td>\n",
       "      <td>-54.321253</td>\n",
       "    </tr>\n",
       "    <tr>\n",
       "      <th>103</th>\n",
       "      <td>2014-4-25</td>\n",
       "      <td>80</td>\n",
       "      <td>金</td>\n",
       "      <td>0</td>\n",
       "      <td>中華丼</td>\n",
       "      <td>NaN</td>\n",
       "      <td>お楽しみメニュー</td>\n",
       "      <td>NaN</td>\n",
       "      <td>NaN</td>\n",
       "      <td>晴れ</td>\n",
       "      <td>--</td>\n",
       "      <td>20.8</td>\n",
       "      <td>2014</td>\n",
       "      <td>4</td>\n",
       "      <td>25</td>\n",
       "      <td>1</td>\n",
       "      <td>0</td>\n",
       "      <td>122.446384</td>\n",
       "      <td>-42.446384</td>\n",
       "    </tr>\n",
       "    <tr>\n",
       "      <th>0</th>\n",
       "      <td>2013-11-18</td>\n",
       "      <td>90</td>\n",
       "      <td>月</td>\n",
       "      <td>0</td>\n",
       "      <td>厚切りイカフライ</td>\n",
       "      <td>NaN</td>\n",
       "      <td>NaN</td>\n",
       "      <td>NaN</td>\n",
       "      <td>NaN</td>\n",
       "      <td>快晴</td>\n",
       "      <td>--</td>\n",
       "      <td>19.8</td>\n",
       "      <td>2013</td>\n",
       "      <td>11</td>\n",
       "      <td>18</td>\n",
       "      <td>0</td>\n",
       "      <td>1</td>\n",
       "      <td>128.864501</td>\n",
       "      <td>-38.864501</td>\n",
       "    </tr>\n",
       "    <tr>\n",
       "      <th>107</th>\n",
       "      <td>2014-5-2</td>\n",
       "      <td>47</td>\n",
       "      <td>金</td>\n",
       "      <td>0</td>\n",
       "      <td>鶏の天ぷら</td>\n",
       "      <td>420.0</td>\n",
       "      <td>NaN</td>\n",
       "      <td>NaN</td>\n",
       "      <td>NaN</td>\n",
       "      <td>晴れ</td>\n",
       "      <td>--</td>\n",
       "      <td>23.3</td>\n",
       "      <td>2014</td>\n",
       "      <td>5</td>\n",
       "      <td>2</td>\n",
       "      <td>0</td>\n",
       "      <td>0</td>\n",
       "      <td>81.337699</td>\n",
       "      <td>-34.337699</td>\n",
       "    </tr>\n",
       "    <tr>\n",
       "      <th>82</th>\n",
       "      <td>2014-3-27</td>\n",
       "      <td>55</td>\n",
       "      <td>木</td>\n",
       "      <td>1</td>\n",
       "      <td>ロース甘味噌焼き</td>\n",
       "      <td>315.0</td>\n",
       "      <td>NaN</td>\n",
       "      <td>NaN</td>\n",
       "      <td>NaN</td>\n",
       "      <td>曇</td>\n",
       "      <td>1.5</td>\n",
       "      <td>12.4</td>\n",
       "      <td>2014</td>\n",
       "      <td>3</td>\n",
       "      <td>27</td>\n",
       "      <td>0</td>\n",
       "      <td>0</td>\n",
       "      <td>89.256828</td>\n",
       "      <td>-34.256828</td>\n",
       "    </tr>\n",
       "    <tr>\n",
       "      <th>...</th>\n",
       "      <td>...</td>\n",
       "      <td>...</td>\n",
       "      <td>...</td>\n",
       "      <td>...</td>\n",
       "      <td>...</td>\n",
       "      <td>...</td>\n",
       "      <td>...</td>\n",
       "      <td>...</td>\n",
       "      <td>...</td>\n",
       "      <td>...</td>\n",
       "      <td>...</td>\n",
       "      <td>...</td>\n",
       "      <td>...</td>\n",
       "      <td>...</td>\n",
       "      <td>...</td>\n",
       "      <td>...</td>\n",
       "      <td>...</td>\n",
       "      <td>...</td>\n",
       "      <td>...</td>\n",
       "    </tr>\n",
       "    <tr>\n",
       "      <th>85</th>\n",
       "      <td>2014-4-1</td>\n",
       "      <td>125</td>\n",
       "      <td>火</td>\n",
       "      <td>1</td>\n",
       "      <td>メンチカツ</td>\n",
       "      <td>377.0</td>\n",
       "      <td>NaN</td>\n",
       "      <td>NaN</td>\n",
       "      <td>NaN</td>\n",
       "      <td>薄曇</td>\n",
       "      <td>--</td>\n",
       "      <td>16.1</td>\n",
       "      <td>2014</td>\n",
       "      <td>4</td>\n",
       "      <td>1</td>\n",
       "      <td>0</td>\n",
       "      <td>0</td>\n",
       "      <td>94.482513</td>\n",
       "      <td>30.517487</td>\n",
       "    </tr>\n",
       "    <tr>\n",
       "      <th>13</th>\n",
       "      <td>2013-12-5</td>\n",
       "      <td>171</td>\n",
       "      <td>木</td>\n",
       "      <td>0</td>\n",
       "      <td>鶏のカッシュナッツ炒め</td>\n",
       "      <td>NaN</td>\n",
       "      <td>NaN</td>\n",
       "      <td>NaN</td>\n",
       "      <td>NaN</td>\n",
       "      <td>快晴</td>\n",
       "      <td>--</td>\n",
       "      <td>13.8</td>\n",
       "      <td>2013</td>\n",
       "      <td>12</td>\n",
       "      <td>5</td>\n",
       "      <td>0</td>\n",
       "      <td>1</td>\n",
       "      <td>136.970018</td>\n",
       "      <td>34.029982</td>\n",
       "    </tr>\n",
       "    <tr>\n",
       "      <th>46</th>\n",
       "      <td>2014-2-3</td>\n",
       "      <td>139</td>\n",
       "      <td>月</td>\n",
       "      <td>1</td>\n",
       "      <td>ハンバーグカレーソース</td>\n",
       "      <td>445.0</td>\n",
       "      <td>NaN</td>\n",
       "      <td>NaN</td>\n",
       "      <td>NaN</td>\n",
       "      <td>晴れ</td>\n",
       "      <td>--</td>\n",
       "      <td>15.9</td>\n",
       "      <td>2014</td>\n",
       "      <td>2</td>\n",
       "      <td>3</td>\n",
       "      <td>0</td>\n",
       "      <td>0</td>\n",
       "      <td>103.960887</td>\n",
       "      <td>35.039113</td>\n",
       "    </tr>\n",
       "    <tr>\n",
       "      <th>55</th>\n",
       "      <td>2014-2-17</td>\n",
       "      <td>137</td>\n",
       "      <td>月</td>\n",
       "      <td>1</td>\n",
       "      <td>チンジャオロース</td>\n",
       "      <td>416.0</td>\n",
       "      <td>NaN</td>\n",
       "      <td>NaN</td>\n",
       "      <td>NaN</td>\n",
       "      <td>晴れ</td>\n",
       "      <td>--</td>\n",
       "      <td>11.6</td>\n",
       "      <td>2014</td>\n",
       "      <td>2</td>\n",
       "      <td>17</td>\n",
       "      <td>0</td>\n",
       "      <td>0</td>\n",
       "      <td>100.732707</td>\n",
       "      <td>36.267293</td>\n",
       "    </tr>\n",
       "    <tr>\n",
       "      <th>75</th>\n",
       "      <td>2014-3-17</td>\n",
       "      <td>129</td>\n",
       "      <td>月</td>\n",
       "      <td>0</td>\n",
       "      <td>鶏の唐揚げおろしソース</td>\n",
       "      <td>382.0</td>\n",
       "      <td>NaN</td>\n",
       "      <td>NaN</td>\n",
       "      <td>NaN</td>\n",
       "      <td>快晴</td>\n",
       "      <td>--</td>\n",
       "      <td>14.0</td>\n",
       "      <td>2014</td>\n",
       "      <td>3</td>\n",
       "      <td>17</td>\n",
       "      <td>0</td>\n",
       "      <td>1</td>\n",
       "      <td>90.935989</td>\n",
       "      <td>38.064011</td>\n",
       "    </tr>\n",
       "  </tbody>\n",
       "</table>\n",
       "<p>207 rows × 19 columns</p>\n",
       "</div>"
      ],
      "text/plain": [
       "       datetime    y week  soldout         name   kcal   remarks event  \\\n",
       "27   2013-12-26   80    木        0           酢豚    NaN       NaN   NaN   \n",
       "103   2014-4-25   80    金        0          中華丼    NaN  お楽しみメニュー   NaN   \n",
       "0    2013-11-18   90    月        0     厚切りイカフライ    NaN       NaN   NaN   \n",
       "107    2014-5-2   47    金        0        鶏の天ぷら  420.0       NaN   NaN   \n",
       "82    2014-3-27   55    木        1     ロース甘味噌焼き  315.0       NaN   NaN   \n",
       "..          ...  ...  ...      ...          ...    ...       ...   ...   \n",
       "85     2014-4-1  125    火        1        メンチカツ  377.0       NaN   NaN   \n",
       "13    2013-12-5  171    木        0  鶏のカッシュナッツ炒め    NaN       NaN   NaN   \n",
       "46     2014-2-3  139    月        1  ハンバーグカレーソース  445.0       NaN   NaN   \n",
       "55    2014-2-17  137    月        1     チンジャオロース  416.0       NaN   NaN   \n",
       "75    2014-3-17  129    月        0  鶏の唐揚げおろしソース  382.0       NaN   NaN   \n",
       "\n",
       "     payday weather precipitation  temperature  year month day  fun  \\\n",
       "27      NaN       曇            --          7.3  2013    12  26    0   \n",
       "103     NaN      晴れ            --         20.8  2014     4  25    1   \n",
       "0       NaN      快晴            --         19.8  2013    11  18    0   \n",
       "107     NaN      晴れ            --         23.3  2014     5   2    0   \n",
       "82      NaN       曇           1.5         12.4  2014     3  27    0   \n",
       "..      ...     ...           ...          ...   ...   ...  ..  ...   \n",
       "85      NaN      薄曇            --         16.1  2014     4   1    0   \n",
       "13      NaN      快晴            --         13.8  2013    12   5    0   \n",
       "46      NaN      晴れ            --         15.9  2014     2   3    0   \n",
       "55      NaN      晴れ            --         11.6  2014     2  17    0   \n",
       "75      NaN      快晴            --         14.0  2014     3  17    0   \n",
       "\n",
       "     clear sky        pred        res  \n",
       "27           0  134.321253 -54.321253  \n",
       "103          0  122.446384 -42.446384  \n",
       "0            1  128.864501 -38.864501  \n",
       "107          0   81.337699 -34.337699  \n",
       "82           0   89.256828 -34.256828  \n",
       "..         ...         ...        ...  \n",
       "85           0   94.482513  30.517487  \n",
       "13           1  136.970018  34.029982  \n",
       "46           0  103.960887  35.039113  \n",
       "55           0  100.732707  36.267293  \n",
       "75           1   90.935989  38.064011  \n",
       "\n",
       "[207 rows x 19 columns]"
      ]
     },
     "execution_count": 394,
     "metadata": {},
     "output_type": "execute_result"
    }
   ],
   "source": [
    "train.sort_values(by='res')"
   ]
  },
  {
   "cell_type": "code",
   "execution_count": 395,
   "metadata": {},
   "outputs": [
    {
     "data": {
      "text/plain": [
       "16.680551033352128"
      ]
     },
     "execution_count": 395,
     "metadata": {},
     "output_type": "execute_result"
    }
   ],
   "source": [
    "train['res'].std()\n",
    "# 17.33389004831175 標準\n",
    "# 16.680551033352128 + 天候, 日(快晴のみ)"
   ]
  },
  {
   "cell_type": "code",
   "execution_count": null,
   "metadata": {},
   "outputs": [],
   "source": []
  },
  {
   "cell_type": "code",
   "execution_count": null,
   "metadata": {},
   "outputs": [],
   "source": []
  },
  {
   "cell_type": "code",
   "execution_count": null,
   "metadata": {},
   "outputs": [],
   "source": []
  },
  {
   "cell_type": "code",
   "execution_count": null,
   "metadata": {},
   "outputs": [],
   "source": []
  },
  {
   "cell_type": "code",
   "execution_count": null,
   "metadata": {},
   "outputs": [],
   "source": []
  },
  {
   "cell_type": "code",
   "execution_count": null,
   "metadata": {},
   "outputs": [],
   "source": []
  },
  {
   "cell_type": "code",
   "execution_count": 299,
   "metadata": {},
   "outputs": [],
   "source": [
    "weather_categories = set(train['weather'].unique().tolist() + test['weather'].unique().tolist())\n",
    "remarks_categories = set(train['remarks'].unique().tolist() + test['remarks'].unique().tolist())\n",
    "\n",
    "train['weather'] = pd.Categorical(train['weather'], categories=weather_categories)\n",
    "test['weather'] = pd.Categorical(test['weather'], categories=weather_categories)\n",
    "\n",
    "remarks_categories\n",
    "\n",
    "train['remarks'] = pd.Categorical(train['remarks'], categories=remarks_categories)\n",
    "test['remarks'] = pd.Categorical(test['remarks'], categories=remarks_categories)"
   ]
  },
  {
   "cell_type": "code",
   "execution_count": 300,
   "metadata": {},
   "outputs": [
    {
     "data": {
      "text/plain": [
       "{'none',\n",
       " 'お楽しみメニュー',\n",
       " 'スペシャルメニュー（800円）',\n",
       " '手作りの味',\n",
       " '料理長のこだわりメニュー',\n",
       " '近隣に飲食店複合ビルオープン',\n",
       " '酢豚（28食）、カレー（85食）',\n",
       " '鶏のレモンペッパー焼（50食）、カレー（42食）'}"
      ]
     },
     "execution_count": 300,
     "metadata": {},
     "output_type": "execute_result"
    }
   ],
   "source": [
    "remarks_categories"
   ]
  },
  {
   "cell_type": "code",
   "execution_count": 301,
   "metadata": {},
   "outputs": [
    {
     "name": "stdout",
     "output_type": "stream",
     "text": [
      "<class 'pandas.core.frame.DataFrame'>\n",
      "RangeIndex: 207 entries, 0 to 206\n",
      "Data columns (total 12 columns):\n",
      " #   Column         Non-Null Count  Dtype   \n",
      "---  ------         --------------  -----   \n",
      " 0   datetime       207 non-null    object  \n",
      " 1   y              207 non-null    int64   \n",
      " 2   week           207 non-null    object  \n",
      " 3   soldout        207 non-null    int64   \n",
      " 4   name           207 non-null    object  \n",
      " 5   kcal           166 non-null    float64 \n",
      " 6   remarks        207 non-null    category\n",
      " 7   event          14 non-null     object  \n",
      " 8   payday         10 non-null     float64 \n",
      " 9   weather        207 non-null    category\n",
      " 10  precipitation  207 non-null    object  \n",
      " 11  temperature    207 non-null    float64 \n",
      "dtypes: category(2), float64(3), int64(2), object(5)\n",
      "memory usage: 17.4+ KB\n"
     ]
    }
   ],
   "source": [
    "train.info()"
   ]
  },
  {
   "cell_type": "code",
   "execution_count": 302,
   "metadata": {},
   "outputs": [
    {
     "data": {
      "text/plain": [
       "datetime         False\n",
       "y                False\n",
       "week             False\n",
       "soldout          False\n",
       "name             False\n",
       "kcal              True\n",
       "remarks          False\n",
       "event             True\n",
       "payday            True\n",
       "weather          False\n",
       "precipitation    False\n",
       "temperature      False\n",
       "dtype: bool"
      ]
     },
     "execution_count": 302,
     "metadata": {},
     "output_type": "execute_result"
    }
   ],
   "source": [
    "train.isnull().any()"
   ]
  },
  {
   "cell_type": "code",
   "execution_count": 303,
   "metadata": {},
   "outputs": [
    {
     "data": {
      "text/plain": [
       "<matplotlib.axes._subplots.AxesSubplot at 0x1db615b8b08>"
      ]
     },
     "execution_count": 303,
     "metadata": {},
     "output_type": "execute_result"
    },
    {
     "data": {
      "image/png": "[encoded data removed]",
      "text/plain": [
       "<Figure size 432x288 with 1 Axes>"
      ]
     },
     "metadata": {
      "needs_background": "light"
     },
     "output_type": "display_data"
    }
   ],
   "source": [
    "sns.countplot('soldout', data=train, hue='weather')"
   ]
  },
  {
   "cell_type": "code",
   "execution_count": 304,
   "metadata": {},
   "outputs": [
    {
     "data": {
      "text/plain": [
       "<matplotlib.axes._subplots.AxesSubplot at 0x1db61604848>"
      ]
     },
     "execution_count": 304,
     "metadata": {},
     "output_type": "execute_result"
    },
    {
     "data": {
      "image/png": "[encoded data removed]",
      "text/plain": [
       "<Figure size 432x288 with 1 Axes>"
      ]
     },
     "metadata": {
      "needs_background": "light"
     },
     "output_type": "display_data"
    }
   ],
   "source": [
    "sns.countplot('soldout', data=train, hue='week')"
   ]
  },
  {
   "cell_type": "code",
   "execution_count": 305,
   "metadata": {},
   "outputs": [
    {
     "data": {
      "text/plain": [
       "<matplotlib.axes._subplots.AxesSubplot at 0x1db615b6c08>"
      ]
     },
     "execution_count": 305,
     "metadata": {},
     "output_type": "execute_result"
    },
    {
     "data": {
      "image/png": "[encoded data removed]",
      "text/plain": [
       "<Figure size 432x288 with 1 Axes>"
      ]
     },
     "metadata": {
      "needs_background": "light"
     },
     "output_type": "display_data"
    }
   ],
   "source": [
    "sns.countplot('remarks', data=train)"
   ]
  },
  {
   "cell_type": "code",
   "execution_count": 306,
   "metadata": {},
   "outputs": [
    {
     "data": {
      "text/plain": [
       "<matplotlib.axes._subplots.AxesSubplot at 0x1db616dea08>"
      ]
     },
     "execution_count": 306,
     "metadata": {},
     "output_type": "execute_result"
    },
    {
     "data": {
      "image/png": "[encoded data removed]",
      "text/plain": [
       "<Figure size 432x288 with 1 Axes>"
      ]
     },
     "metadata": {
      "needs_background": "light"
     },
     "output_type": "display_data"
    }
   ],
   "source": [
    "sns.countplot('event', data=train)"
   ]
  },
  {
   "cell_type": "code",
   "execution_count": 307,
   "metadata": {},
   "outputs": [
    {
     "data": {
      "text/plain": [
       "name\n",
       "いか天ぷら           1\n",
       "かじきの甘辛煮         1\n",
       "きのこソースハンバーグ     1\n",
       "さっくりメンチカツ       1\n",
       "さわら焼味噌掛け        1\n",
       "               ..\n",
       "鶏の親子煮           1\n",
       "鶏チリソース          2\n",
       "鶏肉とカシューナッツ炒め    1\n",
       "鶏肉のカレー唐揚        1\n",
       "鶏肉の山賊焼き         1\n",
       "Name: y, Length: 156, dtype: int64"
      ]
     },
     "execution_count": 307,
     "metadata": {},
     "output_type": "execute_result"
    }
   ],
   "source": [
    "train.groupby('name').count()['y']"
   ]
  },
  {
   "cell_type": "code",
   "execution_count": 308,
   "metadata": {},
   "outputs": [
    {
     "data": {
      "text/plain": [
       "430.0    9\n",
       "400.0    8\n",
       "415.0    6\n",
       "426.0    5\n",
       "410.0    5\n",
       "        ..\n",
       "368.0    1\n",
       "403.0    1\n",
       "406.0    1\n",
       "416.0    1\n",
       "394.0    1\n",
       "Name: kcal, Length: 77, dtype: int64"
      ]
     },
     "execution_count": 308,
     "metadata": {},
     "output_type": "execute_result"
    }
   ],
   "source": [
    "train['kcal'].value_counts()"
   ]
  },
  {
   "cell_type": "code",
   "execution_count": 309,
   "metadata": {},
   "outputs": [
    {
     "data": {
      "text/plain": [
       "ママの会             9\n",
       "キャリアアップ支援セミナー    5\n",
       "Name: event, dtype: int64"
      ]
     },
     "execution_count": 309,
     "metadata": {},
     "output_type": "execute_result"
    }
   ],
   "source": [
    "train['event'].value_counts()"
   ]
  },
  {
   "cell_type": "code",
   "execution_count": 310,
   "metadata": {},
   "outputs": [],
   "source": [
    "dummy = pd.get_dummies(train[['event', 'y']])"
   ]
  },
  {
   "cell_type": "code",
   "execution_count": 311,
   "metadata": {},
   "outputs": [
    {
     "data": {
      "text/html": [
       "<div>\n",
       "<style scoped>\n",
       "    .dataframe tbody tr th:only-of-type {\n",
       "        vertical-align: middle;\n",
       "    }\n",
       "\n",
       "    .dataframe tbody tr th {\n",
       "        vertical-align: top;\n",
       "    }\n",
       "\n",
       "    .dataframe thead th {\n",
       "        text-align: right;\n",
       "    }\n",
       "</style>\n",
       "<table border=\"1\" class=\"dataframe\">\n",
       "  <thead>\n",
       "    <tr style=\"text-align: right;\">\n",
       "      <th></th>\n",
       "      <th>y</th>\n",
       "      <th>event_キャリアアップ支援セミナー</th>\n",
       "      <th>event_ママの会</th>\n",
       "    </tr>\n",
       "  </thead>\n",
       "  <tbody>\n",
       "    <tr>\n",
       "      <th>y</th>\n",
       "      <td>1.000000</td>\n",
       "      <td>-0.052869</td>\n",
       "      <td>-0.019216</td>\n",
       "    </tr>\n",
       "    <tr>\n",
       "      <th>event_キャリアアップ支援セミナー</th>\n",
       "      <td>-0.052869</td>\n",
       "      <td>1.000000</td>\n",
       "      <td>-0.033543</td>\n",
       "    </tr>\n",
       "    <tr>\n",
       "      <th>event_ママの会</th>\n",
       "      <td>-0.019216</td>\n",
       "      <td>-0.033543</td>\n",
       "      <td>1.000000</td>\n",
       "    </tr>\n",
       "  </tbody>\n",
       "</table>\n",
       "</div>"
      ],
      "text/plain": [
       "                            y  event_キャリアアップ支援セミナー  event_ママの会\n",
       "y                    1.000000            -0.052869   -0.019216\n",
       "event_キャリアアップ支援セミナー -0.052869             1.000000   -0.033543\n",
       "event_ママの会          -0.019216            -0.033543    1.000000"
      ]
     },
     "execution_count": 311,
     "metadata": {},
     "output_type": "execute_result"
    }
   ],
   "source": [
    "dummy.corr()"
   ]
  },
  {
   "cell_type": "code",
   "execution_count": 312,
   "metadata": {},
   "outputs": [
    {
     "data": {
      "text/plain": [
       "none                        186\n",
       "お楽しみメニュー                     12\n",
       "料理長のこだわりメニュー                  5\n",
       "酢豚（28食）、カレー（85食）              1\n",
       "手作りの味                         1\n",
       "スペシャルメニュー（800円）               1\n",
       "鶏のレモンペッパー焼（50食）、カレー（42食）      1\n",
       "近隣に飲食店複合ビルオープン                0\n",
       "Name: remarks, dtype: int64"
      ]
     },
     "execution_count": 312,
     "metadata": {},
     "output_type": "execute_result"
    }
   ],
   "source": [
    "train['remarks'].value_counts()"
   ]
  },
  {
   "cell_type": "code",
   "execution_count": 314,
   "metadata": {},
   "outputs": [],
   "source": [
    "dummy = pd.get_dummies(train[['remarks', 'y']])\n",
    "#sns.pairplot(dummy)"
   ]
  },
  {
   "cell_type": "code",
   "execution_count": 315,
   "metadata": {},
   "outputs": [
    {
     "data": {
      "text/html": [
       "<div>\n",
       "<style scoped>\n",
       "    .dataframe tbody tr th:only-of-type {\n",
       "        vertical-align: middle;\n",
       "    }\n",
       "\n",
       "    .dataframe tbody tr th {\n",
       "        vertical-align: top;\n",
       "    }\n",
       "\n",
       "    .dataframe thead th {\n",
       "        text-align: right;\n",
       "    }\n",
       "</style>\n",
       "<table border=\"1\" class=\"dataframe\">\n",
       "  <thead>\n",
       "    <tr style=\"text-align: right;\">\n",
       "      <th></th>\n",
       "      <th>y</th>\n",
       "      <th>remarks_鶏のレモンペッパー焼（50食）、カレー（42食）</th>\n",
       "      <th>remarks_近隣に飲食店複合ビルオープン</th>\n",
       "      <th>remarks_お楽しみメニュー</th>\n",
       "      <th>remarks_料理長のこだわりメニュー</th>\n",
       "      <th>remarks_スペシャルメニュー（800円）</th>\n",
       "      <th>remarks_none</th>\n",
       "      <th>remarks_手作りの味</th>\n",
       "      <th>remarks_酢豚（28食）、カレー（85食）</th>\n",
       "    </tr>\n",
       "  </thead>\n",
       "  <tbody>\n",
       "    <tr>\n",
       "      <th>y</th>\n",
       "      <td>1.000000</td>\n",
       "      <td>0.011420</td>\n",
       "      <td>NaN</td>\n",
       "      <td>0.167332</td>\n",
       "      <td>-0.147834</td>\n",
       "      <td>-0.088408</td>\n",
       "      <td>-0.040443</td>\n",
       "      <td>-0.039556</td>\n",
       "      <td>0.056024</td>\n",
       "    </tr>\n",
       "    <tr>\n",
       "      <th>remarks_鶏のレモンペッパー焼（50食）、カレー（42食）</th>\n",
       "      <td>0.011420</td>\n",
       "      <td>1.000000</td>\n",
       "      <td>NaN</td>\n",
       "      <td>-0.017284</td>\n",
       "      <td>-0.010962</td>\n",
       "      <td>-0.004854</td>\n",
       "      <td>-0.207354</td>\n",
       "      <td>-0.004854</td>\n",
       "      <td>-0.004854</td>\n",
       "    </tr>\n",
       "    <tr>\n",
       "      <th>remarks_近隣に飲食店複合ビルオープン</th>\n",
       "      <td>NaN</td>\n",
       "      <td>NaN</td>\n",
       "      <td>NaN</td>\n",
       "      <td>NaN</td>\n",
       "      <td>NaN</td>\n",
       "      <td>NaN</td>\n",
       "      <td>NaN</td>\n",
       "      <td>NaN</td>\n",
       "      <td>NaN</td>\n",
       "    </tr>\n",
       "    <tr>\n",
       "      <th>remarks_お楽しみメニュー</th>\n",
       "      <td>0.167332</td>\n",
       "      <td>-0.017284</td>\n",
       "      <td>NaN</td>\n",
       "      <td>1.000000</td>\n",
       "      <td>-0.039029</td>\n",
       "      <td>-0.017284</td>\n",
       "      <td>-0.738278</td>\n",
       "      <td>-0.017284</td>\n",
       "      <td>-0.017284</td>\n",
       "    </tr>\n",
       "    <tr>\n",
       "      <th>remarks_料理長のこだわりメニュー</th>\n",
       "      <td>-0.147834</td>\n",
       "      <td>-0.010962</td>\n",
       "      <td>NaN</td>\n",
       "      <td>-0.039029</td>\n",
       "      <td>1.000000</td>\n",
       "      <td>-0.010962</td>\n",
       "      <td>-0.468227</td>\n",
       "      <td>-0.010962</td>\n",
       "      <td>-0.010962</td>\n",
       "    </tr>\n",
       "    <tr>\n",
       "      <th>remarks_スペシャルメニュー（800円）</th>\n",
       "      <td>-0.088408</td>\n",
       "      <td>-0.004854</td>\n",
       "      <td>NaN</td>\n",
       "      <td>-0.017284</td>\n",
       "      <td>-0.010962</td>\n",
       "      <td>1.000000</td>\n",
       "      <td>-0.207354</td>\n",
       "      <td>-0.004854</td>\n",
       "      <td>-0.004854</td>\n",
       "    </tr>\n",
       "    <tr>\n",
       "      <th>remarks_none</th>\n",
       "      <td>-0.040443</td>\n",
       "      <td>-0.207354</td>\n",
       "      <td>NaN</td>\n",
       "      <td>-0.738278</td>\n",
       "      <td>-0.468227</td>\n",
       "      <td>-0.207354</td>\n",
       "      <td>1.000000</td>\n",
       "      <td>-0.207354</td>\n",
       "      <td>-0.207354</td>\n",
       "    </tr>\n",
       "    <tr>\n",
       "      <th>remarks_手作りの味</th>\n",
       "      <td>-0.039556</td>\n",
       "      <td>-0.004854</td>\n",
       "      <td>NaN</td>\n",
       "      <td>-0.017284</td>\n",
       "      <td>-0.010962</td>\n",
       "      <td>-0.004854</td>\n",
       "      <td>-0.207354</td>\n",
       "      <td>1.000000</td>\n",
       "      <td>-0.004854</td>\n",
       "    </tr>\n",
       "    <tr>\n",
       "      <th>remarks_酢豚（28食）、カレー（85食）</th>\n",
       "      <td>0.056024</td>\n",
       "      <td>-0.004854</td>\n",
       "      <td>NaN</td>\n",
       "      <td>-0.017284</td>\n",
       "      <td>-0.010962</td>\n",
       "      <td>-0.004854</td>\n",
       "      <td>-0.207354</td>\n",
       "      <td>-0.004854</td>\n",
       "      <td>1.000000</td>\n",
       "    </tr>\n",
       "  </tbody>\n",
       "</table>\n",
       "</div>"
      ],
      "text/plain": [
       "                                         y  remarks_鶏のレモンペッパー焼（50食）、カレー（42食）  \\\n",
       "y                                 1.000000                          0.011420   \n",
       "remarks_鶏のレモンペッパー焼（50食）、カレー（42食）  0.011420                          1.000000   \n",
       "remarks_近隣に飲食店複合ビルオープン                 NaN                               NaN   \n",
       "remarks_お楽しみメニュー                  0.167332                         -0.017284   \n",
       "remarks_料理長のこだわりメニュー             -0.147834                         -0.010962   \n",
       "remarks_スペシャルメニュー（800円）          -0.088408                         -0.004854   \n",
       "remarks_none                     -0.040443                         -0.207354   \n",
       "remarks_手作りの味                    -0.039556                         -0.004854   \n",
       "remarks_酢豚（28食）、カレー（85食）          0.056024                         -0.004854   \n",
       "\n",
       "                                  remarks_近隣に飲食店複合ビルオープン  remarks_お楽しみメニュー  \\\n",
       "y                                                    NaN          0.167332   \n",
       "remarks_鶏のレモンペッパー焼（50食）、カレー（42食）                     NaN         -0.017284   \n",
       "remarks_近隣に飲食店複合ビルオープン                               NaN               NaN   \n",
       "remarks_お楽しみメニュー                                     NaN          1.000000   \n",
       "remarks_料理長のこだわりメニュー                                 NaN         -0.039029   \n",
       "remarks_スペシャルメニュー（800円）                              NaN         -0.017284   \n",
       "remarks_none                                         NaN         -0.738278   \n",
       "remarks_手作りの味                                        NaN         -0.017284   \n",
       "remarks_酢豚（28食）、カレー（85食）                             NaN         -0.017284   \n",
       "\n",
       "                                  remarks_料理長のこだわりメニュー  \\\n",
       "y                                            -0.147834   \n",
       "remarks_鶏のレモンペッパー焼（50食）、カレー（42食）             -0.010962   \n",
       "remarks_近隣に飲食店複合ビルオープン                             NaN   \n",
       "remarks_お楽しみメニュー                             -0.039029   \n",
       "remarks_料理長のこだわりメニュー                          1.000000   \n",
       "remarks_スペシャルメニュー（800円）                      -0.010962   \n",
       "remarks_none                                 -0.468227   \n",
       "remarks_手作りの味                                -0.010962   \n",
       "remarks_酢豚（28食）、カレー（85食）                     -0.010962   \n",
       "\n",
       "                                  remarks_スペシャルメニュー（800円）  remarks_none  \\\n",
       "y                                               -0.088408     -0.040443   \n",
       "remarks_鶏のレモンペッパー焼（50食）、カレー（42食）                -0.004854     -0.207354   \n",
       "remarks_近隣に飲食店複合ビルオープン                                NaN           NaN   \n",
       "remarks_お楽しみメニュー                                -0.017284     -0.738278   \n",
       "remarks_料理長のこだわりメニュー                            -0.010962     -0.468227   \n",
       "remarks_スペシャルメニュー（800円）                          1.000000     -0.207354   \n",
       "remarks_none                                    -0.207354      1.000000   \n",
       "remarks_手作りの味                                   -0.004854     -0.207354   \n",
       "remarks_酢豚（28食）、カレー（85食）                        -0.004854     -0.207354   \n",
       "\n",
       "                                  remarks_手作りの味  remarks_酢豚（28食）、カレー（85食）  \n",
       "y                                     -0.039556                  0.056024  \n",
       "remarks_鶏のレモンペッパー焼（50食）、カレー（42食）      -0.004854                 -0.004854  \n",
       "remarks_近隣に飲食店複合ビルオープン                      NaN                       NaN  \n",
       "remarks_お楽しみメニュー                      -0.017284                 -0.017284  \n",
       "remarks_料理長のこだわりメニュー                  -0.010962                 -0.010962  \n",
       "remarks_スペシャルメニュー（800円）               -0.004854                 -0.004854  \n",
       "remarks_none                          -0.207354                 -0.207354  \n",
       "remarks_手作りの味                          1.000000                 -0.004854  \n",
       "remarks_酢豚（28食）、カレー（85食）              -0.004854                  1.000000  "
      ]
     },
     "execution_count": 315,
     "metadata": {},
     "output_type": "execute_result"
    }
   ],
   "source": [
    "dummy.corr()"
   ]
  },
  {
   "cell_type": "code",
   "execution_count": 232,
   "metadata": {},
   "outputs": [
    {
     "data": {
      "text/plain": [
       "1.0    10\n",
       "Name: payday, dtype: int64"
      ]
     },
     "execution_count": 232,
     "metadata": {},
     "output_type": "execute_result"
    }
   ],
   "source": [
    "train['payday'].value_counts()"
   ]
  },
  {
   "cell_type": "code",
   "execution_count": 282,
   "metadata": {},
   "outputs": [],
   "source": [
    "train['payday'] = train['payday'].fillna(0)"
   ]
  },
  {
   "cell_type": "code",
   "execution_count": 233,
   "metadata": {},
   "outputs": [
    {
     "data": {
      "text/plain": [
       "--     169\n",
       "0       23\n",
       "0.5      9\n",
       "1.5      2\n",
       "6.5      1\n",
       "1        1\n",
       "6        1\n",
       "2.5      1\n",
       "Name: precipitation, dtype: int64"
      ]
     },
     "execution_count": 233,
     "metadata": {},
     "output_type": "execute_result"
    }
   ],
   "source": [
    "train['precipitation'].value_counts()"
   ]
  },
  {
   "cell_type": "code",
   "execution_count": 234,
   "metadata": {},
   "outputs": [
    {
     "data": {
      "text/plain": [
       "<matplotlib.axes._subplots.AxesSubplot at 0x1db5d390e88>"
      ]
     },
     "execution_count": 234,
     "metadata": {},
     "output_type": "execute_result"
    },
    {
     "data": {
      "image/png": "[encoded data removed]",
      "text/plain": [
       "<Figure size 432x288 with 1 Axes>"
      ]
     },
     "metadata": {
      "needs_background": "light"
     },
     "output_type": "display_data"
    }
   ],
   "source": [
    "sns.countplot('precipitation', data=train)"
   ]
  },
  {
   "cell_type": "code",
   "execution_count": 317,
   "metadata": {},
   "outputs": [
    {
     "data": {
      "text/plain": [
       "<matplotlib.axes._subplots.AxesSubplot at 0x1db61791508>"
      ]
     },
     "execution_count": 317,
     "metadata": {},
     "output_type": "execute_result"
    },
    {
     "data": {
      "image/png": "[encoded data removed]",
      "text/plain": [
       "<Figure size 432x288 with 1 Axes>"
      ]
     },
     "metadata": {
      "needs_background": "light"
     },
     "output_type": "display_data"
    }
   ],
   "source": [
    "sns.scatterplot(x='precipitation', y='y', data=train)"
   ]
  },
  {
   "cell_type": "code",
   "execution_count": 276,
   "metadata": {},
   "outputs": [],
   "source": [
    "dummy = pd.get_dummies(train[['weather', 'y']])"
   ]
  },
  {
   "cell_type": "code",
   "execution_count": 283,
   "metadata": {},
   "outputs": [
    {
     "data": {
      "text/html": [
       "<div>\n",
       "<style scoped>\n",
       "    .dataframe tbody tr th:only-of-type {\n",
       "        vertical-align: middle;\n",
       "    }\n",
       "\n",
       "    .dataframe tbody tr th {\n",
       "        vertical-align: top;\n",
       "    }\n",
       "\n",
       "    .dataframe thead th {\n",
       "        text-align: right;\n",
       "    }\n",
       "</style>\n",
       "<table border=\"1\" class=\"dataframe\">\n",
       "  <thead>\n",
       "    <tr style=\"text-align: right;\">\n",
       "      <th></th>\n",
       "      <th>y</th>\n",
       "      <th>weather_快晴</th>\n",
       "      <th>weather_雷電</th>\n",
       "      <th>weather_曇</th>\n",
       "      <th>weather_薄曇</th>\n",
       "      <th>weather_晴れ</th>\n",
       "      <th>weather_雪</th>\n",
       "      <th>weather_雨</th>\n",
       "    </tr>\n",
       "  </thead>\n",
       "  <tbody>\n",
       "    <tr>\n",
       "      <th>y</th>\n",
       "      <td>1.000000</td>\n",
       "      <td>0.298620</td>\n",
       "      <td>-0.069292</td>\n",
       "      <td>-0.010470</td>\n",
       "      <td>-0.136748</td>\n",
       "      <td>-0.131491</td>\n",
       "      <td>-0.001324</td>\n",
       "      <td>-0.062540</td>\n",
       "    </tr>\n",
       "    <tr>\n",
       "      <th>weather_快晴</th>\n",
       "      <td>0.298620</td>\n",
       "      <td>1.000000</td>\n",
       "      <td>-0.040874</td>\n",
       "      <td>-0.344156</td>\n",
       "      <td>-0.217426</td>\n",
       "      <td>-0.331065</td>\n",
       "      <td>-0.040874</td>\n",
       "      <td>-0.212450</td>\n",
       "    </tr>\n",
       "    <tr>\n",
       "      <th>weather_雷電</th>\n",
       "      <td>-0.069292</td>\n",
       "      <td>-0.040874</td>\n",
       "      <td>1.000000</td>\n",
       "      <td>-0.040874</td>\n",
       "      <td>-0.025823</td>\n",
       "      <td>-0.039319</td>\n",
       "      <td>-0.004854</td>\n",
       "      <td>-0.025232</td>\n",
       "    </tr>\n",
       "    <tr>\n",
       "      <th>weather_曇</th>\n",
       "      <td>-0.010470</td>\n",
       "      <td>-0.344156</td>\n",
       "      <td>-0.040874</td>\n",
       "      <td>1.000000</td>\n",
       "      <td>-0.217426</td>\n",
       "      <td>-0.331065</td>\n",
       "      <td>-0.040874</td>\n",
       "      <td>-0.212450</td>\n",
       "    </tr>\n",
       "    <tr>\n",
       "      <th>weather_薄曇</th>\n",
       "      <td>-0.136748</td>\n",
       "      <td>-0.217426</td>\n",
       "      <td>-0.025823</td>\n",
       "      <td>-0.217426</td>\n",
       "      <td>1.000000</td>\n",
       "      <td>-0.209156</td>\n",
       "      <td>-0.025823</td>\n",
       "      <td>-0.134219</td>\n",
       "    </tr>\n",
       "    <tr>\n",
       "      <th>weather_晴れ</th>\n",
       "      <td>-0.131491</td>\n",
       "      <td>-0.331065</td>\n",
       "      <td>-0.039319</td>\n",
       "      <td>-0.331065</td>\n",
       "      <td>-0.209156</td>\n",
       "      <td>1.000000</td>\n",
       "      <td>-0.039319</td>\n",
       "      <td>-0.204369</td>\n",
       "    </tr>\n",
       "    <tr>\n",
       "      <th>weather_雪</th>\n",
       "      <td>-0.001324</td>\n",
       "      <td>-0.040874</td>\n",
       "      <td>-0.004854</td>\n",
       "      <td>-0.040874</td>\n",
       "      <td>-0.025823</td>\n",
       "      <td>-0.039319</td>\n",
       "      <td>1.000000</td>\n",
       "      <td>-0.025232</td>\n",
       "    </tr>\n",
       "    <tr>\n",
       "      <th>weather_雨</th>\n",
       "      <td>-0.062540</td>\n",
       "      <td>-0.212450</td>\n",
       "      <td>-0.025232</td>\n",
       "      <td>-0.212450</td>\n",
       "      <td>-0.134219</td>\n",
       "      <td>-0.204369</td>\n",
       "      <td>-0.025232</td>\n",
       "      <td>1.000000</td>\n",
       "    </tr>\n",
       "  </tbody>\n",
       "</table>\n",
       "</div>"
      ],
      "text/plain": [
       "                   y  weather_快晴  weather_雷電  weather_曇  weather_薄曇  \\\n",
       "y           1.000000    0.298620   -0.069292  -0.010470   -0.136748   \n",
       "weather_快晴  0.298620    1.000000   -0.040874  -0.344156   -0.217426   \n",
       "weather_雷電 -0.069292   -0.040874    1.000000  -0.040874   -0.025823   \n",
       "weather_曇  -0.010470   -0.344156   -0.040874   1.000000   -0.217426   \n",
       "weather_薄曇 -0.136748   -0.217426   -0.025823  -0.217426    1.000000   \n",
       "weather_晴れ -0.131491   -0.331065   -0.039319  -0.331065   -0.209156   \n",
       "weather_雪  -0.001324   -0.040874   -0.004854  -0.040874   -0.025823   \n",
       "weather_雨  -0.062540   -0.212450   -0.025232  -0.212450   -0.134219   \n",
       "\n",
       "            weather_晴れ  weather_雪  weather_雨  \n",
       "y            -0.131491  -0.001324  -0.062540  \n",
       "weather_快晴   -0.331065  -0.040874  -0.212450  \n",
       "weather_雷電   -0.039319  -0.004854  -0.025232  \n",
       "weather_曇    -0.331065  -0.040874  -0.212450  \n",
       "weather_薄曇   -0.209156  -0.025823  -0.134219  \n",
       "weather_晴れ    1.000000  -0.039319  -0.204369  \n",
       "weather_雪    -0.039319   1.000000  -0.025232  \n",
       "weather_雨    -0.204369  -0.025232   1.000000  "
      ]
     },
     "execution_count": 283,
     "metadata": {},
     "output_type": "execute_result"
    }
   ],
   "source": [
    "dummy.corr()"
   ]
  },
  {
   "cell_type": "code",
   "execution_count": 293,
   "metadata": {},
   "outputs": [],
   "source": [
    "def weather_check(weather):\n",
    "    if weather == '快晴':\n",
    "        return 0\n",
    "    elif weather in ['晴れ', '薄曇']:\n",
    "        return 1\n",
    "    else:\n",
    "        return 2"
   ]
  },
  {
   "cell_type": "code",
   "execution_count": 294,
   "metadata": {},
   "outputs": [],
   "source": [
    "train['weather_level'] = train['weather'].apply(weather_check)"
   ]
  },
  {
   "cell_type": "code",
   "execution_count": 295,
   "metadata": {},
   "outputs": [
    {
     "data": {
      "text/html": [
       "<div>\n",
       "<style scoped>\n",
       "    .dataframe tbody tr th:only-of-type {\n",
       "        vertical-align: middle;\n",
       "    }\n",
       "\n",
       "    .dataframe tbody tr th {\n",
       "        vertical-align: top;\n",
       "    }\n",
       "\n",
       "    .dataframe thead th {\n",
       "        text-align: right;\n",
       "    }\n",
       "</style>\n",
       "<table border=\"1\" class=\"dataframe\">\n",
       "  <thead>\n",
       "    <tr style=\"text-align: right;\">\n",
       "      <th></th>\n",
       "      <th>y</th>\n",
       "      <th>soldout</th>\n",
       "      <th>kcal</th>\n",
       "      <th>payday</th>\n",
       "      <th>temperature</th>\n",
       "      <th>weather_level</th>\n",
       "    </tr>\n",
       "  </thead>\n",
       "  <tbody>\n",
       "    <tr>\n",
       "      <th>y</th>\n",
       "      <td>1.000000</td>\n",
       "      <td>0.098308</td>\n",
       "      <td>0.147269</td>\n",
       "      <td>0.046546</td>\n",
       "      <td>-0.655332</td>\n",
       "      <td>-0.202659</td>\n",
       "    </tr>\n",
       "    <tr>\n",
       "      <th>soldout</th>\n",
       "      <td>0.098308</td>\n",
       "      <td>1.000000</td>\n",
       "      <td>0.048633</td>\n",
       "      <td>-0.158202</td>\n",
       "      <td>-0.156752</td>\n",
       "      <td>0.090134</td>\n",
       "    </tr>\n",
       "    <tr>\n",
       "      <th>kcal</th>\n",
       "      <td>0.147269</td>\n",
       "      <td>0.048633</td>\n",
       "      <td>1.000000</td>\n",
       "      <td>0.066765</td>\n",
       "      <td>-0.046191</td>\n",
       "      <td>0.037163</td>\n",
       "    </tr>\n",
       "    <tr>\n",
       "      <th>payday</th>\n",
       "      <td>0.046546</td>\n",
       "      <td>-0.158202</td>\n",
       "      <td>0.066765</td>\n",
       "      <td>1.000000</td>\n",
       "      <td>-0.025759</td>\n",
       "      <td>0.135533</td>\n",
       "    </tr>\n",
       "    <tr>\n",
       "      <th>temperature</th>\n",
       "      <td>-0.655332</td>\n",
       "      <td>-0.156752</td>\n",
       "      <td>-0.046191</td>\n",
       "      <td>-0.025759</td>\n",
       "      <td>1.000000</td>\n",
       "      <td>0.085388</td>\n",
       "    </tr>\n",
       "    <tr>\n",
       "      <th>weather_level</th>\n",
       "      <td>-0.202659</td>\n",
       "      <td>0.090134</td>\n",
       "      <td>0.037163</td>\n",
       "      <td>0.135533</td>\n",
       "      <td>0.085388</td>\n",
       "      <td>1.000000</td>\n",
       "    </tr>\n",
       "  </tbody>\n",
       "</table>\n",
       "</div>"
      ],
      "text/plain": [
       "                      y   soldout      kcal    payday  temperature  \\\n",
       "y              1.000000  0.098308  0.147269  0.046546    -0.655332   \n",
       "soldout        0.098308  1.000000  0.048633 -0.158202    -0.156752   \n",
       "kcal           0.147269  0.048633  1.000000  0.066765    -0.046191   \n",
       "payday         0.046546 -0.158202  0.066765  1.000000    -0.025759   \n",
       "temperature   -0.655332 -0.156752 -0.046191 -0.025759     1.000000   \n",
       "weather_level -0.202659  0.090134  0.037163  0.135533     0.085388   \n",
       "\n",
       "               weather_level  \n",
       "y                  -0.202659  \n",
       "soldout             0.090134  \n",
       "kcal                0.037163  \n",
       "payday              0.135533  \n",
       "temperature         0.085388  \n",
       "weather_level       1.000000  "
      ]
     },
     "execution_count": 295,
     "metadata": {},
     "output_type": "execute_result"
    }
   ],
   "source": [
    "train.corr()"
   ]
  },
  {
   "cell_type": "code",
   "execution_count": 236,
   "metadata": {},
   "outputs": [],
   "source": [
    "'''\n",
    "■trainX に入れる内容■\n",
    " #   Column         Non-Null Count  Dtype  \n",
    "---  ------         --------------  -----  \n",
    " 0   datetime       207 non-null    object \n",
    " 1   y              207 non-null    int64  \n",
    " 2   week           207 non-null    object \n",
    " 3   soldout        207 non-null    int64  \n",
    " 4   name           207 non-null    object \n",
    " 5   kcal           166 non-null    float64\n",
    " 6   remarks        21 non-null     object \n",
    " 7   event          14 non-null     object \n",
    " 8   payday         10 non-null     float64\n",
    " 9   weather        207 non-null    object \n",
    " 10  precipitation  207 non-null    object \n",
    " 11  temperature    207 non-null    float64\n",
    "\n",
    "week(dummies), soldout, remarks(dummies w/nan), event(dummies w/nan), payday(Nan replace), weather(dummies), precipitation(-- replace), temperature\n",
    "'''\n",
    "X = DataFrame()"
   ]
  },
  {
   "cell_type": "code",
   "execution_count": 237,
   "metadata": {},
   "outputs": [],
   "source": [
    "train_dummies = pd.get_dummies(train[['weather', 'week']], drop_first=True, prefix='', prefix_sep='')"
   ]
  },
  {
   "cell_type": "code",
   "execution_count": 238,
   "metadata": {},
   "outputs": [
    {
     "data": {
      "text/html": [
       "<div>\n",
       "<style scoped>\n",
       "    .dataframe tbody tr th:only-of-type {\n",
       "        vertical-align: middle;\n",
       "    }\n",
       "\n",
       "    .dataframe tbody tr th {\n",
       "        vertical-align: top;\n",
       "    }\n",
       "\n",
       "    .dataframe thead th {\n",
       "        text-align: right;\n",
       "    }\n",
       "</style>\n",
       "<table border=\"1\" class=\"dataframe\">\n",
       "  <thead>\n",
       "    <tr style=\"text-align: right;\">\n",
       "      <th></th>\n",
       "      <th>雷電</th>\n",
       "      <th>曇</th>\n",
       "      <th>薄曇</th>\n",
       "      <th>晴れ</th>\n",
       "      <th>雪</th>\n",
       "      <th>雨</th>\n",
       "      <th>木</th>\n",
       "      <th>水</th>\n",
       "      <th>火</th>\n",
       "      <th>金</th>\n",
       "    </tr>\n",
       "  </thead>\n",
       "  <tbody>\n",
       "    <tr>\n",
       "      <th>0</th>\n",
       "      <td>0</td>\n",
       "      <td>0</td>\n",
       "      <td>0</td>\n",
       "      <td>0</td>\n",
       "      <td>0</td>\n",
       "      <td>0</td>\n",
       "      <td>0</td>\n",
       "      <td>0</td>\n",
       "      <td>0</td>\n",
       "      <td>0</td>\n",
       "    </tr>\n",
       "    <tr>\n",
       "      <th>1</th>\n",
       "      <td>0</td>\n",
       "      <td>0</td>\n",
       "      <td>0</td>\n",
       "      <td>0</td>\n",
       "      <td>0</td>\n",
       "      <td>0</td>\n",
       "      <td>0</td>\n",
       "      <td>0</td>\n",
       "      <td>1</td>\n",
       "      <td>0</td>\n",
       "    </tr>\n",
       "    <tr>\n",
       "      <th>2</th>\n",
       "      <td>0</td>\n",
       "      <td>0</td>\n",
       "      <td>0</td>\n",
       "      <td>0</td>\n",
       "      <td>0</td>\n",
       "      <td>0</td>\n",
       "      <td>0</td>\n",
       "      <td>1</td>\n",
       "      <td>0</td>\n",
       "      <td>0</td>\n",
       "    </tr>\n",
       "    <tr>\n",
       "      <th>3</th>\n",
       "      <td>0</td>\n",
       "      <td>0</td>\n",
       "      <td>0</td>\n",
       "      <td>0</td>\n",
       "      <td>0</td>\n",
       "      <td>0</td>\n",
       "      <td>1</td>\n",
       "      <td>0</td>\n",
       "      <td>0</td>\n",
       "      <td>0</td>\n",
       "    </tr>\n",
       "    <tr>\n",
       "      <th>4</th>\n",
       "      <td>0</td>\n",
       "      <td>0</td>\n",
       "      <td>0</td>\n",
       "      <td>0</td>\n",
       "      <td>0</td>\n",
       "      <td>0</td>\n",
       "      <td>0</td>\n",
       "      <td>0</td>\n",
       "      <td>0</td>\n",
       "      <td>1</td>\n",
       "    </tr>\n",
       "    <tr>\n",
       "      <th>...</th>\n",
       "      <td>...</td>\n",
       "      <td>...</td>\n",
       "      <td>...</td>\n",
       "      <td>...</td>\n",
       "      <td>...</td>\n",
       "      <td>...</td>\n",
       "      <td>...</td>\n",
       "      <td>...</td>\n",
       "      <td>...</td>\n",
       "      <td>...</td>\n",
       "    </tr>\n",
       "    <tr>\n",
       "      <th>202</th>\n",
       "      <td>0</td>\n",
       "      <td>1</td>\n",
       "      <td>0</td>\n",
       "      <td>0</td>\n",
       "      <td>0</td>\n",
       "      <td>0</td>\n",
       "      <td>0</td>\n",
       "      <td>1</td>\n",
       "      <td>0</td>\n",
       "      <td>0</td>\n",
       "    </tr>\n",
       "    <tr>\n",
       "      <th>203</th>\n",
       "      <td>0</td>\n",
       "      <td>1</td>\n",
       "      <td>0</td>\n",
       "      <td>0</td>\n",
       "      <td>0</td>\n",
       "      <td>0</td>\n",
       "      <td>1</td>\n",
       "      <td>0</td>\n",
       "      <td>0</td>\n",
       "      <td>0</td>\n",
       "    </tr>\n",
       "    <tr>\n",
       "      <th>204</th>\n",
       "      <td>0</td>\n",
       "      <td>0</td>\n",
       "      <td>0</td>\n",
       "      <td>1</td>\n",
       "      <td>0</td>\n",
       "      <td>0</td>\n",
       "      <td>0</td>\n",
       "      <td>0</td>\n",
       "      <td>0</td>\n",
       "      <td>1</td>\n",
       "    </tr>\n",
       "    <tr>\n",
       "      <th>205</th>\n",
       "      <td>0</td>\n",
       "      <td>0</td>\n",
       "      <td>0</td>\n",
       "      <td>0</td>\n",
       "      <td>0</td>\n",
       "      <td>0</td>\n",
       "      <td>0</td>\n",
       "      <td>0</td>\n",
       "      <td>0</td>\n",
       "      <td>0</td>\n",
       "    </tr>\n",
       "    <tr>\n",
       "      <th>206</th>\n",
       "      <td>0</td>\n",
       "      <td>0</td>\n",
       "      <td>0</td>\n",
       "      <td>0</td>\n",
       "      <td>0</td>\n",
       "      <td>0</td>\n",
       "      <td>0</td>\n",
       "      <td>0</td>\n",
       "      <td>1</td>\n",
       "      <td>0</td>\n",
       "    </tr>\n",
       "  </tbody>\n",
       "</table>\n",
       "<p>207 rows × 10 columns</p>\n",
       "</div>"
      ],
      "text/plain": [
       "     雷電  曇  薄曇  晴れ  雪  雨  木  水  火  金\n",
       "0     0  0   0   0  0  0  0  0  0  0\n",
       "1     0  0   0   0  0  0  0  0  1  0\n",
       "2     0  0   0   0  0  0  0  1  0  0\n",
       "3     0  0   0   0  0  0  1  0  0  0\n",
       "4     0  0   0   0  0  0  0  0  0  1\n",
       "..   .. ..  ..  .. .. .. .. .. .. ..\n",
       "202   0  1   0   0  0  0  0  1  0  0\n",
       "203   0  1   0   0  0  0  1  0  0  0\n",
       "204   0  0   0   1  0  0  0  0  0  1\n",
       "205   0  0   0   0  0  0  0  0  0  0\n",
       "206   0  0   0   0  0  0  0  0  1  0\n",
       "\n",
       "[207 rows x 10 columns]"
      ]
     },
     "execution_count": 238,
     "metadata": {},
     "output_type": "execute_result"
    }
   ],
   "source": [
    "train_dummies"
   ]
  },
  {
   "cell_type": "code",
   "execution_count": 239,
   "metadata": {},
   "outputs": [],
   "source": [
    "train_dummies2 = pd.get_dummies(train[['remarks', 'event']], drop_first=True, dummy_na=True)"
   ]
  },
  {
   "cell_type": "code",
   "execution_count": 240,
   "metadata": {},
   "outputs": [
    {
     "data": {
      "text/html": [
       "<div>\n",
       "<style scoped>\n",
       "    .dataframe tbody tr th:only-of-type {\n",
       "        vertical-align: middle;\n",
       "    }\n",
       "\n",
       "    .dataframe tbody tr th {\n",
       "        vertical-align: top;\n",
       "    }\n",
       "\n",
       "    .dataframe thead th {\n",
       "        text-align: right;\n",
       "    }\n",
       "</style>\n",
       "<table border=\"1\" class=\"dataframe\">\n",
       "  <thead>\n",
       "    <tr style=\"text-align: right;\">\n",
       "      <th></th>\n",
       "      <th>remarks_近隣に飲食店複合ビルオープン</th>\n",
       "      <th>remarks_お楽しみメニュー</th>\n",
       "      <th>remarks_料理長のこだわりメニュー</th>\n",
       "      <th>remarks_スペシャルメニュー（800円）</th>\n",
       "      <th>remarks_none</th>\n",
       "      <th>remarks_手作りの味</th>\n",
       "      <th>remarks_酢豚（28食）、カレー（85食）</th>\n",
       "      <th>remarks_nan</th>\n",
       "      <th>event_ママの会</th>\n",
       "      <th>event_nan</th>\n",
       "    </tr>\n",
       "  </thead>\n",
       "  <tbody>\n",
       "    <tr>\n",
       "      <th>0</th>\n",
       "      <td>0</td>\n",
       "      <td>0</td>\n",
       "      <td>0</td>\n",
       "      <td>0</td>\n",
       "      <td>1</td>\n",
       "      <td>0</td>\n",
       "      <td>0</td>\n",
       "      <td>0</td>\n",
       "      <td>0</td>\n",
       "      <td>1</td>\n",
       "    </tr>\n",
       "    <tr>\n",
       "      <th>1</th>\n",
       "      <td>0</td>\n",
       "      <td>0</td>\n",
       "      <td>0</td>\n",
       "      <td>0</td>\n",
       "      <td>1</td>\n",
       "      <td>0</td>\n",
       "      <td>0</td>\n",
       "      <td>0</td>\n",
       "      <td>0</td>\n",
       "      <td>1</td>\n",
       "    </tr>\n",
       "    <tr>\n",
       "      <th>2</th>\n",
       "      <td>0</td>\n",
       "      <td>0</td>\n",
       "      <td>0</td>\n",
       "      <td>0</td>\n",
       "      <td>1</td>\n",
       "      <td>0</td>\n",
       "      <td>0</td>\n",
       "      <td>0</td>\n",
       "      <td>0</td>\n",
       "      <td>1</td>\n",
       "    </tr>\n",
       "    <tr>\n",
       "      <th>3</th>\n",
       "      <td>0</td>\n",
       "      <td>0</td>\n",
       "      <td>0</td>\n",
       "      <td>0</td>\n",
       "      <td>1</td>\n",
       "      <td>0</td>\n",
       "      <td>0</td>\n",
       "      <td>0</td>\n",
       "      <td>0</td>\n",
       "      <td>1</td>\n",
       "    </tr>\n",
       "    <tr>\n",
       "      <th>4</th>\n",
       "      <td>0</td>\n",
       "      <td>0</td>\n",
       "      <td>0</td>\n",
       "      <td>0</td>\n",
       "      <td>1</td>\n",
       "      <td>0</td>\n",
       "      <td>0</td>\n",
       "      <td>0</td>\n",
       "      <td>0</td>\n",
       "      <td>1</td>\n",
       "    </tr>\n",
       "    <tr>\n",
       "      <th>...</th>\n",
       "      <td>...</td>\n",
       "      <td>...</td>\n",
       "      <td>...</td>\n",
       "      <td>...</td>\n",
       "      <td>...</td>\n",
       "      <td>...</td>\n",
       "      <td>...</td>\n",
       "      <td>...</td>\n",
       "      <td>...</td>\n",
       "      <td>...</td>\n",
       "    </tr>\n",
       "    <tr>\n",
       "      <th>202</th>\n",
       "      <td>0</td>\n",
       "      <td>0</td>\n",
       "      <td>0</td>\n",
       "      <td>0</td>\n",
       "      <td>1</td>\n",
       "      <td>0</td>\n",
       "      <td>0</td>\n",
       "      <td>0</td>\n",
       "      <td>0</td>\n",
       "      <td>1</td>\n",
       "    </tr>\n",
       "    <tr>\n",
       "      <th>203</th>\n",
       "      <td>0</td>\n",
       "      <td>0</td>\n",
       "      <td>0</td>\n",
       "      <td>0</td>\n",
       "      <td>1</td>\n",
       "      <td>0</td>\n",
       "      <td>0</td>\n",
       "      <td>0</td>\n",
       "      <td>0</td>\n",
       "      <td>1</td>\n",
       "    </tr>\n",
       "    <tr>\n",
       "      <th>204</th>\n",
       "      <td>0</td>\n",
       "      <td>0</td>\n",
       "      <td>0</td>\n",
       "      <td>1</td>\n",
       "      <td>0</td>\n",
       "      <td>0</td>\n",
       "      <td>0</td>\n",
       "      <td>0</td>\n",
       "      <td>0</td>\n",
       "      <td>0</td>\n",
       "    </tr>\n",
       "    <tr>\n",
       "      <th>205</th>\n",
       "      <td>0</td>\n",
       "      <td>0</td>\n",
       "      <td>0</td>\n",
       "      <td>0</td>\n",
       "      <td>1</td>\n",
       "      <td>0</td>\n",
       "      <td>0</td>\n",
       "      <td>0</td>\n",
       "      <td>0</td>\n",
       "      <td>1</td>\n",
       "    </tr>\n",
       "    <tr>\n",
       "      <th>206</th>\n",
       "      <td>0</td>\n",
       "      <td>0</td>\n",
       "      <td>0</td>\n",
       "      <td>0</td>\n",
       "      <td>1</td>\n",
       "      <td>0</td>\n",
       "      <td>0</td>\n",
       "      <td>0</td>\n",
       "      <td>0</td>\n",
       "      <td>1</td>\n",
       "    </tr>\n",
       "  </tbody>\n",
       "</table>\n",
       "<p>207 rows × 10 columns</p>\n",
       "</div>"
      ],
      "text/plain": [
       "     remarks_近隣に飲食店複合ビルオープン  remarks_お楽しみメニュー  remarks_料理長のこだわりメニュー  \\\n",
       "0                         0                 0                     0   \n",
       "1                         0                 0                     0   \n",
       "2                         0                 0                     0   \n",
       "3                         0                 0                     0   \n",
       "4                         0                 0                     0   \n",
       "..                      ...               ...                   ...   \n",
       "202                       0                 0                     0   \n",
       "203                       0                 0                     0   \n",
       "204                       0                 0                     0   \n",
       "205                       0                 0                     0   \n",
       "206                       0                 0                     0   \n",
       "\n",
       "     remarks_スペシャルメニュー（800円）  remarks_none  remarks_手作りの味  \\\n",
       "0                          0             1              0   \n",
       "1                          0             1              0   \n",
       "2                          0             1              0   \n",
       "3                          0             1              0   \n",
       "4                          0             1              0   \n",
       "..                       ...           ...            ...   \n",
       "202                        0             1              0   \n",
       "203                        0             1              0   \n",
       "204                        1             0              0   \n",
       "205                        0             1              0   \n",
       "206                        0             1              0   \n",
       "\n",
       "     remarks_酢豚（28食）、カレー（85食）  remarks_nan  event_ママの会  event_nan  \n",
       "0                           0            0           0          1  \n",
       "1                           0            0           0          1  \n",
       "2                           0            0           0          1  \n",
       "3                           0            0           0          1  \n",
       "4                           0            0           0          1  \n",
       "..                        ...          ...         ...        ...  \n",
       "202                         0            0           0          1  \n",
       "203                         0            0           0          1  \n",
       "204                         0            0           0          0  \n",
       "205                         0            0           0          1  \n",
       "206                         0            0           0          1  \n",
       "\n",
       "[207 rows x 10 columns]"
      ]
     },
     "execution_count": 240,
     "metadata": {},
     "output_type": "execute_result"
    }
   ],
   "source": [
    "train_dummies2"
   ]
  },
  {
   "cell_type": "code",
   "execution_count": 241,
   "metadata": {},
   "outputs": [],
   "source": [
    "payday_fillna = train['payday'].fillna(0)"
   ]
  },
  {
   "cell_type": "code",
   "execution_count": 242,
   "metadata": {},
   "outputs": [],
   "source": [
    "precipitation_replaced = train['precipitation'].apply(lambda x : 0 if x == '--' else x)"
   ]
  },
  {
   "cell_type": "code",
   "execution_count": 243,
   "metadata": {},
   "outputs": [],
   "source": []
  },
  {
   "cell_type": "code",
   "execution_count": 244,
   "metadata": {},
   "outputs": [],
   "source": [
    "X = pd.concat([train_dummies, train_dummies2, payday_fillna, precipitation_replaced, train['year'], train['month'], train['day'], train['soldout']], axis=1)"
   ]
  },
  {
   "cell_type": "code",
   "execution_count": 245,
   "metadata": {},
   "outputs": [
    {
     "data": {
      "text/html": [
       "<div>\n",
       "<style scoped>\n",
       "    .dataframe tbody tr th:only-of-type {\n",
       "        vertical-align: middle;\n",
       "    }\n",
       "\n",
       "    .dataframe tbody tr th {\n",
       "        vertical-align: top;\n",
       "    }\n",
       "\n",
       "    .dataframe thead th {\n",
       "        text-align: right;\n",
       "    }\n",
       "</style>\n",
       "<table border=\"1\" class=\"dataframe\">\n",
       "  <thead>\n",
       "    <tr style=\"text-align: right;\">\n",
       "      <th></th>\n",
       "      <th>雷電</th>\n",
       "      <th>曇</th>\n",
       "      <th>薄曇</th>\n",
       "      <th>晴れ</th>\n",
       "      <th>雪</th>\n",
       "      <th>雨</th>\n",
       "      <th>木</th>\n",
       "      <th>水</th>\n",
       "      <th>火</th>\n",
       "      <th>金</th>\n",
       "      <th>...</th>\n",
       "      <th>remarks_酢豚（28食）、カレー（85食）</th>\n",
       "      <th>remarks_nan</th>\n",
       "      <th>event_ママの会</th>\n",
       "      <th>event_nan</th>\n",
       "      <th>payday</th>\n",
       "      <th>precipitation</th>\n",
       "      <th>year</th>\n",
       "      <th>month</th>\n",
       "      <th>day</th>\n",
       "      <th>soldout</th>\n",
       "    </tr>\n",
       "  </thead>\n",
       "  <tbody>\n",
       "    <tr>\n",
       "      <th>0</th>\n",
       "      <td>0</td>\n",
       "      <td>0</td>\n",
       "      <td>0</td>\n",
       "      <td>0</td>\n",
       "      <td>0</td>\n",
       "      <td>0</td>\n",
       "      <td>0</td>\n",
       "      <td>0</td>\n",
       "      <td>0</td>\n",
       "      <td>0</td>\n",
       "      <td>...</td>\n",
       "      <td>0</td>\n",
       "      <td>0</td>\n",
       "      <td>0</td>\n",
       "      <td>1</td>\n",
       "      <td>0.0</td>\n",
       "      <td>0</td>\n",
       "      <td>2013</td>\n",
       "      <td>11</td>\n",
       "      <td>18</td>\n",
       "      <td>0</td>\n",
       "    </tr>\n",
       "    <tr>\n",
       "      <th>1</th>\n",
       "      <td>0</td>\n",
       "      <td>0</td>\n",
       "      <td>0</td>\n",
       "      <td>0</td>\n",
       "      <td>0</td>\n",
       "      <td>0</td>\n",
       "      <td>0</td>\n",
       "      <td>0</td>\n",
       "      <td>1</td>\n",
       "      <td>0</td>\n",
       "      <td>...</td>\n",
       "      <td>0</td>\n",
       "      <td>0</td>\n",
       "      <td>0</td>\n",
       "      <td>1</td>\n",
       "      <td>0.0</td>\n",
       "      <td>0</td>\n",
       "      <td>2013</td>\n",
       "      <td>11</td>\n",
       "      <td>19</td>\n",
       "      <td>1</td>\n",
       "    </tr>\n",
       "    <tr>\n",
       "      <th>2</th>\n",
       "      <td>0</td>\n",
       "      <td>0</td>\n",
       "      <td>0</td>\n",
       "      <td>0</td>\n",
       "      <td>0</td>\n",
       "      <td>0</td>\n",
       "      <td>0</td>\n",
       "      <td>1</td>\n",
       "      <td>0</td>\n",
       "      <td>0</td>\n",
       "      <td>...</td>\n",
       "      <td>0</td>\n",
       "      <td>0</td>\n",
       "      <td>0</td>\n",
       "      <td>1</td>\n",
       "      <td>0.0</td>\n",
       "      <td>0</td>\n",
       "      <td>2013</td>\n",
       "      <td>11</td>\n",
       "      <td>20</td>\n",
       "      <td>0</td>\n",
       "    </tr>\n",
       "    <tr>\n",
       "      <th>3</th>\n",
       "      <td>0</td>\n",
       "      <td>0</td>\n",
       "      <td>0</td>\n",
       "      <td>0</td>\n",
       "      <td>0</td>\n",
       "      <td>0</td>\n",
       "      <td>1</td>\n",
       "      <td>0</td>\n",
       "      <td>0</td>\n",
       "      <td>0</td>\n",
       "      <td>...</td>\n",
       "      <td>0</td>\n",
       "      <td>0</td>\n",
       "      <td>0</td>\n",
       "      <td>1</td>\n",
       "      <td>0.0</td>\n",
       "      <td>0</td>\n",
       "      <td>2013</td>\n",
       "      <td>11</td>\n",
       "      <td>21</td>\n",
       "      <td>1</td>\n",
       "    </tr>\n",
       "    <tr>\n",
       "      <th>4</th>\n",
       "      <td>0</td>\n",
       "      <td>0</td>\n",
       "      <td>0</td>\n",
       "      <td>0</td>\n",
       "      <td>0</td>\n",
       "      <td>0</td>\n",
       "      <td>0</td>\n",
       "      <td>0</td>\n",
       "      <td>0</td>\n",
       "      <td>1</td>\n",
       "      <td>...</td>\n",
       "      <td>0</td>\n",
       "      <td>0</td>\n",
       "      <td>0</td>\n",
       "      <td>1</td>\n",
       "      <td>0.0</td>\n",
       "      <td>0</td>\n",
       "      <td>2013</td>\n",
       "      <td>11</td>\n",
       "      <td>22</td>\n",
       "      <td>1</td>\n",
       "    </tr>\n",
       "  </tbody>\n",
       "</table>\n",
       "<p>5 rows × 26 columns</p>\n",
       "</div>"
      ],
      "text/plain": [
       "   雷電  曇  薄曇  晴れ  雪  雨  木  水  火  金  ...  remarks_酢豚（28食）、カレー（85食）  \\\n",
       "0   0  0   0   0  0  0  0  0  0  0  ...                         0   \n",
       "1   0  0   0   0  0  0  0  0  1  0  ...                         0   \n",
       "2   0  0   0   0  0  0  0  1  0  0  ...                         0   \n",
       "3   0  0   0   0  0  0  1  0  0  0  ...                         0   \n",
       "4   0  0   0   0  0  0  0  0  0  1  ...                         0   \n",
       "\n",
       "   remarks_nan  event_ママの会  event_nan  payday  precipitation  year  month  \\\n",
       "0            0           0          1     0.0              0  2013     11   \n",
       "1            0           0          1     0.0              0  2013     11   \n",
       "2            0           0          1     0.0              0  2013     11   \n",
       "3            0           0          1     0.0              0  2013     11   \n",
       "4            0           0          1     0.0              0  2013     11   \n",
       "\n",
       "   day  soldout  \n",
       "0   18        0  \n",
       "1   19        1  \n",
       "2   20        0  \n",
       "3   21        1  \n",
       "4   22        1  \n",
       "\n",
       "[5 rows x 26 columns]"
      ]
     },
     "execution_count": 245,
     "metadata": {},
     "output_type": "execute_result"
    }
   ],
   "source": [
    "X.head()"
   ]
  },
  {
   "cell_type": "code",
   "execution_count": 246,
   "metadata": {},
   "outputs": [
    {
     "name": "stdout",
     "output_type": "stream",
     "text": [
      "<class 'pandas.core.frame.DataFrame'>\n",
      "RangeIndex: 207 entries, 0 to 206\n",
      "Data columns (total 26 columns):\n",
      " #   Column                    Non-Null Count  Dtype  \n",
      "---  ------                    --------------  -----  \n",
      " 0   雷電                        207 non-null    uint8  \n",
      " 1   曇                         207 non-null    uint8  \n",
      " 2   薄曇                        207 non-null    uint8  \n",
      " 3   晴れ                        207 non-null    uint8  \n",
      " 4   雪                         207 non-null    uint8  \n",
      " 5   雨                         207 non-null    uint8  \n",
      " 6   木                         207 non-null    uint8  \n",
      " 7   水                         207 non-null    uint8  \n",
      " 8   火                         207 non-null    uint8  \n",
      " 9   金                         207 non-null    uint8  \n",
      " 10  remarks_近隣に飲食店複合ビルオープン    207 non-null    uint8  \n",
      " 11  remarks_お楽しみメニュー          207 non-null    uint8  \n",
      " 12  remarks_料理長のこだわりメニュー      207 non-null    uint8  \n",
      " 13  remarks_スペシャルメニュー（800円）   207 non-null    uint8  \n",
      " 14  remarks_none              207 non-null    uint8  \n",
      " 15  remarks_手作りの味             207 non-null    uint8  \n",
      " 16  remarks_酢豚（28食）、カレー（85食）  207 non-null    uint8  \n",
      " 17  remarks_nan               207 non-null    uint8  \n",
      " 18  event_ママの会                207 non-null    uint8  \n",
      " 19  event_nan                 207 non-null    uint8  \n",
      " 20  payday                    207 non-null    float64\n",
      " 21  precipitation             207 non-null    object \n",
      " 22  year                      207 non-null    object \n",
      " 23  month                     207 non-null    object \n",
      " 24  day                       207 non-null    object \n",
      " 25  soldout                   207 non-null    int64  \n",
      "dtypes: float64(1), int64(1), object(4), uint8(20)\n",
      "memory usage: 13.9+ KB\n"
     ]
    }
   ],
   "source": [
    "X.info()"
   ]
  },
  {
   "cell_type": "code",
   "execution_count": 247,
   "metadata": {},
   "outputs": [],
   "source": [
    "trainX, testX, trainY, testY = train_test_split(X, train['y'], test_size=0.3, random_state=3)"
   ]
  },
  {
   "cell_type": "code",
   "execution_count": 248,
   "metadata": {},
   "outputs": [],
   "source": [
    "linear_model = LinearRegression()"
   ]
  },
  {
   "cell_type": "code",
   "execution_count": 249,
   "metadata": {},
   "outputs": [
    {
     "data": {
      "text/plain": [
       "LinearRegression(copy_X=True, fit_intercept=True, n_jobs=None, normalize=False)"
      ]
     },
     "execution_count": 249,
     "metadata": {},
     "output_type": "execute_result"
    }
   ],
   "source": [
    "linear_model.fit(trainX, trainY)"
   ]
  },
  {
   "cell_type": "code",
   "execution_count": 250,
   "metadata": {},
   "outputs": [],
   "source": [
    "predict = linear_model.predict(testX)"
   ]
  },
  {
   "cell_type": "code",
   "execution_count": 251,
   "metadata": {},
   "outputs": [
    {
     "data": {
      "text/plain": [
       "array([ 43.85341064,  71.0308832 ,  66.47971415,  46.07121771,\n",
       "        56.00970402, 108.72447834,  61.16354915, 101.74753906,\n",
       "       125.97388156,  97.78836626,  98.07305926,  32.93662967,\n",
       "        80.58486068,  72.33328195, 111.54241629,  44.37657468,\n",
       "       100.94942563, 110.61106063,  50.34319613,  73.20100988,\n",
       "        49.73514452, 119.7760195 , 100.25609772, 127.81969904,\n",
       "        98.50203991, 113.57223229, 119.40991974, 118.69289972,\n",
       "       138.16390968,  80.57522591, 117.38188173, 133.49646641,\n",
       "       109.19615405,  85.12682478,  92.83231008,  28.9647648 ,\n",
       "       115.59648368,  95.47413123, 122.48499014,  47.1652559 ,\n",
       "        74.46958882, 109.27012392,  59.72202388, 114.64002744,\n",
       "        30.47392927,  48.9803521 , 146.17500084,  79.11493676,\n",
       "        77.63308078,  38.89299163,  58.71298996, 113.78798967,\n",
       "        96.51978732, 101.0681915 ,  77.08666709,  67.98673348,\n",
       "       127.63874182,  52.55074371,  89.46025383, 134.67795388,\n",
       "       110.79875548,  98.6463507 ,  78.95573422])"
      ]
     },
     "execution_count": 251,
     "metadata": {},
     "output_type": "execute_result"
    }
   ],
   "source": [
    "predict"
   ]
  },
  {
   "cell_type": "code",
   "execution_count": 252,
   "metadata": {},
   "outputs": [
    {
     "data": {
      "text/plain": [
       "0.7140044405140058"
      ]
     },
     "execution_count": 252,
     "metadata": {},
     "output_type": "execute_result"
    }
   ],
   "source": [
    "linear_model.score(testX, testY)"
   ]
  },
  {
   "cell_type": "code",
   "execution_count": 253,
   "metadata": {},
   "outputs": [
    {
     "data": {
      "text/plain": [
       "0.7809525012462304"
      ]
     },
     "execution_count": 253,
     "metadata": {},
     "output_type": "execute_result"
    }
   ],
   "source": [
    "linear_model.score(trainX, trainY)"
   ]
  },
  {
   "cell_type": "code",
   "execution_count": 254,
   "metadata": {},
   "outputs": [],
   "source": [
    "# 提出用データを作成する"
   ]
  },
  {
   "cell_type": "code",
   "execution_count": 255,
   "metadata": {},
   "outputs": [
    {
     "data": {
      "text/html": [
       "<div>\n",
       "<style scoped>\n",
       "    .dataframe tbody tr th:only-of-type {\n",
       "        vertical-align: middle;\n",
       "    }\n",
       "\n",
       "    .dataframe tbody tr th {\n",
       "        vertical-align: top;\n",
       "    }\n",
       "\n",
       "    .dataframe thead th {\n",
       "        text-align: right;\n",
       "    }\n",
       "</style>\n",
       "<table border=\"1\" class=\"dataframe\">\n",
       "  <thead>\n",
       "    <tr style=\"text-align: right;\">\n",
       "      <th></th>\n",
       "      <th>datetime</th>\n",
       "      <th>week</th>\n",
       "      <th>soldout</th>\n",
       "      <th>name</th>\n",
       "      <th>kcal</th>\n",
       "      <th>remarks</th>\n",
       "      <th>event</th>\n",
       "      <th>payday</th>\n",
       "      <th>weather</th>\n",
       "      <th>precipitation</th>\n",
       "      <th>temperature</th>\n",
       "    </tr>\n",
       "  </thead>\n",
       "  <tbody>\n",
       "    <tr>\n",
       "      <th>0</th>\n",
       "      <td>2014-10-1</td>\n",
       "      <td>水</td>\n",
       "      <td>1</td>\n",
       "      <td>メンチカツ</td>\n",
       "      <td>420.0</td>\n",
       "      <td>none</td>\n",
       "      <td>NaN</td>\n",
       "      <td>NaN</td>\n",
       "      <td>雨</td>\n",
       "      <td>0</td>\n",
       "      <td>20.2</td>\n",
       "    </tr>\n",
       "    <tr>\n",
       "      <th>1</th>\n",
       "      <td>2014-10-2</td>\n",
       "      <td>木</td>\n",
       "      <td>0</td>\n",
       "      <td>バーベキューチキン</td>\n",
       "      <td>415.0</td>\n",
       "      <td>none</td>\n",
       "      <td>NaN</td>\n",
       "      <td>NaN</td>\n",
       "      <td>曇</td>\n",
       "      <td>--</td>\n",
       "      <td>23.9</td>\n",
       "    </tr>\n",
       "    <tr>\n",
       "      <th>2</th>\n",
       "      <td>2014-10-3</td>\n",
       "      <td>金</td>\n",
       "      <td>0</td>\n",
       "      <td>豚肉のマスタード焼き</td>\n",
       "      <td>405.0</td>\n",
       "      <td>none</td>\n",
       "      <td>NaN</td>\n",
       "      <td>NaN</td>\n",
       "      <td>晴れ</td>\n",
       "      <td>--</td>\n",
       "      <td>28.7</td>\n",
       "    </tr>\n",
       "    <tr>\n",
       "      <th>3</th>\n",
       "      <td>2014-10-6</td>\n",
       "      <td>月</td>\n",
       "      <td>1</td>\n",
       "      <td>麻婆春雨</td>\n",
       "      <td>400.0</td>\n",
       "      <td>none</td>\n",
       "      <td>NaN</td>\n",
       "      <td>NaN</td>\n",
       "      <td>雨</td>\n",
       "      <td>0.5</td>\n",
       "      <td>21.5</td>\n",
       "    </tr>\n",
       "    <tr>\n",
       "      <th>4</th>\n",
       "      <td>2014-10-7</td>\n",
       "      <td>火</td>\n",
       "      <td>0</td>\n",
       "      <td>厚揚げ肉みそ炒め</td>\n",
       "      <td>430.0</td>\n",
       "      <td>none</td>\n",
       "      <td>NaN</td>\n",
       "      <td>NaN</td>\n",
       "      <td>晴れ</td>\n",
       "      <td>--</td>\n",
       "      <td>22.1</td>\n",
       "    </tr>\n",
       "  </tbody>\n",
       "</table>\n",
       "</div>"
      ],
      "text/plain": [
       "    datetime week  soldout        name   kcal remarks event  payday weather  \\\n",
       "0  2014-10-1    水        1       メンチカツ  420.0    none   NaN     NaN       雨   \n",
       "1  2014-10-2    木        0   バーベキューチキン  415.0    none   NaN     NaN       曇   \n",
       "2  2014-10-3    金        0  豚肉のマスタード焼き  405.0    none   NaN     NaN      晴れ   \n",
       "3  2014-10-6    月        1        麻婆春雨  400.0    none   NaN     NaN       雨   \n",
       "4  2014-10-7    火        0    厚揚げ肉みそ炒め  430.0    none   NaN     NaN      晴れ   \n",
       "\n",
       "  precipitation  temperature  \n",
       "0             0         20.2  \n",
       "1            --         23.9  \n",
       "2            --         28.7  \n",
       "3           0.5         21.5  \n",
       "4            --         22.1  "
      ]
     },
     "execution_count": 255,
     "metadata": {},
     "output_type": "execute_result"
    }
   ],
   "source": [
    "test.head()"
   ]
  },
  {
   "cell_type": "code",
   "execution_count": 256,
   "metadata": {},
   "outputs": [
    {
     "data": {
      "text/html": [
       "<div>\n",
       "<style scoped>\n",
       "    .dataframe tbody tr th:only-of-type {\n",
       "        vertical-align: middle;\n",
       "    }\n",
       "\n",
       "    .dataframe tbody tr th {\n",
       "        vertical-align: top;\n",
       "    }\n",
       "\n",
       "    .dataframe thead th {\n",
       "        text-align: right;\n",
       "    }\n",
       "</style>\n",
       "<table border=\"1\" class=\"dataframe\">\n",
       "  <thead>\n",
       "    <tr style=\"text-align: right;\">\n",
       "      <th></th>\n",
       "      <th>0</th>\n",
       "      <th>1</th>\n",
       "    </tr>\n",
       "  </thead>\n",
       "  <tbody>\n",
       "    <tr>\n",
       "      <th>0</th>\n",
       "      <td>2014-10-1</td>\n",
       "      <td>24</td>\n",
       "    </tr>\n",
       "    <tr>\n",
       "      <th>1</th>\n",
       "      <td>2014-10-2</td>\n",
       "      <td>71</td>\n",
       "    </tr>\n",
       "    <tr>\n",
       "      <th>2</th>\n",
       "      <td>2014-10-3</td>\n",
       "      <td>25</td>\n",
       "    </tr>\n",
       "    <tr>\n",
       "      <th>3</th>\n",
       "      <td>2014-10-6</td>\n",
       "      <td>32</td>\n",
       "    </tr>\n",
       "    <tr>\n",
       "      <th>4</th>\n",
       "      <td>2014-10-7</td>\n",
       "      <td>60</td>\n",
       "    </tr>\n",
       "  </tbody>\n",
       "</table>\n",
       "</div>"
      ],
      "text/plain": [
       "           0   1\n",
       "0  2014-10-1  24\n",
       "1  2014-10-2  71\n",
       "2  2014-10-3  25\n",
       "3  2014-10-6  32\n",
       "4  2014-10-7  60"
      ]
     },
     "execution_count": 256,
     "metadata": {},
     "output_type": "execute_result"
    }
   ],
   "source": [
    "sample.head()"
   ]
  },
  {
   "cell_type": "code",
   "execution_count": 257,
   "metadata": {},
   "outputs": [
    {
     "name": "stdout",
     "output_type": "stream",
     "text": [
      "<class 'pandas.core.frame.DataFrame'>\n",
      "RangeIndex: 40 entries, 0 to 39\n",
      "Data columns (total 26 columns):\n",
      " #   Column                    Non-Null Count  Dtype  \n",
      "---  ------                    --------------  -----  \n",
      " 0   雷電                        40 non-null     uint8  \n",
      " 1   曇                         40 non-null     uint8  \n",
      " 2   薄曇                        40 non-null     uint8  \n",
      " 3   晴れ                        40 non-null     uint8  \n",
      " 4   雪                         40 non-null     uint8  \n",
      " 5   雨                         40 non-null     uint8  \n",
      " 6   木                         40 non-null     uint8  \n",
      " 7   水                         40 non-null     uint8  \n",
      " 8   火                         40 non-null     uint8  \n",
      " 9   金                         40 non-null     uint8  \n",
      " 10  remarks_近隣に飲食店複合ビルオープン    40 non-null     uint8  \n",
      " 11  remarks_お楽しみメニュー          40 non-null     uint8  \n",
      " 12  remarks_料理長のこだわりメニュー      40 non-null     uint8  \n",
      " 13  remarks_スペシャルメニュー（800円）   40 non-null     uint8  \n",
      " 14  remarks_none              40 non-null     uint8  \n",
      " 15  remarks_手作りの味             40 non-null     uint8  \n",
      " 16  remarks_酢豚（28食）、カレー（85食）  40 non-null     uint8  \n",
      " 17  remarks_nan               40 non-null     uint8  \n",
      " 18  event_ママの会                40 non-null     uint8  \n",
      " 19  event_nan                 40 non-null     uint8  \n",
      " 20  payday                    40 non-null     float64\n",
      " 21  precipitation             40 non-null     object \n",
      " 22  year                      40 non-null     object \n",
      " 23  month                     40 non-null     object \n",
      " 24  day                       40 non-null     object \n",
      " 25  soldout                   40 non-null     int64  \n",
      "dtypes: float64(1), int64(1), object(4), uint8(20)\n",
      "memory usage: 2.8+ KB\n"
     ]
    }
   ],
   "source": [
    "testX = DataFrame()\n",
    "\n",
    "\n",
    "#test_dummies = pd.get_dummies(test[['weather', 'week']], drop_first=True, prefix='', prefix_sep='')\n",
    "#test_dummies2 = pd.get_dummies(test[['remarks', 'event']], drop_first=True, dummy_na=True)\n",
    "payday_fillna = test['payday'].fillna(0)\n",
    "precipitation_replaced = test['precipitation'].apply(lambda x : 0 if x == '--' else x)\n",
    "test['year'] = test['datetime'].apply(lambda x : x.split('-')[0])\n",
    "test['month'] = test['datetime'].apply(lambda x : x.split('-')[1])\n",
    "test['day'] = test['datetime'].apply(lambda x : x.split('-')[2])\n",
    "testX = pd.concat([test_dummies, test_dummies2, payday_fillna, precipitation_replaced, test['year'], test['month'], test['day'], test['soldout']], axis=1)\n",
    "\n",
    "testX.info()"
   ]
  },
  {
   "cell_type": "code",
   "execution_count": 261,
   "metadata": {},
   "outputs": [],
   "source": [
    "predict = linear_model.predict(testX)"
   ]
  },
  {
   "cell_type": "code",
   "execution_count": 262,
   "metadata": {},
   "outputs": [],
   "source": [
    "sample[1] = predict"
   ]
  },
  {
   "cell_type": "code",
   "execution_count": 263,
   "metadata": {},
   "outputs": [],
   "source": [
    "sample.to_csv('submit6.csv', index=None, header=None)"
   ]
  },
  {
   "cell_type": "code",
   "execution_count": null,
   "metadata": {},
   "outputs": [],
   "source": []
  }
 ],
 "metadata": {
  "kernelspec": {
   "display_name": "Python 3",
   "language": "python",
   "name": "python3"
  },
  "language_info": {
   "codemirror_mode": {
    "name": "ipython",
    "version": 3
   },
   "file_extension": ".py",
   "mimetype": "text/x-python",
   "name": "python",
   "nbconvert_exporter": "python",
   "pygments_lexer": "ipython3",
   "version": "3.7.4"
  }
 },
 "nbformat": 4,
 "nbformat_minor": 2
}
