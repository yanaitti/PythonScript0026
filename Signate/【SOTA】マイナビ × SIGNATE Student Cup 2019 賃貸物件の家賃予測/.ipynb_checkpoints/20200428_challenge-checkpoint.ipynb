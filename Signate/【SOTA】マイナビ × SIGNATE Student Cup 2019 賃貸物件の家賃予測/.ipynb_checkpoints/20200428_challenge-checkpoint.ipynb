{
 "cells": [
  {
   "cell_type": "markdown",
   "metadata": {},
   "source": [
    "# 初期設定"
   ]
  },
  {
   "cell_type": "code",
   "execution_count": 24,
   "metadata": {},
   "outputs": [],
   "source": [
    "import pandas as pd\n",
    "from pandas import DataFrame\n",
    "import numpy as np\n",
    "from matplotlib import pyplot as plt\n",
    "import seaborn as sns\n",
    "%matplotlib inline\n",
    "sns.set()\n",
    "\n",
    "from sklearn.model_selection import train_test_split\n",
    "from sklearn.linear_model import LinearRegression"
   ]
  },
  {
   "cell_type": "code",
   "execution_count": 2,
   "metadata": {},
   "outputs": [
    {
     "name": "stdout",
     "output_type": "stream",
     "text": [
      " Volume in drive C has no label.\n",
      " Volume Serial Number is 34C5-50B0\n",
      "\n",
      " Directory of C:\\Users\\unknow\\OneDrive\\ドキュメント\\001.Private\\Python Training\\Signate\\【SOTA】マイナビ × SIGNATE Student Cup 2019 賃貸物件の家賃予測\n",
      "\n",
      "2020/04/28  20:02    <DIR>          .\n",
      "2020/04/28  20:02    <DIR>          ..\n",
      "2020/04/28  20:00    <DIR>          .ipynb_checkpoints\n",
      "2020/04/28  20:02               832 20200428_challenge.ipynb\n",
      "2020/04/28  19:56           403,585 sample_submit.csv\n",
      "2020/04/28  19:57        24,399,728 test.csv\n",
      "2020/04/28  19:56        24,772,732 train.csv\n",
      "               4 File(s)     49,576,877 bytes\n",
      "               3 Dir(s)  130,163,105,792 bytes free\n"
     ]
    }
   ],
   "source": [
    "!dir"
   ]
  },
  {
   "cell_type": "markdown",
   "metadata": {},
   "source": [
    "## データ読み込み"
   ]
  },
  {
   "cell_type": "code",
   "execution_count": 3,
   "metadata": {},
   "outputs": [],
   "source": [
    "train = pd.read_csv('train.csv')\n",
    "test = pd.read_csv('test.csv')\n",
    "sample = pd.read_csv('sample_submit.csv')"
   ]
  },
  {
   "cell_type": "code",
   "execution_count": 6,
   "metadata": {},
   "outputs": [
    {
     "name": "stdout",
     "output_type": "stream",
     "text": [
      "<class 'pandas.core.frame.DataFrame'>\n",
      "RangeIndex: 31470 entries, 0 to 31469\n",
      "Data columns (total 17 columns):\n",
      " #   Column  Non-Null Count  Dtype \n",
      "---  ------  --------------  ----- \n",
      " 0   id      31470 non-null  int64 \n",
      " 1   賃料      31470 non-null  int64 \n",
      " 2   所在地     31470 non-null  object\n",
      " 3   アクセス    31470 non-null  object\n",
      " 4   間取り     31470 non-null  object\n",
      " 5   築年数     31470 non-null  object\n",
      " 6   方角      28721 non-null  object\n",
      " 7   面積      31470 non-null  object\n",
      " 8   所在階     31470 non-null  object\n",
      " 9   バス・トイレ  31141 non-null  object\n",
      " 10  キッチン    30849 non-null  object\n",
      " 11  放送・通信   28030 non-null  object\n",
      " 12  室内設備    31388 non-null  object\n",
      " 13  駐車場     26183 non-null  object\n",
      " 14  周辺環境    22038 non-null  object\n",
      " 15  建物構造    31470 non-null  object\n",
      " 16  契約期間    24350 non-null  object\n",
      "dtypes: int64(2), object(15)\n",
      "memory usage: 4.1+ MB\n"
     ]
    }
   ],
   "source": [
    "train.info()"
   ]
  },
  {
   "cell_type": "code",
   "execution_count": 4,
   "metadata": {},
   "outputs": [
    {
     "data": {
      "text/html": [
       "<div>\n",
       "<style scoped>\n",
       "    .dataframe tbody tr th:only-of-type {\n",
       "        vertical-align: middle;\n",
       "    }\n",
       "\n",
       "    .dataframe tbody tr th {\n",
       "        vertical-align: top;\n",
       "    }\n",
       "\n",
       "    .dataframe thead th {\n",
       "        text-align: right;\n",
       "    }\n",
       "</style>\n",
       "<table border=\"1\" class=\"dataframe\">\n",
       "  <thead>\n",
       "    <tr style=\"text-align: right;\">\n",
       "      <th></th>\n",
       "      <th>id</th>\n",
       "      <th>賃料</th>\n",
       "      <th>所在地</th>\n",
       "      <th>アクセス</th>\n",
       "      <th>間取り</th>\n",
       "      <th>築年数</th>\n",
       "      <th>方角</th>\n",
       "      <th>面積</th>\n",
       "      <th>所在階</th>\n",
       "      <th>バス・トイレ</th>\n",
       "      <th>キッチン</th>\n",
       "      <th>放送・通信</th>\n",
       "      <th>室内設備</th>\n",
       "      <th>駐車場</th>\n",
       "      <th>周辺環境</th>\n",
       "      <th>建物構造</th>\n",
       "      <th>契約期間</th>\n",
       "    </tr>\n",
       "  </thead>\n",
       "  <tbody>\n",
       "    <tr>\n",
       "      <th>0</th>\n",
       "      <td>1</td>\n",
       "      <td>75000</td>\n",
       "      <td>東京都北区滝野川３丁目</td>\n",
       "      <td>都営三田線\\t西巣鴨駅\\t徒歩4分\\t\\t埼京線\\t板橋駅\\t徒歩14分\\t\\t都電荒川線\\...</td>\n",
       "      <td>1K</td>\n",
       "      <td>9年9ヶ月</td>\n",
       "      <td>南東</td>\n",
       "      <td>20.01m2</td>\n",
       "      <td>1階／12階建</td>\n",
       "      <td>専用バス／\\t専用トイレ／\\tバス・トイレ別／\\tシャワー／\\t浴室乾燥機\\t／\\t温水洗浄便座</td>\n",
       "      <td>ガスコンロ／\\tコンロ2口／\\tシステムキッチン\\t／\\t給湯</td>\n",
       "      <td>インターネット対応／\\tCATV／\\tCSアンテナ／\\tBSアンテナ</td>\n",
       "      <td>エアコン付\\tシューズボックス／\\tバルコニー／\\tフローリング／\\t室内洗濯機置場／\\t敷...</td>\n",
       "      <td>駐輪場\\t空有</td>\n",
       "      <td>【小学校】 495m\\t【大学】 461m\\t【小学校】 962m\\t【公園】 1103m\\...</td>\n",
       "      <td>RC（鉄筋コンクリート）</td>\n",
       "      <td>2年間</td>\n",
       "    </tr>\n",
       "    <tr>\n",
       "      <th>1</th>\n",
       "      <td>2</td>\n",
       "      <td>76000</td>\n",
       "      <td>東京都中央区月島３丁目</td>\n",
       "      <td>都営大江戸線\\t勝どき駅\\t徒歩5分\\t\\t有楽町線\\t月島駅\\t徒歩9分\\t\\t日比谷線\\...</td>\n",
       "      <td>1R</td>\n",
       "      <td>44年10ヶ月</td>\n",
       "      <td>NaN</td>\n",
       "      <td>16.5m2</td>\n",
       "      <td>5階／10階建</td>\n",
       "      <td>専用トイレ／\\tシャワー／\\t温水洗浄便座</td>\n",
       "      <td>ガスコンロ／\\tシステムキッチン\\t／\\t給湯</td>\n",
       "      <td>インターネット対応</td>\n",
       "      <td>エアコン付\\tシューズボックス／\\tバルコニー／\\tフローリング／\\t室内洗濯機置場／\\t敷...</td>\n",
       "      <td>駐輪場\\t空有\\t駐車場\\t無\\tバイク置き場\\t無</td>\n",
       "      <td>【スーパー】 1283m</td>\n",
       "      <td>鉄骨造</td>\n",
       "      <td>2年間</td>\n",
       "    </tr>\n",
       "    <tr>\n",
       "      <th>2</th>\n",
       "      <td>3</td>\n",
       "      <td>110000</td>\n",
       "      <td>東京都渋谷区笹塚２丁目</td>\n",
       "      <td>京王線\\t笹塚駅\\t徒歩6分\\t\\t京王線\\t代田橋駅\\t徒歩7分\\t\\t京王線\\t明大前駅...</td>\n",
       "      <td>1K</td>\n",
       "      <td>8年6ヶ月</td>\n",
       "      <td>南</td>\n",
       "      <td>22.05m2</td>\n",
       "      <td>12階／15階建</td>\n",
       "      <td>専用バス／\\t専用トイレ／\\tバス・トイレ別／\\tシャワー／\\t浴室乾燥機\\t／\\t温水洗浄...</td>\n",
       "      <td>ガスコンロ／\\tコンロ2口／\\tシステムキッチン\\t／\\t給湯</td>\n",
       "      <td>インターネット対応／\\t光ファイバー／\\tCSアンテナ／\\tBSアンテナ</td>\n",
       "      <td>エアコン付\\tウォークインクローゼット\\tシューズボックス／\\tバルコニー／\\tフローリング...</td>\n",
       "      <td>駐輪場\\t空有\\tバイク置き場\\t空有\\t駐車場\\t近隣\\t30,000円(税込)\\t距離100m</td>\n",
       "      <td>【スーパー】 89m\\t【コンビニ】 184m\\t【コンビニ】 392m\\t【スーパー】 492m</td>\n",
       "      <td>RC（鉄筋コンクリート）</td>\n",
       "      <td>2年間</td>\n",
       "    </tr>\n",
       "    <tr>\n",
       "      <th>3</th>\n",
       "      <td>4</td>\n",
       "      <td>150000</td>\n",
       "      <td>東京都杉並区高円寺南２丁目23-2</td>\n",
       "      <td>総武線・中央線（各停）\\t高円寺駅\\t徒歩9分\\t\\t丸ノ内線(池袋－荻窪)\\t新高円寺駅\\...</td>\n",
       "      <td>2LDK</td>\n",
       "      <td>29年4ヶ月</td>\n",
       "      <td>南</td>\n",
       "      <td>60.48m2</td>\n",
       "      <td>3階／4階建</td>\n",
       "      <td>専用バス／\\t専用トイレ／\\tバス・トイレ別／\\tシャワー／\\t温水洗浄便座／\\t洗面台独立</td>\n",
       "      <td>ガスコンロ／\\t給湯</td>\n",
       "      <td>インターネット対応／\\t光ファイバー</td>\n",
       "      <td>エアコン付\\tシューズボックス／\\tバルコニー／\\t2面採光／\\t室内洗濯機置場／\\tエレベ...</td>\n",
       "      <td>駐車場\\t無\\t駐輪場\\t無\\tバイク置き場\\t無</td>\n",
       "      <td>【スーパー】 225m\\t【スーパー】 448m\\t【スーパー】 619m\\t【スーパー】 ...</td>\n",
       "      <td>RC（鉄筋コンクリート）</td>\n",
       "      <td>2年間\\t※この物件は\\t定期借家\\tです。</td>\n",
       "    </tr>\n",
       "    <tr>\n",
       "      <th>4</th>\n",
       "      <td>5</td>\n",
       "      <td>74000</td>\n",
       "      <td>東京都葛飾区金町３丁目7-2</td>\n",
       "      <td>京成金町線\\t京成金町駅\\t徒歩5分\\t\\t常磐線\\t金町(東京都)駅\\t徒歩7分\\t\\t京...</td>\n",
       "      <td>2DK</td>\n",
       "      <td>31年7ヶ月</td>\n",
       "      <td>南</td>\n",
       "      <td>39.66m2</td>\n",
       "      <td>1階／2階建</td>\n",
       "      <td>専用バス／\\t専用トイレ／\\tバス・トイレ別／\\tシャワー／\\t追焚機能</td>\n",
       "      <td>給湯／\\t独立キッチン</td>\n",
       "      <td>NaN</td>\n",
       "      <td>バルコニー／\\tフローリング／\\t室内洗濯機置場\\t公営水道／\\t下水</td>\n",
       "      <td>駐車場\\t近隣\\t17,000円(税込)\\t距離300m\\t駐輪場\\t無\\tバイク置き場\\t無</td>\n",
       "      <td>【スーパー】 193m\\t【スーパー】 298m\\t【スーパー】 660m\\t【スーパー】 ...</td>\n",
       "      <td>木造</td>\n",
       "      <td>2年間</td>\n",
       "    </tr>\n",
       "  </tbody>\n",
       "</table>\n",
       "</div>"
      ],
      "text/plain": [
       "   id      賃料                所在地  \\\n",
       "0   1   75000        東京都北区滝野川３丁目   \n",
       "1   2   76000        東京都中央区月島３丁目   \n",
       "2   3  110000        東京都渋谷区笹塚２丁目   \n",
       "3   4  150000  東京都杉並区高円寺南２丁目23-2   \n",
       "4   5   74000     東京都葛飾区金町３丁目7-2   \n",
       "\n",
       "                                                アクセス   間取り      築年数   方角  \\\n",
       "0  都営三田線\\t西巣鴨駅\\t徒歩4分\\t\\t埼京線\\t板橋駅\\t徒歩14分\\t\\t都電荒川線\\...    1K    9年9ヶ月   南東   \n",
       "1  都営大江戸線\\t勝どき駅\\t徒歩5分\\t\\t有楽町線\\t月島駅\\t徒歩9分\\t\\t日比谷線\\...    1R  44年10ヶ月  NaN   \n",
       "2  京王線\\t笹塚駅\\t徒歩6分\\t\\t京王線\\t代田橋駅\\t徒歩7分\\t\\t京王線\\t明大前駅...    1K    8年6ヶ月    南   \n",
       "3  総武線・中央線（各停）\\t高円寺駅\\t徒歩9分\\t\\t丸ノ内線(池袋－荻窪)\\t新高円寺駅\\...  2LDK   29年4ヶ月    南   \n",
       "4  京成金町線\\t京成金町駅\\t徒歩5分\\t\\t常磐線\\t金町(東京都)駅\\t徒歩7分\\t\\t京...   2DK   31年7ヶ月    南   \n",
       "\n",
       "        面積       所在階                                             バス・トイレ  \\\n",
       "0  20.01m2   1階／12階建   専用バス／\\t専用トイレ／\\tバス・トイレ別／\\tシャワー／\\t浴室乾燥機\\t／\\t温水洗浄便座   \n",
       "1   16.5m2   5階／10階建                              専用トイレ／\\tシャワー／\\t温水洗浄便座   \n",
       "2  22.05m2  12階／15階建  専用バス／\\t専用トイレ／\\tバス・トイレ別／\\tシャワー／\\t浴室乾燥機\\t／\\t温水洗浄...   \n",
       "3  60.48m2    3階／4階建     専用バス／\\t専用トイレ／\\tバス・トイレ別／\\tシャワー／\\t温水洗浄便座／\\t洗面台独立   \n",
       "4  39.66m2    1階／2階建               専用バス／\\t専用トイレ／\\tバス・トイレ別／\\tシャワー／\\t追焚機能   \n",
       "\n",
       "                              キッチン                                 放送・通信  \\\n",
       "0  ガスコンロ／\\tコンロ2口／\\tシステムキッチン\\t／\\t給湯    インターネット対応／\\tCATV／\\tCSアンテナ／\\tBSアンテナ   \n",
       "1          ガスコンロ／\\tシステムキッチン\\t／\\t給湯                             インターネット対応   \n",
       "2  ガスコンロ／\\tコンロ2口／\\tシステムキッチン\\t／\\t給湯  インターネット対応／\\t光ファイバー／\\tCSアンテナ／\\tBSアンテナ   \n",
       "3                       ガスコンロ／\\t給湯                    インターネット対応／\\t光ファイバー   \n",
       "4                      給湯／\\t独立キッチン                                   NaN   \n",
       "\n",
       "                                                室内設備  \\\n",
       "0  エアコン付\\tシューズボックス／\\tバルコニー／\\tフローリング／\\t室内洗濯機置場／\\t敷...   \n",
       "1  エアコン付\\tシューズボックス／\\tバルコニー／\\tフローリング／\\t室内洗濯機置場／\\t敷...   \n",
       "2  エアコン付\\tウォークインクローゼット\\tシューズボックス／\\tバルコニー／\\tフローリング...   \n",
       "3  エアコン付\\tシューズボックス／\\tバルコニー／\\t2面採光／\\t室内洗濯機置場／\\tエレベ...   \n",
       "4                バルコニー／\\tフローリング／\\t室内洗濯機置場\\t公営水道／\\t下水   \n",
       "\n",
       "                                                 駐車場  \\\n",
       "0                                            駐輪場\\t空有   \n",
       "1                         駐輪場\\t空有\\t駐車場\\t無\\tバイク置き場\\t無   \n",
       "2  駐輪場\\t空有\\tバイク置き場\\t空有\\t駐車場\\t近隣\\t30,000円(税込)\\t距離100m   \n",
       "3                          駐車場\\t無\\t駐輪場\\t無\\tバイク置き場\\t無   \n",
       "4    駐車場\\t近隣\\t17,000円(税込)\\t距離300m\\t駐輪場\\t無\\tバイク置き場\\t無   \n",
       "\n",
       "                                                周辺環境          建物構造  \\\n",
       "0  【小学校】 495m\\t【大学】 461m\\t【小学校】 962m\\t【公園】 1103m\\...  RC（鉄筋コンクリート）   \n",
       "1                                       【スーパー】 1283m           鉄骨造   \n",
       "2  【スーパー】 89m\\t【コンビニ】 184m\\t【コンビニ】 392m\\t【スーパー】 492m  RC（鉄筋コンクリート）   \n",
       "3  【スーパー】 225m\\t【スーパー】 448m\\t【スーパー】 619m\\t【スーパー】 ...  RC（鉄筋コンクリート）   \n",
       "4  【スーパー】 193m\\t【スーパー】 298m\\t【スーパー】 660m\\t【スーパー】 ...            木造   \n",
       "\n",
       "                     契約期間  \n",
       "0                     2年間  \n",
       "1                     2年間  \n",
       "2                     2年間  \n",
       "3  2年間\\t※この物件は\\t定期借家\\tです。  \n",
       "4                     2年間  "
      ]
     },
     "execution_count": 4,
     "metadata": {},
     "output_type": "execute_result"
    }
   ],
   "source": [
    "train.head()"
   ]
  },
  {
   "cell_type": "markdown",
   "metadata": {},
   "source": [
    "## Nullのチェック"
   ]
  },
  {
   "cell_type": "code",
   "execution_count": 5,
   "metadata": {},
   "outputs": [
    {
     "data": {
      "text/plain": [
       "id           0\n",
       "賃料           0\n",
       "所在地          0\n",
       "アクセス         0\n",
       "間取り          0\n",
       "築年数          0\n",
       "方角        2749\n",
       "面積           0\n",
       "所在階          0\n",
       "バス・トイレ     329\n",
       "キッチン       621\n",
       "放送・通信     3440\n",
       "室内設備        82\n",
       "駐車場       5287\n",
       "周辺環境      9432\n",
       "建物構造         0\n",
       "契約期間      7120\n",
       "dtype: int64"
      ]
     },
     "execution_count": 5,
     "metadata": {},
     "output_type": "execute_result"
    }
   ],
   "source": [
    "train.isnull().sum()"
   ]
  },
  {
   "cell_type": "markdown",
   "metadata": {},
   "source": [
    "## 所在地の分析"
   ]
  },
  {
   "cell_type": "code",
   "execution_count": 7,
   "metadata": {},
   "outputs": [],
   "source": [
    "address = train['所在地']\n",
    "address"
   ]
  },
  {
   "cell_type": "markdown",
   "metadata": {},
   "source": [
    "### 区で分けてみる"
   ]
  },
  {
   "cell_type": "code",
   "execution_count": 15,
   "metadata": {},
   "outputs": [
    {
     "data": {
      "text/plain": [
       "世田谷    3023\n",
       "足立     2191\n",
       "大田     2000\n",
       "杉並     1769\n",
       "練馬     1752\n",
       "江戸川    1702\n",
       "板橋     1624\n",
       "港      1513\n",
       "江東     1508\n",
       "中央     1279\n",
       "品川     1272\n",
       "豊島     1271\n",
       "新宿     1223\n",
       "葛飾     1212\n",
       "中野     1211\n",
       "北      1045\n",
       "目黒     1023\n",
       "墨田     1010\n",
       "渋谷      985\n",
       "台東      932\n",
       "文京      892\n",
       "荒川      576\n",
       "千代田     457\n",
       "Name: 所在地, dtype: int64"
      ]
     },
     "execution_count": 15,
     "metadata": {},
     "output_type": "execute_result"
    }
   ],
   "source": [
    "address2 = address.apply(lambda x: x[3:].split('区')[0])\n",
    "address2.value_counts()"
   ]
  },
  {
   "cell_type": "markdown",
   "metadata": {},
   "source": [
    "## アクセスの分析"
   ]
  },
  {
   "cell_type": "code",
   "execution_count": 64,
   "metadata": {},
   "outputs": [
    {
     "data": {
      "text/plain": [
       "11    27079\n",
       "7      1745\n",
       "3      1486\n",
       "13      895\n",
       "9       265\n",
       "Name: cnt, dtype: int64"
      ]
     },
     "execution_count": 64,
     "metadata": {},
     "output_type": "execute_result"
    }
   ],
   "source": [
    "access = DataFrame(train['アクセス'])\n",
    "access['cnt'] = access['アクセス'].apply(lambda x: len(x.split('\\t')))\n",
    "access['cnt'].value_counts()"
   ]
  },
  {
   "cell_type": "code",
   "execution_count": 36,
   "metadata": {},
   "outputs": [
    {
     "data": {
      "text/plain": [
       "61                              [東急目黒線, 西小山駅, 徒歩10分]\n",
       "72                            [常磐線, 金町(東京都)駅, 徒歩18分]\n",
       "151                               [東西線, 西葛西駅, 徒歩11分]\n",
       "185                               [都営浅草線, 馬込駅, 徒歩1分]\n",
       "219                            [京成本線, 堀切菖蒲園駅, 徒歩12分]\n",
       "                            ...                     \n",
       "31342    [常磐線, 金町(東京都)駅, /バス(15分)京成バス「西水元２丁目」下車徒歩2分]\n",
       "31376                            [東急目黒線, 大岡山駅, 徒歩5分]\n",
       "31406                        [小田急小田原線, 千歳船橋駅, 徒歩12分]\n",
       "31448                          [西武池袋線, 石神井公園駅, 徒歩8分]\n",
       "31453                            [都営新宿線, 瑞江駅, 徒歩11分]\n",
       "Name: アクセス, Length: 1486, dtype: object"
      ]
     },
     "execution_count": 36,
     "metadata": {},
     "output_type": "execute_result"
    }
   ],
   "source": [
    "access[access['cnt'] == 3]['アクセス'].apply(lambda x: x.split('\\t'))"
   ]
  },
  {
   "cell_type": "code",
   "execution_count": 37,
   "metadata": {},
   "outputs": [
    {
     "data": {
      "text/plain": [
       "11                [京成本線, 京成小岩駅, 徒歩15分, , 京成本線, 江戸川駅, 徒歩7分]\n",
       "13       [中央線（快速）, 阿佐ケ谷駅, 徒歩8分, , 丸ノ内線(池袋－荻窪), 南阿佐ケ谷駅, ...\n",
       "17                [都営新宿線, 一之江駅, 徒歩8分, , 都営新宿線, 船堀駅, 徒歩30分]\n",
       "31                   [東西線, 葛西駅, 徒歩11分, , 東西線, 西葛西駅, 徒歩18分]\n",
       "38             [西武池袋線, 東長崎駅, 徒歩1分, , 都営大江戸線, 落合南長崎駅, 徒歩9分]\n",
       "                               ...                        \n",
       "31405                 [東西線, 葛西駅, 徒歩9分, , 東西線, 西葛西駅, 徒歩16分]\n",
       "31410       [東武東上線, 東武練馬駅, 徒歩6分, , 副都心線, 平和台(東京都)駅, 徒歩19分]\n",
       "31418              [総武本線, 馬喰町駅, 徒歩4分, , 都営浅草線, 浅草橋駅, 徒歩4分]\n",
       "31422            [南北線, 王子神谷駅, 徒歩10分, , 京浜東北線, 東十条駅, 徒歩20分]\n",
       "31457           [西武池袋線, 江古田駅, 徒歩12分, , 西武有楽町線, 新桜台駅, 徒歩6分]\n",
       "Name: アクセス, Length: 1745, dtype: object"
      ]
     },
     "execution_count": 37,
     "metadata": {},
     "output_type": "execute_result"
    }
   ],
   "source": [
    "access[access['cnt'] == 7]['アクセス'].apply(lambda x: x.split('\\t'))"
   ]
  },
  {
   "cell_type": "code",
   "execution_count": 39,
   "metadata": {},
   "outputs": [
    {
     "data": {
      "text/plain": [
       "12       [銀座線, 表参道駅, 徒歩11分, , 千代田線, 表参道駅, 徒歩11分, , 山手線渋...\n",
       "30       [副都心線, 雑司が谷駅, 徒歩7分, , 山手線, 目白駅, 徒歩12分, , 東京メトロ...\n",
       "242      [有楽町線, 月島駅, 徒歩1分, , 都営大江戸線, 勝どき駅, 徒歩10分, , 京葉線...\n",
       "419      [東急池上線, 石川台駅, 徒歩8分, , 東急大井町線, 緑が丘(東京都)駅, 徒歩15分...\n",
       "475      [京葉線(東京－蘇我), 八丁堀(東京都)駅, 徒歩4分, , 日比谷線, 八丁堀(東京都)...\n",
       "                               ...                        \n",
       "30705    [日暮里・舎人ライナー, 江北駅, 徒歩12分, , 日暮里・舎人ライナー, 高野(東京都)...\n",
       "30722    [総武線・中央線（各停）, 大久保(東京都)駅, 徒歩10分, , 山手線, 新大久保駅, ...\n",
       "31050    [千代田線, 明治神宮前駅, 徒歩6分, , 山手線, 原宿駅, 徒歩8分, , 東京メトロ...\n",
       "31276    [中央線（快速）, 中野(東京都)駅, 徒歩9分, , 東西線, 中野(東京都)駅, 徒歩9...\n",
       "31288    [千代田線, 千駄木駅, 徒歩5分, , 千代田線, 根津駅, 徒歩6分, , 東京メトロ南...\n",
       "Name: アクセス, Length: 265, dtype: object"
      ]
     },
     "execution_count": 39,
     "metadata": {},
     "output_type": "execute_result"
    }
   ],
   "source": [
    "access[access['cnt'] == 9]['アクセス'].apply(lambda x: x.split('\\t'))"
   ]
  },
  {
   "cell_type": "code",
   "execution_count": 40,
   "metadata": {},
   "outputs": [
    {
     "data": {
      "text/plain": [
       "0        [都営三田線, 西巣鴨駅, 徒歩4分, , 埼京線, 板橋駅, 徒歩14分, , 都電荒川線...\n",
       "1        [都営大江戸線, 勝どき駅, 徒歩5分, , 有楽町線, 月島駅, 徒歩9分, , 日比谷線...\n",
       "2        [京王線, 笹塚駅, 徒歩6分, , 京王線, 代田橋駅, 徒歩7分, , 京王線, 明大前...\n",
       "3        [総武線・中央線（各停）, 高円寺駅, 徒歩9分, , 丸ノ内線(池袋－荻窪), 新高円寺駅...\n",
       "4        [京成金町線, 京成金町駅, 徒歩5分, , 常磐線, 金町(東京都)駅, 徒歩7分, , ...\n",
       "                               ...                        \n",
       "31465    [都営三田線, 蓮根駅, 徒歩7分, , 都営三田線, 西台駅, 徒歩10分, , 都営三田...\n",
       "31466    [東急田園都市線, 三軒茶屋駅, 徒歩6分, , 東急世田谷線, 西太子堂駅, 徒歩4分, ...\n",
       "31467    [東西線, 南砂町駅, 徒歩5分, , 都営新宿線, 大島(東京都)駅, 徒歩26分, , ...\n",
       "31468    [中央線（快速）, 中野(東京都)駅, 徒歩4分, , 丸ノ内線(池袋－荻窪), 新中野駅,...\n",
       "31469    [有楽町線, 千川駅, 徒歩5分, , 有楽町線, 要町駅, 徒歩13分, , 西武池袋線,...\n",
       "Name: アクセス, Length: 27079, dtype: object"
      ]
     },
     "execution_count": 40,
     "metadata": {},
     "output_type": "execute_result"
    }
   ],
   "source": [
    "access[access['cnt'] == 11]['アクセス'].apply(lambda x: x.split('\\t'))"
   ]
  },
  {
   "cell_type": "code",
   "execution_count": 41,
   "metadata": {},
   "outputs": [
    {
     "data": {
      "text/plain": [
       "20       [西武新宿線, 沼袋駅, 徒歩11分, , 西武新宿線, 野方駅, 徒歩14分, , 中央線...\n",
       "78       [中央線（快速）, 中野(東京都)駅, 徒歩3分, , 丸ノ内線(池袋－荻窪), 東高円寺駅...\n",
       "172      [中央線（快速）, 中野(東京都)駅, 徒歩5分, , 丸ノ内線(池袋－荻窪), 新中野駅,...\n",
       "193      [京浜東北線, 大森(東京都)駅, 徒歩14分, , 京急本線, 平和島駅, 徒歩19分, ...\n",
       "216      [京浜東北線, 大森(東京都)駅, 徒歩5分, , 京急本線, 平和島駅, 徒歩15分, ,...\n",
       "                               ...                        \n",
       "31278    [東武東上線, 下板橋駅, 徒歩2分, , 都営三田線, 新板橋駅, 徒歩11分, , 埼京...\n",
       "31287    [中央線（快速）, 荻窪駅, 徒歩9分, , 中央線（快速）, 西荻窪駅, 徒歩22分, ,...\n",
       "31322    [東急池上線, 池上駅, 徒歩4分, , 東急多摩川線, 矢口渡駅, 徒歩20分, , 京浜...\n",
       "31423    [京急本線, 平和島駅, 徒歩2分, , 京急本線, 大森町駅, 徒歩10分, , 京浜東北...\n",
       "31444    [東西線, 高田馬場駅, 徒歩8分, , 副都心線, 西早稲田駅, 徒歩7分, , 山手線,...\n",
       "Name: アクセス, Length: 895, dtype: object"
      ]
     },
     "execution_count": 41,
     "metadata": {},
     "output_type": "execute_result"
    }
   ],
   "source": [
    "access[access['cnt'] == 13]['アクセス'].apply(lambda x: x.split('\\t'))"
   ]
  },
  {
   "cell_type": "code",
   "execution_count": null,
   "metadata": {},
   "outputs": [],
   "source": [
    "'''\n",
    "基本形　線名、駅、駅までの距離\n",
    "3: 基本形\n",
    "7: 基本形 x 2\n",
    "9: 基本形 x 2 + 1\n",
    "11: 基本形 x 3\n",
    "13: 基本形 x 3 + 1\n",
    "\n",
    "3～13\n",
    "\n",
    "3      1486\n",
    "7      1745\n",
    "9       265\n",
    "11    27079\n",
    "13      895\n",
    "'''"
   ]
  },
  {
   "cell_type": "markdown",
   "metadata": {},
   "source": [
    "## 築年数を分析"
   ]
  },
  {
   "cell_type": "code",
   "execution_count": 65,
   "metadata": {},
   "outputs": [
    {
     "data": {
      "text/plain": [
       "0年1ヶ月     983\n",
       "新築        889\n",
       "0年0ヶ月     704\n",
       "0年2ヶ月     644\n",
       "0年3ヶ月     508\n",
       "         ... \n",
       "64年5ヶ月      1\n",
       "52年0ヶ月      1\n",
       "56年5ヶ月      1\n",
       "59年3ヶ月      1\n",
       "79年7ヶ月      1\n",
       "Name: 築年数, Length: 746, dtype: int64"
      ]
     },
     "execution_count": 65,
     "metadata": {},
     "output_type": "execute_result"
    }
   ],
   "source": [
    "train['築年数'].value_counts()"
   ]
  },
  {
   "cell_type": "code",
   "execution_count": 61,
   "metadata": {},
   "outputs": [
    {
     "data": {
      "text/html": [
       "<div>\n",
       "<style scoped>\n",
       "    .dataframe tbody tr th:only-of-type {\n",
       "        vertical-align: middle;\n",
       "    }\n",
       "\n",
       "    .dataframe tbody tr th {\n",
       "        vertical-align: top;\n",
       "    }\n",
       "\n",
       "    .dataframe thead th {\n",
       "        text-align: right;\n",
       "    }\n",
       "</style>\n",
       "<table border=\"1\" class=\"dataframe\">\n",
       "  <thead>\n",
       "    <tr style=\"text-align: right;\">\n",
       "      <th></th>\n",
       "      <th>築年数</th>\n",
       "      <th>count</th>\n",
       "    </tr>\n",
       "  </thead>\n",
       "  <tbody>\n",
       "    <tr>\n",
       "      <th>0</th>\n",
       "      <td>9年9ヶ月</td>\n",
       "      <td>117</td>\n",
       "    </tr>\n",
       "    <tr>\n",
       "      <th>1</th>\n",
       "      <td>44年10ヶ月</td>\n",
       "      <td>538</td>\n",
       "    </tr>\n",
       "    <tr>\n",
       "      <th>2</th>\n",
       "      <td>8年6ヶ月</td>\n",
       "      <td>102</td>\n",
       "    </tr>\n",
       "    <tr>\n",
       "      <th>3</th>\n",
       "      <td>29年4ヶ月</td>\n",
       "      <td>352</td>\n",
       "    </tr>\n",
       "    <tr>\n",
       "      <th>4</th>\n",
       "      <td>31年7ヶ月</td>\n",
       "      <td>379</td>\n",
       "    </tr>\n",
       "  </tbody>\n",
       "</table>\n",
       "</div>"
      ],
      "text/plain": [
       "       築年数  count\n",
       "0    9年9ヶ月    117\n",
       "1  44年10ヶ月    538\n",
       "2    8年6ヶ月    102\n",
       "3   29年4ヶ月    352\n",
       "4   31年7ヶ月    379"
      ]
     },
     "execution_count": 61,
     "metadata": {},
     "output_type": "execute_result"
    }
   ],
   "source": [
    "# 9年9ヶ月\n",
    "build = DataFrame(train['築年数'])\n",
    "\n",
    "def build_count(check):\n",
    "    if check == '新築':\n",
    "        count = 0\n",
    "    else:\n",
    "        year = check.split('年')[0]\n",
    "        month = check.split('年')[1].split('ヶ月')[0]\n",
    "        count = int(year) * 12 + int(month)\n",
    "    return count\n",
    "\n",
    "build['count'] = build['築年数'].apply(build_count)\n",
    "build.head()"
   ]
  },
  {
   "cell_type": "markdown",
   "metadata": {},
   "source": [
    "## 所在階の分析"
   ]
  },
  {
   "cell_type": "code",
   "execution_count": 77,
   "metadata": {},
   "outputs": [
    {
     "data": {
      "text/plain": [
       "2階／2階建            2851\n",
       "1階／2階建            2771\n",
       "2階／3階建            2017\n",
       "3階／3階建            1805\n",
       "1階／3階建            1640\n",
       "                  ... \n",
       "地下2階／2階建             1\n",
       "12階／15階建（地下2階）       1\n",
       "4階／29階建（地下1階）        1\n",
       "10階／33階建（地下1階）       1\n",
       "3階／12階建（地下1階）        1\n",
       "Name: 所在階, Length: 1032, dtype: int64"
      ]
     },
     "execution_count": 77,
     "metadata": {},
     "output_type": "execute_result"
    }
   ],
   "source": [
    "train['所在階'].value_counts()"
   ]
  },
  {
   "cell_type": "code",
   "execution_count": 81,
   "metadata": {},
   "outputs": [
    {
     "data": {
      "text/plain": [
       "0        2\n",
       "1        2\n",
       "2        2\n",
       "3        2\n",
       "4        2\n",
       "        ..\n",
       "31465    2\n",
       "31466    2\n",
       "31467    2\n",
       "31468    2\n",
       "31469    2\n",
       "Name: 所在階, Length: 31470, dtype: int64"
      ]
     },
     "execution_count": 81,
     "metadata": {},
     "output_type": "execute_result"
    }
   ],
   "source": [
    "level_cnt = train['所在階'].apply(lambda x: len(x.split('／')))\n",
    "level_cnt"
   ]
  },
  {
   "cell_type": "code",
   "execution_count": 83,
   "metadata": {},
   "outputs": [
    {
     "data": {
      "text/plain": [
       "20       1\n",
       "39       1\n",
       "83       1\n",
       "167      1\n",
       "170      1\n",
       "        ..\n",
       "31358    1\n",
       "31376    1\n",
       "31389    1\n",
       "31435    1\n",
       "31443    1\n",
       "Name: 所在階, Length: 594, dtype: int64"
      ]
     },
     "execution_count": 83,
     "metadata": {},
     "output_type": "execute_result"
    }
   ],
   "source": [
    "level_cnt[level_cnt == 1]"
   ]
  },
  {
   "cell_type": "code",
   "execution_count": 88,
   "metadata": {
    "scrolled": true
   },
   "outputs": [
    {
     "data": {
      "text/plain": [
       "2階建          428\n",
       "3階建          131\n",
       "1階建            8\n",
       "2階建（地下1階）      7\n",
       "4階建            6\n",
       "2階             4\n",
       "1階             3\n",
       "3階建（地下1階）      3\n",
       "3階             2\n",
       "5階建            1\n",
       "5階             1\n",
       "Name: 所在階, dtype: int64"
      ]
     },
     "execution_count": 88,
     "metadata": {},
     "output_type": "execute_result"
    }
   ],
   "source": [
    "train[level_cnt == 1]['所在階'].value_counts()"
   ]
  },
  {
   "cell_type": "markdown",
   "metadata": {},
   "source": [
    "## 建物構造"
   ]
  },
  {
   "cell_type": "code",
   "execution_count": 118,
   "metadata": {},
   "outputs": [
    {
     "data": {
      "text/plain": [
       "RC（鉄筋コンクリート）                   17505\n",
       "木造                              5512\n",
       "鉄骨造                             3726\n",
       "SRC（鉄骨鉄筋コンクリート）                 2429\n",
       "軽量鉄骨                            1812\n",
       "ALC（軽量気泡コンクリート）                  297\n",
       "その他                              136\n",
       "PC（プレキャスト・コンクリート（鉄筋コンクリート））       46\n",
       "HPC（プレキャスト・コンクリート（重量鉄骨））           4\n",
       "ブロック                               3\n",
       "Name: 建物構造, dtype: int64"
      ]
     },
     "execution_count": 118,
     "metadata": {},
     "output_type": "execute_result"
    }
   ],
   "source": [
    "train['建物構造'].value_counts()"
   ]
  },
  {
   "cell_type": "markdown",
   "metadata": {},
   "source": [
    "# 分析"
   ]
  },
  {
   "cell_type": "markdown",
   "metadata": {},
   "source": [
    "## 所在地と間取りだけで線形分析"
   ]
  },
  {
   "cell_type": "code",
   "execution_count": 111,
   "metadata": {},
   "outputs": [
    {
     "data": {
      "text/html": [
       "<div>\n",
       "<style scoped>\n",
       "    .dataframe tbody tr th:only-of-type {\n",
       "        vertical-align: middle;\n",
       "    }\n",
       "\n",
       "    .dataframe tbody tr th {\n",
       "        vertical-align: top;\n",
       "    }\n",
       "\n",
       "    .dataframe thead th {\n",
       "        text-align: right;\n",
       "    }\n",
       "</style>\n",
       "<table border=\"1\" class=\"dataframe\">\n",
       "  <thead>\n",
       "    <tr style=\"text-align: right;\">\n",
       "      <th></th>\n",
       "      <th>count</th>\n",
       "      <th>間取り_1DK+S(納戸)</th>\n",
       "      <th>間取り_1K</th>\n",
       "      <th>間取り_1K+S(納戸)</th>\n",
       "      <th>間取り_1LDK</th>\n",
       "      <th>間取り_1LDK+S(納戸)</th>\n",
       "      <th>間取り_1LK+S(納戸)</th>\n",
       "      <th>間取り_1R</th>\n",
       "      <th>間取り_2DK</th>\n",
       "      <th>間取り_2DK+S(納戸)</th>\n",
       "      <th>...</th>\n",
       "      <th>区_江戸川</th>\n",
       "      <th>区_江東</th>\n",
       "      <th>区_渋谷</th>\n",
       "      <th>区_港</th>\n",
       "      <th>区_目黒</th>\n",
       "      <th>区_練馬</th>\n",
       "      <th>区_荒川</th>\n",
       "      <th>区_葛飾</th>\n",
       "      <th>区_豊島</th>\n",
       "      <th>区_足立</th>\n",
       "    </tr>\n",
       "  </thead>\n",
       "  <tbody>\n",
       "    <tr>\n",
       "      <th>0</th>\n",
       "      <td>117</td>\n",
       "      <td>0</td>\n",
       "      <td>1</td>\n",
       "      <td>0</td>\n",
       "      <td>0</td>\n",
       "      <td>0</td>\n",
       "      <td>0</td>\n",
       "      <td>0</td>\n",
       "      <td>0</td>\n",
       "      <td>0</td>\n",
       "      <td>...</td>\n",
       "      <td>0</td>\n",
       "      <td>0</td>\n",
       "      <td>0</td>\n",
       "      <td>0</td>\n",
       "      <td>0</td>\n",
       "      <td>0</td>\n",
       "      <td>0</td>\n",
       "      <td>0</td>\n",
       "      <td>0</td>\n",
       "      <td>0</td>\n",
       "    </tr>\n",
       "    <tr>\n",
       "      <th>1</th>\n",
       "      <td>538</td>\n",
       "      <td>0</td>\n",
       "      <td>0</td>\n",
       "      <td>0</td>\n",
       "      <td>0</td>\n",
       "      <td>0</td>\n",
       "      <td>0</td>\n",
       "      <td>1</td>\n",
       "      <td>0</td>\n",
       "      <td>0</td>\n",
       "      <td>...</td>\n",
       "      <td>0</td>\n",
       "      <td>0</td>\n",
       "      <td>0</td>\n",
       "      <td>0</td>\n",
       "      <td>0</td>\n",
       "      <td>0</td>\n",
       "      <td>0</td>\n",
       "      <td>0</td>\n",
       "      <td>0</td>\n",
       "      <td>0</td>\n",
       "    </tr>\n",
       "    <tr>\n",
       "      <th>2</th>\n",
       "      <td>102</td>\n",
       "      <td>0</td>\n",
       "      <td>1</td>\n",
       "      <td>0</td>\n",
       "      <td>0</td>\n",
       "      <td>0</td>\n",
       "      <td>0</td>\n",
       "      <td>0</td>\n",
       "      <td>0</td>\n",
       "      <td>0</td>\n",
       "      <td>...</td>\n",
       "      <td>0</td>\n",
       "      <td>0</td>\n",
       "      <td>1</td>\n",
       "      <td>0</td>\n",
       "      <td>0</td>\n",
       "      <td>0</td>\n",
       "      <td>0</td>\n",
       "      <td>0</td>\n",
       "      <td>0</td>\n",
       "      <td>0</td>\n",
       "    </tr>\n",
       "    <tr>\n",
       "      <th>3</th>\n",
       "      <td>352</td>\n",
       "      <td>0</td>\n",
       "      <td>0</td>\n",
       "      <td>0</td>\n",
       "      <td>0</td>\n",
       "      <td>0</td>\n",
       "      <td>0</td>\n",
       "      <td>0</td>\n",
       "      <td>0</td>\n",
       "      <td>0</td>\n",
       "      <td>...</td>\n",
       "      <td>0</td>\n",
       "      <td>0</td>\n",
       "      <td>0</td>\n",
       "      <td>0</td>\n",
       "      <td>0</td>\n",
       "      <td>0</td>\n",
       "      <td>0</td>\n",
       "      <td>0</td>\n",
       "      <td>0</td>\n",
       "      <td>0</td>\n",
       "    </tr>\n",
       "    <tr>\n",
       "      <th>4</th>\n",
       "      <td>379</td>\n",
       "      <td>0</td>\n",
       "      <td>0</td>\n",
       "      <td>0</td>\n",
       "      <td>0</td>\n",
       "      <td>0</td>\n",
       "      <td>0</td>\n",
       "      <td>0</td>\n",
       "      <td>1</td>\n",
       "      <td>0</td>\n",
       "      <td>...</td>\n",
       "      <td>0</td>\n",
       "      <td>0</td>\n",
       "      <td>0</td>\n",
       "      <td>0</td>\n",
       "      <td>0</td>\n",
       "      <td>0</td>\n",
       "      <td>0</td>\n",
       "      <td>1</td>\n",
       "      <td>0</td>\n",
       "      <td>0</td>\n",
       "    </tr>\n",
       "    <tr>\n",
       "      <th>...</th>\n",
       "      <td>...</td>\n",
       "      <td>...</td>\n",
       "      <td>...</td>\n",
       "      <td>...</td>\n",
       "      <td>...</td>\n",
       "      <td>...</td>\n",
       "      <td>...</td>\n",
       "      <td>...</td>\n",
       "      <td>...</td>\n",
       "      <td>...</td>\n",
       "      <td>...</td>\n",
       "      <td>...</td>\n",
       "      <td>...</td>\n",
       "      <td>...</td>\n",
       "      <td>...</td>\n",
       "      <td>...</td>\n",
       "      <td>...</td>\n",
       "      <td>...</td>\n",
       "      <td>...</td>\n",
       "      <td>...</td>\n",
       "      <td>...</td>\n",
       "    </tr>\n",
       "    <tr>\n",
       "      <th>31465</th>\n",
       "      <td>360</td>\n",
       "      <td>0</td>\n",
       "      <td>0</td>\n",
       "      <td>0</td>\n",
       "      <td>0</td>\n",
       "      <td>0</td>\n",
       "      <td>0</td>\n",
       "      <td>0</td>\n",
       "      <td>1</td>\n",
       "      <td>0</td>\n",
       "      <td>...</td>\n",
       "      <td>0</td>\n",
       "      <td>0</td>\n",
       "      <td>0</td>\n",
       "      <td>0</td>\n",
       "      <td>0</td>\n",
       "      <td>0</td>\n",
       "      <td>0</td>\n",
       "      <td>0</td>\n",
       "      <td>0</td>\n",
       "      <td>0</td>\n",
       "    </tr>\n",
       "    <tr>\n",
       "      <th>31466</th>\n",
       "      <td>475</td>\n",
       "      <td>0</td>\n",
       "      <td>0</td>\n",
       "      <td>0</td>\n",
       "      <td>0</td>\n",
       "      <td>0</td>\n",
       "      <td>0</td>\n",
       "      <td>1</td>\n",
       "      <td>0</td>\n",
       "      <td>0</td>\n",
       "      <td>...</td>\n",
       "      <td>0</td>\n",
       "      <td>0</td>\n",
       "      <td>0</td>\n",
       "      <td>0</td>\n",
       "      <td>0</td>\n",
       "      <td>0</td>\n",
       "      <td>0</td>\n",
       "      <td>0</td>\n",
       "      <td>0</td>\n",
       "      <td>0</td>\n",
       "    </tr>\n",
       "    <tr>\n",
       "      <th>31467</th>\n",
       "      <td>550</td>\n",
       "      <td>0</td>\n",
       "      <td>0</td>\n",
       "      <td>0</td>\n",
       "      <td>0</td>\n",
       "      <td>0</td>\n",
       "      <td>0</td>\n",
       "      <td>0</td>\n",
       "      <td>0</td>\n",
       "      <td>0</td>\n",
       "      <td>...</td>\n",
       "      <td>0</td>\n",
       "      <td>1</td>\n",
       "      <td>0</td>\n",
       "      <td>0</td>\n",
       "      <td>0</td>\n",
       "      <td>0</td>\n",
       "      <td>0</td>\n",
       "      <td>0</td>\n",
       "      <td>0</td>\n",
       "      <td>0</td>\n",
       "    </tr>\n",
       "    <tr>\n",
       "      <th>31468</th>\n",
       "      <td>132</td>\n",
       "      <td>0</td>\n",
       "      <td>0</td>\n",
       "      <td>0</td>\n",
       "      <td>0</td>\n",
       "      <td>0</td>\n",
       "      <td>0</td>\n",
       "      <td>0</td>\n",
       "      <td>0</td>\n",
       "      <td>0</td>\n",
       "      <td>...</td>\n",
       "      <td>0</td>\n",
       "      <td>0</td>\n",
       "      <td>0</td>\n",
       "      <td>0</td>\n",
       "      <td>0</td>\n",
       "      <td>0</td>\n",
       "      <td>0</td>\n",
       "      <td>0</td>\n",
       "      <td>0</td>\n",
       "      <td>0</td>\n",
       "    </tr>\n",
       "    <tr>\n",
       "      <th>31469</th>\n",
       "      <td>722</td>\n",
       "      <td>0</td>\n",
       "      <td>1</td>\n",
       "      <td>0</td>\n",
       "      <td>0</td>\n",
       "      <td>0</td>\n",
       "      <td>0</td>\n",
       "      <td>0</td>\n",
       "      <td>0</td>\n",
       "      <td>0</td>\n",
       "      <td>...</td>\n",
       "      <td>0</td>\n",
       "      <td>0</td>\n",
       "      <td>0</td>\n",
       "      <td>0</td>\n",
       "      <td>0</td>\n",
       "      <td>0</td>\n",
       "      <td>0</td>\n",
       "      <td>0</td>\n",
       "      <td>1</td>\n",
       "      <td>0</td>\n",
       "    </tr>\n",
       "  </tbody>\n",
       "</table>\n",
       "<p>31470 rows × 52 columns</p>\n",
       "</div>"
      ],
      "text/plain": [
       "       count  間取り_1DK+S(納戸)  間取り_1K  間取り_1K+S(納戸)  間取り_1LDK  間取り_1LDK+S(納戸)  \\\n",
       "0        117              0       1             0         0               0   \n",
       "1        538              0       0             0         0               0   \n",
       "2        102              0       1             0         0               0   \n",
       "3        352              0       0             0         0               0   \n",
       "4        379              0       0             0         0               0   \n",
       "...      ...            ...     ...           ...       ...             ...   \n",
       "31465    360              0       0             0         0               0   \n",
       "31466    475              0       0             0         0               0   \n",
       "31467    550              0       0             0         0               0   \n",
       "31468    132              0       0             0         0               0   \n",
       "31469    722              0       1             0         0               0   \n",
       "\n",
       "       間取り_1LK+S(納戸)  間取り_1R  間取り_2DK  間取り_2DK+S(納戸)  ...  区_江戸川  区_江東  区_渋谷  \\\n",
       "0                  0       0        0              0  ...      0     0     0   \n",
       "1                  0       1        0              0  ...      0     0     0   \n",
       "2                  0       0        0              0  ...      0     0     1   \n",
       "3                  0       0        0              0  ...      0     0     0   \n",
       "4                  0       0        1              0  ...      0     0     0   \n",
       "...              ...     ...      ...            ...  ...    ...   ...   ...   \n",
       "31465              0       0        1              0  ...      0     0     0   \n",
       "31466              0       1        0              0  ...      0     0     0   \n",
       "31467              0       0        0              0  ...      0     1     0   \n",
       "31468              0       0        0              0  ...      0     0     0   \n",
       "31469              0       0        0              0  ...      0     0     0   \n",
       "\n",
       "       区_港  区_目黒  区_練馬  区_荒川  区_葛飾  区_豊島  区_足立  \n",
       "0        0     0     0     0     0     0     0  \n",
       "1        0     0     0     0     0     0     0  \n",
       "2        0     0     0     0     0     0     0  \n",
       "3        0     0     0     0     0     0     0  \n",
       "4        0     0     0     0     1     0     0  \n",
       "...    ...   ...   ...   ...   ...   ...   ...  \n",
       "31465    0     0     0     0     0     0     0  \n",
       "31466    0     0     0     0     0     0     0  \n",
       "31467    0     0     0     0     0     0     0  \n",
       "31468    0     0     0     0     0     0     0  \n",
       "31469    0     0     0     0     0     1     0  \n",
       "\n",
       "[31470 rows x 52 columns]"
      ]
     },
     "execution_count": 111,
     "metadata": {},
     "output_type": "execute_result"
    }
   ],
   "source": [
    "X = train[['所在地', '間取り', '建物構造']]\n",
    "X = pd.concat([X, build['count']], axis=1)\n",
    "X['区'] = X['所在地'].apply(lambda x: x[3:].split('区')[0])\n",
    "X.drop('所在地', inplace=True, axis=1)\n",
    "X = pd.get_dummies(X, drop_first=True)\n",
    "X"
   ]
  },
  {
   "cell_type": "code",
   "execution_count": 112,
   "metadata": {},
   "outputs": [],
   "source": [
    "y = train['賃料']"
   ]
  },
  {
   "cell_type": "code",
   "execution_count": 113,
   "metadata": {},
   "outputs": [],
   "source": [
    "train_x, test_x, train_y, test_y = train_test_split(X, y)"
   ]
  },
  {
   "cell_type": "code",
   "execution_count": 114,
   "metadata": {},
   "outputs": [
    {
     "data": {
      "text/plain": [
       "LinearRegression(copy_X=True, fit_intercept=True, n_jobs=None, normalize=False)"
      ]
     },
     "execution_count": 114,
     "metadata": {},
     "output_type": "execute_result"
    }
   ],
   "source": [
    "lr = LinearRegression()\n",
    "lr.fit(train_x, train_y)"
   ]
  },
  {
   "cell_type": "code",
   "execution_count": 115,
   "metadata": {},
   "outputs": [
    {
     "data": {
      "text/plain": [
       "0.58452984667984"
      ]
     },
     "execution_count": 115,
     "metadata": {},
     "output_type": "execute_result"
    }
   ],
   "source": [
    "lr.score(train_x, train_y)"
   ]
  },
  {
   "cell_type": "code",
   "execution_count": 116,
   "metadata": {},
   "outputs": [
    {
     "data": {
      "text/plain": [
       "0.6283173995602702"
      ]
     },
     "execution_count": 116,
     "metadata": {},
     "output_type": "execute_result"
    }
   ],
   "source": [
    "lr.score(test_x, test_y)"
   ]
  },
  {
   "cell_type": "code",
   "execution_count": null,
   "metadata": {},
   "outputs": [],
   "source": []
  }
 ],
 "metadata": {
  "kernelspec": {
   "display_name": "Python 3",
   "language": "python",
   "name": "python3"
  },
  "language_info": {
   "codemirror_mode": {
    "name": "ipython",
    "version": 3
   },
   "file_extension": ".py",
   "mimetype": "text/x-python",
   "name": "python",
   "nbconvert_exporter": "python",
   "pygments_lexer": "ipython3",
   "version": "3.7.4"
  }
 },
 "nbformat": 4,
 "nbformat_minor": 2
}
