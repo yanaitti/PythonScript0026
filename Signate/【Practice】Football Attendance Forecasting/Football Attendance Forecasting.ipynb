{
 "cells": [
  {
   "cell_type": "code",
   "execution_count": 1,
   "metadata": {},
   "outputs": [],
   "source": [
    "import pandas as pd\n",
    "import numpy as np\n",
    "from matplotlib import pyplot as plt\n",
    "%matplotlib inline\n",
    "from sklearn.linear_model import LinearRegression as LR"
   ]
  },
  {
   "cell_type": "code",
   "execution_count": 2,
   "metadata": {},
   "outputs": [],
   "source": [
    "train = pd.read_csv('train.csv')\n",
    "train_add = pd.read_csv('train_add.csv')\n",
    "test = pd.read_csv('test.csv')\n",
    "b2014_add = pd.read_csv('2014_add.csv')\n",
    "stadium = pd.read_csv('stadium.csv')\n",
    "condition = pd.read_csv('condition.csv')\n",
    "condition_add = pd.read_csv('condition_add.csv')"
   ]
  },
  {
   "cell_type": "code",
   "execution_count": 3,
   "metadata": {},
   "outputs": [
    {
     "name": "stdout",
     "output_type": "stream",
     "text": [
      "train: (1721, 11)\n",
      "train_add: (232, 11)\n",
      "test: (313, 10)\n",
      "2014_add: (38, 10)\n",
      "statium: (59, 3)\n",
      "condition: (2034, 31)\n",
      "condition_add: (270, 31)\n"
     ]
    }
   ],
   "source": [
    "print('train:', train.shape)\n",
    "print('train_add:', train_add.shape)\n",
    "\n",
    "print('test:', test.shape)\n",
    "print('2014_add:', b2014_add.shape)\n",
    "\n",
    "print('statium:', stadium.shape)\n",
    "print('condition:', condition.shape)\n",
    "print('condition_add:', condition_add.shape)"
   ]
  },
  {
   "cell_type": "code",
   "execution_count": 4,
   "metadata": {},
   "outputs": [
    {
     "name": "stdout",
     "output_type": "stream",
     "text": [
      "      id      y  year stage   match   gameday   time       home      away  \\\n",
      "0  13994  18250  2012    Ｊ１  第１節第１日  03/10(土)  14:04     ベガルタ仙台  鹿島アントラーズ   \n",
      "1  13995  24316  2012    Ｊ１  第１節第１日  03/10(土)  14:04   名古屋グランパス   清水エスパルス   \n",
      "2  13996  17066  2012    Ｊ１  第１節第１日  03/10(土)  14:04      ガンバ大阪   ヴィッセル神戸   \n",
      "3  13997  29603  2012    Ｊ１  第１節第１日  03/10(土)  14:06  サンフレッチェ広島     浦和レッズ   \n",
      "4  13998  25353  2012    Ｊ１  第１節第１日  03/10(土)  14:04   コンサドーレ札幌    ジュビロ磐田   \n",
      "\n",
      "        stadium                                  tv  \n",
      "0  ユアテックスタジアム仙台                 スカパー／ｅ２／スカパー光／ＮＨＫ総合  \n",
      "1       豊田スタジアム    スカパー／ｅ２／スカパー光（Ｊ　ＳＰＯＲＴＳ　４）／ＮＨＫ名古屋  \n",
      "2       万博記念競技場     スカパー／ｅ２／スカパー光（Ｊ　ＳＰＯＲＴＳ　１）／ＮＨＫ大阪  \n",
      "3  エディオンスタジアム広島                 スカパー／ｅ２／スカパー光／ＮＨＫ広島  \n",
      "4         札幌ドーム  スカパー／ｅ２／スカパー光（スカイ・Ａ　ｓｐｏｒｔｓ＋）／ＮＨＫ札幌  \n",
      "      id      y  year stage    match   gameday   time      home      away  \\\n",
      "0  14003  19010  2012    Ｊ１   第２節第１日  03/17(土)  14:04  鹿島アントラーズ  川崎フロンターレ   \n",
      "1  14020  15072  2012    Ｊ１   第３節第２日  03/25(日)  19:03     ガンバ大阪    ジュビロ磐田   \n",
      "2  14023  25743  2012    Ｊ１   第４節第１日  03/31(土)  15:03     浦和レッズ  川崎フロンターレ   \n",
      "3  14076  24183  2012    Ｊ１  第１０節第１日  05/06(日)  13:03  横浜Ｆ・マリノス  コンサドーレ札幌   \n",
      "4  14081  20512  2012    Ｊ１  第１０節第１日  05/06(日)  17:03  名古屋グランパス  川崎フロンターレ   \n",
      "\n",
      "          stadium                                   tv  \n",
      "0  県立カシマサッカースタジアム                  スカパー／ｅ２／スカパー光／ＮＨＫ水戸  \n",
      "1         万博記念競技場                        スカパー／ｅ２／スカパー光  \n",
      "2     埼玉スタジアム２００２                    スカパー／ｅ２／スカパー光／テレ玉  \n",
      "3         日産スタジアム                        スカパー／ｅ２／スカパー光  \n",
      "4         豊田スタジアム  スカパー／ｅ２／スカパー光（Ｊ　ＳＰＯＲＴＳ　４）／名古屋テレビ（録）  \n"
     ]
    }
   ],
   "source": [
    "print(train.head())\n",
    "print(train_add.head())"
   ]
  },
  {
   "cell_type": "code",
   "execution_count": 5,
   "metadata": {},
   "outputs": [
    {
     "name": "stdout",
     "output_type": "stream",
     "text": [
      "      id  year stage    match   gameday   time       home       away  \\\n",
      "0  15822  2014    Ｊ１  第１８節第１日  08/02(土)  19:04     ベガルタ仙台  大宮アルディージャ   \n",
      "1  15823  2014    Ｊ１  第１８節第１日  08/02(土)  18:34   鹿島アントラーズ  サンフレッチェ広島   \n",
      "2  15824  2014    Ｊ１  第１８節第１日  08/02(土)  19:04      浦和レッズ    ヴィッセル神戸   \n",
      "3  15825  2014    Ｊ１  第１８節第１日  08/02(土)  19:03      柏レイソル   川崎フロンターレ   \n",
      "4  15827  2014    Ｊ１  第１８節第１日  08/02(土)  19:03  アルビレックス新潟     セレッソ大阪   \n",
      "\n",
      "          stadium                                tv  \n",
      "0    ユアテックスタジアム仙台              スカパー！／スカパー！プレミアムサービス  \n",
      "1  県立カシマサッカースタジアム              スカパー！／スカパー！プレミアムサービス  \n",
      "2     埼玉スタジアム２００２  スカパー！／スカパー！プレミアムサービス／ＮＨＫ　ＢＳ１／テレ玉  \n",
      "3        日立柏サッカー場              スカパー！／スカパー！プレミアムサービス  \n",
      "4  デンカビッグスワンスタジアム              スカパー！／スカパー！プレミアムサービス  \n",
      "      id  year stage    match   gameday   time       home      away  \\\n",
      "0  15826  2014    Ｊ１  第１８節第１日  08/02(土)  18:34       ＦＣ東京   清水エスパルス   \n",
      "1  15835  2014    Ｊ１  第１９節第１日  08/09(土)  18:04    清水エスパルス  徳島ヴォルティス   \n",
      "2  15837  2014    Ｊ１  第１９節第１日  08/09(土)  19:04     セレッソ大阪      ＦＣ東京   \n",
      "3  15839  2014    Ｊ１  第１９節第２日  08/11(月)  19:04  サンフレッチェ広島     サガン鳥栖   \n",
      "4  15872  2014    Ｊ１  第２３節第１日  09/13(土)  19:04  アルビレックス新潟    ベガルタ仙台   \n",
      "\n",
      "          stadium                             tv  \n",
      "0        味の素スタジアム  スカパー！／スカパー！プレミアムサービス／ＴＯＫＹＯ　ＭＸ  \n",
      "1     ＩＡＩスタジアム日本平           スカパー！／スカパー！プレミアムサービス  \n",
      "2     ヤンマースタジアム長居           スカパー！／スカパー！プレミアムサービス  \n",
      "3    エディオンスタジアム広島           スカパー！／スカパー！プレミアムサービス  \n",
      "4  デンカビッグスワンスタジアム           スカパー！／スカパー！プレミアムサービス  \n"
     ]
    }
   ],
   "source": [
    "print(test.head())\n",
    "print(b2014_add.head())"
   ]
  },
  {
   "cell_type": "code",
   "execution_count": 6,
   "metadata": {
    "scrolled": true
   },
   "outputs": [],
   "source": [
    "# データ連結\n",
    "trainX = pd.concat([train, train_add])"
   ]
  },
  {
   "cell_type": "code",
   "execution_count": 7,
   "metadata": {},
   "outputs": [
    {
     "data": {
      "text/plain": [
       "(1953, 11)"
      ]
     },
     "execution_count": 7,
     "metadata": {},
     "output_type": "execute_result"
    }
   ],
   "source": [
    "trainX.shape"
   ]
  },
  {
   "cell_type": "code",
   "execution_count": 8,
   "metadata": {},
   "outputs": [],
   "source": [
    "testX = pd.concat([test, b2014_add])"
   ]
  },
  {
   "cell_type": "code",
   "execution_count": 9,
   "metadata": {},
   "outputs": [],
   "source": [
    "conditionX = pd.concat([condition, condition_add])"
   ]
  },
  {
   "cell_type": "code",
   "execution_count": 10,
   "metadata": {},
   "outputs": [
    {
     "name": "stdout",
     "output_type": "stream",
     "text": [
      "<class 'pandas.core.frame.DataFrame'>\n",
      "Int64Index: 1953 entries, 0 to 231\n",
      "Data columns (total 11 columns):\n",
      " #   Column   Non-Null Count  Dtype \n",
      "---  ------   --------------  ----- \n",
      " 0   id       1953 non-null   int64 \n",
      " 1   y        1953 non-null   int64 \n",
      " 2   year     1953 non-null   int64 \n",
      " 3   stage    1953 non-null   object\n",
      " 4   match    1953 non-null   object\n",
      " 5   gameday  1953 non-null   object\n",
      " 6   time     1953 non-null   object\n",
      " 7   home     1953 non-null   object\n",
      " 8   away     1953 non-null   object\n",
      " 9   stadium  1953 non-null   object\n",
      " 10  tv       1953 non-null   object\n",
      "dtypes: int64(3), object(8)\n",
      "memory usage: 183.1+ KB\n",
      "None\n",
      "<class 'pandas.core.frame.DataFrame'>\n",
      "Int64Index: 2304 entries, 0 to 269\n",
      "Data columns (total 31 columns):\n",
      " #   Column       Non-Null Count  Dtype  \n",
      "---  ------       --------------  -----  \n",
      " 0   id           2304 non-null   int64  \n",
      " 1   home_score   2304 non-null   int64  \n",
      " 2   away_score   2304 non-null   int64  \n",
      " 3   weather      2304 non-null   object \n",
      " 4   temperature  2304 non-null   float64\n",
      " 5   humidity     2304 non-null   object \n",
      " 6   referee      2304 non-null   object \n",
      " 7   home_team    2304 non-null   object \n",
      " 8   home_01      2304 non-null   object \n",
      " 9   home_02      2304 non-null   object \n",
      " 10  home_03      2304 non-null   object \n",
      " 11  home_04      2304 non-null   object \n",
      " 12  home_05      2304 non-null   object \n",
      " 13  home_06      2304 non-null   object \n",
      " 14  home_07      2304 non-null   object \n",
      " 15  home_08      2304 non-null   object \n",
      " 16  home_09      2304 non-null   object \n",
      " 17  home_10      2304 non-null   object \n",
      " 18  home_11      2304 non-null   object \n",
      " 19  away_team    2304 non-null   object \n",
      " 20  away_01      2304 non-null   object \n",
      " 21  away_02      2304 non-null   object \n",
      " 22  away_03      2304 non-null   object \n",
      " 23  away_04      2304 non-null   object \n",
      " 24  away_05      2304 non-null   object \n",
      " 25  away_06      2304 non-null   object \n",
      " 26  away_07      2304 non-null   object \n",
      " 27  away_08      2304 non-null   object \n",
      " 28  away_09      2304 non-null   object \n",
      " 29  away_10      2304 non-null   object \n",
      " 30  away_11      2304 non-null   object \n",
      "dtypes: float64(1), int64(3), object(27)\n",
      "memory usage: 576.0+ KB\n",
      "None\n",
      "<class 'pandas.core.frame.DataFrame'>\n",
      "RangeIndex: 59 entries, 0 to 58\n",
      "Data columns (total 3 columns):\n",
      " #   Column   Non-Null Count  Dtype \n",
      "---  ------   --------------  ----- \n",
      " 0   name     59 non-null     object\n",
      " 1   address  59 non-null     object\n",
      " 2   capa     59 non-null     int64 \n",
      "dtypes: int64(1), object(2)\n",
      "memory usage: 1.5+ KB\n",
      "None\n"
     ]
    }
   ],
   "source": [
    "print(trainX.info())\n",
    "print(conditionX.info())\n",
    "print(stadium.info())"
   ]
  },
  {
   "cell_type": "code",
   "execution_count": 11,
   "metadata": {},
   "outputs": [
    {
     "name": "stdout",
     "output_type": "stream",
     "text": [
      "      id  home_score  away_score  weather  temperature humidity referee  \\\n",
      "0  13994           1           0        雨          3.8      66%   木村　博之   \n",
      "1  13995           1           0       屋内         12.4      43%   西村　雄一   \n",
      "2  13996           2           3     晴一時雨         11.3      41%   高山　啓義   \n",
      "3  13997           1           0  曇一時雨のち晴         11.4      52%    松尾　一   \n",
      "4  13998           0           0       屋内         22.5      32%    廣瀬　格   \n",
      "\n",
      "   home_team home_01 home_02  ... away_02   away_03        away_04 away_05  \\\n",
      "0     ベガルタ仙台    林　卓人   菅井　直樹  ...   新井場　徹     岩政　大樹          中田　浩二   アレックス   \n",
      "1   名古屋グランパス   楢﨑　正剛   田中　隼磨  ...    吉田　豊     岩下　敬輔  カルフィン　ヨン　ア　ピン    李　記帝   \n",
      "2      ガンバ大阪  藤ヶ谷　陽介    加地　亮  ...   近藤　岳登    北本　久仁衛         伊野波　雅彦   相馬　崇人   \n",
      "3  サンフレッチェ広島   西川　周作   森脇　良太  ...   濱田　水輝     阿部　勇樹          槙野　智章   平川　忠亮   \n",
      "4   コンサドーレ札幌    李　昊乗   高木　純平  ...   駒野　友一  チョ　ビョングク          藤田　義明   山本　脩斗   \n",
      "\n",
      "  away_06 away_07 away_08 away_09 away_10 away_11  \n",
      "0    青木　剛   増田　誓志  小笠原　満男   本山　雅志   大迫　勇也  ジュニーニョ  \n",
      "1   村松　大輔   河井　陽介   枝村　匠馬   高木　俊幸   アレックス   大前　元紀  \n",
      "2   三原　雅俊   田中　英雄   野沢　拓也   橋本　英郎   森岡　亮太  大久保　嘉人  \n",
      "3   鈴木　啓太   山田　直輝    梅崎　司   柏木　陽介   原口　元気   田中　達也  \n",
      "4   小林　裕紀   山本　康裕   山田　大記   松浦　拓弥    菅沼　実   前田　遼一  \n",
      "\n",
      "[5 rows x 31 columns]\n",
      "          name           address   capa\n",
      "0  名古屋市瑞穂陸上競技場  愛知県名古屋市瑞穂区山下通5-1  20000\n",
      "1      豊田スタジアム      愛知県豊田市千石町7-2  40000\n",
      "2    フクダ電子アリーナ  千葉県千葉市中央区川崎町1-20  18500\n",
      "3     日立柏サッカー場    千葉県柏市日立台1-2-50  15349\n",
      "4   ニンジニアスタジアム      愛媛県松山市上野町乙46  15576\n"
     ]
    }
   ],
   "source": [
    "print(conditionX.head())\n",
    "print(stadium.head())"
   ]
  },
  {
   "cell_type": "code",
   "execution_count": 12,
   "metadata": {},
   "outputs": [
    {
     "data": {
      "text/html": [
       "<div>\n",
       "<style scoped>\n",
       "    .dataframe tbody tr th:only-of-type {\n",
       "        vertical-align: middle;\n",
       "    }\n",
       "\n",
       "    .dataframe tbody tr th {\n",
       "        vertical-align: top;\n",
       "    }\n",
       "\n",
       "    .dataframe thead th {\n",
       "        text-align: right;\n",
       "    }\n",
       "</style>\n",
       "<table border=\"1\" class=\"dataframe\">\n",
       "  <thead>\n",
       "    <tr style=\"text-align: right;\">\n",
       "      <th></th>\n",
       "      <th>id</th>\n",
       "      <th>y</th>\n",
       "      <th>year</th>\n",
       "      <th>stage</th>\n",
       "      <th>match</th>\n",
       "      <th>gameday</th>\n",
       "      <th>time</th>\n",
       "      <th>home</th>\n",
       "      <th>away</th>\n",
       "      <th>stadium</th>\n",
       "      <th>tv</th>\n",
       "      <th>month</th>\n",
       "      <th>day</th>\n",
       "      <th>hour</th>\n",
       "    </tr>\n",
       "  </thead>\n",
       "  <tbody>\n",
       "    <tr>\n",
       "      <th>0</th>\n",
       "      <td>13994</td>\n",
       "      <td>18250</td>\n",
       "      <td>2012</td>\n",
       "      <td>Ｊ１</td>\n",
       "      <td>第１節第１日</td>\n",
       "      <td>03/10(土)</td>\n",
       "      <td>14:04</td>\n",
       "      <td>ベガルタ仙台</td>\n",
       "      <td>鹿島アントラーズ</td>\n",
       "      <td>ユアテックスタジアム仙台</td>\n",
       "      <td>スカパー／ｅ２／スカパー光／ＮＨＫ総合</td>\n",
       "      <td>03</td>\n",
       "      <td>10</td>\n",
       "      <td>14</td>\n",
       "    </tr>\n",
       "    <tr>\n",
       "      <th>1</th>\n",
       "      <td>13995</td>\n",
       "      <td>24316</td>\n",
       "      <td>2012</td>\n",
       "      <td>Ｊ１</td>\n",
       "      <td>第１節第１日</td>\n",
       "      <td>03/10(土)</td>\n",
       "      <td>14:04</td>\n",
       "      <td>名古屋グランパス</td>\n",
       "      <td>清水エスパルス</td>\n",
       "      <td>豊田スタジアム</td>\n",
       "      <td>スカパー／ｅ２／スカパー光（Ｊ　ＳＰＯＲＴＳ　４）／ＮＨＫ名古屋</td>\n",
       "      <td>03</td>\n",
       "      <td>10</td>\n",
       "      <td>14</td>\n",
       "    </tr>\n",
       "    <tr>\n",
       "      <th>2</th>\n",
       "      <td>13996</td>\n",
       "      <td>17066</td>\n",
       "      <td>2012</td>\n",
       "      <td>Ｊ１</td>\n",
       "      <td>第１節第１日</td>\n",
       "      <td>03/10(土)</td>\n",
       "      <td>14:04</td>\n",
       "      <td>ガンバ大阪</td>\n",
       "      <td>ヴィッセル神戸</td>\n",
       "      <td>万博記念競技場</td>\n",
       "      <td>スカパー／ｅ２／スカパー光（Ｊ　ＳＰＯＲＴＳ　１）／ＮＨＫ大阪</td>\n",
       "      <td>03</td>\n",
       "      <td>10</td>\n",
       "      <td>14</td>\n",
       "    </tr>\n",
       "    <tr>\n",
       "      <th>3</th>\n",
       "      <td>13997</td>\n",
       "      <td>29603</td>\n",
       "      <td>2012</td>\n",
       "      <td>Ｊ１</td>\n",
       "      <td>第１節第１日</td>\n",
       "      <td>03/10(土)</td>\n",
       "      <td>14:06</td>\n",
       "      <td>サンフレッチェ広島</td>\n",
       "      <td>浦和レッズ</td>\n",
       "      <td>エディオンスタジアム広島</td>\n",
       "      <td>スカパー／ｅ２／スカパー光／ＮＨＫ広島</td>\n",
       "      <td>03</td>\n",
       "      <td>10</td>\n",
       "      <td>14</td>\n",
       "    </tr>\n",
       "    <tr>\n",
       "      <th>4</th>\n",
       "      <td>13998</td>\n",
       "      <td>25353</td>\n",
       "      <td>2012</td>\n",
       "      <td>Ｊ１</td>\n",
       "      <td>第１節第１日</td>\n",
       "      <td>03/10(土)</td>\n",
       "      <td>14:04</td>\n",
       "      <td>コンサドーレ札幌</td>\n",
       "      <td>ジュビロ磐田</td>\n",
       "      <td>札幌ドーム</td>\n",
       "      <td>スカパー／ｅ２／スカパー光（スカイ・Ａ　ｓｐｏｒｔｓ＋）／ＮＨＫ札幌</td>\n",
       "      <td>03</td>\n",
       "      <td>10</td>\n",
       "      <td>14</td>\n",
       "    </tr>\n",
       "  </tbody>\n",
       "</table>\n",
       "</div>"
      ],
      "text/plain": [
       "      id      y  year stage   match   gameday   time       home      away  \\\n",
       "0  13994  18250  2012    Ｊ１  第１節第１日  03/10(土)  14:04     ベガルタ仙台  鹿島アントラーズ   \n",
       "1  13995  24316  2012    Ｊ１  第１節第１日  03/10(土)  14:04   名古屋グランパス   清水エスパルス   \n",
       "2  13996  17066  2012    Ｊ１  第１節第１日  03/10(土)  14:04      ガンバ大阪   ヴィッセル神戸   \n",
       "3  13997  29603  2012    Ｊ１  第１節第１日  03/10(土)  14:06  サンフレッチェ広島     浦和レッズ   \n",
       "4  13998  25353  2012    Ｊ１  第１節第１日  03/10(土)  14:04   コンサドーレ札幌    ジュビロ磐田   \n",
       "\n",
       "        stadium                                  tv month day hour  \n",
       "0  ユアテックスタジアム仙台                 スカパー／ｅ２／スカパー光／ＮＨＫ総合    03  10   14  \n",
       "1       豊田スタジアム    スカパー／ｅ２／スカパー光（Ｊ　ＳＰＯＲＴＳ　４）／ＮＨＫ名古屋    03  10   14  \n",
       "2       万博記念競技場     スカパー／ｅ２／スカパー光（Ｊ　ＳＰＯＲＴＳ　１）／ＮＨＫ大阪    03  10   14  \n",
       "3  エディオンスタジアム広島                 スカパー／ｅ２／スカパー光／ＮＨＫ広島    03  10   14  \n",
       "4         札幌ドーム  スカパー／ｅ２／スカパー光（スカイ・Ａ　ｓｐｏｒｔｓ＋）／ＮＨＫ札幌    03  10   14  "
      ]
     },
     "execution_count": 12,
     "metadata": {},
     "output_type": "execute_result"
    }
   ],
   "source": [
    "# 一つずつ整理していこう\n",
    "# 1. train\n",
    "trainX['month'] = trainX['gameday'].str[0:2]\n",
    "trainX['day'] = trainX['gameday'].str[3:5]\n",
    "trainX['hour'] = trainX['time'].str[0:2]\n",
    "\n",
    "trainX.head()"
   ]
  },
  {
   "cell_type": "code",
   "execution_count": 13,
   "metadata": {},
   "outputs": [
    {
     "data": {
      "text/plain": [
       "スカパー！／スカパー！プレミアムサービス                915\n",
       "スカパー／ｅ２／スカパー光                       379\n",
       "スカパー！／スカパー！プレミアムサービス／ＮＨＫ　ＢＳ１         57\n",
       "スカパー／ｅ２／スカパー光／ＮＨＫ　ＢＳ１                27\n",
       "スカパー／ｅ２／スカパー光（スカイ・Ａ　ｓｐｏｒｔｓ＋）         21\n",
       "                                   ... \n",
       "スカパー／ｅ２（録）／スカパー光／日本海テレビ               1\n",
       "スカパー！／スカパー！プレミアムサービス／ＮＨＫ長野／ＮＨＫ大分      1\n",
       "スカパー！／スカパー！プレミアムサービス／札幌テレビ            1\n",
       "スカパー／ｅ２／スカパー光／熊本放送                    1\n",
       "スカパー！／スカパー！プレミアムサービス／ＮＨＫ高松            1\n",
       "Name: tv, Length: 227, dtype: int64"
      ]
     },
     "execution_count": 13,
     "metadata": {},
     "output_type": "execute_result"
    }
   ],
   "source": [
    "trainX['tv'].value_counts()"
   ]
  },
  {
   "cell_type": "code",
   "execution_count": 14,
   "metadata": {},
   "outputs": [],
   "source": [
    "trainX['tv'] = trainX['tv'].str.replace('／', '/')"
   ]
  },
  {
   "cell_type": "code",
   "execution_count": 15,
   "metadata": {},
   "outputs": [],
   "source": [
    "aa = trainX['tv'].apply(lambda x : pd.get_dummies(x.split('/')))"
   ]
  },
  {
   "cell_type": "code",
   "execution_count": 16,
   "metadata": {},
   "outputs": [
    {
     "data": {
      "text/plain": [
       "0         スカパー  スカパー光  ＮＨＫ総合  ｅ２\n",
       "0     1      0      ...\n",
       "1         スカパー  スカパー光（Ｊ　ＳＰＯＲＴＳ　４）  ＮＨＫ名古屋  ｅ２\n",
       "0     1...\n",
       "2         スカパー  スカパー光（Ｊ　ＳＰＯＲＴＳ　１）  ＮＨＫ大阪  ｅ２\n",
       "0     1 ...\n",
       "3         スカパー  スカパー光  ＮＨＫ広島  ｅ２\n",
       "0     1      0      ...\n",
       "4         スカパー  スカパー光（スカイ・Ａ　ｓｐｏｒｔｓ＋）  ＮＨＫ札幌  ｅ２\n",
       "0    ...\n",
       "                             ...                        \n",
       "227       スカパー！  スカパー！プレミアムサービス\n",
       "0      1             ...\n",
       "228       スカパー！  スカパー！プレミアムサービス\n",
       "0      1             ...\n",
       "229       スカパー！  スカパー！プレミアムサービス\n",
       "0      1             ...\n",
       "230       スカパー！  スカパー！プレミアムサービス\n",
       "0      1             ...\n",
       "231       スカパー！  スカパー！プレミアムサービス\n",
       "0      1             ...\n",
       "Name: tv, Length: 1953, dtype: object"
      ]
     },
     "execution_count": 16,
     "metadata": {},
     "output_type": "execute_result"
    }
   ],
   "source": [
    "aa"
   ]
  },
  {
   "cell_type": "code",
   "execution_count": null,
   "metadata": {},
   "outputs": [],
   "source": []
  }
 ],
 "metadata": {
  "kernelspec": {
   "display_name": "Python 3",
   "language": "python",
   "name": "python3"
  },
  "language_info": {
   "codemirror_mode": {
    "name": "ipython",
    "version": 3
   },
   "file_extension": ".py",
   "mimetype": "text/x-python",
   "name": "python",
   "nbconvert_exporter": "python",
   "pygments_lexer": "ipython3",
   "version": "3.7.4"
  }
 },
 "nbformat": 4,
 "nbformat_minor": 2
}
