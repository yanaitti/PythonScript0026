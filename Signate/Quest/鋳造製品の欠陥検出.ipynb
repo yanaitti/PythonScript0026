{
 "cells": [
  {
   "cell_type": "markdown",
   "metadata": {},
   "source": [
    "ライブラリのインポートとデータの読み込み\n",
    "今回は画像データの読み込みと表示を行います。\n",
    "このQUESTで用いる主なライブラリは6種類で、主な用途は下記となります。\n",
    "\n",
    "no\tライブラリ名\t用途\n",
    "1\tnumpy\t数値計算を行うため\n",
    "2\tPIL\t画像処理を行うため\n",
    "3\tos\tファイルの場所を特定するため\n",
    "4\tmatplotlib\t画像を図としてプロットするため\n",
    "5\ttorch\t画像認識モデルを作成するため\n",
    "6\ttorchvision\tデータセットを作成するため\n",
    "まず、jpeg形式の画像データを1枚読み込んでみましょう。\n",
    "画像データを読み込む際には、Image.open()を用い、引数に読み込みたい画像のパスを指定します。\n",
    "ライブラリの名前はPillowですが、インポートするパッケージの名前はPIL(Python Image Library)なので注意しましょう。\n",
    "\n",
    "In [1]: from PIL import Image\n",
    "        im = Image.open('cast_ok_0_1057.jpeg')\n",
    "type()にて読み込んだデータの型を確認してみましょう。\n",
    "\n",
    "In [2]: type(im)\n",
    "\n",
    "Out[2]: PIL.JpegImagePlugin.JpegImageFile\n",
    "データのフォーマットは.format、サイズは.size、RGBなどのモードは.modeにて確認することができます。\n",
    "読み込んだデータのモードを確認してみましょう。\n",
    "\n",
    "In [3]: im.mode\n",
    "\n",
    "Out[3]: 'RGB'"
   ]
  },
  {
   "cell_type": "markdown",
   "metadata": {},
   "source": [
    "(1)読み込んだ画像データのフォーマットを出力してください。\n",
    "\n",
    "(2)読み込んだ画像データのサイズを出力してください。"
   ]
  },
  {
   "cell_type": "code",
   "execution_count": null,
   "metadata": {},
   "outputs": [],
   "source": [
    "# データの読み込み\n",
    "from PIL import Image\n",
    "im = Image.open('cast_ok_0_1057.jpeg')\n",
    "\n",
    "# Q1\n",
    "print(im.format)\n",
    "\n",
    "# Q2\n",
    "print(im.size)"
   ]
  },
  {
   "cell_type": "code",
   "execution_count": null,
   "metadata": {},
   "outputs": [],
   "source": []
  }
 ],
 "metadata": {
  "kernelspec": {
   "display_name": "Python 3",
   "language": "python",
   "name": "python3"
  },
  "language_info": {
   "codemirror_mode": {
    "name": "ipython",
    "version": 3
   },
   "file_extension": ".py",
   "mimetype": "text/x-python",
   "name": "python",
   "nbconvert_exporter": "python",
   "pygments_lexer": "ipython3",
   "version": "3.7.6"
  }
 },
 "nbformat": 4,
 "nbformat_minor": 4
}
