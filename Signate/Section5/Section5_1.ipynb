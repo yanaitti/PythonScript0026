{
 "cells": [
  {
   "cell_type": "markdown",
   "metadata": {},
   "source": [
    "# PART1 簡単な予測モデルを作ってみよう"
   ]
  },
  {
   "cell_type": "markdown",
   "metadata": {},
   "source": [
    "## おまじない"
   ]
  },
  {
   "cell_type": "code",
   "execution_count": 1,
   "metadata": {},
   "outputs": [],
   "source": [
    "import pandas as pd\n",
    "import numpy as np\n",
    "from matplotlib import pyplot as plt\n",
    "%matplotlib inline\n",
    "\n",
    "from sklearn.linear_model import LinearRegression as LR"
   ]
  },
  {
   "cell_type": "markdown",
   "metadata": {},
   "source": [
    "## データの読み込み\n",
    "- train.csvとtest.csvとsample.csvの３つのファイルを読み込みましょう\n",
    "- それぞれを読み込んだものは変数はtrain, test, sampleに代入しましょう\n",
    "- sampleを読み込む時は、header=Noneというオプションを忘れないようにしましょう"
   ]
  },
  {
   "cell_type": "code",
   "execution_count": 2,
   "metadata": {},
   "outputs": [],
   "source": [
    "train = pd.read_csv('train.csv')\n",
    "test = pd.read_csv('test.csv')\n",
    "sample = pd.read_csv('sample.csv', header=None)"
   ]
  },
  {
   "cell_type": "markdown",
   "metadata": {},
   "source": [
    "## trainの先頭行を見てみましょう"
   ]
  },
  {
   "cell_type": "code",
   "execution_count": 3,
   "metadata": {},
   "outputs": [
    {
     "data": {
      "text/html": [
       "<div>\n",
       "<style scoped>\n",
       "    .dataframe tbody tr th:only-of-type {\n",
       "        vertical-align: middle;\n",
       "    }\n",
       "\n",
       "    .dataframe tbody tr th {\n",
       "        vertical-align: top;\n",
       "    }\n",
       "\n",
       "    .dataframe thead th {\n",
       "        text-align: right;\n",
       "    }\n",
       "</style>\n",
       "<table border=\"1\" class=\"dataframe\">\n",
       "  <thead>\n",
       "    <tr style=\"text-align: right;\">\n",
       "      <th></th>\n",
       "      <th>datetime</th>\n",
       "      <th>y</th>\n",
       "      <th>week</th>\n",
       "      <th>soldout</th>\n",
       "      <th>name</th>\n",
       "      <th>kcal</th>\n",
       "      <th>remarks</th>\n",
       "      <th>event</th>\n",
       "      <th>payday</th>\n",
       "      <th>weather</th>\n",
       "      <th>precipitation</th>\n",
       "      <th>temperature</th>\n",
       "    </tr>\n",
       "  </thead>\n",
       "  <tbody>\n",
       "    <tr>\n",
       "      <th>0</th>\n",
       "      <td>2013-11-18</td>\n",
       "      <td>90</td>\n",
       "      <td>月</td>\n",
       "      <td>0</td>\n",
       "      <td>厚切りイカフライ</td>\n",
       "      <td>NaN</td>\n",
       "      <td>NaN</td>\n",
       "      <td>NaN</td>\n",
       "      <td>NaN</td>\n",
       "      <td>快晴</td>\n",
       "      <td>--</td>\n",
       "      <td>19.8</td>\n",
       "    </tr>\n",
       "    <tr>\n",
       "      <th>1</th>\n",
       "      <td>2013-11-19</td>\n",
       "      <td>101</td>\n",
       "      <td>火</td>\n",
       "      <td>1</td>\n",
       "      <td>手作りヒレカツ</td>\n",
       "      <td>NaN</td>\n",
       "      <td>NaN</td>\n",
       "      <td>NaN</td>\n",
       "      <td>NaN</td>\n",
       "      <td>快晴</td>\n",
       "      <td>--</td>\n",
       "      <td>17.0</td>\n",
       "    </tr>\n",
       "    <tr>\n",
       "      <th>2</th>\n",
       "      <td>2013-11-20</td>\n",
       "      <td>118</td>\n",
       "      <td>水</td>\n",
       "      <td>0</td>\n",
       "      <td>白身魚唐揚げ野菜あん</td>\n",
       "      <td>NaN</td>\n",
       "      <td>NaN</td>\n",
       "      <td>NaN</td>\n",
       "      <td>NaN</td>\n",
       "      <td>快晴</td>\n",
       "      <td>--</td>\n",
       "      <td>15.5</td>\n",
       "    </tr>\n",
       "    <tr>\n",
       "      <th>3</th>\n",
       "      <td>2013-11-21</td>\n",
       "      <td>120</td>\n",
       "      <td>木</td>\n",
       "      <td>1</td>\n",
       "      <td>若鶏ピリ辛焼</td>\n",
       "      <td>NaN</td>\n",
       "      <td>NaN</td>\n",
       "      <td>NaN</td>\n",
       "      <td>NaN</td>\n",
       "      <td>快晴</td>\n",
       "      <td>--</td>\n",
       "      <td>15.2</td>\n",
       "    </tr>\n",
       "    <tr>\n",
       "      <th>4</th>\n",
       "      <td>2013-11-22</td>\n",
       "      <td>130</td>\n",
       "      <td>金</td>\n",
       "      <td>1</td>\n",
       "      <td>ビッグメンチカツ</td>\n",
       "      <td>NaN</td>\n",
       "      <td>NaN</td>\n",
       "      <td>NaN</td>\n",
       "      <td>NaN</td>\n",
       "      <td>快晴</td>\n",
       "      <td>--</td>\n",
       "      <td>16.1</td>\n",
       "    </tr>\n",
       "  </tbody>\n",
       "</table>\n",
       "</div>"
      ],
      "text/plain": [
       "     datetime    y week  soldout        name  kcal remarks event  payday  \\\n",
       "0  2013-11-18   90    月        0    厚切りイカフライ   NaN     NaN   NaN     NaN   \n",
       "1  2013-11-19  101    火        1     手作りヒレカツ   NaN     NaN   NaN     NaN   \n",
       "2  2013-11-20  118    水        0  白身魚唐揚げ野菜あん   NaN     NaN   NaN     NaN   \n",
       "3  2013-11-21  120    木        1      若鶏ピリ辛焼   NaN     NaN   NaN     NaN   \n",
       "4  2013-11-22  130    金        1    ビッグメンチカツ   NaN     NaN   NaN     NaN   \n",
       "\n",
       "  weather precipitation  temperature  \n",
       "0      快晴            --         19.8  \n",
       "1      快晴            --         17.0  \n",
       "2      快晴            --         15.5  \n",
       "3      快晴            --         15.2  \n",
       "4      快晴            --         16.1  "
      ]
     },
     "execution_count": 3,
     "metadata": {},
     "output_type": "execute_result"
    }
   ],
   "source": [
    "train.head()"
   ]
  },
  {
   "cell_type": "markdown",
   "metadata": {},
   "source": [
    "## trainから説明変数と目的変数となるデータを取り出しましょう\n",
    "- 説明変数はtrainからtemperatureを選択し、変数名をtrainXとして代入しましょう\n",
    "- 目的変数はtrainからyを選択し、変数名をyとして代入しましょう"
   ]
  },
  {
   "cell_type": "code",
   "execution_count": 7,
   "metadata": {},
   "outputs": [],
   "source": [
    "trainX = train['temperature']\n",
    "y = train['y']"
   ]
  },
  {
   "cell_type": "markdown",
   "metadata": {},
   "source": [
    "## testから説明変数となるデータを取り出しましょう\n",
    "- 説明変数はtrainと同じtemperatureを選択し、変数名をtestXとして代入しましょう"
   ]
  },
  {
   "cell_type": "code",
   "execution_count": 8,
   "metadata": {},
   "outputs": [],
   "source": [
    "testX = test['temperature']"
   ]
  },
  {
   "cell_type": "markdown",
   "metadata": {},
   "source": [
    "## 単回帰の場合のみ、説明変数に対しておまじないが必要となります\n",
    "- 単回帰の場合はややこしいですが、train,testの説明変数ともに、データの形を整える必要があります\n",
    "- 具体的にはvalues.reshape(-1,1)というおまじないをします\n",
    "- 整えた後、再び変数Xに代入します"
   ]
  },
  {
   "cell_type": "code",
   "execution_count": 9,
   "metadata": {},
   "outputs": [
    {
     "data": {
      "text/plain": [
       "0      19.8\n",
       "1      17.0\n",
       "2      15.5\n",
       "3      15.2\n",
       "4      16.1\n",
       "       ... \n",
       "202    24.8\n",
       "203    25.4\n",
       "204    27.1\n",
       "205    26.6\n",
       "206    28.1\n",
       "Name: temperature, Length: 207, dtype: float64"
      ]
     },
     "execution_count": 9,
     "metadata": {},
     "output_type": "execute_result"
    }
   ],
   "source": [
    "trainX"
   ]
  },
  {
   "cell_type": "code",
   "execution_count": 10,
   "metadata": {},
   "outputs": [],
   "source": [
    "trainX = trainX.values.reshape(-1, 1)\n",
    "testX = testX.values.reshape(-1, 1)"
   ]
  },
  {
   "cell_type": "code",
   "execution_count": 11,
   "metadata": {},
   "outputs": [
    {
     "data": {
      "text/plain": [
       "array([[19.8],\n",
       "       [17. ],\n",
       "       [15.5],\n",
       "       [15.2],\n",
       "       [16.1],\n",
       "       [14.6],\n",
       "       [17.9],\n",
       "       [14.7],\n",
       "       [17.7],\n",
       "       [12.1],\n",
       "       [13.8],\n",
       "       [13.9],\n",
       "       [13.5],\n",
       "       [13.8],\n",
       "       [14.9],\n",
       "       [ 9.1],\n",
       "       [ 7.1],\n",
       "       [11. ],\n",
       "       [12.3],\n",
       "       [13.9],\n",
       "       [11.3],\n",
       "       [10.8],\n",
       "       [ 7.8],\n",
       "       [ 6.8],\n",
       "       [ 8.4],\n",
       "       [11.5],\n",
       "       [ 8. ],\n",
       "       [ 7.3],\n",
       "       [ 7.3],\n",
       "       [ 9.8],\n",
       "       [10.9],\n",
       "       [ 5.1],\n",
       "       [ 5.8],\n",
       "       [ 2.9],\n",
       "       [ 7. ],\n",
       "       [ 7.8],\n",
       "       [ 6.5],\n",
       "       [10.4],\n",
       "       [ 7.4],\n",
       "       [ 8.5],\n",
       "       [10.1],\n",
       "       [ 5.1],\n",
       "       [12.6],\n",
       "       [10.3],\n",
       "       [15.3],\n",
       "       [14.1],\n",
       "       [15.9],\n",
       "       [ 3.8],\n",
       "       [ 3. ],\n",
       "       [ 4.2],\n",
       "       [ 5.5],\n",
       "       [ 7.8],\n",
       "       [ 6.3],\n",
       "       [ 6.4],\n",
       "       [ 1.2],\n",
       "       [11.6],\n",
       "       [ 6.8],\n",
       "       [ 7.3],\n",
       "       [ 5.4],\n",
       "       [ 8.5],\n",
       "       [ 6.6],\n",
       "       [10.5],\n",
       "       [11.5],\n",
       "       [ 8.5],\n",
       "       [17.7],\n",
       "       [ 7.8],\n",
       "       [ 8.3],\n",
       "       [ 6.1],\n",
       "       [ 6.7],\n",
       "       [ 7. ],\n",
       "       [ 7.6],\n",
       "       [ 8.7],\n",
       "       [14.8],\n",
       "       [15.2],\n",
       "       [11.5],\n",
       "       [14. ],\n",
       "       [18.9],\n",
       "       [12.6],\n",
       "       [ 7.5],\n",
       "       [17.4],\n",
       "       [18.9],\n",
       "       [18.7],\n",
       "       [12.4],\n",
       "       [18.5],\n",
       "       [17.5],\n",
       "       [16.1],\n",
       "       [18.2],\n",
       "       [14.3],\n",
       "       [17.8],\n",
       "       [13.8],\n",
       "       [20.1],\n",
       "       [19. ],\n",
       "       [21.3],\n",
       "       [16.5],\n",
       "       [16.4],\n",
       "       [19.7],\n",
       "       [21.5],\n",
       "       [20.1],\n",
       "       [11.4],\n",
       "       [16.4],\n",
       "       [18.8],\n",
       "       [19.4],\n",
       "       [19.9],\n",
       "       [20.8],\n",
       "       [22.7],\n",
       "       [17.5],\n",
       "       [24. ],\n",
       "       [23.3],\n",
       "       [18.9],\n",
       "       [21. ],\n",
       "       [23.4],\n",
       "       [22.7],\n",
       "       [18.6],\n",
       "       [26. ],\n",
       "       [19.3],\n",
       "       [23.8],\n",
       "       [22.8],\n",
       "       [23.9],\n",
       "       [17.4],\n",
       "       [19. ],\n",
       "       [19.8],\n",
       "       [23.9],\n",
       "       [23.7],\n",
       "       [25.7],\n",
       "       [26. ],\n",
       "       [26.9],\n",
       "       [30.6],\n",
       "       [27. ],\n",
       "       [27.5],\n",
       "       [21.5],\n",
       "       [19.9],\n",
       "       [25. ],\n",
       "       [25.5],\n",
       "       [22.3],\n",
       "       [21.3],\n",
       "       [29.5],\n",
       "       [28.1],\n",
       "       [27.6],\n",
       "       [21.9],\n",
       "       [27.5],\n",
       "       [26.5],\n",
       "       [26.9],\n",
       "       [23.7],\n",
       "       [25.2],\n",
       "       [25.2],\n",
       "       [25.4],\n",
       "       [25.5],\n",
       "       [28.3],\n",
       "       [28.8],\n",
       "       [27. ],\n",
       "       [22.1],\n",
       "       [24. ],\n",
       "       [29.7],\n",
       "       [24.6],\n",
       "       [28.8],\n",
       "       [33.9],\n",
       "       [30.9],\n",
       "       [30.3],\n",
       "       [30.9],\n",
       "       [30.1],\n",
       "       [25.6],\n",
       "       [30.2],\n",
       "       [32. ],\n",
       "       [32.5],\n",
       "       [33.6],\n",
       "       [28.9],\n",
       "       [30.4],\n",
       "       [30.6],\n",
       "       [32.5],\n",
       "       [32.7],\n",
       "       [32.7],\n",
       "       [34.3],\n",
       "       [34.6],\n",
       "       [32.1],\n",
       "       [31.1],\n",
       "       [32.4],\n",
       "       [29.4],\n",
       "       [32.2],\n",
       "       [33.3],\n",
       "       [33.3],\n",
       "       [33. ],\n",
       "       [33.1],\n",
       "       [26. ],\n",
       "       [26.2],\n",
       "       [21. ],\n",
       "       [21.6],\n",
       "       [25.1],\n",
       "       [23.4],\n",
       "       [29.1],\n",
       "       [26.7],\n",
       "       [26.5],\n",
       "       [30.2],\n",
       "       [23.1],\n",
       "       [26.8],\n",
       "       [25. ],\n",
       "       [21.9],\n",
       "       [27.3],\n",
       "       [28.8],\n",
       "       [25. ],\n",
       "       [24.1],\n",
       "       [23.6],\n",
       "       [25.2],\n",
       "       [24.8],\n",
       "       [25.4],\n",
       "       [27.1],\n",
       "       [26.6],\n",
       "       [28.1]])"
      ]
     },
     "execution_count": 11,
     "metadata": {},
     "output_type": "execute_result"
    }
   ],
   "source": [
    "trainX"
   ]
  },
  {
   "cell_type": "markdown",
   "metadata": {},
   "source": [
    "## 回帰のモデルの箱を用意しましょう\n",
    "- モデルを作る為にはまず、モデルを表す箱が必ず必要になります\n",
    "- 変数名をmodel1として、LR()を代入しましょう"
   ]
  },
  {
   "cell_type": "code",
   "execution_count": 12,
   "metadata": {},
   "outputs": [],
   "source": [
    "model1 = LR()"
   ]
  },
  {
   "cell_type": "markdown",
   "metadata": {},
   "source": [
    "## 単回帰モデルを作りましょう\n",
    "- fit関数を使います\n",
    "- カッコの中に、説明変数、目的変数の順番に書きます"
   ]
  },
  {
   "cell_type": "code",
   "execution_count": 13,
   "metadata": {},
   "outputs": [
    {
     "data": {
      "text/plain": [
       "LinearRegression(copy_X=True, fit_intercept=True, n_jobs=None, normalize=False)"
      ]
     },
     "execution_count": 13,
     "metadata": {},
     "output_type": "execute_result"
    }
   ],
   "source": [
    "model1.fit(trainX, y)"
   ]
  },
  {
   "cell_type": "markdown",
   "metadata": {},
   "source": [
    "## 作ったモデルの傾きや切片を確かめてみましょう\n",
    "- 傾きはcoef_を使います\n",
    "- 切片はintercept_を使います"
   ]
  },
  {
   "cell_type": "code",
   "execution_count": 14,
   "metadata": {},
   "outputs": [
    {
     "data": {
      "text/plain": [
       "array([-2.5023821])"
      ]
     },
     "execution_count": 14,
     "metadata": {},
     "output_type": "execute_result"
    }
   ],
   "source": [
    "model1.coef_"
   ]
  },
  {
   "cell_type": "code",
   "execution_count": 15,
   "metadata": {},
   "outputs": [
    {
     "data": {
      "text/plain": [
       "134.79948383749922"
      ]
     },
     "execution_count": 15,
     "metadata": {},
     "output_type": "execute_result"
    }
   ],
   "source": [
    "model1.intercept_"
   ]
  },
  {
   "cell_type": "markdown",
   "metadata": {},
   "source": [
    "## 予測をしましょう\n",
    "- predict関数を使います\n",
    "- 予測結果は変数predに代入しましょう"
   ]
  },
  {
   "cell_type": "code",
   "execution_count": 16,
   "metadata": {},
   "outputs": [],
   "source": [
    "pred = model1.predict(testX)"
   ]
  },
  {
   "cell_type": "code",
   "execution_count": 18,
   "metadata": {},
   "outputs": [
    {
     "data": {
      "text/plain": [
       "array([[20.2],\n",
       "       [23.9],\n",
       "       [28.7],\n",
       "       [21.5],\n",
       "       [22.1],\n",
       "       [23.3],\n",
       "       [22.5],\n",
       "       [26.1],\n",
       "       [26.8],\n",
       "       [15.6],\n",
       "       [18.6],\n",
       "       [23. ],\n",
       "       [23.9],\n",
       "       [20.2],\n",
       "       [15.5],\n",
       "       [14.7],\n",
       "       [18.7],\n",
       "       [22.7],\n",
       "       [19.1],\n",
       "       [19.6],\n",
       "       [19.6],\n",
       "       [18.8],\n",
       "       [18.9],\n",
       "       [16. ],\n",
       "       [19.2],\n",
       "       [20.1],\n",
       "       [21.2],\n",
       "       [14.7],\n",
       "       [14.4],\n",
       "       [19.5],\n",
       "       [15.8],\n",
       "       [14.3],\n",
       "       [16.1],\n",
       "       [14.9],\n",
       "       [10.5],\n",
       "       [14.9],\n",
       "       [11.4],\n",
       "       [ 9.2],\n",
       "       [15.1],\n",
       "       [15.3]])"
      ]
     },
     "execution_count": 18,
     "metadata": {},
     "output_type": "execute_result"
    }
   ],
   "source": [
    "testX"
   ]
  },
  {
   "cell_type": "code",
   "execution_count": 17,
   "metadata": {},
   "outputs": [
    {
     "data": {
      "text/plain": [
       "array([ 84.25136537,  74.99255159,  62.9811175 ,  80.99826864,\n",
       "        79.49683938,  76.49398085,  78.49588653,  69.48731097,\n",
       "        67.73564349,  95.76232304,  88.25517673,  77.24469548,\n",
       "        74.99255159,  84.25136537,  96.01256125,  98.01446693,\n",
       "        88.00493852,  77.99541011,  87.00398568,  85.75279463,\n",
       "        85.75279463,  87.75470031,  87.5044621 ,  94.7613702 ,\n",
       "        86.75374747,  84.50160358,  81.74898327,  98.01446693,\n",
       "        98.76518156,  86.00303284,  95.26184662,  99.01541977,\n",
       "        94.51113199,  97.51399051, 108.52447176,  97.51399051,\n",
       "       106.27232787, 111.7775685 ,  97.01351409,  96.51303767])"
      ]
     },
     "execution_count": 17,
     "metadata": {},
     "output_type": "execute_result"
    }
   ],
   "source": [
    "pred"
   ]
  },
  {
   "cell_type": "markdown",
   "metadata": {},
   "source": [
    "## sampleの中身を確認してみましょう"
   ]
  },
  {
   "cell_type": "code",
   "execution_count": null,
   "metadata": {
    "collapsed": true
   },
   "outputs": [],
   "source": []
  },
  {
   "cell_type": "markdown",
   "metadata": {},
   "source": [
    "## sample[1]に予測結果を代入しましょう"
   ]
  },
  {
   "cell_type": "code",
   "execution_count": null,
   "metadata": {
    "collapsed": true
   },
   "outputs": [],
   "source": []
  },
  {
   "cell_type": "code",
   "execution_count": null,
   "metadata": {
    "collapsed": true
   },
   "outputs": [],
   "source": []
  },
  {
   "cell_type": "markdown",
   "metadata": {},
   "source": [
    "## sampleをファイルで書きだしましょう\n",
    "- to_csv関数を使います\n",
    "- オプションは３つあり、\"submit1.csv\", index=None, header=Noneを書きます"
   ]
  },
  {
   "cell_type": "code",
   "execution_count": null,
   "metadata": {
    "collapsed": true
   },
   "outputs": [],
   "source": []
  },
  {
   "cell_type": "markdown",
   "metadata": {},
   "source": [
    "# 実習\n",
    "1.説明変数をkcalとして、単回帰モデルを作ろう。まず、 trainとtestのkcalに欠損値があるかないか確認しよう\n",
    "- 本当に欠損があるかどうか、head関数を使って確認しよう"
   ]
  },
  {
   "cell_type": "code",
   "execution_count": 20,
   "metadata": {},
   "outputs": [
    {
     "data": {
      "text/plain": [
       "0   NaN\n",
       "1   NaN\n",
       "2   NaN\n",
       "3   NaN\n",
       "4   NaN\n",
       "Name: kcal, dtype: float64"
      ]
     },
     "execution_count": 20,
     "metadata": {},
     "output_type": "execute_result"
    }
   ],
   "source": [
    "train['kcal'].head()"
   ]
  },
  {
   "cell_type": "code",
   "execution_count": null,
   "metadata": {
    "collapsed": true
   },
   "outputs": [],
   "source": []
  },
  {
   "cell_type": "markdown",
   "metadata": {},
   "source": [
    "2.trainのkcalの平均値を求め、変数avgに代入しよう"
   ]
  },
  {
   "cell_type": "code",
   "execution_count": 25,
   "metadata": {},
   "outputs": [
    {
     "data": {
      "text/plain": [
       "404.4096385542169"
      ]
     },
     "execution_count": 25,
     "metadata": {},
     "output_type": "execute_result"
    }
   ],
   "source": [
    "avg = train['kcal'].mean()\n",
    "avg"
   ]
  },
  {
   "cell_type": "markdown",
   "metadata": {},
   "source": [
    "3.変数avgを使って、trainとtestのkcalの欠損値を補間し、それぞれを変数名trainXとtestXに代入してみよう"
   ]
  },
  {
   "cell_type": "code",
   "execution_count": 29,
   "metadata": {},
   "outputs": [
    {
     "data": {
      "text/plain": [
       "0      404.409639\n",
       "1      404.409639\n",
       "2      404.409639\n",
       "3      404.409639\n",
       "4      404.409639\n",
       "          ...    \n",
       "202    408.000000\n",
       "203    394.000000\n",
       "204    404.409639\n",
       "205    404.000000\n",
       "206    398.000000\n",
       "Name: kcal, Length: 207, dtype: float64"
      ]
     },
     "execution_count": 29,
     "metadata": {},
     "output_type": "execute_result"
    }
   ],
   "source": [
    "trainX = train['kcal'].fillna(avg)\n",
    "testX = test['kcal'].fillna(avg)\n",
    "trainX"
   ]
  },
  {
   "cell_type": "markdown",
   "metadata": {
    "collapsed": true
   },
   "source": [
    "4.trainXとtestXをvalues.reshape(-1,1)を使って形を整え、再びtrainX, testXへ代入しよう\n",
    "    1. 3番ではtrainXにはavgで補間されたtrain[\"kcal\"]が代入される\n",
    "    2. 4番では補間されたtrainXにおまじないをかけたものがtrainXに代入されることになる"
   ]
  },
  {
   "cell_type": "code",
   "execution_count": 30,
   "metadata": {},
   "outputs": [],
   "source": [
    "trainX = trainX.values.reshape(-1, 1)\n",
    "testX = testX.values.reshape(-1, 1)"
   ]
  },
  {
   "cell_type": "code",
   "execution_count": 31,
   "metadata": {},
   "outputs": [
    {
     "data": {
      "text/plain": [
       "array([[404.40963855],\n",
       "       [404.40963855],\n",
       "       [404.40963855],\n",
       "       [404.40963855],\n",
       "       [404.40963855],\n",
       "       [404.40963855],\n",
       "       [404.40963855],\n",
       "       [404.40963855],\n",
       "       [404.40963855],\n",
       "       [404.40963855],\n",
       "       [404.40963855],\n",
       "       [404.40963855],\n",
       "       [404.40963855],\n",
       "       [404.40963855],\n",
       "       [404.40963855],\n",
       "       [404.40963855],\n",
       "       [404.40963855],\n",
       "       [404.40963855],\n",
       "       [404.40963855],\n",
       "       [404.40963855],\n",
       "       [404.40963855],\n",
       "       [404.40963855],\n",
       "       [404.40963855],\n",
       "       [404.40963855],\n",
       "       [404.40963855],\n",
       "       [404.40963855],\n",
       "       [404.40963855],\n",
       "       [404.40963855],\n",
       "       [404.        ],\n",
       "       [462.        ],\n",
       "       [435.        ],\n",
       "       [440.        ],\n",
       "       [376.        ],\n",
       "       [450.        ],\n",
       "       [415.        ],\n",
       "       [430.        ],\n",
       "       [375.        ],\n",
       "       [447.        ],\n",
       "       [426.        ],\n",
       "       [400.        ],\n",
       "       [418.        ],\n",
       "       [415.        ],\n",
       "       [445.        ],\n",
       "       [450.        ],\n",
       "       [448.        ],\n",
       "       [460.        ],\n",
       "       [445.        ],\n",
       "       [430.        ],\n",
       "       [420.        ],\n",
       "       [435.        ],\n",
       "       [425.        ],\n",
       "       [423.        ],\n",
       "       [415.        ],\n",
       "       [438.        ],\n",
       "       [432.        ],\n",
       "       [416.        ],\n",
       "       [426.        ],\n",
       "       [405.        ],\n",
       "       [426.        ],\n",
       "       [410.        ],\n",
       "       [408.        ],\n",
       "       [396.        ],\n",
       "       [384.        ],\n",
       "       [436.        ],\n",
       "       [428.        ],\n",
       "       [407.        ],\n",
       "       [413.        ],\n",
       "       [393.        ],\n",
       "       [409.        ],\n",
       "       [396.        ],\n",
       "       [385.        ],\n",
       "       [397.        ],\n",
       "       [370.        ],\n",
       "       [372.        ],\n",
       "       [360.        ],\n",
       "       [382.        ],\n",
       "       [400.        ],\n",
       "       [392.        ],\n",
       "       [372.        ],\n",
       "       [350.        ],\n",
       "       [407.        ],\n",
       "       [392.        ],\n",
       "       [315.        ],\n",
       "       [404.40963855],\n",
       "       [349.        ],\n",
       "       [377.        ],\n",
       "       [380.        ],\n",
       "       [390.        ],\n",
       "       [350.        ],\n",
       "       [387.        ],\n",
       "       [353.        ],\n",
       "       [376.        ],\n",
       "       [362.        ],\n",
       "       [404.40963855],\n",
       "       [340.        ],\n",
       "       [370.        ],\n",
       "       [330.        ],\n",
       "       [333.        ],\n",
       "       [325.        ],\n",
       "       [375.        ],\n",
       "       [382.        ],\n",
       "       [340.        ],\n",
       "       [360.        ],\n",
       "       [404.40963855],\n",
       "       [342.        ],\n",
       "       [368.        ],\n",
       "       [415.        ],\n",
       "       [420.        ],\n",
       "       [415.        ],\n",
       "       [405.        ],\n",
       "       [434.        ],\n",
       "       [400.        ],\n",
       "       [428.        ],\n",
       "       [430.        ],\n",
       "       [403.        ],\n",
       "       [404.40963855],\n",
       "       [406.        ],\n",
       "       [425.        ],\n",
       "       [430.        ],\n",
       "       [428.        ],\n",
       "       [400.        ],\n",
       "       [430.        ],\n",
       "       [423.        ],\n",
       "       [414.        ],\n",
       "       [438.        ],\n",
       "       [404.40963855],\n",
       "       [420.        ],\n",
       "       [418.        ],\n",
       "       [424.        ],\n",
       "       [405.        ],\n",
       "       [430.        ],\n",
       "       [417.        ],\n",
       "       [426.        ],\n",
       "       [413.        ],\n",
       "       [440.        ],\n",
       "       [404.40963855],\n",
       "       [440.        ],\n",
       "       [427.        ],\n",
       "       [426.        ],\n",
       "       [430.        ],\n",
       "       [407.        ],\n",
       "       [421.        ],\n",
       "       [430.        ],\n",
       "       [420.        ],\n",
       "       [414.        ],\n",
       "       [404.40963855],\n",
       "       [435.        ],\n",
       "       [362.        ],\n",
       "       [363.        ],\n",
       "       [412.        ],\n",
       "       [432.        ],\n",
       "       [354.        ],\n",
       "       [370.        ],\n",
       "       [388.        ],\n",
       "       [386.        ],\n",
       "       [404.40963855],\n",
       "       [418.        ],\n",
       "       [324.        ],\n",
       "       [434.        ],\n",
       "       [418.        ],\n",
       "       [401.        ],\n",
       "       [409.        ],\n",
       "       [355.        ],\n",
       "       [410.        ],\n",
       "       [404.40963855],\n",
       "       [432.        ],\n",
       "       [449.        ],\n",
       "       [441.        ],\n",
       "       [386.        ],\n",
       "       [380.        ],\n",
       "       [410.        ],\n",
       "       [400.        ],\n",
       "       [410.        ],\n",
       "       [415.        ],\n",
       "       [404.40963855],\n",
       "       [411.        ],\n",
       "       [400.        ],\n",
       "       [396.        ],\n",
       "       [385.        ],\n",
       "       [423.        ],\n",
       "       [405.        ],\n",
       "       [404.40963855],\n",
       "       [412.        ],\n",
       "       [400.        ],\n",
       "       [410.        ],\n",
       "       [396.        ],\n",
       "       [398.        ],\n",
       "       [380.        ],\n",
       "       [440.        ],\n",
       "       [408.        ],\n",
       "       [405.        ],\n",
       "       [380.        ],\n",
       "       [385.        ],\n",
       "       [460.        ],\n",
       "       [450.        ],\n",
       "       [385.        ],\n",
       "       [404.40963855],\n",
       "       [438.        ],\n",
       "       [430.        ],\n",
       "       [395.        ],\n",
       "       [400.        ],\n",
       "       [395.        ],\n",
       "       [408.        ],\n",
       "       [394.        ],\n",
       "       [404.40963855],\n",
       "       [404.        ],\n",
       "       [398.        ]])"
      ]
     },
     "execution_count": 31,
     "metadata": {},
     "output_type": "execute_result"
    }
   ],
   "source": [
    "trainX"
   ]
  },
  {
   "cell_type": "markdown",
   "metadata": {},
   "source": [
    "5.trainからyを取り出し、変数yに代入しよう"
   ]
  },
  {
   "cell_type": "code",
   "execution_count": 32,
   "metadata": {},
   "outputs": [],
   "source": [
    "y = train['y']"
   ]
  },
  {
   "cell_type": "markdown",
   "metadata": {
    "collapsed": true
   },
   "source": [
    "6.回帰モデルの箱を変数名model2として用意しよう"
   ]
  },
  {
   "cell_type": "code",
   "execution_count": 33,
   "metadata": {},
   "outputs": [],
   "source": [
    "model2 = LR()"
   ]
  },
  {
   "cell_type": "markdown",
   "metadata": {},
   "source": [
    "7.trainXとyを使って単回帰のモデルを作ろう"
   ]
  },
  {
   "cell_type": "code",
   "execution_count": 34,
   "metadata": {},
   "outputs": [
    {
     "data": {
      "text/plain": [
       "LinearRegression(copy_X=True, fit_intercept=True, n_jobs=None, normalize=False)"
      ]
     },
     "execution_count": 34,
     "metadata": {},
     "output_type": "execute_result"
    }
   ],
   "source": [
    "model2.fit(trainX, y)"
   ]
  },
  {
   "cell_type": "markdown",
   "metadata": {},
   "source": [
    "8.作ったモデルの傾きと切片を確認しよう"
   ]
  },
  {
   "cell_type": "code",
   "execution_count": 35,
   "metadata": {},
   "outputs": [
    {
     "data": {
      "text/plain": [
       "array([0.13195178])"
      ]
     },
     "execution_count": 35,
     "metadata": {},
     "output_type": "execute_result"
    }
   ],
   "source": [
    "model2.coef_"
   ]
  },
  {
   "cell_type": "code",
   "execution_count": 36,
   "metadata": {},
   "outputs": [
    {
     "data": {
      "text/plain": [
       "33.26061577029441"
      ]
     },
     "execution_count": 36,
     "metadata": {},
     "output_type": "execute_result"
    }
   ],
   "source": [
    "model2.intercept_"
   ]
  },
  {
   "cell_type": "markdown",
   "metadata": {},
   "source": [
    "9.testXを使って予測をし、予測値を変数pred2に代入しよう"
   ]
  },
  {
   "cell_type": "code",
   "execution_count": 37,
   "metadata": {},
   "outputs": [
    {
     "data": {
      "text/plain": [
       "array([88.68036439, 88.02060548, 86.70108765, 86.04132874, 89.99988221,\n",
       "       88.68036439, 90.65964112, 86.62318841, 87.096943  , 92.63891786,\n",
       "       86.04132874, 88.02060548, 89.47207508, 87.36084656, 88.02060548,\n",
       "       89.73597865, 86.62318841, 86.96499122, 89.3401233 , 89.99988221,\n",
       "       89.47207508, 90.79159291, 91.31940004, 89.3401233 , 87.36084656,\n",
       "       86.62318841, 87.62475013, 89.47207508, 88.41646082, 85.51352161,\n",
       "       89.60402686, 90.39573756, 87.22889478, 89.99988221, 88.81231617,\n",
       "       86.62318841, 93.95843568, 88.02060548, 88.68036439, 88.15255726])"
      ]
     },
     "execution_count": 37,
     "metadata": {},
     "output_type": "execute_result"
    }
   ],
   "source": [
    "model2.predict(testX)"
   ]
  },
  {
   "cell_type": "code",
   "execution_count": 41,
   "metadata": {},
   "outputs": [
    {
     "data": {
      "text/plain": [
       "[<matplotlib.lines.Line2D at 0x1f00188db48>]"
      ]
     },
     "execution_count": 41,
     "metadata": {},
     "output_type": "execute_result"
    },
    {
     "data": {
      "image/png": "[encoded data removed]",
      "text/plain": [
       "<Figure size 432x288 with 1 Axes>"
      ]
     },
     "metadata": {
      "needs_background": "light"
     },
     "output_type": "display_data"
    }
   ],
   "source": [
    "train.plot.scatter(x='kcal', y='y')\n",
    "plt.plot(trainX, model2.predict(trainX), color='red')"
   ]
  },
  {
   "cell_type": "code",
   "execution_count": 49,
   "metadata": {},
   "outputs": [
    {
     "data": {
      "text/plain": [
       "<matplotlib.collections.PathCollection at 0x1f001dd89c8>"
      ]
     },
     "execution_count": 49,
     "metadata": {},
     "output_type": "execute_result"
    },
    {
     "data": {
      "image/png": "[encoded data removed]",
      "text/plain": [
       "<Figure size 432x288 with 1 Axes>"
      ]
     },
     "metadata": {
      "needs_background": "light"
     },
     "output_type": "display_data"
    }
   ],
   "source": [
    "train.plot.scatter(x='kcal', y='y')\n",
    "#plt.plot(testX, model2.predict(testX), color='red')\n",
    "plt.plot(trainX, model2.predict(trainX), color='red')\n",
    "plt.scatter(x=testX, y=model2.predict(testX), color='green')"
   ]
  },
  {
   "cell_type": "markdown",
   "metadata": {},
   "source": [
    "10.sample[1]にpred2を代入しよう"
   ]
  },
  {
   "cell_type": "code",
   "execution_count": null,
   "metadata": {
    "collapsed": true
   },
   "outputs": [],
   "source": []
  },
  {
   "cell_type": "markdown",
   "metadata": {},
   "source": [
    "11.to_csv関数のindex=Noneがある時とない時の違い、header=Noneがある時とない時の違いは何かを考えてみよう"
   ]
  },
  {
   "cell_type": "markdown",
   "metadata": {},
   "source": [
    "12.sampleをファイル出力し、submit2.csvという投稿用ファイルを作ろう"
   ]
  },
  {
   "cell_type": "code",
   "execution_count": null,
   "metadata": {
    "collapsed": true
   },
   "outputs": [],
   "source": []
  },
  {
   "cell_type": "markdown",
   "metadata": {},
   "source": [
    "13.submit2.csvをDeepAnalyticsに投稿して、submit1.csvのスコアを比較してみよう"
   ]
  },
  {
   "cell_type": "code",
   "execution_count": 38,
   "metadata": {},
   "outputs": [
    {
     "data": {
      "text/plain": [
       "[<matplotlib.lines.Line2D at 0x1f07f8445c8>]"
      ]
     },
     "execution_count": 38,
     "metadata": {},
     "output_type": "execute_result"
    },
    {
     "data": {
      "image/png": "[encoded data removed]",
      "text/plain": [
       "<Figure size 432x288 with 1 Axes>"
      ]
     },
     "metadata": {
      "needs_background": "light"
     },
     "output_type": "display_data"
    }
   ],
   "source": [
    "train.plot.scatter(x='kcal', y='y')\n",
    "plt.plot(trainX, model2.predict(trainX), color='red')"
   ]
  },
  {
   "cell_type": "code",
   "execution_count": null,
   "metadata": {},
   "outputs": [],
   "source": []
  }
 ],
 "metadata": {
  "kernelspec": {
   "display_name": "Python 3",
   "language": "python",
   "name": "python3"
  },
  "language_info": {
   "codemirror_mode": {
    "name": "ipython",
    "version": 3
   },
   "file_extension": ".py",
   "mimetype": "text/x-python",
   "name": "python",
   "nbconvert_exporter": "python",
   "pygments_lexer": "ipython3",
   "version": "3.7.9"
  }
 },
 "nbformat": 4,
 "nbformat_minor": 2
}
