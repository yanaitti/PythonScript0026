{
 "cells": [
  {
   "cell_type": "code",
   "execution_count": 1,
   "metadata": {},
   "outputs": [],
   "source": [
    "import datetime\n",
    "import pandas as pd\n",
    "import numpy as np\n",
    "from matplotlib import pyplot as plt\n",
    "%matplotlib inline\n",
    "\n",
    "from sklearn.model_selection import cross_validate, GridSearchCV, train_test_split\n",
    "from sklearn.tree import DecisionTreeClassifier as DT\n",
    "from sklearn.ensemble import RandomForestClassifier as RF\n",
    "from lightgbm import LGBMClassifier\n",
    "from xgboost import XGBClassifier\n",
    "from sklearn.metrics import roc_auc_score\n",
    "\n",
    "from sklearn.tree import export_graphviz\n",
    "import pydotplus\n",
    "from IPython.display import Image"
   ]
  },
  {
   "cell_type": "code",
   "execution_count": 2,
   "metadata": {},
   "outputs": [],
   "source": [
    "train = pd.read_csv('train.csv', index_col=0)\n",
    "test = pd.read_csv('test.csv', index_col=0)\n",
    "sample = pd.read_csv('submit_sample.csv', header=None)"
   ]
  },
  {
   "cell_type": "code",
   "execution_count": 3,
   "metadata": {},
   "outputs": [],
   "source": [
    "dt_now = datetime.datetime.now()\n",
    "pred_list = {}"
   ]
  },
  {
   "cell_type": "code",
   "execution_count": 4,
   "metadata": {},
   "outputs": [],
   "source": [
    "test['y'] = -999"
   ]
  },
  {
   "cell_type": "code",
   "execution_count": 5,
   "metadata": {},
   "outputs": [
    {
     "data": {
      "text/html": [
       "<div>\n",
       "<style scoped>\n",
       "    .dataframe tbody tr th:only-of-type {\n",
       "        vertical-align: middle;\n",
       "    }\n",
       "\n",
       "    .dataframe tbody tr th {\n",
       "        vertical-align: top;\n",
       "    }\n",
       "\n",
       "    .dataframe thead th {\n",
       "        text-align: right;\n",
       "    }\n",
       "</style>\n",
       "<table border=\"1\" class=\"dataframe\">\n",
       "  <thead>\n",
       "    <tr style=\"text-align: right;\">\n",
       "      <th></th>\n",
       "      <th>age</th>\n",
       "      <th>job</th>\n",
       "      <th>marital</th>\n",
       "      <th>education</th>\n",
       "      <th>default</th>\n",
       "      <th>balance</th>\n",
       "      <th>housing</th>\n",
       "      <th>loan</th>\n",
       "      <th>contact</th>\n",
       "      <th>day</th>\n",
       "      <th>month</th>\n",
       "      <th>duration</th>\n",
       "      <th>campaign</th>\n",
       "      <th>pdays</th>\n",
       "      <th>previous</th>\n",
       "      <th>poutcome</th>\n",
       "      <th>y</th>\n",
       "    </tr>\n",
       "    <tr>\n",
       "      <th>id</th>\n",
       "      <th></th>\n",
       "      <th></th>\n",
       "      <th></th>\n",
       "      <th></th>\n",
       "      <th></th>\n",
       "      <th></th>\n",
       "      <th></th>\n",
       "      <th></th>\n",
       "      <th></th>\n",
       "      <th></th>\n",
       "      <th></th>\n",
       "      <th></th>\n",
       "      <th></th>\n",
       "      <th></th>\n",
       "      <th></th>\n",
       "      <th></th>\n",
       "      <th></th>\n",
       "    </tr>\n",
       "  </thead>\n",
       "  <tbody>\n",
       "    <tr>\n",
       "      <th>0</th>\n",
       "      <td>31</td>\n",
       "      <td>services</td>\n",
       "      <td>married</td>\n",
       "      <td>secondary</td>\n",
       "      <td>no</td>\n",
       "      <td>12294</td>\n",
       "      <td>yes</td>\n",
       "      <td>no</td>\n",
       "      <td>cellular</td>\n",
       "      <td>21</td>\n",
       "      <td>nov</td>\n",
       "      <td>101</td>\n",
       "      <td>3</td>\n",
       "      <td>498</td>\n",
       "      <td>0</td>\n",
       "      <td>other</td>\n",
       "      <td>0</td>\n",
       "    </tr>\n",
       "    <tr>\n",
       "      <th>1</th>\n",
       "      <td>29</td>\n",
       "      <td>entrepreneur</td>\n",
       "      <td>single</td>\n",
       "      <td>tertiary</td>\n",
       "      <td>no</td>\n",
       "      <td>43027</td>\n",
       "      <td>no</td>\n",
       "      <td>no</td>\n",
       "      <td>cellular</td>\n",
       "      <td>22</td>\n",
       "      <td>aug</td>\n",
       "      <td>158</td>\n",
       "      <td>2</td>\n",
       "      <td>702</td>\n",
       "      <td>0</td>\n",
       "      <td>unknown</td>\n",
       "      <td>1</td>\n",
       "    </tr>\n",
       "    <tr>\n",
       "      <th>2</th>\n",
       "      <td>35</td>\n",
       "      <td>management</td>\n",
       "      <td>married</td>\n",
       "      <td>tertiary</td>\n",
       "      <td>no</td>\n",
       "      <td>12252</td>\n",
       "      <td>yes</td>\n",
       "      <td>no</td>\n",
       "      <td>cellular</td>\n",
       "      <td>11</td>\n",
       "      <td>nov</td>\n",
       "      <td>351</td>\n",
       "      <td>1</td>\n",
       "      <td>826</td>\n",
       "      <td>0</td>\n",
       "      <td>failure</td>\n",
       "      <td>0</td>\n",
       "    </tr>\n",
       "    <tr>\n",
       "      <th>3</th>\n",
       "      <td>31</td>\n",
       "      <td>technician</td>\n",
       "      <td>married</td>\n",
       "      <td>secondary</td>\n",
       "      <td>no</td>\n",
       "      <td>99121</td>\n",
       "      <td>yes</td>\n",
       "      <td>yes</td>\n",
       "      <td>unknown</td>\n",
       "      <td>16</td>\n",
       "      <td>may</td>\n",
       "      <td>658</td>\n",
       "      <td>2</td>\n",
       "      <td>120</td>\n",
       "      <td>0</td>\n",
       "      <td>failure</td>\n",
       "      <td>0</td>\n",
       "    </tr>\n",
       "    <tr>\n",
       "      <th>4</th>\n",
       "      <td>48</td>\n",
       "      <td>unemployed</td>\n",
       "      <td>married</td>\n",
       "      <td>primary</td>\n",
       "      <td>no</td>\n",
       "      <td>42005</td>\n",
       "      <td>yes</td>\n",
       "      <td>no</td>\n",
       "      <td>telephone</td>\n",
       "      <td>3</td>\n",
       "      <td>apr</td>\n",
       "      <td>177</td>\n",
       "      <td>1</td>\n",
       "      <td>273</td>\n",
       "      <td>0</td>\n",
       "      <td>unknown</td>\n",
       "      <td>0</td>\n",
       "    </tr>\n",
       "    <tr>\n",
       "      <th>...</th>\n",
       "      <td>...</td>\n",
       "      <td>...</td>\n",
       "      <td>...</td>\n",
       "      <td>...</td>\n",
       "      <td>...</td>\n",
       "      <td>...</td>\n",
       "      <td>...</td>\n",
       "      <td>...</td>\n",
       "      <td>...</td>\n",
       "      <td>...</td>\n",
       "      <td>...</td>\n",
       "      <td>...</td>\n",
       "      <td>...</td>\n",
       "      <td>...</td>\n",
       "      <td>...</td>\n",
       "      <td>...</td>\n",
       "      <td>...</td>\n",
       "    </tr>\n",
       "    <tr>\n",
       "      <th>18045</th>\n",
       "      <td>49</td>\n",
       "      <td>self-employed</td>\n",
       "      <td>married</td>\n",
       "      <td>tertiary</td>\n",
       "      <td>no</td>\n",
       "      <td>98357</td>\n",
       "      <td>yes</td>\n",
       "      <td>no</td>\n",
       "      <td>cellular</td>\n",
       "      <td>6</td>\n",
       "      <td>jul</td>\n",
       "      <td>101</td>\n",
       "      <td>2</td>\n",
       "      <td>417</td>\n",
       "      <td>0</td>\n",
       "      <td>failure</td>\n",
       "      <td>-999</td>\n",
       "    </tr>\n",
       "    <tr>\n",
       "      <th>18046</th>\n",
       "      <td>34</td>\n",
       "      <td>blue-collar</td>\n",
       "      <td>married</td>\n",
       "      <td>secondary</td>\n",
       "      <td>no</td>\n",
       "      <td>29621</td>\n",
       "      <td>yes</td>\n",
       "      <td>no</td>\n",
       "      <td>cellular</td>\n",
       "      <td>12</td>\n",
       "      <td>may</td>\n",
       "      <td>345</td>\n",
       "      <td>1</td>\n",
       "      <td>815</td>\n",
       "      <td>0</td>\n",
       "      <td>unknown</td>\n",
       "      <td>-999</td>\n",
       "    </tr>\n",
       "    <tr>\n",
       "      <th>18047</th>\n",
       "      <td>34</td>\n",
       "      <td>admin.</td>\n",
       "      <td>single</td>\n",
       "      <td>secondary</td>\n",
       "      <td>no</td>\n",
       "      <td>94260</td>\n",
       "      <td>yes</td>\n",
       "      <td>no</td>\n",
       "      <td>unknown</td>\n",
       "      <td>16</td>\n",
       "      <td>may</td>\n",
       "      <td>121</td>\n",
       "      <td>2</td>\n",
       "      <td>370</td>\n",
       "      <td>0</td>\n",
       "      <td>unknown</td>\n",
       "      <td>-999</td>\n",
       "    </tr>\n",
       "    <tr>\n",
       "      <th>18048</th>\n",
       "      <td>31</td>\n",
       "      <td>technician</td>\n",
       "      <td>single</td>\n",
       "      <td>secondary</td>\n",
       "      <td>no</td>\n",
       "      <td>65483</td>\n",
       "      <td>yes</td>\n",
       "      <td>no</td>\n",
       "      <td>unknown</td>\n",
       "      <td>15</td>\n",
       "      <td>may</td>\n",
       "      <td>345</td>\n",
       "      <td>2</td>\n",
       "      <td>41</td>\n",
       "      <td>0</td>\n",
       "      <td>unknown</td>\n",
       "      <td>-999</td>\n",
       "    </tr>\n",
       "    <tr>\n",
       "      <th>18049</th>\n",
       "      <td>30</td>\n",
       "      <td>retired</td>\n",
       "      <td>married</td>\n",
       "      <td>primary</td>\n",
       "      <td>no</td>\n",
       "      <td>6474</td>\n",
       "      <td>no</td>\n",
       "      <td>no</td>\n",
       "      <td>cellular</td>\n",
       "      <td>13</td>\n",
       "      <td>aug</td>\n",
       "      <td>158</td>\n",
       "      <td>1</td>\n",
       "      <td>699</td>\n",
       "      <td>0</td>\n",
       "      <td>unknown</td>\n",
       "      <td>-999</td>\n",
       "    </tr>\n",
       "  </tbody>\n",
       "</table>\n",
       "<p>45150 rows × 17 columns</p>\n",
       "</div>"
      ],
      "text/plain": [
       "       age            job  marital  education default  balance housing loan  \\\n",
       "id                                                                            \n",
       "0       31       services  married  secondary      no    12294     yes   no   \n",
       "1       29   entrepreneur   single   tertiary      no    43027      no   no   \n",
       "2       35     management  married   tertiary      no    12252     yes   no   \n",
       "3       31     technician  married  secondary      no    99121     yes  yes   \n",
       "4       48     unemployed  married    primary      no    42005     yes   no   \n",
       "...    ...            ...      ...        ...     ...      ...     ...  ...   \n",
       "18045   49  self-employed  married   tertiary      no    98357     yes   no   \n",
       "18046   34    blue-collar  married  secondary      no    29621     yes   no   \n",
       "18047   34         admin.   single  secondary      no    94260     yes   no   \n",
       "18048   31     technician   single  secondary      no    65483     yes   no   \n",
       "18049   30        retired  married    primary      no     6474      no   no   \n",
       "\n",
       "         contact  day month  duration  campaign  pdays  previous poutcome    y  \n",
       "id                                                                              \n",
       "0       cellular   21   nov       101         3    498         0    other    0  \n",
       "1       cellular   22   aug       158         2    702         0  unknown    1  \n",
       "2       cellular   11   nov       351         1    826         0  failure    0  \n",
       "3        unknown   16   may       658         2    120         0  failure    0  \n",
       "4      telephone    3   apr       177         1    273         0  unknown    0  \n",
       "...          ...  ...   ...       ...       ...    ...       ...      ...  ...  \n",
       "18045   cellular    6   jul       101         2    417         0  failure -999  \n",
       "18046   cellular   12   may       345         1    815         0  unknown -999  \n",
       "18047    unknown   16   may       121         2    370         0  unknown -999  \n",
       "18048    unknown   15   may       345         2     41         0  unknown -999  \n",
       "18049   cellular   13   aug       158         1    699         0  unknown -999  \n",
       "\n",
       "[45150 rows x 17 columns]"
      ]
     },
     "execution_count": 5,
     "metadata": {},
     "output_type": "execute_result"
    }
   ],
   "source": [
    "all_df = pd.concat([train, test], axis=0)\n",
    "all_df"
   ]
  },
  {
   "cell_type": "code",
   "execution_count": 6,
   "metadata": {},
   "outputs": [
    {
     "data": {
      "text/plain": [
       "OneHotEncoder(cols=['job', 'marital', 'education', 'default', 'housing', 'loan',\n",
       "                    'contact', 'month', 'poutcome'],\n",
       "              handle_unknown='impute')"
      ]
     },
     "execution_count": 6,
     "metadata": {},
     "output_type": "execute_result"
    }
   ],
   "source": [
    "import category_encoders as ce\n",
    "ce_ohe = ce.OneHotEncoder(handle_unknown='impute')\n",
    "ce_ohe.fit(all_df)"
   ]
  },
  {
   "cell_type": "code",
   "execution_count": 7,
   "metadata": {},
   "outputs": [],
   "source": [
    "all_df = ce_ohe.transform(all_df)"
   ]
  },
  {
   "cell_type": "code",
   "execution_count": 8,
   "metadata": {},
   "outputs": [
    {
     "data": {
      "text/html": [
       "<div>\n",
       "<style scoped>\n",
       "    .dataframe tbody tr th:only-of-type {\n",
       "        vertical-align: middle;\n",
       "    }\n",
       "\n",
       "    .dataframe tbody tr th {\n",
       "        vertical-align: top;\n",
       "    }\n",
       "\n",
       "    .dataframe thead th {\n",
       "        text-align: right;\n",
       "    }\n",
       "</style>\n",
       "<table border=\"1\" class=\"dataframe\">\n",
       "  <thead>\n",
       "    <tr style=\"text-align: right;\">\n",
       "      <th></th>\n",
       "      <th>age</th>\n",
       "      <th>job_1</th>\n",
       "      <th>job_2</th>\n",
       "      <th>job_3</th>\n",
       "      <th>job_4</th>\n",
       "      <th>job_5</th>\n",
       "      <th>job_6</th>\n",
       "      <th>job_7</th>\n",
       "      <th>job_8</th>\n",
       "      <th>job_9</th>\n",
       "      <th>...</th>\n",
       "      <th>month_11</th>\n",
       "      <th>duration</th>\n",
       "      <th>campaign</th>\n",
       "      <th>pdays</th>\n",
       "      <th>previous</th>\n",
       "      <th>poutcome_1</th>\n",
       "      <th>poutcome_2</th>\n",
       "      <th>poutcome_3</th>\n",
       "      <th>poutcome_4</th>\n",
       "      <th>y</th>\n",
       "    </tr>\n",
       "    <tr>\n",
       "      <th>id</th>\n",
       "      <th></th>\n",
       "      <th></th>\n",
       "      <th></th>\n",
       "      <th></th>\n",
       "      <th></th>\n",
       "      <th></th>\n",
       "      <th></th>\n",
       "      <th></th>\n",
       "      <th></th>\n",
       "      <th></th>\n",
       "      <th></th>\n",
       "      <th></th>\n",
       "      <th></th>\n",
       "      <th></th>\n",
       "      <th></th>\n",
       "      <th></th>\n",
       "      <th></th>\n",
       "      <th></th>\n",
       "      <th></th>\n",
       "      <th></th>\n",
       "      <th></th>\n",
       "    </tr>\n",
       "  </thead>\n",
       "  <tbody>\n",
       "    <tr>\n",
       "      <th>0</th>\n",
       "      <td>31</td>\n",
       "      <td>1</td>\n",
       "      <td>0</td>\n",
       "      <td>0</td>\n",
       "      <td>0</td>\n",
       "      <td>0</td>\n",
       "      <td>0</td>\n",
       "      <td>0</td>\n",
       "      <td>0</td>\n",
       "      <td>0</td>\n",
       "      <td>...</td>\n",
       "      <td>0</td>\n",
       "      <td>101</td>\n",
       "      <td>3</td>\n",
       "      <td>498</td>\n",
       "      <td>0</td>\n",
       "      <td>1</td>\n",
       "      <td>0</td>\n",
       "      <td>0</td>\n",
       "      <td>0</td>\n",
       "      <td>0</td>\n",
       "    </tr>\n",
       "    <tr>\n",
       "      <th>1</th>\n",
       "      <td>29</td>\n",
       "      <td>0</td>\n",
       "      <td>1</td>\n",
       "      <td>0</td>\n",
       "      <td>0</td>\n",
       "      <td>0</td>\n",
       "      <td>0</td>\n",
       "      <td>0</td>\n",
       "      <td>0</td>\n",
       "      <td>0</td>\n",
       "      <td>...</td>\n",
       "      <td>0</td>\n",
       "      <td>158</td>\n",
       "      <td>2</td>\n",
       "      <td>702</td>\n",
       "      <td>0</td>\n",
       "      <td>0</td>\n",
       "      <td>1</td>\n",
       "      <td>0</td>\n",
       "      <td>0</td>\n",
       "      <td>1</td>\n",
       "    </tr>\n",
       "    <tr>\n",
       "      <th>2</th>\n",
       "      <td>35</td>\n",
       "      <td>0</td>\n",
       "      <td>0</td>\n",
       "      <td>1</td>\n",
       "      <td>0</td>\n",
       "      <td>0</td>\n",
       "      <td>0</td>\n",
       "      <td>0</td>\n",
       "      <td>0</td>\n",
       "      <td>0</td>\n",
       "      <td>...</td>\n",
       "      <td>0</td>\n",
       "      <td>351</td>\n",
       "      <td>1</td>\n",
       "      <td>826</td>\n",
       "      <td>0</td>\n",
       "      <td>0</td>\n",
       "      <td>0</td>\n",
       "      <td>1</td>\n",
       "      <td>0</td>\n",
       "      <td>0</td>\n",
       "    </tr>\n",
       "    <tr>\n",
       "      <th>3</th>\n",
       "      <td>31</td>\n",
       "      <td>0</td>\n",
       "      <td>0</td>\n",
       "      <td>0</td>\n",
       "      <td>1</td>\n",
       "      <td>0</td>\n",
       "      <td>0</td>\n",
       "      <td>0</td>\n",
       "      <td>0</td>\n",
       "      <td>0</td>\n",
       "      <td>...</td>\n",
       "      <td>0</td>\n",
       "      <td>658</td>\n",
       "      <td>2</td>\n",
       "      <td>120</td>\n",
       "      <td>0</td>\n",
       "      <td>0</td>\n",
       "      <td>0</td>\n",
       "      <td>1</td>\n",
       "      <td>0</td>\n",
       "      <td>0</td>\n",
       "    </tr>\n",
       "    <tr>\n",
       "      <th>4</th>\n",
       "      <td>48</td>\n",
       "      <td>0</td>\n",
       "      <td>0</td>\n",
       "      <td>0</td>\n",
       "      <td>0</td>\n",
       "      <td>1</td>\n",
       "      <td>0</td>\n",
       "      <td>0</td>\n",
       "      <td>0</td>\n",
       "      <td>0</td>\n",
       "      <td>...</td>\n",
       "      <td>0</td>\n",
       "      <td>177</td>\n",
       "      <td>1</td>\n",
       "      <td>273</td>\n",
       "      <td>0</td>\n",
       "      <td>0</td>\n",
       "      <td>1</td>\n",
       "      <td>0</td>\n",
       "      <td>0</td>\n",
       "      <td>0</td>\n",
       "    </tr>\n",
       "    <tr>\n",
       "      <th>...</th>\n",
       "      <td>...</td>\n",
       "      <td>...</td>\n",
       "      <td>...</td>\n",
       "      <td>...</td>\n",
       "      <td>...</td>\n",
       "      <td>...</td>\n",
       "      <td>...</td>\n",
       "      <td>...</td>\n",
       "      <td>...</td>\n",
       "      <td>...</td>\n",
       "      <td>...</td>\n",
       "      <td>...</td>\n",
       "      <td>...</td>\n",
       "      <td>...</td>\n",
       "      <td>...</td>\n",
       "      <td>...</td>\n",
       "      <td>...</td>\n",
       "      <td>...</td>\n",
       "      <td>...</td>\n",
       "      <td>...</td>\n",
       "      <td>...</td>\n",
       "    </tr>\n",
       "    <tr>\n",
       "      <th>18045</th>\n",
       "      <td>49</td>\n",
       "      <td>0</td>\n",
       "      <td>0</td>\n",
       "      <td>0</td>\n",
       "      <td>0</td>\n",
       "      <td>0</td>\n",
       "      <td>0</td>\n",
       "      <td>0</td>\n",
       "      <td>0</td>\n",
       "      <td>1</td>\n",
       "      <td>...</td>\n",
       "      <td>0</td>\n",
       "      <td>101</td>\n",
       "      <td>2</td>\n",
       "      <td>417</td>\n",
       "      <td>0</td>\n",
       "      <td>0</td>\n",
       "      <td>0</td>\n",
       "      <td>1</td>\n",
       "      <td>0</td>\n",
       "      <td>-999</td>\n",
       "    </tr>\n",
       "    <tr>\n",
       "      <th>18046</th>\n",
       "      <td>34</td>\n",
       "      <td>0</td>\n",
       "      <td>0</td>\n",
       "      <td>0</td>\n",
       "      <td>0</td>\n",
       "      <td>0</td>\n",
       "      <td>1</td>\n",
       "      <td>0</td>\n",
       "      <td>0</td>\n",
       "      <td>0</td>\n",
       "      <td>...</td>\n",
       "      <td>0</td>\n",
       "      <td>345</td>\n",
       "      <td>1</td>\n",
       "      <td>815</td>\n",
       "      <td>0</td>\n",
       "      <td>0</td>\n",
       "      <td>1</td>\n",
       "      <td>0</td>\n",
       "      <td>0</td>\n",
       "      <td>-999</td>\n",
       "    </tr>\n",
       "    <tr>\n",
       "      <th>18047</th>\n",
       "      <td>34</td>\n",
       "      <td>0</td>\n",
       "      <td>0</td>\n",
       "      <td>0</td>\n",
       "      <td>0</td>\n",
       "      <td>0</td>\n",
       "      <td>0</td>\n",
       "      <td>1</td>\n",
       "      <td>0</td>\n",
       "      <td>0</td>\n",
       "      <td>...</td>\n",
       "      <td>0</td>\n",
       "      <td>121</td>\n",
       "      <td>2</td>\n",
       "      <td>370</td>\n",
       "      <td>0</td>\n",
       "      <td>0</td>\n",
       "      <td>1</td>\n",
       "      <td>0</td>\n",
       "      <td>0</td>\n",
       "      <td>-999</td>\n",
       "    </tr>\n",
       "    <tr>\n",
       "      <th>18048</th>\n",
       "      <td>31</td>\n",
       "      <td>0</td>\n",
       "      <td>0</td>\n",
       "      <td>0</td>\n",
       "      <td>1</td>\n",
       "      <td>0</td>\n",
       "      <td>0</td>\n",
       "      <td>0</td>\n",
       "      <td>0</td>\n",
       "      <td>0</td>\n",
       "      <td>...</td>\n",
       "      <td>0</td>\n",
       "      <td>345</td>\n",
       "      <td>2</td>\n",
       "      <td>41</td>\n",
       "      <td>0</td>\n",
       "      <td>0</td>\n",
       "      <td>1</td>\n",
       "      <td>0</td>\n",
       "      <td>0</td>\n",
       "      <td>-999</td>\n",
       "    </tr>\n",
       "    <tr>\n",
       "      <th>18049</th>\n",
       "      <td>30</td>\n",
       "      <td>0</td>\n",
       "      <td>0</td>\n",
       "      <td>0</td>\n",
       "      <td>0</td>\n",
       "      <td>0</td>\n",
       "      <td>0</td>\n",
       "      <td>0</td>\n",
       "      <td>1</td>\n",
       "      <td>0</td>\n",
       "      <td>...</td>\n",
       "      <td>0</td>\n",
       "      <td>158</td>\n",
       "      <td>1</td>\n",
       "      <td>699</td>\n",
       "      <td>0</td>\n",
       "      <td>0</td>\n",
       "      <td>1</td>\n",
       "      <td>0</td>\n",
       "      <td>0</td>\n",
       "      <td>-999</td>\n",
       "    </tr>\n",
       "  </tbody>\n",
       "</table>\n",
       "<p>45150 rows × 51 columns</p>\n",
       "</div>"
      ],
      "text/plain": [
       "       age  job_1  job_2  job_3  job_4  job_5  job_6  job_7  job_8  job_9  \\\n",
       "id                                                                          \n",
       "0       31      1      0      0      0      0      0      0      0      0   \n",
       "1       29      0      1      0      0      0      0      0      0      0   \n",
       "2       35      0      0      1      0      0      0      0      0      0   \n",
       "3       31      0      0      0      1      0      0      0      0      0   \n",
       "4       48      0      0      0      0      1      0      0      0      0   \n",
       "...    ...    ...    ...    ...    ...    ...    ...    ...    ...    ...   \n",
       "18045   49      0      0      0      0      0      0      0      0      1   \n",
       "18046   34      0      0      0      0      0      1      0      0      0   \n",
       "18047   34      0      0      0      0      0      0      1      0      0   \n",
       "18048   31      0      0      0      1      0      0      0      0      0   \n",
       "18049   30      0      0      0      0      0      0      0      1      0   \n",
       "\n",
       "       ...  month_11  duration  campaign  pdays  previous  poutcome_1  \\\n",
       "id     ...                                                              \n",
       "0      ...         0       101         3    498         0           1   \n",
       "1      ...         0       158         2    702         0           0   \n",
       "2      ...         0       351         1    826         0           0   \n",
       "3      ...         0       658         2    120         0           0   \n",
       "4      ...         0       177         1    273         0           0   \n",
       "...    ...       ...       ...       ...    ...       ...         ...   \n",
       "18045  ...         0       101         2    417         0           0   \n",
       "18046  ...         0       345         1    815         0           0   \n",
       "18047  ...         0       121         2    370         0           0   \n",
       "18048  ...         0       345         2     41         0           0   \n",
       "18049  ...         0       158         1    699         0           0   \n",
       "\n",
       "       poutcome_2  poutcome_3  poutcome_4    y  \n",
       "id                                              \n",
       "0               0           0           0    0  \n",
       "1               1           0           0    1  \n",
       "2               0           1           0    0  \n",
       "3               0           1           0    0  \n",
       "4               1           0           0    0  \n",
       "...           ...         ...         ...  ...  \n",
       "18045           0           1           0 -999  \n",
       "18046           1           0           0 -999  \n",
       "18047           1           0           0 -999  \n",
       "18048           1           0           0 -999  \n",
       "18049           1           0           0 -999  \n",
       "\n",
       "[45150 rows x 51 columns]"
      ]
     },
     "execution_count": 8,
     "metadata": {},
     "output_type": "execute_result"
    }
   ],
   "source": [
    "all_df"
   ]
  },
  {
   "cell_type": "code",
   "execution_count": 9,
   "metadata": {},
   "outputs": [
    {
     "data": {
      "text/plain": [
       "((27100, 50), (27100,))"
      ]
     },
     "execution_count": 9,
     "metadata": {},
     "output_type": "execute_result"
    }
   ],
   "source": [
    "X = all_df[all_df['y'] != -999].drop('y', axis=1)\n",
    "y = all_df[all_df['y'] != -999]['y']\n",
    "X.shape, y.shape"
   ]
  },
  {
   "cell_type": "code",
   "execution_count": 10,
   "metadata": {},
   "outputs": [],
   "source": [
    "lgb_parameters = {\n",
    "    'learning_rate': [0.05],\n",
    "    'max_depth': [8],\n",
    "    'random_state': [0],\n",
    "}\n",
    "\n",
    "xgb_parameters = {\n",
    "    'eta': [0.1],\n",
    "    'max_depth': [5],\n",
    "    'random_state': [0],\n",
    "}\n",
    "\n",
    "# rf_parameters = {\n",
    "#     \"max_depth\": list(range(2, 11)),\n",
    "#     \"min_samples_split\": [2, 3, 10],\n",
    "#     \"min_samples_leaf\": [1, 3, 10],\n",
    "#     \"bootstrap\": [True, False],\n",
    "#     \"criterion\": [\"gini\", \"entropy\"],\n",
    "#     'random_state': [0],\n",
    "# }\n",
    "rf_parameters = {\n",
    "    'bootstrap': False,\n",
    "    'criterion': 'entropy',\n",
    "    'max_depth': 10,\n",
    "    'min_samples_leaf': 1,\n",
    "    'min_samples_split': 3,\n",
    "    'random_state': 0\n",
    "}\n",
    "\n",
    "\n",
    "# parameters3 = {\n",
    "#     'max_depth': list(range(2, 11)),\n",
    "#     'random_state': [0],\n",
    "# }\n",
    "\n",
    "# parameters = {\n",
    "#     'max_depth': list(range(2, 11)),\n",
    "#     'min_samples_leaf': [5,10,20,50,100,500],\n",
    "#     'objective' : ['binary', 'cross_entropy'],\n",
    "#     'learning_rate': [0.005, 0.05, 0.5, 0.1],\n",
    "#     'random_state': [0],\n",
    "#     'n_estimators': [1000],\n",
    "#     'n_estimators': [40, 100, 1000],\n",
    "#     'num_leaves': [6,8,12,16],\n",
    "#     'early_stopping_round': [10],\n",
    "# }"
   ]
  },
  {
   "cell_type": "markdown",
   "metadata": {},
   "source": [
    "## LightGBM"
   ]
  },
  {
   "cell_type": "code",
   "execution_count": 11,
   "metadata": {},
   "outputs": [
    {
     "data": {
      "text/plain": [
       "GridSearchCV(cv=5, estimator=LGBMClassifier(), n_jobs=-1,\n",
       "             param_grid={'learning_rate': [0.05], 'max_depth': [8],\n",
       "                         'random_state': [0]},\n",
       "             return_train_score=True, scoring='roc_auc')"
      ]
     },
     "execution_count": 11,
     "metadata": {},
     "output_type": "execute_result"
    }
   ],
   "source": [
    "lgb = LGBMClassifier()\n",
    "\n",
    "gcv = GridSearchCV(lgb, lgb_parameters, cv=5, scoring=\"roc_auc\", n_jobs=-1, return_train_score=True)\n",
    "gcv.fit(X, y)\n"
   ]
  },
  {
   "cell_type": "code",
   "execution_count": 12,
   "metadata": {},
   "outputs": [
    {
     "data": {
      "text/plain": [
       "{'learning_rate': 0.05, 'max_depth': 8, 'random_state': 0}"
      ]
     },
     "execution_count": 12,
     "metadata": {},
     "output_type": "execute_result"
    }
   ],
   "source": [
    "gcv.best_params_"
   ]
  },
  {
   "cell_type": "code",
   "execution_count": 13,
   "metadata": {
    "scrolled": false
   },
   "outputs": [
    {
     "data": {
      "text/plain": [
       "{'mean_fit_time': array([0.5743989]),\n",
       " 'std_fit_time': array([0.01834875]),\n",
       " 'mean_score_time': array([0.0783989]),\n",
       " 'std_score_time': array([0.00649792]),\n",
       " 'param_learning_rate': masked_array(data=[0.05],\n",
       "              mask=[False],\n",
       "        fill_value='?',\n",
       "             dtype=object),\n",
       " 'param_max_depth': masked_array(data=[8],\n",
       "              mask=[False],\n",
       "        fill_value='?',\n",
       "             dtype=object),\n",
       " 'param_random_state': masked_array(data=[0],\n",
       "              mask=[False],\n",
       "        fill_value='?',\n",
       "             dtype=object),\n",
       " 'params': [{'learning_rate': 0.05, 'max_depth': 8, 'random_state': 0}],\n",
       " 'split0_test_score': array([0.8383716]),\n",
       " 'split1_test_score': array([0.8598328]),\n",
       " 'split2_test_score': array([0.85070829]),\n",
       " 'split3_test_score': array([0.84153826]),\n",
       " 'split4_test_score': array([0.85828637]),\n",
       " 'mean_test_score': array([0.84974746]),\n",
       " 'std_test_score': array([0.00862961]),\n",
       " 'rank_test_score': array([1]),\n",
       " 'split0_train_score': array([0.91484125]),\n",
       " 'split1_train_score': array([0.91207546]),\n",
       " 'split2_train_score': array([0.91074274]),\n",
       " 'split3_train_score': array([0.91042457]),\n",
       " 'split4_train_score': array([0.90988378]),\n",
       " 'mean_train_score': array([0.91159356]),\n",
       " 'std_train_score': array([0.00177727])}"
      ]
     },
     "execution_count": 13,
     "metadata": {},
     "output_type": "execute_result"
    }
   ],
   "source": [
    "gcv.cv_results_"
   ]
  },
  {
   "cell_type": "code",
   "execution_count": 14,
   "metadata": {},
   "outputs": [
    {
     "name": "stdout",
     "output_type": "stream",
     "text": [
      "[0.91159356]\n",
      "[0.84974746]\n"
     ]
    }
   ],
   "source": [
    "train_score = gcv.cv_results_['mean_train_score']\n",
    "test_score = gcv.cv_results_['mean_test_score']\n",
    "print(train_score)\n",
    "print(test_score)"
   ]
  },
  {
   "cell_type": "code",
   "execution_count": 15,
   "metadata": {},
   "outputs": [
    {
     "data": {
      "text/plain": [
       "([<matplotlib.axis.XTick at 0x1eb27a63988>,\n",
       "  <matplotlib.axis.XTick at 0x1eb279f3f88>,\n",
       "  <matplotlib.axis.XTick at 0x1eb279f3b88>,\n",
       "  <matplotlib.axis.XTick at 0x1eb27ceed48>,\n",
       "  <matplotlib.axis.XTick at 0x1eb27cf6588>,\n",
       "  <matplotlib.axis.XTick at 0x1eb27cf6e48>,\n",
       "  <matplotlib.axis.XTick at 0x1eb27cfa948>,\n",
       "  <matplotlib.axis.XTick at 0x1eb27cf6248>,\n",
       "  <matplotlib.axis.XTick at 0x1eb27d00288>,\n",
       "  <matplotlib.axis.XTick at 0x1eb27d031c8>],\n",
       " <a list of 9 Text xticklabel objects>)"
      ]
     },
     "execution_count": 15,
     "metadata": {},
     "output_type": "execute_result"
    },
    {
     "data": {
      "image/png": "[encoded data removed]",
      "text/plain": [
       "<Figure size 432x288 with 1 Axes>"
      ]
     },
     "metadata": {
      "needs_background": "light"
     },
     "output_type": "display_data"
    }
   ],
   "source": [
    "plt.plot(train_score)\n",
    "plt.plot(test_score)\n",
    "plt.xticks(list(range(0, 10)), list(range(2, 11)))"
   ]
  },
  {
   "cell_type": "code",
   "execution_count": 16,
   "metadata": {},
   "outputs": [
    {
     "data": {
      "text/plain": [
       "array([0.01714453, 0.18361177, 0.00656529, ..., 0.08018772, 0.05701548,\n",
       "       0.0039001 ])"
      ]
     },
     "execution_count": 16,
     "metadata": {},
     "output_type": "execute_result"
    }
   ],
   "source": [
    "y_pred = gcv.predict_proba(X)[:,1]\n",
    "y_pred"
   ]
  },
  {
   "cell_type": "code",
   "execution_count": 17,
   "metadata": {},
   "outputs": [
    {
     "data": {
      "text/plain": [
       "0.9044405613937114"
      ]
     },
     "execution_count": 17,
     "metadata": {},
     "output_type": "execute_result"
    }
   ],
   "source": [
    "roc_auc_score(y, y_pred)\n",
    "# 0.9044405613937114"
   ]
  },
  {
   "cell_type": "code",
   "execution_count": 18,
   "metadata": {},
   "outputs": [
    {
     "name": "stdout",
     "output_type": "stream",
     "text": [
      "202008140739\n"
     ]
    }
   ],
   "source": [
    "print(dt_now.strftime('%Y%m%d%H%M'))"
   ]
  },
  {
   "cell_type": "code",
   "execution_count": 19,
   "metadata": {},
   "outputs": [],
   "source": [
    "pred_list['lgb'] = y_pred"
   ]
  },
  {
   "cell_type": "markdown",
   "metadata": {},
   "source": [
    "## XGBoost"
   ]
  },
  {
   "cell_type": "code",
   "execution_count": 20,
   "metadata": {},
   "outputs": [
    {
     "data": {
      "text/plain": [
       "GridSearchCV(cv=5,\n",
       "             estimator=XGBClassifier(base_score=None, booster=None,\n",
       "                                     colsample_bylevel=None,\n",
       "                                     colsample_bynode=None,\n",
       "                                     colsample_bytree=None, gamma=None,\n",
       "                                     gpu_id=None, importance_type='gain',\n",
       "                                     interaction_constraints=None,\n",
       "                                     learning_rate=None, max_delta_step=None,\n",
       "                                     max_depth=None, min_child_weight=None,\n",
       "                                     missing=nan, monotone_constraints=None,\n",
       "                                     n_estimators=100, n_jobs=None,\n",
       "                                     num_parallel_tree=None, random_state=None,\n",
       "                                     reg_alpha=None, reg_lambda=None,\n",
       "                                     scale_pos_weight=None, subsample=None,\n",
       "                                     tree_method=None, validate_parameters=None,\n",
       "                                     verbosity=None),\n",
       "             n_jobs=-1,\n",
       "             param_grid={'eta': [0.1], 'max_depth': [5], 'random_state': [0]},\n",
       "             return_train_score=True, scoring='roc_auc')"
      ]
     },
     "execution_count": 20,
     "metadata": {},
     "output_type": "execute_result"
    }
   ],
   "source": [
    "xgb = XGBClassifier()\n",
    "\n",
    "gcv2 = GridSearchCV(xgb, xgb_parameters, cv=5, scoring=\"roc_auc\", n_jobs=-1, return_train_score=True)\n",
    "gcv2.fit(X, y)\n"
   ]
  },
  {
   "cell_type": "code",
   "execution_count": 21,
   "metadata": {},
   "outputs": [
    {
     "data": {
      "text/plain": [
       "{'eta': 0.1, 'max_depth': 5, 'random_state': 0}"
      ]
     },
     "execution_count": 21,
     "metadata": {},
     "output_type": "execute_result"
    }
   ],
   "source": [
    "gcv2.best_params_"
   ]
  },
  {
   "cell_type": "code",
   "execution_count": 22,
   "metadata": {},
   "outputs": [
    {
     "name": "stdout",
     "output_type": "stream",
     "text": [
      "[0.91100294]\n",
      "[0.84853055]\n"
     ]
    }
   ],
   "source": [
    "train_score = gcv2.cv_results_['mean_train_score']\n",
    "test_score = gcv2.cv_results_['mean_test_score']\n",
    "print(train_score)\n",
    "print(test_score)"
   ]
  },
  {
   "cell_type": "code",
   "execution_count": 23,
   "metadata": {},
   "outputs": [
    {
     "data": {
      "text/plain": [
       "([<matplotlib.axis.XTick at 0x1eb2898c4c8>,\n",
       "  <matplotlib.axis.XTick at 0x1eb28985b08>,\n",
       "  <matplotlib.axis.XTick at 0x1eb28985748>,\n",
       "  <matplotlib.axis.XTick at 0x1eb289b3088>,\n",
       "  <matplotlib.axis.XTick at 0x1eb289b3708>,\n",
       "  <matplotlib.axis.XTick at 0x1eb289b6208>,\n",
       "  <matplotlib.axis.XTick at 0x1eb289b6788>,\n",
       "  <matplotlib.axis.XTick at 0x1eb289bc2c8>,\n",
       "  <matplotlib.axis.XTick at 0x1eb289bc8c8>,\n",
       "  <matplotlib.axis.XTick at 0x1eb289c13c8>],\n",
       " <a list of 9 Text xticklabel objects>)"
      ]
     },
     "execution_count": 23,
     "metadata": {},
     "output_type": "execute_result"
    },
    {
     "data": {
      "image/png": "[encoded data removed]",
      "text/plain": [
       "<Figure size 432x288 with 1 Axes>"
      ]
     },
     "metadata": {
      "needs_background": "light"
     },
     "output_type": "display_data"
    }
   ],
   "source": [
    "plt.plot(train_score)\n",
    "plt.plot(test_score)\n",
    "plt.xticks(list(range(0, 10)), list(range(2, 11)))"
   ]
  },
  {
   "cell_type": "code",
   "execution_count": 24,
   "metadata": {},
   "outputs": [
    {
     "data": {
      "text/plain": [
       "array([0.00878546, 0.18236674, 0.00662574, ..., 0.06958812, 0.05329811,\n",
       "       0.00333176], dtype=float32)"
      ]
     },
     "execution_count": 24,
     "metadata": {},
     "output_type": "execute_result"
    }
   ],
   "source": [
    "y_pred2 = gcv2.predict_proba(X)[:,1]\n",
    "y_pred2"
   ]
  },
  {
   "cell_type": "code",
   "execution_count": 25,
   "metadata": {},
   "outputs": [
    {
     "data": {
      "text/plain": [
       "0.9054471619862383"
      ]
     },
     "execution_count": 25,
     "metadata": {},
     "output_type": "execute_result"
    }
   ],
   "source": [
    "roc_auc_score(y, y_pred2)\n",
    "# 0.9054471619862383"
   ]
  },
  {
   "cell_type": "code",
   "execution_count": 26,
   "metadata": {},
   "outputs": [],
   "source": [
    "pred_list['xgb'] = y_pred2"
   ]
  },
  {
   "cell_type": "markdown",
   "metadata": {},
   "source": [
    "## Random Forest"
   ]
  },
  {
   "cell_type": "code",
   "execution_count": 28,
   "metadata": {},
   "outputs": [
    {
     "data": {
      "text/plain": [
       "GridSearchCV(cv=5, estimator=RandomForestClassifier(), n_jobs=-1,\n",
       "             param_grid={'bootstrap': [True, False],\n",
       "                         'criterion': ['gini', 'entropy'],\n",
       "                         'max_depth': [2, 3, 4, 5, 6, 7, 8, 9, 10],\n",
       "                         'min_samples_leaf': [1, 3, 10],\n",
       "                         'min_samples_split': [2, 3, 10], 'random_state': [0]},\n",
       "             return_train_score=True, scoring='roc_auc')"
      ]
     },
     "execution_count": 28,
     "metadata": {},
     "output_type": "execute_result"
    }
   ],
   "source": [
    "rf = RF()\n",
    "\n",
    "gcv3 = GridSearchCV(rf, rf_parameters, cv=5, scoring=\"roc_auc\", n_jobs=-1, return_train_score=True)\n",
    "gcv3.fit(X, y)\n"
   ]
  },
  {
   "cell_type": "code",
   "execution_count": 29,
   "metadata": {},
   "outputs": [
    {
     "data": {
      "text/plain": [
       "{'bootstrap': False,\n",
       " 'criterion': 'entropy',\n",
       " 'max_depth': 10,\n",
       " 'min_samples_leaf': 1,\n",
       " 'min_samples_split': 3,\n",
       " 'random_state': 0}"
      ]
     },
     "execution_count": 29,
     "metadata": {},
     "output_type": "execute_result"
    }
   ],
   "source": [
    "gcv3.best_params_"
   ]
  },
  {
   "cell_type": "code",
   "execution_count": 30,
   "metadata": {},
   "outputs": [
    {
     "name": "stdout",
     "output_type": "stream",
     "text": [
      "[0.78669941 0.78669941 0.78669941 0.78663744 0.78663744 0.78663744\n",
      " 0.78655264 0.78655264 0.78655264 0.79617741 0.79617268 0.79624437\n",
      " 0.79599781 0.79599781 0.7960706  0.79592313 0.79592313 0.79592313\n",
      " 0.80649944 0.80649068 0.8061256  0.80608966 0.80608966 0.80611375\n",
      " 0.8062859  0.8062859  0.8062859  0.82085128 0.82074477 0.82003389\n",
      " 0.81996713 0.81996713 0.81945044 0.81839462 0.81839462 0.81839462\n",
      " 0.83264762 0.83223054 0.83131269 0.83073549 0.83073549 0.83013021\n",
      " 0.8284451  0.8284451  0.8284451  0.8481296  0.84798661 0.84395834\n",
      " 0.84449333 0.84449333 0.84207952 0.83966876 0.83966876 0.83966876\n",
      " 0.86539927 0.86432238 0.85894503 0.85890787 0.85890787 0.85643777\n",
      " 0.8499496  0.8499496  0.8499496  0.88331339 0.88248042 0.87402615\n",
      " 0.87348699 0.87348699 0.8712101  0.86006503 0.86006503 0.86006503\n",
      " 0.90331726 0.90098518 0.88996872 0.88862121 0.88862121 0.88543529\n",
      " 0.87112788 0.87112788 0.87112788 0.78682796 0.78682796 0.78682796\n",
      " 0.78678715 0.78678715 0.78678715 0.78673173 0.78673173 0.78673173\n",
      " 0.79766225 0.79766225 0.79766114 0.79755619 0.79755619 0.79755488\n",
      " 0.79753348 0.79753348 0.79753348 0.80885727 0.80873816 0.80847812\n",
      " 0.80848193 0.80848193 0.80836725 0.80843253 0.80843253 0.80843253\n",
      " 0.82326877 0.82329052 0.82252119 0.82210752 0.82210752 0.8218637\n",
      " 0.82052697 0.82052697 0.82052697 0.83754441 0.83735665 0.83612049\n",
      " 0.83473323 0.83473323 0.83443683 0.83192455 0.83192455 0.83192455\n",
      " 0.85490199 0.85369542 0.85186899 0.85091536 0.85091536 0.85038223\n",
      " 0.84481323 0.84481323 0.84481323 0.87320156 0.87269357 0.86884138\n",
      " 0.86567427 0.86567427 0.86476413 0.85626743 0.85626743 0.85626743\n",
      " 0.89252621 0.89076524 0.88413064 0.8826041  0.8826041  0.87948234\n",
      " 0.86789545 0.86789545 0.86789545 0.91323734 0.91151523 0.90207767\n",
      " 0.89773728 0.89773728 0.89615566 0.87830501 0.87830501 0.87830501\n",
      " 0.78639209 0.78639209 0.78639209 0.78639134 0.78639134 0.78639134\n",
      " 0.78634811 0.78634811 0.78634811 0.79779965 0.79779965 0.79779918\n",
      " 0.79773205 0.79773205 0.79773195 0.79774351 0.79774351 0.79774351\n",
      " 0.80569784 0.80558699 0.80497865 0.80498399 0.80498399 0.8048491\n",
      " 0.80505955 0.80505955 0.80505955 0.82075057 0.82088607 0.81985431\n",
      " 0.81923086 0.81923086 0.81930688 0.81853317 0.81853317 0.81853317\n",
      " 0.83241765 0.83208653 0.83107099 0.83100875 0.83100875 0.83049722\n",
      " 0.82919242 0.82919242 0.82919242 0.84553233 0.84557293 0.84339892\n",
      " 0.84345127 0.84345127 0.84246105 0.83976929 0.83976929 0.83976929\n",
      " 0.86418102 0.86310609 0.85789568 0.85751995 0.85751995 0.85738098\n",
      " 0.85201721 0.85201721 0.85201721 0.88209526 0.88124498 0.87429528\n",
      " 0.87385561 0.87385561 0.87187146 0.86405528 0.86405528 0.86405528\n",
      " 0.90223885 0.9009933  0.89213255 0.89134877 0.89134877 0.88882778\n",
      " 0.87602375 0.87602375 0.87602375 0.78836029 0.78836029 0.78836029\n",
      " 0.78836774 0.78836774 0.78836774 0.78831878 0.78831878 0.78831878\n",
      " 0.79885908 0.79885908 0.79885137 0.79879609 0.79879609 0.79879609\n",
      " 0.79871729 0.79871729 0.79871729 0.80863563 0.80848885 0.80814855\n",
      " 0.80803595 0.80803595 0.80796349 0.80777477 0.80777477 0.80777477\n",
      " 0.82335665 0.82329926 0.82336059 0.82264868 0.82264868 0.82272578\n",
      " 0.82194214 0.82194214 0.82194214 0.83668877 0.83690258 0.83601807\n",
      " 0.8348173  0.8348173  0.83559723 0.83272866 0.83272866 0.83272866\n",
      " 0.85433603 0.85411396 0.85193079 0.85091154 0.85091154 0.85042244\n",
      " 0.84624308 0.84624308 0.84624308 0.87198561 0.87069129 0.86787658\n",
      " 0.86572538 0.86572538 0.86524761 0.85814577 0.85814577 0.85814577\n",
      " 0.89159794 0.88999526 0.88524481 0.88391712 0.88391712 0.88102231\n",
      " 0.87133306 0.87133306 0.87133306 0.91246778 0.91088182 0.90366865\n",
      " 0.8995932  0.8995932  0.89820724 0.88339771 0.88339771 0.88339771]\n",
      "[0.78389059 0.78389059 0.78389059 0.78378268 0.78378268 0.78378268\n",
      " 0.78380229 0.78380229 0.78380229 0.79208619 0.79211976 0.79224006\n",
      " 0.79199831 0.79199831 0.79211468 0.79198365 0.79198365 0.79198365\n",
      " 0.79895892 0.79896713 0.79856706 0.7986718  0.7986718  0.79869257\n",
      " 0.79954513 0.79954513 0.79954513 0.80832001 0.80824296 0.80759555\n",
      " 0.80732506 0.80732506 0.80740866 0.80705492 0.80705492 0.80705492\n",
      " 0.81169248 0.81174221 0.81175778 0.81236686 0.81236686 0.81221959\n",
      " 0.81256678 0.81256678 0.81256678 0.81702205 0.81681766 0.81663613\n",
      " 0.81795808 0.81795808 0.81639027 0.81847262 0.81847262 0.81847262\n",
      " 0.8218368  0.82076421 0.82091814 0.82170772 0.82170772 0.82124761\n",
      " 0.82117739 0.82117739 0.82117739 0.82369089 0.82281931 0.82329862\n",
      " 0.82383362 0.82383362 0.82287718 0.82253953 0.82253953 0.82253953\n",
      " 0.82516736 0.82481626 0.82587093 0.82575648 0.82575648 0.82657053\n",
      " 0.82559854 0.82559854 0.82559854 0.78448967 0.78448967 0.78448967\n",
      " 0.78445875 0.78445875 0.78445875 0.78435653 0.78435653 0.78435653\n",
      " 0.79230644 0.79230644 0.7923053  0.79230862 0.79230862 0.79230805\n",
      " 0.79243811 0.79243811 0.79243811 0.80138896 0.80130902 0.80114432\n",
      " 0.80126867 0.80126867 0.80108738 0.8011424  0.8011424  0.8011424\n",
      " 0.80965643 0.80981216 0.80883689 0.8091835  0.8091835  0.80860825\n",
      " 0.80818398 0.80818398 0.80818398 0.81442707 0.81461189 0.81502069\n",
      " 0.81395912 0.81395912 0.81500748 0.8141963  0.8141963  0.8141963\n",
      " 0.82164269 0.82160798 0.82094199 0.82102031 0.82102031 0.82145901\n",
      " 0.82032527 0.82032527 0.82032527 0.8237328  0.82417567 0.8237723\n",
      " 0.8245032  0.8245032  0.82353543 0.82348915 0.82348915 0.82348915\n",
      " 0.82729725 0.82657838 0.82712408 0.82836228 0.82836228 0.8276728\n",
      " 0.82645639 0.82645639 0.82645639 0.8289233  0.83004005 0.82889766\n",
      " 0.82895375 0.82895375 0.82883951 0.82886318 0.82886318 0.82886318\n",
      " 0.78328529 0.78328529 0.78328529 0.78328596 0.78328596 0.78328596\n",
      " 0.78326075 0.78326075 0.78326075 0.79297482 0.79297482 0.79297426\n",
      " 0.79295432 0.79295432 0.79295479 0.79316469 0.79316469 0.79316469\n",
      " 0.79915095 0.79910175 0.79831659 0.79846158 0.79846158 0.79831622\n",
      " 0.7986759  0.7986759  0.7986759  0.80789922 0.80795367 0.80723414\n",
      " 0.80705807 0.80705807 0.80706032 0.80772728 0.80772728 0.80772728\n",
      " 0.8130639  0.81275291 0.81298242 0.81316724 0.81316724 0.81336543\n",
      " 0.81311443 0.81311443 0.81311443 0.81700878 0.81727031 0.81749305\n",
      " 0.81752114 0.81752114 0.81728401 0.81825579 0.81825579 0.81825579\n",
      " 0.8220861  0.82268181 0.82171502 0.82195288 0.82195288 0.82113077\n",
      " 0.8220133  0.8220133  0.8220133  0.82443351 0.82456447 0.8244479\n",
      " 0.82420762 0.82420762 0.8243905  0.82530528 0.82530528 0.82530528\n",
      " 0.82759968 0.82656463 0.8275863  0.82795804 0.82795804 0.82790956\n",
      " 0.826437   0.826437   0.826437   0.78541293 0.78541293 0.78541293\n",
      " 0.78540316 0.78540316 0.78540316 0.7853632  0.7853632  0.7853632\n",
      " 0.79466917 0.79466917 0.79466151 0.79470295 0.79470295 0.79470295\n",
      " 0.79472403 0.79472403 0.79472403 0.80137469 0.80126162 0.80107104\n",
      " 0.80113051 0.80113051 0.80118254 0.8010473  0.8010473  0.8010473\n",
      " 0.80979728 0.80970979 0.80977987 0.8098506  0.8098506  0.80995709\n",
      " 0.80993624 0.80993624 0.80993624 0.81572773 0.81593793 0.81584482\n",
      " 0.81604841 0.81604841 0.81650315 0.81558198 0.81558198 0.81558198\n",
      " 0.82126751 0.82155917 0.82097311 0.821293   0.821293   0.82094731\n",
      " 0.82114991 0.82114991 0.82114991 0.82617429 0.82502754 0.82610638\n",
      " 0.82521793 0.82521793 0.82460691 0.82437332 0.82437332 0.82437332\n",
      " 0.82825011 0.82681348 0.82796508 0.82871288 0.82871288 0.82824611\n",
      " 0.82740918 0.82740918 0.82740918 0.82995282 0.83108556 0.82962236\n",
      " 0.830336   0.830336   0.82985216 0.83014864 0.83014864 0.83014864]\n"
     ]
    }
   ],
   "source": [
    "train_score = gcv3.cv_results_['mean_train_score']\n",
    "test_score = gcv3.cv_results_['mean_test_score']\n",
    "print(train_score)\n",
    "print(test_score)"
   ]
  },
  {
   "cell_type": "code",
   "execution_count": 31,
   "metadata": {},
   "outputs": [
    {
     "data": {
      "text/plain": [
       "([<matplotlib.axis.XTick at 0x1eb2a04eec8>,\n",
       "  <matplotlib.axis.XTick at 0x1eb289d50c8>,\n",
       "  <matplotlib.axis.XTick at 0x1eb289d5bc8>,\n",
       "  <matplotlib.axis.XTick at 0x1eb2a02d4c8>,\n",
       "  <matplotlib.axis.XTick at 0x1eb2a0166c8>,\n",
       "  <matplotlib.axis.XTick at 0x1eb2a016788>,\n",
       "  <matplotlib.axis.XTick at 0x1eb2a0471c8>,\n",
       "  <matplotlib.axis.XTick at 0x1eb29ff7608>,\n",
       "  <matplotlib.axis.XTick at 0x1eb2a17ffc8>,\n",
       "  <matplotlib.axis.XTick at 0x1eb2a17fbc8>],\n",
       " <a list of 9 Text xticklabel objects>)"
      ]
     },
     "execution_count": 31,
     "metadata": {},
     "output_type": "execute_result"
    },
    {
     "data": {
      "image/png": "[encoded data removed]",
      "text/plain": [
       "<Figure size 432x288 with 1 Axes>"
      ]
     },
     "metadata": {
      "needs_background": "light"
     },
     "output_type": "display_data"
    }
   ],
   "source": [
    "plt.plot(train_score)\n",
    "plt.plot(test_score)\n",
    "plt.xticks(list(range(0, 10)), list(range(2, 11)))"
   ]
  },
  {
   "cell_type": "code",
   "execution_count": 32,
   "metadata": {},
   "outputs": [
    {
     "data": {
      "text/plain": [
       "array([0.0271576 , 0.14004581, 0.01507037, ..., 0.10994414, 0.06004093,\n",
       "       0.00706609])"
      ]
     },
     "execution_count": 32,
     "metadata": {},
     "output_type": "execute_result"
    }
   ],
   "source": [
    "y_pred3 = gcv3.predict_proba(X)[:,1]\n",
    "y_pred3"
   ]
  },
  {
   "cell_type": "code",
   "execution_count": 33,
   "metadata": {},
   "outputs": [
    {
     "data": {
      "text/plain": [
       "0.9022750617265985"
      ]
     },
     "execution_count": 33,
     "metadata": {},
     "output_type": "execute_result"
    }
   ],
   "source": [
    "roc_auc_score(y, y_pred3)\n",
    "# 0.9113408811229391"
   ]
  },
  {
   "cell_type": "code",
   "execution_count": 34,
   "metadata": {},
   "outputs": [],
   "source": [
    "pred_list['rf'] = y_pred3"
   ]
  },
  {
   "cell_type": "markdown",
   "metadata": {},
   "source": [
    "### Graph"
   ]
  },
  {
   "cell_type": "code",
   "execution_count": 35,
   "metadata": {},
   "outputs": [
    {
     "data": {
      "text/plain": [
       "<matplotlib.legend.Legend at 0x1eb2a0d4e48>"
      ]
     },
     "execution_count": 35,
     "metadata": {},
     "output_type": "execute_result"
    },
    {
     "data": {
      "image/png": "[encoded data removed]",
      "text/plain": [
       "<Figure size 1440x288 with 1 Axes>"
      ]
     },
     "metadata": {
      "needs_background": "light"
     },
     "output_type": "display_data"
    }
   ],
   "source": [
    "plt.figure(figsize=(20, 4))\n",
    "plt.scatter(y.index[:1000], y[:1000], alpha=1, label='y')\n",
    "plt.scatter(y.index[:1000], y_pred[:1000], alpha=1, label='lgb')\n",
    "plt.axhline(0.5)\n",
    "plt.legend()"
   ]
  },
  {
   "cell_type": "code",
   "execution_count": 36,
   "metadata": {},
   "outputs": [
    {
     "data": {
      "text/plain": [
       "<matplotlib.legend.Legend at 0x1eb2a095b48>"
      ]
     },
     "execution_count": 36,
     "metadata": {},
     "output_type": "execute_result"
    },
    {
     "data": {
      "image/png": "[encoded data removed]",
      "text/plain": [
       "<Figure size 1440x288 with 1 Axes>"
      ]
     },
     "metadata": {
      "needs_background": "light"
     },
     "output_type": "display_data"
    }
   ],
   "source": [
    "plt.figure(figsize=(20, 4))\n",
    "plt.scatter(y.index[:1000], y[:1000], alpha=1, label='y')\n",
    "plt.scatter(y.index[:1000], y_pred2[:1000], alpha=1, label='xgb')\n",
    "plt.axhline(0.5)\n",
    "plt.legend()"
   ]
  },
  {
   "cell_type": "code",
   "execution_count": 37,
   "metadata": {},
   "outputs": [
    {
     "data": {
      "text/plain": [
       "<matplotlib.legend.Legend at 0x1eb28f38988>"
      ]
     },
     "execution_count": 37,
     "metadata": {},
     "output_type": "execute_result"
    },
    {
     "data": {
      "image/png": "[encoded data removed]",
      "text/plain": [
       "<Figure size 1440x288 with 1 Axes>"
      ]
     },
     "metadata": {
      "needs_background": "light"
     },
     "output_type": "display_data"
    }
   ],
   "source": [
    "plt.figure(figsize=(20, 4))\n",
    "plt.scatter(y.index[:1000], y[:1000], alpha=1, label='y')\n",
    "plt.scatter(y.index[:1000], y_pred3[:1000], alpha=1, label='rf')\n",
    "plt.axhline(0.5)\n",
    "plt.legend()"
   ]
  },
  {
   "cell_type": "code",
   "execution_count": 38,
   "metadata": {},
   "outputs": [
    {
     "data": {
      "text/plain": [
       "{'lgb': array([0.01714453, 0.18361177, 0.00656529, ..., 0.08018772, 0.05701548,\n",
       "        0.0039001 ]),\n",
       " 'xgb': array([0.00878546, 0.18236674, 0.00662574, ..., 0.06958812, 0.05329811,\n",
       "        0.00333176], dtype=float32),\n",
       " 'rf': array([0.0271576 , 0.14004581, 0.01507037, ..., 0.10994414, 0.06004093,\n",
       "        0.00706609])}"
      ]
     },
     "execution_count": 38,
     "metadata": {},
     "output_type": "execute_result"
    }
   ],
   "source": [
    "pred_list"
   ]
  },
  {
   "cell_type": "markdown",
   "metadata": {},
   "source": [
    "## Random Forest"
   ]
  },
  {
   "cell_type": "code",
   "execution_count": 39,
   "metadata": {},
   "outputs": [],
   "source": [
    "# stacking_parameters = {\"max_depth\": [2,3, None],\n",
    "# #               \"n_estimators\":[50,100,200,300,400,500],\n",
    "#               \"min_samples_split\": [2, 3, 10],\n",
    "#               \"min_samples_leaf\": [1, 3, 10],\n",
    "#               \"bootstrap\": [True, False],\n",
    "#               \"criterion\": [\"gini\", \"entropy\"]}\n",
    "\n",
    "stacking_parameters = {\n",
    "    'bootstrap': True,\n",
    "    'criterion': 'entropy',\n",
    "    'max_depth': 3,\n",
    "    'min_samples_leaf': 3,\n",
    "    'min_samples_split': 2\n",
    "}"
   ]
  },
  {
   "cell_type": "code",
   "execution_count": 40,
   "metadata": {},
   "outputs": [],
   "source": [
    "pred_list = pd.DataFrame(pred_list)"
   ]
  },
  {
   "cell_type": "code",
   "execution_count": 41,
   "metadata": {},
   "outputs": [
    {
     "data": {
      "text/plain": [
       "GridSearchCV(cv=5, estimator=RandomForestClassifier(), n_jobs=-1,\n",
       "             param_grid={'bootstrap': [True, False],\n",
       "                         'criterion': ['gini', 'entropy'],\n",
       "                         'max_depth': [2, 3, None],\n",
       "                         'min_samples_leaf': [1, 3, 10],\n",
       "                         'min_samples_split': [2, 3, 10]},\n",
       "             return_train_score=True, scoring='roc_auc')"
      ]
     },
     "execution_count": 41,
     "metadata": {},
     "output_type": "execute_result"
    }
   ],
   "source": [
    "rf = RF()\n",
    "\n",
    "gcv_st = GridSearchCV(rf, stacking_parameters, cv=5, scoring=\"roc_auc\", n_jobs=-1, return_train_score=True)\n",
    "gcv_st.fit(pred_list, y)\n"
   ]
  },
  {
   "cell_type": "code",
   "execution_count": 42,
   "metadata": {},
   "outputs": [
    {
     "data": {
      "text/plain": [
       "{'bootstrap': True,\n",
       " 'criterion': 'entropy',\n",
       " 'max_depth': 3,\n",
       " 'min_samples_leaf': 3,\n",
       " 'min_samples_split': 2}"
      ]
     },
     "execution_count": 42,
     "metadata": {},
     "output_type": "execute_result"
    }
   ],
   "source": [
    "gcv_st.best_params_"
   ]
  },
  {
   "cell_type": "code",
   "execution_count": 43,
   "metadata": {},
   "outputs": [
    {
     "data": {
      "text/plain": [
       "array([0.00269306, 0.22487942, 0.00204366, ..., 0.06761491, 0.04089632,\n",
       "       0.00204366])"
      ]
     },
     "execution_count": 43,
     "metadata": {},
     "output_type": "execute_result"
    }
   ],
   "source": [
    "y_pred_st = gcv_st.predict_proba(pred_list)[:,1]\n",
    "y_pred_st"
   ]
  },
  {
   "cell_type": "code",
   "execution_count": 44,
   "metadata": {},
   "outputs": [
    {
     "data": {
      "text/plain": [
       "<matplotlib.legend.Legend at 0x1eb2d35a648>"
      ]
     },
     "execution_count": 44,
     "metadata": {},
     "output_type": "execute_result"
    },
    {
     "data": {
      "image/png": "[encoded data removed]",
      "text/plain": [
       "<Figure size 1440x288 with 1 Axes>"
      ]
     },
     "metadata": {
      "needs_background": "light"
     },
     "output_type": "display_data"
    }
   ],
   "source": [
    "plt.figure(figsize=(20, 4))\n",
    "plt.scatter(y.index[:1000], y[:1000], alpha=1, label='y')\n",
    "plt.scatter(y.index[:1000], y_pred_st[:1000], alpha=1, label='rf')\n",
    "plt.axhline(0.5)\n",
    "plt.legend()"
   ]
  },
  {
   "cell_type": "code",
   "execution_count": 45,
   "metadata": {},
   "outputs": [
    {
     "data": {
      "text/plain": [
       "0.9150432264305048"
      ]
     },
     "execution_count": 45,
     "metadata": {},
     "output_type": "execute_result"
    }
   ],
   "source": [
    "roc_auc_score(y, y_pred_st)\n",
    "# 0.9150432264305048"
   ]
  },
  {
   "cell_type": "markdown",
   "metadata": {},
   "source": [
    "# Test Data Predict"
   ]
  },
  {
   "cell_type": "code",
   "execution_count": 46,
   "metadata": {},
   "outputs": [],
   "source": [
    "X1 = all_df[all_df['y'] == -999].drop('y', axis=1)\n",
    "all_predict= {}"
   ]
  },
  {
   "cell_type": "markdown",
   "metadata": {},
   "source": [
    "## LightGBM"
   ]
  },
  {
   "cell_type": "code",
   "execution_count": 47,
   "metadata": {},
   "outputs": [
    {
     "data": {
      "text/plain": [
       "array([0.80737806, 0.06543166, 0.03720168, ..., 0.07000595, 0.00722807,\n",
       "       0.08971905])"
      ]
     },
     "execution_count": 47,
     "metadata": {},
     "output_type": "execute_result"
    }
   ],
   "source": [
    "all_predict['pred_x1'] = gcv.predict_proba(X1)[:,1]\n",
    "all_predict['pred_x1']"
   ]
  },
  {
   "cell_type": "markdown",
   "metadata": {},
   "source": [
    "## XGBoost"
   ]
  },
  {
   "cell_type": "code",
   "execution_count": 48,
   "metadata": {},
   "outputs": [
    {
     "data": {
      "text/plain": [
       "array([0.70784783, 0.0822614 , 0.03469273, ..., 0.07350367, 0.00601747,\n",
       "       0.08651873], dtype=float32)"
      ]
     },
     "execution_count": 48,
     "metadata": {},
     "output_type": "execute_result"
    }
   ],
   "source": [
    "all_predict['pred_x2'] = gcv2.predict_proba(X1)[:,1]\n",
    "all_predict['pred_x2']"
   ]
  },
  {
   "cell_type": "markdown",
   "metadata": {},
   "source": [
    "## Random Forest"
   ]
  },
  {
   "cell_type": "code",
   "execution_count": 49,
   "metadata": {},
   "outputs": [
    {
     "data": {
      "text/plain": [
       "array([0.76157276, 0.05708072, 0.03770605, ..., 0.07302331, 0.01741749,\n",
       "       0.09921548])"
      ]
     },
     "execution_count": 49,
     "metadata": {},
     "output_type": "execute_result"
    }
   ],
   "source": [
    "all_predict['pred_x3'] = gcv3.predict_proba(X1)[:,1]\n",
    "all_predict['pred_x3']"
   ]
  },
  {
   "cell_type": "markdown",
   "metadata": {},
   "source": [
    "## Random Forest(Stacking)"
   ]
  },
  {
   "cell_type": "code",
   "execution_count": 50,
   "metadata": {},
   "outputs": [
    {
     "data": {
      "text/html": [
       "<div>\n",
       "<style scoped>\n",
       "    .dataframe tbody tr th:only-of-type {\n",
       "        vertical-align: middle;\n",
       "    }\n",
       "\n",
       "    .dataframe tbody tr th {\n",
       "        vertical-align: top;\n",
       "    }\n",
       "\n",
       "    .dataframe thead th {\n",
       "        text-align: right;\n",
       "    }\n",
       "</style>\n",
       "<table border=\"1\" class=\"dataframe\">\n",
       "  <thead>\n",
       "    <tr style=\"text-align: right;\">\n",
       "      <th></th>\n",
       "      <th>pred_x1</th>\n",
       "      <th>pred_x2</th>\n",
       "      <th>pred_x3</th>\n",
       "    </tr>\n",
       "  </thead>\n",
       "  <tbody>\n",
       "    <tr>\n",
       "      <th>0</th>\n",
       "      <td>0.807378</td>\n",
       "      <td>0.707848</td>\n",
       "      <td>0.761573</td>\n",
       "    </tr>\n",
       "    <tr>\n",
       "      <th>1</th>\n",
       "      <td>0.065432</td>\n",
       "      <td>0.082261</td>\n",
       "      <td>0.057081</td>\n",
       "    </tr>\n",
       "    <tr>\n",
       "      <th>2</th>\n",
       "      <td>0.037202</td>\n",
       "      <td>0.034693</td>\n",
       "      <td>0.037706</td>\n",
       "    </tr>\n",
       "    <tr>\n",
       "      <th>3</th>\n",
       "      <td>0.003818</td>\n",
       "      <td>0.003326</td>\n",
       "      <td>0.005378</td>\n",
       "    </tr>\n",
       "    <tr>\n",
       "      <th>4</th>\n",
       "      <td>0.087199</td>\n",
       "      <td>0.097921</td>\n",
       "      <td>0.122121</td>\n",
       "    </tr>\n",
       "    <tr>\n",
       "      <th>...</th>\n",
       "      <td>...</td>\n",
       "      <td>...</td>\n",
       "      <td>...</td>\n",
       "    </tr>\n",
       "    <tr>\n",
       "      <th>18045</th>\n",
       "      <td>0.012102</td>\n",
       "      <td>0.008309</td>\n",
       "      <td>0.040911</td>\n",
       "    </tr>\n",
       "    <tr>\n",
       "      <th>18046</th>\n",
       "      <td>0.009436</td>\n",
       "      <td>0.010662</td>\n",
       "      <td>0.012480</td>\n",
       "    </tr>\n",
       "    <tr>\n",
       "      <th>18047</th>\n",
       "      <td>0.070006</td>\n",
       "      <td>0.073504</td>\n",
       "      <td>0.073023</td>\n",
       "    </tr>\n",
       "    <tr>\n",
       "      <th>18048</th>\n",
       "      <td>0.007228</td>\n",
       "      <td>0.006017</td>\n",
       "      <td>0.017417</td>\n",
       "    </tr>\n",
       "    <tr>\n",
       "      <th>18049</th>\n",
       "      <td>0.089719</td>\n",
       "      <td>0.086519</td>\n",
       "      <td>0.099215</td>\n",
       "    </tr>\n",
       "  </tbody>\n",
       "</table>\n",
       "<p>18050 rows × 3 columns</p>\n",
       "</div>"
      ],
      "text/plain": [
       "        pred_x1   pred_x2   pred_x3\n",
       "0      0.807378  0.707848  0.761573\n",
       "1      0.065432  0.082261  0.057081\n",
       "2      0.037202  0.034693  0.037706\n",
       "3      0.003818  0.003326  0.005378\n",
       "4      0.087199  0.097921  0.122121\n",
       "...         ...       ...       ...\n",
       "18045  0.012102  0.008309  0.040911\n",
       "18046  0.009436  0.010662  0.012480\n",
       "18047  0.070006  0.073504  0.073023\n",
       "18048  0.007228  0.006017  0.017417\n",
       "18049  0.089719  0.086519  0.099215\n",
       "\n",
       "[18050 rows x 3 columns]"
      ]
     },
     "execution_count": 50,
     "metadata": {},
     "output_type": "execute_result"
    }
   ],
   "source": [
    "pd.DataFrame(all_predict)"
   ]
  },
  {
   "cell_type": "code",
   "execution_count": 51,
   "metadata": {},
   "outputs": [
    {
     "data": {
      "text/plain": [
       "array([0.93579862, 0.05521551, 0.01450649, ..., 0.06086577, 0.00204366,\n",
       "       0.07266872])"
      ]
     },
     "execution_count": 51,
     "metadata": {},
     "output_type": "execute_result"
    }
   ],
   "source": [
    "pred_x = gcv_st.predict_proba(pd.DataFrame(all_predict))\n",
    "pred_x[:,1]"
   ]
  },
  {
   "cell_type": "code",
   "execution_count": 52,
   "metadata": {},
   "outputs": [],
   "source": [
    "sample[1] = pred_x[:,1]"
   ]
  },
  {
   "cell_type": "code",
   "execution_count": 53,
   "metadata": {},
   "outputs": [],
   "source": [
    "sample.to_csv('submit_20200814_1.csv', header=None, index=None)"
   ]
  },
  {
   "cell_type": "code",
   "execution_count": null,
   "metadata": {},
   "outputs": [],
   "source": []
  }
 ],
 "metadata": {
  "kernelspec": {
   "display_name": "Python 3",
   "language": "python",
   "name": "python3"
  },
  "language_info": {
   "codemirror_mode": {
    "name": "ipython",
    "version": 3
   },
   "file_extension": ".py",
   "mimetype": "text/x-python",
   "name": "python",
   "nbconvert_exporter": "python",
   "pygments_lexer": "ipython3",
   "version": "3.7.6"
  }
 },
 "nbformat": 4,
 "nbformat_minor": 4
}
