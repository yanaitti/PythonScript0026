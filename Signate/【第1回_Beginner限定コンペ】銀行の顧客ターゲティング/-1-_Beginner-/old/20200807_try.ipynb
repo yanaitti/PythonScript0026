{
 "cells": [
  {
   "cell_type": "markdown",
   "metadata": {},
   "source": [
    "# PART3 パラメータをチューニングしてみよう"
   ]
  },
  {
   "cell_type": "markdown",
   "metadata": {},
   "source": [
    "## おまじない"
   ]
  },
  {
   "cell_type": "code",
   "execution_count": 96,
   "metadata": {},
   "outputs": [],
   "source": [
    "import pandas as pd\n",
    "import numpy as np\n",
    "from matplotlib import pyplot as plt\n",
    "%matplotlib inline\n",
    "\n",
    "from sklearn.tree import DecisionTreeClassifier as DT\n",
    "from sklearn.model_selection import cross_validate\n",
    "from sklearn.model_selection import GridSearchCV"
   ]
  },
  {
   "cell_type": "markdown",
   "metadata": {},
   "source": [
    "## データの読み込み\n",
    "- train.csvとtest.csvとsubmit_sample.csvの３つのファイルを読み込みましょう\n",
    "- それぞれを読み込んだものは変数はtrain, test, sampleに代入しましょう"
   ]
  },
  {
   "cell_type": "code",
   "execution_count": 97,
   "metadata": {},
   "outputs": [],
   "source": [
    "train = pd.read_csv('train.csv', index_col=0)\n",
    "test = pd.read_csv('test.csv', index_col=0)\n",
    "sample = pd.read_csv('submit_sample.csv', header=None)"
   ]
  },
  {
   "cell_type": "markdown",
   "metadata": {},
   "source": [
    "## trainから説明変数となるデータを取り出しましょう\n",
    "- iloc[]を使います\n",
    "- y以外を説明変数として取り出し、変数trainXに代入しましょう"
   ]
  },
  {
   "cell_type": "code",
   "execution_count": 98,
   "metadata": {},
   "outputs": [
    {
     "data": {
      "text/html": [
       "<div>\n",
       "<style scoped>\n",
       "    .dataframe tbody tr th:only-of-type {\n",
       "        vertical-align: middle;\n",
       "    }\n",
       "\n",
       "    .dataframe tbody tr th {\n",
       "        vertical-align: top;\n",
       "    }\n",
       "\n",
       "    .dataframe thead th {\n",
       "        text-align: right;\n",
       "    }\n",
       "</style>\n",
       "<table border=\"1\" class=\"dataframe\">\n",
       "  <thead>\n",
       "    <tr style=\"text-align: right;\">\n",
       "      <th></th>\n",
       "      <th>age</th>\n",
       "      <th>job</th>\n",
       "      <th>marital</th>\n",
       "      <th>education</th>\n",
       "      <th>default</th>\n",
       "      <th>balance</th>\n",
       "      <th>housing</th>\n",
       "      <th>loan</th>\n",
       "      <th>contact</th>\n",
       "      <th>day</th>\n",
       "      <th>month</th>\n",
       "      <th>duration</th>\n",
       "      <th>campaign</th>\n",
       "      <th>pdays</th>\n",
       "      <th>previous</th>\n",
       "      <th>poutcome</th>\n",
       "    </tr>\n",
       "    <tr>\n",
       "      <th>id</th>\n",
       "      <th></th>\n",
       "      <th></th>\n",
       "      <th></th>\n",
       "      <th></th>\n",
       "      <th></th>\n",
       "      <th></th>\n",
       "      <th></th>\n",
       "      <th></th>\n",
       "      <th></th>\n",
       "      <th></th>\n",
       "      <th></th>\n",
       "      <th></th>\n",
       "      <th></th>\n",
       "      <th></th>\n",
       "      <th></th>\n",
       "      <th></th>\n",
       "    </tr>\n",
       "  </thead>\n",
       "  <tbody>\n",
       "    <tr>\n",
       "      <th>0</th>\n",
       "      <td>31</td>\n",
       "      <td>services</td>\n",
       "      <td>married</td>\n",
       "      <td>secondary</td>\n",
       "      <td>no</td>\n",
       "      <td>12294</td>\n",
       "      <td>yes</td>\n",
       "      <td>no</td>\n",
       "      <td>cellular</td>\n",
       "      <td>21</td>\n",
       "      <td>nov</td>\n",
       "      <td>101</td>\n",
       "      <td>3</td>\n",
       "      <td>498</td>\n",
       "      <td>0</td>\n",
       "      <td>other</td>\n",
       "    </tr>\n",
       "    <tr>\n",
       "      <th>1</th>\n",
       "      <td>29</td>\n",
       "      <td>entrepreneur</td>\n",
       "      <td>single</td>\n",
       "      <td>tertiary</td>\n",
       "      <td>no</td>\n",
       "      <td>43027</td>\n",
       "      <td>no</td>\n",
       "      <td>no</td>\n",
       "      <td>cellular</td>\n",
       "      <td>22</td>\n",
       "      <td>aug</td>\n",
       "      <td>158</td>\n",
       "      <td>2</td>\n",
       "      <td>702</td>\n",
       "      <td>0</td>\n",
       "      <td>unknown</td>\n",
       "    </tr>\n",
       "    <tr>\n",
       "      <th>2</th>\n",
       "      <td>35</td>\n",
       "      <td>management</td>\n",
       "      <td>married</td>\n",
       "      <td>tertiary</td>\n",
       "      <td>no</td>\n",
       "      <td>12252</td>\n",
       "      <td>yes</td>\n",
       "      <td>no</td>\n",
       "      <td>cellular</td>\n",
       "      <td>11</td>\n",
       "      <td>nov</td>\n",
       "      <td>351</td>\n",
       "      <td>1</td>\n",
       "      <td>826</td>\n",
       "      <td>0</td>\n",
       "      <td>failure</td>\n",
       "    </tr>\n",
       "    <tr>\n",
       "      <th>3</th>\n",
       "      <td>31</td>\n",
       "      <td>technician</td>\n",
       "      <td>married</td>\n",
       "      <td>secondary</td>\n",
       "      <td>no</td>\n",
       "      <td>99121</td>\n",
       "      <td>yes</td>\n",
       "      <td>yes</td>\n",
       "      <td>unknown</td>\n",
       "      <td>16</td>\n",
       "      <td>may</td>\n",
       "      <td>658</td>\n",
       "      <td>2</td>\n",
       "      <td>120</td>\n",
       "      <td>0</td>\n",
       "      <td>failure</td>\n",
       "    </tr>\n",
       "    <tr>\n",
       "      <th>4</th>\n",
       "      <td>48</td>\n",
       "      <td>unemployed</td>\n",
       "      <td>married</td>\n",
       "      <td>primary</td>\n",
       "      <td>no</td>\n",
       "      <td>42005</td>\n",
       "      <td>yes</td>\n",
       "      <td>no</td>\n",
       "      <td>telephone</td>\n",
       "      <td>3</td>\n",
       "      <td>apr</td>\n",
       "      <td>177</td>\n",
       "      <td>1</td>\n",
       "      <td>273</td>\n",
       "      <td>0</td>\n",
       "      <td>unknown</td>\n",
       "    </tr>\n",
       "    <tr>\n",
       "      <th>...</th>\n",
       "      <td>...</td>\n",
       "      <td>...</td>\n",
       "      <td>...</td>\n",
       "      <td>...</td>\n",
       "      <td>...</td>\n",
       "      <td>...</td>\n",
       "      <td>...</td>\n",
       "      <td>...</td>\n",
       "      <td>...</td>\n",
       "      <td>...</td>\n",
       "      <td>...</td>\n",
       "      <td>...</td>\n",
       "      <td>...</td>\n",
       "      <td>...</td>\n",
       "      <td>...</td>\n",
       "      <td>...</td>\n",
       "    </tr>\n",
       "    <tr>\n",
       "      <th>27095</th>\n",
       "      <td>37</td>\n",
       "      <td>blue-collar</td>\n",
       "      <td>married</td>\n",
       "      <td>secondary</td>\n",
       "      <td>no</td>\n",
       "      <td>26661</td>\n",
       "      <td>yes</td>\n",
       "      <td>no</td>\n",
       "      <td>cellular</td>\n",
       "      <td>27</td>\n",
       "      <td>may</td>\n",
       "      <td>345</td>\n",
       "      <td>4</td>\n",
       "      <td>425</td>\n",
       "      <td>0</td>\n",
       "      <td>unknown</td>\n",
       "    </tr>\n",
       "    <tr>\n",
       "      <th>27096</th>\n",
       "      <td>35</td>\n",
       "      <td>services</td>\n",
       "      <td>married</td>\n",
       "      <td>secondary</td>\n",
       "      <td>no</td>\n",
       "      <td>42150</td>\n",
       "      <td>yes</td>\n",
       "      <td>no</td>\n",
       "      <td>cellular</td>\n",
       "      <td>27</td>\n",
       "      <td>may</td>\n",
       "      <td>121</td>\n",
       "      <td>1</td>\n",
       "      <td>719</td>\n",
       "      <td>0</td>\n",
       "      <td>unknown</td>\n",
       "    </tr>\n",
       "    <tr>\n",
       "      <th>27097</th>\n",
       "      <td>35</td>\n",
       "      <td>services</td>\n",
       "      <td>married</td>\n",
       "      <td>unknown</td>\n",
       "      <td>no</td>\n",
       "      <td>34531</td>\n",
       "      <td>no</td>\n",
       "      <td>no</td>\n",
       "      <td>cellular</td>\n",
       "      <td>28</td>\n",
       "      <td>jun</td>\n",
       "      <td>177</td>\n",
       "      <td>2</td>\n",
       "      <td>121</td>\n",
       "      <td>0</td>\n",
       "      <td>unknown</td>\n",
       "    </tr>\n",
       "    <tr>\n",
       "      <th>27098</th>\n",
       "      <td>30</td>\n",
       "      <td>admin.</td>\n",
       "      <td>single</td>\n",
       "      <td>secondary</td>\n",
       "      <td>no</td>\n",
       "      <td>99621</td>\n",
       "      <td>yes</td>\n",
       "      <td>no</td>\n",
       "      <td>cellular</td>\n",
       "      <td>27</td>\n",
       "      <td>may</td>\n",
       "      <td>121</td>\n",
       "      <td>1</td>\n",
       "      <td>100</td>\n",
       "      <td>0</td>\n",
       "      <td>unknown</td>\n",
       "    </tr>\n",
       "    <tr>\n",
       "      <th>27099</th>\n",
       "      <td>34</td>\n",
       "      <td>management</td>\n",
       "      <td>married</td>\n",
       "      <td>tertiary</td>\n",
       "      <td>no</td>\n",
       "      <td>8657</td>\n",
       "      <td>yes</td>\n",
       "      <td>no</td>\n",
       "      <td>cellular</td>\n",
       "      <td>27</td>\n",
       "      <td>may</td>\n",
       "      <td>345</td>\n",
       "      <td>2</td>\n",
       "      <td>321</td>\n",
       "      <td>0</td>\n",
       "      <td>unknown</td>\n",
       "    </tr>\n",
       "  </tbody>\n",
       "</table>\n",
       "<p>27100 rows × 16 columns</p>\n",
       "</div>"
      ],
      "text/plain": [
       "       age           job  marital  education default  balance housing loan  \\\n",
       "id                                                                           \n",
       "0       31      services  married  secondary      no    12294     yes   no   \n",
       "1       29  entrepreneur   single   tertiary      no    43027      no   no   \n",
       "2       35    management  married   tertiary      no    12252     yes   no   \n",
       "3       31    technician  married  secondary      no    99121     yes  yes   \n",
       "4       48    unemployed  married    primary      no    42005     yes   no   \n",
       "...    ...           ...      ...        ...     ...      ...     ...  ...   \n",
       "27095   37   blue-collar  married  secondary      no    26661     yes   no   \n",
       "27096   35      services  married  secondary      no    42150     yes   no   \n",
       "27097   35      services  married    unknown      no    34531      no   no   \n",
       "27098   30        admin.   single  secondary      no    99621     yes   no   \n",
       "27099   34    management  married   tertiary      no     8657     yes   no   \n",
       "\n",
       "         contact  day month  duration  campaign  pdays  previous poutcome  \n",
       "id                                                                         \n",
       "0       cellular   21   nov       101         3    498         0    other  \n",
       "1       cellular   22   aug       158         2    702         0  unknown  \n",
       "2       cellular   11   nov       351         1    826         0  failure  \n",
       "3        unknown   16   may       658         2    120         0  failure  \n",
       "4      telephone    3   apr       177         1    273         0  unknown  \n",
       "...          ...  ...   ...       ...       ...    ...       ...      ...  \n",
       "27095   cellular   27   may       345         4    425         0  unknown  \n",
       "27096   cellular   27   may       121         1    719         0  unknown  \n",
       "27097   cellular   28   jun       177         2    121         0  unknown  \n",
       "27098   cellular   27   may       121         1    100         0  unknown  \n",
       "27099   cellular   27   may       345         2    321         0  unknown  \n",
       "\n",
       "[27100 rows x 16 columns]"
      ]
     },
     "execution_count": 98,
     "metadata": {},
     "output_type": "execute_result"
    }
   ],
   "source": [
    "trainX = train.iloc[:, :-1]\n",
    "trainX"
   ]
  },
  {
   "cell_type": "markdown",
   "metadata": {},
   "source": [
    "## trainから目的変数となるデータを取り出しましょう\n",
    "- yを選択し、変数yに代入しましょう"
   ]
  },
  {
   "cell_type": "code",
   "execution_count": 99,
   "metadata": {},
   "outputs": [],
   "source": [
    "y = train['y']"
   ]
  },
  {
   "cell_type": "markdown",
   "metadata": {},
   "source": [
    "## testから説明変数となるデータを取り出しましょう\n",
    "- testの全てのカラムが説明変数となりますので、copy関数を使って変数testXに代入します"
   ]
  },
  {
   "cell_type": "code",
   "execution_count": 100,
   "metadata": {},
   "outputs": [],
   "source": [
    "testX = test.copy()"
   ]
  },
  {
   "cell_type": "code",
   "execution_count": 101,
   "metadata": {},
   "outputs": [
    {
     "name": "stdout",
     "output_type": "stream",
     "text": [
      "(27100, 16)\n",
      "(18050, 16)\n"
     ]
    }
   ],
   "source": [
    "print(trainX.shape)\n",
    "print(testX.shape)"
   ]
  },
  {
   "cell_type": "code",
   "execution_count": 102,
   "metadata": {},
   "outputs": [
    {
     "data": {
      "text/plain": [
       "(45150, 17)"
      ]
     },
     "execution_count": 102,
     "metadata": {},
     "output_type": "execute_result"
    }
   ],
   "source": [
    "trainX['train_test'] = 0\n",
    "testX['train_test'] = 1\n",
    "X = pd.concat([trainX, testX])\n",
    "X.shape"
   ]
  },
  {
   "cell_type": "code",
   "execution_count": 103,
   "metadata": {},
   "outputs": [
    {
     "data": {
      "text/html": [
       "<div>\n",
       "<style scoped>\n",
       "    .dataframe tbody tr th:only-of-type {\n",
       "        vertical-align: middle;\n",
       "    }\n",
       "\n",
       "    .dataframe tbody tr th {\n",
       "        vertical-align: top;\n",
       "    }\n",
       "\n",
       "    .dataframe thead th {\n",
       "        text-align: right;\n",
       "    }\n",
       "</style>\n",
       "<table border=\"1\" class=\"dataframe\">\n",
       "  <thead>\n",
       "    <tr style=\"text-align: right;\">\n",
       "      <th></th>\n",
       "      <th>age</th>\n",
       "      <th>balance</th>\n",
       "      <th>day</th>\n",
       "      <th>duration</th>\n",
       "      <th>campaign</th>\n",
       "      <th>pdays</th>\n",
       "      <th>previous</th>\n",
       "      <th>y</th>\n",
       "    </tr>\n",
       "  </thead>\n",
       "  <tbody>\n",
       "    <tr>\n",
       "      <th>age</th>\n",
       "      <td>1.000000</td>\n",
       "      <td>-0.001185</td>\n",
       "      <td>-0.059669</td>\n",
       "      <td>-0.055642</td>\n",
       "      <td>0.037633</td>\n",
       "      <td>0.008551</td>\n",
       "      <td>0.037545</td>\n",
       "      <td>0.086668</td>\n",
       "    </tr>\n",
       "    <tr>\n",
       "      <th>balance</th>\n",
       "      <td>-0.001185</td>\n",
       "      <td>1.000000</td>\n",
       "      <td>0.003816</td>\n",
       "      <td>0.003144</td>\n",
       "      <td>-0.001229</td>\n",
       "      <td>0.003018</td>\n",
       "      <td>0.009717</td>\n",
       "      <td>-0.000899</td>\n",
       "    </tr>\n",
       "    <tr>\n",
       "      <th>day</th>\n",
       "      <td>-0.059669</td>\n",
       "      <td>0.003816</td>\n",
       "      <td>1.000000</td>\n",
       "      <td>0.134440</td>\n",
       "      <td>-0.060326</td>\n",
       "      <td>-0.000433</td>\n",
       "      <td>-0.048624</td>\n",
       "      <td>-0.011804</td>\n",
       "    </tr>\n",
       "    <tr>\n",
       "      <th>duration</th>\n",
       "      <td>-0.055642</td>\n",
       "      <td>0.003144</td>\n",
       "      <td>0.134440</td>\n",
       "      <td>1.000000</td>\n",
       "      <td>-0.094643</td>\n",
       "      <td>0.003804</td>\n",
       "      <td>-0.015184</td>\n",
       "      <td>-0.030313</td>\n",
       "    </tr>\n",
       "    <tr>\n",
       "      <th>campaign</th>\n",
       "      <td>0.037633</td>\n",
       "      <td>-0.001229</td>\n",
       "      <td>-0.060326</td>\n",
       "      <td>-0.094643</td>\n",
       "      <td>1.000000</td>\n",
       "      <td>-0.003626</td>\n",
       "      <td>-0.038244</td>\n",
       "      <td>-0.030653</td>\n",
       "    </tr>\n",
       "    <tr>\n",
       "      <th>pdays</th>\n",
       "      <td>0.008551</td>\n",
       "      <td>0.003018</td>\n",
       "      <td>-0.000433</td>\n",
       "      <td>0.003804</td>\n",
       "      <td>-0.003626</td>\n",
       "      <td>1.000000</td>\n",
       "      <td>0.002187</td>\n",
       "      <td>-0.000116</td>\n",
       "    </tr>\n",
       "    <tr>\n",
       "      <th>previous</th>\n",
       "      <td>0.037545</td>\n",
       "      <td>0.009717</td>\n",
       "      <td>-0.048624</td>\n",
       "      <td>-0.015184</td>\n",
       "      <td>-0.038244</td>\n",
       "      <td>0.002187</td>\n",
       "      <td>1.000000</td>\n",
       "      <td>0.188473</td>\n",
       "    </tr>\n",
       "    <tr>\n",
       "      <th>y</th>\n",
       "      <td>0.086668</td>\n",
       "      <td>-0.000899</td>\n",
       "      <td>-0.011804</td>\n",
       "      <td>-0.030313</td>\n",
       "      <td>-0.030653</td>\n",
       "      <td>-0.000116</td>\n",
       "      <td>0.188473</td>\n",
       "      <td>1.000000</td>\n",
       "    </tr>\n",
       "  </tbody>\n",
       "</table>\n",
       "</div>"
      ],
      "text/plain": [
       "               age   balance       day  duration  campaign     pdays  \\\n",
       "age       1.000000 -0.001185 -0.059669 -0.055642  0.037633  0.008551   \n",
       "balance  -0.001185  1.000000  0.003816  0.003144 -0.001229  0.003018   \n",
       "day      -0.059669  0.003816  1.000000  0.134440 -0.060326 -0.000433   \n",
       "duration -0.055642  0.003144  0.134440  1.000000 -0.094643  0.003804   \n",
       "campaign  0.037633 -0.001229 -0.060326 -0.094643  1.000000 -0.003626   \n",
       "pdays     0.008551  0.003018 -0.000433  0.003804 -0.003626  1.000000   \n",
       "previous  0.037545  0.009717 -0.048624 -0.015184 -0.038244  0.002187   \n",
       "y         0.086668 -0.000899 -0.011804 -0.030313 -0.030653 -0.000116   \n",
       "\n",
       "          previous         y  \n",
       "age       0.037545  0.086668  \n",
       "balance   0.009717 -0.000899  \n",
       "day      -0.048624 -0.011804  \n",
       "duration -0.015184 -0.030313  \n",
       "campaign -0.038244 -0.030653  \n",
       "pdays     0.002187 -0.000116  \n",
       "previous  1.000000  0.188473  \n",
       "y         0.188473  1.000000  "
      ]
     },
     "execution_count": 103,
     "metadata": {},
     "output_type": "execute_result"
    }
   ],
   "source": [
    "train.corr()"
   ]
  },
  {
   "cell_type": "code",
   "execution_count": 104,
   "metadata": {},
   "outputs": [
    {
     "data": {
      "text/plain": [
       "blue-collar      5957\n",
       "management       5346\n",
       "technician       4915\n",
       "admin.           3187\n",
       "services         2471\n",
       "self-employed    1163\n",
       "entrepreneur     1155\n",
       "retired          1004\n",
       "unemployed        795\n",
       "housemaid         754\n",
       "student           353\n",
       "Name: job, dtype: int64"
      ]
     },
     "execution_count": 104,
     "metadata": {},
     "output_type": "execute_result"
    }
   ],
   "source": [
    "train['job'].value_counts()"
   ]
  },
  {
   "cell_type": "code",
   "execution_count": 105,
   "metadata": {},
   "outputs": [
    {
     "data": {
      "text/plain": [
       "blue-collar      4086\n",
       "management       3527\n",
       "technician       3213\n",
       "admin.           2152\n",
       "services         1721\n",
       "entrepreneur      729\n",
       "self-employed     727\n",
       "retired           657\n",
       "unemployed        511\n",
       "housemaid         496\n",
       "student           230\n",
       "unknown             1\n",
       "Name: job, dtype: int64"
      ]
     },
     "execution_count": 105,
     "metadata": {},
     "output_type": "execute_result"
    }
   ],
   "source": [
    "test['job'].value_counts()"
   ]
  },
  {
   "cell_type": "markdown",
   "metadata": {},
   "source": [
    "## データ加工"
   ]
  },
  {
   "cell_type": "markdown",
   "metadata": {},
   "source": [
    "### ビニング"
   ]
  },
  {
   "cell_type": "code",
   "execution_count": 106,
   "metadata": {},
   "outputs": [
    {
     "data": {
      "text/plain": [
       "id\n",
       "0        (30, 40]\n",
       "1        (20, 30]\n",
       "2        (30, 40]\n",
       "3        (30, 40]\n",
       "4        (40, 50]\n",
       "           ...   \n",
       "27095    (30, 40]\n",
       "27096    (30, 40]\n",
       "27097    (30, 40]\n",
       "27098    (20, 30]\n",
       "27099    (30, 40]\n",
       "Name: age, Length: 27100, dtype: category\n",
       "Categories (5, interval[int64]): [(20, 30] < (30, 40] < (40, 50] < (50, 60] < (60, 100]]"
      ]
     },
     "execution_count": 106,
     "metadata": {},
     "output_type": "execute_result"
    }
   ],
   "source": [
    "age_bining = pd.cut(train['age'], [20,30,40,50,60,100])\n",
    "age_bining"
   ]
  },
  {
   "cell_type": "code",
   "execution_count": 107,
   "metadata": {},
   "outputs": [
    {
     "data": {
      "text/html": [
       "<div>\n",
       "<style scoped>\n",
       "    .dataframe tbody tr th:only-of-type {\n",
       "        vertical-align: middle;\n",
       "    }\n",
       "\n",
       "    .dataframe tbody tr th {\n",
       "        vertical-align: top;\n",
       "    }\n",
       "\n",
       "    .dataframe thead th {\n",
       "        text-align: right;\n",
       "    }\n",
       "</style>\n",
       "<table border=\"1\" class=\"dataframe\">\n",
       "  <thead>\n",
       "    <tr style=\"text-align: right;\">\n",
       "      <th>y</th>\n",
       "      <th>0</th>\n",
       "      <th>1</th>\n",
       "      <th>All</th>\n",
       "    </tr>\n",
       "    <tr>\n",
       "      <th>age</th>\n",
       "      <th></th>\n",
       "      <th></th>\n",
       "      <th></th>\n",
       "    </tr>\n",
       "  </thead>\n",
       "  <tbody>\n",
       "    <tr>\n",
       "      <th>(20, 30]</th>\n",
       "      <td>4210</td>\n",
       "      <td>462</td>\n",
       "      <td>4672</td>\n",
       "    </tr>\n",
       "    <tr>\n",
       "      <th>(30, 40]</th>\n",
       "      <td>16243</td>\n",
       "      <td>1014</td>\n",
       "      <td>17257</td>\n",
       "    </tr>\n",
       "    <tr>\n",
       "      <th>(40, 50]</th>\n",
       "      <td>2765</td>\n",
       "      <td>297</td>\n",
       "      <td>3062</td>\n",
       "    </tr>\n",
       "    <tr>\n",
       "      <th>(50, 60]</th>\n",
       "      <td>1757</td>\n",
       "      <td>339</td>\n",
       "      <td>2096</td>\n",
       "    </tr>\n",
       "    <tr>\n",
       "      <th>(60, 100]</th>\n",
       "      <td>13</td>\n",
       "      <td>0</td>\n",
       "      <td>13</td>\n",
       "    </tr>\n",
       "    <tr>\n",
       "      <th>All</th>\n",
       "      <td>24988</td>\n",
       "      <td>2112</td>\n",
       "      <td>27100</td>\n",
       "    </tr>\n",
       "  </tbody>\n",
       "</table>\n",
       "</div>"
      ],
      "text/plain": [
       "y              0     1    All\n",
       "age                          \n",
       "(20, 30]    4210   462   4672\n",
       "(30, 40]   16243  1014  17257\n",
       "(40, 50]    2765   297   3062\n",
       "(50, 60]    1757   339   2096\n",
       "(60, 100]     13     0     13\n",
       "All        24988  2112  27100"
      ]
     },
     "execution_count": 107,
     "metadata": {},
     "output_type": "execute_result"
    }
   ],
   "source": [
    "pd.crosstab(age_bining, train['y'], margins=True)"
   ]
  },
  {
   "cell_type": "code",
   "execution_count": 108,
   "metadata": {},
   "outputs": [
    {
     "data": {
      "text/plain": [
       "id\n",
       "0        (100, 200]\n",
       "1        (100, 200]\n",
       "2        (300, 400]\n",
       "3        (600, 700]\n",
       "4        (100, 200]\n",
       "            ...    \n",
       "27095    (300, 400]\n",
       "27096    (100, 200]\n",
       "27097    (100, 200]\n",
       "27098    (100, 200]\n",
       "27099    (300, 400]\n",
       "Name: duration, Length: 27100, dtype: category\n",
       "Categories (11, interval[int64]): [(-1, 100] < (100, 200] < (200, 300] < (300, 400] ... (700, 800] < (800, 900] < (900, 1000] < (1000, 5000]]"
      ]
     },
     "execution_count": 108,
     "metadata": {},
     "output_type": "execute_result"
    }
   ],
   "source": [
    "duration_bining = pd.cut(train['duration'], [-1, 100,200,300,400,500,600,700,800,900,1000,5000])\n",
    "duration_bining"
   ]
  },
  {
   "cell_type": "code",
   "execution_count": 109,
   "metadata": {},
   "outputs": [],
   "source": [
    "X['age_bining'] = pd.cut(X['age'], [20,30,40,50,60,100])\n",
    "X['duration_bining'] = pd.cut(X['duration'], [-1, 100,200,300,400,500,600,700,800,900,1000,5000])\n"
   ]
  },
  {
   "cell_type": "code",
   "execution_count": 110,
   "metadata": {},
   "outputs": [
    {
     "data": {
      "text/html": [
       "<div>\n",
       "<style scoped>\n",
       "    .dataframe tbody tr th:only-of-type {\n",
       "        vertical-align: middle;\n",
       "    }\n",
       "\n",
       "    .dataframe tbody tr th {\n",
       "        vertical-align: top;\n",
       "    }\n",
       "\n",
       "    .dataframe thead th {\n",
       "        text-align: right;\n",
       "    }\n",
       "</style>\n",
       "<table border=\"1\" class=\"dataframe\">\n",
       "  <thead>\n",
       "    <tr style=\"text-align: right;\">\n",
       "      <th></th>\n",
       "      <th>age</th>\n",
       "      <th>job</th>\n",
       "      <th>marital</th>\n",
       "      <th>education</th>\n",
       "      <th>default</th>\n",
       "      <th>balance</th>\n",
       "      <th>housing</th>\n",
       "      <th>loan</th>\n",
       "      <th>contact</th>\n",
       "      <th>day</th>\n",
       "      <th>month</th>\n",
       "      <th>duration</th>\n",
       "      <th>campaign</th>\n",
       "      <th>pdays</th>\n",
       "      <th>previous</th>\n",
       "      <th>poutcome</th>\n",
       "      <th>train_test</th>\n",
       "      <th>age_bining</th>\n",
       "      <th>duration_bining</th>\n",
       "    </tr>\n",
       "    <tr>\n",
       "      <th>id</th>\n",
       "      <th></th>\n",
       "      <th></th>\n",
       "      <th></th>\n",
       "      <th></th>\n",
       "      <th></th>\n",
       "      <th></th>\n",
       "      <th></th>\n",
       "      <th></th>\n",
       "      <th></th>\n",
       "      <th></th>\n",
       "      <th></th>\n",
       "      <th></th>\n",
       "      <th></th>\n",
       "      <th></th>\n",
       "      <th></th>\n",
       "      <th></th>\n",
       "      <th></th>\n",
       "      <th></th>\n",
       "      <th></th>\n",
       "    </tr>\n",
       "  </thead>\n",
       "  <tbody>\n",
       "    <tr>\n",
       "      <th>0</th>\n",
       "      <td>31</td>\n",
       "      <td>services</td>\n",
       "      <td>married</td>\n",
       "      <td>secondary</td>\n",
       "      <td>no</td>\n",
       "      <td>12294</td>\n",
       "      <td>yes</td>\n",
       "      <td>no</td>\n",
       "      <td>cellular</td>\n",
       "      <td>21</td>\n",
       "      <td>nov</td>\n",
       "      <td>101</td>\n",
       "      <td>3</td>\n",
       "      <td>498</td>\n",
       "      <td>0</td>\n",
       "      <td>other</td>\n",
       "      <td>0</td>\n",
       "      <td>(30, 40]</td>\n",
       "      <td>(100, 200]</td>\n",
       "    </tr>\n",
       "    <tr>\n",
       "      <th>1</th>\n",
       "      <td>29</td>\n",
       "      <td>entrepreneur</td>\n",
       "      <td>single</td>\n",
       "      <td>tertiary</td>\n",
       "      <td>no</td>\n",
       "      <td>43027</td>\n",
       "      <td>no</td>\n",
       "      <td>no</td>\n",
       "      <td>cellular</td>\n",
       "      <td>22</td>\n",
       "      <td>aug</td>\n",
       "      <td>158</td>\n",
       "      <td>2</td>\n",
       "      <td>702</td>\n",
       "      <td>0</td>\n",
       "      <td>unknown</td>\n",
       "      <td>0</td>\n",
       "      <td>(20, 30]</td>\n",
       "      <td>(100, 200]</td>\n",
       "    </tr>\n",
       "    <tr>\n",
       "      <th>2</th>\n",
       "      <td>35</td>\n",
       "      <td>management</td>\n",
       "      <td>married</td>\n",
       "      <td>tertiary</td>\n",
       "      <td>no</td>\n",
       "      <td>12252</td>\n",
       "      <td>yes</td>\n",
       "      <td>no</td>\n",
       "      <td>cellular</td>\n",
       "      <td>11</td>\n",
       "      <td>nov</td>\n",
       "      <td>351</td>\n",
       "      <td>1</td>\n",
       "      <td>826</td>\n",
       "      <td>0</td>\n",
       "      <td>failure</td>\n",
       "      <td>0</td>\n",
       "      <td>(30, 40]</td>\n",
       "      <td>(300, 400]</td>\n",
       "    </tr>\n",
       "    <tr>\n",
       "      <th>3</th>\n",
       "      <td>31</td>\n",
       "      <td>technician</td>\n",
       "      <td>married</td>\n",
       "      <td>secondary</td>\n",
       "      <td>no</td>\n",
       "      <td>99121</td>\n",
       "      <td>yes</td>\n",
       "      <td>yes</td>\n",
       "      <td>unknown</td>\n",
       "      <td>16</td>\n",
       "      <td>may</td>\n",
       "      <td>658</td>\n",
       "      <td>2</td>\n",
       "      <td>120</td>\n",
       "      <td>0</td>\n",
       "      <td>failure</td>\n",
       "      <td>0</td>\n",
       "      <td>(30, 40]</td>\n",
       "      <td>(600, 700]</td>\n",
       "    </tr>\n",
       "    <tr>\n",
       "      <th>4</th>\n",
       "      <td>48</td>\n",
       "      <td>unemployed</td>\n",
       "      <td>married</td>\n",
       "      <td>primary</td>\n",
       "      <td>no</td>\n",
       "      <td>42005</td>\n",
       "      <td>yes</td>\n",
       "      <td>no</td>\n",
       "      <td>telephone</td>\n",
       "      <td>3</td>\n",
       "      <td>apr</td>\n",
       "      <td>177</td>\n",
       "      <td>1</td>\n",
       "      <td>273</td>\n",
       "      <td>0</td>\n",
       "      <td>unknown</td>\n",
       "      <td>0</td>\n",
       "      <td>(40, 50]</td>\n",
       "      <td>(100, 200]</td>\n",
       "    </tr>\n",
       "    <tr>\n",
       "      <th>...</th>\n",
       "      <td>...</td>\n",
       "      <td>...</td>\n",
       "      <td>...</td>\n",
       "      <td>...</td>\n",
       "      <td>...</td>\n",
       "      <td>...</td>\n",
       "      <td>...</td>\n",
       "      <td>...</td>\n",
       "      <td>...</td>\n",
       "      <td>...</td>\n",
       "      <td>...</td>\n",
       "      <td>...</td>\n",
       "      <td>...</td>\n",
       "      <td>...</td>\n",
       "      <td>...</td>\n",
       "      <td>...</td>\n",
       "      <td>...</td>\n",
       "      <td>...</td>\n",
       "      <td>...</td>\n",
       "    </tr>\n",
       "    <tr>\n",
       "      <th>18045</th>\n",
       "      <td>49</td>\n",
       "      <td>self-employed</td>\n",
       "      <td>married</td>\n",
       "      <td>tertiary</td>\n",
       "      <td>no</td>\n",
       "      <td>98357</td>\n",
       "      <td>yes</td>\n",
       "      <td>no</td>\n",
       "      <td>cellular</td>\n",
       "      <td>6</td>\n",
       "      <td>jul</td>\n",
       "      <td>101</td>\n",
       "      <td>2</td>\n",
       "      <td>417</td>\n",
       "      <td>0</td>\n",
       "      <td>failure</td>\n",
       "      <td>1</td>\n",
       "      <td>(40, 50]</td>\n",
       "      <td>(100, 200]</td>\n",
       "    </tr>\n",
       "    <tr>\n",
       "      <th>18046</th>\n",
       "      <td>34</td>\n",
       "      <td>blue-collar</td>\n",
       "      <td>married</td>\n",
       "      <td>secondary</td>\n",
       "      <td>no</td>\n",
       "      <td>29621</td>\n",
       "      <td>yes</td>\n",
       "      <td>no</td>\n",
       "      <td>cellular</td>\n",
       "      <td>12</td>\n",
       "      <td>may</td>\n",
       "      <td>345</td>\n",
       "      <td>1</td>\n",
       "      <td>815</td>\n",
       "      <td>0</td>\n",
       "      <td>unknown</td>\n",
       "      <td>1</td>\n",
       "      <td>(30, 40]</td>\n",
       "      <td>(300, 400]</td>\n",
       "    </tr>\n",
       "    <tr>\n",
       "      <th>18047</th>\n",
       "      <td>34</td>\n",
       "      <td>admin.</td>\n",
       "      <td>single</td>\n",
       "      <td>secondary</td>\n",
       "      <td>no</td>\n",
       "      <td>94260</td>\n",
       "      <td>yes</td>\n",
       "      <td>no</td>\n",
       "      <td>unknown</td>\n",
       "      <td>16</td>\n",
       "      <td>may</td>\n",
       "      <td>121</td>\n",
       "      <td>2</td>\n",
       "      <td>370</td>\n",
       "      <td>0</td>\n",
       "      <td>unknown</td>\n",
       "      <td>1</td>\n",
       "      <td>(30, 40]</td>\n",
       "      <td>(100, 200]</td>\n",
       "    </tr>\n",
       "    <tr>\n",
       "      <th>18048</th>\n",
       "      <td>31</td>\n",
       "      <td>technician</td>\n",
       "      <td>single</td>\n",
       "      <td>secondary</td>\n",
       "      <td>no</td>\n",
       "      <td>65483</td>\n",
       "      <td>yes</td>\n",
       "      <td>no</td>\n",
       "      <td>unknown</td>\n",
       "      <td>15</td>\n",
       "      <td>may</td>\n",
       "      <td>345</td>\n",
       "      <td>2</td>\n",
       "      <td>41</td>\n",
       "      <td>0</td>\n",
       "      <td>unknown</td>\n",
       "      <td>1</td>\n",
       "      <td>(30, 40]</td>\n",
       "      <td>(300, 400]</td>\n",
       "    </tr>\n",
       "    <tr>\n",
       "      <th>18049</th>\n",
       "      <td>30</td>\n",
       "      <td>retired</td>\n",
       "      <td>married</td>\n",
       "      <td>primary</td>\n",
       "      <td>no</td>\n",
       "      <td>6474</td>\n",
       "      <td>no</td>\n",
       "      <td>no</td>\n",
       "      <td>cellular</td>\n",
       "      <td>13</td>\n",
       "      <td>aug</td>\n",
       "      <td>158</td>\n",
       "      <td>1</td>\n",
       "      <td>699</td>\n",
       "      <td>0</td>\n",
       "      <td>unknown</td>\n",
       "      <td>1</td>\n",
       "      <td>(20, 30]</td>\n",
       "      <td>(100, 200]</td>\n",
       "    </tr>\n",
       "  </tbody>\n",
       "</table>\n",
       "<p>45150 rows × 19 columns</p>\n",
       "</div>"
      ],
      "text/plain": [
       "       age            job  marital  education default  balance housing loan  \\\n",
       "id                                                                            \n",
       "0       31       services  married  secondary      no    12294     yes   no   \n",
       "1       29   entrepreneur   single   tertiary      no    43027      no   no   \n",
       "2       35     management  married   tertiary      no    12252     yes   no   \n",
       "3       31     technician  married  secondary      no    99121     yes  yes   \n",
       "4       48     unemployed  married    primary      no    42005     yes   no   \n",
       "...    ...            ...      ...        ...     ...      ...     ...  ...   \n",
       "18045   49  self-employed  married   tertiary      no    98357     yes   no   \n",
       "18046   34    blue-collar  married  secondary      no    29621     yes   no   \n",
       "18047   34         admin.   single  secondary      no    94260     yes   no   \n",
       "18048   31     technician   single  secondary      no    65483     yes   no   \n",
       "18049   30        retired  married    primary      no     6474      no   no   \n",
       "\n",
       "         contact  day month  duration  campaign  pdays  previous poutcome  \\\n",
       "id                                                                          \n",
       "0       cellular   21   nov       101         3    498         0    other   \n",
       "1       cellular   22   aug       158         2    702         0  unknown   \n",
       "2       cellular   11   nov       351         1    826         0  failure   \n",
       "3        unknown   16   may       658         2    120         0  failure   \n",
       "4      telephone    3   apr       177         1    273         0  unknown   \n",
       "...          ...  ...   ...       ...       ...    ...       ...      ...   \n",
       "18045   cellular    6   jul       101         2    417         0  failure   \n",
       "18046   cellular   12   may       345         1    815         0  unknown   \n",
       "18047    unknown   16   may       121         2    370         0  unknown   \n",
       "18048    unknown   15   may       345         2     41         0  unknown   \n",
       "18049   cellular   13   aug       158         1    699         0  unknown   \n",
       "\n",
       "       train_test age_bining duration_bining  \n",
       "id                                            \n",
       "0               0   (30, 40]      (100, 200]  \n",
       "1               0   (20, 30]      (100, 200]  \n",
       "2               0   (30, 40]      (300, 400]  \n",
       "3               0   (30, 40]      (600, 700]  \n",
       "4               0   (40, 50]      (100, 200]  \n",
       "...           ...        ...             ...  \n",
       "18045           1   (40, 50]      (100, 200]  \n",
       "18046           1   (30, 40]      (300, 400]  \n",
       "18047           1   (30, 40]      (100, 200]  \n",
       "18048           1   (30, 40]      (300, 400]  \n",
       "18049           1   (20, 30]      (100, 200]  \n",
       "\n",
       "[45150 rows x 19 columns]"
      ]
     },
     "execution_count": 110,
     "metadata": {},
     "output_type": "execute_result"
    }
   ],
   "source": [
    "X"
   ]
  },
  {
   "cell_type": "code",
   "execution_count": 111,
   "metadata": {},
   "outputs": [
    {
     "name": "stdout",
     "output_type": "stream",
     "text": [
      "<class 'pandas.core.frame.DataFrame'>\n",
      "Int64Index: 45150 entries, 0 to 18049\n",
      "Data columns (total 19 columns):\n",
      " #   Column           Non-Null Count  Dtype   \n",
      "---  ------           --------------  -----   \n",
      " 0   age              45150 non-null  int64   \n",
      " 1   job              45150 non-null  object  \n",
      " 2   marital          45150 non-null  object  \n",
      " 3   education        45150 non-null  object  \n",
      " 4   default          45150 non-null  object  \n",
      " 5   balance          45150 non-null  int64   \n",
      " 6   housing          45150 non-null  object  \n",
      " 7   loan             45150 non-null  object  \n",
      " 8   contact          45150 non-null  object  \n",
      " 9   day              45150 non-null  int64   \n",
      " 10  month            45150 non-null  object  \n",
      " 11  duration         45150 non-null  int64   \n",
      " 12  campaign         45150 non-null  int64   \n",
      " 13  pdays            45150 non-null  int64   \n",
      " 14  previous         45150 non-null  int64   \n",
      " 15  poutcome         45150 non-null  object  \n",
      " 16  train_test       45150 non-null  int64   \n",
      " 17  age_bining       45149 non-null  category\n",
      " 18  duration_bining  45150 non-null  category\n",
      "dtypes: category(2), int64(8), object(9)\n",
      "memory usage: 6.3+ MB\n"
     ]
    }
   ],
   "source": [
    "X.info()"
   ]
  },
  {
   "cell_type": "markdown",
   "metadata": {},
   "source": [
    "## trainXとtestXをダミー変数化しましょう"
   ]
  },
  {
   "cell_type": "code",
   "execution_count": 112,
   "metadata": {},
   "outputs": [
    {
     "data": {
      "text/plain": [
       "['job',\n",
       " 'marital',\n",
       " 'education',\n",
       " 'default',\n",
       " 'housing',\n",
       " 'loan',\n",
       " 'contact',\n",
       " 'month',\n",
       " 'poutcome']"
      ]
     },
     "execution_count": 112,
     "metadata": {},
     "output_type": "execute_result"
    }
   ],
   "source": [
    "cols_o = X.select_dtypes(include='object').columns.tolist()\n",
    "cols_o"
   ]
  },
  {
   "cell_type": "code",
   "execution_count": 113,
   "metadata": {},
   "outputs": [
    {
     "data": {
      "text/html": [
       "<div>\n",
       "<style scoped>\n",
       "    .dataframe tbody tr th:only-of-type {\n",
       "        vertical-align: middle;\n",
       "    }\n",
       "\n",
       "    .dataframe tbody tr th {\n",
       "        vertical-align: top;\n",
       "    }\n",
       "\n",
       "    .dataframe thead th {\n",
       "        text-align: right;\n",
       "    }\n",
       "</style>\n",
       "<table border=\"1\" class=\"dataframe\">\n",
       "  <thead>\n",
       "    <tr style=\"text-align: right;\">\n",
       "      <th></th>\n",
       "      <th>age</th>\n",
       "      <th>balance</th>\n",
       "      <th>day</th>\n",
       "      <th>duration</th>\n",
       "      <th>campaign</th>\n",
       "      <th>pdays</th>\n",
       "      <th>previous</th>\n",
       "      <th>train_test</th>\n",
       "      <th>job_admin.</th>\n",
       "      <th>job_blue-collar</th>\n",
       "      <th>...</th>\n",
       "      <th>duration_bining_(100, 200]</th>\n",
       "      <th>duration_bining_(200, 300]</th>\n",
       "      <th>duration_bining_(300, 400]</th>\n",
       "      <th>duration_bining_(400, 500]</th>\n",
       "      <th>duration_bining_(500, 600]</th>\n",
       "      <th>duration_bining_(600, 700]</th>\n",
       "      <th>duration_bining_(700, 800]</th>\n",
       "      <th>duration_bining_(800, 900]</th>\n",
       "      <th>duration_bining_(900, 1000]</th>\n",
       "      <th>duration_bining_(1000, 5000]</th>\n",
       "    </tr>\n",
       "    <tr>\n",
       "      <th>id</th>\n",
       "      <th></th>\n",
       "      <th></th>\n",
       "      <th></th>\n",
       "      <th></th>\n",
       "      <th></th>\n",
       "      <th></th>\n",
       "      <th></th>\n",
       "      <th></th>\n",
       "      <th></th>\n",
       "      <th></th>\n",
       "      <th></th>\n",
       "      <th></th>\n",
       "      <th></th>\n",
       "      <th></th>\n",
       "      <th></th>\n",
       "      <th></th>\n",
       "      <th></th>\n",
       "      <th></th>\n",
       "      <th></th>\n",
       "      <th></th>\n",
       "      <th></th>\n",
       "    </tr>\n",
       "  </thead>\n",
       "  <tbody>\n",
       "    <tr>\n",
       "      <th>0</th>\n",
       "      <td>31</td>\n",
       "      <td>12294</td>\n",
       "      <td>21</td>\n",
       "      <td>101</td>\n",
       "      <td>3</td>\n",
       "      <td>498</td>\n",
       "      <td>0</td>\n",
       "      <td>0</td>\n",
       "      <td>0</td>\n",
       "      <td>0</td>\n",
       "      <td>...</td>\n",
       "      <td>1</td>\n",
       "      <td>0</td>\n",
       "      <td>0</td>\n",
       "      <td>0</td>\n",
       "      <td>0</td>\n",
       "      <td>0</td>\n",
       "      <td>0</td>\n",
       "      <td>0</td>\n",
       "      <td>0</td>\n",
       "      <td>0</td>\n",
       "    </tr>\n",
       "    <tr>\n",
       "      <th>1</th>\n",
       "      <td>29</td>\n",
       "      <td>43027</td>\n",
       "      <td>22</td>\n",
       "      <td>158</td>\n",
       "      <td>2</td>\n",
       "      <td>702</td>\n",
       "      <td>0</td>\n",
       "      <td>0</td>\n",
       "      <td>0</td>\n",
       "      <td>0</td>\n",
       "      <td>...</td>\n",
       "      <td>1</td>\n",
       "      <td>0</td>\n",
       "      <td>0</td>\n",
       "      <td>0</td>\n",
       "      <td>0</td>\n",
       "      <td>0</td>\n",
       "      <td>0</td>\n",
       "      <td>0</td>\n",
       "      <td>0</td>\n",
       "      <td>0</td>\n",
       "    </tr>\n",
       "    <tr>\n",
       "      <th>2</th>\n",
       "      <td>35</td>\n",
       "      <td>12252</td>\n",
       "      <td>11</td>\n",
       "      <td>351</td>\n",
       "      <td>1</td>\n",
       "      <td>826</td>\n",
       "      <td>0</td>\n",
       "      <td>0</td>\n",
       "      <td>0</td>\n",
       "      <td>0</td>\n",
       "      <td>...</td>\n",
       "      <td>0</td>\n",
       "      <td>0</td>\n",
       "      <td>1</td>\n",
       "      <td>0</td>\n",
       "      <td>0</td>\n",
       "      <td>0</td>\n",
       "      <td>0</td>\n",
       "      <td>0</td>\n",
       "      <td>0</td>\n",
       "      <td>0</td>\n",
       "    </tr>\n",
       "    <tr>\n",
       "      <th>3</th>\n",
       "      <td>31</td>\n",
       "      <td>99121</td>\n",
       "      <td>16</td>\n",
       "      <td>658</td>\n",
       "      <td>2</td>\n",
       "      <td>120</td>\n",
       "      <td>0</td>\n",
       "      <td>0</td>\n",
       "      <td>0</td>\n",
       "      <td>0</td>\n",
       "      <td>...</td>\n",
       "      <td>0</td>\n",
       "      <td>0</td>\n",
       "      <td>0</td>\n",
       "      <td>0</td>\n",
       "      <td>0</td>\n",
       "      <td>1</td>\n",
       "      <td>0</td>\n",
       "      <td>0</td>\n",
       "      <td>0</td>\n",
       "      <td>0</td>\n",
       "    </tr>\n",
       "    <tr>\n",
       "      <th>4</th>\n",
       "      <td>48</td>\n",
       "      <td>42005</td>\n",
       "      <td>3</td>\n",
       "      <td>177</td>\n",
       "      <td>1</td>\n",
       "      <td>273</td>\n",
       "      <td>0</td>\n",
       "      <td>0</td>\n",
       "      <td>0</td>\n",
       "      <td>0</td>\n",
       "      <td>...</td>\n",
       "      <td>1</td>\n",
       "      <td>0</td>\n",
       "      <td>0</td>\n",
       "      <td>0</td>\n",
       "      <td>0</td>\n",
       "      <td>0</td>\n",
       "      <td>0</td>\n",
       "      <td>0</td>\n",
       "      <td>0</td>\n",
       "      <td>0</td>\n",
       "    </tr>\n",
       "    <tr>\n",
       "      <th>...</th>\n",
       "      <td>...</td>\n",
       "      <td>...</td>\n",
       "      <td>...</td>\n",
       "      <td>...</td>\n",
       "      <td>...</td>\n",
       "      <td>...</td>\n",
       "      <td>...</td>\n",
       "      <td>...</td>\n",
       "      <td>...</td>\n",
       "      <td>...</td>\n",
       "      <td>...</td>\n",
       "      <td>...</td>\n",
       "      <td>...</td>\n",
       "      <td>...</td>\n",
       "      <td>...</td>\n",
       "      <td>...</td>\n",
       "      <td>...</td>\n",
       "      <td>...</td>\n",
       "      <td>...</td>\n",
       "      <td>...</td>\n",
       "      <td>...</td>\n",
       "    </tr>\n",
       "    <tr>\n",
       "      <th>18045</th>\n",
       "      <td>49</td>\n",
       "      <td>98357</td>\n",
       "      <td>6</td>\n",
       "      <td>101</td>\n",
       "      <td>2</td>\n",
       "      <td>417</td>\n",
       "      <td>0</td>\n",
       "      <td>1</td>\n",
       "      <td>0</td>\n",
       "      <td>0</td>\n",
       "      <td>...</td>\n",
       "      <td>1</td>\n",
       "      <td>0</td>\n",
       "      <td>0</td>\n",
       "      <td>0</td>\n",
       "      <td>0</td>\n",
       "      <td>0</td>\n",
       "      <td>0</td>\n",
       "      <td>0</td>\n",
       "      <td>0</td>\n",
       "      <td>0</td>\n",
       "    </tr>\n",
       "    <tr>\n",
       "      <th>18046</th>\n",
       "      <td>34</td>\n",
       "      <td>29621</td>\n",
       "      <td>12</td>\n",
       "      <td>345</td>\n",
       "      <td>1</td>\n",
       "      <td>815</td>\n",
       "      <td>0</td>\n",
       "      <td>1</td>\n",
       "      <td>0</td>\n",
       "      <td>1</td>\n",
       "      <td>...</td>\n",
       "      <td>0</td>\n",
       "      <td>0</td>\n",
       "      <td>1</td>\n",
       "      <td>0</td>\n",
       "      <td>0</td>\n",
       "      <td>0</td>\n",
       "      <td>0</td>\n",
       "      <td>0</td>\n",
       "      <td>0</td>\n",
       "      <td>0</td>\n",
       "    </tr>\n",
       "    <tr>\n",
       "      <th>18047</th>\n",
       "      <td>34</td>\n",
       "      <td>94260</td>\n",
       "      <td>16</td>\n",
       "      <td>121</td>\n",
       "      <td>2</td>\n",
       "      <td>370</td>\n",
       "      <td>0</td>\n",
       "      <td>1</td>\n",
       "      <td>1</td>\n",
       "      <td>0</td>\n",
       "      <td>...</td>\n",
       "      <td>1</td>\n",
       "      <td>0</td>\n",
       "      <td>0</td>\n",
       "      <td>0</td>\n",
       "      <td>0</td>\n",
       "      <td>0</td>\n",
       "      <td>0</td>\n",
       "      <td>0</td>\n",
       "      <td>0</td>\n",
       "      <td>0</td>\n",
       "    </tr>\n",
       "    <tr>\n",
       "      <th>18048</th>\n",
       "      <td>31</td>\n",
       "      <td>65483</td>\n",
       "      <td>15</td>\n",
       "      <td>345</td>\n",
       "      <td>2</td>\n",
       "      <td>41</td>\n",
       "      <td>0</td>\n",
       "      <td>1</td>\n",
       "      <td>0</td>\n",
       "      <td>0</td>\n",
       "      <td>...</td>\n",
       "      <td>0</td>\n",
       "      <td>0</td>\n",
       "      <td>1</td>\n",
       "      <td>0</td>\n",
       "      <td>0</td>\n",
       "      <td>0</td>\n",
       "      <td>0</td>\n",
       "      <td>0</td>\n",
       "      <td>0</td>\n",
       "      <td>0</td>\n",
       "    </tr>\n",
       "    <tr>\n",
       "      <th>18049</th>\n",
       "      <td>30</td>\n",
       "      <td>6474</td>\n",
       "      <td>13</td>\n",
       "      <td>158</td>\n",
       "      <td>1</td>\n",
       "      <td>699</td>\n",
       "      <td>0</td>\n",
       "      <td>1</td>\n",
       "      <td>0</td>\n",
       "      <td>0</td>\n",
       "      <td>...</td>\n",
       "      <td>1</td>\n",
       "      <td>0</td>\n",
       "      <td>0</td>\n",
       "      <td>0</td>\n",
       "      <td>0</td>\n",
       "      <td>0</td>\n",
       "      <td>0</td>\n",
       "      <td>0</td>\n",
       "      <td>0</td>\n",
       "      <td>0</td>\n",
       "    </tr>\n",
       "  </tbody>\n",
       "</table>\n",
       "<p>45150 rows × 67 columns</p>\n",
       "</div>"
      ],
      "text/plain": [
       "       age  balance  day  duration  campaign  pdays  previous  train_test  \\\n",
       "id                                                                          \n",
       "0       31    12294   21       101         3    498         0           0   \n",
       "1       29    43027   22       158         2    702         0           0   \n",
       "2       35    12252   11       351         1    826         0           0   \n",
       "3       31    99121   16       658         2    120         0           0   \n",
       "4       48    42005    3       177         1    273         0           0   \n",
       "...    ...      ...  ...       ...       ...    ...       ...         ...   \n",
       "18045   49    98357    6       101         2    417         0           1   \n",
       "18046   34    29621   12       345         1    815         0           1   \n",
       "18047   34    94260   16       121         2    370         0           1   \n",
       "18048   31    65483   15       345         2     41         0           1   \n",
       "18049   30     6474   13       158         1    699         0           1   \n",
       "\n",
       "       job_admin.  job_blue-collar  ...  duration_bining_(100, 200]  \\\n",
       "id                                  ...                               \n",
       "0               0                0  ...                           1   \n",
       "1               0                0  ...                           1   \n",
       "2               0                0  ...                           0   \n",
       "3               0                0  ...                           0   \n",
       "4               0                0  ...                           1   \n",
       "...           ...              ...  ...                         ...   \n",
       "18045           0                0  ...                           1   \n",
       "18046           0                1  ...                           0   \n",
       "18047           1                0  ...                           1   \n",
       "18048           0                0  ...                           0   \n",
       "18049           0                0  ...                           1   \n",
       "\n",
       "       duration_bining_(200, 300]  duration_bining_(300, 400]  \\\n",
       "id                                                              \n",
       "0                               0                           0   \n",
       "1                               0                           0   \n",
       "2                               0                           1   \n",
       "3                               0                           0   \n",
       "4                               0                           0   \n",
       "...                           ...                         ...   \n",
       "18045                           0                           0   \n",
       "18046                           0                           1   \n",
       "18047                           0                           0   \n",
       "18048                           0                           1   \n",
       "18049                           0                           0   \n",
       "\n",
       "       duration_bining_(400, 500]  duration_bining_(500, 600]  \\\n",
       "id                                                              \n",
       "0                               0                           0   \n",
       "1                               0                           0   \n",
       "2                               0                           0   \n",
       "3                               0                           0   \n",
       "4                               0                           0   \n",
       "...                           ...                         ...   \n",
       "18045                           0                           0   \n",
       "18046                           0                           0   \n",
       "18047                           0                           0   \n",
       "18048                           0                           0   \n",
       "18049                           0                           0   \n",
       "\n",
       "       duration_bining_(600, 700]  duration_bining_(700, 800]  \\\n",
       "id                                                              \n",
       "0                               0                           0   \n",
       "1                               0                           0   \n",
       "2                               0                           0   \n",
       "3                               1                           0   \n",
       "4                               0                           0   \n",
       "...                           ...                         ...   \n",
       "18045                           0                           0   \n",
       "18046                           0                           0   \n",
       "18047                           0                           0   \n",
       "18048                           0                           0   \n",
       "18049                           0                           0   \n",
       "\n",
       "       duration_bining_(800, 900]  duration_bining_(900, 1000]  \\\n",
       "id                                                               \n",
       "0                               0                            0   \n",
       "1                               0                            0   \n",
       "2                               0                            0   \n",
       "3                               0                            0   \n",
       "4                               0                            0   \n",
       "...                           ...                          ...   \n",
       "18045                           0                            0   \n",
       "18046                           0                            0   \n",
       "18047                           0                            0   \n",
       "18048                           0                            0   \n",
       "18049                           0                            0   \n",
       "\n",
       "       duration_bining_(1000, 5000]  \n",
       "id                                   \n",
       "0                                 0  \n",
       "1                                 0  \n",
       "2                                 0  \n",
       "3                                 0  \n",
       "4                                 0  \n",
       "...                             ...  \n",
       "18045                             0  \n",
       "18046                             0  \n",
       "18047                             0  \n",
       "18048                             0  \n",
       "18049                             0  \n",
       "\n",
       "[45150 rows x 67 columns]"
      ]
     },
     "execution_count": 113,
     "metadata": {},
     "output_type": "execute_result"
    }
   ],
   "source": [
    "X = pd.get_dummies(X)\n",
    "X"
   ]
  },
  {
   "cell_type": "code",
   "execution_count": 114,
   "metadata": {},
   "outputs": [],
   "source": [
    "# import category_encoders as ce\n",
    "# ce_ohe = ce.OneHotEncoder(handle_unknown='impute')\n",
    "# ce_ohe.fit(pd.concat([trainX, testX], axis=0))\n",
    "\n",
    "# trainX = ce_ohe.transform(trainX)\n",
    "# testX = ce_ohe.transform(testX)\n",
    "\n",
    "### Objectだけにするとやはり精度が下がる\n",
    "# ce_ohe.fit(pd.concat([trainX[cols_o], testX[cols_o]], axis=0))\n",
    "\n",
    "# trainX = ce_ohe.transform(trainX[cols_o])\n",
    "# testX = ce_ohe.transform(testX[cols_o])\n"
   ]
  },
  {
   "cell_type": "code",
   "execution_count": 115,
   "metadata": {},
   "outputs": [],
   "source": [
    "# trainX"
   ]
  },
  {
   "cell_type": "markdown",
   "metadata": {},
   "source": [
    "### 相関関係をチェック"
   ]
  },
  {
   "cell_type": "code",
   "execution_count": 116,
   "metadata": {},
   "outputs": [
    {
     "name": "stderr",
     "output_type": "stream",
     "text": [
      "D:\\anaconda3\\lib\\site-packages\\numpy\\lib\\function_base.py:2534: RuntimeWarning: invalid value encountered in true_divide\n",
      "  c /= stddev[:, None]\n",
      "D:\\anaconda3\\lib\\site-packages\\numpy\\lib\\function_base.py:2535: RuntimeWarning: invalid value encountered in true_divide\n",
      "  c /= stddev[None, :]\n"
     ]
    }
   ],
   "source": [
    "corrs = []\n",
    "_X = X[X['train_test'] == 0].drop(['train_test'], axis=1)\n",
    "features = _X.columns\n",
    "\n",
    "# print(features)\n",
    "\n",
    "for c in features:\n",
    "#     print(c, _X[c])\n",
    "    corr = np.corrcoef(_X[c], y)[0, 1]\n",
    "    corrs.append(corr)\n",
    "corrs = np.array(corrs)\n"
   ]
  },
  {
   "cell_type": "code",
   "execution_count": 117,
   "metadata": {},
   "outputs": [
    {
     "data": {
      "text/plain": [
       "0    27100\n",
       "Name: job_unknown, dtype: int64"
      ]
     },
     "execution_count": 117,
     "metadata": {},
     "output_type": "execute_result"
    }
   ],
   "source": [
    "_X['job_unknown'].value_counts()"
   ]
  },
  {
   "cell_type": "code",
   "execution_count": 118,
   "metadata": {},
   "outputs": [
    {
     "name": "stdout",
     "output_type": "stream",
     "text": [
      "['job_unknown' 'poutcome_success' 'previous' 'housing_no' 'housing_yes'\n",
      " 'month_apr' 'month_mar' 'duration_bining_(300, 400]' 'month_oct'\n",
      " 'month_may'] [        nan  0.29400639  0.18847302  0.16471042 -0.16471042  0.13239254\n",
      "  0.12802761 -0.12578569  0.10934865 -0.10600027]\n"
     ]
    }
   ],
   "source": [
    "idx = np.argsort(np.abs(corrs))[::-1]\n",
    "#重要度上位10を格納\n",
    "cols = _X.columns.values[idx][:10]\n",
    "importances = corrs[idx][:10]\n",
    "\n",
    "print(cols, importances)\n"
   ]
  },
  {
   "cell_type": "code",
   "execution_count": 119,
   "metadata": {},
   "outputs": [
    {
     "data": {
      "text/plain": [
       "poutcome_success              0.294006\n",
       "previous                      0.188473\n",
       "housing_no                    0.164710\n",
       "housing_yes                   0.164710\n",
       "month_apr                     0.132393\n",
       "month_mar                     0.128028\n",
       "duration_bining_(300, 400]    0.125786\n",
       "month_oct                     0.109349\n",
       "month_may                     0.106000\n",
       "marital_single                0.095064\n",
       "Name: y, dtype: float64"
      ]
     },
     "execution_count": 119,
     "metadata": {},
     "output_type": "execute_result"
    }
   ],
   "source": [
    "import seaborn as sns\n",
    "sns.set()\n",
    "\n",
    "xx = pd.concat([_X, y], axis=1).corr()['y'].abs().sort_values(ascending=False)[1:11]\n",
    "xx"
   ]
  },
  {
   "cell_type": "code",
   "execution_count": 120,
   "metadata": {},
   "outputs": [
    {
     "data": {
      "text/plain": [
       "<matplotlib.axes._subplots.AxesSubplot at 0x2cc996eb688>"
      ]
     },
     "execution_count": 120,
     "metadata": {},
     "output_type": "execute_result"
    },
    {
     "data": {
      "image/png": "[encoded data removed]",
      "text/plain": [
       "<Figure size 432x288 with 1 Axes>"
      ]
     },
     "metadata": {},
     "output_type": "display_data"
    }
   ],
   "source": [
    "xx.plot.bar()"
   ]
  },
  {
   "cell_type": "code",
   "execution_count": 121,
   "metadata": {},
   "outputs": [
    {
     "data": {
      "text/plain": [
       "<matplotlib.axes._subplots.AxesSubplot at 0x2cc99bf6588>"
      ]
     },
     "execution_count": 121,
     "metadata": {},
     "output_type": "execute_result"
    },
    {
     "data": {
      "image/png": "[encoded data removed]",
      "text/plain": [
       "<Figure size 1152x576 with 1 Axes>"
      ]
     },
     "metadata": {},
     "output_type": "display_data"
    }
   ],
   "source": [
    "import seaborn as sns\n",
    "\n",
    "feature_importances = pd.DataFrame()\n",
    "feature_importances['feature'] = features\n",
    "feature_importances['importance'] = abs(corrs)\n",
    "feature_importances = feature_importances.sort_values(by='importance', ascending=False)\n",
    "\n",
    "plt.figure(figsize=(16, 8))\n",
    "sns.barplot(data=feature_importances.head(10), x='importance', y='feature')"
   ]
  },
  {
   "cell_type": "code",
   "execution_count": 122,
   "metadata": {},
   "outputs": [],
   "source": [
    "trainX = X[X['train_test'] == 0].drop(['train_test', 'age', 'duration'], axis=1)\n",
    "testX = X[X['train_test'] == 1].drop(['train_test', 'age', 'duration'], axis=1)"
   ]
  },
  {
   "cell_type": "code",
   "execution_count": 123,
   "metadata": {},
   "outputs": [],
   "source": [
    "trainX = X[X['train_test'] == 0].drop(['train_test', 'age', 'duration'], axis=1)\n",
    "testX = X[X['train_test'] == 1].drop(['train_test', 'age', 'duration'], axis=1)"
   ]
  },
  {
   "cell_type": "code",
   "execution_count": 124,
   "metadata": {},
   "outputs": [
    {
     "name": "stdout",
     "output_type": "stream",
     "text": [
      "<class 'pandas.core.frame.DataFrame'>\n",
      "Int64Index: 27100 entries, 0 to 27099\n",
      "Data columns (total 64 columns):\n",
      " #   Column                        Non-Null Count  Dtype\n",
      "---  ------                        --------------  -----\n",
      " 0   balance                       27100 non-null  int64\n",
      " 1   day                           27100 non-null  int64\n",
      " 2   campaign                      27100 non-null  int64\n",
      " 3   pdays                         27100 non-null  int64\n",
      " 4   previous                      27100 non-null  int64\n",
      " 5   job_admin.                    27100 non-null  uint8\n",
      " 6   job_blue-collar               27100 non-null  uint8\n",
      " 7   job_entrepreneur              27100 non-null  uint8\n",
      " 8   job_housemaid                 27100 non-null  uint8\n",
      " 9   job_management                27100 non-null  uint8\n",
      " 10  job_retired                   27100 non-null  uint8\n",
      " 11  job_self-employed             27100 non-null  uint8\n",
      " 12  job_services                  27100 non-null  uint8\n",
      " 13  job_student                   27100 non-null  uint8\n",
      " 14  job_technician                27100 non-null  uint8\n",
      " 15  job_unemployed                27100 non-null  uint8\n",
      " 16  job_unknown                   27100 non-null  uint8\n",
      " 17  marital_divorced              27100 non-null  uint8\n",
      " 18  marital_married               27100 non-null  uint8\n",
      " 19  marital_single                27100 non-null  uint8\n",
      " 20  education_primary             27100 non-null  uint8\n",
      " 21  education_secondary           27100 non-null  uint8\n",
      " 22  education_tertiary            27100 non-null  uint8\n",
      " 23  education_unknown             27100 non-null  uint8\n",
      " 24  default_no                    27100 non-null  uint8\n",
      " 25  default_yes                   27100 non-null  uint8\n",
      " 26  housing_no                    27100 non-null  uint8\n",
      " 27  housing_yes                   27100 non-null  uint8\n",
      " 28  loan_no                       27100 non-null  uint8\n",
      " 29  loan_yes                      27100 non-null  uint8\n",
      " 30  contact_cellular              27100 non-null  uint8\n",
      " 31  contact_telephone             27100 non-null  uint8\n",
      " 32  contact_unknown               27100 non-null  uint8\n",
      " 33  month_apr                     27100 non-null  uint8\n",
      " 34  month_aug                     27100 non-null  uint8\n",
      " 35  month_feb                     27100 non-null  uint8\n",
      " 36  month_jan                     27100 non-null  uint8\n",
      " 37  month_jul                     27100 non-null  uint8\n",
      " 38  month_jun                     27100 non-null  uint8\n",
      " 39  month_mar                     27100 non-null  uint8\n",
      " 40  month_may                     27100 non-null  uint8\n",
      " 41  month_nov                     27100 non-null  uint8\n",
      " 42  month_oct                     27100 non-null  uint8\n",
      " 43  month_sep                     27100 non-null  uint8\n",
      " 44  poutcome_failure              27100 non-null  uint8\n",
      " 45  poutcome_other                27100 non-null  uint8\n",
      " 46  poutcome_success              27100 non-null  uint8\n",
      " 47  poutcome_unknown              27100 non-null  uint8\n",
      " 48  age_bining_(20, 30]           27100 non-null  uint8\n",
      " 49  age_bining_(30, 40]           27100 non-null  uint8\n",
      " 50  age_bining_(40, 50]           27100 non-null  uint8\n",
      " 51  age_bining_(50, 60]           27100 non-null  uint8\n",
      " 52  age_bining_(60, 100]          27100 non-null  uint8\n",
      " 53  duration_bining_(-1, 100]     27100 non-null  uint8\n",
      " 54  duration_bining_(100, 200]    27100 non-null  uint8\n",
      " 55  duration_bining_(200, 300]    27100 non-null  uint8\n",
      " 56  duration_bining_(300, 400]    27100 non-null  uint8\n",
      " 57  duration_bining_(400, 500]    27100 non-null  uint8\n",
      " 58  duration_bining_(500, 600]    27100 non-null  uint8\n",
      " 59  duration_bining_(600, 700]    27100 non-null  uint8\n",
      " 60  duration_bining_(700, 800]    27100 non-null  uint8\n",
      " 61  duration_bining_(800, 900]    27100 non-null  uint8\n",
      " 62  duration_bining_(900, 1000]   27100 non-null  uint8\n",
      " 63  duration_bining_(1000, 5000]  27100 non-null  uint8\n",
      "dtypes: int64(5), uint8(59)\n",
      "memory usage: 2.8 MB\n"
     ]
    }
   ],
   "source": [
    "trainX.info()"
   ]
  },
  {
   "cell_type": "code",
   "execution_count": 125,
   "metadata": {},
   "outputs": [
    {
     "data": {
      "text/plain": [
       "(27100, 64)"
      ]
     },
     "execution_count": 125,
     "metadata": {},
     "output_type": "execute_result"
    }
   ],
   "source": [
    "trainX.shape"
   ]
  },
  {
   "cell_type": "code",
   "execution_count": 126,
   "metadata": {},
   "outputs": [
    {
     "data": {
      "text/plain": [
       "(18050, 64)"
      ]
     },
     "execution_count": 126,
     "metadata": {},
     "output_type": "execute_result"
    }
   ],
   "source": [
    "testX.shape"
   ]
  },
  {
   "cell_type": "code",
   "execution_count": 127,
   "metadata": {},
   "outputs": [
    {
     "data": {
      "text/plain": [
       "Index(['balance', 'day', 'campaign', 'pdays', 'previous', 'job_admin.',\n",
       "       'job_blue-collar', 'job_entrepreneur', 'job_housemaid',\n",
       "       'job_management', 'job_retired', 'job_self-employed', 'job_services',\n",
       "       'job_student', 'job_technician', 'job_unemployed', 'job_unknown',\n",
       "       'marital_divorced', 'marital_married', 'marital_single',\n",
       "       'education_primary', 'education_secondary', 'education_tertiary',\n",
       "       'education_unknown', 'default_no', 'default_yes', 'housing_no',\n",
       "       'housing_yes', 'loan_no', 'loan_yes', 'contact_cellular',\n",
       "       'contact_telephone', 'contact_unknown', 'month_apr', 'month_aug',\n",
       "       'month_feb', 'month_jan', 'month_jul', 'month_jun', 'month_mar',\n",
       "       'month_may', 'month_nov', 'month_oct', 'month_sep', 'poutcome_failure',\n",
       "       'poutcome_other', 'poutcome_success', 'poutcome_unknown',\n",
       "       'age_bining_(20, 30]', 'age_bining_(30, 40]', 'age_bining_(40, 50]',\n",
       "       'age_bining_(50, 60]', 'age_bining_(60, 100]',\n",
       "       'duration_bining_(-1, 100]', 'duration_bining_(100, 200]',\n",
       "       'duration_bining_(200, 300]', 'duration_bining_(300, 400]',\n",
       "       'duration_bining_(400, 500]', 'duration_bining_(500, 600]',\n",
       "       'duration_bining_(600, 700]', 'duration_bining_(700, 800]',\n",
       "       'duration_bining_(800, 900]', 'duration_bining_(900, 1000]',\n",
       "       'duration_bining_(1000, 5000]'],\n",
       "      dtype='object')"
      ]
     },
     "execution_count": 127,
     "metadata": {},
     "output_type": "execute_result"
    }
   ],
   "source": [
    "trainX.columns"
   ]
  },
  {
   "cell_type": "code",
   "execution_count": 128,
   "metadata": {},
   "outputs": [],
   "source": [
    "trainX.columns = ['balance', 'day', 'campaign', 'pdays', 'previous', 'job_admin.',\n",
    "       'job_blue-collar', 'job_entrepreneur', 'job_housemaid',\n",
    "       'job_management', 'job_retired', 'job_self-employed', 'job_services',\n",
    "       'job_student', 'job_technician', 'job_unemployed', 'job_unknown',\n",
    "       'marital_divorced', 'marital_married', 'marital_single',\n",
    "       'education_primary', 'education_secondary', 'education_tertiary',\n",
    "       'education_unknown', 'default_no', 'default_yes', 'housing_no',\n",
    "       'housing_yes', 'loan_no', 'loan_yes', 'contact_cellular',\n",
    "       'contact_telephone', 'contact_unknown', 'month_apr', 'month_aug',\n",
    "       'month_feb', 'month_jan', 'month_jul', 'month_jun', 'month_mar',\n",
    "       'month_may', 'month_nov', 'month_oct', 'month_sep', 'poutcome_failure',\n",
    "       'poutcome_other', 'poutcome_success', 'poutcome_unknown',\n",
    "       'age_bining_20', 'age_bining_30', 'age_bining_40',\n",
    "       'age_bining_50', 'age_bining_60',\n",
    "       'duration_bining_0', 'duration_bining_100',\n",
    "       'duration_bining_200', 'duration_bining_300',\n",
    "       'duration_bining_400', 'duration_bining_500',\n",
    "       'duration_bining_600', 'duration_bining_700',\n",
    "       'duration_bining_800', 'duration_bining_900',\n",
    "       'duration_bining_1000']"
   ]
  },
  {
   "cell_type": "code",
   "execution_count": null,
   "metadata": {},
   "outputs": [],
   "source": []
  },
  {
   "cell_type": "markdown",
   "metadata": {},
   "source": [
    "## LightGBM"
   ]
  },
  {
   "cell_type": "code",
   "execution_count": 36,
   "metadata": {},
   "outputs": [],
   "source": [
    "from lightgbm import LGBMClassifier\n",
    "from sklearn.metrics import roc_auc_score\n"
   ]
  },
  {
   "cell_type": "code",
   "execution_count": 37,
   "metadata": {},
   "outputs": [
    {
     "data": {
      "text/plain": [
       "GridSearchCV(cv=5, error_score=nan,\n",
       "             estimator=LGBMClassifier(boosting_type='gbdt', class_weight=None,\n",
       "                                      colsample_bytree=1.0,\n",
       "                                      importance_type='split',\n",
       "                                      learning_rate=0.1, max_depth=-1,\n",
       "                                      min_child_samples=20,\n",
       "                                      min_child_weight=0.001,\n",
       "                                      min_split_gain=0.0, n_estimators=100,\n",
       "                                      n_jobs=-1, num_leaves=31, objective=None,\n",
       "                                      random_state=None, reg_alpha=0.0,\n",
       "                                      reg_lambda=0.0, silent=True,\n",
       "                                      subsample=1.0, subsample_for_bin=200000,\n",
       "                                      subsample_freq=0),\n",
       "             iid='deprecated', n_jobs=-1,\n",
       "             param_grid={'max_depth': [2, 3, 4, 5, 6, 7, 8, 9, 10],\n",
       "                         'num_leaves': [25, 30, 35, 40, 45]},\n",
       "             pre_dispatch='2*n_jobs', refit=True, return_train_score=True,\n",
       "             scoring='roc_auc', verbose=0)"
      ]
     },
     "execution_count": 37,
     "metadata": {},
     "output_type": "execute_result"
    }
   ],
   "source": [
    "parameters2 = {\n",
    "    \"max_depth\": list(range(2,11)),\n",
    "    'num_leaves': list(range(25, 50, 5)),\n",
    "}\n",
    "\n",
    "lgb = LGBMClassifier()\n",
    "\n",
    "gcv3 = GridSearchCV(lgb, parameters2, cv=5, scoring=\"roc_auc\", n_jobs=-1, return_train_score=True)\n",
    "gcv3.fit(trainX, y)\n"
   ]
  },
  {
   "cell_type": "code",
   "execution_count": 38,
   "metadata": {},
   "outputs": [
    {
     "name": "stdout",
     "output_type": "stream",
     "text": [
      "{'max_depth': 4, 'num_leaves': 25}\n"
     ]
    },
    {
     "data": {
      "text/plain": [
       "0.8794484041733972"
      ]
     },
     "execution_count": 38,
     "metadata": {},
     "output_type": "execute_result"
    }
   ],
   "source": [
    "print(gcv3.best_params_)\n",
    "\n",
    "pred3 = gcv3.predict_proba(testX)\n",
    "pred3 = pred3[:,1]\n",
    "\n",
    "roc_auc_score(y, gcv3.predict_proba(trainX)[:,1])\n",
    "# 0.9113408811229391\n",
    "\n",
    "# {'max_depth': 5, 'num_leaves': 32}\n",
    "# 0.9118745842701466\n"
   ]
  },
  {
   "cell_type": "code",
   "execution_count": 39,
   "metadata": {},
   "outputs": [
    {
     "data": {
      "text/plain": [
       "{'mean_fit_time': array([0.36800013, 0.35119982, 0.34719872, 0.35359907, 0.39440041,\n",
       "        0.42800035, 0.41695666, 0.39599867, 0.43120112, 0.40880046,\n",
       "        0.4631999 , 0.47440047, 0.46080098, 0.49520049, 0.47519932,\n",
       "        0.55359945, 0.54561386, 0.53864384, 0.53599901, 0.55679946,\n",
       "        0.55600057, 0.61040025, 0.6031992 , 0.6415997 , 0.64334979,\n",
       "        0.60909905, 0.65920086, 0.65279918, 0.6687995 , 0.68800006,\n",
       "        0.58559928, 0.63360019, 0.64515529, 0.73039927, 0.70079942,\n",
       "        0.59199934, 0.6095994 , 0.63999882, 0.68479929, 0.69472175,\n",
       "        0.58504138, 0.59519973, 0.64319921, 0.66399879, 0.67519855]),\n",
       " 'std_fit_time': array([0.01042993, 0.00299387, 0.00159979, 0.01611972, 0.04444126,\n",
       "        0.02039481, 0.02111036, 0.00438212, 0.00926078, 0.01274948,\n",
       "        0.02076965, 0.02001628, 0.00775624, 0.00854177, 0.01865898,\n",
       "        0.02271172, 0.01618995, 0.01631893, 0.00669322, 0.02943786,\n",
       "        0.01012038, 0.01903306, 0.01831306, 0.01969376, 0.02310115,\n",
       "        0.02999224, 0.01461966, 0.01526323, 0.02444915, 0.00838984,\n",
       "        0.00966605, 0.02801094, 0.0126502 , 0.00932921, 0.01777979,\n",
       "        0.02219867, 0.0150948 , 0.01715791, 0.01483813, 0.03076246,\n",
       "        0.01642535, 0.0073326 , 0.01865794, 0.01517859, 0.02152644]),\n",
       " 'mean_score_time': array([0.1251832 , 0.07591009, 0.05839958, 0.05360017, 0.04399905,\n",
       "        0.05599971, 0.05200019, 0.05119977, 0.05279932, 0.04879975,\n",
       "        0.06639996, 0.05759921, 0.06159897, 0.0607996 , 0.06000061,\n",
       "        0.08880048, 0.07303061, 0.09279976, 0.07760038, 0.07600017,\n",
       "        0.07759953, 0.08319921, 0.08960013, 0.08640008, 0.08879972,\n",
       "        0.08879995, 0.08639984, 0.08480024, 0.09039979, 0.09840074,\n",
       "        0.07920089, 0.08479967, 0.09334707, 0.09120064, 0.10080047,\n",
       "        0.07679915, 0.09919934, 0.08240018, 0.09520049, 0.0928009 ,\n",
       "        0.07760015, 0.08880019, 0.07920156, 0.09120026, 0.08320103]),\n",
       " 'std_score_time': array([0.01538768, 0.02877419, 0.01834797, 0.01422135, 0.00253137,\n",
       "        0.00876354, 0.00505875, 0.00299385, 0.00587886, 0.00299395,\n",
       "        0.00783836, 0.00319963, 0.00195986, 0.00299376, 0.00357852,\n",
       "        0.01966109, 0.00502838, 0.0225419 , 0.00479924, 0.00438177,\n",
       "        0.00408078, 0.00299298, 0.00407927, 0.00480089, 0.0029935 ,\n",
       "        0.01170299, 0.00697439, 0.00299268, 0.00598712, 0.00697409,\n",
       "        0.00391933, 0.00815832, 0.01418687, 0.00299294, 0.01795906,\n",
       "        0.00775669, 0.01795987, 0.00320028, 0.00959928, 0.0058788 ,\n",
       "        0.00966522, 0.01883043, 0.0053067 , 0.00992823, 0.00299264]),\n",
       " 'param_max_depth': masked_array(data=[2, 2, 2, 2, 2, 3, 3, 3, 3, 3, 4, 4, 4, 4, 4, 5, 5, 5,\n",
       "                    5, 5, 6, 6, 6, 6, 6, 7, 7, 7, 7, 7, 8, 8, 8, 8, 8, 9,\n",
       "                    9, 9, 9, 9, 10, 10, 10, 10, 10],\n",
       "              mask=[False, False, False, False, False, False, False, False,\n",
       "                    False, False, False, False, False, False, False, False,\n",
       "                    False, False, False, False, False, False, False, False,\n",
       "                    False, False, False, False, False, False, False, False,\n",
       "                    False, False, False, False, False, False, False, False,\n",
       "                    False, False, False, False, False],\n",
       "        fill_value='?',\n",
       "             dtype=object),\n",
       " 'param_num_leaves': masked_array(data=[25, 30, 35, 40, 45, 25, 30, 35, 40, 45, 25, 30, 35, 40,\n",
       "                    45, 25, 30, 35, 40, 45, 25, 30, 35, 40, 45, 25, 30, 35,\n",
       "                    40, 45, 25, 30, 35, 40, 45, 25, 30, 35, 40, 45, 25, 30,\n",
       "                    35, 40, 45],\n",
       "              mask=[False, False, False, False, False, False, False, False,\n",
       "                    False, False, False, False, False, False, False, False,\n",
       "                    False, False, False, False, False, False, False, False,\n",
       "                    False, False, False, False, False, False, False, False,\n",
       "                    False, False, False, False, False, False, False, False,\n",
       "                    False, False, False, False, False],\n",
       "        fill_value='?',\n",
       "             dtype=object),\n",
       " 'params': [{'max_depth': 2, 'num_leaves': 25},\n",
       "  {'max_depth': 2, 'num_leaves': 30},\n",
       "  {'max_depth': 2, 'num_leaves': 35},\n",
       "  {'max_depth': 2, 'num_leaves': 40},\n",
       "  {'max_depth': 2, 'num_leaves': 45},\n",
       "  {'max_depth': 3, 'num_leaves': 25},\n",
       "  {'max_depth': 3, 'num_leaves': 30},\n",
       "  {'max_depth': 3, 'num_leaves': 35},\n",
       "  {'max_depth': 3, 'num_leaves': 40},\n",
       "  {'max_depth': 3, 'num_leaves': 45},\n",
       "  {'max_depth': 4, 'num_leaves': 25},\n",
       "  {'max_depth': 4, 'num_leaves': 30},\n",
       "  {'max_depth': 4, 'num_leaves': 35},\n",
       "  {'max_depth': 4, 'num_leaves': 40},\n",
       "  {'max_depth': 4, 'num_leaves': 45},\n",
       "  {'max_depth': 5, 'num_leaves': 25},\n",
       "  {'max_depth': 5, 'num_leaves': 30},\n",
       "  {'max_depth': 5, 'num_leaves': 35},\n",
       "  {'max_depth': 5, 'num_leaves': 40},\n",
       "  {'max_depth': 5, 'num_leaves': 45},\n",
       "  {'max_depth': 6, 'num_leaves': 25},\n",
       "  {'max_depth': 6, 'num_leaves': 30},\n",
       "  {'max_depth': 6, 'num_leaves': 35},\n",
       "  {'max_depth': 6, 'num_leaves': 40},\n",
       "  {'max_depth': 6, 'num_leaves': 45},\n",
       "  {'max_depth': 7, 'num_leaves': 25},\n",
       "  {'max_depth': 7, 'num_leaves': 30},\n",
       "  {'max_depth': 7, 'num_leaves': 35},\n",
       "  {'max_depth': 7, 'num_leaves': 40},\n",
       "  {'max_depth': 7, 'num_leaves': 45},\n",
       "  {'max_depth': 8, 'num_leaves': 25},\n",
       "  {'max_depth': 8, 'num_leaves': 30},\n",
       "  {'max_depth': 8, 'num_leaves': 35},\n",
       "  {'max_depth': 8, 'num_leaves': 40},\n",
       "  {'max_depth': 8, 'num_leaves': 45},\n",
       "  {'max_depth': 9, 'num_leaves': 25},\n",
       "  {'max_depth': 9, 'num_leaves': 30},\n",
       "  {'max_depth': 9, 'num_leaves': 35},\n",
       "  {'max_depth': 9, 'num_leaves': 40},\n",
       "  {'max_depth': 9, 'num_leaves': 45},\n",
       "  {'max_depth': 10, 'num_leaves': 25},\n",
       "  {'max_depth': 10, 'num_leaves': 30},\n",
       "  {'max_depth': 10, 'num_leaves': 35},\n",
       "  {'max_depth': 10, 'num_leaves': 40},\n",
       "  {'max_depth': 10, 'num_leaves': 45}],\n",
       " 'split0_test_score': array([0.82481784, 0.82481784, 0.82481784, 0.82481784, 0.82481784,\n",
       "        0.8343399 , 0.8343399 , 0.8343399 , 0.8343399 , 0.8343399 ,\n",
       "        0.83696749, 0.83696749, 0.83696749, 0.83696749, 0.83696749,\n",
       "        0.83037646, 0.83429794, 0.83421781, 0.83421781, 0.83421781,\n",
       "        0.82754761, 0.82865492, 0.82776452, 0.82655527, 0.827522  ,\n",
       "        0.82699336, 0.82699359, 0.82403032, 0.81611744, 0.82112703,\n",
       "        0.82629805, 0.82196812, 0.81865471, 0.82547284, 0.82069321,\n",
       "        0.82770502, 0.82294719, 0.82296781, 0.82248776, 0.81667738,\n",
       "        0.82623144, 0.82165852, 0.8223543 , 0.81776407, 0.81907455]),\n",
       " 'split1_test_score': array([0.83609392, 0.83609392, 0.83609392, 0.83609392, 0.83609392,\n",
       "        0.84791784, 0.84791784, 0.84791784, 0.84791784, 0.84791784,\n",
       "        0.8496894 , 0.8496894 , 0.8496894 , 0.8496894 , 0.8496894 ,\n",
       "        0.84659077, 0.84515536, 0.84563873, 0.84563873, 0.84563873,\n",
       "        0.84304172, 0.84452454, 0.84295495, 0.84511269, 0.84343169,\n",
       "        0.84603794, 0.84635039, 0.84239359, 0.8453827 , 0.84614201,\n",
       "        0.84691815, 0.84708884, 0.84610171, 0.84498823, 0.84376855,\n",
       "        0.84743068, 0.84579187, 0.84610361, 0.84682759, 0.84355164,\n",
       "        0.84745747, 0.8465526 , 0.84415567, 0.83902779, 0.84178671]),\n",
       " 'split2_test_score': array([0.82069534, 0.82069534, 0.82069534, 0.82069534, 0.82069534,\n",
       "        0.83043241, 0.83043241, 0.83043241, 0.83043241, 0.83043241,\n",
       "        0.83337553, 0.83337553, 0.83337553, 0.83337553, 0.83337553,\n",
       "        0.83535879, 0.83525685, 0.83532987, 0.83532987, 0.83532987,\n",
       "        0.83320579, 0.83240524, 0.83330086, 0.83293151, 0.83278122,\n",
       "        0.83479553, 0.83272361, 0.83224735, 0.83342247, 0.83077449,\n",
       "        0.83507834, 0.83356921, 0.83147003, 0.82911055, 0.82981368,\n",
       "        0.83400872, 0.82788613, 0.82759265, 0.82945121, 0.82676293,\n",
       "        0.83380177, 0.83431216, 0.82789395, 0.82603634, 0.82876966]),\n",
       " 'split3_test_score': array([0.82783665, 0.82783665, 0.82783665, 0.82783665, 0.82783665,\n",
       "        0.83620527, 0.83620527, 0.83620527, 0.83620527, 0.83620527,\n",
       "        0.83930808, 0.83930808, 0.83930808, 0.83930808, 0.83930808,\n",
       "        0.83440987, 0.83620716, 0.83787625, 0.83787625, 0.83787625,\n",
       "        0.83524536, 0.83220784, 0.83532696, 0.83350649, 0.83421377,\n",
       "        0.82944211, 0.83294114, 0.82831472, 0.83139411, 0.82548513,\n",
       "        0.83341376, 0.83036607, 0.82837007, 0.82772264, 0.82718922,\n",
       "        0.83326521, 0.83235591, 0.82908114, 0.82922567, 0.82896239,\n",
       "        0.83477297, 0.82700353, 0.83197129, 0.8293456 , 0.82445921]),\n",
       " 'split4_test_score': array([0.84442604, 0.84442604, 0.84442604, 0.84442604, 0.84442604,\n",
       "        0.8483518 , 0.8483518 , 0.8483518 , 0.8483518 , 0.8483518 ,\n",
       "        0.84833524, 0.84833524, 0.84833524, 0.84833524, 0.84833524,\n",
       "        0.84837806, 0.84434798, 0.84608117, 0.84608117, 0.84608117,\n",
       "        0.84413225, 0.84159976, 0.84192596, 0.83865284, 0.84015658,\n",
       "        0.84250692, 0.83967047, 0.84278037, 0.83639971, 0.83560586,\n",
       "        0.84305004, 0.84488045, 0.83878743, 0.83852203, 0.83521508,\n",
       "        0.84363053, 0.84451711, 0.83768275, 0.83764183, 0.8342677 ,\n",
       "        0.84139798, 0.84270208, 0.83248767, 0.83588404, 0.83579746]),\n",
       " 'mean_test_score': array([0.83077396, 0.83077396, 0.83077396, 0.83077396, 0.83077396,\n",
       "        0.83944944, 0.83944944, 0.83944944, 0.83944944, 0.83944944,\n",
       "        0.84153515, 0.84153515, 0.84153515, 0.84153515, 0.84153515,\n",
       "        0.83902279, 0.83905306, 0.83982877, 0.83982877, 0.83982877,\n",
       "        0.83663454, 0.83587846, 0.83625465, 0.83535176, 0.83562105,\n",
       "        0.83595517, 0.83573584, 0.83395327, 0.83254329, 0.8318269 ,\n",
       "        0.83695167, 0.83557454, 0.83267679, 0.83316326, 0.83133595,\n",
       "        0.83720803, 0.83469964, 0.83268559, 0.83312681, 0.83004441,\n",
       "        0.83673232, 0.83444578, 0.83177258, 0.82961157, 0.82997752]),\n",
       " 'std_test_score': array([0.00848956, 0.00848956, 0.00848956, 0.00848956, 0.00848956,\n",
       "        0.00733355, 0.00733355, 0.00733355, 0.00733355, 0.00733355,\n",
       "        0.00640525, 0.00640525, 0.00640525, 0.00640525, 0.00640525,\n",
       "        0.00713103, 0.00469885, 0.00506722, 0.00506722, 0.00506722,\n",
       "        0.00622135, 0.00608612, 0.00563428, 0.00620989, 0.00560744,\n",
       "        0.0073303 , 0.00665523, 0.00751432, 0.00950394, 0.00866044,\n",
       "        0.00729447, 0.00933234, 0.0093187 , 0.00739883, 0.00777686,\n",
       "        0.00723657, 0.00904939, 0.00822654, 0.00836678, 0.00884192,\n",
       "        0.00720407, 0.00931301, 0.00717829, 0.00749967, 0.00805126]),\n",
       " 'rank_test_score': array([38, 38, 38, 38, 38,  9,  9,  9,  9,  9,  1,  1,  1,  1,  1, 15, 14,\n",
       "         6,  6,  6, 19, 22, 20, 26, 24, 21, 23, 29, 34, 35, 17, 25, 33, 30,\n",
       "        37, 16, 27, 32, 31, 43, 18, 28, 36, 45, 44]),\n",
       " 'split0_train_score': array([0.84292291, 0.84292291, 0.84292291, 0.84292291, 0.84292291,\n",
       "        0.86691375, 0.86691375, 0.86691375, 0.86691375, 0.86691375,\n",
       "        0.88672105, 0.88672105, 0.88672105, 0.88672105, 0.88672105,\n",
       "        0.91200531, 0.91549097, 0.91386756, 0.91386756, 0.91386756,\n",
       "        0.92344422, 0.92957597, 0.93242225, 0.93658946, 0.93792942,\n",
       "        0.92855559, 0.93654403, 0.94624928, 0.94812147, 0.95158366,\n",
       "        0.93215913, 0.9421843 , 0.94831155, 0.95296662, 0.95848822,\n",
       "        0.93521432, 0.9427193 , 0.95318855, 0.95789245, 0.96510384,\n",
       "        0.93442865, 0.94628897, 0.95449316, 0.95784688, 0.9664364 ]),\n",
       " 'split1_train_score': array([0.83972278, 0.83972278, 0.83972278, 0.83972278, 0.83972278,\n",
       "        0.86411614, 0.86411614, 0.86411614, 0.86411614, 0.86411614,\n",
       "        0.88376568, 0.88376568, 0.88376568, 0.88376568, 0.88376568,\n",
       "        0.90938136, 0.91124746, 0.91066024, 0.91066024, 0.91066024,\n",
       "        0.91996082, 0.92724019, 0.93004832, 0.93426228, 0.93544022,\n",
       "        0.92701764, 0.93575891, 0.94457024, 0.94771859, 0.9515873 ,\n",
       "        0.92854315, 0.93944151, 0.94708362, 0.95307531, 0.95754035,\n",
       "        0.92957175, 0.94067295, 0.94801574, 0.95752761, 0.96217104,\n",
       "        0.93307515, 0.94521295, 0.95167353, 0.95803937, 0.96487991]),\n",
       " 'split2_train_score': array([0.84373859, 0.84373859, 0.84373859, 0.84373859, 0.84373859,\n",
       "        0.86474283, 0.86474283, 0.86474283, 0.86474283, 0.86474283,\n",
       "        0.88615698, 0.88615698, 0.88615698, 0.88615698, 0.88615698,\n",
       "        0.90940859, 0.9122849 , 0.91349383, 0.91349383, 0.91349383,\n",
       "        0.92133986, 0.92807963, 0.9315831 , 0.93643834, 0.93478375,\n",
       "        0.92832622, 0.93734425, 0.94421444, 0.9481736 , 0.95121402,\n",
       "        0.93209964, 0.93986172, 0.94862029, 0.95458213, 0.95943272,\n",
       "        0.93224701, 0.94040368, 0.95080474, 0.9581355 , 0.96224734,\n",
       "        0.9339054 , 0.94488416, 0.95290306, 0.95903064, 0.96540793]),\n",
       " 'split3_train_score': array([0.84438578, 0.84438578, 0.84438578, 0.84438578, 0.84438578,\n",
       "        0.86499638, 0.86499638, 0.86499638, 0.86499638, 0.86499638,\n",
       "        0.88721001, 0.88721001, 0.88721001, 0.88721001, 0.88721001,\n",
       "        0.91029633, 0.91081982, 0.91125069, 0.91125069, 0.91125069,\n",
       "        0.9220248 , 0.92746471, 0.93435153, 0.93330431, 0.93767677,\n",
       "        0.92915132, 0.93488837, 0.94248244, 0.94729656, 0.95209265,\n",
       "        0.93178288, 0.93839524, 0.94714672, 0.95295408, 0.95875911,\n",
       "        0.93155486, 0.9409814 , 0.94920184, 0.95621706, 0.96243773,\n",
       "        0.93326979, 0.94405352, 0.95243539, 0.95869624, 0.96352524]),\n",
       " 'split4_train_score': array([0.8394772 , 0.8394772 , 0.8394772 , 0.8394772 , 0.8394772 ,\n",
       "        0.86318272, 0.86318272, 0.86318272, 0.86318272, 0.86318272,\n",
       "        0.88625826, 0.88625826, 0.88625826, 0.88625826, 0.88625826,\n",
       "        0.91004981, 0.90998029, 0.91110856, 0.91110856, 0.91110856,\n",
       "        0.91996501, 0.92862537, 0.93057086, 0.93529733, 0.93951341,\n",
       "        0.92540699, 0.93513148, 0.9422685 , 0.94883783, 0.95471595,\n",
       "        0.9304517 , 0.93809082, 0.94576135, 0.95484389, 0.95918519,\n",
       "        0.92999702, 0.94178698, 0.95094878, 0.95654895, 0.96199543,\n",
       "        0.93491762, 0.94525734, 0.95137729, 0.96135517, 0.96349977]),\n",
       " 'mean_train_score': array([0.84204945, 0.84204945, 0.84204945, 0.84204945, 0.84204945,\n",
       "        0.86479037, 0.86479037, 0.86479037, 0.86479037, 0.86479037,\n",
       "        0.8860224 , 0.8860224 , 0.8860224 , 0.8860224 , 0.8860224 ,\n",
       "        0.91022828, 0.91196469, 0.91207618, 0.91207618, 0.91207618,\n",
       "        0.92134694, 0.92819717, 0.93179521, 0.93517835, 0.93706871,\n",
       "        0.92769155, 0.93593341, 0.94395698, 0.94802961, 0.95223872,\n",
       "        0.9310073 , 0.93959472, 0.9473847 , 0.9536844 , 0.95868112,\n",
       "        0.93171699, 0.94131286, 0.95043193, 0.95726432, 0.96279108,\n",
       "        0.93391932, 0.94513939, 0.95257649, 0.95899366, 0.96474985]),\n",
       " 'std_train_score': array([0.00205448, 0.00205448, 0.00205448, 0.00205448, 0.00205448,\n",
       "        0.00123228, 0.00123228, 0.00123228, 0.00123228, 0.00123228,\n",
       "        0.0011887 , 0.0011887 , 0.0011887 , 0.0011887 , 0.0011887 ,\n",
       "        0.00095744, 0.00191312, 0.00132976, 0.00132976, 0.00132976,\n",
       "        0.00131827, 0.00084268, 0.00151813, 0.00126049, 0.00172975,\n",
       "        0.00133818, 0.00090873, 0.00146439, 0.00051312, 0.00126976,\n",
       "        0.00137856, 0.00144922, 0.00101669, 0.00084497, 0.00065782,\n",
       "        0.00200494, 0.00084248, 0.00175249, 0.00075251, 0.00116506,\n",
       "        0.00069148, 0.00071904, 0.00110033, 0.00125637, 0.00112755])}"
      ]
     },
     "execution_count": 39,
     "metadata": {},
     "output_type": "execute_result"
    }
   ],
   "source": [
    "gcv3.cv_results_"
   ]
  },
  {
   "cell_type": "code",
   "execution_count": 40,
   "metadata": {},
   "outputs": [],
   "source": [
    "train_score = gcv3.cv_results_['mean_train_score']\n",
    "test_score = gcv3.cv_results_['mean_test_score']"
   ]
  },
  {
   "cell_type": "code",
   "execution_count": 41,
   "metadata": {},
   "outputs": [
    {
     "data": {
      "text/plain": [
       "array([0.84204945, 0.84204945, 0.84204945, 0.84204945, 0.84204945,\n",
       "       0.86479037, 0.86479037, 0.86479037, 0.86479037, 0.86479037,\n",
       "       0.8860224 , 0.8860224 , 0.8860224 , 0.8860224 , 0.8860224 ,\n",
       "       0.91022828, 0.91196469, 0.91207618, 0.91207618, 0.91207618,\n",
       "       0.92134694, 0.92819717, 0.93179521, 0.93517835, 0.93706871,\n",
       "       0.92769155, 0.93593341, 0.94395698, 0.94802961, 0.95223872,\n",
       "       0.9310073 , 0.93959472, 0.9473847 , 0.9536844 , 0.95868112,\n",
       "       0.93171699, 0.94131286, 0.95043193, 0.95726432, 0.96279108,\n",
       "       0.93391932, 0.94513939, 0.95257649, 0.95899366, 0.96474985])"
      ]
     },
     "execution_count": 41,
     "metadata": {},
     "output_type": "execute_result"
    }
   ],
   "source": [
    "train_score"
   ]
  },
  {
   "cell_type": "code",
   "execution_count": 48,
   "metadata": {},
   "outputs": [
    {
     "data": {
      "text/plain": [
       "array([0.83077396, 0.83077396, 0.83077396, 0.83077396, 0.83077396,\n",
       "       0.83944944, 0.83944944, 0.83944944, 0.83944944, 0.83944944,\n",
       "       0.84153515, 0.84153515, 0.84153515, 0.84153515, 0.84153515,\n",
       "       0.83902279, 0.83905306, 0.83982877, 0.83982877, 0.83982877,\n",
       "       0.83663454, 0.83587846, 0.83625465, 0.83535176, 0.83562105,\n",
       "       0.83595517, 0.83573584, 0.83395327, 0.83254329, 0.8318269 ,\n",
       "       0.83695167, 0.83557454, 0.83267679, 0.83316326, 0.83133595,\n",
       "       0.83720803, 0.83469964, 0.83268559, 0.83312681, 0.83004441,\n",
       "       0.83673232, 0.83444578, 0.83177258, 0.82961157, 0.82997752])"
      ]
     },
     "execution_count": 48,
     "metadata": {},
     "output_type": "execute_result"
    }
   ],
   "source": [
    "test_score"
   ]
  },
  {
   "cell_type": "code",
   "execution_count": 42,
   "metadata": {},
   "outputs": [
    {
     "data": {
      "text/plain": [
       "([<matplotlib.axis.XTick at 0x2cc965b7e48>,\n",
       "  <matplotlib.axis.XTick at 0x2cc965da188>,\n",
       "  <matplotlib.axis.XTick at 0x2cc96611bc8>,\n",
       "  <matplotlib.axis.XTick at 0x2cc9865d108>,\n",
       "  <matplotlib.axis.XTick at 0x2cc9865d788>,\n",
       "  <matplotlib.axis.XTick at 0x2cc98662188>,\n",
       "  <matplotlib.axis.XTick at 0x2cc98662708>,\n",
       "  <matplotlib.axis.XTick at 0x2cc9865dec8>,\n",
       "  <matplotlib.axis.XTick at 0x2cc98667308>,\n",
       "  <matplotlib.axis.XTick at 0x2cc98667ac8>],\n",
       " <a list of 9 Text xticklabel objects>)"
      ]
     },
     "execution_count": 42,
     "metadata": {},
     "output_type": "execute_result"
    },
    {
     "data": {
      "image/png": "[encoded data removed]",
      "text/plain": [
       "<Figure size 432x288 with 1 Axes>"
      ]
     },
     "metadata": {},
     "output_type": "display_data"
    }
   ],
   "source": [
    "plt.plot(train_score)\n",
    "plt.plot(test_score)\n",
    "plt.xticks(list(range(0, 10)), list(range(2, 11)))"
   ]
  },
  {
   "cell_type": "code",
   "execution_count": null,
   "metadata": {},
   "outputs": [],
   "source": []
  },
  {
   "cell_type": "markdown",
   "metadata": {},
   "source": [
    "### 最適パラメータだけで調整用"
   ]
  },
  {
   "cell_type": "code",
   "execution_count": 46,
   "metadata": {},
   "outputs": [],
   "source": [
    "lgb = LGBMClassifier(boosting_type='gbdt',  objective='binary', learning_rate=0.1, metric='auc', random_state=0, max_depth=5, num_leaves=32)\n"
   ]
  },
  {
   "cell_type": "code",
   "execution_count": 47,
   "metadata": {},
   "outputs": [
    {
     "data": {
      "text/plain": [
       "0.8794484041733972"
      ]
     },
     "execution_count": 47,
     "metadata": {},
     "output_type": "execute_result"
    }
   ],
   "source": [
    "lgb.fit(trainX.values, y)\n",
    "pred3 = lgb.predict_proba(testX.values)\n",
    "pred3 = pred3[:,1]\n",
    "\n",
    "roc_auc_score(y, lgb.predict_proba(trainX)[:,1])\n",
    "# 0.9118745842701466\n"
   ]
  },
  {
   "cell_type": "markdown",
   "metadata": {},
   "source": [
    "## XGBoost"
   ]
  },
  {
   "cell_type": "code",
   "execution_count": 82,
   "metadata": {},
   "outputs": [
    {
     "data": {
      "text/plain": [
       "GridSearchCV(cv=5, error_score=nan,\n",
       "             estimator=XGBClassifier(base_score=None, booster=None,\n",
       "                                     colsample_bylevel=None,\n",
       "                                     colsample_bynode=None,\n",
       "                                     colsample_bytree=None, gamma=None,\n",
       "                                     gpu_id=None, importance_type='gain',\n",
       "                                     interaction_constraints=None,\n",
       "                                     learning_rate=None, max_delta_step=None,\n",
       "                                     max_depth=None, min_child_weight=None,\n",
       "                                     missing=nan, monotone_constraints=None,\n",
       "                                     n_estim...\n",
       "                                     num_parallel_tree=None,\n",
       "                                     objective='binary:logistic',\n",
       "                                     random_state=None, reg_alpha=None,\n",
       "                                     reg_lambda=None, scale_pos_weight=None,\n",
       "                                     subsample=None, tree_method=None,\n",
       "                                     validate_parameters=None, verbosity=None),\n",
       "             iid='deprecated', n_jobs=-1,\n",
       "             param_grid={'eta': [0.01, 0.1, 1.0], 'gpu_id': [1]},\n",
       "             pre_dispatch='2*n_jobs', refit=True, return_train_score=True,\n",
       "             scoring='roc_auc', verbose=0)"
      ]
     },
     "execution_count": 82,
     "metadata": {},
     "output_type": "execute_result"
    }
   ],
   "source": [
    "from xgboost import XGBClassifier\n",
    "\n",
    "params = {'eta': [0.01, 0.1, 1.0],\n",
    "          'gpu_id': [1],\n",
    "         }\n",
    "\n",
    "# params = {'max_depth': list(range(2, 10)),\n",
    "#           'eta': [0.01, 0.1, 1.0],\n",
    "#           'gamma': [0, 0.1],\n",
    "#           'min_child_weight': [1, 2],\n",
    "#           'nthread': [2, 4],\n",
    "#           'n_estimators': list(range(50, 200, 50)),\n",
    "#           'gpu_id': [1],\n",
    "#          }\n",
    "\n",
    "xgb = XGBClassifier()\n",
    "\n",
    "reg_cv4 = GridSearchCV(xgb, params, cv=5, scoring=\"roc_auc\", n_jobs=-1, return_train_score=True)\n",
    "reg_cv4.fit(trainX.values, y)"
   ]
  },
  {
   "cell_type": "code",
   "execution_count": 83,
   "metadata": {},
   "outputs": [
    {
     "name": "stdout",
     "output_type": "stream",
     "text": [
      "{'eta': 0.1, 'gpu_id': 1}\n"
     ]
    },
    {
     "data": {
      "text/plain": [
       "0.9176350765791823"
      ]
     },
     "execution_count": 83,
     "metadata": {},
     "output_type": "execute_result"
    }
   ],
   "source": [
    "print(reg_cv4.best_params_)\n",
    "\n",
    "pred4 = reg_cv4.predict_proba(testX.values)\n",
    "pred4 = pred4[:,1]\n",
    "\n",
    "roc_auc_score(y, reg_cv4.predict_proba(trainX.values)[:,1])\n"
   ]
  },
  {
   "cell_type": "code",
   "execution_count": 84,
   "metadata": {},
   "outputs": [],
   "source": [
    "train_score = reg_cv4.cv_results_['mean_train_score']\n",
    "test_score = reg_cv4.cv_results_['mean_test_score']"
   ]
  },
  {
   "cell_type": "code",
   "execution_count": 85,
   "metadata": {},
   "outputs": [
    {
     "data": {
      "text/plain": [
       "([<matplotlib.axis.XTick at 0x2cc99906ac8>,\n",
       "  <matplotlib.axis.XTick at 0x2cc999068c8>,\n",
       "  <matplotlib.axis.XTick at 0x2cc999eac08>,\n",
       "  <matplotlib.axis.XTick at 0x2cc999a1b08>,\n",
       "  <matplotlib.axis.XTick at 0x2cc999c5688>,\n",
       "  <matplotlib.axis.XTick at 0x2cc99aed188>,\n",
       "  <matplotlib.axis.XTick at 0x2cc99aedb08>,\n",
       "  <matplotlib.axis.XTick at 0x2cc9999aa08>,\n",
       "  <matplotlib.axis.XTick at 0x2cc999c5548>,\n",
       "  <matplotlib.axis.XTick at 0x2cc999bb948>],\n",
       " <a list of 9 Text xticklabel objects>)"
      ]
     },
     "execution_count": 85,
     "metadata": {},
     "output_type": "execute_result"
    },
    {
     "data": {
      "image/png": "[encoded data removed]",
      "text/plain": [
       "<Figure size 864x288 with 1 Axes>"
      ]
     },
     "metadata": {},
     "output_type": "display_data"
    }
   ],
   "source": [
    "plt.figure(figsize=(12, 4))\n",
    "\n",
    "plt.plot(train_score)\n",
    "plt.plot(test_score)\n",
    "plt.xticks(list(range(0, 10)), list(range(2, 11)))"
   ]
  },
  {
   "cell_type": "code",
   "execution_count": null,
   "metadata": {},
   "outputs": [],
   "source": [
    "##### TODO 下のぱためーたをLoopで回す"
   ]
  },
  {
   "cell_type": "code",
   "execution_count": 139,
   "metadata": {},
   "outputs": [],
   "source": [
    "params = {'max_depth': list(range(2, 10)),\n",
    "          'eta': [0.01, 0.1, 1.0],\n",
    "          'gamma': [0, 0.1],\n",
    "          'min_child_weight': [1, 2],\n",
    "          'nthread': [2, 4],\n",
    "          'n_estimators': list(range(50, 200, 50)),\n",
    "         }\n"
   ]
  },
  {
   "cell_type": "code",
   "execution_count": 140,
   "metadata": {},
   "outputs": [
    {
     "name": "stdout",
     "output_type": "stream",
     "text": [
      "{'max_depth': [2, 3, 4, 5, 6, 7, 8, 9], 'gpu_id': 1}\n",
      "{'eta': [0.01, 0.1, 1.0], 'gpu_id': 1}\n",
      "{'gamma': [0, 0.1], 'gpu_id': 1}\n",
      "{'min_child_weight': [1, 2], 'gpu_id': 1}\n",
      "{'nthread': [2, 4], 'gpu_id': 1}\n",
      "{'n_estimators': [50, 100, 150], 'gpu_id': 1}\n"
     ]
    }
   ],
   "source": [
    "for param in params:\n",
    "    _tmp = {param: params[param]}\n",
    "    _tmp['gpu_id'] = 1\n",
    "    print(_tmp)\n"
   ]
  },
  {
   "cell_type": "code",
   "execution_count": 141,
   "metadata": {
    "scrolled": false
   },
   "outputs": [
    {
     "name": "stdout",
     "output_type": "stream",
     "text": [
      "{'max_depth': [2, 3, 4, 5, 6, 7, 8, 9], 'gpu_id': [1]}\n",
      "{'gpu_id': 1, 'max_depth': 2}\n"
     ]
    },
    {
     "data": {
      "image/png": "[encoded data removed]",
      "text/plain": [
       "<Figure size 864x288 with 1 Axes>"
      ]
     },
     "metadata": {},
     "output_type": "display_data"
    },
    {
     "name": "stdout",
     "output_type": "stream",
     "text": [
      "{'eta': [0.01, 0.1, 1.0], 'gpu_id': [1]}\n",
      "{'eta': 0.1, 'gpu_id': 1}\n"
     ]
    },
    {
     "data": {
      "image/png": "[encoded data removed]",
      "text/plain": [
       "<Figure size 864x288 with 1 Axes>"
      ]
     },
     "metadata": {},
     "output_type": "display_data"
    },
    {
     "name": "stdout",
     "output_type": "stream",
     "text": [
      "{'gamma': [0, 0.1], 'gpu_id': [1]}\n",
      "{'gamma': 0, 'gpu_id': 1}\n"
     ]
    },
    {
     "data": {
      "image/png": "[encoded data removed]",
      "text/plain": [
       "<Figure size 864x288 with 1 Axes>"
      ]
     },
     "metadata": {},
     "output_type": "display_data"
    },
    {
     "name": "stdout",
     "output_type": "stream",
     "text": [
      "{'min_child_weight': [1, 2], 'gpu_id': [1]}\n",
      "{'gpu_id': 1, 'min_child_weight': 1}\n"
     ]
    },
    {
     "data": {
      "image/png": "[encoded data removed]",
      "text/plain": [
       "<Figure size 864x288 with 1 Axes>"
      ]
     },
     "metadata": {},
     "output_type": "display_data"
    },
    {
     "name": "stdout",
     "output_type": "stream",
     "text": [
      "{'nthread': [2, 4], 'gpu_id': [1]}\n",
      "{'gpu_id': 1, 'nthread': 2}\n"
     ]
    },
    {
     "data": {
      "image/png": "[encoded data removed]",
      "text/plain": [
       "<Figure size 864x288 with 1 Axes>"
      ]
     },
     "metadata": {},
     "output_type": "display_data"
    },
    {
     "name": "stdout",
     "output_type": "stream",
     "text": [
      "{'n_estimators': [50, 100, 150], 'gpu_id': [1]}\n",
      "{'gpu_id': 1, 'n_estimators': 50}\n"
     ]
    },
    {
     "data": {
      "image/png": "[encoded data removed]",
      "text/plain": [
       "<Figure size 864x288 with 1 Axes>"
      ]
     },
     "metadata": {},
     "output_type": "display_data"
    }
   ],
   "source": [
    "from xgboost import XGBClassifier\n",
    "\n",
    "for param in params:\n",
    "    _tmp = {param: params[param]}\n",
    "    _tmp['gpu_id'] = [1]\n",
    "\n",
    "    xgb = XGBClassifier()\n",
    "\n",
    "    print(_tmp)\n",
    "    reg_cv4 = GridSearchCV(xgb, _tmp, cv=5, scoring=\"roc_auc\", n_jobs=-1, return_train_score=True)\n",
    "    reg_cv4.fit(trainX.values, y)\n",
    "\n",
    "    print(reg_cv4.best_params_)\n",
    "\n",
    "    pred4 = reg_cv4.predict_proba(testX.values)\n",
    "    pred4 = pred4[:,1]\n",
    "\n",
    "    roc_auc_score(y, reg_cv4.predict_proba(trainX.values)[:,1])\n",
    "\n",
    "    train_score = reg_cv4.cv_results_['mean_train_score']\n",
    "    test_score = reg_cv4.cv_results_['mean_test_score']\n",
    "\n",
    "    plt.figure(figsize=(12, 4))\n",
    "\n",
    "    plt.plot(train_score)\n",
    "    plt.plot(test_score)\n",
    "    plt.xticks(list(range(0, 10)), list(range(2, 11)))\n",
    "    plt.show()"
   ]
  },
  {
   "cell_type": "code",
   "execution_count": null,
   "metadata": {},
   "outputs": [],
   "source": []
  },
  {
   "cell_type": "code",
   "execution_count": null,
   "metadata": {},
   "outputs": [],
   "source": []
  }
 ],
 "metadata": {
  "kernelspec": {
   "display_name": "Python 3",
   "language": "python",
   "name": "python3"
  },
  "language_info": {
   "codemirror_mode": {
    "name": "ipython",
    "version": 3
   },
   "file_extension": ".py",
   "mimetype": "text/x-python",
   "name": "python",
   "nbconvert_exporter": "python",
   "pygments_lexer": "ipython3",
   "version": "3.7.6"
  }
 },
 "nbformat": 4,
 "nbformat_minor": 2
}
