{
 "cells": [
  {
   "cell_type": "code",
   "execution_count": 1,
   "metadata": {},
   "outputs": [],
   "source": [
    "import pandas as pd\n",
    "import numpy as np\n",
    "from matplotlib import pyplot as plt\n",
    "%matplotlib inline\n",
    "\n",
    "import seaborn as sns\n",
    "sns.set()\n",
    "\n",
    "from sklearn import metrics, preprocessing\n"
   ]
  },
  {
   "cell_type": "code",
   "execution_count": 2,
   "metadata": {},
   "outputs": [
    {
     "name": "stdout",
     "output_type": "stream",
     "text": [
      " Volume in drive D has no label.\n",
      " Volume Serial Number is 3417-05D0\n",
      "\n",
      " Directory of D:\\PythonTraining\\Signate\\【第1回_Beginner限定コンペ】銀行の顧客ターゲティング\\-1-_Beginner-\n",
      "\n",
      "2020/08/16  14:42    <DIR>          .\n",
      "2020/08/16  14:42    <DIR>          ..\n",
      "2020/08/14  07:31               238 .gitignore\n",
      "2020/08/16  12:36    <DIR>          .ipynb_checkpoints\n",
      "2020/08/14  08:07           224,463 20200814_001.ipynb\n",
      "2020/08/15  11:55            21,817 20200814_002.ipynb\n",
      "2020/08/15  12:55           519,897 20200815_001.ipynb\n",
      "2020/08/15  14:12            42,626 20200815_002_tensorflow.ipynb\n",
      "2020/08/15  15:12           211,220 20200815_003.ipynb\n",
      "2020/08/15  15:12           216,290 20200815_004.ipynb\n",
      "2020/08/16  12:12         2,992,540 20200816_001.ipynb\n",
      "2020/08/16  12:36         1,489,238 20200816_002.ipynb\n",
      "2020/08/16  14:42           773,397 20200816_003.ipynb\n",
      "2020/08/15  14:13    <DIR>          old\n",
      "2020/08/15  15:00           479,222 submit_20200813_2.csv\n",
      "2020/08/14  07:57           484,815 submit_20200814_1.csv\n",
      "2020/08/15  15:05           479,222 submit_20200815_1.csv\n",
      "2020/08/15  15:09           478,957 submit_20200815_1_ms.csv\n",
      "2020/08/15  15:09           487,151 submit_20200815_1_sc.csv\n",
      "2020/08/16  12:09           487,429 submit_20200816_1.csv\n",
      "2020/08/16  12:31           489,880 submit_20200816_2.csv\n",
      "2020/08/16  13:49           203,266 submit_20200816_3.csv\n",
      "2020/08/01  13:45           133,290 submit_sample.csv\n",
      "2020/08/01  13:46         1,571,499 test.csv\n",
      "2020/08/01  13:46         2,419,460 train.csv\n",
      "2020/08/13  18:59               125 tree.dot\n",
      "2020/08/11  19:59                 0 untitled.txt\n",
      "2020/08/10  20:00            32,982 ベンチマーク.ipynb\n",
      "              24 File(s)     14,239,024 bytes\n",
      "               4 Dir(s)  957,446,987,776 bytes free\n"
     ]
    }
   ],
   "source": [
    "!dir"
   ]
  },
  {
   "cell_type": "code",
   "execution_count": 3,
   "metadata": {},
   "outputs": [
    {
     "data": {
      "text/plain": [
       "((27100, 17), (18050, 16), (18050, 2))"
      ]
     },
     "execution_count": 3,
     "metadata": {},
     "output_type": "execute_result"
    }
   ],
   "source": [
    "train = pd.read_csv('train.csv', index_col=0)\n",
    "test = pd.read_csv('test.csv', index_col=0)\n",
    "sample = pd.read_csv('submit_sample.csv', header=None)\n",
    "train.shape, test.shape, sample.shape"
   ]
  },
  {
   "cell_type": "code",
   "execution_count": 4,
   "metadata": {},
   "outputs": [
    {
     "name": "stdout",
     "output_type": "stream",
     "text": [
      "<class 'pandas.core.frame.DataFrame'>\n",
      "Int64Index: 27100 entries, 0 to 27099\n",
      "Data columns (total 17 columns):\n",
      " #   Column     Non-Null Count  Dtype \n",
      "---  ------     --------------  ----- \n",
      " 0   age        27100 non-null  int64 \n",
      " 1   job        27100 non-null  object\n",
      " 2   marital    27100 non-null  object\n",
      " 3   education  27100 non-null  object\n",
      " 4   default    27100 non-null  object\n",
      " 5   balance    27100 non-null  int64 \n",
      " 6   housing    27100 non-null  object\n",
      " 7   loan       27100 non-null  object\n",
      " 8   contact    27100 non-null  object\n",
      " 9   day        27100 non-null  int64 \n",
      " 10  month      27100 non-null  object\n",
      " 11  duration   27100 non-null  int64 \n",
      " 12  campaign   27100 non-null  int64 \n",
      " 13  pdays      27100 non-null  int64 \n",
      " 14  previous   27100 non-null  int64 \n",
      " 15  poutcome   27100 non-null  object\n",
      " 16  y          27100 non-null  int64 \n",
      "dtypes: int64(8), object(9)\n",
      "memory usage: 3.7+ MB\n"
     ]
    }
   ],
   "source": [
    "train.info()"
   ]
  },
  {
   "cell_type": "code",
   "execution_count": 5,
   "metadata": {},
   "outputs": [],
   "source": [
    "test['y'] = -999"
   ]
  },
  {
   "cell_type": "code",
   "execution_count": 6,
   "metadata": {},
   "outputs": [
    {
     "data": {
      "text/html": [
       "<div>\n",
       "<style scoped>\n",
       "    .dataframe tbody tr th:only-of-type {\n",
       "        vertical-align: middle;\n",
       "    }\n",
       "\n",
       "    .dataframe tbody tr th {\n",
       "        vertical-align: top;\n",
       "    }\n",
       "\n",
       "    .dataframe thead th {\n",
       "        text-align: right;\n",
       "    }\n",
       "</style>\n",
       "<table border=\"1\" class=\"dataframe\">\n",
       "  <thead>\n",
       "    <tr style=\"text-align: right;\">\n",
       "      <th></th>\n",
       "      <th>age</th>\n",
       "      <th>job</th>\n",
       "      <th>marital</th>\n",
       "      <th>education</th>\n",
       "      <th>default</th>\n",
       "      <th>balance</th>\n",
       "      <th>housing</th>\n",
       "      <th>loan</th>\n",
       "      <th>contact</th>\n",
       "      <th>day</th>\n",
       "      <th>month</th>\n",
       "      <th>duration</th>\n",
       "      <th>campaign</th>\n",
       "      <th>pdays</th>\n",
       "      <th>previous</th>\n",
       "      <th>poutcome</th>\n",
       "      <th>y</th>\n",
       "    </tr>\n",
       "    <tr>\n",
       "      <th>id</th>\n",
       "      <th></th>\n",
       "      <th></th>\n",
       "      <th></th>\n",
       "      <th></th>\n",
       "      <th></th>\n",
       "      <th></th>\n",
       "      <th></th>\n",
       "      <th></th>\n",
       "      <th></th>\n",
       "      <th></th>\n",
       "      <th></th>\n",
       "      <th></th>\n",
       "      <th></th>\n",
       "      <th></th>\n",
       "      <th></th>\n",
       "      <th></th>\n",
       "      <th></th>\n",
       "    </tr>\n",
       "  </thead>\n",
       "  <tbody>\n",
       "    <tr>\n",
       "      <th>0</th>\n",
       "      <td>31</td>\n",
       "      <td>services</td>\n",
       "      <td>married</td>\n",
       "      <td>secondary</td>\n",
       "      <td>no</td>\n",
       "      <td>12294</td>\n",
       "      <td>yes</td>\n",
       "      <td>no</td>\n",
       "      <td>cellular</td>\n",
       "      <td>21</td>\n",
       "      <td>nov</td>\n",
       "      <td>101</td>\n",
       "      <td>3</td>\n",
       "      <td>498</td>\n",
       "      <td>0</td>\n",
       "      <td>other</td>\n",
       "      <td>0</td>\n",
       "    </tr>\n",
       "    <tr>\n",
       "      <th>1</th>\n",
       "      <td>29</td>\n",
       "      <td>entrepreneur</td>\n",
       "      <td>single</td>\n",
       "      <td>tertiary</td>\n",
       "      <td>no</td>\n",
       "      <td>43027</td>\n",
       "      <td>no</td>\n",
       "      <td>no</td>\n",
       "      <td>cellular</td>\n",
       "      <td>22</td>\n",
       "      <td>aug</td>\n",
       "      <td>158</td>\n",
       "      <td>2</td>\n",
       "      <td>702</td>\n",
       "      <td>0</td>\n",
       "      <td>unknown</td>\n",
       "      <td>1</td>\n",
       "    </tr>\n",
       "    <tr>\n",
       "      <th>2</th>\n",
       "      <td>35</td>\n",
       "      <td>management</td>\n",
       "      <td>married</td>\n",
       "      <td>tertiary</td>\n",
       "      <td>no</td>\n",
       "      <td>12252</td>\n",
       "      <td>yes</td>\n",
       "      <td>no</td>\n",
       "      <td>cellular</td>\n",
       "      <td>11</td>\n",
       "      <td>nov</td>\n",
       "      <td>351</td>\n",
       "      <td>1</td>\n",
       "      <td>826</td>\n",
       "      <td>0</td>\n",
       "      <td>failure</td>\n",
       "      <td>0</td>\n",
       "    </tr>\n",
       "    <tr>\n",
       "      <th>3</th>\n",
       "      <td>31</td>\n",
       "      <td>technician</td>\n",
       "      <td>married</td>\n",
       "      <td>secondary</td>\n",
       "      <td>no</td>\n",
       "      <td>99121</td>\n",
       "      <td>yes</td>\n",
       "      <td>yes</td>\n",
       "      <td>unknown</td>\n",
       "      <td>16</td>\n",
       "      <td>may</td>\n",
       "      <td>658</td>\n",
       "      <td>2</td>\n",
       "      <td>120</td>\n",
       "      <td>0</td>\n",
       "      <td>failure</td>\n",
       "      <td>0</td>\n",
       "    </tr>\n",
       "    <tr>\n",
       "      <th>4</th>\n",
       "      <td>48</td>\n",
       "      <td>unemployed</td>\n",
       "      <td>married</td>\n",
       "      <td>primary</td>\n",
       "      <td>no</td>\n",
       "      <td>42005</td>\n",
       "      <td>yes</td>\n",
       "      <td>no</td>\n",
       "      <td>telephone</td>\n",
       "      <td>3</td>\n",
       "      <td>apr</td>\n",
       "      <td>177</td>\n",
       "      <td>1</td>\n",
       "      <td>273</td>\n",
       "      <td>0</td>\n",
       "      <td>unknown</td>\n",
       "      <td>0</td>\n",
       "    </tr>\n",
       "    <tr>\n",
       "      <th>...</th>\n",
       "      <td>...</td>\n",
       "      <td>...</td>\n",
       "      <td>...</td>\n",
       "      <td>...</td>\n",
       "      <td>...</td>\n",
       "      <td>...</td>\n",
       "      <td>...</td>\n",
       "      <td>...</td>\n",
       "      <td>...</td>\n",
       "      <td>...</td>\n",
       "      <td>...</td>\n",
       "      <td>...</td>\n",
       "      <td>...</td>\n",
       "      <td>...</td>\n",
       "      <td>...</td>\n",
       "      <td>...</td>\n",
       "      <td>...</td>\n",
       "    </tr>\n",
       "    <tr>\n",
       "      <th>18045</th>\n",
       "      <td>49</td>\n",
       "      <td>self-employed</td>\n",
       "      <td>married</td>\n",
       "      <td>tertiary</td>\n",
       "      <td>no</td>\n",
       "      <td>98357</td>\n",
       "      <td>yes</td>\n",
       "      <td>no</td>\n",
       "      <td>cellular</td>\n",
       "      <td>6</td>\n",
       "      <td>jul</td>\n",
       "      <td>101</td>\n",
       "      <td>2</td>\n",
       "      <td>417</td>\n",
       "      <td>0</td>\n",
       "      <td>failure</td>\n",
       "      <td>-999</td>\n",
       "    </tr>\n",
       "    <tr>\n",
       "      <th>18046</th>\n",
       "      <td>34</td>\n",
       "      <td>blue-collar</td>\n",
       "      <td>married</td>\n",
       "      <td>secondary</td>\n",
       "      <td>no</td>\n",
       "      <td>29621</td>\n",
       "      <td>yes</td>\n",
       "      <td>no</td>\n",
       "      <td>cellular</td>\n",
       "      <td>12</td>\n",
       "      <td>may</td>\n",
       "      <td>345</td>\n",
       "      <td>1</td>\n",
       "      <td>815</td>\n",
       "      <td>0</td>\n",
       "      <td>unknown</td>\n",
       "      <td>-999</td>\n",
       "    </tr>\n",
       "    <tr>\n",
       "      <th>18047</th>\n",
       "      <td>34</td>\n",
       "      <td>admin.</td>\n",
       "      <td>single</td>\n",
       "      <td>secondary</td>\n",
       "      <td>no</td>\n",
       "      <td>94260</td>\n",
       "      <td>yes</td>\n",
       "      <td>no</td>\n",
       "      <td>unknown</td>\n",
       "      <td>16</td>\n",
       "      <td>may</td>\n",
       "      <td>121</td>\n",
       "      <td>2</td>\n",
       "      <td>370</td>\n",
       "      <td>0</td>\n",
       "      <td>unknown</td>\n",
       "      <td>-999</td>\n",
       "    </tr>\n",
       "    <tr>\n",
       "      <th>18048</th>\n",
       "      <td>31</td>\n",
       "      <td>technician</td>\n",
       "      <td>single</td>\n",
       "      <td>secondary</td>\n",
       "      <td>no</td>\n",
       "      <td>65483</td>\n",
       "      <td>yes</td>\n",
       "      <td>no</td>\n",
       "      <td>unknown</td>\n",
       "      <td>15</td>\n",
       "      <td>may</td>\n",
       "      <td>345</td>\n",
       "      <td>2</td>\n",
       "      <td>41</td>\n",
       "      <td>0</td>\n",
       "      <td>unknown</td>\n",
       "      <td>-999</td>\n",
       "    </tr>\n",
       "    <tr>\n",
       "      <th>18049</th>\n",
       "      <td>30</td>\n",
       "      <td>retired</td>\n",
       "      <td>married</td>\n",
       "      <td>primary</td>\n",
       "      <td>no</td>\n",
       "      <td>6474</td>\n",
       "      <td>no</td>\n",
       "      <td>no</td>\n",
       "      <td>cellular</td>\n",
       "      <td>13</td>\n",
       "      <td>aug</td>\n",
       "      <td>158</td>\n",
       "      <td>1</td>\n",
       "      <td>699</td>\n",
       "      <td>0</td>\n",
       "      <td>unknown</td>\n",
       "      <td>-999</td>\n",
       "    </tr>\n",
       "  </tbody>\n",
       "</table>\n",
       "<p>45150 rows × 17 columns</p>\n",
       "</div>"
      ],
      "text/plain": [
       "       age            job  marital  education default  balance housing loan  \\\n",
       "id                                                                            \n",
       "0       31       services  married  secondary      no    12294     yes   no   \n",
       "1       29   entrepreneur   single   tertiary      no    43027      no   no   \n",
       "2       35     management  married   tertiary      no    12252     yes   no   \n",
       "3       31     technician  married  secondary      no    99121     yes  yes   \n",
       "4       48     unemployed  married    primary      no    42005     yes   no   \n",
       "...    ...            ...      ...        ...     ...      ...     ...  ...   \n",
       "18045   49  self-employed  married   tertiary      no    98357     yes   no   \n",
       "18046   34    blue-collar  married  secondary      no    29621     yes   no   \n",
       "18047   34         admin.   single  secondary      no    94260     yes   no   \n",
       "18048   31     technician   single  secondary      no    65483     yes   no   \n",
       "18049   30        retired  married    primary      no     6474      no   no   \n",
       "\n",
       "         contact  day month  duration  campaign  pdays  previous poutcome    y  \n",
       "id                                                                              \n",
       "0       cellular   21   nov       101         3    498         0    other    0  \n",
       "1       cellular   22   aug       158         2    702         0  unknown    1  \n",
       "2       cellular   11   nov       351         1    826         0  failure    0  \n",
       "3        unknown   16   may       658         2    120         0  failure    0  \n",
       "4      telephone    3   apr       177         1    273         0  unknown    0  \n",
       "...          ...  ...   ...       ...       ...    ...       ...      ...  ...  \n",
       "18045   cellular    6   jul       101         2    417         0  failure -999  \n",
       "18046   cellular   12   may       345         1    815         0  unknown -999  \n",
       "18047    unknown   16   may       121         2    370         0  unknown -999  \n",
       "18048    unknown   15   may       345         2     41         0  unknown -999  \n",
       "18049   cellular   13   aug       158         1    699         0  unknown -999  \n",
       "\n",
       "[45150 rows x 17 columns]"
      ]
     },
     "execution_count": 6,
     "metadata": {},
     "output_type": "execute_result"
    }
   ],
   "source": [
    "all_df = pd.concat([train, test], axis=0)\n",
    "all_df"
   ]
  },
  {
   "cell_type": "code",
   "execution_count": 7,
   "metadata": {},
   "outputs": [
    {
     "data": {
      "text/plain": [
       "['job',\n",
       " 'marital',\n",
       " 'education',\n",
       " 'default',\n",
       " 'housing',\n",
       " 'loan',\n",
       " 'contact',\n",
       " 'month',\n",
       " 'poutcome']"
      ]
     },
     "execution_count": 7,
     "metadata": {},
     "output_type": "execute_result"
    }
   ],
   "source": [
    "cols_o = all_df.select_dtypes(include='object').columns.tolist()\n",
    "cols_o"
   ]
  },
  {
   "cell_type": "code",
   "execution_count": 8,
   "metadata": {},
   "outputs": [
    {
     "name": "stdout",
     "output_type": "stream",
     "text": [
      "job ['services' 'entrepreneur' 'management' 'technician' 'unemployed'\n",
      " 'blue-collar' 'admin.' 'retired' 'self-employed' 'housemaid' 'student'\n",
      " 'unknown']\n",
      "marital ['married' 'single' 'divorced']\n",
      "education ['secondary' 'tertiary' 'primary' 'unknown']\n",
      "default ['no' 'yes']\n",
      "housing ['yes' 'no']\n",
      "loan ['no' 'yes']\n",
      "contact ['cellular' 'unknown' 'telephone']\n",
      "month ['nov' 'aug' 'may' 'apr' 'sep' 'jun' 'jul' 'feb' 'oct' 'jan' 'mar']\n",
      "poutcome ['other' 'unknown' 'failure' 'success']\n"
     ]
    }
   ],
   "source": [
    "for col in cols_o:\n",
    "    print(col, all_df[col].unique())\n"
   ]
  },
  {
   "cell_type": "markdown",
   "metadata": {},
   "source": [
    "# データ解析"
   ]
  },
  {
   "cell_type": "code",
   "execution_count": 9,
   "metadata": {},
   "outputs": [
    {
     "data": {
      "text/html": [
       "<div>\n",
       "<style scoped>\n",
       "    .dataframe tbody tr th:only-of-type {\n",
       "        vertical-align: middle;\n",
       "    }\n",
       "\n",
       "    .dataframe tbody tr th {\n",
       "        vertical-align: top;\n",
       "    }\n",
       "\n",
       "    .dataframe thead th {\n",
       "        text-align: right;\n",
       "    }\n",
       "</style>\n",
       "<table border=\"1\" class=\"dataframe\">\n",
       "  <thead>\n",
       "    <tr style=\"text-align: right;\">\n",
       "      <th></th>\n",
       "      <th>age</th>\n",
       "      <th>job</th>\n",
       "      <th>marital</th>\n",
       "      <th>education</th>\n",
       "      <th>default</th>\n",
       "      <th>balance</th>\n",
       "      <th>housing</th>\n",
       "      <th>loan</th>\n",
       "      <th>contact</th>\n",
       "      <th>day</th>\n",
       "      <th>month</th>\n",
       "      <th>duration</th>\n",
       "      <th>campaign</th>\n",
       "      <th>pdays</th>\n",
       "      <th>previous</th>\n",
       "      <th>poutcome</th>\n",
       "      <th>y</th>\n",
       "    </tr>\n",
       "    <tr>\n",
       "      <th>id</th>\n",
       "      <th></th>\n",
       "      <th></th>\n",
       "      <th></th>\n",
       "      <th></th>\n",
       "      <th></th>\n",
       "      <th></th>\n",
       "      <th></th>\n",
       "      <th></th>\n",
       "      <th></th>\n",
       "      <th></th>\n",
       "      <th></th>\n",
       "      <th></th>\n",
       "      <th></th>\n",
       "      <th></th>\n",
       "      <th></th>\n",
       "      <th></th>\n",
       "      <th></th>\n",
       "    </tr>\n",
       "  </thead>\n",
       "  <tbody>\n",
       "    <tr>\n",
       "      <th>0</th>\n",
       "      <td>31</td>\n",
       "      <td>7</td>\n",
       "      <td>1</td>\n",
       "      <td>1</td>\n",
       "      <td>0</td>\n",
       "      <td>12294</td>\n",
       "      <td>1</td>\n",
       "      <td>0</td>\n",
       "      <td>0</td>\n",
       "      <td>21</td>\n",
       "      <td>8</td>\n",
       "      <td>101</td>\n",
       "      <td>3</td>\n",
       "      <td>498</td>\n",
       "      <td>0</td>\n",
       "      <td>1</td>\n",
       "      <td>0</td>\n",
       "    </tr>\n",
       "    <tr>\n",
       "      <th>1</th>\n",
       "      <td>29</td>\n",
       "      <td>2</td>\n",
       "      <td>2</td>\n",
       "      <td>2</td>\n",
       "      <td>0</td>\n",
       "      <td>43027</td>\n",
       "      <td>0</td>\n",
       "      <td>0</td>\n",
       "      <td>0</td>\n",
       "      <td>22</td>\n",
       "      <td>1</td>\n",
       "      <td>158</td>\n",
       "      <td>2</td>\n",
       "      <td>702</td>\n",
       "      <td>0</td>\n",
       "      <td>3</td>\n",
       "      <td>1</td>\n",
       "    </tr>\n",
       "    <tr>\n",
       "      <th>2</th>\n",
       "      <td>35</td>\n",
       "      <td>4</td>\n",
       "      <td>1</td>\n",
       "      <td>2</td>\n",
       "      <td>0</td>\n",
       "      <td>12252</td>\n",
       "      <td>1</td>\n",
       "      <td>0</td>\n",
       "      <td>0</td>\n",
       "      <td>11</td>\n",
       "      <td>8</td>\n",
       "      <td>351</td>\n",
       "      <td>1</td>\n",
       "      <td>826</td>\n",
       "      <td>0</td>\n",
       "      <td>0</td>\n",
       "      <td>0</td>\n",
       "    </tr>\n",
       "    <tr>\n",
       "      <th>3</th>\n",
       "      <td>31</td>\n",
       "      <td>9</td>\n",
       "      <td>1</td>\n",
       "      <td>1</td>\n",
       "      <td>0</td>\n",
       "      <td>99121</td>\n",
       "      <td>1</td>\n",
       "      <td>1</td>\n",
       "      <td>2</td>\n",
       "      <td>16</td>\n",
       "      <td>7</td>\n",
       "      <td>658</td>\n",
       "      <td>2</td>\n",
       "      <td>120</td>\n",
       "      <td>0</td>\n",
       "      <td>0</td>\n",
       "      <td>0</td>\n",
       "    </tr>\n",
       "    <tr>\n",
       "      <th>4</th>\n",
       "      <td>48</td>\n",
       "      <td>10</td>\n",
       "      <td>1</td>\n",
       "      <td>0</td>\n",
       "      <td>0</td>\n",
       "      <td>42005</td>\n",
       "      <td>1</td>\n",
       "      <td>0</td>\n",
       "      <td>1</td>\n",
       "      <td>3</td>\n",
       "      <td>0</td>\n",
       "      <td>177</td>\n",
       "      <td>1</td>\n",
       "      <td>273</td>\n",
       "      <td>0</td>\n",
       "      <td>3</td>\n",
       "      <td>0</td>\n",
       "    </tr>\n",
       "    <tr>\n",
       "      <th>...</th>\n",
       "      <td>...</td>\n",
       "      <td>...</td>\n",
       "      <td>...</td>\n",
       "      <td>...</td>\n",
       "      <td>...</td>\n",
       "      <td>...</td>\n",
       "      <td>...</td>\n",
       "      <td>...</td>\n",
       "      <td>...</td>\n",
       "      <td>...</td>\n",
       "      <td>...</td>\n",
       "      <td>...</td>\n",
       "      <td>...</td>\n",
       "      <td>...</td>\n",
       "      <td>...</td>\n",
       "      <td>...</td>\n",
       "      <td>...</td>\n",
       "    </tr>\n",
       "    <tr>\n",
       "      <th>18045</th>\n",
       "      <td>49</td>\n",
       "      <td>6</td>\n",
       "      <td>1</td>\n",
       "      <td>2</td>\n",
       "      <td>0</td>\n",
       "      <td>98357</td>\n",
       "      <td>1</td>\n",
       "      <td>0</td>\n",
       "      <td>0</td>\n",
       "      <td>6</td>\n",
       "      <td>4</td>\n",
       "      <td>101</td>\n",
       "      <td>2</td>\n",
       "      <td>417</td>\n",
       "      <td>0</td>\n",
       "      <td>0</td>\n",
       "      <td>-999</td>\n",
       "    </tr>\n",
       "    <tr>\n",
       "      <th>18046</th>\n",
       "      <td>34</td>\n",
       "      <td>1</td>\n",
       "      <td>1</td>\n",
       "      <td>1</td>\n",
       "      <td>0</td>\n",
       "      <td>29621</td>\n",
       "      <td>1</td>\n",
       "      <td>0</td>\n",
       "      <td>0</td>\n",
       "      <td>12</td>\n",
       "      <td>7</td>\n",
       "      <td>345</td>\n",
       "      <td>1</td>\n",
       "      <td>815</td>\n",
       "      <td>0</td>\n",
       "      <td>3</td>\n",
       "      <td>-999</td>\n",
       "    </tr>\n",
       "    <tr>\n",
       "      <th>18047</th>\n",
       "      <td>34</td>\n",
       "      <td>0</td>\n",
       "      <td>2</td>\n",
       "      <td>1</td>\n",
       "      <td>0</td>\n",
       "      <td>94260</td>\n",
       "      <td>1</td>\n",
       "      <td>0</td>\n",
       "      <td>2</td>\n",
       "      <td>16</td>\n",
       "      <td>7</td>\n",
       "      <td>121</td>\n",
       "      <td>2</td>\n",
       "      <td>370</td>\n",
       "      <td>0</td>\n",
       "      <td>3</td>\n",
       "      <td>-999</td>\n",
       "    </tr>\n",
       "    <tr>\n",
       "      <th>18048</th>\n",
       "      <td>31</td>\n",
       "      <td>9</td>\n",
       "      <td>2</td>\n",
       "      <td>1</td>\n",
       "      <td>0</td>\n",
       "      <td>65483</td>\n",
       "      <td>1</td>\n",
       "      <td>0</td>\n",
       "      <td>2</td>\n",
       "      <td>15</td>\n",
       "      <td>7</td>\n",
       "      <td>345</td>\n",
       "      <td>2</td>\n",
       "      <td>41</td>\n",
       "      <td>0</td>\n",
       "      <td>3</td>\n",
       "      <td>-999</td>\n",
       "    </tr>\n",
       "    <tr>\n",
       "      <th>18049</th>\n",
       "      <td>30</td>\n",
       "      <td>5</td>\n",
       "      <td>1</td>\n",
       "      <td>0</td>\n",
       "      <td>0</td>\n",
       "      <td>6474</td>\n",
       "      <td>0</td>\n",
       "      <td>0</td>\n",
       "      <td>0</td>\n",
       "      <td>13</td>\n",
       "      <td>1</td>\n",
       "      <td>158</td>\n",
       "      <td>1</td>\n",
       "      <td>699</td>\n",
       "      <td>0</td>\n",
       "      <td>3</td>\n",
       "      <td>-999</td>\n",
       "    </tr>\n",
       "  </tbody>\n",
       "</table>\n",
       "<p>45150 rows × 17 columns</p>\n",
       "</div>"
      ],
      "text/plain": [
       "       age  job  marital  education  default  balance  housing  loan  contact  \\\n",
       "id                                                                              \n",
       "0       31    7        1          1        0    12294        1     0        0   \n",
       "1       29    2        2          2        0    43027        0     0        0   \n",
       "2       35    4        1          2        0    12252        1     0        0   \n",
       "3       31    9        1          1        0    99121        1     1        2   \n",
       "4       48   10        1          0        0    42005        1     0        1   \n",
       "...    ...  ...      ...        ...      ...      ...      ...   ...      ...   \n",
       "18045   49    6        1          2        0    98357        1     0        0   \n",
       "18046   34    1        1          1        0    29621        1     0        0   \n",
       "18047   34    0        2          1        0    94260        1     0        2   \n",
       "18048   31    9        2          1        0    65483        1     0        2   \n",
       "18049   30    5        1          0        0     6474        0     0        0   \n",
       "\n",
       "       day  month  duration  campaign  pdays  previous  poutcome    y  \n",
       "id                                                                     \n",
       "0       21      8       101         3    498         0         1    0  \n",
       "1       22      1       158         2    702         0         3    1  \n",
       "2       11      8       351         1    826         0         0    0  \n",
       "3       16      7       658         2    120         0         0    0  \n",
       "4        3      0       177         1    273         0         3    0  \n",
       "...    ...    ...       ...       ...    ...       ...       ...  ...  \n",
       "18045    6      4       101         2    417         0         0 -999  \n",
       "18046   12      7       345         1    815         0         3 -999  \n",
       "18047   16      7       121         2    370         0         3 -999  \n",
       "18048   15      7       345         2     41         0         3 -999  \n",
       "18049   13      1       158         1    699         0         3 -999  \n",
       "\n",
       "[45150 rows x 17 columns]"
      ]
     },
     "execution_count": 9,
     "metadata": {},
     "output_type": "execute_result"
    }
   ],
   "source": [
    "for col in cols_o:\n",
    "    le = preprocessing.LabelEncoder()\n",
    "    all_df[col] = le.fit_transform(all_df[col])\n",
    "    \n",
    "all_df"
   ]
  },
  {
   "cell_type": "code",
   "execution_count": 10,
   "metadata": {},
   "outputs": [],
   "source": [
    "train_df = all_df[all_df['y'] != -999]"
   ]
  },
  {
   "cell_type": "code",
   "execution_count": 11,
   "metadata": {
    "scrolled": false
   },
   "outputs": [
    {
     "data": {
      "image/png": "[encoded data removed]",
      "text/plain": [
       "<Figure size 1440x1440 with 16 Axes>"
      ]
     },
     "metadata": {},
     "output_type": "display_data"
    }
   ],
   "source": [
    "plt.figure(figsize=(20, 20))\n",
    "\n",
    "for idx, col in enumerate(train_df.drop('y', axis=1).columns):\n",
    "    plt.subplot(4, 4, idx+1)\n",
    "    sns.distplot(train_df[col], kde=False)\n",
    "\n",
    "plt.show()"
   ]
  },
  {
   "cell_type": "code",
   "execution_count": 12,
   "metadata": {
    "scrolled": false
   },
   "outputs": [
    {
     "data": {
      "image/png": "[encoded data removed]",
      "text/plain": [
       "<Figure size 1440x1440 with 16 Axes>"
      ]
     },
     "metadata": {},
     "output_type": "display_data"
    }
   ],
   "source": [
    "plt.figure(figsize=(20, 20))\n",
    "\n",
    "for idx, col in enumerate(train_df.drop('y', axis=1).columns):\n",
    "    plt.subplot(4, 4, idx+1)\n",
    "    sns.boxplot(y=col, data=train_df)\n",
    "\n",
    "plt.show()"
   ]
  },
  {
   "cell_type": "code",
   "execution_count": 13,
   "metadata": {},
   "outputs": [
    {
     "data": {
      "text/plain": [
       "<matplotlib.axes._subplots.AxesSubplot at 0x1a592d0dc48>"
      ]
     },
     "execution_count": 13,
     "metadata": {},
     "output_type": "execute_result"
    },
    {
     "data": {
      "image/png": "[encoded data removed]",
      "text/plain": [
       "<Figure size 1440x576 with 2 Axes>"
      ]
     },
     "metadata": {},
     "output_type": "display_data"
    }
   ],
   "source": [
    "plt.figure(figsize=(20, 8))\n",
    "sns.heatmap(train_df.corr(), annot=True, linewidths=.5, center=0, vmin=-1, vmax=1)"
   ]
  },
  {
   "cell_type": "code",
   "execution_count": 14,
   "metadata": {},
   "outputs": [
    {
     "data": {
      "text/html": [
       "<div>\n",
       "<style scoped>\n",
       "    .dataframe tbody tr th:only-of-type {\n",
       "        vertical-align: middle;\n",
       "    }\n",
       "\n",
       "    .dataframe tbody tr th {\n",
       "        vertical-align: top;\n",
       "    }\n",
       "\n",
       "    .dataframe thead th {\n",
       "        text-align: right;\n",
       "    }\n",
       "</style>\n",
       "<table border=\"1\" class=\"dataframe\">\n",
       "  <thead>\n",
       "    <tr style=\"text-align: right;\">\n",
       "      <th></th>\n",
       "      <th>age</th>\n",
       "      <th>job</th>\n",
       "      <th>marital</th>\n",
       "      <th>education</th>\n",
       "      <th>default</th>\n",
       "      <th>balance</th>\n",
       "      <th>housing</th>\n",
       "      <th>loan</th>\n",
       "      <th>contact</th>\n",
       "      <th>day</th>\n",
       "      <th>month</th>\n",
       "      <th>duration</th>\n",
       "      <th>campaign</th>\n",
       "      <th>pdays</th>\n",
       "      <th>previous</th>\n",
       "      <th>poutcome</th>\n",
       "      <th>y</th>\n",
       "    </tr>\n",
       "  </thead>\n",
       "  <tbody>\n",
       "    <tr>\n",
       "      <th>age</th>\n",
       "      <td>1.000000</td>\n",
       "      <td>0.047606</td>\n",
       "      <td>-0.202964</td>\n",
       "      <td>-0.053150</td>\n",
       "      <td>-0.004850</td>\n",
       "      <td>-0.001185</td>\n",
       "      <td>-0.287988</td>\n",
       "      <td>-0.043499</td>\n",
       "      <td>-0.059684</td>\n",
       "      <td>-0.059669</td>\n",
       "      <td>-0.130827</td>\n",
       "      <td>-0.055642</td>\n",
       "      <td>0.037633</td>\n",
       "      <td>0.008551</td>\n",
       "      <td>0.037545</td>\n",
       "      <td>-0.001859</td>\n",
       "      <td>0.086668</td>\n",
       "    </tr>\n",
       "    <tr>\n",
       "      <th>job</th>\n",
       "      <td>0.047606</td>\n",
       "      <td>1.000000</td>\n",
       "      <td>0.025324</td>\n",
       "      <td>0.174368</td>\n",
       "      <td>0.004744</td>\n",
       "      <td>0.009992</td>\n",
       "      <td>-0.075545</td>\n",
       "      <td>0.011862</td>\n",
       "      <td>-0.046561</td>\n",
       "      <td>0.015200</td>\n",
       "      <td>-0.040781</td>\n",
       "      <td>-0.015030</td>\n",
       "      <td>-0.008268</td>\n",
       "      <td>-0.001878</td>\n",
       "      <td>0.000673</td>\n",
       "      <td>-0.017633</td>\n",
       "      <td>-0.000511</td>\n",
       "    </tr>\n",
       "    <tr>\n",
       "      <th>marital</th>\n",
       "      <td>-0.202964</td>\n",
       "      <td>0.025324</td>\n",
       "      <td>1.000000</td>\n",
       "      <td>0.171587</td>\n",
       "      <td>-0.009211</td>\n",
       "      <td>-0.001564</td>\n",
       "      <td>-0.030738</td>\n",
       "      <td>-0.022570</td>\n",
       "      <td>-0.019849</td>\n",
       "      <td>-0.011200</td>\n",
       "      <td>-0.019129</td>\n",
       "      <td>-0.024760</td>\n",
       "      <td>-0.040183</td>\n",
       "      <td>-0.006341</td>\n",
       "      <td>0.036088</td>\n",
       "      <td>-0.059460</td>\n",
       "      <td>0.081587</td>\n",
       "    </tr>\n",
       "    <tr>\n",
       "      <th>education</th>\n",
       "      <td>-0.053150</td>\n",
       "      <td>0.174368</td>\n",
       "      <td>0.171587</td>\n",
       "      <td>1.000000</td>\n",
       "      <td>-0.011144</td>\n",
       "      <td>0.001252</td>\n",
       "      <td>-0.082792</td>\n",
       "      <td>-0.059623</td>\n",
       "      <td>-0.068318</td>\n",
       "      <td>0.004054</td>\n",
       "      <td>-0.045285</td>\n",
       "      <td>-0.022702</td>\n",
       "      <td>-0.011074</td>\n",
       "      <td>0.002218</td>\n",
       "      <td>0.032017</td>\n",
       "      <td>-0.046109</td>\n",
       "      <td>0.075080</td>\n",
       "    </tr>\n",
       "    <tr>\n",
       "      <th>default</th>\n",
       "      <td>-0.004850</td>\n",
       "      <td>0.004744</td>\n",
       "      <td>-0.009211</td>\n",
       "      <td>-0.011144</td>\n",
       "      <td>1.000000</td>\n",
       "      <td>0.004279</td>\n",
       "      <td>0.000634</td>\n",
       "      <td>0.004193</td>\n",
       "      <td>-0.005450</td>\n",
       "      <td>-0.011317</td>\n",
       "      <td>-0.005664</td>\n",
       "      <td>-0.004793</td>\n",
       "      <td>-0.011645</td>\n",
       "      <td>-0.002003</td>\n",
       "      <td>-0.004501</td>\n",
       "      <td>0.007678</td>\n",
       "      <td>-0.005586</td>\n",
       "    </tr>\n",
       "    <tr>\n",
       "      <th>balance</th>\n",
       "      <td>-0.001185</td>\n",
       "      <td>0.009992</td>\n",
       "      <td>-0.001564</td>\n",
       "      <td>0.001252</td>\n",
       "      <td>0.004279</td>\n",
       "      <td>1.000000</td>\n",
       "      <td>0.010994</td>\n",
       "      <td>-0.007877</td>\n",
       "      <td>0.000528</td>\n",
       "      <td>0.003816</td>\n",
       "      <td>0.007300</td>\n",
       "      <td>0.003144</td>\n",
       "      <td>-0.001229</td>\n",
       "      <td>0.003018</td>\n",
       "      <td>0.009717</td>\n",
       "      <td>-0.010312</td>\n",
       "      <td>-0.000899</td>\n",
       "    </tr>\n",
       "    <tr>\n",
       "      <th>housing</th>\n",
       "      <td>-0.287988</td>\n",
       "      <td>-0.075545</td>\n",
       "      <td>-0.030738</td>\n",
       "      <td>-0.082792</td>\n",
       "      <td>0.000634</td>\n",
       "      <td>0.010994</td>\n",
       "      <td>1.000000</td>\n",
       "      <td>0.007575</td>\n",
       "      <td>0.116319</td>\n",
       "      <td>0.128413</td>\n",
       "      <td>0.313566</td>\n",
       "      <td>0.178890</td>\n",
       "      <td>-0.102108</td>\n",
       "      <td>0.000877</td>\n",
       "      <td>-0.041737</td>\n",
       "      <td>-0.050514</td>\n",
       "      <td>-0.164710</td>\n",
       "    </tr>\n",
       "    <tr>\n",
       "      <th>loan</th>\n",
       "      <td>-0.043499</td>\n",
       "      <td>0.011862</td>\n",
       "      <td>-0.022570</td>\n",
       "      <td>-0.059623</td>\n",
       "      <td>0.004193</td>\n",
       "      <td>-0.007877</td>\n",
       "      <td>0.007575</td>\n",
       "      <td>1.000000</td>\n",
       "      <td>0.036504</td>\n",
       "      <td>-0.097799</td>\n",
       "      <td>-0.046102</td>\n",
       "      <td>-0.074189</td>\n",
       "      <td>0.107007</td>\n",
       "      <td>-0.010835</td>\n",
       "      <td>-0.051035</td>\n",
       "      <td>0.064142</td>\n",
       "      <td>-0.062696</td>\n",
       "    </tr>\n",
       "    <tr>\n",
       "      <th>contact</th>\n",
       "      <td>-0.059684</td>\n",
       "      <td>-0.046561</td>\n",
       "      <td>-0.019849</td>\n",
       "      <td>-0.068318</td>\n",
       "      <td>-0.005450</td>\n",
       "      <td>0.000528</td>\n",
       "      <td>0.116319</td>\n",
       "      <td>0.036504</td>\n",
       "      <td>1.000000</td>\n",
       "      <td>-0.087920</td>\n",
       "      <td>0.276526</td>\n",
       "      <td>0.026485</td>\n",
       "      <td>-0.055753</td>\n",
       "      <td>-0.001864</td>\n",
       "      <td>-0.121987</td>\n",
       "      <td>0.208759</td>\n",
       "      <td>-0.083513</td>\n",
       "    </tr>\n",
       "    <tr>\n",
       "      <th>day</th>\n",
       "      <td>-0.059669</td>\n",
       "      <td>0.015200</td>\n",
       "      <td>-0.011200</td>\n",
       "      <td>0.004054</td>\n",
       "      <td>-0.011317</td>\n",
       "      <td>0.003816</td>\n",
       "      <td>0.128413</td>\n",
       "      <td>-0.097799</td>\n",
       "      <td>-0.087920</td>\n",
       "      <td>1.000000</td>\n",
       "      <td>0.284747</td>\n",
       "      <td>0.134440</td>\n",
       "      <td>-0.060326</td>\n",
       "      <td>-0.000433</td>\n",
       "      <td>-0.048624</td>\n",
       "      <td>0.110260</td>\n",
       "      <td>-0.011804</td>\n",
       "    </tr>\n",
       "    <tr>\n",
       "      <th>month</th>\n",
       "      <td>-0.130827</td>\n",
       "      <td>-0.040781</td>\n",
       "      <td>-0.019129</td>\n",
       "      <td>-0.045285</td>\n",
       "      <td>-0.005664</td>\n",
       "      <td>0.007300</td>\n",
       "      <td>0.313566</td>\n",
       "      <td>-0.046102</td>\n",
       "      <td>0.276526</td>\n",
       "      <td>0.284747</td>\n",
       "      <td>1.000000</td>\n",
       "      <td>0.201681</td>\n",
       "      <td>-0.138521</td>\n",
       "      <td>0.006946</td>\n",
       "      <td>-0.032709</td>\n",
       "      <td>0.048784</td>\n",
       "      <td>-0.104068</td>\n",
       "    </tr>\n",
       "    <tr>\n",
       "      <th>duration</th>\n",
       "      <td>-0.055642</td>\n",
       "      <td>-0.015030</td>\n",
       "      <td>-0.024760</td>\n",
       "      <td>-0.022702</td>\n",
       "      <td>-0.004793</td>\n",
       "      <td>0.003144</td>\n",
       "      <td>0.178890</td>\n",
       "      <td>-0.074189</td>\n",
       "      <td>0.026485</td>\n",
       "      <td>0.134440</td>\n",
       "      <td>0.201681</td>\n",
       "      <td>1.000000</td>\n",
       "      <td>-0.094643</td>\n",
       "      <td>0.003804</td>\n",
       "      <td>-0.015184</td>\n",
       "      <td>0.033773</td>\n",
       "      <td>-0.030313</td>\n",
       "    </tr>\n",
       "    <tr>\n",
       "      <th>campaign</th>\n",
       "      <td>0.037633</td>\n",
       "      <td>-0.008268</td>\n",
       "      <td>-0.040183</td>\n",
       "      <td>-0.011074</td>\n",
       "      <td>-0.011645</td>\n",
       "      <td>-0.001229</td>\n",
       "      <td>-0.102108</td>\n",
       "      <td>0.107007</td>\n",
       "      <td>-0.055753</td>\n",
       "      <td>-0.060326</td>\n",
       "      <td>-0.138521</td>\n",
       "      <td>-0.094643</td>\n",
       "      <td>1.000000</td>\n",
       "      <td>-0.003626</td>\n",
       "      <td>-0.038244</td>\n",
       "      <td>0.057300</td>\n",
       "      <td>-0.030653</td>\n",
       "    </tr>\n",
       "    <tr>\n",
       "      <th>pdays</th>\n",
       "      <td>0.008551</td>\n",
       "      <td>-0.001878</td>\n",
       "      <td>-0.006341</td>\n",
       "      <td>0.002218</td>\n",
       "      <td>-0.002003</td>\n",
       "      <td>0.003018</td>\n",
       "      <td>0.000877</td>\n",
       "      <td>-0.010835</td>\n",
       "      <td>-0.001864</td>\n",
       "      <td>-0.000433</td>\n",
       "      <td>0.006946</td>\n",
       "      <td>0.003804</td>\n",
       "      <td>-0.003626</td>\n",
       "      <td>1.000000</td>\n",
       "      <td>0.002187</td>\n",
       "      <td>-0.003932</td>\n",
       "      <td>-0.000116</td>\n",
       "    </tr>\n",
       "    <tr>\n",
       "      <th>previous</th>\n",
       "      <td>0.037545</td>\n",
       "      <td>0.000673</td>\n",
       "      <td>0.036088</td>\n",
       "      <td>0.032017</td>\n",
       "      <td>-0.004501</td>\n",
       "      <td>0.009717</td>\n",
       "      <td>-0.041737</td>\n",
       "      <td>-0.051035</td>\n",
       "      <td>-0.121987</td>\n",
       "      <td>-0.048624</td>\n",
       "      <td>-0.032709</td>\n",
       "      <td>-0.015184</td>\n",
       "      <td>-0.038244</td>\n",
       "      <td>0.002187</td>\n",
       "      <td>1.000000</td>\n",
       "      <td>-0.452735</td>\n",
       "      <td>0.188473</td>\n",
       "    </tr>\n",
       "    <tr>\n",
       "      <th>poutcome</th>\n",
       "      <td>-0.001859</td>\n",
       "      <td>-0.017633</td>\n",
       "      <td>-0.059460</td>\n",
       "      <td>-0.046109</td>\n",
       "      <td>0.007678</td>\n",
       "      <td>-0.010312</td>\n",
       "      <td>-0.050514</td>\n",
       "      <td>0.064142</td>\n",
       "      <td>0.208759</td>\n",
       "      <td>0.110260</td>\n",
       "      <td>0.048784</td>\n",
       "      <td>0.033773</td>\n",
       "      <td>0.057300</td>\n",
       "      <td>-0.003932</td>\n",
       "      <td>-0.452735</td>\n",
       "      <td>1.000000</td>\n",
       "      <td>0.007507</td>\n",
       "    </tr>\n",
       "    <tr>\n",
       "      <th>y</th>\n",
       "      <td>0.086668</td>\n",
       "      <td>-0.000511</td>\n",
       "      <td>0.081587</td>\n",
       "      <td>0.075080</td>\n",
       "      <td>-0.005586</td>\n",
       "      <td>-0.000899</td>\n",
       "      <td>-0.164710</td>\n",
       "      <td>-0.062696</td>\n",
       "      <td>-0.083513</td>\n",
       "      <td>-0.011804</td>\n",
       "      <td>-0.104068</td>\n",
       "      <td>-0.030313</td>\n",
       "      <td>-0.030653</td>\n",
       "      <td>-0.000116</td>\n",
       "      <td>0.188473</td>\n",
       "      <td>0.007507</td>\n",
       "      <td>1.000000</td>\n",
       "    </tr>\n",
       "  </tbody>\n",
       "</table>\n",
       "</div>"
      ],
      "text/plain": [
       "                age       job   marital  education   default   balance  \\\n",
       "age        1.000000  0.047606 -0.202964  -0.053150 -0.004850 -0.001185   \n",
       "job        0.047606  1.000000  0.025324   0.174368  0.004744  0.009992   \n",
       "marital   -0.202964  0.025324  1.000000   0.171587 -0.009211 -0.001564   \n",
       "education -0.053150  0.174368  0.171587   1.000000 -0.011144  0.001252   \n",
       "default   -0.004850  0.004744 -0.009211  -0.011144  1.000000  0.004279   \n",
       "balance   -0.001185  0.009992 -0.001564   0.001252  0.004279  1.000000   \n",
       "housing   -0.287988 -0.075545 -0.030738  -0.082792  0.000634  0.010994   \n",
       "loan      -0.043499  0.011862 -0.022570  -0.059623  0.004193 -0.007877   \n",
       "contact   -0.059684 -0.046561 -0.019849  -0.068318 -0.005450  0.000528   \n",
       "day       -0.059669  0.015200 -0.011200   0.004054 -0.011317  0.003816   \n",
       "month     -0.130827 -0.040781 -0.019129  -0.045285 -0.005664  0.007300   \n",
       "duration  -0.055642 -0.015030 -0.024760  -0.022702 -0.004793  0.003144   \n",
       "campaign   0.037633 -0.008268 -0.040183  -0.011074 -0.011645 -0.001229   \n",
       "pdays      0.008551 -0.001878 -0.006341   0.002218 -0.002003  0.003018   \n",
       "previous   0.037545  0.000673  0.036088   0.032017 -0.004501  0.009717   \n",
       "poutcome  -0.001859 -0.017633 -0.059460  -0.046109  0.007678 -0.010312   \n",
       "y          0.086668 -0.000511  0.081587   0.075080 -0.005586 -0.000899   \n",
       "\n",
       "            housing      loan   contact       day     month  duration  \\\n",
       "age       -0.287988 -0.043499 -0.059684 -0.059669 -0.130827 -0.055642   \n",
       "job       -0.075545  0.011862 -0.046561  0.015200 -0.040781 -0.015030   \n",
       "marital   -0.030738 -0.022570 -0.019849 -0.011200 -0.019129 -0.024760   \n",
       "education -0.082792 -0.059623 -0.068318  0.004054 -0.045285 -0.022702   \n",
       "default    0.000634  0.004193 -0.005450 -0.011317 -0.005664 -0.004793   \n",
       "balance    0.010994 -0.007877  0.000528  0.003816  0.007300  0.003144   \n",
       "housing    1.000000  0.007575  0.116319  0.128413  0.313566  0.178890   \n",
       "loan       0.007575  1.000000  0.036504 -0.097799 -0.046102 -0.074189   \n",
       "contact    0.116319  0.036504  1.000000 -0.087920  0.276526  0.026485   \n",
       "day        0.128413 -0.097799 -0.087920  1.000000  0.284747  0.134440   \n",
       "month      0.313566 -0.046102  0.276526  0.284747  1.000000  0.201681   \n",
       "duration   0.178890 -0.074189  0.026485  0.134440  0.201681  1.000000   \n",
       "campaign  -0.102108  0.107007 -0.055753 -0.060326 -0.138521 -0.094643   \n",
       "pdays      0.000877 -0.010835 -0.001864 -0.000433  0.006946  0.003804   \n",
       "previous  -0.041737 -0.051035 -0.121987 -0.048624 -0.032709 -0.015184   \n",
       "poutcome  -0.050514  0.064142  0.208759  0.110260  0.048784  0.033773   \n",
       "y         -0.164710 -0.062696 -0.083513 -0.011804 -0.104068 -0.030313   \n",
       "\n",
       "           campaign     pdays  previous  poutcome         y  \n",
       "age        0.037633  0.008551  0.037545 -0.001859  0.086668  \n",
       "job       -0.008268 -0.001878  0.000673 -0.017633 -0.000511  \n",
       "marital   -0.040183 -0.006341  0.036088 -0.059460  0.081587  \n",
       "education -0.011074  0.002218  0.032017 -0.046109  0.075080  \n",
       "default   -0.011645 -0.002003 -0.004501  0.007678 -0.005586  \n",
       "balance   -0.001229  0.003018  0.009717 -0.010312 -0.000899  \n",
       "housing   -0.102108  0.000877 -0.041737 -0.050514 -0.164710  \n",
       "loan       0.107007 -0.010835 -0.051035  0.064142 -0.062696  \n",
       "contact   -0.055753 -0.001864 -0.121987  0.208759 -0.083513  \n",
       "day       -0.060326 -0.000433 -0.048624  0.110260 -0.011804  \n",
       "month     -0.138521  0.006946 -0.032709  0.048784 -0.104068  \n",
       "duration  -0.094643  0.003804 -0.015184  0.033773 -0.030313  \n",
       "campaign   1.000000 -0.003626 -0.038244  0.057300 -0.030653  \n",
       "pdays     -0.003626  1.000000  0.002187 -0.003932 -0.000116  \n",
       "previous  -0.038244  0.002187  1.000000 -0.452735  0.188473  \n",
       "poutcome   0.057300 -0.003932 -0.452735  1.000000  0.007507  \n",
       "y         -0.030653 -0.000116  0.188473  0.007507  1.000000  "
      ]
     },
     "execution_count": 14,
     "metadata": {},
     "output_type": "execute_result"
    }
   ],
   "source": [
    "train_corr = train_df.corr()\n",
    "train_corr"
   ]
  },
  {
   "cell_type": "code",
   "execution_count": 15,
   "metadata": {},
   "outputs": [
    {
     "data": {
      "text/plain": [
       "Index(['age', 'job', 'marital', 'education', 'default', 'balance', 'housing',\n",
       "       'loan', 'contact', 'day', 'month', 'duration', 'campaign', 'pdays',\n",
       "       'previous', 'poutcome'],\n",
       "      dtype='object')"
      ]
     },
     "execution_count": 15,
     "metadata": {},
     "output_type": "execute_result"
    }
   ],
   "source": [
    "train_corr.drop('y', axis=0).index"
   ]
  },
  {
   "cell_type": "code",
   "execution_count": 16,
   "metadata": {},
   "outputs": [
    {
     "data": {
      "text/plain": [
       "Index(['age', 'job', 'marital', 'education', 'default', 'balance', 'housing',\n",
       "       'loan', 'contact', 'day', 'month', 'duration', 'campaign', 'pdays',\n",
       "       'previous', 'poutcome'],\n",
       "      dtype='object')"
      ]
     },
     "execution_count": 16,
     "metadata": {},
     "output_type": "execute_result"
    }
   ],
   "source": [
    "train_corr.drop('y', axis=1).columns"
   ]
  },
  {
   "cell_type": "code",
   "execution_count": 17,
   "metadata": {
    "scrolled": true
   },
   "outputs": [],
   "source": [
    "# for row in train_corr.drop('y', axis=0).index:\n",
    "#     for col in train_corr.drop('y', axis=1).columns:\n",
    "#         if row != col:\n",
    "#             if abs(train_corr.loc[col, row]) > 0.1:\n",
    "#                 print(col, '/' , row, ':', train_corr.loc[col, row])\n",
    "#                 plt.figure(figsize=(20, 4))\n",
    "#                 sns.violinplot(data=train_df, y=col, x=row, hue='y', split=True)\n",
    "#                 plt.show()\n"
   ]
  },
  {
   "cell_type": "code",
   "execution_count": 18,
   "metadata": {},
   "outputs": [
    {
     "data": {
      "text/html": [
       "<div>\n",
       "<style scoped>\n",
       "    .dataframe tbody tr th:only-of-type {\n",
       "        vertical-align: middle;\n",
       "    }\n",
       "\n",
       "    .dataframe tbody tr th {\n",
       "        vertical-align: top;\n",
       "    }\n",
       "\n",
       "    .dataframe thead th {\n",
       "        text-align: right;\n",
       "    }\n",
       "</style>\n",
       "<table border=\"1\" class=\"dataframe\">\n",
       "  <thead>\n",
       "    <tr style=\"text-align: right;\">\n",
       "      <th></th>\n",
       "      <th>age</th>\n",
       "      <th>job</th>\n",
       "      <th>marital</th>\n",
       "      <th>education</th>\n",
       "      <th>default</th>\n",
       "      <th>balance</th>\n",
       "      <th>housing</th>\n",
       "      <th>loan</th>\n",
       "      <th>contact</th>\n",
       "      <th>day</th>\n",
       "      <th>month</th>\n",
       "      <th>duration</th>\n",
       "      <th>campaign</th>\n",
       "      <th>pdays</th>\n",
       "      <th>previous</th>\n",
       "      <th>poutcome</th>\n",
       "      <th>y</th>\n",
       "    </tr>\n",
       "  </thead>\n",
       "  <tbody>\n",
       "    <tr>\n",
       "      <th>count</th>\n",
       "      <td>45150.000000</td>\n",
       "      <td>45150.000000</td>\n",
       "      <td>45150.000000</td>\n",
       "      <td>45150.000000</td>\n",
       "      <td>45150.000000</td>\n",
       "      <td>45150.000000</td>\n",
       "      <td>45150.000000</td>\n",
       "      <td>45150.000000</td>\n",
       "      <td>45150.000000</td>\n",
       "      <td>45150.000000</td>\n",
       "      <td>45150.000000</td>\n",
       "      <td>45150.000000</td>\n",
       "      <td>45150.000000</td>\n",
       "      <td>45150.000000</td>\n",
       "      <td>45150.000000</td>\n",
       "      <td>45150.000000</td>\n",
       "      <td>45150.000000</td>\n",
       "    </tr>\n",
       "    <tr>\n",
       "      <th>mean</th>\n",
       "      <td>36.085670</td>\n",
       "      <td>4.273068</td>\n",
       "      <td>1.172270</td>\n",
       "      <td>1.200377</td>\n",
       "      <td>0.000310</td>\n",
       "      <td>47473.237940</td>\n",
       "      <td>0.581107</td>\n",
       "      <td>0.127796</td>\n",
       "      <td>0.551849</td>\n",
       "      <td>16.754109</td>\n",
       "      <td>4.980532</td>\n",
       "      <td>229.321240</td>\n",
       "      <td>1.773533</td>\n",
       "      <td>433.957342</td>\n",
       "      <td>0.087774</td>\n",
       "      <td>2.623765</td>\n",
       "      <td>-399.331960</td>\n",
       "    </tr>\n",
       "    <tr>\n",
       "      <th>std</th>\n",
       "      <td>7.835323</td>\n",
       "      <td>3.286885</td>\n",
       "      <td>0.568505</td>\n",
       "      <td>0.696402</td>\n",
       "      <td>0.017606</td>\n",
       "      <td>31579.127347</td>\n",
       "      <td>0.493383</td>\n",
       "      <td>0.333866</td>\n",
       "      <td>0.870418</td>\n",
       "      <td>8.570106</td>\n",
       "      <td>2.623468</td>\n",
       "      <td>206.488239</td>\n",
       "      <td>0.947974</td>\n",
       "      <td>251.851537</td>\n",
       "      <td>0.369888</td>\n",
       "      <td>0.944938</td>\n",
       "      <td>489.406473</td>\n",
       "    </tr>\n",
       "    <tr>\n",
       "      <th>min</th>\n",
       "      <td>20.000000</td>\n",
       "      <td>0.000000</td>\n",
       "      <td>0.000000</td>\n",
       "      <td>0.000000</td>\n",
       "      <td>0.000000</td>\n",
       "      <td>-6847.000000</td>\n",
       "      <td>0.000000</td>\n",
       "      <td>0.000000</td>\n",
       "      <td>0.000000</td>\n",
       "      <td>1.000000</td>\n",
       "      <td>0.000000</td>\n",
       "      <td>0.000000</td>\n",
       "      <td>1.000000</td>\n",
       "      <td>-1.000000</td>\n",
       "      <td>0.000000</td>\n",
       "      <td>0.000000</td>\n",
       "      <td>-999.000000</td>\n",
       "    </tr>\n",
       "    <tr>\n",
       "      <th>25%</th>\n",
       "      <td>31.000000</td>\n",
       "      <td>1.000000</td>\n",
       "      <td>1.000000</td>\n",
       "      <td>1.000000</td>\n",
       "      <td>0.000000</td>\n",
       "      <td>19890.500000</td>\n",
       "      <td>0.000000</td>\n",
       "      <td>0.000000</td>\n",
       "      <td>0.000000</td>\n",
       "      <td>8.000000</td>\n",
       "      <td>3.000000</td>\n",
       "      <td>121.000000</td>\n",
       "      <td>1.000000</td>\n",
       "      <td>216.000000</td>\n",
       "      <td>0.000000</td>\n",
       "      <td>3.000000</td>\n",
       "      <td>-999.000000</td>\n",
       "    </tr>\n",
       "    <tr>\n",
       "      <th>50%</th>\n",
       "      <td>33.000000</td>\n",
       "      <td>4.000000</td>\n",
       "      <td>1.000000</td>\n",
       "      <td>1.000000</td>\n",
       "      <td>0.000000</td>\n",
       "      <td>47360.500000</td>\n",
       "      <td>1.000000</td>\n",
       "      <td>0.000000</td>\n",
       "      <td>0.000000</td>\n",
       "      <td>17.000000</td>\n",
       "      <td>7.000000</td>\n",
       "      <td>158.000000</td>\n",
       "      <td>1.000000</td>\n",
       "      <td>434.000000</td>\n",
       "      <td>0.000000</td>\n",
       "      <td>3.000000</td>\n",
       "      <td>0.000000</td>\n",
       "    </tr>\n",
       "    <tr>\n",
       "      <th>75%</th>\n",
       "      <td>37.000000</td>\n",
       "      <td>7.000000</td>\n",
       "      <td>2.000000</td>\n",
       "      <td>2.000000</td>\n",
       "      <td>0.000000</td>\n",
       "      <td>74916.500000</td>\n",
       "      <td>1.000000</td>\n",
       "      <td>0.000000</td>\n",
       "      <td>2.000000</td>\n",
       "      <td>26.000000</td>\n",
       "      <td>7.000000</td>\n",
       "      <td>345.000000</td>\n",
       "      <td>2.000000</td>\n",
       "      <td>652.000000</td>\n",
       "      <td>0.000000</td>\n",
       "      <td>3.000000</td>\n",
       "      <td>0.000000</td>\n",
       "    </tr>\n",
       "    <tr>\n",
       "      <th>max</th>\n",
       "      <td>90.000000</td>\n",
       "      <td>11.000000</td>\n",
       "      <td>2.000000</td>\n",
       "      <td>3.000000</td>\n",
       "      <td>1.000000</td>\n",
       "      <td>102124.000000</td>\n",
       "      <td>1.000000</td>\n",
       "      <td>1.000000</td>\n",
       "      <td>2.000000</td>\n",
       "      <td>31.000000</td>\n",
       "      <td>10.000000</td>\n",
       "      <td>3076.000000</td>\n",
       "      <td>5.000000</td>\n",
       "      <td>870.000000</td>\n",
       "      <td>3.000000</td>\n",
       "      <td>3.000000</td>\n",
       "      <td>1.000000</td>\n",
       "    </tr>\n",
       "  </tbody>\n",
       "</table>\n",
       "</div>"
      ],
      "text/plain": [
       "                age           job       marital     education       default  \\\n",
       "count  45150.000000  45150.000000  45150.000000  45150.000000  45150.000000   \n",
       "mean      36.085670      4.273068      1.172270      1.200377      0.000310   \n",
       "std        7.835323      3.286885      0.568505      0.696402      0.017606   \n",
       "min       20.000000      0.000000      0.000000      0.000000      0.000000   \n",
       "25%       31.000000      1.000000      1.000000      1.000000      0.000000   \n",
       "50%       33.000000      4.000000      1.000000      1.000000      0.000000   \n",
       "75%       37.000000      7.000000      2.000000      2.000000      0.000000   \n",
       "max       90.000000     11.000000      2.000000      3.000000      1.000000   \n",
       "\n",
       "             balance       housing          loan       contact           day  \\\n",
       "count   45150.000000  45150.000000  45150.000000  45150.000000  45150.000000   \n",
       "mean    47473.237940      0.581107      0.127796      0.551849     16.754109   \n",
       "std     31579.127347      0.493383      0.333866      0.870418      8.570106   \n",
       "min     -6847.000000      0.000000      0.000000      0.000000      1.000000   \n",
       "25%     19890.500000      0.000000      0.000000      0.000000      8.000000   \n",
       "50%     47360.500000      1.000000      0.000000      0.000000     17.000000   \n",
       "75%     74916.500000      1.000000      0.000000      2.000000     26.000000   \n",
       "max    102124.000000      1.000000      1.000000      2.000000     31.000000   \n",
       "\n",
       "              month      duration      campaign         pdays      previous  \\\n",
       "count  45150.000000  45150.000000  45150.000000  45150.000000  45150.000000   \n",
       "mean       4.980532    229.321240      1.773533    433.957342      0.087774   \n",
       "std        2.623468    206.488239      0.947974    251.851537      0.369888   \n",
       "min        0.000000      0.000000      1.000000     -1.000000      0.000000   \n",
       "25%        3.000000    121.000000      1.000000    216.000000      0.000000   \n",
       "50%        7.000000    158.000000      1.000000    434.000000      0.000000   \n",
       "75%        7.000000    345.000000      2.000000    652.000000      0.000000   \n",
       "max       10.000000   3076.000000      5.000000    870.000000      3.000000   \n",
       "\n",
       "           poutcome             y  \n",
       "count  45150.000000  45150.000000  \n",
       "mean       2.623765   -399.331960  \n",
       "std        0.944938    489.406473  \n",
       "min        0.000000   -999.000000  \n",
       "25%        3.000000   -999.000000  \n",
       "50%        3.000000      0.000000  \n",
       "75%        3.000000      0.000000  \n",
       "max        3.000000      1.000000  "
      ]
     },
     "execution_count": 18,
     "metadata": {},
     "output_type": "execute_result"
    }
   ],
   "source": [
    "all_df.describe(include='all')"
   ]
  },
  {
   "cell_type": "code",
   "execution_count": 19,
   "metadata": {},
   "outputs": [
    {
     "data": {
      "text/plain": [
       "<matplotlib.axes._subplots.AxesSubplot at 0x1a592a1b988>"
      ]
     },
     "execution_count": 19,
     "metadata": {},
     "output_type": "execute_result"
    },
    {
     "data": {
      "image/png": "[encoded data removed]",
      "text/plain": [
       "<Figure size 432x288 with 1 Axes>"
      ]
     },
     "metadata": {},
     "output_type": "display_data"
    }
   ],
   "source": [
    "sns.boxplot(data=all_df, y='duration', x='y')"
   ]
  },
  {
   "cell_type": "code",
   "execution_count": 20,
   "metadata": {},
   "outputs": [
    {
     "data": {
      "text/html": [
       "<div>\n",
       "<style scoped>\n",
       "    .dataframe tbody tr th:only-of-type {\n",
       "        vertical-align: middle;\n",
       "    }\n",
       "\n",
       "    .dataframe tbody tr th {\n",
       "        vertical-align: top;\n",
       "    }\n",
       "\n",
       "    .dataframe thead th {\n",
       "        text-align: right;\n",
       "    }\n",
       "</style>\n",
       "<table border=\"1\" class=\"dataframe\">\n",
       "  <thead>\n",
       "    <tr style=\"text-align: right;\">\n",
       "      <th></th>\n",
       "      <th>age</th>\n",
       "      <th>job</th>\n",
       "      <th>marital</th>\n",
       "      <th>education</th>\n",
       "      <th>default</th>\n",
       "      <th>balance</th>\n",
       "      <th>housing</th>\n",
       "      <th>loan</th>\n",
       "      <th>contact</th>\n",
       "      <th>day</th>\n",
       "      <th>month</th>\n",
       "      <th>duration</th>\n",
       "      <th>campaign</th>\n",
       "      <th>pdays</th>\n",
       "      <th>previous</th>\n",
       "      <th>poutcome</th>\n",
       "      <th>y</th>\n",
       "    </tr>\n",
       "    <tr>\n",
       "      <th>id</th>\n",
       "      <th></th>\n",
       "      <th></th>\n",
       "      <th></th>\n",
       "      <th></th>\n",
       "      <th></th>\n",
       "      <th></th>\n",
       "      <th></th>\n",
       "      <th></th>\n",
       "      <th></th>\n",
       "      <th></th>\n",
       "      <th></th>\n",
       "      <th></th>\n",
       "      <th></th>\n",
       "      <th></th>\n",
       "      <th></th>\n",
       "      <th></th>\n",
       "      <th></th>\n",
       "    </tr>\n",
       "  </thead>\n",
       "  <tbody>\n",
       "    <tr>\n",
       "      <th>40</th>\n",
       "      <td>31</td>\n",
       "      <td>0</td>\n",
       "      <td>1</td>\n",
       "      <td>1</td>\n",
       "      <td>0</td>\n",
       "      <td>3245</td>\n",
       "      <td>1</td>\n",
       "      <td>0</td>\n",
       "      <td>0</td>\n",
       "      <td>21</td>\n",
       "      <td>8</td>\n",
       "      <td>1074</td>\n",
       "      <td>1</td>\n",
       "      <td>164</td>\n",
       "      <td>0</td>\n",
       "      <td>3</td>\n",
       "      <td>0</td>\n",
       "    </tr>\n",
       "    <tr>\n",
       "      <th>230</th>\n",
       "      <td>32</td>\n",
       "      <td>7</td>\n",
       "      <td>1</td>\n",
       "      <td>1</td>\n",
       "      <td>0</td>\n",
       "      <td>71124</td>\n",
       "      <td>1</td>\n",
       "      <td>0</td>\n",
       "      <td>0</td>\n",
       "      <td>27</td>\n",
       "      <td>7</td>\n",
       "      <td>1045</td>\n",
       "      <td>2</td>\n",
       "      <td>245</td>\n",
       "      <td>0</td>\n",
       "      <td>3</td>\n",
       "      <td>0</td>\n",
       "    </tr>\n",
       "    <tr>\n",
       "      <th>309</th>\n",
       "      <td>31</td>\n",
       "      <td>1</td>\n",
       "      <td>1</td>\n",
       "      <td>1</td>\n",
       "      <td>0</td>\n",
       "      <td>94722</td>\n",
       "      <td>1</td>\n",
       "      <td>0</td>\n",
       "      <td>0</td>\n",
       "      <td>27</td>\n",
       "      <td>7</td>\n",
       "      <td>1045</td>\n",
       "      <td>1</td>\n",
       "      <td>624</td>\n",
       "      <td>0</td>\n",
       "      <td>3</td>\n",
       "      <td>0</td>\n",
       "    </tr>\n",
       "    <tr>\n",
       "      <th>353</th>\n",
       "      <td>34</td>\n",
       "      <td>9</td>\n",
       "      <td>1</td>\n",
       "      <td>1</td>\n",
       "      <td>0</td>\n",
       "      <td>69914</td>\n",
       "      <td>1</td>\n",
       "      <td>0</td>\n",
       "      <td>0</td>\n",
       "      <td>27</td>\n",
       "      <td>7</td>\n",
       "      <td>1045</td>\n",
       "      <td>2</td>\n",
       "      <td>572</td>\n",
       "      <td>0</td>\n",
       "      <td>3</td>\n",
       "      <td>0</td>\n",
       "    </tr>\n",
       "    <tr>\n",
       "      <th>429</th>\n",
       "      <td>31</td>\n",
       "      <td>1</td>\n",
       "      <td>0</td>\n",
       "      <td>1</td>\n",
       "      <td>0</td>\n",
       "      <td>17701</td>\n",
       "      <td>1</td>\n",
       "      <td>0</td>\n",
       "      <td>1</td>\n",
       "      <td>19</td>\n",
       "      <td>8</td>\n",
       "      <td>1220</td>\n",
       "      <td>2</td>\n",
       "      <td>744</td>\n",
       "      <td>0</td>\n",
       "      <td>0</td>\n",
       "      <td>0</td>\n",
       "    </tr>\n",
       "    <tr>\n",
       "      <th>...</th>\n",
       "      <td>...</td>\n",
       "      <td>...</td>\n",
       "      <td>...</td>\n",
       "      <td>...</td>\n",
       "      <td>...</td>\n",
       "      <td>...</td>\n",
       "      <td>...</td>\n",
       "      <td>...</td>\n",
       "      <td>...</td>\n",
       "      <td>...</td>\n",
       "      <td>...</td>\n",
       "      <td>...</td>\n",
       "      <td>...</td>\n",
       "      <td>...</td>\n",
       "      <td>...</td>\n",
       "      <td>...</td>\n",
       "      <td>...</td>\n",
       "    </tr>\n",
       "    <tr>\n",
       "      <th>17662</th>\n",
       "      <td>34</td>\n",
       "      <td>4</td>\n",
       "      <td>2</td>\n",
       "      <td>2</td>\n",
       "      <td>0</td>\n",
       "      <td>83977</td>\n",
       "      <td>1</td>\n",
       "      <td>0</td>\n",
       "      <td>0</td>\n",
       "      <td>27</td>\n",
       "      <td>7</td>\n",
       "      <td>1045</td>\n",
       "      <td>2</td>\n",
       "      <td>745</td>\n",
       "      <td>0</td>\n",
       "      <td>3</td>\n",
       "      <td>-999</td>\n",
       "    </tr>\n",
       "    <tr>\n",
       "      <th>17752</th>\n",
       "      <td>34</td>\n",
       "      <td>4</td>\n",
       "      <td>1</td>\n",
       "      <td>1</td>\n",
       "      <td>0</td>\n",
       "      <td>42246</td>\n",
       "      <td>1</td>\n",
       "      <td>0</td>\n",
       "      <td>0</td>\n",
       "      <td>27</td>\n",
       "      <td>7</td>\n",
       "      <td>1045</td>\n",
       "      <td>1</td>\n",
       "      <td>708</td>\n",
       "      <td>0</td>\n",
       "      <td>3</td>\n",
       "      <td>-999</td>\n",
       "    </tr>\n",
       "    <tr>\n",
       "      <th>17778</th>\n",
       "      <td>53</td>\n",
       "      <td>7</td>\n",
       "      <td>1</td>\n",
       "      <td>0</td>\n",
       "      <td>0</td>\n",
       "      <td>83837</td>\n",
       "      <td>0</td>\n",
       "      <td>0</td>\n",
       "      <td>0</td>\n",
       "      <td>17</td>\n",
       "      <td>1</td>\n",
       "      <td>1027</td>\n",
       "      <td>2</td>\n",
       "      <td>390</td>\n",
       "      <td>0</td>\n",
       "      <td>3</td>\n",
       "      <td>-999</td>\n",
       "    </tr>\n",
       "    <tr>\n",
       "      <th>17876</th>\n",
       "      <td>37</td>\n",
       "      <td>1</td>\n",
       "      <td>1</td>\n",
       "      <td>1</td>\n",
       "      <td>0</td>\n",
       "      <td>67822</td>\n",
       "      <td>1</td>\n",
       "      <td>0</td>\n",
       "      <td>0</td>\n",
       "      <td>27</td>\n",
       "      <td>7</td>\n",
       "      <td>1045</td>\n",
       "      <td>2</td>\n",
       "      <td>108</td>\n",
       "      <td>0</td>\n",
       "      <td>3</td>\n",
       "      <td>-999</td>\n",
       "    </tr>\n",
       "    <tr>\n",
       "      <th>17993</th>\n",
       "      <td>31</td>\n",
       "      <td>1</td>\n",
       "      <td>1</td>\n",
       "      <td>1</td>\n",
       "      <td>0</td>\n",
       "      <td>91188</td>\n",
       "      <td>1</td>\n",
       "      <td>0</td>\n",
       "      <td>0</td>\n",
       "      <td>27</td>\n",
       "      <td>7</td>\n",
       "      <td>1045</td>\n",
       "      <td>1</td>\n",
       "      <td>223</td>\n",
       "      <td>0</td>\n",
       "      <td>3</td>\n",
       "      <td>-999</td>\n",
       "    </tr>\n",
       "  </tbody>\n",
       "</table>\n",
       "<p>1040 rows × 17 columns</p>\n",
       "</div>"
      ],
      "text/plain": [
       "       age  job  marital  education  default  balance  housing  loan  contact  \\\n",
       "id                                                                              \n",
       "40      31    0        1          1        0     3245        1     0        0   \n",
       "230     32    7        1          1        0    71124        1     0        0   \n",
       "309     31    1        1          1        0    94722        1     0        0   \n",
       "353     34    9        1          1        0    69914        1     0        0   \n",
       "429     31    1        0          1        0    17701        1     0        1   \n",
       "...    ...  ...      ...        ...      ...      ...      ...   ...      ...   \n",
       "17662   34    4        2          2        0    83977        1     0        0   \n",
       "17752   34    4        1          1        0    42246        1     0        0   \n",
       "17778   53    7        1          0        0    83837        0     0        0   \n",
       "17876   37    1        1          1        0    67822        1     0        0   \n",
       "17993   31    1        1          1        0    91188        1     0        0   \n",
       "\n",
       "       day  month  duration  campaign  pdays  previous  poutcome    y  \n",
       "id                                                                     \n",
       "40      21      8      1074         1    164         0         3    0  \n",
       "230     27      7      1045         2    245         0         3    0  \n",
       "309     27      7      1045         1    624         0         3    0  \n",
       "353     27      7      1045         2    572         0         3    0  \n",
       "429     19      8      1220         2    744         0         0    0  \n",
       "...    ...    ...       ...       ...    ...       ...       ...  ...  \n",
       "17662   27      7      1045         2    745         0         3 -999  \n",
       "17752   27      7      1045         1    708         0         3 -999  \n",
       "17778   17      1      1027         2    390         0         3 -999  \n",
       "17876   27      7      1045         2    108         0         3 -999  \n",
       "17993   27      7      1045         1    223         0         3 -999  \n",
       "\n",
       "[1040 rows x 17 columns]"
      ]
     },
     "execution_count": 20,
     "metadata": {},
     "output_type": "execute_result"
    }
   ],
   "source": [
    "all_df[all_df['duration'] > 1000]"
   ]
  },
  {
   "cell_type": "code",
   "execution_count": 21,
   "metadata": {},
   "outputs": [
    {
     "data": {
      "text/plain": [
       "<matplotlib.axes._subplots.AxesSubplot at 0x1a59242ab88>"
      ]
     },
     "execution_count": 21,
     "metadata": {},
     "output_type": "execute_result"
    },
    {
     "data": {
      "image/png": "[encoded data removed]",
      "text/plain": [
       "<Figure size 432x288 with 1 Axes>"
      ]
     },
     "metadata": {},
     "output_type": "display_data"
    }
   ],
   "source": [
    "sns.boxplot(all_df['balance'])"
   ]
  },
  {
   "cell_type": "markdown",
   "metadata": {},
   "source": [
    "# データ加工"
   ]
  },
  {
   "cell_type": "code",
   "execution_count": 22,
   "metadata": {},
   "outputs": [
    {
     "data": {
      "text/html": [
       "<div>\n",
       "<style scoped>\n",
       "    .dataframe tbody tr th:only-of-type {\n",
       "        vertical-align: middle;\n",
       "    }\n",
       "\n",
       "    .dataframe tbody tr th {\n",
       "        vertical-align: top;\n",
       "    }\n",
       "\n",
       "    .dataframe thead th {\n",
       "        text-align: right;\n",
       "    }\n",
       "</style>\n",
       "<table border=\"1\" class=\"dataframe\">\n",
       "  <thead>\n",
       "    <tr style=\"text-align: right;\">\n",
       "      <th></th>\n",
       "      <th>age</th>\n",
       "      <th>job</th>\n",
       "      <th>marital</th>\n",
       "      <th>education</th>\n",
       "      <th>default</th>\n",
       "      <th>balance</th>\n",
       "      <th>housing</th>\n",
       "      <th>loan</th>\n",
       "      <th>contact</th>\n",
       "      <th>day</th>\n",
       "      <th>month</th>\n",
       "      <th>duration</th>\n",
       "      <th>campaign</th>\n",
       "      <th>pdays</th>\n",
       "      <th>previous</th>\n",
       "      <th>poutcome</th>\n",
       "      <th>y</th>\n",
       "    </tr>\n",
       "    <tr>\n",
       "      <th>id</th>\n",
       "      <th></th>\n",
       "      <th></th>\n",
       "      <th></th>\n",
       "      <th></th>\n",
       "      <th></th>\n",
       "      <th></th>\n",
       "      <th></th>\n",
       "      <th></th>\n",
       "      <th></th>\n",
       "      <th></th>\n",
       "      <th></th>\n",
       "      <th></th>\n",
       "      <th></th>\n",
       "      <th></th>\n",
       "      <th></th>\n",
       "      <th></th>\n",
       "      <th></th>\n",
       "    </tr>\n",
       "  </thead>\n",
       "  <tbody>\n",
       "    <tr>\n",
       "      <th>40</th>\n",
       "      <td>31</td>\n",
       "      <td>0</td>\n",
       "      <td>1</td>\n",
       "      <td>1</td>\n",
       "      <td>0</td>\n",
       "      <td>3245</td>\n",
       "      <td>1</td>\n",
       "      <td>0</td>\n",
       "      <td>0</td>\n",
       "      <td>21</td>\n",
       "      <td>8</td>\n",
       "      <td>1074</td>\n",
       "      <td>1</td>\n",
       "      <td>164</td>\n",
       "      <td>0</td>\n",
       "      <td>3</td>\n",
       "      <td>0</td>\n",
       "    </tr>\n",
       "    <tr>\n",
       "      <th>230</th>\n",
       "      <td>32</td>\n",
       "      <td>7</td>\n",
       "      <td>1</td>\n",
       "      <td>1</td>\n",
       "      <td>0</td>\n",
       "      <td>71124</td>\n",
       "      <td>1</td>\n",
       "      <td>0</td>\n",
       "      <td>0</td>\n",
       "      <td>27</td>\n",
       "      <td>7</td>\n",
       "      <td>1045</td>\n",
       "      <td>2</td>\n",
       "      <td>245</td>\n",
       "      <td>0</td>\n",
       "      <td>3</td>\n",
       "      <td>0</td>\n",
       "    </tr>\n",
       "    <tr>\n",
       "      <th>309</th>\n",
       "      <td>31</td>\n",
       "      <td>1</td>\n",
       "      <td>1</td>\n",
       "      <td>1</td>\n",
       "      <td>0</td>\n",
       "      <td>94722</td>\n",
       "      <td>1</td>\n",
       "      <td>0</td>\n",
       "      <td>0</td>\n",
       "      <td>27</td>\n",
       "      <td>7</td>\n",
       "      <td>1045</td>\n",
       "      <td>1</td>\n",
       "      <td>624</td>\n",
       "      <td>0</td>\n",
       "      <td>3</td>\n",
       "      <td>0</td>\n",
       "    </tr>\n",
       "    <tr>\n",
       "      <th>353</th>\n",
       "      <td>34</td>\n",
       "      <td>9</td>\n",
       "      <td>1</td>\n",
       "      <td>1</td>\n",
       "      <td>0</td>\n",
       "      <td>69914</td>\n",
       "      <td>1</td>\n",
       "      <td>0</td>\n",
       "      <td>0</td>\n",
       "      <td>27</td>\n",
       "      <td>7</td>\n",
       "      <td>1045</td>\n",
       "      <td>2</td>\n",
       "      <td>572</td>\n",
       "      <td>0</td>\n",
       "      <td>3</td>\n",
       "      <td>0</td>\n",
       "    </tr>\n",
       "    <tr>\n",
       "      <th>429</th>\n",
       "      <td>31</td>\n",
       "      <td>1</td>\n",
       "      <td>0</td>\n",
       "      <td>1</td>\n",
       "      <td>0</td>\n",
       "      <td>17701</td>\n",
       "      <td>1</td>\n",
       "      <td>0</td>\n",
       "      <td>1</td>\n",
       "      <td>19</td>\n",
       "      <td>8</td>\n",
       "      <td>1220</td>\n",
       "      <td>2</td>\n",
       "      <td>744</td>\n",
       "      <td>0</td>\n",
       "      <td>0</td>\n",
       "      <td>0</td>\n",
       "    </tr>\n",
       "    <tr>\n",
       "      <th>...</th>\n",
       "      <td>...</td>\n",
       "      <td>...</td>\n",
       "      <td>...</td>\n",
       "      <td>...</td>\n",
       "      <td>...</td>\n",
       "      <td>...</td>\n",
       "      <td>...</td>\n",
       "      <td>...</td>\n",
       "      <td>...</td>\n",
       "      <td>...</td>\n",
       "      <td>...</td>\n",
       "      <td>...</td>\n",
       "      <td>...</td>\n",
       "      <td>...</td>\n",
       "      <td>...</td>\n",
       "      <td>...</td>\n",
       "      <td>...</td>\n",
       "    </tr>\n",
       "    <tr>\n",
       "      <th>17662</th>\n",
       "      <td>34</td>\n",
       "      <td>4</td>\n",
       "      <td>2</td>\n",
       "      <td>2</td>\n",
       "      <td>0</td>\n",
       "      <td>83977</td>\n",
       "      <td>1</td>\n",
       "      <td>0</td>\n",
       "      <td>0</td>\n",
       "      <td>27</td>\n",
       "      <td>7</td>\n",
       "      <td>1045</td>\n",
       "      <td>2</td>\n",
       "      <td>745</td>\n",
       "      <td>0</td>\n",
       "      <td>3</td>\n",
       "      <td>-999</td>\n",
       "    </tr>\n",
       "    <tr>\n",
       "      <th>17752</th>\n",
       "      <td>34</td>\n",
       "      <td>4</td>\n",
       "      <td>1</td>\n",
       "      <td>1</td>\n",
       "      <td>0</td>\n",
       "      <td>42246</td>\n",
       "      <td>1</td>\n",
       "      <td>0</td>\n",
       "      <td>0</td>\n",
       "      <td>27</td>\n",
       "      <td>7</td>\n",
       "      <td>1045</td>\n",
       "      <td>1</td>\n",
       "      <td>708</td>\n",
       "      <td>0</td>\n",
       "      <td>3</td>\n",
       "      <td>-999</td>\n",
       "    </tr>\n",
       "    <tr>\n",
       "      <th>17778</th>\n",
       "      <td>53</td>\n",
       "      <td>7</td>\n",
       "      <td>1</td>\n",
       "      <td>0</td>\n",
       "      <td>0</td>\n",
       "      <td>83837</td>\n",
       "      <td>0</td>\n",
       "      <td>0</td>\n",
       "      <td>0</td>\n",
       "      <td>17</td>\n",
       "      <td>1</td>\n",
       "      <td>1027</td>\n",
       "      <td>2</td>\n",
       "      <td>390</td>\n",
       "      <td>0</td>\n",
       "      <td>3</td>\n",
       "      <td>-999</td>\n",
       "    </tr>\n",
       "    <tr>\n",
       "      <th>17876</th>\n",
       "      <td>37</td>\n",
       "      <td>1</td>\n",
       "      <td>1</td>\n",
       "      <td>1</td>\n",
       "      <td>0</td>\n",
       "      <td>67822</td>\n",
       "      <td>1</td>\n",
       "      <td>0</td>\n",
       "      <td>0</td>\n",
       "      <td>27</td>\n",
       "      <td>7</td>\n",
       "      <td>1045</td>\n",
       "      <td>2</td>\n",
       "      <td>108</td>\n",
       "      <td>0</td>\n",
       "      <td>3</td>\n",
       "      <td>-999</td>\n",
       "    </tr>\n",
       "    <tr>\n",
       "      <th>17993</th>\n",
       "      <td>31</td>\n",
       "      <td>1</td>\n",
       "      <td>1</td>\n",
       "      <td>1</td>\n",
       "      <td>0</td>\n",
       "      <td>91188</td>\n",
       "      <td>1</td>\n",
       "      <td>0</td>\n",
       "      <td>0</td>\n",
       "      <td>27</td>\n",
       "      <td>7</td>\n",
       "      <td>1045</td>\n",
       "      <td>1</td>\n",
       "      <td>223</td>\n",
       "      <td>0</td>\n",
       "      <td>3</td>\n",
       "      <td>-999</td>\n",
       "    </tr>\n",
       "  </tbody>\n",
       "</table>\n",
       "<p>1040 rows × 17 columns</p>\n",
       "</div>"
      ],
      "text/plain": [
       "       age  job  marital  education  default  balance  housing  loan  contact  \\\n",
       "id                                                                              \n",
       "40      31    0        1          1        0     3245        1     0        0   \n",
       "230     32    7        1          1        0    71124        1     0        0   \n",
       "309     31    1        1          1        0    94722        1     0        0   \n",
       "353     34    9        1          1        0    69914        1     0        0   \n",
       "429     31    1        0          1        0    17701        1     0        1   \n",
       "...    ...  ...      ...        ...      ...      ...      ...   ...      ...   \n",
       "17662   34    4        2          2        0    83977        1     0        0   \n",
       "17752   34    4        1          1        0    42246        1     0        0   \n",
       "17778   53    7        1          0        0    83837        0     0        0   \n",
       "17876   37    1        1          1        0    67822        1     0        0   \n",
       "17993   31    1        1          1        0    91188        1     0        0   \n",
       "\n",
       "       day  month  duration  campaign  pdays  previous  poutcome    y  \n",
       "id                                                                     \n",
       "40      21      8      1074         1    164         0         3    0  \n",
       "230     27      7      1045         2    245         0         3    0  \n",
       "309     27      7      1045         1    624         0         3    0  \n",
       "353     27      7      1045         2    572         0         3    0  \n",
       "429     19      8      1220         2    744         0         0    0  \n",
       "...    ...    ...       ...       ...    ...       ...       ...  ...  \n",
       "17662   27      7      1045         2    745         0         3 -999  \n",
       "17752   27      7      1045         1    708         0         3 -999  \n",
       "17778   17      1      1027         2    390         0         3 -999  \n",
       "17876   27      7      1045         2    108         0         3 -999  \n",
       "17993   27      7      1045         1    223         0         3 -999  \n",
       "\n",
       "[1040 rows x 17 columns]"
      ]
     },
     "execution_count": 22,
     "metadata": {},
     "output_type": "execute_result"
    }
   ],
   "source": [
    "all_df['balance'] = all_df['balance'].apply(lambda x: x if x > 0 else 0)\n",
    "all_df['pdays'] = all_df['pdays'].apply(lambda x: x if x > 0 else 0)\n",
    "all_df[all_df['duration'] > 1000]"
   ]
  },
  {
   "cell_type": "code",
   "execution_count": 23,
   "metadata": {},
   "outputs": [
    {
     "data": {
      "text/html": [
       "<div>\n",
       "<style scoped>\n",
       "    .dataframe tbody tr th:only-of-type {\n",
       "        vertical-align: middle;\n",
       "    }\n",
       "\n",
       "    .dataframe tbody tr th {\n",
       "        vertical-align: top;\n",
       "    }\n",
       "\n",
       "    .dataframe thead th {\n",
       "        text-align: right;\n",
       "    }\n",
       "</style>\n",
       "<table border=\"1\" class=\"dataframe\">\n",
       "  <thead>\n",
       "    <tr style=\"text-align: right;\">\n",
       "      <th></th>\n",
       "      <th>age</th>\n",
       "      <th>job</th>\n",
       "      <th>marital</th>\n",
       "      <th>education</th>\n",
       "      <th>default</th>\n",
       "      <th>balance</th>\n",
       "      <th>housing</th>\n",
       "      <th>loan</th>\n",
       "      <th>contact</th>\n",
       "      <th>day</th>\n",
       "      <th>month</th>\n",
       "      <th>duration</th>\n",
       "      <th>campaign</th>\n",
       "      <th>pdays</th>\n",
       "      <th>previous</th>\n",
       "      <th>poutcome</th>\n",
       "      <th>y</th>\n",
       "    </tr>\n",
       "  </thead>\n",
       "  <tbody>\n",
       "    <tr>\n",
       "      <th>count</th>\n",
       "      <td>45150.000000</td>\n",
       "      <td>45150.000000</td>\n",
       "      <td>45150.000000</td>\n",
       "      <td>45150.000000</td>\n",
       "      <td>45150.000000</td>\n",
       "      <td>45150.000000</td>\n",
       "      <td>45150.000000</td>\n",
       "      <td>45150.000000</td>\n",
       "      <td>45150.000000</td>\n",
       "      <td>45150.000000</td>\n",
       "      <td>45150.000000</td>\n",
       "      <td>45150.000000</td>\n",
       "      <td>45150.000000</td>\n",
       "      <td>45150.000000</td>\n",
       "      <td>45150.000000</td>\n",
       "      <td>45150.000000</td>\n",
       "      <td>45150.000000</td>\n",
       "    </tr>\n",
       "    <tr>\n",
       "      <th>mean</th>\n",
       "      <td>36.085670</td>\n",
       "      <td>4.273068</td>\n",
       "      <td>1.172270</td>\n",
       "      <td>1.200377</td>\n",
       "      <td>0.000310</td>\n",
       "      <td>47691.797231</td>\n",
       "      <td>0.581107</td>\n",
       "      <td>0.127796</td>\n",
       "      <td>0.551849</td>\n",
       "      <td>16.754109</td>\n",
       "      <td>4.980532</td>\n",
       "      <td>229.321240</td>\n",
       "      <td>1.773533</td>\n",
       "      <td>433.958494</td>\n",
       "      <td>0.087774</td>\n",
       "      <td>2.623765</td>\n",
       "      <td>-399.331960</td>\n",
       "    </tr>\n",
       "    <tr>\n",
       "      <th>std</th>\n",
       "      <td>7.835323</td>\n",
       "      <td>3.286885</td>\n",
       "      <td>0.568505</td>\n",
       "      <td>0.696402</td>\n",
       "      <td>0.017606</td>\n",
       "      <td>31232.236213</td>\n",
       "      <td>0.493383</td>\n",
       "      <td>0.333866</td>\n",
       "      <td>0.870418</td>\n",
       "      <td>8.570106</td>\n",
       "      <td>2.623468</td>\n",
       "      <td>206.488239</td>\n",
       "      <td>0.947974</td>\n",
       "      <td>251.849550</td>\n",
       "      <td>0.369888</td>\n",
       "      <td>0.944938</td>\n",
       "      <td>489.406473</td>\n",
       "    </tr>\n",
       "    <tr>\n",
       "      <th>min</th>\n",
       "      <td>20.000000</td>\n",
       "      <td>0.000000</td>\n",
       "      <td>0.000000</td>\n",
       "      <td>0.000000</td>\n",
       "      <td>0.000000</td>\n",
       "      <td>0.000000</td>\n",
       "      <td>0.000000</td>\n",
       "      <td>0.000000</td>\n",
       "      <td>0.000000</td>\n",
       "      <td>1.000000</td>\n",
       "      <td>0.000000</td>\n",
       "      <td>0.000000</td>\n",
       "      <td>1.000000</td>\n",
       "      <td>0.000000</td>\n",
       "      <td>0.000000</td>\n",
       "      <td>0.000000</td>\n",
       "      <td>-999.000000</td>\n",
       "    </tr>\n",
       "    <tr>\n",
       "      <th>25%</th>\n",
       "      <td>31.000000</td>\n",
       "      <td>1.000000</td>\n",
       "      <td>1.000000</td>\n",
       "      <td>1.000000</td>\n",
       "      <td>0.000000</td>\n",
       "      <td>19890.500000</td>\n",
       "      <td>0.000000</td>\n",
       "      <td>0.000000</td>\n",
       "      <td>0.000000</td>\n",
       "      <td>8.000000</td>\n",
       "      <td>3.000000</td>\n",
       "      <td>121.000000</td>\n",
       "      <td>1.000000</td>\n",
       "      <td>216.000000</td>\n",
       "      <td>0.000000</td>\n",
       "      <td>3.000000</td>\n",
       "      <td>-999.000000</td>\n",
       "    </tr>\n",
       "    <tr>\n",
       "      <th>50%</th>\n",
       "      <td>33.000000</td>\n",
       "      <td>4.000000</td>\n",
       "      <td>1.000000</td>\n",
       "      <td>1.000000</td>\n",
       "      <td>0.000000</td>\n",
       "      <td>47360.500000</td>\n",
       "      <td>1.000000</td>\n",
       "      <td>0.000000</td>\n",
       "      <td>0.000000</td>\n",
       "      <td>17.000000</td>\n",
       "      <td>7.000000</td>\n",
       "      <td>158.000000</td>\n",
       "      <td>1.000000</td>\n",
       "      <td>434.000000</td>\n",
       "      <td>0.000000</td>\n",
       "      <td>3.000000</td>\n",
       "      <td>0.000000</td>\n",
       "    </tr>\n",
       "    <tr>\n",
       "      <th>75%</th>\n",
       "      <td>37.000000</td>\n",
       "      <td>7.000000</td>\n",
       "      <td>2.000000</td>\n",
       "      <td>2.000000</td>\n",
       "      <td>0.000000</td>\n",
       "      <td>74916.500000</td>\n",
       "      <td>1.000000</td>\n",
       "      <td>0.000000</td>\n",
       "      <td>2.000000</td>\n",
       "      <td>26.000000</td>\n",
       "      <td>7.000000</td>\n",
       "      <td>345.000000</td>\n",
       "      <td>2.000000</td>\n",
       "      <td>652.000000</td>\n",
       "      <td>0.000000</td>\n",
       "      <td>3.000000</td>\n",
       "      <td>0.000000</td>\n",
       "    </tr>\n",
       "    <tr>\n",
       "      <th>max</th>\n",
       "      <td>90.000000</td>\n",
       "      <td>11.000000</td>\n",
       "      <td>2.000000</td>\n",
       "      <td>3.000000</td>\n",
       "      <td>1.000000</td>\n",
       "      <td>102124.000000</td>\n",
       "      <td>1.000000</td>\n",
       "      <td>1.000000</td>\n",
       "      <td>2.000000</td>\n",
       "      <td>31.000000</td>\n",
       "      <td>10.000000</td>\n",
       "      <td>3076.000000</td>\n",
       "      <td>5.000000</td>\n",
       "      <td>870.000000</td>\n",
       "      <td>3.000000</td>\n",
       "      <td>3.000000</td>\n",
       "      <td>1.000000</td>\n",
       "    </tr>\n",
       "  </tbody>\n",
       "</table>\n",
       "</div>"
      ],
      "text/plain": [
       "                age           job       marital     education       default  \\\n",
       "count  45150.000000  45150.000000  45150.000000  45150.000000  45150.000000   \n",
       "mean      36.085670      4.273068      1.172270      1.200377      0.000310   \n",
       "std        7.835323      3.286885      0.568505      0.696402      0.017606   \n",
       "min       20.000000      0.000000      0.000000      0.000000      0.000000   \n",
       "25%       31.000000      1.000000      1.000000      1.000000      0.000000   \n",
       "50%       33.000000      4.000000      1.000000      1.000000      0.000000   \n",
       "75%       37.000000      7.000000      2.000000      2.000000      0.000000   \n",
       "max       90.000000     11.000000      2.000000      3.000000      1.000000   \n",
       "\n",
       "             balance       housing          loan       contact           day  \\\n",
       "count   45150.000000  45150.000000  45150.000000  45150.000000  45150.000000   \n",
       "mean    47691.797231      0.581107      0.127796      0.551849     16.754109   \n",
       "std     31232.236213      0.493383      0.333866      0.870418      8.570106   \n",
       "min         0.000000      0.000000      0.000000      0.000000      1.000000   \n",
       "25%     19890.500000      0.000000      0.000000      0.000000      8.000000   \n",
       "50%     47360.500000      1.000000      0.000000      0.000000     17.000000   \n",
       "75%     74916.500000      1.000000      0.000000      2.000000     26.000000   \n",
       "max    102124.000000      1.000000      1.000000      2.000000     31.000000   \n",
       "\n",
       "              month      duration      campaign         pdays      previous  \\\n",
       "count  45150.000000  45150.000000  45150.000000  45150.000000  45150.000000   \n",
       "mean       4.980532    229.321240      1.773533    433.958494      0.087774   \n",
       "std        2.623468    206.488239      0.947974    251.849550      0.369888   \n",
       "min        0.000000      0.000000      1.000000      0.000000      0.000000   \n",
       "25%        3.000000    121.000000      1.000000    216.000000      0.000000   \n",
       "50%        7.000000    158.000000      1.000000    434.000000      0.000000   \n",
       "75%        7.000000    345.000000      2.000000    652.000000      0.000000   \n",
       "max       10.000000   3076.000000      5.000000    870.000000      3.000000   \n",
       "\n",
       "           poutcome             y  \n",
       "count  45150.000000  45150.000000  \n",
       "mean       2.623765   -399.331960  \n",
       "std        0.944938    489.406473  \n",
       "min        0.000000   -999.000000  \n",
       "25%        3.000000   -999.000000  \n",
       "50%        3.000000      0.000000  \n",
       "75%        3.000000      0.000000  \n",
       "max        3.000000      1.000000  "
      ]
     },
     "execution_count": 23,
     "metadata": {},
     "output_type": "execute_result"
    }
   ],
   "source": [
    "all_df.describe(include='all')"
   ]
  },
  {
   "cell_type": "markdown",
   "metadata": {},
   "source": [
    "# トレーニング"
   ]
  },
  {
   "cell_type": "code",
   "execution_count": 24,
   "metadata": {},
   "outputs": [],
   "source": [
    "X = all_df[all_df['y'] != -999].drop('y', axis=1)\n",
    "y = all_df[all_df['y'] != -999]['y']\n",
    "X_Test = all_df[all_df['y'] == -999].drop('y', axis=1)\n",
    "\n",
    "pred_list = {}"
   ]
  },
  {
   "cell_type": "code",
   "execution_count": 25,
   "metadata": {},
   "outputs": [],
   "source": [
    "from sklearn.model_selection import train_test_split, GridSearchCV\n",
    "from xgboost import XGBClassifier\n",
    "from lightgbm import LGBMClassifier\n",
    "from sklearn.tree import DecisionTreeClassifier\n",
    "from sklearn.ensemble import RandomForestClassifier\n",
    "from sklearn.metrics import roc_auc_score\n"
   ]
  },
  {
   "cell_type": "code",
   "execution_count": 26,
   "metadata": {},
   "outputs": [],
   "source": [
    "parameters = {\n",
    "    'max_depth': list(range(-1, 11)),\n",
    "}"
   ]
  },
  {
   "cell_type": "markdown",
   "metadata": {},
   "source": [
    "## LightGBM"
   ]
  },
  {
   "cell_type": "code",
   "execution_count": 27,
   "metadata": {},
   "outputs": [
    {
     "data": {
      "text/plain": [
       "GridSearchCV(cv=5, estimator=LGBMClassifier(), n_jobs=-1,\n",
       "             param_grid={'max_depth': [-1, 0, 1, 2, 3, 4, 5, 6, 7, 8, 9, 10]},\n",
       "             return_train_score=True, scoring='roc_auc')"
      ]
     },
     "execution_count": 27,
     "metadata": {},
     "output_type": "execute_result"
    }
   ],
   "source": [
    "lgb = LGBMClassifier()\n",
    "\n",
    "gcv = GridSearchCV(lgb, parameters, cv=5, scoring=\"roc_auc\", n_jobs=-1, return_train_score=True)\n",
    "gcv.fit(X, y)\n"
   ]
  },
  {
   "cell_type": "code",
   "execution_count": 28,
   "metadata": {},
   "outputs": [
    {
     "data": {
      "text/plain": [
       "{'max_depth': 4}"
      ]
     },
     "execution_count": 28,
     "metadata": {},
     "output_type": "execute_result"
    }
   ],
   "source": [
    "gcv.best_params_\n",
    "# {'max_depth': 4}"
   ]
  },
  {
   "cell_type": "code",
   "execution_count": 29,
   "metadata": {},
   "outputs": [
    {
     "name": "stdout",
     "output_type": "stream",
     "text": [
      "[0.95572973 0.95572973 0.80811267 0.84324729 0.86887388 0.8946493\n",
      " 0.9235879  0.93853826 0.94443381 0.94856839 0.95064673 0.95240244]\n",
      "[0.84443483 0.84443483 0.80405521 0.83168072 0.84308331 0.84832249\n",
      " 0.84787825 0.8458119  0.84684092 0.84470876 0.84604851 0.84471611]\n"
     ]
    }
   ],
   "source": [
    "train_score = gcv.cv_results_['mean_train_score']\n",
    "test_score = gcv.cv_results_['mean_test_score']\n",
    "print(train_score)\n",
    "print(test_score)"
   ]
  },
  {
   "cell_type": "code",
   "execution_count": 30,
   "metadata": {},
   "outputs": [
    {
     "data": {
      "text/plain": [
       "([<matplotlib.axis.XTick at 0x1a594ac1e48>,\n",
       "  <matplotlib.axis.XTick at 0x1a594a92a08>,\n",
       "  <matplotlib.axis.XTick at 0x1a5948cf188>,\n",
       "  <matplotlib.axis.XTick at 0x1a594b26708>,\n",
       "  <matplotlib.axis.XTick at 0x1a594b26e88>,\n",
       "  <matplotlib.axis.XTick at 0x1a594b2a588>,\n",
       "  <matplotlib.axis.XTick at 0x1a594b2a088>,\n",
       "  <matplotlib.axis.XTick at 0x1a594b2f148>,\n",
       "  <matplotlib.axis.XTick at 0x1a594b2fd48>,\n",
       "  <matplotlib.axis.XTick at 0x1a594b32848>,\n",
       "  <matplotlib.axis.XTick at 0x1a594b36308>,\n",
       "  <matplotlib.axis.XTick at 0x1a594b36dc8>],\n",
       " <a list of 12 Text xticklabel objects>)"
      ]
     },
     "execution_count": 30,
     "metadata": {},
     "output_type": "execute_result"
    },
    {
     "data": {
      "image/png": "[encoded data removed]",
      "text/plain": [
       "<Figure size 432x288 with 1 Axes>"
      ]
     },
     "metadata": {},
     "output_type": "display_data"
    }
   ],
   "source": [
    "plt.plot(train_score)\n",
    "plt.plot(test_score)\n",
    "plt.xticks(list(range(len(gcv.cv_results_['params']))), [x['max_depth'] for x in gcv.cv_results_['params']])"
   ]
  },
  {
   "cell_type": "code",
   "execution_count": 31,
   "metadata": {},
   "outputs": [
    {
     "name": "stdout",
     "output_type": "stream",
     "text": [
      "gcv.best_params_: {'learning_rate': 0.05}\n"
     ]
    },
    {
     "data": {
      "text/plain": [
       "([<matplotlib.axis.XTick at 0x1a594b93bc8>,\n",
       "  <matplotlib.axis.XTick at 0x1a594b93208>,\n",
       "  <matplotlib.axis.XTick at 0x1a594b8ff88>,\n",
       "  <matplotlib.axis.XTick at 0x1a594bbb448>,\n",
       "  <matplotlib.axis.XTick at 0x1a594bbbac8>,\n",
       "  <matplotlib.axis.XTick at 0x1a594bbf188>,\n",
       "  <matplotlib.axis.XTick at 0x1a594bbf888>,\n",
       "  <matplotlib.axis.XTick at 0x1a594bc4288>],\n",
       " <a list of 8 Text xticklabel objects>)"
      ]
     },
     "execution_count": 31,
     "metadata": {},
     "output_type": "execute_result"
    },
    {
     "data": {
      "image/png": "[encoded data removed]",
      "text/plain": [
       "<Figure size 432x288 with 1 Axes>"
      ]
     },
     "metadata": {},
     "output_type": "display_data"
    }
   ],
   "source": [
    "parameters_lgb = {\n",
    "    'learning_rate': [1, 0.75, 0.5, 0.25, 0.1, 0.05, 0.01, 0.001],\n",
    "}\n",
    "\n",
    "lgb = LGBMClassifier()\n",
    "\n",
    "gcv = GridSearchCV(lgb, parameters_lgb, cv=5, scoring=\"roc_auc\", n_jobs=-1, return_train_score=True)\n",
    "gcv.fit(X, y)\n",
    "print('gcv.best_params_:', gcv.best_params_)\n",
    "train_score = gcv.cv_results_['mean_train_score']\n",
    "test_score = gcv.cv_results_['mean_test_score']\n",
    "plt.plot(train_score)\n",
    "plt.plot(test_score)\n",
    "plt.xticks(list(range(len(gcv.cv_results_['params']))), [x['learning_rate'] for x in gcv.cv_results_['params']])"
   ]
  },
  {
   "cell_type": "code",
   "execution_count": 32,
   "metadata": {},
   "outputs": [
    {
     "name": "stdout",
     "output_type": "stream",
     "text": [
      "gcv.best_params_: {'num_leaves': 15}\n"
     ]
    },
    {
     "data": {
      "text/plain": [
       "([<matplotlib.axis.XTick at 0x1a594c00ac8>,\n",
       "  <matplotlib.axis.XTick at 0x1a594bfd308>,\n",
       "  <matplotlib.axis.XTick at 0x1a594bc4688>,\n",
       "  <matplotlib.axis.XTick at 0x1a594c3cb88>,\n",
       "  <matplotlib.axis.XTick at 0x1a594c40248>,\n",
       "  <matplotlib.axis.XTick at 0x1a594c408c8>,\n",
       "  <matplotlib.axis.XTick at 0x1a594c45248>,\n",
       "  <matplotlib.axis.XTick at 0x1a594c45848>,\n",
       "  <matplotlib.axis.XTick at 0x1a594c4a208>,\n",
       "  <matplotlib.axis.XTick at 0x1a594c4ac48>,\n",
       "  <matplotlib.axis.XTick at 0x1a594c4e708>,\n",
       "  <matplotlib.axis.XTick at 0x1a594c45fc8>,\n",
       "  <matplotlib.axis.XTick at 0x1a594c40ec8>,\n",
       "  <matplotlib.axis.XTick at 0x1a594c516c8>,\n",
       "  <matplotlib.axis.XTick at 0x1a594c552c8>,\n",
       "  <matplotlib.axis.XTick at 0x1a594c55b88>,\n",
       "  <matplotlib.axis.XTick at 0x1a594c59648>,\n",
       "  <matplotlib.axis.XTick at 0x1a594c5d1c8>,\n",
       "  <matplotlib.axis.XTick at 0x1a594c5dc08>,\n",
       "  <matplotlib.axis.XTick at 0x1a594c60708>],\n",
       " <a list of 20 Text xticklabel objects>)"
      ]
     },
     "execution_count": 32,
     "metadata": {},
     "output_type": "execute_result"
    },
    {
     "data": {
      "image/png": "[encoded data removed]",
      "text/plain": [
       "<Figure size 432x288 with 1 Axes>"
      ]
     },
     "metadata": {},
     "output_type": "display_data"
    }
   ],
   "source": [
    "parameters_lgb = {\n",
    "    'num_leaves': list(range(0, 100, 5)),\n",
    "}\n",
    "\n",
    "lgb = LGBMClassifier()\n",
    "\n",
    "gcv = GridSearchCV(lgb, parameters_lgb, cv=5, scoring=\"roc_auc\", n_jobs=-1, return_train_score=True)\n",
    "gcv.fit(X, y)\n",
    "print('gcv.best_params_:', gcv.best_params_)\n",
    "train_score = gcv.cv_results_['mean_train_score']\n",
    "test_score = gcv.cv_results_['mean_test_score']\n",
    "plt.plot(train_score)\n",
    "plt.plot(test_score)\n",
    "plt.xticks(list(range(len(gcv.cv_results_['params']))), [x['num_leaves'] for x in gcv.cv_results_['params']])"
   ]
  },
  {
   "cell_type": "code",
   "execution_count": 33,
   "metadata": {},
   "outputs": [
    {
     "name": "stdout",
     "output_type": "stream",
     "text": [
      "gcv.best_params_: {'feature_fraction': 0.2}\n"
     ]
    },
    {
     "data": {
      "text/plain": [
       "([<matplotlib.axis.XTick at 0x1a594c9d3c8>,\n",
       "  <matplotlib.axis.XTick at 0x1a594c9b9c8>,\n",
       "  <matplotlib.axis.XTick at 0x1a594c9b788>,\n",
       "  <matplotlib.axis.XTick at 0x1a594cb2948>,\n",
       "  <matplotlib.axis.XTick at 0x1a594cb6288>,\n",
       "  <matplotlib.axis.XTick at 0x1a594cb6688>,\n",
       "  <matplotlib.axis.XTick at 0x1a594cb6f08>],\n",
       " <a list of 7 Text xticklabel objects>)"
      ]
     },
     "execution_count": 33,
     "metadata": {},
     "output_type": "execute_result"
    },
    {
     "data": {
      "image/png": "[encoded data removed]",
      "text/plain": [
       "<Figure size 432x288 with 1 Axes>"
      ]
     },
     "metadata": {},
     "output_type": "display_data"
    }
   ],
   "source": [
    "parameters_lgb = {\n",
    "    'feature_fraction': [0.01, 0.1, 0.2, 0.3, 0.5, 0.7, 1.0],\n",
    "}\n",
    "\n",
    "lgb = LGBMClassifier()\n",
    "\n",
    "gcv = GridSearchCV(lgb, parameters_lgb, cv=5, scoring=\"roc_auc\", n_jobs=-1, return_train_score=True)\n",
    "gcv.fit(X, y)\n",
    "print('gcv.best_params_:', gcv.best_params_)\n",
    "train_score = gcv.cv_results_['mean_train_score']\n",
    "test_score = gcv.cv_results_['mean_test_score']\n",
    "plt.plot(train_score)\n",
    "plt.plot(test_score)\n",
    "plt.xticks(list(range(len(gcv.cv_results_['params']))), [x['feature_fraction'] for x in gcv.cv_results_['params']])"
   ]
  },
  {
   "cell_type": "code",
   "execution_count": 34,
   "metadata": {},
   "outputs": [
    {
     "name": "stdout",
     "output_type": "stream",
     "text": [
      "gcv.best_params_: {'n_estimators': 75}\n"
     ]
    },
    {
     "data": {
      "text/plain": [
       "([<matplotlib.axis.XTick at 0x1a594cee0c8>,\n",
       "  <matplotlib.axis.XTick at 0x1a594c936c8>,\n",
       "  <matplotlib.axis.XTick at 0x1a594c93a08>,\n",
       "  <matplotlib.axis.XTick at 0x1a594d13a88>,\n",
       "  <matplotlib.axis.XTick at 0x1a594d172c8>,\n",
       "  <matplotlib.axis.XTick at 0x1a594d17ac8>,\n",
       "  <matplotlib.axis.XTick at 0x1a594d1c3c8>,\n",
       "  <matplotlib.axis.XTick at 0x1a594d1ce48>,\n",
       "  <matplotlib.axis.XTick at 0x1a594d21948>,\n",
       "  <matplotlib.axis.XTick at 0x1a594d24448>,\n",
       "  <matplotlib.axis.XTick at 0x1a594d24ec8>,\n",
       "  <matplotlib.axis.XTick at 0x1a594d17a08>],\n",
       " <a list of 12 Text xticklabel objects>)"
      ]
     },
     "execution_count": 34,
     "metadata": {},
     "output_type": "execute_result"
    },
    {
     "data": {
      "image/png": "[encoded data removed]",
      "text/plain": [
       "<Figure size 432x288 with 1 Axes>"
      ]
     },
     "metadata": {},
     "output_type": "display_data"
    }
   ],
   "source": [
    "parameters_lgb = {\n",
    "    'n_estimators': [10, 50, 75, 80, 85, 90, 95, 100, 120, 150, 500, 1000],\n",
    "}\n",
    "\n",
    "lgb = LGBMClassifier()\n",
    "\n",
    "gcv = GridSearchCV(lgb, parameters_lgb, cv=5, scoring=\"roc_auc\", n_jobs=-1, return_train_score=True)\n",
    "gcv.fit(X, y)\n",
    "print('gcv.best_params_:', gcv.best_params_)\n",
    "train_score = gcv.cv_results_['mean_train_score']\n",
    "test_score = gcv.cv_results_['mean_test_score']\n",
    "plt.plot(train_score)\n",
    "plt.plot(test_score)\n",
    "plt.xticks(list(range(len(gcv.cv_results_['params']))), [x['n_estimators'] for x in gcv.cv_results_['params']])"
   ]
  },
  {
   "cell_type": "code",
   "execution_count": 35,
   "metadata": {},
   "outputs": [
    {
     "name": "stdout",
     "output_type": "stream",
     "text": [
      "gcv.best_params_: {'min_data_in_leaf': 400}\n"
     ]
    },
    {
     "data": {
      "text/plain": [
       "([<matplotlib.axis.XTick at 0x1a594cdb808>,\n",
       "  <matplotlib.axis.XTick at 0x1a594d698c8>,\n",
       "  <matplotlib.axis.XTick at 0x1a594d69688>,\n",
       "  <matplotlib.axis.XTick at 0x1a594d88948>,\n",
       "  <matplotlib.axis.XTick at 0x1a594d8c288>,\n",
       "  <matplotlib.axis.XTick at 0x1a594d8c908>,\n",
       "  <matplotlib.axis.XTick at 0x1a594d92208>,\n",
       "  <matplotlib.axis.XTick at 0x1a594d92a88>],\n",
       " <a list of 8 Text xticklabel objects>)"
      ]
     },
     "execution_count": 35,
     "metadata": {},
     "output_type": "execute_result"
    },
    {
     "data": {
      "image/png": "[encoded data removed]",
      "text/plain": [
       "<Figure size 432x288 with 1 Axes>"
      ]
     },
     "metadata": {},
     "output_type": "display_data"
    }
   ],
   "source": [
    "parameters_lgb = {\n",
    "    'min_data_in_leaf': [0, 5, 15, 300, 350, 400, 450, 500],\n",
    "}\n",
    "\n",
    "lgb = LGBMClassifier()\n",
    "\n",
    "gcv = GridSearchCV(lgb, parameters_lgb, cv=5, scoring=\"roc_auc\", n_jobs=-1, return_train_score=True)\n",
    "gcv.fit(X, y)\n",
    "print('gcv.best_params_:', gcv.best_params_)\n",
    "train_score = gcv.cv_results_['mean_train_score']\n",
    "test_score = gcv.cv_results_['mean_test_score']\n",
    "plt.plot(train_score)\n",
    "plt.plot(test_score)\n",
    "plt.xticks(list(range(len(gcv.cv_results_['params']))), [x['min_data_in_leaf'] for x in gcv.cv_results_['params']])"
   ]
  },
  {
   "cell_type": "code",
   "execution_count": null,
   "metadata": {},
   "outputs": [],
   "source": []
  },
  {
   "cell_type": "code",
   "execution_count": 36,
   "metadata": {},
   "outputs": [
    {
     "data": {
      "text/plain": [
       "LGBMClassifier(feature_fraction=0.2, learning_rate=0.05, max_depth=4,\n",
       "               min_data_in_leaf=400, n_estimators=75, num_leaves=15,\n",
       "               random_state=0)"
      ]
     },
     "execution_count": 36,
     "metadata": {},
     "output_type": "execute_result"
    }
   ],
   "source": [
    "lgb = LGBMClassifier(\n",
    "    max_depth=4,\n",
    "    learning_rate=0.05,\n",
    "    num_leaves=15,\n",
    "    feature_fraction=0.2,\n",
    "    random_state=0,\n",
    "    n_estimators=75,\n",
    "    min_data_in_leaf=400,\n",
    "    n_jobs=-1)\n",
    "# {'max_depth': 4}\n",
    "# {'learning_rate': 0.05}\n",
    "# {'num_leaves': 15}\n",
    "# {'feature_fraction': 0.2}\n",
    "# {'n_estimators': 75}\n",
    "# {'min_data_in_leaf': 400}\n",
    "\n",
    "lgb.fit(X, y)\n"
   ]
  },
  {
   "cell_type": "code",
   "execution_count": 37,
   "metadata": {},
   "outputs": [
    {
     "data": {
      "text/plain": [
       "array([0.03838973, 0.14935987, 0.02277297, ..., 0.10463984, 0.04941202,\n",
       "       0.01777891])"
      ]
     },
     "execution_count": 37,
     "metadata": {},
     "output_type": "execute_result"
    }
   ],
   "source": [
    "y_pred = lgb.predict_proba(X)[:,1]\n",
    "y_pred"
   ]
  },
  {
   "cell_type": "code",
   "execution_count": 38,
   "metadata": {},
   "outputs": [],
   "source": [
    "pred_list['lgb'] = y_pred"
   ]
  },
  {
   "cell_type": "markdown",
   "metadata": {},
   "source": [
    "## XGBoost"
   ]
  },
  {
   "cell_type": "code",
   "execution_count": 39,
   "metadata": {},
   "outputs": [
    {
     "data": {
      "text/plain": [
       "GridSearchCV(cv=5,\n",
       "             estimator=XGBClassifier(base_score=None, booster=None,\n",
       "                                     colsample_bylevel=None,\n",
       "                                     colsample_bynode=None,\n",
       "                                     colsample_bytree=None, gamma=None,\n",
       "                                     gpu_id=None, importance_type='gain',\n",
       "                                     interaction_constraints=None,\n",
       "                                     learning_rate=None, max_delta_step=None,\n",
       "                                     max_depth=None, min_child_weight=None,\n",
       "                                     missing=nan, monotone_constraints=None,\n",
       "                                     n_estimators=100, n_jobs=None,\n",
       "                                     num_parallel_tree=None, random_state=None,\n",
       "                                     reg_alpha=None, reg_lambda=None,\n",
       "                                     scale_pos_weight=None, subsample=None,\n",
       "                                     tree_method=None, validate_parameters=None,\n",
       "                                     verbosity=None),\n",
       "             n_jobs=-1,\n",
       "             param_grid={'max_depth': [-1, 0, 1, 2, 3, 4, 5, 6, 7, 8, 9, 10]},\n",
       "             return_train_score=True, scoring='roc_auc')"
      ]
     },
     "execution_count": 39,
     "metadata": {},
     "output_type": "execute_result"
    }
   ],
   "source": [
    "xgb = XGBClassifier()\n",
    "\n",
    "gcv2 = GridSearchCV(xgb, parameters, cv=5, scoring=\"roc_auc\", n_jobs=-1, return_train_score=True)\n",
    "gcv2.fit(X, y)\n"
   ]
  },
  {
   "cell_type": "code",
   "execution_count": 40,
   "metadata": {},
   "outputs": [
    {
     "data": {
      "text/plain": [
       "{'max_depth': 3}"
      ]
     },
     "execution_count": 40,
     "metadata": {},
     "output_type": "execute_result"
    }
   ],
   "source": [
    "gcv2.best_params_\n",
    "# {'max_depth': 3}"
   ]
  },
  {
   "cell_type": "code",
   "execution_count": 41,
   "metadata": {},
   "outputs": [
    {
     "name": "stdout",
     "output_type": "stream",
     "text": [
      "[       nan 0.5        0.82881    0.87058431 0.90047356 0.93552231\n",
      " 0.96734298 0.98811787 0.99715248 0.99964869 0.99997903 0.99999858]\n",
      "[       nan 0.5        0.82377643 0.848421   0.85134146 0.84661132\n",
      " 0.83843675 0.82870986 0.82461772 0.82173459 0.81934644 0.81569948]\n"
     ]
    }
   ],
   "source": [
    "train_score = gcv2.cv_results_['mean_train_score']\n",
    "test_score = gcv2.cv_results_['mean_test_score']\n",
    "print(train_score)\n",
    "print(test_score)"
   ]
  },
  {
   "cell_type": "code",
   "execution_count": 42,
   "metadata": {},
   "outputs": [
    {
     "data": {
      "text/plain": [
       "([<matplotlib.axis.XTick at 0x1a594dd3c08>,\n",
       "  <matplotlib.axis.XTick at 0x1a594dd32c8>,\n",
       "  <matplotlib.axis.XTick at 0x1a594dd0e48>,\n",
       "  <matplotlib.axis.XTick at 0x1a594df7f08>,\n",
       "  <matplotlib.axis.XTick at 0x1a594dfc408>,\n",
       "  <matplotlib.axis.XTick at 0x1a594dfca88>,\n",
       "  <matplotlib.axis.XTick at 0x1a594e01188>,\n",
       "  <matplotlib.axis.XTick at 0x1a594e01808>,\n",
       "  <matplotlib.axis.XTick at 0x1a594e082c8>,\n",
       "  <matplotlib.axis.XTick at 0x1a594e08888>,\n",
       "  <matplotlib.axis.XTick at 0x1a594e01e08>,\n",
       "  <matplotlib.axis.XTick at 0x1a594e0d248>],\n",
       " <a list of 12 Text xticklabel objects>)"
      ]
     },
     "execution_count": 42,
     "metadata": {},
     "output_type": "execute_result"
    },
    {
     "data": {
      "image/png": "[encoded data removed]",
      "text/plain": [
       "<Figure size 432x288 with 1 Axes>"
      ]
     },
     "metadata": {},
     "output_type": "display_data"
    }
   ],
   "source": [
    "plt.plot(train_score)\n",
    "plt.plot(test_score)\n",
    "plt.xticks(list(range(len(gcv2.cv_results_['params']))), [x['max_depth'] for x in gcv2.cv_results_['params']])"
   ]
  },
  {
   "cell_type": "code",
   "execution_count": 43,
   "metadata": {},
   "outputs": [
    {
     "name": "stdout",
     "output_type": "stream",
     "text": [
      "gcv2.best_params_: {'colsample_bytree': 0.01}\n"
     ]
    },
    {
     "data": {
      "text/plain": [
       "([<matplotlib.axis.XTick at 0x1a594e670c8>,\n",
       "  <matplotlib.axis.XTick at 0x1a594e646c8>,\n",
       "  <matplotlib.axis.XTick at 0x1a594e64488>,\n",
       "  <matplotlib.axis.XTick at 0x1a594fad148>,\n",
       "  <matplotlib.axis.XTick at 0x1a594fad7c8>,\n",
       "  <matplotlib.axis.XTick at 0x1a594fb0188>,\n",
       "  <matplotlib.axis.XTick at 0x1a594fb0548>,\n",
       "  <matplotlib.axis.XTick at 0x1a594fb0d88>],\n",
       " <a list of 8 Text xticklabel objects>)"
      ]
     },
     "execution_count": 43,
     "metadata": {},
     "output_type": "execute_result"
    },
    {
     "data": {
      "image/png": "[encoded data removed]",
      "text/plain": [
       "<Figure size 432x288 with 1 Axes>"
      ]
     },
     "metadata": {},
     "output_type": "display_data"
    }
   ],
   "source": [
    "parameters_xgb = {\n",
    "    'colsample_bytree': [0.01, 0.05, 0.1, 0.2, 0.3, 0.5, 0.7, 1.0],\n",
    "}\n",
    "\n",
    "xgb = XGBClassifier()\n",
    "\n",
    "gcv2 = GridSearchCV(xgb, parameters_xgb, cv=5, scoring=\"roc_auc\", n_jobs=-1, return_train_score=True)\n",
    "gcv2.fit(X, y)\n",
    "print('gcv2.best_params_:', gcv2.best_params_)\n",
    "train_score = gcv2.cv_results_['mean_train_score']\n",
    "test_score = gcv2.cv_results_['mean_test_score']\n",
    "plt.plot(train_score)\n",
    "plt.plot(test_score)\n",
    "plt.xticks(list(range(len(gcv2.cv_results_['params']))), [x['colsample_bytree'] for x in gcv2.cv_results_['params']])"
   ]
  },
  {
   "cell_type": "code",
   "execution_count": 44,
   "metadata": {},
   "outputs": [
    {
     "name": "stdout",
     "output_type": "stream",
     "text": [
      "gcv2.best_params_: {'eta': 5}\n"
     ]
    },
    {
     "data": {
      "text/plain": [
       "([<matplotlib.axis.XTick at 0x1a594fff908>,\n",
       "  <matplotlib.axis.XTick at 0x1a594ffaf08>,\n",
       "  <matplotlib.axis.XTick at 0x1a594ffacc8>,\n",
       "  <matplotlib.axis.XTick at 0x1a595020a88>,\n",
       "  <matplotlib.axis.XTick at 0x1a595023148>,\n",
       "  <matplotlib.axis.XTick at 0x1a5950237c8>,\n",
       "  <matplotlib.axis.XTick at 0x1a5950281c8>,\n",
       "  <matplotlib.axis.XTick at 0x1a595028788>,\n",
       "  <matplotlib.axis.XTick at 0x1a59502d088>,\n",
       "  <matplotlib.axis.XTick at 0x1a59502d888>,\n",
       "  <matplotlib.axis.XTick at 0x1a5950312c8>,\n",
       "  <matplotlib.axis.XTick at 0x1a595028648>,\n",
       "  <matplotlib.axis.XTick at 0x1a595031788>,\n",
       "  <matplotlib.axis.XTick at 0x1a595035108>],\n",
       " <a list of 14 Text xticklabel objects>)"
      ]
     },
     "execution_count": 44,
     "metadata": {},
     "output_type": "execute_result"
    },
    {
     "data": {
      "image/png": "[encoded data removed]",
      "text/plain": [
       "<Figure size 432x288 with 1 Axes>"
      ]
     },
     "metadata": {},
     "output_type": "display_data"
    }
   ],
   "source": [
    "parameters_xgb = {\n",
    "    'eta': [0, 5, 10, 50, 75, 80, 85, 90, 95, 100, 120, 150, 500, 1000],\n",
    "}\n",
    "\n",
    "xgb = XGBClassifier()\n",
    "\n",
    "gcv2 = GridSearchCV(xgb, parameters_xgb, cv=5, scoring=\"roc_auc\", n_jobs=-1, return_train_score=True)\n",
    "gcv2.fit(X, y)\n",
    "print('gcv2.best_params_:', gcv2.best_params_)\n",
    "train_score = gcv2.cv_results_['mean_train_score']\n",
    "test_score = gcv2.cv_results_['mean_test_score']\n",
    "plt.plot(train_score)\n",
    "plt.plot(test_score)\n",
    "plt.xticks(list(range(len(gcv2.cv_results_['params']))), [x['eta'] for x in gcv2.cv_results_['params']])"
   ]
  },
  {
   "cell_type": "code",
   "execution_count": 45,
   "metadata": {},
   "outputs": [
    {
     "name": "stdout",
     "output_type": "stream",
     "text": [
      "gcv2.best_params_: {'min_child_weight': 50}\n"
     ]
    },
    {
     "data": {
      "text/plain": [
       "([<matplotlib.axis.XTick at 0x1a5950748c8>,\n",
       "  <matplotlib.axis.XTick at 0x1a59506bec8>,\n",
       "  <matplotlib.axis.XTick at 0x1a59506bc88>,\n",
       "  <matplotlib.axis.XTick at 0x1a595092248>,\n",
       "  <matplotlib.axis.XTick at 0x1a5950928c8>,\n",
       "  <matplotlib.axis.XTick at 0x1a595095208>,\n",
       "  <matplotlib.axis.XTick at 0x1a595095648>,\n",
       "  <matplotlib.axis.XTick at 0x1a595095e08>],\n",
       " <a list of 8 Text xticklabel objects>)"
      ]
     },
     "execution_count": 45,
     "metadata": {},
     "output_type": "execute_result"
    },
    {
     "data": {
      "image/png": "[encoded data removed]",
      "text/plain": [
       "<Figure size 432x288 with 1 Axes>"
      ]
     },
     "metadata": {},
     "output_type": "display_data"
    }
   ],
   "source": [
    "parameters_xgb = {\n",
    "    'min_child_weight': [0, 5, 15, 20, 50, 75, 100, 300],\n",
    "}\n",
    "\n",
    "xgb = XGBClassifier()\n",
    "\n",
    "gcv2 = GridSearchCV(xgb, parameters_xgb, cv=5, scoring=\"roc_auc\", n_jobs=-1, return_train_score=True)\n",
    "gcv2.fit(X, y)\n",
    "print('gcv2.best_params_:', gcv2.best_params_)\n",
    "train_score = gcv2.cv_results_['mean_train_score']\n",
    "test_score = gcv2.cv_results_['mean_test_score']\n",
    "plt.plot(train_score)\n",
    "plt.plot(test_score)\n",
    "plt.xticks(list(range(len(gcv2.cv_results_['params']))), [x['min_child_weight'] for x in gcv2.cv_results_['params']])"
   ]
  },
  {
   "cell_type": "code",
   "execution_count": 46,
   "metadata": {},
   "outputs": [
    {
     "name": "stdout",
     "output_type": "stream",
     "text": [
      "gcv2.best_params_: {'subsample': 1}\n"
     ]
    },
    {
     "data": {
      "text/plain": [
       "([<matplotlib.axis.XTick at 0x1a5950caa88>,\n",
       "  <matplotlib.axis.XTick at 0x1a5950ca0c8>,\n",
       "  <matplotlib.axis.XTick at 0x1a5950cbe48>,\n",
       "  <matplotlib.axis.XTick at 0x1a5950f0948>,\n",
       "  <matplotlib.axis.XTick at 0x1a5950f6288>],\n",
       " <a list of 5 Text xticklabel objects>)"
      ]
     },
     "execution_count": 46,
     "metadata": {},
     "output_type": "execute_result"
    },
    {
     "data": {
      "image/png": "[encoded data removed]",
      "text/plain": [
       "<Figure size 432x288 with 1 Axes>"
      ]
     },
     "metadata": {},
     "output_type": "display_data"
    }
   ],
   "source": [
    "parameters_xgb = {\n",
    "    'subsample': [0, 0.2, 0.5, 0.7, 1],\n",
    "}\n",
    "\n",
    "xgb = XGBClassifier()\n",
    "\n",
    "gcv2 = GridSearchCV(xgb, parameters_xgb, cv=5, scoring=\"roc_auc\", n_jobs=-1, return_train_score=True)\n",
    "gcv2.fit(X, y)\n",
    "print('gcv2.best_params_:', gcv2.best_params_)\n",
    "train_score = gcv2.cv_results_['mean_train_score']\n",
    "test_score = gcv2.cv_results_['mean_test_score']\n",
    "plt.plot(train_score)\n",
    "plt.plot(test_score)\n",
    "plt.xticks(list(range(len(gcv2.cv_results_['params']))), [x['subsample'] for x in gcv2.cv_results_['params']])"
   ]
  },
  {
   "cell_type": "code",
   "execution_count": null,
   "metadata": {},
   "outputs": [],
   "source": []
  },
  {
   "cell_type": "code",
   "execution_count": 57,
   "metadata": {},
   "outputs": [
    {
     "data": {
      "text/plain": [
       "XGBClassifier(base_score=0.5, booster='gbtree', colsample_bylevel=1,\n",
       "              colsample_bynode=1, colsample_bytree=0.01, gamma=0, gpu_id=-1,\n",
       "              importance_type='gain', interaction_constraints='',\n",
       "              learning_rate=0.300000012, max_delta_step=0, max_depth=3,\n",
       "              min_child_weight=50, missing=nan, monotone_constraints='()',\n",
       "              n_estimators=100, n_jobs=-1, num_parallel_tree=1, random_state=0,\n",
       "              reg_alpha=0, reg_lambda=1, scale_pos_weight=1, subsample=1,\n",
       "              tree_method='exact', validate_parameters=1, verbosity=None)"
      ]
     },
     "execution_count": 57,
     "metadata": {},
     "output_type": "execute_result"
    }
   ],
   "source": [
    "xgb = XGBClassifier(\n",
    "    max_depth=3,\n",
    "    colsample_bytree=0.01,\n",
    "#     eta=5,\n",
    "    min_child_weight=50,\n",
    "    subsample=1,\n",
    "    n_jobs=-1)\n",
    "# {'max_depth': 3}\n",
    "# {'colsample_bytree': 0.01}\n",
    "# {'eta': 5}\n",
    "# {'min_child_weight': 50}\n",
    "# {'subsample': 1}\n",
    "\n",
    "xgb.fit(X, y)\n"
   ]
  },
  {
   "cell_type": "code",
   "execution_count": 58,
   "metadata": {},
   "outputs": [
    {
     "data": {
      "text/plain": [
       "array([0.0167825 , 0.18324246, 0.00918119, ..., 0.08262949, 0.0591043 ,\n",
       "       0.0080656 ], dtype=float32)"
      ]
     },
     "execution_count": 58,
     "metadata": {},
     "output_type": "execute_result"
    }
   ],
   "source": [
    "y_pred2 = xgb.predict_proba(X)[:,1]\n",
    "y_pred2"
   ]
  },
  {
   "cell_type": "code",
   "execution_count": 59,
   "metadata": {},
   "outputs": [],
   "source": [
    "pred_list['xgb'] = y_pred2"
   ]
  },
  {
   "cell_type": "code",
   "execution_count": 60,
   "metadata": {},
   "outputs": [
    {
     "data": {
      "text/plain": [
       "((27100,), (27100,))"
      ]
     },
     "execution_count": 60,
     "metadata": {},
     "output_type": "execute_result"
    }
   ],
   "source": [
    "y_pred2.shape, y.shape"
   ]
  },
  {
   "cell_type": "markdown",
   "metadata": {},
   "source": [
    "## Random Forest"
   ]
  },
  {
   "cell_type": "code",
   "execution_count": 61,
   "metadata": {},
   "outputs": [],
   "source": [
    "pred_list = pd.DataFrame(pred_list)"
   ]
  },
  {
   "cell_type": "code",
   "execution_count": 62,
   "metadata": {},
   "outputs": [
    {
     "data": {
      "text/plain": [
       "GridSearchCV(cv=5, estimator=RandomForestClassifier(), n_jobs=-1,\n",
       "             param_grid={'max_depth': [-1, 0, 1, 2, 3, 4, 5, 6, 7, 8, 9, 10]},\n",
       "             return_train_score=True, scoring='roc_auc')"
      ]
     },
     "execution_count": 62,
     "metadata": {},
     "output_type": "execute_result"
    }
   ],
   "source": [
    "rf = RandomForestClassifier()\n",
    "\n",
    "gcv3 = GridSearchCV(rf, parameters, cv=5, scoring=\"roc_auc\", n_jobs=-1, return_train_score=True)\n",
    "gcv3.fit(pred_list, y)\n"
   ]
  },
  {
   "cell_type": "code",
   "execution_count": 63,
   "metadata": {},
   "outputs": [
    {
     "data": {
      "text/plain": [
       "{'max_depth': 4}"
      ]
     },
     "execution_count": 63,
     "metadata": {},
     "output_type": "execute_result"
    }
   ],
   "source": [
    "gcv3.best_params_\n",
    "# {'max_depth': 4}"
   ]
  },
  {
   "cell_type": "code",
   "execution_count": 64,
   "metadata": {},
   "outputs": [
    {
     "name": "stdout",
     "output_type": "stream",
     "text": [
      "[       nan        nan 0.73924995 0.83674311 0.84677771 0.85151783\n",
      " 0.86009044 0.8719838  0.88524345 0.89992867 0.91579829 0.93288157]\n",
      "[       nan        nan 0.73558094 0.83406882 0.84361251 0.84498632\n",
      " 0.84476155 0.84397413 0.84281664 0.84225493 0.84119208 0.83993842]\n"
     ]
    }
   ],
   "source": [
    "train_score = gcv3.cv_results_['mean_train_score']\n",
    "test_score = gcv3.cv_results_['mean_test_score']\n",
    "print(train_score)\n",
    "print(test_score)"
   ]
  },
  {
   "cell_type": "code",
   "execution_count": 65,
   "metadata": {},
   "outputs": [
    {
     "data": {
      "text/plain": [
       "([<matplotlib.axis.XTick at 0x1a5950f6708>,\n",
       "  <matplotlib.axis.XTick at 0x1a595124988>,\n",
       "  <matplotlib.axis.XTick at 0x1a595134088>,\n",
       "  <matplotlib.axis.XTick at 0x1a59516eb88>,\n",
       "  <matplotlib.axis.XTick at 0x1a595172248>,\n",
       "  <matplotlib.axis.XTick at 0x1a595172a08>,\n",
       "  <matplotlib.axis.XTick at 0x1a5951775c8>,\n",
       "  <matplotlib.axis.XTick at 0x1a59517b0c8>,\n",
       "  <matplotlib.axis.XTick at 0x1a59516edc8>,\n",
       "  <matplotlib.axis.XTick at 0x1a59517b8c8>,\n",
       "  <matplotlib.axis.XTick at 0x1a59517e408>,\n",
       "  <matplotlib.axis.XTick at 0x1a5951810c8>],\n",
       " <a list of 12 Text xticklabel objects>)"
      ]
     },
     "execution_count": 65,
     "metadata": {},
     "output_type": "execute_result"
    },
    {
     "data": {
      "image/png": "[encoded data removed]",
      "text/plain": [
       "<Figure size 432x288 with 1 Axes>"
      ]
     },
     "metadata": {},
     "output_type": "display_data"
    }
   ],
   "source": [
    "plt.plot(train_score)\n",
    "plt.plot(test_score)\n",
    "plt.xticks(list(range(len(gcv3.cv_results_['params']))), [x['max_depth'] for x in gcv3.cv_results_['params']])"
   ]
  },
  {
   "cell_type": "code",
   "execution_count": 66,
   "metadata": {},
   "outputs": [
    {
     "name": "stdout",
     "output_type": "stream",
     "text": [
      "gc32.best_params_: {'min_samples_leaf': 500}\n"
     ]
    },
    {
     "data": {
      "text/plain": [
       "([<matplotlib.axis.XTick at 0x1a5951b9488>,\n",
       "  <matplotlib.axis.XTick at 0x1a5951d0688>,\n",
       "  <matplotlib.axis.XTick at 0x1a5951d06c8>,\n",
       "  <matplotlib.axis.XTick at 0x1a5951ff608>,\n",
       "  <matplotlib.axis.XTick at 0x1a5951ffe48>,\n",
       "  <matplotlib.axis.XTick at 0x1a5952037c8>,\n",
       "  <matplotlib.axis.XTick at 0x1a5952082c8>,\n",
       "  <matplotlib.axis.XTick at 0x1a595203e08>,\n",
       "  <matplotlib.axis.XTick at 0x1a595208c88>,\n",
       "  <matplotlib.axis.XTick at 0x1a59520b788>,\n",
       "  <matplotlib.axis.XTick at 0x1a59520f2c8>,\n",
       "  <matplotlib.axis.XTick at 0x1a59520fd08>],\n",
       " <a list of 12 Text xticklabel objects>)"
      ]
     },
     "execution_count": 66,
     "metadata": {},
     "output_type": "execute_result"
    },
    {
     "data": {
      "image/png": "[encoded data removed]",
      "text/plain": [
       "<Figure size 432x288 with 1 Axes>"
      ]
     },
     "metadata": {},
     "output_type": "display_data"
    }
   ],
   "source": [
    "parameters_rf = {\n",
    "    \"min_samples_leaf\": [1, 2, 3, 4, 5, 10, 20, 50, 100, 500, 600, 700], \n",
    "}\n",
    "\n",
    "rf = RandomForestClassifier()\n",
    "\n",
    "gcv3 = GridSearchCV(rf, parameters_rf, cv=5, scoring=\"roc_auc\", n_jobs=-1, return_train_score=True)\n",
    "gcv3.fit(pred_list, y)\n",
    "print('gc32.best_params_:', gcv3.best_params_)\n",
    "train_score = gcv3.cv_results_['mean_train_score']\n",
    "test_score = gcv3.cv_results_['mean_test_score']\n",
    "plt.plot(train_score)\n",
    "plt.plot(test_score)\n",
    "plt.xticks(list(range(len(gcv3.cv_results_['params']))), [x['min_samples_leaf'] for x in gcv3.cv_results_['params']])"
   ]
  },
  {
   "cell_type": "code",
   "execution_count": null,
   "metadata": {},
   "outputs": [],
   "source": []
  },
  {
   "cell_type": "code",
   "execution_count": 72,
   "metadata": {},
   "outputs": [
    {
     "data": {
      "text/plain": [
       "RandomForestClassifier(max_depth=4, min_samples_leaf=500)"
      ]
     },
     "execution_count": 72,
     "metadata": {},
     "output_type": "execute_result"
    }
   ],
   "source": [
    "rf = RandomForestClassifier(\n",
    "    max_depth=4,\n",
    "    min_samples_leaf=500,\n",
    ")\n",
    "# {'max_depth': 4}\n",
    "# {'min_samples_leaf': 500}\n",
    "\n",
    "rf.fit(pred_list, y)\n"
   ]
  },
  {
   "cell_type": "code",
   "execution_count": 73,
   "metadata": {},
   "outputs": [
    {
     "data": {
      "text/plain": [
       "array([0.01232943, 0.2132016 , 0.00474208, ..., 0.08935123, 0.03174014,\n",
       "       0.00459766])"
      ]
     },
     "execution_count": 73,
     "metadata": {},
     "output_type": "execute_result"
    }
   ],
   "source": [
    "y_pred3 = rf.predict_proba(pred_list)[:,1]\n",
    "y_pred3"
   ]
  },
  {
   "cell_type": "markdown",
   "metadata": {},
   "source": [
    "## 結果確認"
   ]
  },
  {
   "cell_type": "code",
   "execution_count": 74,
   "metadata": {},
   "outputs": [
    {
     "data": {
      "text/plain": [
       "0.838144714766118"
      ]
     },
     "execution_count": 74,
     "metadata": {},
     "output_type": "execute_result"
    }
   ],
   "source": [
    "roc_auc_score(y, pred_list['lgb'])\n"
   ]
  },
  {
   "cell_type": "code",
   "execution_count": 75,
   "metadata": {},
   "outputs": [
    {
     "data": {
      "text/plain": [
       "0.8445718622969329"
      ]
     },
     "execution_count": 75,
     "metadata": {},
     "output_type": "execute_result"
    }
   ],
   "source": [
    "roc_auc_score(y, pred_list['xgb'])\n"
   ]
  },
  {
   "cell_type": "code",
   "execution_count": 76,
   "metadata": {},
   "outputs": [
    {
     "data": {
      "text/plain": [
       "0.8471482789011453"
      ]
     },
     "execution_count": 76,
     "metadata": {},
     "output_type": "execute_result"
    }
   ],
   "source": [
    "roc_auc_score(y, y_pred3)\n"
   ]
  },
  {
   "cell_type": "markdown",
   "metadata": {},
   "source": [
    "# 予測"
   ]
  },
  {
   "cell_type": "code",
   "execution_count": 77,
   "metadata": {},
   "outputs": [],
   "source": [
    "pred_list_test = {}"
   ]
  },
  {
   "cell_type": "code",
   "execution_count": 78,
   "metadata": {},
   "outputs": [],
   "source": [
    "pred_list_test['lgb'] = lgb.predict_proba(X_Test)[:, 1]"
   ]
  },
  {
   "cell_type": "code",
   "execution_count": 79,
   "metadata": {},
   "outputs": [],
   "source": [
    "pred_list_test['xgb'] = xgb.predict_proba(X_Test)[:, 1]"
   ]
  },
  {
   "cell_type": "code",
   "execution_count": 80,
   "metadata": {},
   "outputs": [
    {
     "data": {
      "text/html": [
       "<div>\n",
       "<style scoped>\n",
       "    .dataframe tbody tr th:only-of-type {\n",
       "        vertical-align: middle;\n",
       "    }\n",
       "\n",
       "    .dataframe tbody tr th {\n",
       "        vertical-align: top;\n",
       "    }\n",
       "\n",
       "    .dataframe thead th {\n",
       "        text-align: right;\n",
       "    }\n",
       "</style>\n",
       "<table border=\"1\" class=\"dataframe\">\n",
       "  <thead>\n",
       "    <tr style=\"text-align: right;\">\n",
       "      <th></th>\n",
       "      <th>lgb</th>\n",
       "      <th>xgb</th>\n",
       "    </tr>\n",
       "  </thead>\n",
       "  <tbody>\n",
       "    <tr>\n",
       "      <th>0</th>\n",
       "      <td>0.492095</td>\n",
       "      <td>0.552311</td>\n",
       "    </tr>\n",
       "    <tr>\n",
       "      <th>1</th>\n",
       "      <td>0.083370</td>\n",
       "      <td>0.136275</td>\n",
       "    </tr>\n",
       "    <tr>\n",
       "      <th>2</th>\n",
       "      <td>0.056255</td>\n",
       "      <td>0.045604</td>\n",
       "    </tr>\n",
       "    <tr>\n",
       "      <th>3</th>\n",
       "      <td>0.016429</td>\n",
       "      <td>0.005892</td>\n",
       "    </tr>\n",
       "    <tr>\n",
       "      <th>4</th>\n",
       "      <td>0.073198</td>\n",
       "      <td>0.073816</td>\n",
       "    </tr>\n",
       "    <tr>\n",
       "      <th>...</th>\n",
       "      <td>...</td>\n",
       "      <td>...</td>\n",
       "    </tr>\n",
       "    <tr>\n",
       "      <th>18045</th>\n",
       "      <td>0.057735</td>\n",
       "      <td>0.036534</td>\n",
       "    </tr>\n",
       "    <tr>\n",
       "      <th>18046</th>\n",
       "      <td>0.023832</td>\n",
       "      <td>0.012155</td>\n",
       "    </tr>\n",
       "    <tr>\n",
       "      <th>18047</th>\n",
       "      <td>0.058129</td>\n",
       "      <td>0.040434</td>\n",
       "    </tr>\n",
       "    <tr>\n",
       "      <th>18048</th>\n",
       "      <td>0.019791</td>\n",
       "      <td>0.005380</td>\n",
       "    </tr>\n",
       "    <tr>\n",
       "      <th>18049</th>\n",
       "      <td>0.102281</td>\n",
       "      <td>0.108807</td>\n",
       "    </tr>\n",
       "  </tbody>\n",
       "</table>\n",
       "<p>18050 rows × 2 columns</p>\n",
       "</div>"
      ],
      "text/plain": [
       "            lgb       xgb\n",
       "0      0.492095  0.552311\n",
       "1      0.083370  0.136275\n",
       "2      0.056255  0.045604\n",
       "3      0.016429  0.005892\n",
       "4      0.073198  0.073816\n",
       "...         ...       ...\n",
       "18045  0.057735  0.036534\n",
       "18046  0.023832  0.012155\n",
       "18047  0.058129  0.040434\n",
       "18048  0.019791  0.005380\n",
       "18049  0.102281  0.108807\n",
       "\n",
       "[18050 rows x 2 columns]"
      ]
     },
     "execution_count": 80,
     "metadata": {},
     "output_type": "execute_result"
    }
   ],
   "source": [
    "pred_list_test = pd.DataFrame(pred_list_test)\n",
    "pred_list_test"
   ]
  },
  {
   "cell_type": "code",
   "execution_count": 81,
   "metadata": {},
   "outputs": [],
   "source": [
    "final_pred = rf.predict_proba(pred_list_test)[:, 1]"
   ]
  },
  {
   "cell_type": "markdown",
   "metadata": {},
   "source": [
    "# 結果を格納"
   ]
  },
  {
   "cell_type": "code",
   "execution_count": 82,
   "metadata": {},
   "outputs": [
    {
     "data": {
      "text/html": [
       "<div>\n",
       "<style scoped>\n",
       "    .dataframe tbody tr th:only-of-type {\n",
       "        vertical-align: middle;\n",
       "    }\n",
       "\n",
       "    .dataframe tbody tr th {\n",
       "        vertical-align: top;\n",
       "    }\n",
       "\n",
       "    .dataframe thead th {\n",
       "        text-align: right;\n",
       "    }\n",
       "</style>\n",
       "<table border=\"1\" class=\"dataframe\">\n",
       "  <thead>\n",
       "    <tr style=\"text-align: right;\">\n",
       "      <th></th>\n",
       "      <th>0</th>\n",
       "      <th>1</th>\n",
       "    </tr>\n",
       "  </thead>\n",
       "  <tbody>\n",
       "    <tr>\n",
       "      <th>0</th>\n",
       "      <td>0</td>\n",
       "      <td>0</td>\n",
       "    </tr>\n",
       "    <tr>\n",
       "      <th>1</th>\n",
       "      <td>1</td>\n",
       "      <td>0</td>\n",
       "    </tr>\n",
       "    <tr>\n",
       "      <th>2</th>\n",
       "      <td>2</td>\n",
       "      <td>0</td>\n",
       "    </tr>\n",
       "    <tr>\n",
       "      <th>3</th>\n",
       "      <td>3</td>\n",
       "      <td>0</td>\n",
       "    </tr>\n",
       "    <tr>\n",
       "      <th>4</th>\n",
       "      <td>4</td>\n",
       "      <td>0</td>\n",
       "    </tr>\n",
       "    <tr>\n",
       "      <th>...</th>\n",
       "      <td>...</td>\n",
       "      <td>...</td>\n",
       "    </tr>\n",
       "    <tr>\n",
       "      <th>18045</th>\n",
       "      <td>18045</td>\n",
       "      <td>0</td>\n",
       "    </tr>\n",
       "    <tr>\n",
       "      <th>18046</th>\n",
       "      <td>18046</td>\n",
       "      <td>0</td>\n",
       "    </tr>\n",
       "    <tr>\n",
       "      <th>18047</th>\n",
       "      <td>18047</td>\n",
       "      <td>0</td>\n",
       "    </tr>\n",
       "    <tr>\n",
       "      <th>18048</th>\n",
       "      <td>18048</td>\n",
       "      <td>0</td>\n",
       "    </tr>\n",
       "    <tr>\n",
       "      <th>18049</th>\n",
       "      <td>18049</td>\n",
       "      <td>0</td>\n",
       "    </tr>\n",
       "  </tbody>\n",
       "</table>\n",
       "<p>18050 rows × 2 columns</p>\n",
       "</div>"
      ],
      "text/plain": [
       "           0  1\n",
       "0          0  0\n",
       "1          1  0\n",
       "2          2  0\n",
       "3          3  0\n",
       "4          4  0\n",
       "...      ... ..\n",
       "18045  18045  0\n",
       "18046  18046  0\n",
       "18047  18047  0\n",
       "18048  18048  0\n",
       "18049  18049  0\n",
       "\n",
       "[18050 rows x 2 columns]"
      ]
     },
     "execution_count": 82,
     "metadata": {},
     "output_type": "execute_result"
    }
   ],
   "source": [
    "sample"
   ]
  },
  {
   "cell_type": "code",
   "execution_count": 83,
   "metadata": {},
   "outputs": [],
   "source": [
    "sample[1] = final_pred"
   ]
  },
  {
   "cell_type": "code",
   "execution_count": 84,
   "metadata": {},
   "outputs": [],
   "source": [
    "sample.to_csv('submit_20200816_3.csv', header=None, index=None)"
   ]
  },
  {
   "cell_type": "code",
   "execution_count": null,
   "metadata": {},
   "outputs": [],
   "source": []
  }
 ],
 "metadata": {
  "kernelspec": {
   "display_name": "Python 3",
   "language": "python",
   "name": "python3"
  },
  "language_info": {
   "codemirror_mode": {
    "name": "ipython",
    "version": 3
   },
   "file_extension": ".py",
   "mimetype": "text/x-python",
   "name": "python",
   "nbconvert_exporter": "python",
   "pygments_lexer": "ipython3",
   "version": "3.7.6"
  }
 },
 "nbformat": 4,
 "nbformat_minor": 4
}
