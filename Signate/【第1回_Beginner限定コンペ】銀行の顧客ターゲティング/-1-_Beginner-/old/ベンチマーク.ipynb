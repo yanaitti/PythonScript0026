{
 "cells": [
  {
   "cell_type": "code",
   "execution_count": 68,
   "metadata": {},
   "outputs": [],
   "source": [
    "# ライブラリのインポート\n",
    "import pandas as pd\n",
    "import lightgbm as lgb\n",
    "import warnings\n",
    "import gc\n",
    "from sklearn.model_selection import train_test_split\n",
    "from sklearn import preprocessing\n",
    "from sklearn import metrics\n",
    "warnings.simplefilter('ignore')"
   ]
  },
  {
   "cell_type": "code",
   "execution_count": 69,
   "metadata": {},
   "outputs": [],
   "source": [
    "# dataの読み込み\n",
    "train_df = pd.read_csv('train.csv')\n",
    "test_df = pd.read_csv('test.csv')\n",
    "submit_df = pd.read_csv('submit_sample.csv',header=None)"
   ]
  },
  {
   "cell_type": "code",
   "execution_count": 70,
   "metadata": {},
   "outputs": [
    {
     "data": {
      "text/plain": [
       "((27100, 18), (18050, 17), (18050, 2))"
      ]
     },
     "execution_count": 70,
     "metadata": {},
     "output_type": "execute_result"
    }
   ],
   "source": [
    "# データの量の確認\n",
    "train_df.shape,test_df.shape,submit_df.shape"
   ]
  },
  {
   "cell_type": "code",
   "execution_count": 71,
   "metadata": {},
   "outputs": [],
   "source": [
    "# 訓練データ、テストデータがわかるようにダミーの目的変数を代入\n",
    "test_df['y']=-999"
   ]
  },
  {
   "cell_type": "code",
   "execution_count": 72,
   "metadata": {},
   "outputs": [
    {
     "data": {
      "text/plain": [
       "280"
      ]
     },
     "execution_count": 72,
     "metadata": {},
     "output_type": "execute_result"
    }
   ],
   "source": [
    "# 訓練データ、テストデータを結合\n",
    "all_df = pd.concat([train_df,test_df])\n",
    "del train_df,test_df\n",
    "gc.collect()"
   ]
  },
  {
   "cell_type": "code",
   "execution_count": 73,
   "metadata": {},
   "outputs": [],
   "source": [
    "# カテゴリカラムの前処理\n",
    "categorical_features = ['job', 'marital', 'education','default','housing','loan','contact','month','poutcome']\n",
    "for col in categorical_features:\n",
    "    lbl = preprocessing.LabelEncoder()\n",
    "    lbl.fit(all_df[col])\n",
    "    lbl.transform(all_df[col])\n",
    "    all_df[col]=lbl.transform(all_df[col])"
   ]
  },
  {
   "cell_type": "code",
   "execution_count": 74,
   "metadata": {},
   "outputs": [],
   "source": [
    "# 訓練データ、テストデータの分割\n",
    "train_df = all_df[all_df['y']!=-999]\n",
    "test_df = all_df[all_df['y']==-999]"
   ]
  },
  {
   "cell_type": "code",
   "execution_count": 75,
   "metadata": {},
   "outputs": [],
   "source": [
    "y_train = train_df['y']\n",
    "X_train = train_df.drop(['y','id'], axis=1)\n",
    "X_test = test_df.drop(['y','id'], axis=1)"
   ]
  },
  {
   "cell_type": "code",
   "execution_count": 76,
   "metadata": {},
   "outputs": [],
   "source": [
    "# # 訓練データからデータを分割\n",
    "# X_train, X_valid, y_train, y_valid = train_test_split(X_train, y_train, test_size=0.3, random_state=0, stratify=y_train)"
   ]
  },
  {
   "cell_type": "code",
   "execution_count": null,
   "metadata": {},
   "outputs": [],
   "source": [
    "# # 使用モデルはLGB（パラメータチューニング無）\n",
    "# lgb_train = lgb.Dataset(X_train, y_train, categorical_feature=categorical_features)\n",
    "# lgb_eval = lgb.Dataset(X_valid, y_valid, reference=lgb_train, categorical_feature=categorical_features)\n",
    "\n",
    "# params = {\n",
    "#     'objective': 'binary',\n",
    "#     'eval_metric': 'auc',\n",
    "# }\n",
    "\n",
    "# model = lgb.train(\n",
    "#     params, lgb_train,\n",
    "#     valid_sets=[lgb_train, lgb_eval],\n",
    "#     verbose_eval=10,\n",
    "#     num_boost_round=1000,\n",
    "#     early_stopping_rounds=10\n",
    "# )\n",
    "\n",
    "# y_pred = model.predict(X_test, num_iteration=model.best_iteration)"
   ]
  },
  {
   "cell_type": "code",
   "execution_count": 85,
   "metadata": {},
   "outputs": [
    {
     "data": {
      "text/plain": [
       "{'binary_logloss-mean': [0.25611396190992497,\n",
       "  0.2470291252659132,\n",
       "  0.24065605153695208,\n",
       "  0.2356552248249703,\n",
       "  0.2316772387803014,\n",
       "  0.22828252384510345,\n",
       "  0.2255331548074389,\n",
       "  0.22325946825348342,\n",
       "  0.22131826597098664,\n",
       "  0.21958857007960195,\n",
       "  0.2181188581321591,\n",
       "  0.21682345828288369,\n",
       "  0.21563227988651928,\n",
       "  0.2145673777976392,\n",
       "  0.21342712687682983,\n",
       "  0.2124641734954133,\n",
       "  0.21157012583069673,\n",
       "  0.21071351675624223,\n",
       "  0.21008548335717508,\n",
       "  0.20941154138414375,\n",
       "  0.20893841470581304,\n",
       "  0.208564197281788,\n",
       "  0.20803857563041062,\n",
       "  0.20772884977487815,\n",
       "  0.20731119752600952,\n",
       "  0.20681301593480012,\n",
       "  0.20646850450002702,\n",
       "  0.20612856551561948,\n",
       "  0.20579283964891606,\n",
       "  0.2054739425462667,\n",
       "  0.20521598965454735,\n",
       "  0.20490286148028924,\n",
       "  0.20455108052891308,\n",
       "  0.20441373034531055,\n",
       "  0.20409136987583984,\n",
       "  0.20393775318013746,\n",
       "  0.2039221167582399,\n",
       "  0.20371043329033486,\n",
       "  0.2036603964010139,\n",
       "  0.2035394782637791,\n",
       "  0.2034886496550457,\n",
       "  0.20338779644956118,\n",
       "  0.2032814497380478,\n",
       "  0.20317985189642304,\n",
       "  0.20318596350282628,\n",
       "  0.20314428341360583,\n",
       "  0.20309525515687574,\n",
       "  0.20305932314233507,\n",
       "  0.20304612129766886,\n",
       "  0.20306048079840844,\n",
       "  0.2028973995385494,\n",
       "  0.20284250206213778,\n",
       "  0.20291508457448687,\n",
       "  0.2028711401670678,\n",
       "  0.20284492181474306,\n",
       "  0.20283963127288213,\n",
       "  0.20291525596099444,\n",
       "  0.20288569988031907,\n",
       "  0.20282506808188128,\n",
       "  0.2028014135828955,\n",
       "  0.2028524414186919,\n",
       "  0.2029376375364344,\n",
       "  0.2029198583034665,\n",
       "  0.2030481002568926,\n",
       "  0.20318958004529986,\n",
       "  0.2031972515960508,\n",
       "  0.2032581799781831,\n",
       "  0.2032376153713721,\n",
       "  0.20333144643257772,\n",
       "  0.20334654848354505,\n",
       "  0.20327480943133874,\n",
       "  0.2033100099951656,\n",
       "  0.2032581398122307,\n",
       "  0.20328156742659628,\n",
       "  0.20328229820790839,\n",
       "  0.2032773044920005,\n",
       "  0.2032758490611212,\n",
       "  0.20326933210687065,\n",
       "  0.20330519807900743,\n",
       "  0.20340544586374465,\n",
       "  0.20342005079317121,\n",
       "  0.20344804344520528,\n",
       "  0.2034360714443051,\n",
       "  0.20348153503403119,\n",
       "  0.20352908328222305,\n",
       "  0.20357492310923594,\n",
       "  0.20364880166984345,\n",
       "  0.2037773034392195,\n",
       "  0.20375303269792897,\n",
       "  0.2039213606538719,\n",
       "  0.2038924207860032,\n",
       "  0.20398084264527414,\n",
       "  0.2039864762263298,\n",
       "  0.20401656336961338,\n",
       "  0.20399233821961435,\n",
       "  0.20402460711709117,\n",
       "  0.20404026583593562,\n",
       "  0.20401686823547172,\n",
       "  0.20410787064425667,\n",
       "  0.2040697890957628],\n",
       " 'binary_logloss-stdv': [0.0015598117879981324,\n",
       "  0.0017639164754351302,\n",
       "  0.0020417367299455885,\n",
       "  0.002534442955173371,\n",
       "  0.0026199202328432867,\n",
       "  0.002938359014165406,\n",
       "  0.00326928821700565,\n",
       "  0.0034220327291188055,\n",
       "  0.0035909900168881563,\n",
       "  0.0038508792644199254,\n",
       "  0.003977792825519225,\n",
       "  0.0041290213827447336,\n",
       "  0.004151544292770212,\n",
       "  0.0043129834920479825,\n",
       "  0.004445116993900163,\n",
       "  0.004616989864219934,\n",
       "  0.004878274780456152,\n",
       "  0.004791375241973554,\n",
       "  0.005002757083749426,\n",
       "  0.0050771644926749125,\n",
       "  0.00516458106003345,\n",
       "  0.005302529248739124,\n",
       "  0.005399932307329964,\n",
       "  0.005412156257439299,\n",
       "  0.005546561261614005,\n",
       "  0.005675645659255311,\n",
       "  0.00562181673925997,\n",
       "  0.005858212119098529,\n",
       "  0.005850468762173893,\n",
       "  0.0058713321294195705,\n",
       "  0.005908009060072234,\n",
       "  0.006063526352209829,\n",
       "  0.0062434486257795215,\n",
       "  0.006228997211136016,\n",
       "  0.006301401408787602,\n",
       "  0.006383115764199909,\n",
       "  0.006403122399368328,\n",
       "  0.006236931031880195,\n",
       "  0.006279917042422048,\n",
       "  0.006376961810810382,\n",
       "  0.006350806821497252,\n",
       "  0.006283788793510599,\n",
       "  0.006369216525538632,\n",
       "  0.006379146565386553,\n",
       "  0.006321168658331314,\n",
       "  0.006388069799610299,\n",
       "  0.0064802530280132255,\n",
       "  0.006628896192004179,\n",
       "  0.006590711741302303,\n",
       "  0.0066520248379185335,\n",
       "  0.006641192869890452,\n",
       "  0.006694948913030362,\n",
       "  0.006765309416132081,\n",
       "  0.006730576641865576,\n",
       "  0.006792858183602474,\n",
       "  0.006901999471823557,\n",
       "  0.006923448886314801,\n",
       "  0.0069826044837993356,\n",
       "  0.006912619399407746,\n",
       "  0.0068825075522107645,\n",
       "  0.006965074331204111,\n",
       "  0.006905090868148563,\n",
       "  0.006905934763396912,\n",
       "  0.006961580025700379,\n",
       "  0.0070706167513983524,\n",
       "  0.007043978230112106,\n",
       "  0.007090228518438955,\n",
       "  0.007050255899959171,\n",
       "  0.007040390234714923,\n",
       "  0.00704509892936281,\n",
       "  0.007068880443065385,\n",
       "  0.007083231567085886,\n",
       "  0.007085314873834342,\n",
       "  0.007079514607775559,\n",
       "  0.007187928354068199,\n",
       "  0.0072470917654540445,\n",
       "  0.0071608649824846,\n",
       "  0.007182926720610727,\n",
       "  0.007156133397613563,\n",
       "  0.007165878473985309,\n",
       "  0.007100844195505193,\n",
       "  0.006919611234457882,\n",
       "  0.0068907699924628816,\n",
       "  0.006858359204331634,\n",
       "  0.006892847891878953,\n",
       "  0.007030465727582214,\n",
       "  0.0070775518009948855,\n",
       "  0.00710308043532754,\n",
       "  0.0071477364286803135,\n",
       "  0.007031026953441859,\n",
       "  0.007100452529528451,\n",
       "  0.0071721787231457165,\n",
       "  0.007093674112175551,\n",
       "  0.007131984631020159,\n",
       "  0.007086506541629277,\n",
       "  0.006970940336661222,\n",
       "  0.007112542246467219,\n",
       "  0.007192800489700833,\n",
       "  0.00727630879496405,\n",
       "  0.007241193521003299]}"
      ]
     },
     "execution_count": 85,
     "metadata": {},
     "output_type": "execute_result"
    }
   ],
   "source": [
    "# # 使用モデルはLGB（パラメータチューニング無）\n",
    "lgb_train = lgb.Dataset(X_train, y_train, categorical_feature=categorical_features)\n",
    "\n",
    "params = {\n",
    "    'objective': 'binary',\n",
    "    'eval_metric': 'auc',\n",
    "}\n",
    "\n",
    "cv_results = lgb.cv(params, lgb_train, nfold=10)\n",
    "cv_logloss = cv_results['multi_logloss-mean']\n",
    "\n",
    "y_pred = model.predict(X_test, num_iteration=model.best_iteration)"
   ]
  },
  {
   "cell_type": "code",
   "execution_count": 78,
   "metadata": {},
   "outputs": [
    {
     "data": {
      "text/plain": [
       "0.9256952027866905"
      ]
     },
     "execution_count": 78,
     "metadata": {},
     "output_type": "execute_result"
    }
   ],
   "source": [
    "metrics.roc_auc_score(y_train, model.predict(X_train))\n",
    "# 0.9256952027866905"
   ]
  },
  {
   "cell_type": "code",
   "execution_count": 79,
   "metadata": {},
   "outputs": [
    {
     "data": {
      "text/plain": [
       "array([0.01272812, 0.89762624, 0.04006157, ..., 0.06539397, 0.31967064,\n",
       "       0.03496057])"
      ]
     },
     "execution_count": 79,
     "metadata": {},
     "output_type": "execute_result"
    }
   ],
   "source": [
    "y_pred = model.predict(X_train)\n",
    "# array([0.01272812, 0.89762624, 0.04006157, ..., 0.06539397, 0.31967064, 0.03496057])\n",
    "y_pred"
   ]
  },
  {
   "cell_type": "code",
   "execution_count": 80,
   "metadata": {},
   "outputs": [
    {
     "data": {
      "text/plain": [
       "23989    0\n",
       "15432    1\n",
       "11450    0\n",
       "24052    0\n",
       "10314    0\n",
       "Name: y, dtype: int64"
      ]
     },
     "execution_count": 80,
     "metadata": {},
     "output_type": "execute_result"
    }
   ],
   "source": [
    "y_train.head()"
   ]
  },
  {
   "cell_type": "code",
   "execution_count": 81,
   "metadata": {},
   "outputs": [],
   "source": [
    "from matplotlib import pyplot as plt\n",
    "%matplotlib inline\n",
    "\n",
    "import seaborn as sns\n",
    "sns.set()"
   ]
  },
  {
   "cell_type": "code",
   "execution_count": 82,
   "metadata": {},
   "outputs": [
    {
     "data": {
      "image/png": "[encoded data removed]",
      "text/plain": [
       "<Figure size 1440x288 with 1 Axes>"
      ]
     },
     "metadata": {},
     "output_type": "display_data"
    }
   ],
   "source": [
    "plt.figure(figsize=(20,4))\n",
    "plt.scatter(y_train.index[:100], y_train[:100], label='y')\n",
    "plt.scatter(y_train.index[:100], y_pred[:100], label='pred')\n",
    "plt.legend()\n",
    "plt.show()"
   ]
  },
  {
   "cell_type": "code",
   "execution_count": null,
   "metadata": {},
   "outputs": [],
   "source": []
  }
 ],
 "metadata": {
  "kernelspec": {
   "display_name": "Python 3",
   "language": "python",
   "name": "python3"
  },
  "language_info": {
   "codemirror_mode": {
    "name": "ipython",
    "version": 3
   },
   "file_extension": ".py",
   "mimetype": "text/x-python",
   "name": "python",
   "nbconvert_exporter": "python",
   "pygments_lexer": "ipython3",
   "version": "3.7.6"
  }
 },
 "nbformat": 4,
 "nbformat_minor": 4
}
