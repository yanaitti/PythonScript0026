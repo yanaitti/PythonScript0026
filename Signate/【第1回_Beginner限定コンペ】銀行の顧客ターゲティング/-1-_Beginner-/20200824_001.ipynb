{
 "cells": [
  {
   "cell_type": "code",
   "execution_count": 2,
   "metadata": {},
   "outputs": [],
   "source": [
    "import datetime\n",
    "import pandas as pd\n",
    "import numpy as np\n",
    "from matplotlib import pyplot as plt\n",
    "%matplotlib inline\n",
    "\n",
    "from sklearn.model_selection import cross_validate, GridSearchCV, train_test_split\n",
    "from sklearn.metrics import roc_auc_score\n",
    "\n",
    "from sklearn.linear_model import LogisticRegression\n",
    "from sklearn.tree import DecisionTreeClassifier\n",
    "from sklearn.ensemble import RandomForestClassifier\n",
    "from lightgbm import LGBMClassifier\n",
    "from xgboost import XGBClassifier\n",
    "from sklearn.svm import SVC\n",
    "\n",
    "from sklearn.preprocessing import StandardScaler, LabelEncoder\n",
    "from sklearn.tree import export_graphviz\n",
    "# import pydotplus\n",
    "from IPython.display import Image\n"
   ]
  },
  {
   "cell_type": "code",
   "execution_count": 3,
   "metadata": {},
   "outputs": [],
   "source": [
    "train = pd.read_csv('train.csv', index_col=0)\n",
    "test = pd.read_csv('test.csv', index_col=0)\n",
    "sample = pd.read_csv('submit_sample.csv', header=None)"
   ]
  },
  {
   "cell_type": "code",
   "execution_count": 4,
   "metadata": {},
   "outputs": [
    {
     "data": {
      "text/html": [
       "<div>\n",
       "<style scoped>\n",
       "    .dataframe tbody tr th:only-of-type {\n",
       "        vertical-align: middle;\n",
       "    }\n",
       "\n",
       "    .dataframe tbody tr th {\n",
       "        vertical-align: top;\n",
       "    }\n",
       "\n",
       "    .dataframe thead th {\n",
       "        text-align: right;\n",
       "    }\n",
       "</style>\n",
       "<table border=\"1\" class=\"dataframe\">\n",
       "  <thead>\n",
       "    <tr style=\"text-align: right;\">\n",
       "      <th></th>\n",
       "      <th>age</th>\n",
       "      <th>job</th>\n",
       "      <th>marital</th>\n",
       "      <th>education</th>\n",
       "      <th>default</th>\n",
       "      <th>balance</th>\n",
       "      <th>housing</th>\n",
       "      <th>loan</th>\n",
       "      <th>contact</th>\n",
       "      <th>day</th>\n",
       "      <th>month</th>\n",
       "      <th>duration</th>\n",
       "      <th>campaign</th>\n",
       "      <th>pdays</th>\n",
       "      <th>previous</th>\n",
       "      <th>poutcome</th>\n",
       "      <th>y</th>\n",
       "    </tr>\n",
       "    <tr>\n",
       "      <th>id</th>\n",
       "      <th></th>\n",
       "      <th></th>\n",
       "      <th></th>\n",
       "      <th></th>\n",
       "      <th></th>\n",
       "      <th></th>\n",
       "      <th></th>\n",
       "      <th></th>\n",
       "      <th></th>\n",
       "      <th></th>\n",
       "      <th></th>\n",
       "      <th></th>\n",
       "      <th></th>\n",
       "      <th></th>\n",
       "      <th></th>\n",
       "      <th></th>\n",
       "      <th></th>\n",
       "    </tr>\n",
       "  </thead>\n",
       "  <tbody>\n",
       "    <tr>\n",
       "      <th>0</th>\n",
       "      <td>31</td>\n",
       "      <td>services</td>\n",
       "      <td>married</td>\n",
       "      <td>secondary</td>\n",
       "      <td>no</td>\n",
       "      <td>12294</td>\n",
       "      <td>yes</td>\n",
       "      <td>no</td>\n",
       "      <td>cellular</td>\n",
       "      <td>21</td>\n",
       "      <td>nov</td>\n",
       "      <td>101</td>\n",
       "      <td>3</td>\n",
       "      <td>498</td>\n",
       "      <td>0</td>\n",
       "      <td>other</td>\n",
       "      <td>0</td>\n",
       "    </tr>\n",
       "    <tr>\n",
       "      <th>1</th>\n",
       "      <td>29</td>\n",
       "      <td>entrepreneur</td>\n",
       "      <td>single</td>\n",
       "      <td>tertiary</td>\n",
       "      <td>no</td>\n",
       "      <td>43027</td>\n",
       "      <td>no</td>\n",
       "      <td>no</td>\n",
       "      <td>cellular</td>\n",
       "      <td>22</td>\n",
       "      <td>aug</td>\n",
       "      <td>158</td>\n",
       "      <td>2</td>\n",
       "      <td>702</td>\n",
       "      <td>0</td>\n",
       "      <td>unknown</td>\n",
       "      <td>1</td>\n",
       "    </tr>\n",
       "    <tr>\n",
       "      <th>2</th>\n",
       "      <td>35</td>\n",
       "      <td>management</td>\n",
       "      <td>married</td>\n",
       "      <td>tertiary</td>\n",
       "      <td>no</td>\n",
       "      <td>12252</td>\n",
       "      <td>yes</td>\n",
       "      <td>no</td>\n",
       "      <td>cellular</td>\n",
       "      <td>11</td>\n",
       "      <td>nov</td>\n",
       "      <td>351</td>\n",
       "      <td>1</td>\n",
       "      <td>826</td>\n",
       "      <td>0</td>\n",
       "      <td>failure</td>\n",
       "      <td>0</td>\n",
       "    </tr>\n",
       "    <tr>\n",
       "      <th>3</th>\n",
       "      <td>31</td>\n",
       "      <td>technician</td>\n",
       "      <td>married</td>\n",
       "      <td>secondary</td>\n",
       "      <td>no</td>\n",
       "      <td>99121</td>\n",
       "      <td>yes</td>\n",
       "      <td>yes</td>\n",
       "      <td>unknown</td>\n",
       "      <td>16</td>\n",
       "      <td>may</td>\n",
       "      <td>658</td>\n",
       "      <td>2</td>\n",
       "      <td>120</td>\n",
       "      <td>0</td>\n",
       "      <td>failure</td>\n",
       "      <td>0</td>\n",
       "    </tr>\n",
       "    <tr>\n",
       "      <th>4</th>\n",
       "      <td>48</td>\n",
       "      <td>unemployed</td>\n",
       "      <td>married</td>\n",
       "      <td>primary</td>\n",
       "      <td>no</td>\n",
       "      <td>42005</td>\n",
       "      <td>yes</td>\n",
       "      <td>no</td>\n",
       "      <td>telephone</td>\n",
       "      <td>3</td>\n",
       "      <td>apr</td>\n",
       "      <td>177</td>\n",
       "      <td>1</td>\n",
       "      <td>273</td>\n",
       "      <td>0</td>\n",
       "      <td>unknown</td>\n",
       "      <td>0</td>\n",
       "    </tr>\n",
       "    <tr>\n",
       "      <th>...</th>\n",
       "      <td>...</td>\n",
       "      <td>...</td>\n",
       "      <td>...</td>\n",
       "      <td>...</td>\n",
       "      <td>...</td>\n",
       "      <td>...</td>\n",
       "      <td>...</td>\n",
       "      <td>...</td>\n",
       "      <td>...</td>\n",
       "      <td>...</td>\n",
       "      <td>...</td>\n",
       "      <td>...</td>\n",
       "      <td>...</td>\n",
       "      <td>...</td>\n",
       "      <td>...</td>\n",
       "      <td>...</td>\n",
       "      <td>...</td>\n",
       "    </tr>\n",
       "    <tr>\n",
       "      <th>27095</th>\n",
       "      <td>37</td>\n",
       "      <td>blue-collar</td>\n",
       "      <td>married</td>\n",
       "      <td>secondary</td>\n",
       "      <td>no</td>\n",
       "      <td>26661</td>\n",
       "      <td>yes</td>\n",
       "      <td>no</td>\n",
       "      <td>cellular</td>\n",
       "      <td>27</td>\n",
       "      <td>may</td>\n",
       "      <td>345</td>\n",
       "      <td>4</td>\n",
       "      <td>425</td>\n",
       "      <td>0</td>\n",
       "      <td>unknown</td>\n",
       "      <td>0</td>\n",
       "    </tr>\n",
       "    <tr>\n",
       "      <th>27096</th>\n",
       "      <td>35</td>\n",
       "      <td>services</td>\n",
       "      <td>married</td>\n",
       "      <td>secondary</td>\n",
       "      <td>no</td>\n",
       "      <td>42150</td>\n",
       "      <td>yes</td>\n",
       "      <td>no</td>\n",
       "      <td>cellular</td>\n",
       "      <td>27</td>\n",
       "      <td>may</td>\n",
       "      <td>121</td>\n",
       "      <td>1</td>\n",
       "      <td>719</td>\n",
       "      <td>0</td>\n",
       "      <td>unknown</td>\n",
       "      <td>0</td>\n",
       "    </tr>\n",
       "    <tr>\n",
       "      <th>27097</th>\n",
       "      <td>35</td>\n",
       "      <td>services</td>\n",
       "      <td>married</td>\n",
       "      <td>unknown</td>\n",
       "      <td>no</td>\n",
       "      <td>34531</td>\n",
       "      <td>no</td>\n",
       "      <td>no</td>\n",
       "      <td>cellular</td>\n",
       "      <td>28</td>\n",
       "      <td>jun</td>\n",
       "      <td>177</td>\n",
       "      <td>2</td>\n",
       "      <td>121</td>\n",
       "      <td>0</td>\n",
       "      <td>unknown</td>\n",
       "      <td>0</td>\n",
       "    </tr>\n",
       "    <tr>\n",
       "      <th>27098</th>\n",
       "      <td>30</td>\n",
       "      <td>admin.</td>\n",
       "      <td>single</td>\n",
       "      <td>secondary</td>\n",
       "      <td>no</td>\n",
       "      <td>99621</td>\n",
       "      <td>yes</td>\n",
       "      <td>no</td>\n",
       "      <td>cellular</td>\n",
       "      <td>27</td>\n",
       "      <td>may</td>\n",
       "      <td>121</td>\n",
       "      <td>1</td>\n",
       "      <td>100</td>\n",
       "      <td>0</td>\n",
       "      <td>unknown</td>\n",
       "      <td>0</td>\n",
       "    </tr>\n",
       "    <tr>\n",
       "      <th>27099</th>\n",
       "      <td>34</td>\n",
       "      <td>management</td>\n",
       "      <td>married</td>\n",
       "      <td>tertiary</td>\n",
       "      <td>no</td>\n",
       "      <td>8657</td>\n",
       "      <td>yes</td>\n",
       "      <td>no</td>\n",
       "      <td>cellular</td>\n",
       "      <td>27</td>\n",
       "      <td>may</td>\n",
       "      <td>345</td>\n",
       "      <td>2</td>\n",
       "      <td>321</td>\n",
       "      <td>0</td>\n",
       "      <td>unknown</td>\n",
       "      <td>0</td>\n",
       "    </tr>\n",
       "  </tbody>\n",
       "</table>\n",
       "<p>27100 rows × 17 columns</p>\n",
       "</div>"
      ],
      "text/plain": [
       "       age           job  marital  education default  balance housing loan  \\\n",
       "id                                                                           \n",
       "0       31      services  married  secondary      no    12294     yes   no   \n",
       "1       29  entrepreneur   single   tertiary      no    43027      no   no   \n",
       "2       35    management  married   tertiary      no    12252     yes   no   \n",
       "3       31    technician  married  secondary      no    99121     yes  yes   \n",
       "4       48    unemployed  married    primary      no    42005     yes   no   \n",
       "...    ...           ...      ...        ...     ...      ...     ...  ...   \n",
       "27095   37   blue-collar  married  secondary      no    26661     yes   no   \n",
       "27096   35      services  married  secondary      no    42150     yes   no   \n",
       "27097   35      services  married    unknown      no    34531      no   no   \n",
       "27098   30        admin.   single  secondary      no    99621     yes   no   \n",
       "27099   34    management  married   tertiary      no     8657     yes   no   \n",
       "\n",
       "         contact  day month  duration  campaign  pdays  previous poutcome  y  \n",
       "id                                                                            \n",
       "0       cellular   21   nov       101         3    498         0    other  0  \n",
       "1       cellular   22   aug       158         2    702         0  unknown  1  \n",
       "2       cellular   11   nov       351         1    826         0  failure  0  \n",
       "3        unknown   16   may       658         2    120         0  failure  0  \n",
       "4      telephone    3   apr       177         1    273         0  unknown  0  \n",
       "...          ...  ...   ...       ...       ...    ...       ...      ... ..  \n",
       "27095   cellular   27   may       345         4    425         0  unknown  0  \n",
       "27096   cellular   27   may       121         1    719         0  unknown  0  \n",
       "27097   cellular   28   jun       177         2    121         0  unknown  0  \n",
       "27098   cellular   27   may       121         1    100         0  unknown  0  \n",
       "27099   cellular   27   may       345         2    321         0  unknown  0  \n",
       "\n",
       "[27100 rows x 17 columns]"
      ]
     },
     "execution_count": 4,
     "metadata": {},
     "output_type": "execute_result"
    }
   ],
   "source": [
    "train"
   ]
  },
  {
   "cell_type": "code",
   "execution_count": 5,
   "metadata": {},
   "outputs": [
    {
     "data": {
      "text/plain": [
       "['job',\n",
       " 'marital',\n",
       " 'education',\n",
       " 'default',\n",
       " 'housing',\n",
       " 'loan',\n",
       " 'contact',\n",
       " 'month',\n",
       " 'poutcome']"
      ]
     },
     "execution_count": 5,
     "metadata": {},
     "output_type": "execute_result"
    }
   ],
   "source": [
    "cols_o = train.select_dtypes(include=object).columns.tolist()\n",
    "cols_o"
   ]
  },
  {
   "cell_type": "code",
   "execution_count": 6,
   "metadata": {},
   "outputs": [
    {
     "data": {
      "text/plain": [
       "['age', 'balance', 'day', 'duration', 'campaign', 'pdays', 'previous', 'y']"
      ]
     },
     "execution_count": 6,
     "metadata": {},
     "output_type": "execute_result"
    }
   ],
   "source": [
    "cols_i = train.select_dtypes(exclude=object).columns.tolist()\n",
    "cols_i"
   ]
  },
  {
   "cell_type": "code",
   "execution_count": 7,
   "metadata": {},
   "outputs": [],
   "source": [
    "test['y'] = -999"
   ]
  },
  {
   "cell_type": "code",
   "execution_count": 8,
   "metadata": {},
   "outputs": [
    {
     "data": {
      "text/html": [
       "<div>\n",
       "<style scoped>\n",
       "    .dataframe tbody tr th:only-of-type {\n",
       "        vertical-align: middle;\n",
       "    }\n",
       "\n",
       "    .dataframe tbody tr th {\n",
       "        vertical-align: top;\n",
       "    }\n",
       "\n",
       "    .dataframe thead th {\n",
       "        text-align: right;\n",
       "    }\n",
       "</style>\n",
       "<table border=\"1\" class=\"dataframe\">\n",
       "  <thead>\n",
       "    <tr style=\"text-align: right;\">\n",
       "      <th></th>\n",
       "      <th>age</th>\n",
       "      <th>job</th>\n",
       "      <th>marital</th>\n",
       "      <th>education</th>\n",
       "      <th>default</th>\n",
       "      <th>balance</th>\n",
       "      <th>housing</th>\n",
       "      <th>loan</th>\n",
       "      <th>contact</th>\n",
       "      <th>day</th>\n",
       "      <th>month</th>\n",
       "      <th>duration</th>\n",
       "      <th>campaign</th>\n",
       "      <th>pdays</th>\n",
       "      <th>previous</th>\n",
       "      <th>poutcome</th>\n",
       "      <th>y</th>\n",
       "    </tr>\n",
       "    <tr>\n",
       "      <th>id</th>\n",
       "      <th></th>\n",
       "      <th></th>\n",
       "      <th></th>\n",
       "      <th></th>\n",
       "      <th></th>\n",
       "      <th></th>\n",
       "      <th></th>\n",
       "      <th></th>\n",
       "      <th></th>\n",
       "      <th></th>\n",
       "      <th></th>\n",
       "      <th></th>\n",
       "      <th></th>\n",
       "      <th></th>\n",
       "      <th></th>\n",
       "      <th></th>\n",
       "      <th></th>\n",
       "    </tr>\n",
       "  </thead>\n",
       "  <tbody>\n",
       "    <tr>\n",
       "      <th>0</th>\n",
       "      <td>31</td>\n",
       "      <td>services</td>\n",
       "      <td>married</td>\n",
       "      <td>secondary</td>\n",
       "      <td>no</td>\n",
       "      <td>12294</td>\n",
       "      <td>yes</td>\n",
       "      <td>no</td>\n",
       "      <td>cellular</td>\n",
       "      <td>21</td>\n",
       "      <td>nov</td>\n",
       "      <td>101</td>\n",
       "      <td>3</td>\n",
       "      <td>498</td>\n",
       "      <td>0</td>\n",
       "      <td>other</td>\n",
       "      <td>0</td>\n",
       "    </tr>\n",
       "    <tr>\n",
       "      <th>1</th>\n",
       "      <td>29</td>\n",
       "      <td>entrepreneur</td>\n",
       "      <td>single</td>\n",
       "      <td>tertiary</td>\n",
       "      <td>no</td>\n",
       "      <td>43027</td>\n",
       "      <td>no</td>\n",
       "      <td>no</td>\n",
       "      <td>cellular</td>\n",
       "      <td>22</td>\n",
       "      <td>aug</td>\n",
       "      <td>158</td>\n",
       "      <td>2</td>\n",
       "      <td>702</td>\n",
       "      <td>0</td>\n",
       "      <td>unknown</td>\n",
       "      <td>1</td>\n",
       "    </tr>\n",
       "    <tr>\n",
       "      <th>2</th>\n",
       "      <td>35</td>\n",
       "      <td>management</td>\n",
       "      <td>married</td>\n",
       "      <td>tertiary</td>\n",
       "      <td>no</td>\n",
       "      <td>12252</td>\n",
       "      <td>yes</td>\n",
       "      <td>no</td>\n",
       "      <td>cellular</td>\n",
       "      <td>11</td>\n",
       "      <td>nov</td>\n",
       "      <td>351</td>\n",
       "      <td>1</td>\n",
       "      <td>826</td>\n",
       "      <td>0</td>\n",
       "      <td>failure</td>\n",
       "      <td>0</td>\n",
       "    </tr>\n",
       "    <tr>\n",
       "      <th>3</th>\n",
       "      <td>31</td>\n",
       "      <td>technician</td>\n",
       "      <td>married</td>\n",
       "      <td>secondary</td>\n",
       "      <td>no</td>\n",
       "      <td>99121</td>\n",
       "      <td>yes</td>\n",
       "      <td>yes</td>\n",
       "      <td>unknown</td>\n",
       "      <td>16</td>\n",
       "      <td>may</td>\n",
       "      <td>658</td>\n",
       "      <td>2</td>\n",
       "      <td>120</td>\n",
       "      <td>0</td>\n",
       "      <td>failure</td>\n",
       "      <td>0</td>\n",
       "    </tr>\n",
       "    <tr>\n",
       "      <th>4</th>\n",
       "      <td>48</td>\n",
       "      <td>unemployed</td>\n",
       "      <td>married</td>\n",
       "      <td>primary</td>\n",
       "      <td>no</td>\n",
       "      <td>42005</td>\n",
       "      <td>yes</td>\n",
       "      <td>no</td>\n",
       "      <td>telephone</td>\n",
       "      <td>3</td>\n",
       "      <td>apr</td>\n",
       "      <td>177</td>\n",
       "      <td>1</td>\n",
       "      <td>273</td>\n",
       "      <td>0</td>\n",
       "      <td>unknown</td>\n",
       "      <td>0</td>\n",
       "    </tr>\n",
       "    <tr>\n",
       "      <th>...</th>\n",
       "      <td>...</td>\n",
       "      <td>...</td>\n",
       "      <td>...</td>\n",
       "      <td>...</td>\n",
       "      <td>...</td>\n",
       "      <td>...</td>\n",
       "      <td>...</td>\n",
       "      <td>...</td>\n",
       "      <td>...</td>\n",
       "      <td>...</td>\n",
       "      <td>...</td>\n",
       "      <td>...</td>\n",
       "      <td>...</td>\n",
       "      <td>...</td>\n",
       "      <td>...</td>\n",
       "      <td>...</td>\n",
       "      <td>...</td>\n",
       "    </tr>\n",
       "    <tr>\n",
       "      <th>18045</th>\n",
       "      <td>49</td>\n",
       "      <td>self-employed</td>\n",
       "      <td>married</td>\n",
       "      <td>tertiary</td>\n",
       "      <td>no</td>\n",
       "      <td>98357</td>\n",
       "      <td>yes</td>\n",
       "      <td>no</td>\n",
       "      <td>cellular</td>\n",
       "      <td>6</td>\n",
       "      <td>jul</td>\n",
       "      <td>101</td>\n",
       "      <td>2</td>\n",
       "      <td>417</td>\n",
       "      <td>0</td>\n",
       "      <td>failure</td>\n",
       "      <td>-999</td>\n",
       "    </tr>\n",
       "    <tr>\n",
       "      <th>18046</th>\n",
       "      <td>34</td>\n",
       "      <td>blue-collar</td>\n",
       "      <td>married</td>\n",
       "      <td>secondary</td>\n",
       "      <td>no</td>\n",
       "      <td>29621</td>\n",
       "      <td>yes</td>\n",
       "      <td>no</td>\n",
       "      <td>cellular</td>\n",
       "      <td>12</td>\n",
       "      <td>may</td>\n",
       "      <td>345</td>\n",
       "      <td>1</td>\n",
       "      <td>815</td>\n",
       "      <td>0</td>\n",
       "      <td>unknown</td>\n",
       "      <td>-999</td>\n",
       "    </tr>\n",
       "    <tr>\n",
       "      <th>18047</th>\n",
       "      <td>34</td>\n",
       "      <td>admin.</td>\n",
       "      <td>single</td>\n",
       "      <td>secondary</td>\n",
       "      <td>no</td>\n",
       "      <td>94260</td>\n",
       "      <td>yes</td>\n",
       "      <td>no</td>\n",
       "      <td>unknown</td>\n",
       "      <td>16</td>\n",
       "      <td>may</td>\n",
       "      <td>121</td>\n",
       "      <td>2</td>\n",
       "      <td>370</td>\n",
       "      <td>0</td>\n",
       "      <td>unknown</td>\n",
       "      <td>-999</td>\n",
       "    </tr>\n",
       "    <tr>\n",
       "      <th>18048</th>\n",
       "      <td>31</td>\n",
       "      <td>technician</td>\n",
       "      <td>single</td>\n",
       "      <td>secondary</td>\n",
       "      <td>no</td>\n",
       "      <td>65483</td>\n",
       "      <td>yes</td>\n",
       "      <td>no</td>\n",
       "      <td>unknown</td>\n",
       "      <td>15</td>\n",
       "      <td>may</td>\n",
       "      <td>345</td>\n",
       "      <td>2</td>\n",
       "      <td>41</td>\n",
       "      <td>0</td>\n",
       "      <td>unknown</td>\n",
       "      <td>-999</td>\n",
       "    </tr>\n",
       "    <tr>\n",
       "      <th>18049</th>\n",
       "      <td>30</td>\n",
       "      <td>retired</td>\n",
       "      <td>married</td>\n",
       "      <td>primary</td>\n",
       "      <td>no</td>\n",
       "      <td>6474</td>\n",
       "      <td>no</td>\n",
       "      <td>no</td>\n",
       "      <td>cellular</td>\n",
       "      <td>13</td>\n",
       "      <td>aug</td>\n",
       "      <td>158</td>\n",
       "      <td>1</td>\n",
       "      <td>699</td>\n",
       "      <td>0</td>\n",
       "      <td>unknown</td>\n",
       "      <td>-999</td>\n",
       "    </tr>\n",
       "  </tbody>\n",
       "</table>\n",
       "<p>45150 rows × 17 columns</p>\n",
       "</div>"
      ],
      "text/plain": [
       "       age            job  marital  education default  balance housing loan  \\\n",
       "id                                                                            \n",
       "0       31       services  married  secondary      no    12294     yes   no   \n",
       "1       29   entrepreneur   single   tertiary      no    43027      no   no   \n",
       "2       35     management  married   tertiary      no    12252     yes   no   \n",
       "3       31     technician  married  secondary      no    99121     yes  yes   \n",
       "4       48     unemployed  married    primary      no    42005     yes   no   \n",
       "...    ...            ...      ...        ...     ...      ...     ...  ...   \n",
       "18045   49  self-employed  married   tertiary      no    98357     yes   no   \n",
       "18046   34    blue-collar  married  secondary      no    29621     yes   no   \n",
       "18047   34         admin.   single  secondary      no    94260     yes   no   \n",
       "18048   31     technician   single  secondary      no    65483     yes   no   \n",
       "18049   30        retired  married    primary      no     6474      no   no   \n",
       "\n",
       "         contact  day month  duration  campaign  pdays  previous poutcome    y  \n",
       "id                                                                              \n",
       "0       cellular   21   nov       101         3    498         0    other    0  \n",
       "1       cellular   22   aug       158         2    702         0  unknown    1  \n",
       "2       cellular   11   nov       351         1    826         0  failure    0  \n",
       "3        unknown   16   may       658         2    120         0  failure    0  \n",
       "4      telephone    3   apr       177         1    273         0  unknown    0  \n",
       "...          ...  ...   ...       ...       ...    ...       ...      ...  ...  \n",
       "18045   cellular    6   jul       101         2    417         0  failure -999  \n",
       "18046   cellular   12   may       345         1    815         0  unknown -999  \n",
       "18047    unknown   16   may       121         2    370         0  unknown -999  \n",
       "18048    unknown   15   may       345         2     41         0  unknown -999  \n",
       "18049   cellular   13   aug       158         1    699         0  unknown -999  \n",
       "\n",
       "[45150 rows x 17 columns]"
      ]
     },
     "execution_count": 8,
     "metadata": {},
     "output_type": "execute_result"
    }
   ],
   "source": [
    "all_df = pd.concat([train, test], axis=0)\n",
    "all_df"
   ]
  },
  {
   "cell_type": "code",
   "execution_count": 9,
   "metadata": {},
   "outputs": [
    {
     "data": {
      "text/html": [
       "<div>\n",
       "<style scoped>\n",
       "    .dataframe tbody tr th:only-of-type {\n",
       "        vertical-align: middle;\n",
       "    }\n",
       "\n",
       "    .dataframe tbody tr th {\n",
       "        vertical-align: top;\n",
       "    }\n",
       "\n",
       "    .dataframe thead th {\n",
       "        text-align: right;\n",
       "    }\n",
       "</style>\n",
       "<table border=\"1\" class=\"dataframe\">\n",
       "  <thead>\n",
       "    <tr style=\"text-align: right;\">\n",
       "      <th></th>\n",
       "      <th>age</th>\n",
       "      <th>job</th>\n",
       "      <th>marital</th>\n",
       "      <th>education</th>\n",
       "      <th>default</th>\n",
       "      <th>balance</th>\n",
       "      <th>housing</th>\n",
       "      <th>loan</th>\n",
       "      <th>contact</th>\n",
       "      <th>day</th>\n",
       "      <th>month</th>\n",
       "      <th>duration</th>\n",
       "      <th>campaign</th>\n",
       "      <th>pdays</th>\n",
       "      <th>previous</th>\n",
       "      <th>poutcome</th>\n",
       "      <th>y</th>\n",
       "    </tr>\n",
       "    <tr>\n",
       "      <th>id</th>\n",
       "      <th></th>\n",
       "      <th></th>\n",
       "      <th></th>\n",
       "      <th></th>\n",
       "      <th></th>\n",
       "      <th></th>\n",
       "      <th></th>\n",
       "      <th></th>\n",
       "      <th></th>\n",
       "      <th></th>\n",
       "      <th></th>\n",
       "      <th></th>\n",
       "      <th></th>\n",
       "      <th></th>\n",
       "      <th></th>\n",
       "      <th></th>\n",
       "      <th></th>\n",
       "    </tr>\n",
       "  </thead>\n",
       "  <tbody>\n",
       "    <tr>\n",
       "      <th>0</th>\n",
       "      <td>9</td>\n",
       "      <td>7</td>\n",
       "      <td>1</td>\n",
       "      <td>1</td>\n",
       "      <td>0</td>\n",
       "      <td>6616</td>\n",
       "      <td>1</td>\n",
       "      <td>0</td>\n",
       "      <td>0</td>\n",
       "      <td>20</td>\n",
       "      <td>8</td>\n",
       "      <td>35</td>\n",
       "      <td>2</td>\n",
       "      <td>499</td>\n",
       "      <td>0</td>\n",
       "      <td>1</td>\n",
       "      <td>0</td>\n",
       "    </tr>\n",
       "    <tr>\n",
       "      <th>1</th>\n",
       "      <td>7</td>\n",
       "      <td>2</td>\n",
       "      <td>2</td>\n",
       "      <td>2</td>\n",
       "      <td>0</td>\n",
       "      <td>17047</td>\n",
       "      <td>0</td>\n",
       "      <td>0</td>\n",
       "      <td>0</td>\n",
       "      <td>21</td>\n",
       "      <td>1</td>\n",
       "      <td>66</td>\n",
       "      <td>1</td>\n",
       "      <td>703</td>\n",
       "      <td>0</td>\n",
       "      <td>3</td>\n",
       "      <td>1</td>\n",
       "    </tr>\n",
       "    <tr>\n",
       "      <th>2</th>\n",
       "      <td>13</td>\n",
       "      <td>4</td>\n",
       "      <td>1</td>\n",
       "      <td>2</td>\n",
       "      <td>0</td>\n",
       "      <td>6602</td>\n",
       "      <td>1</td>\n",
       "      <td>0</td>\n",
       "      <td>0</td>\n",
       "      <td>10</td>\n",
       "      <td>8</td>\n",
       "      <td>103</td>\n",
       "      <td>0</td>\n",
       "      <td>827</td>\n",
       "      <td>0</td>\n",
       "      <td>0</td>\n",
       "      <td>0</td>\n",
       "    </tr>\n",
       "    <tr>\n",
       "      <th>3</th>\n",
       "      <td>9</td>\n",
       "      <td>9</td>\n",
       "      <td>1</td>\n",
       "      <td>1</td>\n",
       "      <td>0</td>\n",
       "      <td>35951</td>\n",
       "      <td>1</td>\n",
       "      <td>1</td>\n",
       "      <td>2</td>\n",
       "      <td>15</td>\n",
       "      <td>7</td>\n",
       "      <td>124</td>\n",
       "      <td>1</td>\n",
       "      <td>121</td>\n",
       "      <td>0</td>\n",
       "      <td>0</td>\n",
       "      <td>0</td>\n",
       "    </tr>\n",
       "    <tr>\n",
       "      <th>4</th>\n",
       "      <td>26</td>\n",
       "      <td>10</td>\n",
       "      <td>1</td>\n",
       "      <td>0</td>\n",
       "      <td>0</td>\n",
       "      <td>16689</td>\n",
       "      <td>1</td>\n",
       "      <td>0</td>\n",
       "      <td>1</td>\n",
       "      <td>2</td>\n",
       "      <td>0</td>\n",
       "      <td>71</td>\n",
       "      <td>0</td>\n",
       "      <td>274</td>\n",
       "      <td>0</td>\n",
       "      <td>3</td>\n",
       "      <td>0</td>\n",
       "    </tr>\n",
       "    <tr>\n",
       "      <th>...</th>\n",
       "      <td>...</td>\n",
       "      <td>...</td>\n",
       "      <td>...</td>\n",
       "      <td>...</td>\n",
       "      <td>...</td>\n",
       "      <td>...</td>\n",
       "      <td>...</td>\n",
       "      <td>...</td>\n",
       "      <td>...</td>\n",
       "      <td>...</td>\n",
       "      <td>...</td>\n",
       "      <td>...</td>\n",
       "      <td>...</td>\n",
       "      <td>...</td>\n",
       "      <td>...</td>\n",
       "      <td>...</td>\n",
       "      <td>...</td>\n",
       "    </tr>\n",
       "    <tr>\n",
       "      <th>18045</th>\n",
       "      <td>27</td>\n",
       "      <td>6</td>\n",
       "      <td>1</td>\n",
       "      <td>2</td>\n",
       "      <td>0</td>\n",
       "      <td>35680</td>\n",
       "      <td>1</td>\n",
       "      <td>0</td>\n",
       "      <td>0</td>\n",
       "      <td>5</td>\n",
       "      <td>4</td>\n",
       "      <td>35</td>\n",
       "      <td>1</td>\n",
       "      <td>418</td>\n",
       "      <td>0</td>\n",
       "      <td>0</td>\n",
       "      <td>-999</td>\n",
       "    </tr>\n",
       "    <tr>\n",
       "      <th>18046</th>\n",
       "      <td>12</td>\n",
       "      <td>1</td>\n",
       "      <td>1</td>\n",
       "      <td>1</td>\n",
       "      <td>0</td>\n",
       "      <td>12474</td>\n",
       "      <td>1</td>\n",
       "      <td>0</td>\n",
       "      <td>0</td>\n",
       "      <td>11</td>\n",
       "      <td>7</td>\n",
       "      <td>101</td>\n",
       "      <td>0</td>\n",
       "      <td>816</td>\n",
       "      <td>0</td>\n",
       "      <td>3</td>\n",
       "      <td>-999</td>\n",
       "    </tr>\n",
       "    <tr>\n",
       "      <th>18047</th>\n",
       "      <td>12</td>\n",
       "      <td>0</td>\n",
       "      <td>2</td>\n",
       "      <td>1</td>\n",
       "      <td>0</td>\n",
       "      <td>34245</td>\n",
       "      <td>1</td>\n",
       "      <td>0</td>\n",
       "      <td>2</td>\n",
       "      <td>15</td>\n",
       "      <td>7</td>\n",
       "      <td>42</td>\n",
       "      <td>1</td>\n",
       "      <td>371</td>\n",
       "      <td>0</td>\n",
       "      <td>3</td>\n",
       "      <td>-999</td>\n",
       "    </tr>\n",
       "    <tr>\n",
       "      <th>18048</th>\n",
       "      <td>9</td>\n",
       "      <td>9</td>\n",
       "      <td>2</td>\n",
       "      <td>1</td>\n",
       "      <td>0</td>\n",
       "      <td>24513</td>\n",
       "      <td>1</td>\n",
       "      <td>0</td>\n",
       "      <td>2</td>\n",
       "      <td>14</td>\n",
       "      <td>7</td>\n",
       "      <td>101</td>\n",
       "      <td>1</td>\n",
       "      <td>42</td>\n",
       "      <td>0</td>\n",
       "      <td>3</td>\n",
       "      <td>-999</td>\n",
       "    </tr>\n",
       "    <tr>\n",
       "      <th>18049</th>\n",
       "      <td>8</td>\n",
       "      <td>5</td>\n",
       "      <td>1</td>\n",
       "      <td>0</td>\n",
       "      <td>0</td>\n",
       "      <td>4599</td>\n",
       "      <td>0</td>\n",
       "      <td>0</td>\n",
       "      <td>0</td>\n",
       "      <td>12</td>\n",
       "      <td>1</td>\n",
       "      <td>66</td>\n",
       "      <td>0</td>\n",
       "      <td>700</td>\n",
       "      <td>0</td>\n",
       "      <td>3</td>\n",
       "      <td>-999</td>\n",
       "    </tr>\n",
       "  </tbody>\n",
       "</table>\n",
       "<p>45150 rows × 17 columns</p>\n",
       "</div>"
      ],
      "text/plain": [
       "       age  job  marital  education  default  balance  housing  loan  contact  \\\n",
       "id                                                                              \n",
       "0        9    7        1          1        0     6616        1     0        0   \n",
       "1        7    2        2          2        0    17047        0     0        0   \n",
       "2       13    4        1          2        0     6602        1     0        0   \n",
       "3        9    9        1          1        0    35951        1     1        2   \n",
       "4       26   10        1          0        0    16689        1     0        1   \n",
       "...    ...  ...      ...        ...      ...      ...      ...   ...      ...   \n",
       "18045   27    6        1          2        0    35680        1     0        0   \n",
       "18046   12    1        1          1        0    12474        1     0        0   \n",
       "18047   12    0        2          1        0    34245        1     0        2   \n",
       "18048    9    9        2          1        0    24513        1     0        2   \n",
       "18049    8    5        1          0        0     4599        0     0        0   \n",
       "\n",
       "       day  month  duration  campaign  pdays  previous  poutcome    y  \n",
       "id                                                                     \n",
       "0       20      8        35         2    499         0         1    0  \n",
       "1       21      1        66         1    703         0         3    1  \n",
       "2       10      8       103         0    827         0         0    0  \n",
       "3       15      7       124         1    121         0         0    0  \n",
       "4        2      0        71         0    274         0         3    0  \n",
       "...    ...    ...       ...       ...    ...       ...       ...  ...  \n",
       "18045    5      4        35         1    418         0         0 -999  \n",
       "18046   11      7       101         0    816         0         3 -999  \n",
       "18047   15      7        42         1    371         0         3 -999  \n",
       "18048   14      7       101         1     42         0         3 -999  \n",
       "18049   12      1        66         0    700         0         3 -999  \n",
       "\n",
       "[45150 rows x 17 columns]"
      ]
     },
     "execution_count": 9,
     "metadata": {},
     "output_type": "execute_result"
    }
   ],
   "source": [
    "le = LabelEncoder()\n",
    "\n",
    "for col in all_df.columns.drop('y'):\n",
    "    all_df[col] = le.fit_transform(all_df[col])\n",
    "\n",
    "all_df"
   ]
  },
  {
   "cell_type": "code",
   "execution_count": 10,
   "metadata": {},
   "outputs": [
    {
     "data": {
      "text/plain": [
       "array([[-0.65111009,  0.82964952, -0.30302637, ...,  0.25429016,\n",
       "        -0.23730182, -1.71840175],\n",
       "       [-0.9075186 , -0.6915644 ,  1.45599146, ...,  1.06430014,\n",
       "        -0.23730182,  0.39816254],\n",
       "       [-0.13829306, -0.08307883, -0.30302637, ...,  1.55665915,\n",
       "        -0.23730182, -2.7766839 ],\n",
       "       ...,\n",
       "       [-0.26649732, -1.30004997,  1.45599146, ..., -0.2539514 ,\n",
       "        -0.23730182,  0.39816254],\n",
       "       [-0.65111009,  1.43813509,  1.45599146, ..., -1.56029103,\n",
       "        -0.23730182,  0.39816254],\n",
       "       [-0.77931434,  0.22116395, -0.30302637, ...,  1.05238823,\n",
       "        -0.23730182,  0.39816254]])"
      ]
     },
     "execution_count": 10,
     "metadata": {},
     "output_type": "execute_result"
    }
   ],
   "source": [
    "std = StandardScaler()\n",
    "all_df_std = std.fit_transform(all_df.drop('y', axis=1))\n",
    "all_df_std"
   ]
  },
  {
   "cell_type": "code",
   "execution_count": 11,
   "metadata": {},
   "outputs": [
    {
     "data": {
      "text/plain": [
       "array([[-0.65111009,  0.82964952, -0.30302637, ...,  0.25429016,\n",
       "        -0.23730182, -1.71840175],\n",
       "       [-0.9075186 , -0.6915644 ,  1.45599146, ...,  1.06430014,\n",
       "        -0.23730182,  0.39816254],\n",
       "       [-0.13829306, -0.08307883, -0.30302637, ...,  1.55665915,\n",
       "        -0.23730182, -2.7766839 ],\n",
       "       ...,\n",
       "       [-0.13829306,  0.82964952, -0.30302637, ..., -1.24264006,\n",
       "        -0.23730182,  0.39816254],\n",
       "       [-0.77931434, -1.30004997,  1.45599146, ..., -1.32602344,\n",
       "        -0.23730182,  0.39816254],\n",
       "       [-0.26649732, -0.08307883, -0.30302637, ..., -0.44851262,\n",
       "        -0.23730182,  0.39816254]])"
      ]
     },
     "execution_count": 11,
     "metadata": {},
     "output_type": "execute_result"
    }
   ],
   "source": [
    "all_df_std[:27100]"
   ]
  },
  {
   "cell_type": "code",
   "execution_count": 12,
   "metadata": {},
   "outputs": [
    {
     "data": {
      "text/plain": [
       "id\n",
       "0          0\n",
       "1          1\n",
       "2          0\n",
       "3          0\n",
       "4          0\n",
       "        ... \n",
       "18045   -999\n",
       "18046   -999\n",
       "18047   -999\n",
       "18048   -999\n",
       "18049   -999\n",
       "Name: y, Length: 45150, dtype: int64"
      ]
     },
     "execution_count": 12,
     "metadata": {},
     "output_type": "execute_result"
    }
   ],
   "source": [
    "all_df['y']"
   ]
  },
  {
   "cell_type": "code",
   "execution_count": 13,
   "metadata": {},
   "outputs": [],
   "source": [
    "X, X_test, y, y_test = train_test_split(all_df_std[:27100], all_df['y'][:27100], test_size=0.3, random_state=0)"
   ]
  },
  {
   "cell_type": "code",
   "execution_count": 14,
   "metadata": {},
   "outputs": [
    {
     "data": {
      "text/plain": [
       "((18970, 16), (18970,))"
      ]
     },
     "execution_count": 14,
     "metadata": {},
     "output_type": "execute_result"
    }
   ],
   "source": [
    "# X = all_df_std[:27100]\n",
    "# y = all_df['y'][:27100]\n",
    "X.shape, y.shape"
   ]
  },
  {
   "cell_type": "code",
   "execution_count": 15,
   "metadata": {},
   "outputs": [
    {
     "data": {
      "text/plain": [
       "array([[-0.52290583, -1.30004997, -0.30302637, ...,  0.60767687,\n",
       "        -0.23730182,  0.39816254],\n",
       "       [ 1.400158  ,  0.82964952, -0.30302637, ...,  1.19533117,\n",
       "        -0.23730182,  0.39816254],\n",
       "       [ 2.16938353,  1.74237788,  1.45599146, ...,  1.49312896,\n",
       "        -0.23730182,  0.39816254],\n",
       "       ...,\n",
       "       [ 3.06681332, -0.6915644 ,  1.45599146, ..., -0.45248326,\n",
       "        -0.23730182,  0.39816254],\n",
       "       [-0.52290583, -0.6915644 , -0.30302637, ..., -1.58411485,\n",
       "        -0.23730182,  0.39816254],\n",
       "       [-0.77931434, -0.99580719,  1.45599146, ..., -1.00440183,\n",
       "        -0.23730182,  0.39816254]])"
      ]
     },
     "execution_count": 15,
     "metadata": {},
     "output_type": "execute_result"
    }
   ],
   "source": [
    "X"
   ]
  },
  {
   "cell_type": "code",
   "execution_count": 16,
   "metadata": {},
   "outputs": [
    {
     "data": {
      "text/plain": [
       "id\n",
       "16404    0\n",
       "2185     0\n",
       "10080    1\n",
       "4211     0\n",
       "22914    0\n",
       "        ..\n",
       "13123    0\n",
       "19648    0\n",
       "9845     0\n",
       "10799    0\n",
       "2732     0\n",
       "Name: y, Length: 18970, dtype: int64"
      ]
     },
     "execution_count": 16,
     "metadata": {},
     "output_type": "execute_result"
    }
   ],
   "source": [
    "y"
   ]
  },
  {
   "cell_type": "markdown",
   "metadata": {},
   "source": [
    "## LightGBM"
   ]
  },
  {
   "cell_type": "code",
   "execution_count": 17,
   "metadata": {},
   "outputs": [],
   "source": [
    "parameters = {\n",
    "    'max_depth': list(range(1, 20)),\n",
    "    'learning_rate': [1, 0.5, 0.1, 0.05, 0.01],\n",
    "}"
   ]
  },
  {
   "cell_type": "code",
   "execution_count": 18,
   "metadata": {},
   "outputs": [
    {
     "data": {
      "text/plain": [
       "GridSearchCV(cv=5, error_score=nan,\n",
       "             estimator=LGBMClassifier(boosting_type='gbdt', class_weight=None,\n",
       "                                      colsample_bytree=1.0,\n",
       "                                      importance_type='split',\n",
       "                                      learning_rate=0.1, max_depth=-1,\n",
       "                                      min_child_samples=20,\n",
       "                                      min_child_weight=0.001,\n",
       "                                      min_split_gain=0.0, n_estimators=100,\n",
       "                                      n_jobs=-1, num_leaves=31, objective=None,\n",
       "                                      random_state=None, reg_alpha=0.0,\n",
       "                                      reg_lambda=0.0, silent=True,\n",
       "                                      subsample=1.0, subsample_for_bin=200000,\n",
       "                                      subsample_freq=0),\n",
       "             iid='deprecated', n_jobs=-1,\n",
       "             param_grid={'learning_rate': [1, 0.5, 0.1, 0.05, 0.01],\n",
       "                         'max_depth': [1, 2, 3, 4, 5, 6, 7, 8, 9, 10, 11, 12,\n",
       "                                       13, 14, 15, 16, 17, 18, 19]},\n",
       "             pre_dispatch='2*n_jobs', refit=True, return_train_score=True,\n",
       "             scoring='roc_auc', verbose=0)"
      ]
     },
     "execution_count": 18,
     "metadata": {},
     "output_type": "execute_result"
    }
   ],
   "source": [
    "lgb = LGBMClassifier()\n",
    "\n",
    "gcv = GridSearchCV(lgb, parameters, cv=5, scoring=\"roc_auc\", n_jobs=-1, return_train_score=True)\n",
    "gcv.fit(X, y)\n"
   ]
  },
  {
   "cell_type": "code",
   "execution_count": 19,
   "metadata": {},
   "outputs": [
    {
     "data": {
      "text/plain": [
       "{'learning_rate': 0.1, 'max_depth': 4}"
      ]
     },
     "execution_count": 19,
     "metadata": {},
     "output_type": "execute_result"
    }
   ],
   "source": [
    "gcv.best_params_"
   ]
  },
  {
   "cell_type": "code",
   "execution_count": 20,
   "metadata": {
    "scrolled": false
   },
   "outputs": [
    {
     "data": {
      "text/plain": [
       "{'mean_fit_time': array([0.42411313, 0.50608578, 0.55331864, 0.64766722, 0.74480696,\n",
       "        0.81472459, 0.90763016, 0.82839651, 0.79981132, 0.82793198,\n",
       "        0.86542249, 1.02263036, 0.84092984, 0.83055034, 0.80817475,\n",
       "        0.81230898, 0.81543465, 0.8185585 , 0.85292373, 0.46551566,\n",
       "        0.47801361, 0.51238089, 0.59361095, 0.69768815, 0.76856909,\n",
       "        0.74531045, 0.77170072, 0.74896493, 0.74357648, 0.74669991,\n",
       "        0.74982371, 0.73732719, 0.74669909, 0.78106523, 0.8404295 ,\n",
       "        0.74045067, 0.74859724, 0.74045234, 0.40303097, 0.45614386,\n",
       "        0.51550522, 0.62485433, 0.73887162, 0.9247838 , 0.89354105,\n",
       "        0.80068808, 0.8248601 , 0.81230884, 0.80606089, 0.81543503,\n",
       "        0.81856027, 0.80918593, 0.8185586 , 0.81544275, 0.83105583,\n",
       "        0.81370735, 0.82480807, 0.40303082, 0.45301814, 0.53737531,\n",
       "        0.62485433, 0.77351866, 0.87765212, 0.89700022, 0.9519928 ,\n",
       "        0.88548775, 0.88729277, 0.8872932 , 0.89978857, 0.88729129,\n",
       "        0.88729277, 0.89090362, 0.87889657, 0.89767723, 0.9062295 ,\n",
       "        0.89041619, 0.40302987, 0.48738599, 0.55299478, 0.65399981,\n",
       "        0.79659872, 0.89969831, 1.01974111, 0.92418809, 0.96869121,\n",
       "        0.95914941, 0.94977775, 0.97477326, 0.95602703, 0.9653996 ,\n",
       "        0.95433602, 0.95732036, 0.9698184 , 0.99039369, 0.96914811]),\n",
       " 'std_fit_time': array([0.02146287, 0.01051464, 0.01697718, 0.0246624 , 0.04172406,\n",
       "        0.01663854, 0.09847862, 0.0760852 , 0.02499509, 0.02613864,\n",
       "        0.07816922, 0.07764598, 0.03111853, 0.02235589, 0.01615804,\n",
       "        0.0296407 , 0.01821818, 0.01592955, 0.06744289, 0.03186049,\n",
       "        0.01592969, 0.01530578, 0.0098794 , 0.01360256, 0.01530565,\n",
       "        0.00920545, 0.01778824, 0.00993749, 0.01874708, 0.01169011,\n",
       "        0.01975926, 0.01530536, 0.01821613, 0.07841781, 0.07989942,\n",
       "        0.00765372, 0.02085138, 0.01249782, 0.00624959, 0.00624871,\n",
       "        0.00988084, 0.00987925, 0.00685969, 0.07353697, 0.06042001,\n",
       "        0.02265043, 0.0215176 , 0.01397249, 0.01593044, 0.01169005,\n",
       "        0.01593138, 0.01168911, 0.01593086, 0.01168972, 0.01821777,\n",
       "        0.01583642, 0.01530464, 0.01168943, 0.00988016, 0.00765456,\n",
       "        0.01397196, 0.01496811, 0.03605747, 0.02694338, 0.07017442,\n",
       "        0.0202051 , 0.02295893, 0.02687691, 0.01593156, 0.01168915,\n",
       "        0.00624795, 0.00912817, 0.01213318, 0.02877984, 0.01957767,\n",
       "        0.00987963, 0.01168879, 0.01169231, 0.01249675, 0.00685823,\n",
       "        0.01301648, 0.03682905, 0.06406767, 0.01108834, 0.01821919,\n",
       "        0.01249669, 0.00624723, 0.02897497, 0.01530655, 0.00624924,\n",
       "        0.02810535, 0.01325339, 0.01021366, 0.0159288 , 0.02232448]),\n",
       " 'mean_score_time': array([0.02433071, 0.0396945 , 0.05385704, 0.06881614, 0.07958894,\n",
       "        0.09997616, 0.08747964, 0.07810645, 0.07185912, 0.0749826 ,\n",
       "        0.08123207, 0.07548199, 0.0624836 , 0.07185874, 0.06561098,\n",
       "        0.07498293, 0.06248589, 0.06248655, 0.06873431, 0.04061737,\n",
       "        0.04061503, 0.05623679, 0.0687346 , 0.08123102, 0.0906054 ,\n",
       "        0.08747907, 0.07810745, 0.0718574 , 0.08123088, 0.06873479,\n",
       "        0.07810726, 0.07185864, 0.0718586 , 0.08748016, 0.0749826 ,\n",
       "        0.07185836, 0.08123307, 0.07185812, 0.02811866, 0.04373899,\n",
       "        0.05623727, 0.06873355, 0.09111829, 0.11559811, 0.09372854,\n",
       "        0.08773479, 0.08121648, 0.08123183, 0.07812796, 0.08435555,\n",
       "        0.07810526, 0.07810755, 0.07810545, 0.0812222 , 0.07810678,\n",
       "        0.08123193, 0.08123074, 0.03436847, 0.04686518, 0.05311213,\n",
       "        0.06560864, 0.08679409, 0.10232649, 0.09514546, 0.09912748,\n",
       "        0.09372854, 0.09372792, 0.09060311, 0.09685254, 0.08748193,\n",
       "        0.09372725, 0.09060526, 0.09372745, 0.08747993, 0.09060435,\n",
       "        0.09060388, 0.02811847, 0.03749161, 0.05623741, 0.05623708,\n",
       "        0.06873507, 0.0656127 , 0.09372849, 0.07498198, 0.08123059,\n",
       "        0.07185855, 0.07498226, 0.08435431, 0.07498236, 0.08123102,\n",
       "        0.07810812, 0.07810788, 0.07810678, 0.0781065 , 0.0812305 ]),\n",
       " 'std_score_time': array([7.21330901e-03, 2.84899656e-03, 4.50487502e-03, 7.10786184e-03,\n",
       "        4.69448866e-03, 1.24974966e-02, 1.87452793e-02, 1.71123253e-02,\n",
       "        7.65259227e-03, 6.24845031e-03, 6.24823578e-03, 1.25046310e-02,\n",
       "        6.38748247e-06, 7.65344868e-03, 1.16903727e-02, 1.53055344e-02,\n",
       "        9.87993133e-03, 7.92181383e-07, 7.65432459e-03, 7.65231945e-03,\n",
       "        7.65313708e-03, 7.65418846e-03, 7.65185230e-03, 6.24864141e-03,\n",
       "        6.24926100e-03, 7.65196924e-03, 8.06404806e-07, 7.65235843e-03,\n",
       "        6.24787816e-03, 7.65286486e-03, 1.26698782e-06, 1.24962926e-02,\n",
       "        7.65216372e-03, 1.87456529e-02, 6.24904633e-03, 7.65235842e-03,\n",
       "        1.16910227e-02, 7.65284527e-03, 6.24873680e-03, 6.24866490e-03,\n",
       "        7.65321500e-03, 7.65416900e-03, 6.58180452e-03, 2.72365165e-02,\n",
       "        2.04540354e-06, 7.87572748e-03, 6.21752746e-03, 6.24966633e-03,\n",
       "        9.89555547e-03, 1.24962569e-02, 9.88068573e-03, 9.70220087e-07,\n",
       "        2.48687836e-06, 6.25342796e-03, 2.51686921e-06, 6.24997639e-03,\n",
       "        6.24985724e-03, 6.24718684e-03, 1.79938910e-06, 7.65446090e-03,\n",
       "        6.24935628e-03, 8.40691537e-03, 7.58347448e-03, 5.14735025e-03,\n",
       "        5.27252758e-03, 1.05552405e-06, 9.87895122e-03, 6.24763983e-03,\n",
       "        6.24954714e-03, 7.65128770e-03, 9.88045973e-03, 6.24763969e-03,\n",
       "        9.87887574e-03, 7.65315660e-03, 6.24814037e-03, 6.24825977e-03,\n",
       "        6.24959483e-03, 7.65294252e-03, 1.87474728e-02, 7.65286456e-03,\n",
       "        7.65263103e-03, 6.24864122e-03, 1.39730792e-02, 6.24849820e-03,\n",
       "        1.53063131e-02, 7.65436351e-03, 6.24637609e-03, 7.65140458e-03,\n",
       "        6.24856957e-03, 1.53071502e-02, 7.13664510e-07, 9.87864975e-03,\n",
       "        1.87488587e-06, 9.88091146e-03, 6.24842669e-03]),\n",
       " 'param_learning_rate': masked_array(data=[1, 1, 1, 1, 1, 1, 1, 1, 1, 1, 1, 1, 1, 1, 1, 1, 1, 1,\n",
       "                    1, 0.5, 0.5, 0.5, 0.5, 0.5, 0.5, 0.5, 0.5, 0.5, 0.5,\n",
       "                    0.5, 0.5, 0.5, 0.5, 0.5, 0.5, 0.5, 0.5, 0.5, 0.1, 0.1,\n",
       "                    0.1, 0.1, 0.1, 0.1, 0.1, 0.1, 0.1, 0.1, 0.1, 0.1, 0.1,\n",
       "                    0.1, 0.1, 0.1, 0.1, 0.1, 0.1, 0.05, 0.05, 0.05, 0.05,\n",
       "                    0.05, 0.05, 0.05, 0.05, 0.05, 0.05, 0.05, 0.05, 0.05,\n",
       "                    0.05, 0.05, 0.05, 0.05, 0.05, 0.05, 0.01, 0.01, 0.01,\n",
       "                    0.01, 0.01, 0.01, 0.01, 0.01, 0.01, 0.01, 0.01, 0.01,\n",
       "                    0.01, 0.01, 0.01, 0.01, 0.01, 0.01, 0.01],\n",
       "              mask=[False, False, False, False, False, False, False, False,\n",
       "                    False, False, False, False, False, False, False, False,\n",
       "                    False, False, False, False, False, False, False, False,\n",
       "                    False, False, False, False, False, False, False, False,\n",
       "                    False, False, False, False, False, False, False, False,\n",
       "                    False, False, False, False, False, False, False, False,\n",
       "                    False, False, False, False, False, False, False, False,\n",
       "                    False, False, False, False, False, False, False, False,\n",
       "                    False, False, False, False, False, False, False, False,\n",
       "                    False, False, False, False, False, False, False, False,\n",
       "                    False, False, False, False, False, False, False, False,\n",
       "                    False, False, False, False, False, False, False],\n",
       "        fill_value='?',\n",
       "             dtype=object),\n",
       " 'param_max_depth': masked_array(data=[1, 2, 3, 4, 5, 6, 7, 8, 9, 10, 11, 12, 13, 14, 15, 16,\n",
       "                    17, 18, 19, 1, 2, 3, 4, 5, 6, 7, 8, 9, 10, 11, 12, 13,\n",
       "                    14, 15, 16, 17, 18, 19, 1, 2, 3, 4, 5, 6, 7, 8, 9, 10,\n",
       "                    11, 12, 13, 14, 15, 16, 17, 18, 19, 1, 2, 3, 4, 5, 6,\n",
       "                    7, 8, 9, 10, 11, 12, 13, 14, 15, 16, 17, 18, 19, 1, 2,\n",
       "                    3, 4, 5, 6, 7, 8, 9, 10, 11, 12, 13, 14, 15, 16, 17,\n",
       "                    18, 19],\n",
       "              mask=[False, False, False, False, False, False, False, False,\n",
       "                    False, False, False, False, False, False, False, False,\n",
       "                    False, False, False, False, False, False, False, False,\n",
       "                    False, False, False, False, False, False, False, False,\n",
       "                    False, False, False, False, False, False, False, False,\n",
       "                    False, False, False, False, False, False, False, False,\n",
       "                    False, False, False, False, False, False, False, False,\n",
       "                    False, False, False, False, False, False, False, False,\n",
       "                    False, False, False, False, False, False, False, False,\n",
       "                    False, False, False, False, False, False, False, False,\n",
       "                    False, False, False, False, False, False, False, False,\n",
       "                    False, False, False, False, False, False, False],\n",
       "        fill_value='?',\n",
       "             dtype=object),\n",
       " 'params': [{'learning_rate': 1, 'max_depth': 1},\n",
       "  {'learning_rate': 1, 'max_depth': 2},\n",
       "  {'learning_rate': 1, 'max_depth': 3},\n",
       "  {'learning_rate': 1, 'max_depth': 4},\n",
       "  {'learning_rate': 1, 'max_depth': 5},\n",
       "  {'learning_rate': 1, 'max_depth': 6},\n",
       "  {'learning_rate': 1, 'max_depth': 7},\n",
       "  {'learning_rate': 1, 'max_depth': 8},\n",
       "  {'learning_rate': 1, 'max_depth': 9},\n",
       "  {'learning_rate': 1, 'max_depth': 10},\n",
       "  {'learning_rate': 1, 'max_depth': 11},\n",
       "  {'learning_rate': 1, 'max_depth': 12},\n",
       "  {'learning_rate': 1, 'max_depth': 13},\n",
       "  {'learning_rate': 1, 'max_depth': 14},\n",
       "  {'learning_rate': 1, 'max_depth': 15},\n",
       "  {'learning_rate': 1, 'max_depth': 16},\n",
       "  {'learning_rate': 1, 'max_depth': 17},\n",
       "  {'learning_rate': 1, 'max_depth': 18},\n",
       "  {'learning_rate': 1, 'max_depth': 19},\n",
       "  {'learning_rate': 0.5, 'max_depth': 1},\n",
       "  {'learning_rate': 0.5, 'max_depth': 2},\n",
       "  {'learning_rate': 0.5, 'max_depth': 3},\n",
       "  {'learning_rate': 0.5, 'max_depth': 4},\n",
       "  {'learning_rate': 0.5, 'max_depth': 5},\n",
       "  {'learning_rate': 0.5, 'max_depth': 6},\n",
       "  {'learning_rate': 0.5, 'max_depth': 7},\n",
       "  {'learning_rate': 0.5, 'max_depth': 8},\n",
       "  {'learning_rate': 0.5, 'max_depth': 9},\n",
       "  {'learning_rate': 0.5, 'max_depth': 10},\n",
       "  {'learning_rate': 0.5, 'max_depth': 11},\n",
       "  {'learning_rate': 0.5, 'max_depth': 12},\n",
       "  {'learning_rate': 0.5, 'max_depth': 13},\n",
       "  {'learning_rate': 0.5, 'max_depth': 14},\n",
       "  {'learning_rate': 0.5, 'max_depth': 15},\n",
       "  {'learning_rate': 0.5, 'max_depth': 16},\n",
       "  {'learning_rate': 0.5, 'max_depth': 17},\n",
       "  {'learning_rate': 0.5, 'max_depth': 18},\n",
       "  {'learning_rate': 0.5, 'max_depth': 19},\n",
       "  {'learning_rate': 0.1, 'max_depth': 1},\n",
       "  {'learning_rate': 0.1, 'max_depth': 2},\n",
       "  {'learning_rate': 0.1, 'max_depth': 3},\n",
       "  {'learning_rate': 0.1, 'max_depth': 4},\n",
       "  {'learning_rate': 0.1, 'max_depth': 5},\n",
       "  {'learning_rate': 0.1, 'max_depth': 6},\n",
       "  {'learning_rate': 0.1, 'max_depth': 7},\n",
       "  {'learning_rate': 0.1, 'max_depth': 8},\n",
       "  {'learning_rate': 0.1, 'max_depth': 9},\n",
       "  {'learning_rate': 0.1, 'max_depth': 10},\n",
       "  {'learning_rate': 0.1, 'max_depth': 11},\n",
       "  {'learning_rate': 0.1, 'max_depth': 12},\n",
       "  {'learning_rate': 0.1, 'max_depth': 13},\n",
       "  {'learning_rate': 0.1, 'max_depth': 14},\n",
       "  {'learning_rate': 0.1, 'max_depth': 15},\n",
       "  {'learning_rate': 0.1, 'max_depth': 16},\n",
       "  {'learning_rate': 0.1, 'max_depth': 17},\n",
       "  {'learning_rate': 0.1, 'max_depth': 18},\n",
       "  {'learning_rate': 0.1, 'max_depth': 19},\n",
       "  {'learning_rate': 0.05, 'max_depth': 1},\n",
       "  {'learning_rate': 0.05, 'max_depth': 2},\n",
       "  {'learning_rate': 0.05, 'max_depth': 3},\n",
       "  {'learning_rate': 0.05, 'max_depth': 4},\n",
       "  {'learning_rate': 0.05, 'max_depth': 5},\n",
       "  {'learning_rate': 0.05, 'max_depth': 6},\n",
       "  {'learning_rate': 0.05, 'max_depth': 7},\n",
       "  {'learning_rate': 0.05, 'max_depth': 8},\n",
       "  {'learning_rate': 0.05, 'max_depth': 9},\n",
       "  {'learning_rate': 0.05, 'max_depth': 10},\n",
       "  {'learning_rate': 0.05, 'max_depth': 11},\n",
       "  {'learning_rate': 0.05, 'max_depth': 12},\n",
       "  {'learning_rate': 0.05, 'max_depth': 13},\n",
       "  {'learning_rate': 0.05, 'max_depth': 14},\n",
       "  {'learning_rate': 0.05, 'max_depth': 15},\n",
       "  {'learning_rate': 0.05, 'max_depth': 16},\n",
       "  {'learning_rate': 0.05, 'max_depth': 17},\n",
       "  {'learning_rate': 0.05, 'max_depth': 18},\n",
       "  {'learning_rate': 0.05, 'max_depth': 19},\n",
       "  {'learning_rate': 0.01, 'max_depth': 1},\n",
       "  {'learning_rate': 0.01, 'max_depth': 2},\n",
       "  {'learning_rate': 0.01, 'max_depth': 3},\n",
       "  {'learning_rate': 0.01, 'max_depth': 4},\n",
       "  {'learning_rate': 0.01, 'max_depth': 5},\n",
       "  {'learning_rate': 0.01, 'max_depth': 6},\n",
       "  {'learning_rate': 0.01, 'max_depth': 7},\n",
       "  {'learning_rate': 0.01, 'max_depth': 8},\n",
       "  {'learning_rate': 0.01, 'max_depth': 9},\n",
       "  {'learning_rate': 0.01, 'max_depth': 10},\n",
       "  {'learning_rate': 0.01, 'max_depth': 11},\n",
       "  {'learning_rate': 0.01, 'max_depth': 12},\n",
       "  {'learning_rate': 0.01, 'max_depth': 13},\n",
       "  {'learning_rate': 0.01, 'max_depth': 14},\n",
       "  {'learning_rate': 0.01, 'max_depth': 15},\n",
       "  {'learning_rate': 0.01, 'max_depth': 16},\n",
       "  {'learning_rate': 0.01, 'max_depth': 17},\n",
       "  {'learning_rate': 0.01, 'max_depth': 18},\n",
       "  {'learning_rate': 0.01, 'max_depth': 19}],\n",
       " 'split0_test_score': array([0.61388318, 0.83360447, 0.81294488, 0.66150656, 0.56082793,\n",
       "        0.59144266, 0.6496866 , 0.76996305, 0.66251697, 0.64231451,\n",
       "        0.68808768, 0.64465531, 0.70247983, 0.69783828, 0.69783828,\n",
       "        0.69783828, 0.69783828, 0.69783828, 0.69783828, 0.82748313,\n",
       "        0.85498652, 0.84259256, 0.81384878, 0.81777447, 0.80780991,\n",
       "        0.8181053 , 0.81085055, 0.81251225, 0.80599834, 0.81144529,\n",
       "        0.80392098, 0.80694842, 0.79559173, 0.80972421, 0.80158913,\n",
       "        0.80646019, 0.80646019, 0.80646019, 0.80181439, 0.83371334,\n",
       "        0.8479971 , 0.85063386, 0.84889675, 0.84945333, 0.85002733,\n",
       "        0.8463976 , 0.84644473, 0.84615395, 0.85103397, 0.84704607,\n",
       "        0.84970121, 0.84802773, 0.8482808 , 0.85046279, 0.85054479,\n",
       "        0.85054479, 0.85054479, 0.78584113, 0.81368053, 0.83653766,\n",
       "        0.84353887, 0.84680525, 0.84911637, 0.84722327, 0.84987276,\n",
       "        0.85208962, 0.85001791, 0.85004901, 0.85272395, 0.85061124,\n",
       "        0.8488124 , 0.8494439 , 0.85153446, 0.85108675, 0.85108675,\n",
       "        0.85108675, 0.73066562, 0.77367856, 0.79782603, 0.8058268 ,\n",
       "        0.81248068, 0.82037164, 0.82152249, 0.82342972, 0.82248058,\n",
       "        0.82257201, 0.82374689, 0.82373087, 0.82339296, 0.82393823,\n",
       "        0.82394247, 0.82394247, 0.82394247, 0.82394247, 0.82394247]),\n",
       " 'split1_test_score': array([0.75328476, 0.82368987, 0.72737662, 0.4666585 , 0.54892267,\n",
       "        0.56248209, 0.51622304, 0.59730433, 0.65823028, 0.66360655,\n",
       "        0.58473599, 0.6046128 , 0.67463853, 0.65706389, 0.65706389,\n",
       "        0.65706389, 0.65706389, 0.65706389, 0.65706389, 0.82546844,\n",
       "        0.83847129, 0.82438546, 0.80654219, 0.79289983, 0.78113407,\n",
       "        0.79001753, 0.77314885, 0.80025072, 0.79410722, 0.79085168,\n",
       "        0.79253082, 0.78855423, 0.79203457, 0.77888987, 0.79560869,\n",
       "        0.79101097, 0.79101097, 0.79101097, 0.80268625, 0.82818344,\n",
       "        0.83412475, 0.83453759, 0.83035647, 0.82636009, 0.82805761,\n",
       "        0.82626866, 0.82385387, 0.827559  , 0.82727436, 0.82903408,\n",
       "        0.82265213, 0.82724419, 0.82886065, 0.82437509, 0.82627715,\n",
       "        0.82627715, 0.82627715, 0.78079051, 0.81344349, 0.82330154,\n",
       "        0.82883191, 0.82879326, 0.82955531, 0.82824894, 0.83137253,\n",
       "        0.83143097, 0.83349796, 0.8342765 , 0.82958453, 0.83312189,\n",
       "        0.83197576, 0.8314517 , 0.83084942, 0.83110579, 0.83225664,\n",
       "        0.83106809, 0.72743317, 0.77114359, 0.79096337, 0.79627272,\n",
       "        0.79953344, 0.80423626, 0.80539276, 0.80562604, 0.8090371 ,\n",
       "        0.81094009, 0.8102445 , 0.81114698, 0.81033074, 0.81094386,\n",
       "        0.81108242, 0.81105697, 0.81117856, 0.81117856, 0.81117856]),\n",
       " 'split2_test_score': array([0.77499529, 0.81791773, 0.78326421, 0.51270783, 0.78057985,\n",
       "        0.60788013, 0.75442807, 0.67699442, 0.67513337, 0.60523347,\n",
       "        0.64455069, 0.65914313, 0.67547834, 0.63027824, 0.70372446,\n",
       "        0.70372446, 0.70372446, 0.70372446, 0.70372446, 0.81150703,\n",
       "        0.82454852, 0.81829192, 0.80651297, 0.79760217, 0.79250773,\n",
       "        0.78770265, 0.79431176, 0.80108204, 0.78777616, 0.77316016,\n",
       "        0.77540435, 0.79146433, 0.78520491, 0.78640665, 0.78128864,\n",
       "        0.78326327, 0.78326327, 0.78326327, 0.78042763, 0.81176199,\n",
       "        0.82288116, 0.82914059, 0.82762875, 0.82232883, 0.82718387,\n",
       "        0.82426387, 0.82127319, 0.82356734, 0.82532423, 0.82672297,\n",
       "        0.82669846, 0.82380391, 0.82299992, 0.8247441 , 0.82525354,\n",
       "        0.82243346, 0.82243346, 0.76428376, 0.79533347, 0.810474  ,\n",
       "        0.81691157, 0.82410741, 0.82616781, 0.82724325, 0.82889836,\n",
       "        0.8248294 , 0.82584263, 0.82768059, 0.82302255, 0.82666265,\n",
       "        0.82715371, 0.82747323, 0.83086073, 0.83086073, 0.83086073,\n",
       "        0.83086073, 0.70378666, 0.75422259, 0.78031594, 0.78966031,\n",
       "        0.79677603, 0.80172532, 0.80620193, 0.80794328, 0.80853661,\n",
       "        0.80885283, 0.80751866, 0.80887875, 0.80898903, 0.80926802,\n",
       "        0.80901683, 0.8088943 , 0.8088943 , 0.8088943 , 0.8088943 ]),\n",
       " 'split3_test_score': array([0.72619891, 0.83574499, 0.80866197, 0.61490348, 0.72923909,\n",
       "        0.49159111, 0.56668395, 0.56180912, 0.65538663, 0.65181864,\n",
       "        0.60349401, 0.68373831, 0.67933004, 0.6795275 , 0.67959254,\n",
       "        0.67959254, 0.67959254, 0.67959254, 0.67959254, 0.84671477,\n",
       "        0.86541246, 0.84809701, 0.84295167, 0.82278314, 0.83971026,\n",
       "        0.83615593, 0.83912589, 0.83118968, 0.82692561, 0.82283215,\n",
       "        0.82442128, 0.83028389, 0.82572764, 0.83204362, 0.83386084,\n",
       "        0.83240933, 0.82647131, 0.8365518 , 0.83035835, 0.85126913,\n",
       "        0.86425172, 0.8736861 , 0.87152626, 0.87048145, 0.86908837,\n",
       "        0.87074819, 0.86953797, 0.8679036 , 0.87043715, 0.86988576,\n",
       "        0.86919771, 0.86975192, 0.86374321, 0.86620325, 0.86624001,\n",
       "        0.86673861, 0.86689885, 0.80991084, 0.83644247, 0.85063433,\n",
       "        0.86061444, 0.86410515, 0.86936831, 0.86582435, 0.87140231,\n",
       "        0.87022791, 0.87255787, 0.87074254, 0.871227  , 0.87295515,\n",
       "        0.87253007, 0.87013082, 0.87088863, 0.87045223, 0.87129439,\n",
       "        0.87129439, 0.75263865, 0.79372361, 0.8191487 , 0.82404002,\n",
       "        0.83736757, 0.84085451, 0.84280557, 0.84379666, 0.8454593 ,\n",
       "        0.84738115, 0.84749472, 0.84801029, 0.84722892, 0.84779775,\n",
       "        0.84708189, 0.84708189, 0.84708189, 0.84708189, 0.84708189]),\n",
       " 'split4_test_score': array([0.66410358, 0.82263977, 0.70049993, 0.52625864, 0.53359364,\n",
       "        0.62119119, 0.66326581, 0.61726175, 0.56169836, 0.65683107,\n",
       "        0.69102002, 0.59662593, 0.61735337, 0.65030048, 0.67291628,\n",
       "        0.67291628, 0.67291628, 0.67291628, 0.67291628, 0.83710209,\n",
       "        0.85237397, 0.83215069, 0.81066302, 0.80664853, 0.79344074,\n",
       "        0.78582148, 0.78886524, 0.78662494, 0.78486672, 0.78817924,\n",
       "        0.78629416, 0.79512378, 0.80218391, 0.79823896, 0.78936235,\n",
       "        0.78838504, 0.78838504, 0.78838504, 0.8071245 , 0.83481903,\n",
       "        0.84564697, 0.84846802, 0.84875228, 0.84308529, 0.84208684,\n",
       "        0.83494731, 0.84369799, 0.8380653 , 0.8393593 , 0.83444831,\n",
       "        0.84028774, 0.83717304, 0.83431252, 0.83748831, 0.83446523,\n",
       "        0.83374211, 0.83374211, 0.79048861, 0.81979383, 0.83092718,\n",
       "        0.83765041, 0.84308905, 0.84438822, 0.84528283, 0.84708193,\n",
       "        0.84393198, 0.84678451, 0.84489473, 0.84381781, 0.84581237,\n",
       "        0.84395923, 0.84766362, 0.84594957, 0.84594957, 0.84594957,\n",
       "        0.84594957, 0.73382387, 0.76858323, 0.79678286, 0.80822021,\n",
       "        0.81695023, 0.82230852, 0.8258353 , 0.8290374 , 0.82980703,\n",
       "        0.8319012 , 0.83310028, 0.83279205, 0.83153565, 0.83166909,\n",
       "        0.83088959, 0.83088959, 0.83088959, 0.83088959, 0.83088959]),\n",
       " 'mean_test_score': array([0.70649314, 0.82671937, 0.76654952, 0.556407  , 0.63063264,\n",
       "        0.57491743, 0.63005749, 0.64466653, 0.64259312, 0.64396085,\n",
       "        0.64237768, 0.6377551 , 0.66985602, 0.66300168, 0.68222709,\n",
       "        0.68222709, 0.68222709, 0.68222709, 0.68222709, 0.82965509,\n",
       "        0.84715855, 0.83310353, 0.81610372, 0.80754163, 0.80292054,\n",
       "        0.80356058, 0.80126046, 0.80633193, 0.79993481, 0.79729371,\n",
       "        0.79651432, 0.80247493, 0.80014855, 0.80106066, 0.80034193,\n",
       "        0.80030576, 0.79911816, 0.80113425, 0.80448223, 0.83194939,\n",
       "        0.84298034, 0.84729323, 0.8454321 , 0.8423418 , 0.84328881,\n",
       "        0.84052513, 0.84096155, 0.84064984, 0.8426858 , 0.84142744,\n",
       "        0.84170745, 0.84120016, 0.83963942, 0.84065471, 0.84055614,\n",
       "        0.83994722, 0.83997927, 0.78626297, 0.81573876, 0.83037494,\n",
       "        0.83750944, 0.84138003, 0.8437192 , 0.84276453, 0.84572558,\n",
       "        0.84450197, 0.84574018, 0.84552867, 0.84407517, 0.84583266,\n",
       "        0.84488623, 0.84523266, 0.84601656, 0.84589101, 0.84628962,\n",
       "        0.84605191, 0.7296696 , 0.77227031, 0.79700738, 0.80480401,\n",
       "        0.81262159, 0.81789925, 0.82035161, 0.82196662, 0.82306412,\n",
       "        0.82432946, 0.82442101, 0.82491179, 0.82429546, 0.82472339,\n",
       "        0.82440264, 0.82437304, 0.82439736, 0.82439736, 0.82439736]),\n",
       " 'std_test_score': array([0.05940336, 0.00681405, 0.04494982, 0.07119142, 0.10312437,\n",
       "        0.04604085, 0.08237794, 0.07294363, 0.04100728, 0.02057115,\n",
       "        0.04311544, 0.03289236, 0.02816054, 0.02346953, 0.01692728,\n",
       "        0.01692728, 0.01692728, 0.01692728, 0.01692728, 0.01181599,\n",
       "        0.01420116, 0.0110557 , 0.01370331, 0.01141041, 0.0202501 ,\n",
       "        0.0201175 , 0.02244081, 0.01489303, 0.01532391, 0.01766058,\n",
       "        0.01673086, 0.01524735, 0.01391651, 0.01870426, 0.01806131,\n",
       "        0.0178183 , 0.01571244, 0.01932441, 0.01590926, 0.01269892,\n",
       "        0.0139079 , 0.01550063, 0.01579979, 0.01731416, 0.01551663,\n",
       "        0.01701004, 0.01751839, 0.01576657, 0.01667232, 0.01587432,\n",
       "        0.01679289, 0.01658575, 0.01467717, 0.01598203, 0.01571364,\n",
       "        0.01650572, 0.01655778, 0.01476678, 0.01319824, 0.01337765,\n",
       "        0.01462728, 0.01418136, 0.01546687, 0.01420978, 0.0152807 ,\n",
       "        0.01598488, 0.01602724, 0.01484412, 0.01711889, 0.01604692,\n",
       "        0.01588445, 0.01515833, 0.01489169, 0.01466127, 0.01471966,\n",
       "        0.01495212, 0.01562533, 0.01267132, 0.01269719, 0.01170346,\n",
       "        0.01451552, 0.01414759, 0.01385354, 0.01408798, 0.01382141,\n",
       "        0.0142169 , 0.01479759, 0.01444688, 0.01420196, 0.01421287,\n",
       "        0.01393407, 0.01396604, 0.01394292, 0.01394292, 0.01394292]),\n",
       " 'rank_test_score': array([79, 39, 77, 95, 92, 94, 93, 87, 89, 88, 90, 91, 85, 86, 80, 80, 80,\n",
       "        80, 80, 38,  2, 35, 54, 57, 62, 61, 64, 58, 70, 72, 74, 63, 69, 66,\n",
       "        67, 68, 71, 65, 60, 36, 18,  1, 11, 21, 17, 30, 26, 28, 20, 23, 22,\n",
       "        25, 33, 27, 29, 32, 31, 75, 55, 37, 34, 24, 16, 19,  9, 14,  8, 10,\n",
       "        15,  7, 13, 12,  5,  6,  3,  4, 78, 76, 73, 59, 56, 53, 52, 51, 50,\n",
       "        48, 42, 40, 49, 41, 43, 47, 44, 44, 44]),\n",
       " 'split0_train_score': array([0.66259561, 0.89994109, 0.9476906 , 0.77997111, 0.56010171,\n",
       "        0.66562408, 0.76166218, 1.        , 0.83121158, 0.72659575,\n",
       "        0.90318925, 0.72799927, 0.86793525, 0.8433147 , 0.8433147 ,\n",
       "        0.8433147 , 0.8433147 , 0.8433147 , 0.8433147 , 0.83820227,\n",
       "        0.88897053, 0.93128085, 0.97148905, 0.99503264, 0.99918461,\n",
       "        0.99958571, 0.99976595, 0.9981238 , 0.99985755, 0.99989846,\n",
       "        0.99978597, 0.99982929, 0.99988115, 0.99983412, 0.99996062,\n",
       "        0.99994078, 0.99994078, 0.99994078, 0.80989605, 0.8455716 ,\n",
       "        0.87329389, 0.90279468, 0.9351354 , 0.95067966, 0.95584478,\n",
       "        0.96086143, 0.96125621, 0.96341319, 0.96843135, 0.9695368 ,\n",
       "        0.96917207, 0.96918299, 0.97105148, 0.96970009, 0.97007626,\n",
       "        0.97007626, 0.97007626, 0.789983  , 0.82531628, 0.84858948,\n",
       "        0.87319037, 0.9004134 , 0.91518832, 0.92162539, 0.92391884,\n",
       "        0.92655675, 0.92874319, 0.92887578, 0.93087872, 0.93059013,\n",
       "        0.93148708, 0.93115906, 0.93183559, 0.93331934, 0.93331934,\n",
       "        0.93331934, 0.72950797, 0.78379355, 0.80604203, 0.81638842,\n",
       "        0.83610365, 0.84726417, 0.84998387, 0.85380837, 0.85485057,\n",
       "        0.85667823, 0.85742293, 0.85832294, 0.8584211 , 0.85869326,\n",
       "        0.85864575, 0.85864575, 0.85864575, 0.85864575, 0.85864575]),\n",
       " 'split1_train_score': array([0.76473462, 0.89681582, 0.76800049, 0.51152954, 0.63371699,\n",
       "        0.59093417, 0.55608584, 0.59973636, 0.73502762, 0.72906213,\n",
       "        0.61630636, 0.6382876 , 0.71330195, 0.69923019, 0.69923019,\n",
       "        0.69923019, 0.69923019, 0.69923019, 0.69923019, 0.84056166,\n",
       "        0.89042585, 0.93554692, 0.97483733, 0.99551233, 0.99939193,\n",
       "        0.99981823, 0.99967701, 0.99982706, 0.99988127, 0.99983115,\n",
       "        0.99990278, 0.9999311 , 0.99989816, 0.99998687, 0.99991659,\n",
       "        0.99995138, 0.99995138, 0.99995138, 0.80786763, 0.84868973,\n",
       "        0.87854303, 0.90620554, 0.93513119, 0.95477176, 0.95899369,\n",
       "        0.96444585, 0.96624797, 0.96888982, 0.96943276, 0.96848288,\n",
       "        0.9707983 , 0.97093616, 0.97103909, 0.96859529, 0.96805838,\n",
       "        0.96805838, 0.96805838, 0.78980734, 0.82762708, 0.85326725,\n",
       "        0.87777099, 0.90458084, 0.92112306, 0.92582229, 0.92764392,\n",
       "        0.93139778, 0.93188872, 0.93234041, 0.93496872, 0.93346591,\n",
       "        0.93382922, 0.93572119, 0.93597664, 0.93632532, 0.93606446,\n",
       "        0.93448191, 0.73453981, 0.77982371, 0.80196835, 0.82696485,\n",
       "        0.83987317, 0.85559833, 0.8585936 , 0.85938671, 0.85971279,\n",
       "        0.85994805, 0.86016102, 0.86040266, 0.86070131, 0.86098801,\n",
       "        0.86092635, 0.86047907, 0.86113447, 0.86113447, 0.86113447]),\n",
       " 'split2_train_score': array([0.81545091, 0.8996855 , 0.94599803, 0.54089792, 0.9997158 ,\n",
       "        0.71123077, 1.        , 0.88625761, 0.80630374, 0.69030927,\n",
       "        0.73953769, 0.75791502, 0.76689878, 0.7280048 , 0.76890304,\n",
       "        0.76890304, 0.76890304, 0.76890304, 0.76890304, 0.84322175,\n",
       "        0.88943933, 0.93473697, 0.97457403, 0.99502287, 0.99909978,\n",
       "        0.99969708, 0.99972775, 0.99997528, 0.99969396, 0.99996327,\n",
       "        0.99992442, 0.99996786, 0.99995832, 0.99991624, 0.99989134,\n",
       "        0.99994502, 0.99994502, 0.99994502, 0.8149749 , 0.84976586,\n",
       "        0.87648539, 0.90426762, 0.93315604, 0.95030616, 0.959572  ,\n",
       "        0.96356318, 0.96466468, 0.96595055, 0.9694938 , 0.97016721,\n",
       "        0.96968932, 0.97125638, 0.9690698 , 0.97114472, 0.96971027,\n",
       "        0.97149564, 0.97149564, 0.79405982, 0.83069616, 0.85095475,\n",
       "        0.87310905, 0.89990739, 0.91606043, 0.92296538, 0.92671092,\n",
       "        0.9280943 , 0.93138289, 0.92949357, 0.93414229, 0.93525537,\n",
       "        0.93374528, 0.93525348, 0.93539167, 0.93539167, 0.93539167,\n",
       "        0.93539167, 0.73616595, 0.78328931, 0.81023682, 0.8206343 ,\n",
       "        0.84188803, 0.8525159 , 0.85747699, 0.86002545, 0.860763  ,\n",
       "        0.86067482, 0.8610251 , 0.86165295, 0.86203795, 0.86204431,\n",
       "        0.86210253, 0.86207153, 0.86207153, 0.86207153, 0.86207153]),\n",
       " 'split3_train_score': array([0.69351914, 0.89186409, 0.93813827, 0.65253331, 0.99333569,\n",
       "        0.51672253, 0.61326892, 0.66444467, 0.7448734 , 0.71825627,\n",
       "        0.66059056, 0.75579625, 0.77203714, 0.76329438, 0.76338579,\n",
       "        0.76338579, 0.76338579, 0.76338579, 0.76338579, 0.83476116,\n",
       "        0.88470614, 0.92788177, 0.96924536, 0.99479924, 0.99936579,\n",
       "        0.99967018, 0.99950389, 0.99983424, 0.99989022, 0.99985902,\n",
       "        0.99987703, 0.99970521, 0.99990623, 0.99978235, 0.99994685,\n",
       "        0.99983818, 0.99994555, 0.99984059, 0.80266196, 0.84058308,\n",
       "        0.8700437 , 0.89591681, 0.92578659, 0.94881062, 0.95426337,\n",
       "        0.95813447, 0.95903504, 0.96382304, 0.96467858, 0.96677113,\n",
       "        0.96579798, 0.96571103, 0.96595459, 0.96523535, 0.96583106,\n",
       "        0.96590705, 0.965911  , 0.78448553, 0.81861583, 0.84358919,\n",
       "        0.86879265, 0.89393966, 0.91007666, 0.91752537, 0.92081744,\n",
       "        0.92342423, 0.92645409, 0.92777228, 0.92836401, 0.92925858,\n",
       "        0.92949213, 0.93010588, 0.92947102, 0.9303457 , 0.93119944,\n",
       "        0.93119944, 0.72387818, 0.76930823, 0.79532888, 0.81137458,\n",
       "        0.83034924, 0.84652592, 0.85127789, 0.8533768 , 0.85436417,\n",
       "        0.85528099, 0.85578181, 0.85639112, 0.85604691, 0.85653451,\n",
       "        0.85647291, 0.85647291, 0.85647291, 0.85647291, 0.85647291]),\n",
       " 'split4_train_score': array([0.66860868, 0.8976204 , 0.79320698, 0.57815051, 0.56920395,\n",
       "        0.64510738, 0.7764534 , 0.69636273, 0.61798012, 0.77962152,\n",
       "        0.74580722, 0.64031555, 0.70360564, 0.74000551, 0.75611745,\n",
       "        0.75611745, 0.75611745, 0.75611745, 0.75611745, 0.8341917 ,\n",
       "        0.88727008, 0.93331658, 0.97162246, 0.99614653, 0.99930865,\n",
       "        0.99974062, 0.99967129, 0.99989903, 0.99989031, 0.99995435,\n",
       "        0.99995947, 0.99988872, 0.99987435, 0.99997779, 0.99988265,\n",
       "        0.99991564, 0.99991564, 0.99991564, 0.80749707, 0.8434298 ,\n",
       "        0.8736721 , 0.90126536, 0.93335982, 0.94975341, 0.95836091,\n",
       "        0.96220516, 0.96608361, 0.96873315, 0.96941328, 0.9708058 ,\n",
       "        0.96889842, 0.96835322, 0.97199176, 0.96997654, 0.9708152 ,\n",
       "        0.96959213, 0.96959213, 0.79023717, 0.82372683, 0.84899711,\n",
       "        0.87127024, 0.89998262, 0.91390854, 0.91984576, 0.92695843,\n",
       "        0.9286505 , 0.92982932, 0.93052545, 0.93204689, 0.93169847,\n",
       "        0.93377163, 0.93507678, 0.93368886, 0.93368886, 0.93368886,\n",
       "        0.93368886, 0.7286196 , 0.76734888, 0.7957033 , 0.81568992,\n",
       "        0.83158434, 0.84349272, 0.849555  , 0.85450859, 0.85633889,\n",
       "        0.85700769, 0.85720229, 0.85751754, 0.85698833, 0.85799659,\n",
       "        0.85761745, 0.85761745, 0.85761745, 0.85761745, 0.85761745]),\n",
       " 'mean_train_score': array([0.72098179, 0.89718538, 0.87860687, 0.61261647, 0.75121483,\n",
       "        0.62592378, 0.74149407, 0.76936027, 0.74707929, 0.72876899,\n",
       "        0.73308622, 0.70406274, 0.76475575, 0.75476992, 0.76619024,\n",
       "        0.76619024, 0.76619024, 0.76619024, 0.76619024, 0.83818771,\n",
       "        0.88816239, 0.93255262, 0.97235365, 0.99530272, 0.99927015,\n",
       "        0.99970236, 0.99966918, 0.99953188, 0.99984266, 0.99990125,\n",
       "        0.99988993, 0.99986444, 0.99990364, 0.99989947, 0.99991961,\n",
       "        0.9999182 , 0.99993967, 0.99991868, 0.80857952, 0.84560802,\n",
       "        0.87440762, 0.90209   , 0.93251381, 0.95086432, 0.95740695,\n",
       "        0.96184202, 0.9634575 , 0.96616195, 0.96828995, 0.96915277,\n",
       "        0.96887122, 0.96908796, 0.96982134, 0.9689304 , 0.96889824,\n",
       "        0.96902589, 0.96902668, 0.78971457, 0.82519644, 0.84907956,\n",
       "        0.87282666, 0.89976478, 0.9152714 , 0.92155684, 0.92520991,\n",
       "        0.92762471, 0.92965964, 0.9298015 , 0.93208013, 0.93205369,\n",
       "        0.93246507, 0.93346328, 0.93327276, 0.93381418, 0.93393275,\n",
       "        0.93361624, 0.7305423 , 0.77671274, 0.80185588, 0.81821041,\n",
       "        0.83595969, 0.84907941, 0.85337747, 0.85622119, 0.85720588,\n",
       "        0.85791795, 0.85831863, 0.85885744, 0.85883912, 0.85925134,\n",
       "        0.859153  , 0.85905734, 0.85918842, 0.85918842, 0.85918842]),\n",
       " 'std_train_score': array([5.95731657e-02, 2.91501424e-03, 8.04798476e-02, 9.60738772e-02,\n",
       "        2.01907489e-01, 6.68888529e-02, 1.54448778e-01, 1.49644825e-01,\n",
       "        7.40303760e-02, 2.89152422e-02, 9.80118779e-02, 5.39248637e-02,\n",
       "        5.84644356e-02, 4.88505180e-02, 4.59315052e-02, 4.59315052e-02,\n",
       "        4.59315052e-02, 4.59315052e-02, 4.59315052e-02, 3.42598180e-03,\n",
       "        2.00742690e-03, 2.74791493e-03, 2.09963861e-03, 4.81809845e-04,\n",
       "        1.11177359e-04, 7.68889576e-05, 8.96469223e-05, 7.06062947e-04,\n",
       "        7.53070142e-05, 5.17130015e-05, 5.85918921e-05, 9.19996064e-05,\n",
       "        2.96336612e-05, 8.00537210e-05, 3.03245209e-05, 4.18082428e-05,\n",
       "        1.24806545e-05, 4.08853454e-05, 3.98321815e-03, 3.36988215e-03,\n",
       "        2.90667881e-03, 3.49183587e-03, 3.46719113e-03, 2.05258590e-03,\n",
       "        2.02176535e-03, 2.21728248e-03, 2.84760553e-03, 2.32908688e-03,\n",
       "        1.84819675e-03, 1.41633693e-03, 1.66847214e-03, 2.00351791e-03,\n",
       "        2.15515463e-03, 2.01770938e-03, 1.77959755e-03, 1.90718648e-03,\n",
       "        1.90589678e-03, 3.05214076e-03, 4.04063173e-03, 3.20762542e-03,\n",
       "        2.94462650e-03, 3.39455377e-03, 3.56971109e-03, 2.80582682e-03,\n",
       "        2.53753412e-03, 2.61890742e-03, 1.95359167e-03, 1.55175445e-03,\n",
       "        2.36010656e-03, 2.11309762e-03, 1.73215369e-03, 2.34469405e-03,\n",
       "        2.38715320e-03, 2.05354623e-03, 1.70759381e-03, 1.40256075e-03,\n",
       "        4.39960771e-03, 7.00822124e-03, 5.80056012e-03, 5.27098610e-03,\n",
       "        4.49671122e-03, 4.36651668e-03, 3.86135028e-03, 2.87535062e-03,\n",
       "        2.58117039e-03, 2.05137468e-03, 1.95976085e-03, 1.91657627e-03,\n",
       "        2.24039648e-03, 2.00418098e-03, 2.08050764e-03, 2.00143081e-03,\n",
       "        2.10883189e-03, 2.10883189e-03, 2.10883189e-03])}"
      ]
     },
     "execution_count": 20,
     "metadata": {},
     "output_type": "execute_result"
    }
   ],
   "source": [
    "gcv.cv_results_"
   ]
  },
  {
   "cell_type": "code",
   "execution_count": 21,
   "metadata": {},
   "outputs": [],
   "source": [
    "# train_score = gcv.cv_results_['mean_train_score']\n",
    "# test_score = gcv.cv_results_['mean_test_score']\n"
   ]
  },
  {
   "cell_type": "code",
   "execution_count": 22,
   "metadata": {},
   "outputs": [],
   "source": [
    "# plt.plot(train_score)\n",
    "# plt.plot(test_score)\n",
    "# plt.xticks(range(0, len(gcv.param_grid['max_depth'])), list(gcv.param_grid['max_depth']))"
   ]
  },
  {
   "cell_type": "code",
   "execution_count": 23,
   "metadata": {},
   "outputs": [
    {
     "data": {
      "text/plain": [
       "array([0, 0, 0, 0, 0, 0, 0, 0, 0, 0, 0, 0, 0, 1, 0, 0, 0, 0, 0, 0, 0, 0,\n",
       "       0, 0, 0, 0, 0, 0, 0, 0], dtype=int64)"
      ]
     },
     "execution_count": 23,
     "metadata": {},
     "output_type": "execute_result"
    }
   ],
   "source": [
    "gcv.predict(X)[70:100]"
   ]
  },
  {
   "cell_type": "code",
   "execution_count": 24,
   "metadata": {},
   "outputs": [
    {
     "data": {
      "text/plain": [
       "array([[0.89344246, 0.10655754],\n",
       "       [0.97969756, 0.02030244],\n",
       "       [0.99471877, 0.00528123],\n",
       "       [0.99550196, 0.00449804],\n",
       "       [0.97215681, 0.02784319],\n",
       "       [0.88387008, 0.11612992],\n",
       "       [0.77228058, 0.22771942],\n",
       "       [0.93958328, 0.06041672],\n",
       "       [0.75661881, 0.24338119],\n",
       "       [0.99439737, 0.00560263],\n",
       "       [0.93377208, 0.06622792],\n",
       "       [0.97260216, 0.02739784],\n",
       "       [0.99591227, 0.00408773],\n",
       "       [0.23102036, 0.76897964],\n",
       "       [0.88250665, 0.11749335],\n",
       "       [0.97642934, 0.02357066],\n",
       "       [0.81397962, 0.18602038],\n",
       "       [0.83411662, 0.16588338],\n",
       "       [0.8743471 , 0.1256529 ],\n",
       "       [0.97503264, 0.02496736],\n",
       "       [0.98111217, 0.01888783],\n",
       "       [0.99521279, 0.00478721],\n",
       "       [0.97504959, 0.02495041],\n",
       "       [0.96063719, 0.03936281],\n",
       "       [0.99241644, 0.00758356],\n",
       "       [0.99491014, 0.00508986],\n",
       "       [0.98579298, 0.01420702],\n",
       "       [0.97248138, 0.02751862],\n",
       "       [0.9049756 , 0.0950244 ],\n",
       "       [0.87886866, 0.12113134]])"
      ]
     },
     "execution_count": 24,
     "metadata": {},
     "output_type": "execute_result"
    }
   ],
   "source": [
    "gcv.predict_proba(X)[70:100]"
   ]
  },
  {
   "cell_type": "code",
   "execution_count": 25,
   "metadata": {},
   "outputs": [],
   "source": [
    "pred_list = {}\n",
    "pred_list['lgb'] = gcv.predict_proba(X)[:,1]\n"
   ]
  },
  {
   "cell_type": "code",
   "execution_count": 26,
   "metadata": {},
   "outputs": [
    {
     "data": {
      "text/plain": [
       "array([0.07973818, 0.01165357, 0.05432051, ..., 0.02536566, 0.05083446,\n",
       "       0.32856249])"
      ]
     },
     "execution_count": 26,
     "metadata": {},
     "output_type": "execute_result"
    }
   ],
   "source": [
    "y_pred = gcv.predict_proba(X_test)[:,1]\n",
    "y_pred"
   ]
  },
  {
   "cell_type": "code",
   "execution_count": 27,
   "metadata": {},
   "outputs": [
    {
     "data": {
      "text/plain": [
       "0.8471041391307783"
      ]
     },
     "execution_count": 27,
     "metadata": {},
     "output_type": "execute_result"
    }
   ],
   "source": [
    "roc_auc_score(y_test, y_pred)\n",
    "# 0.8456841121038058"
   ]
  },
  {
   "cell_type": "code",
   "execution_count": 28,
   "metadata": {},
   "outputs": [],
   "source": [
    "pred_list_test = {}\n",
    "pred_list_test['lgb'] = y_pred"
   ]
  },
  {
   "cell_type": "markdown",
   "metadata": {},
   "source": [
    "## XGBoost"
   ]
  },
  {
   "cell_type": "code",
   "execution_count": 29,
   "metadata": {},
   "outputs": [],
   "source": [
    "parameters = {\n",
    "    \"learning_rate\":[0.1,0.3,0.5],\n",
    "    \"max_depth\": [2,3,5,10],\n",
    "     \"subsample\":[0.5,0.8,0.9,1],\n",
    "     \"colsample_bytree\": [0.5,1.0],    \n",
    "}"
   ]
  },
  {
   "cell_type": "code",
   "execution_count": 30,
   "metadata": {},
   "outputs": [
    {
     "name": "stderr",
     "output_type": "stream",
     "text": [
      "C:\\Users\\yanai\\anaconda3\\lib\\site-packages\\xgboost\\sklearn.py:888: UserWarning: The use of label encoder in XGBClassifier is deprecated and will be removed in a future release. To remove this warning, do the following: 1) Pass option use_label_encoder=False when constructing XGBClassifier object; and 2) Encode your labels (y) as integers starting with 0, i.e. 0, 1, 2, ..., [num_class - 1].\n",
      "  warnings.warn(label_encoder_deprecation_msg, UserWarning)\n"
     ]
    },
    {
     "name": "stdout",
     "output_type": "stream",
     "text": [
      "[19:54:05] WARNING: C:/Users/Administrator/workspace/xgboost-win64_release_1.3.0/src/learner.cc:1061: Starting in XGBoost 1.3.0, the default evaluation metric used with the objective 'binary:logistic' was changed from 'error' to 'logloss'. Explicitly set eval_metric if you'd like to restore the old behavior.\n"
     ]
    },
    {
     "data": {
      "text/plain": [
       "GridSearchCV(cv=5, error_score=nan,\n",
       "             estimator=XGBClassifier(base_score=None, booster=None,\n",
       "                                     colsample_bylevel=None,\n",
       "                                     colsample_bynode=None,\n",
       "                                     colsample_bytree=None, gamma=None,\n",
       "                                     gpu_id=None, importance_type='gain',\n",
       "                                     interaction_constraints=None,\n",
       "                                     learning_rate=None, max_delta_step=None,\n",
       "                                     max_depth=None, min_child_weight=None,\n",
       "                                     missing=nan, monotone_constraints=None,\n",
       "                                     n_estim...\n",
       "                                     reg_lambda=None, scale_pos_weight=None,\n",
       "                                     subsample=None, tree_method=None,\n",
       "                                     use_label_encoder=True,\n",
       "                                     validate_parameters=None, verbosity=None),\n",
       "             iid='deprecated', n_jobs=-1,\n",
       "             param_grid={'colsample_bytree': [0.5, 1.0],\n",
       "                         'learning_rate': [0.1, 0.3, 0.5],\n",
       "                         'max_depth': [2, 3, 5, 10],\n",
       "                         'subsample': [0.5, 0.8, 0.9, 1]},\n",
       "             pre_dispatch='2*n_jobs', refit=True, return_train_score=True,\n",
       "             scoring='roc_auc', verbose=0)"
      ]
     },
     "execution_count": 30,
     "metadata": {},
     "output_type": "execute_result"
    }
   ],
   "source": [
    "xgb = XGBClassifier()\n",
    "\n",
    "gcv2 = GridSearchCV(xgb, parameters, cv=5, scoring=\"roc_auc\", n_jobs=-1, return_train_score=True)\n",
    "gcv2.fit(X, y)\n"
   ]
  },
  {
   "cell_type": "code",
   "execution_count": 31,
   "metadata": {},
   "outputs": [
    {
     "data": {
      "text/plain": [
       "{'colsample_bytree': 0.5, 'learning_rate': 0.3, 'max_depth': 3, 'subsample': 1}"
      ]
     },
     "execution_count": 31,
     "metadata": {},
     "output_type": "execute_result"
    }
   ],
   "source": [
    "gcv2.best_params_"
   ]
  },
  {
   "cell_type": "code",
   "execution_count": 32,
   "metadata": {},
   "outputs": [
    {
     "data": {
      "text/plain": [
       "([<matplotlib.axis.XTick at 0x184fd4cc308>,\n",
       "  <matplotlib.axis.XTick at 0x184fd4f05c8>,\n",
       "  <matplotlib.axis.XTick at 0x184fd4f0bc8>,\n",
       "  <matplotlib.axis.XTick at 0x184fd495488>],\n",
       " <a list of 4 Text xticklabel objects>)"
      ]
     },
     "execution_count": 32,
     "metadata": {},
     "output_type": "execute_result"
    },
    {
     "data": {
      "image/png": "[encoded data removed]",
      "text/plain": [
       "<Figure size 432x288 with 1 Axes>"
      ]
     },
     "metadata": {
      "needs_background": "light"
     },
     "output_type": "display_data"
    }
   ],
   "source": [
    "train_score = gcv2.cv_results_['mean_train_score']\n",
    "test_score = gcv2.cv_results_['mean_test_score']\n",
    "\n",
    "plt.plot(train_score)\n",
    "plt.plot(test_score)\n",
    "plt.xticks(range(0, len(gcv2.param_grid['max_depth'])), list(gcv2.param_grid['max_depth']))"
   ]
  },
  {
   "cell_type": "code",
   "execution_count": 33,
   "metadata": {},
   "outputs": [],
   "source": [
    "pred_list['xgb'] = gcv2.predict_proba(X)[:,1]"
   ]
  },
  {
   "cell_type": "code",
   "execution_count": 34,
   "metadata": {},
   "outputs": [
    {
     "data": {
      "text/plain": [
       "array([0.05985259, 0.00354495, 0.04834737, ..., 0.01401991, 0.04714927,\n",
       "       0.32444254], dtype=float32)"
      ]
     },
     "execution_count": 34,
     "metadata": {},
     "output_type": "execute_result"
    }
   ],
   "source": [
    "y_pred2 = gcv2.predict_proba(X_test)[:,1]\n",
    "y_pred2"
   ]
  },
  {
   "cell_type": "code",
   "execution_count": 35,
   "metadata": {},
   "outputs": [
    {
     "data": {
      "text/plain": [
       "0.8514759909497124"
      ]
     },
     "execution_count": 35,
     "metadata": {},
     "output_type": "execute_result"
    }
   ],
   "source": [
    "roc_auc_score(y_test, y_pred2)\n",
    "# 0.8465594251123711"
   ]
  },
  {
   "cell_type": "code",
   "execution_count": 36,
   "metadata": {},
   "outputs": [],
   "source": [
    "pred_list_test['xgb'] = y_pred2"
   ]
  },
  {
   "cell_type": "markdown",
   "metadata": {},
   "source": [
    "## LogisticRegression"
   ]
  },
  {
   "cell_type": "code",
   "execution_count": 37,
   "metadata": {},
   "outputs": [
    {
     "data": {
      "text/plain": [
       "LogisticRegression(C=1.0, class_weight=None, dual=False, fit_intercept=True,\n",
       "                   intercept_scaling=1, l1_ratio=None, max_iter=100,\n",
       "                   multi_class='auto', n_jobs=None, penalty='l2',\n",
       "                   random_state=None, solver='lbfgs', tol=0.0001, verbose=0,\n",
       "                   warm_start=False)"
      ]
     },
     "execution_count": 37,
     "metadata": {},
     "output_type": "execute_result"
    }
   ],
   "source": [
    "gcv3 = LogisticRegression()\n",
    "\n",
    "gcv3.fit(X, y)\n"
   ]
  },
  {
   "cell_type": "code",
   "execution_count": 38,
   "metadata": {},
   "outputs": [
    {
     "data": {
      "text/plain": [
       "{'lgb': array([0.00470889, 0.02198604, 0.31679198, ..., 0.08396603, 0.03355767,\n",
       "        0.03315842]),\n",
       " 'xgb': array([0.00356331, 0.0109377 , 0.34164712, ..., 0.09050049, 0.02929658,\n",
       "        0.02884594], dtype=float32),\n",
       " 'logistic': array([0.03765994, 0.03348983, 0.27168502, ..., 0.17384506, 0.01905472,\n",
       "        0.04958183])}"
      ]
     },
     "execution_count": 38,
     "metadata": {},
     "output_type": "execute_result"
    }
   ],
   "source": [
    "pred_list['logistic'] = gcv3.predict_proba(X)[:,1]\n",
    "pred_list"
   ]
  },
  {
   "cell_type": "code",
   "execution_count": 39,
   "metadata": {},
   "outputs": [
    {
     "data": {
      "text/plain": [
       "array([0.07579774, 0.031406  , 0.03865054, ..., 0.02315975, 0.02580815,\n",
       "       0.04051947])"
      ]
     },
     "execution_count": 39,
     "metadata": {},
     "output_type": "execute_result"
    }
   ],
   "source": [
    "y_pred3 = gcv3.predict_proba(X_test)[:,1]\n",
    "y_pred3"
   ]
  },
  {
   "cell_type": "code",
   "execution_count": 40,
   "metadata": {},
   "outputs": [
    {
     "data": {
      "text/plain": [
       "0.7605951589804085"
      ]
     },
     "execution_count": 40,
     "metadata": {},
     "output_type": "execute_result"
    }
   ],
   "source": [
    "roc_auc_score(y_test, y_pred3)\n",
    "# 0.7605951589804085"
   ]
  },
  {
   "cell_type": "code",
   "execution_count": 41,
   "metadata": {},
   "outputs": [],
   "source": [
    "pred_list_test['logistic'] = y_pred3"
   ]
  },
  {
   "cell_type": "markdown",
   "metadata": {},
   "source": [
    "## Random Forest"
   ]
  },
  {
   "cell_type": "code",
   "execution_count": 42,
   "metadata": {},
   "outputs": [],
   "source": [
    "parameters = {\n",
    "    'max_depth': list(range(1, 20)),\n",
    "    'max_features': [1, 2, 3, 4, 5, 7, 10],\n",
    "}"
   ]
  },
  {
   "cell_type": "code",
   "execution_count": 43,
   "metadata": {},
   "outputs": [
    {
     "data": {
      "text/plain": [
       "GridSearchCV(cv=5, error_score=nan,\n",
       "             estimator=RandomForestClassifier(bootstrap=True, ccp_alpha=0.0,\n",
       "                                              class_weight=None,\n",
       "                                              criterion='gini', max_depth=None,\n",
       "                                              max_features='auto',\n",
       "                                              max_leaf_nodes=None,\n",
       "                                              max_samples=None,\n",
       "                                              min_impurity_decrease=0.0,\n",
       "                                              min_impurity_split=None,\n",
       "                                              min_samples_leaf=1,\n",
       "                                              min_samples_split=2,\n",
       "                                              min_weight_fraction_leaf=0.0,\n",
       "                                              n_estimators=100, n_jobs=None,\n",
       "                                              oob_score=False,\n",
       "                                              random_state=None, verbose=0,\n",
       "                                              warm_start=False),\n",
       "             iid='deprecated', n_jobs=-1,\n",
       "             param_grid={'max_depth': [1, 2, 3, 4, 5, 6, 7, 8, 9, 10, 11, 12,\n",
       "                                       13, 14, 15, 16, 17, 18, 19],\n",
       "                         'max_features': [1, 2, 3, 4, 5, 7, 10]},\n",
       "             pre_dispatch='2*n_jobs', refit=True, return_train_score=True,\n",
       "             scoring='roc_auc', verbose=0)"
      ]
     },
     "execution_count": 43,
     "metadata": {},
     "output_type": "execute_result"
    }
   ],
   "source": [
    "rf = RandomForestClassifier()\n",
    "\n",
    "gcv4 = GridSearchCV(rf, parameters, cv=5, scoring=\"roc_auc\", n_jobs=-1, return_train_score=True)\n",
    "gcv4.fit(X, y)\n"
   ]
  },
  {
   "cell_type": "code",
   "execution_count": 44,
   "metadata": {},
   "outputs": [
    {
     "data": {
      "text/plain": [
       "{'max_depth': 15, 'max_features': 3}"
      ]
     },
     "execution_count": 44,
     "metadata": {},
     "output_type": "execute_result"
    }
   ],
   "source": [
    "gcv4.best_params_"
   ]
  },
  {
   "cell_type": "code",
   "execution_count": 45,
   "metadata": {},
   "outputs": [
    {
     "data": {
      "text/plain": [
       "([<matplotlib.axis.XTick at 0x184fd787808>,\n",
       "  <matplotlib.axis.XTick at 0x184fd429f88>,\n",
       "  <matplotlib.axis.XTick at 0x184fd4b6d88>,\n",
       "  <matplotlib.axis.XTick at 0x184fd7a2c48>,\n",
       "  <matplotlib.axis.XTick at 0x184fd7919c8>,\n",
       "  <matplotlib.axis.XTick at 0x184fd7916c8>,\n",
       "  <matplotlib.axis.XTick at 0x184fd716208>,\n",
       "  <matplotlib.axis.XTick at 0x184fd716488>,\n",
       "  <matplotlib.axis.XTick at 0x184fd77fdc8>,\n",
       "  <matplotlib.axis.XTick at 0x184fd475848>,\n",
       "  <matplotlib.axis.XTick at 0x184fd4e8048>,\n",
       "  <matplotlib.axis.XTick at 0x184fd5210c8>,\n",
       "  <matplotlib.axis.XTick at 0x184fd521888>,\n",
       "  <matplotlib.axis.XTick at 0x184fd7aa0c8>,\n",
       "  <matplotlib.axis.XTick at 0x184fd4db948>,\n",
       "  <matplotlib.axis.XTick at 0x184fd4d7088>,\n",
       "  <matplotlib.axis.XTick at 0x184fd7aaa48>,\n",
       "  <matplotlib.axis.XTick at 0x184fd778ec8>,\n",
       "  <matplotlib.axis.XTick at 0x184fdbd3388>],\n",
       " <a list of 19 Text xticklabel objects>)"
      ]
     },
     "execution_count": 45,
     "metadata": {},
     "output_type": "execute_result"
    },
    {
     "data": {
      "image/png": "[encoded data removed]",
      "text/plain": [
       "<Figure size 432x288 with 1 Axes>"
      ]
     },
     "metadata": {
      "needs_background": "light"
     },
     "output_type": "display_data"
    }
   ],
   "source": [
    "train_score = gcv4.cv_results_['mean_train_score']\n",
    "test_score = gcv4.cv_results_['mean_test_score']\n",
    "\n",
    "plt.plot(train_score)\n",
    "plt.plot(test_score)\n",
    "plt.xticks(range(0, len(gcv4.param_grid['max_depth'])), list(gcv4.param_grid['max_depth']))"
   ]
  },
  {
   "cell_type": "code",
   "execution_count": 46,
   "metadata": {},
   "outputs": [],
   "source": [
    "pred_list['rf'] = gcv4.predict_proba(X)[:,1]"
   ]
  },
  {
   "cell_type": "code",
   "execution_count": 47,
   "metadata": {},
   "outputs": [
    {
     "data": {
      "text/plain": [
       "array([0.06614025, 0.00461935, 0.13043334, ..., 0.0282606 , 0.07575528,\n",
       "       0.19278017])"
      ]
     },
     "execution_count": 47,
     "metadata": {},
     "output_type": "execute_result"
    }
   ],
   "source": [
    "y_pred4 = gcv4.predict_proba(X_test)[:,1]\n",
    "y_pred4"
   ]
  },
  {
   "cell_type": "code",
   "execution_count": 48,
   "metadata": {},
   "outputs": [
    {
     "data": {
      "text/plain": [
       "0.8252765259679561"
      ]
     },
     "execution_count": 48,
     "metadata": {},
     "output_type": "execute_result"
    }
   ],
   "source": [
    "roc_auc_score(y_test, y_pred4)\n",
    "# 0.8195972033973815"
   ]
  },
  {
   "cell_type": "code",
   "execution_count": 49,
   "metadata": {},
   "outputs": [],
   "source": [
    "pred_list_test['rf'] = y_pred4"
   ]
  },
  {
   "cell_type": "markdown",
   "metadata": {},
   "source": [
    "## Desicion Tree"
   ]
  },
  {
   "cell_type": "code",
   "execution_count": 50,
   "metadata": {},
   "outputs": [],
   "source": [
    "parameters = {\n",
    "    'max_depth': list(range(1, 20)),\n",
    "}"
   ]
  },
  {
   "cell_type": "code",
   "execution_count": 51,
   "metadata": {},
   "outputs": [
    {
     "data": {
      "text/plain": [
       "GridSearchCV(cv=5, error_score=nan,\n",
       "             estimator=DecisionTreeClassifier(ccp_alpha=0.0, class_weight=None,\n",
       "                                              criterion='gini', max_depth=None,\n",
       "                                              max_features=None,\n",
       "                                              max_leaf_nodes=None,\n",
       "                                              min_impurity_decrease=0.0,\n",
       "                                              min_impurity_split=None,\n",
       "                                              min_samples_leaf=1,\n",
       "                                              min_samples_split=2,\n",
       "                                              min_weight_fraction_leaf=0.0,\n",
       "                                              presort='deprecated',\n",
       "                                              random_state=None,\n",
       "                                              splitter='best'),\n",
       "             iid='deprecated', n_jobs=-1,\n",
       "             param_grid={'max_depth': [1, 2, 3, 4, 5, 6, 7, 8, 9, 10, 11, 12,\n",
       "                                       13, 14, 15, 16, 17, 18, 19]},\n",
       "             pre_dispatch='2*n_jobs', refit=True, return_train_score=True,\n",
       "             scoring='roc_auc', verbose=0)"
      ]
     },
     "execution_count": 51,
     "metadata": {},
     "output_type": "execute_result"
    }
   ],
   "source": [
    "dt = DecisionTreeClassifier()\n",
    "\n",
    "gcv5 = GridSearchCV(dt, parameters, cv=5, scoring=\"roc_auc\", n_jobs=-1, return_train_score=True)\n",
    "gcv5.fit(X, y)\n"
   ]
  },
  {
   "cell_type": "code",
   "execution_count": 52,
   "metadata": {},
   "outputs": [
    {
     "data": {
      "text/plain": [
       "{'max_depth': 6}"
      ]
     },
     "execution_count": 52,
     "metadata": {},
     "output_type": "execute_result"
    }
   ],
   "source": [
    "gcv5.best_params_"
   ]
  },
  {
   "cell_type": "code",
   "execution_count": 53,
   "metadata": {},
   "outputs": [
    {
     "data": {
      "text/plain": [
       "([<matplotlib.axis.XTick at 0x184fd514908>,\n",
       "  <matplotlib.axis.XTick at 0x184fdfdc1c8>,\n",
       "  <matplotlib.axis.XTick at 0x184fdfdadc8>,\n",
       "  <matplotlib.axis.XTick at 0x184fdff9188>,\n",
       "  <matplotlib.axis.XTick at 0x184fdff98c8>,\n",
       "  <matplotlib.axis.XTick at 0x184fdffe288>,\n",
       "  <matplotlib.axis.XTick at 0x184fdffeb48>,\n",
       "  <matplotlib.axis.XTick at 0x184fe001448>,\n",
       "  <matplotlib.axis.XTick at 0x184fdffec48>,\n",
       "  <matplotlib.axis.XTick at 0x184fe005208>,\n",
       "  <matplotlib.axis.XTick at 0x184fe005ac8>,\n",
       "  <matplotlib.axis.XTick at 0x184fe0085c8>,\n",
       "  <matplotlib.axis.XTick at 0x184fe00d1c8>,\n",
       "  <matplotlib.axis.XTick at 0x184fe00dc88>,\n",
       "  <matplotlib.axis.XTick at 0x184fe011808>,\n",
       "  <matplotlib.axis.XTick at 0x184fe015388>,\n",
       "  <matplotlib.axis.XTick at 0x184fe015d88>,\n",
       "  <matplotlib.axis.XTick at 0x184fe011888>,\n",
       "  <matplotlib.axis.XTick at 0x184fe0187c8>],\n",
       " <a list of 19 Text xticklabel objects>)"
      ]
     },
     "execution_count": 53,
     "metadata": {},
     "output_type": "execute_result"
    },
    {
     "data": {
      "image/png": "[encoded data removed]",
      "text/plain": [
       "<Figure size 432x288 with 1 Axes>"
      ]
     },
     "metadata": {
      "needs_background": "light"
     },
     "output_type": "display_data"
    }
   ],
   "source": [
    "train_score = gcv5.cv_results_['mean_train_score']\n",
    "test_score = gcv5.cv_results_['mean_test_score']\n",
    "\n",
    "plt.plot(train_score)\n",
    "plt.plot(test_score)\n",
    "plt.xticks(range(0, len(gcv5.param_grid['max_depth'])), list(gcv5.param_grid['max_depth']))"
   ]
  },
  {
   "cell_type": "code",
   "execution_count": 54,
   "metadata": {},
   "outputs": [],
   "source": [
    "pred_list['dt'] = gcv5.predict_proba(X)[:,1]"
   ]
  },
  {
   "cell_type": "code",
   "execution_count": 55,
   "metadata": {},
   "outputs": [
    {
     "data": {
      "text/plain": [
       "array([0.19736842, 0.00507072, 0.04099787, ..., 0.04099787, 0.04099787,\n",
       "       0.04099787])"
      ]
     },
     "execution_count": 55,
     "metadata": {},
     "output_type": "execute_result"
    }
   ],
   "source": [
    "y_pred5 = gcv5.predict_proba(X_test)[:,1]\n",
    "y_pred5"
   ]
  },
  {
   "cell_type": "code",
   "execution_count": 56,
   "metadata": {},
   "outputs": [
    {
     "data": {
      "text/plain": [
       "0.7633673201663813"
      ]
     },
     "execution_count": 56,
     "metadata": {},
     "output_type": "execute_result"
    }
   ],
   "source": [
    "roc_auc_score(y_test, y_pred5)\n",
    "# 0.765314891610439"
   ]
  },
  {
   "cell_type": "code",
   "execution_count": 57,
   "metadata": {},
   "outputs": [],
   "source": [
    "pred_list_test['dt'] = y_pred5"
   ]
  },
  {
   "cell_type": "markdown",
   "metadata": {},
   "source": [
    "## Stacking(Random Forest)"
   ]
  },
  {
   "cell_type": "code",
   "execution_count": 58,
   "metadata": {},
   "outputs": [],
   "source": [
    "# sel_col = ['lgb', 'xgb', 'logistic', 'rf', 'dt']\n",
    "\n",
    "sel_col = ['lgb', 'xgb', 'rf']"
   ]
  },
  {
   "cell_type": "code",
   "execution_count": 59,
   "metadata": {},
   "outputs": [
    {
     "data": {
      "text/html": [
       "<div>\n",
       "<style scoped>\n",
       "    .dataframe tbody tr th:only-of-type {\n",
       "        vertical-align: middle;\n",
       "    }\n",
       "\n",
       "    .dataframe tbody tr th {\n",
       "        vertical-align: top;\n",
       "    }\n",
       "\n",
       "    .dataframe thead th {\n",
       "        text-align: right;\n",
       "    }\n",
       "</style>\n",
       "<table border=\"1\" class=\"dataframe\">\n",
       "  <thead>\n",
       "    <tr style=\"text-align: right;\">\n",
       "      <th></th>\n",
       "      <th>lgb</th>\n",
       "      <th>xgb</th>\n",
       "      <th>rf</th>\n",
       "    </tr>\n",
       "  </thead>\n",
       "  <tbody>\n",
       "    <tr>\n",
       "      <th>0</th>\n",
       "      <td>0.004709</td>\n",
       "      <td>0.003563</td>\n",
       "      <td>0.001603</td>\n",
       "    </tr>\n",
       "    <tr>\n",
       "      <th>1</th>\n",
       "      <td>0.021986</td>\n",
       "      <td>0.010938</td>\n",
       "      <td>0.012014</td>\n",
       "    </tr>\n",
       "    <tr>\n",
       "      <th>2</th>\n",
       "      <td>0.316792</td>\n",
       "      <td>0.341647</td>\n",
       "      <td>0.335118</td>\n",
       "    </tr>\n",
       "    <tr>\n",
       "      <th>3</th>\n",
       "      <td>0.052027</td>\n",
       "      <td>0.064344</td>\n",
       "      <td>0.039605</td>\n",
       "    </tr>\n",
       "    <tr>\n",
       "      <th>4</th>\n",
       "      <td>0.005305</td>\n",
       "      <td>0.003110</td>\n",
       "      <td>0.001172</td>\n",
       "    </tr>\n",
       "    <tr>\n",
       "      <th>...</th>\n",
       "      <td>...</td>\n",
       "      <td>...</td>\n",
       "      <td>...</td>\n",
       "    </tr>\n",
       "    <tr>\n",
       "      <th>18965</th>\n",
       "      <td>0.062995</td>\n",
       "      <td>0.059195</td>\n",
       "      <td>0.037418</td>\n",
       "    </tr>\n",
       "    <tr>\n",
       "      <th>18966</th>\n",
       "      <td>0.109896</td>\n",
       "      <td>0.100834</td>\n",
       "      <td>0.015425</td>\n",
       "    </tr>\n",
       "    <tr>\n",
       "      <th>18967</th>\n",
       "      <td>0.083966</td>\n",
       "      <td>0.090500</td>\n",
       "      <td>0.022662</td>\n",
       "    </tr>\n",
       "    <tr>\n",
       "      <th>18968</th>\n",
       "      <td>0.033558</td>\n",
       "      <td>0.029297</td>\n",
       "      <td>0.006774</td>\n",
       "    </tr>\n",
       "    <tr>\n",
       "      <th>18969</th>\n",
       "      <td>0.033158</td>\n",
       "      <td>0.028846</td>\n",
       "      <td>0.050272</td>\n",
       "    </tr>\n",
       "  </tbody>\n",
       "</table>\n",
       "<p>18970 rows × 3 columns</p>\n",
       "</div>"
      ],
      "text/plain": [
       "            lgb       xgb        rf\n",
       "0      0.004709  0.003563  0.001603\n",
       "1      0.021986  0.010938  0.012014\n",
       "2      0.316792  0.341647  0.335118\n",
       "3      0.052027  0.064344  0.039605\n",
       "4      0.005305  0.003110  0.001172\n",
       "...         ...       ...       ...\n",
       "18965  0.062995  0.059195  0.037418\n",
       "18966  0.109896  0.100834  0.015425\n",
       "18967  0.083966  0.090500  0.022662\n",
       "18968  0.033558  0.029297  0.006774\n",
       "18969  0.033158  0.028846  0.050272\n",
       "\n",
       "[18970 rows x 3 columns]"
      ]
     },
     "execution_count": 59,
     "metadata": {},
     "output_type": "execute_result"
    }
   ],
   "source": [
    "pred_df = pd.DataFrame(pred_list)\n",
    "pred_df[sel_col]"
   ]
  },
  {
   "cell_type": "code",
   "execution_count": 60,
   "metadata": {},
   "outputs": [
    {
     "data": {
      "text/html": [
       "<div>\n",
       "<style scoped>\n",
       "    .dataframe tbody tr th:only-of-type {\n",
       "        vertical-align: middle;\n",
       "    }\n",
       "\n",
       "    .dataframe tbody tr th {\n",
       "        vertical-align: top;\n",
       "    }\n",
       "\n",
       "    .dataframe thead th {\n",
       "        text-align: right;\n",
       "    }\n",
       "</style>\n",
       "<table border=\"1\" class=\"dataframe\">\n",
       "  <thead>\n",
       "    <tr style=\"text-align: right;\">\n",
       "      <th></th>\n",
       "      <th>lgb</th>\n",
       "      <th>xgb</th>\n",
       "      <th>rf</th>\n",
       "    </tr>\n",
       "  </thead>\n",
       "  <tbody>\n",
       "    <tr>\n",
       "      <th>0</th>\n",
       "      <td>0.079738</td>\n",
       "      <td>0.059853</td>\n",
       "      <td>0.066140</td>\n",
       "    </tr>\n",
       "    <tr>\n",
       "      <th>1</th>\n",
       "      <td>0.011654</td>\n",
       "      <td>0.003545</td>\n",
       "      <td>0.004619</td>\n",
       "    </tr>\n",
       "    <tr>\n",
       "      <th>2</th>\n",
       "      <td>0.054321</td>\n",
       "      <td>0.048347</td>\n",
       "      <td>0.130433</td>\n",
       "    </tr>\n",
       "    <tr>\n",
       "      <th>3</th>\n",
       "      <td>0.139192</td>\n",
       "      <td>0.138751</td>\n",
       "      <td>0.096329</td>\n",
       "    </tr>\n",
       "    <tr>\n",
       "      <th>4</th>\n",
       "      <td>0.013345</td>\n",
       "      <td>0.011991</td>\n",
       "      <td>0.010580</td>\n",
       "    </tr>\n",
       "    <tr>\n",
       "      <th>...</th>\n",
       "      <td>...</td>\n",
       "      <td>...</td>\n",
       "      <td>...</td>\n",
       "    </tr>\n",
       "    <tr>\n",
       "      <th>8125</th>\n",
       "      <td>0.062763</td>\n",
       "      <td>0.067413</td>\n",
       "      <td>0.065269</td>\n",
       "    </tr>\n",
       "    <tr>\n",
       "      <th>8126</th>\n",
       "      <td>0.056340</td>\n",
       "      <td>0.086656</td>\n",
       "      <td>0.165269</td>\n",
       "    </tr>\n",
       "    <tr>\n",
       "      <th>8127</th>\n",
       "      <td>0.025366</td>\n",
       "      <td>0.014020</td>\n",
       "      <td>0.028261</td>\n",
       "    </tr>\n",
       "    <tr>\n",
       "      <th>8128</th>\n",
       "      <td>0.050834</td>\n",
       "      <td>0.047149</td>\n",
       "      <td>0.075755</td>\n",
       "    </tr>\n",
       "    <tr>\n",
       "      <th>8129</th>\n",
       "      <td>0.328562</td>\n",
       "      <td>0.324443</td>\n",
       "      <td>0.192780</td>\n",
       "    </tr>\n",
       "  </tbody>\n",
       "</table>\n",
       "<p>8130 rows × 3 columns</p>\n",
       "</div>"
      ],
      "text/plain": [
       "           lgb       xgb        rf\n",
       "0     0.079738  0.059853  0.066140\n",
       "1     0.011654  0.003545  0.004619\n",
       "2     0.054321  0.048347  0.130433\n",
       "3     0.139192  0.138751  0.096329\n",
       "4     0.013345  0.011991  0.010580\n",
       "...        ...       ...       ...\n",
       "8125  0.062763  0.067413  0.065269\n",
       "8126  0.056340  0.086656  0.165269\n",
       "8127  0.025366  0.014020  0.028261\n",
       "8128  0.050834  0.047149  0.075755\n",
       "8129  0.328562  0.324443  0.192780\n",
       "\n",
       "[8130 rows x 3 columns]"
      ]
     },
     "execution_count": 60,
     "metadata": {},
     "output_type": "execute_result"
    }
   ],
   "source": [
    "pred_df_test = pd.DataFrame(pred_list_test)\n",
    "pred_df_test[sel_col]"
   ]
  },
  {
   "cell_type": "markdown",
   "metadata": {},
   "source": [
    "### RandomForest"
   ]
  },
  {
   "cell_type": "code",
   "execution_count": 61,
   "metadata": {},
   "outputs": [],
   "source": [
    "parameters = {\n",
    "    'max_depth': list(range(1, 20)),\n",
    "    'max_features': [1, 2, 3, 4, 5, 7, 10],\n",
    "}"
   ]
  },
  {
   "cell_type": "code",
   "execution_count": 62,
   "metadata": {},
   "outputs": [
    {
     "data": {
      "text/plain": [
       "GridSearchCV(cv=5, error_score=nan,\n",
       "             estimator=RandomForestClassifier(bootstrap=True, ccp_alpha=0.0,\n",
       "                                              class_weight=None,\n",
       "                                              criterion='gini', max_depth=None,\n",
       "                                              max_features='auto',\n",
       "                                              max_leaf_nodes=None,\n",
       "                                              max_samples=None,\n",
       "                                              min_impurity_decrease=0.0,\n",
       "                                              min_impurity_split=None,\n",
       "                                              min_samples_leaf=1,\n",
       "                                              min_samples_split=2,\n",
       "                                              min_weight_fraction_leaf=0.0,\n",
       "                                              n_estimators=100, n_jobs=None,\n",
       "                                              oob_score=False,\n",
       "                                              random_state=None, verbose=0,\n",
       "                                              warm_start=False),\n",
       "             iid='deprecated', n_jobs=-1,\n",
       "             param_grid={'max_depth': [1, 2, 3, 4, 5, 6, 7, 8, 9, 10, 11, 12,\n",
       "                                       13, 14, 15, 16, 17, 18, 19],\n",
       "                         'max_features': [1, 2, 3, 4, 5, 7, 10]},\n",
       "             pre_dispatch='2*n_jobs', refit=True, return_train_score=True,\n",
       "             scoring='roc_auc', verbose=0)"
      ]
     },
     "execution_count": 62,
     "metadata": {},
     "output_type": "execute_result"
    }
   ],
   "source": [
    "gcv_st1 = GridSearchCV(rf, parameters, cv=5, scoring=\"roc_auc\", n_jobs=-1, return_train_score=True)\n",
    "gcv_st1.fit(pred_df[sel_col], y)"
   ]
  },
  {
   "cell_type": "code",
   "execution_count": 63,
   "metadata": {},
   "outputs": [
    {
     "data": {
      "text/plain": [
       "array([1.78017843e-03, 1.74177343e-05, 3.81234567e-01, ...,\n",
       "       2.88885713e-05, 2.37973559e-03, 2.57570484e-02])"
      ]
     },
     "execution_count": 63,
     "metadata": {},
     "output_type": "execute_result"
    }
   ],
   "source": [
    "y_pred_st1 = gcv_st1.predict_proba(pred_df_test[sel_col])[:,1]\n",
    "y_pred_st1"
   ]
  },
  {
   "cell_type": "code",
   "execution_count": 64,
   "metadata": {},
   "outputs": [
    {
     "data": {
      "text/plain": [
       "0.8078053905366095"
      ]
     },
     "execution_count": 64,
     "metadata": {},
     "output_type": "execute_result"
    }
   ],
   "source": [
    "roc_auc_score(y_test, y_pred_st1)"
   ]
  },
  {
   "cell_type": "markdown",
   "metadata": {},
   "source": [
    "### LightGBM"
   ]
  },
  {
   "cell_type": "code",
   "execution_count": 65,
   "metadata": {},
   "outputs": [],
   "source": [
    "parameters = {\n",
    "    'max_depth': list(range(1, 20)),\n",
    "    'feature_fraction': [1, 2, 3, 4, 5, 7, 10],\n",
    "}"
   ]
  },
  {
   "cell_type": "code",
   "execution_count": 66,
   "metadata": {},
   "outputs": [
    {
     "name": "stdout",
     "output_type": "stream",
     "text": [
      "[LightGBM] [Warning] feature_fraction is set=1, colsample_bytree=1.0 will be ignored. Current value: feature_fraction=1\n"
     ]
    },
    {
     "data": {
      "text/plain": [
       "GridSearchCV(cv=5, error_score=nan,\n",
       "             estimator=LGBMClassifier(boosting_type='gbdt', class_weight=None,\n",
       "                                      colsample_bytree=1.0,\n",
       "                                      importance_type='split',\n",
       "                                      learning_rate=0.1, max_depth=-1,\n",
       "                                      min_child_samples=20,\n",
       "                                      min_child_weight=0.001,\n",
       "                                      min_split_gain=0.0, n_estimators=100,\n",
       "                                      n_jobs=-1, num_leaves=31, objective=None,\n",
       "                                      random_state=None, reg_alpha=0.0,\n",
       "                                      reg_lambda=0.0, silent=True,\n",
       "                                      subsample=1.0, subsample_for_bin=200000,\n",
       "                                      subsample_freq=0),\n",
       "             iid='deprecated', n_jobs=-1,\n",
       "             param_grid={'feature_fraction': [1, 2, 3, 4, 5, 7, 10],\n",
       "                         'max_depth': [1, 2, 3, 4, 5, 6, 7, 8, 9, 10, 11, 12,\n",
       "                                       13, 14, 15, 16, 17, 18, 19]},\n",
       "             pre_dispatch='2*n_jobs', refit=True, return_train_score=True,\n",
       "             scoring='roc_auc', verbose=0)"
      ]
     },
     "execution_count": 66,
     "metadata": {},
     "output_type": "execute_result"
    }
   ],
   "source": [
    "gcv_st2 = GridSearchCV(lgb, parameters, cv=5, scoring=\"roc_auc\", n_jobs=-1, return_train_score=True)\n",
    "gcv_st2.fit(pred_df[sel_col], y)"
   ]
  },
  {
   "cell_type": "code",
   "execution_count": 67,
   "metadata": {},
   "outputs": [
    {
     "data": {
      "text/plain": [
       "array([4.28010900e-03, 6.08475148e-05, 3.17902500e-01, ...,\n",
       "       3.61680962e-05, 6.68147367e-03, 2.49971881e-02])"
      ]
     },
     "execution_count": 67,
     "metadata": {},
     "output_type": "execute_result"
    }
   ],
   "source": [
    "y_pred_st2 = gcv_st2.predict_proba(pred_df_test[sel_col])[:,1]\n",
    "y_pred_st2"
   ]
  },
  {
   "cell_type": "code",
   "execution_count": 68,
   "metadata": {},
   "outputs": [
    {
     "data": {
      "text/plain": [
       "0.8039005967614766"
      ]
     },
     "execution_count": 68,
     "metadata": {},
     "output_type": "execute_result"
    }
   ],
   "source": [
    "roc_auc_score(y_test, y_pred_st2)"
   ]
  },
  {
   "cell_type": "markdown",
   "metadata": {},
   "source": [
    "### XGBoost"
   ]
  },
  {
   "cell_type": "code",
   "execution_count": 69,
   "metadata": {},
   "outputs": [],
   "source": [
    "parameters = {\n",
    "    'max_depth': list(range(1, 20)),\n",
    "    'colsample_bytree': [1, 2, 3, 4, 5, 7, 10],\n",
    "}"
   ]
  },
  {
   "cell_type": "code",
   "execution_count": null,
   "metadata": {},
   "outputs": [],
   "source": [
    "gcv_st3 = GridSearchCV(xgb, parameters, cv=5, scoring=\"roc_auc\", n_jobs=-1, return_train_score=True)\n",
    "gcv_st3.fit(pred_df[sel_col], y)"
   ]
  },
  {
   "cell_type": "code",
   "execution_count": null,
   "metadata": {},
   "outputs": [],
   "source": [
    "y_pred_st3 = gcv_st3.predict_proba(pred_df_test[sel_col])[:,1]\n",
    "y_pred_st3"
   ]
  },
  {
   "cell_type": "code",
   "execution_count": null,
   "metadata": {},
   "outputs": [],
   "source": [
    "roc_auc_score(y_test, y_pred_st3)"
   ]
  },
  {
   "cell_type": "code",
   "execution_count": null,
   "metadata": {},
   "outputs": [],
   "source": []
  },
  {
   "cell_type": "code",
   "execution_count": null,
   "metadata": {},
   "outputs": [],
   "source": []
  },
  {
   "cell_type": "code",
   "execution_count": null,
   "metadata": {},
   "outputs": [],
   "source": []
  },
  {
   "cell_type": "code",
   "execution_count": null,
   "metadata": {},
   "outputs": [],
   "source": []
  },
  {
   "cell_type": "code",
   "execution_count": null,
   "metadata": {},
   "outputs": [],
   "source": []
  },
  {
   "cell_type": "code",
   "execution_count": null,
   "metadata": {},
   "outputs": [],
   "source": []
  },
  {
   "cell_type": "code",
   "execution_count": null,
   "metadata": {},
   "outputs": [],
   "source": []
  },
  {
   "cell_type": "code",
   "execution_count": null,
   "metadata": {},
   "outputs": [],
   "source": []
  },
  {
   "cell_type": "code",
   "execution_count": null,
   "metadata": {},
   "outputs": [],
   "source": []
  },
  {
   "cell_type": "code",
   "execution_count": null,
   "metadata": {},
   "outputs": [],
   "source": []
  },
  {
   "cell_type": "code",
   "execution_count": null,
   "metadata": {},
   "outputs": [],
   "source": []
  },
  {
   "cell_type": "code",
   "execution_count": null,
   "metadata": {},
   "outputs": [],
   "source": []
  },
  {
   "cell_type": "code",
   "execution_count": null,
   "metadata": {},
   "outputs": [],
   "source": []
  },
  {
   "cell_type": "code",
   "execution_count": null,
   "metadata": {},
   "outputs": [],
   "source": []
  },
  {
   "cell_type": "code",
   "execution_count": null,
   "metadata": {},
   "outputs": [],
   "source": []
  },
  {
   "cell_type": "code",
   "execution_count": null,
   "metadata": {},
   "outputs": [],
   "source": []
  },
  {
   "cell_type": "code",
   "execution_count": null,
   "metadata": {},
   "outputs": [],
   "source": []
  },
  {
   "cell_type": "code",
   "execution_count": null,
   "metadata": {},
   "outputs": [],
   "source": []
  },
  {
   "cell_type": "code",
   "execution_count": null,
   "metadata": {},
   "outputs": [],
   "source": []
  },
  {
   "cell_type": "code",
   "execution_count": null,
   "metadata": {},
   "outputs": [],
   "source": []
  },
  {
   "cell_type": "code",
   "execution_count": null,
   "metadata": {},
   "outputs": [],
   "source": []
  },
  {
   "cell_type": "code",
   "execution_count": null,
   "metadata": {},
   "outputs": [],
   "source": []
  },
  {
   "cell_type": "code",
   "execution_count": null,
   "metadata": {},
   "outputs": [],
   "source": []
  },
  {
   "cell_type": "markdown",
   "metadata": {},
   "source": [
    "# Test Data Predict"
   ]
  },
  {
   "cell_type": "code",
   "execution_count": null,
   "metadata": {},
   "outputs": [],
   "source": []
  }
 ],
 "metadata": {
  "kernelspec": {
   "display_name": "Python 3",
   "language": "python",
   "name": "python3"
  },
  "language_info": {
   "codemirror_mode": {
    "name": "ipython",
    "version": 3
   },
   "file_extension": ".py",
   "mimetype": "text/x-python",
   "name": "python",
   "nbconvert_exporter": "python",
   "pygments_lexer": "ipython3",
   "version": "3.7.6"
  }
 },
 "nbformat": 4,
 "nbformat_minor": 4
}
